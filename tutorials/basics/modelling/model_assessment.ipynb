{
 "cells": [
  {
   "cell_type": "markdown",
   "metadata": {},
   "source": [
    "# Model assessment\n",
    "\n",
    "To assess the performance of the QSPR models, there are two methods available in `QSPRpred`\n",
    "from the [`assessment.methods`](https://cddleiden.github.io/QSPRpred/docs/api/qsprpred.models.html#module-qsprpred.models.assessment.methods) module:\n",
    "* CrossValAssessor: Performs cross validation on a dataset\n",
    "* TestSetAssessor: Performs predictions on a test set\n",
    "\n",
    "In this notebook, we will demonstrate how to use these methods.\n",
    "Let's start by loading the data and creating the model we want to assess."
   ]
  },
  {
   "cell_type": "code",
   "execution_count": 1,
   "metadata": {},
   "outputs": [
    {
     "data": {
      "text/html": [
       "<div>\n",
       "<style scoped>\n",
       "    .dataframe tbody tr th:only-of-type {\n",
       "        vertical-align: middle;\n",
       "    }\n",
       "\n",
       "    .dataframe tbody tr th {\n",
       "        vertical-align: top;\n",
       "    }\n",
       "\n",
       "    .dataframe thead th {\n",
       "        text-align: right;\n",
       "    }\n",
       "</style>\n",
       "<table border=\"1\" class=\"dataframe\">\n",
       "  <thead>\n",
       "    <tr style=\"text-align: right;\">\n",
       "      <th></th>\n",
       "      <th>SMILES</th>\n",
       "      <th>pchembl_value_Mean</th>\n",
       "      <th>Year</th>\n",
       "      <th>QSPRID</th>\n",
       "      <th>pchembl_value_Mean_original</th>\n",
       "    </tr>\n",
       "    <tr>\n",
       "      <th>QSPRID</th>\n",
       "      <th></th>\n",
       "      <th></th>\n",
       "      <th></th>\n",
       "      <th></th>\n",
       "      <th></th>\n",
       "    </tr>\n",
       "  </thead>\n",
       "  <tbody>\n",
       "    <tr>\n",
       "      <th>AssessmentTutorialDataset_0000</th>\n",
       "      <td>Cc1nn(-c2cc(NC(=O)CCN(C)C)nc(-c3ccc(C)o3)n2)c(...</td>\n",
       "      <td>8.68</td>\n",
       "      <td>2008.0</td>\n",
       "      <td>AssessmentTutorialDataset_0000</td>\n",
       "      <td>8.68</td>\n",
       "    </tr>\n",
       "    <tr>\n",
       "      <th>AssessmentTutorialDataset_0001</th>\n",
       "      <td>Nc1c(C(=O)Nc2ccc([N+](=O)[O-])cc2)sc2c1cc1CCCC...</td>\n",
       "      <td>4.82</td>\n",
       "      <td>2010.0</td>\n",
       "      <td>AssessmentTutorialDataset_0001</td>\n",
       "      <td>4.82</td>\n",
       "    </tr>\n",
       "    <tr>\n",
       "      <th>AssessmentTutorialDataset_0002</th>\n",
       "      <td>O=C(Nc1nc2ncccc2n2c(=O)n(-c3ccccc3)nc12)c1ccccc1</td>\n",
       "      <td>5.65</td>\n",
       "      <td>2009.0</td>\n",
       "      <td>AssessmentTutorialDataset_0002</td>\n",
       "      <td>5.65</td>\n",
       "    </tr>\n",
       "    <tr>\n",
       "      <th>AssessmentTutorialDataset_0003</th>\n",
       "      <td>CNC(=O)C12CC1C(n1cnc3c1nc(C#CCCCCC(=O)OC)nc3NC...</td>\n",
       "      <td>5.45</td>\n",
       "      <td>2009.0</td>\n",
       "      <td>AssessmentTutorialDataset_0003</td>\n",
       "      <td>5.45</td>\n",
       "    </tr>\n",
       "    <tr>\n",
       "      <th>AssessmentTutorialDataset_0004</th>\n",
       "      <td>CCCn1c(=O)c2c(nc3cc(OC)ccn32)n(CCCNC(=O)c2ccc(...</td>\n",
       "      <td>5.20</td>\n",
       "      <td>2019.0</td>\n",
       "      <td>AssessmentTutorialDataset_0004</td>\n",
       "      <td>5.20</td>\n",
       "    </tr>\n",
       "    <tr>\n",
       "      <th>...</th>\n",
       "      <td>...</td>\n",
       "      <td>...</td>\n",
       "      <td>...</td>\n",
       "      <td>...</td>\n",
       "      <td>...</td>\n",
       "    </tr>\n",
       "    <tr>\n",
       "      <th>AssessmentTutorialDataset_4077</th>\n",
       "      <td>CNc1ncc(C(=O)NCc2ccc(OC)cc2)c2nc(-c3ccco3)nn12</td>\n",
       "      <td>7.09</td>\n",
       "      <td>2018.0</td>\n",
       "      <td>AssessmentTutorialDataset_4077</td>\n",
       "      <td>7.09</td>\n",
       "    </tr>\n",
       "    <tr>\n",
       "      <th>AssessmentTutorialDataset_4078</th>\n",
       "      <td>Nc1nc(-c2ccco2)c2ncn(C(=O)NCCc3ccccc3)c2n1</td>\n",
       "      <td>8.22</td>\n",
       "      <td>2008.0</td>\n",
       "      <td>AssessmentTutorialDataset_4078</td>\n",
       "      <td>8.22</td>\n",
       "    </tr>\n",
       "    <tr>\n",
       "      <th>AssessmentTutorialDataset_4079</th>\n",
       "      <td>Nc1nc(Nc2ccc(F)cc2)nc(CSc2nnc(N)s2)n1</td>\n",
       "      <td>4.89</td>\n",
       "      <td>2010.0</td>\n",
       "      <td>AssessmentTutorialDataset_4079</td>\n",
       "      <td>4.89</td>\n",
       "    </tr>\n",
       "    <tr>\n",
       "      <th>AssessmentTutorialDataset_4080</th>\n",
       "      <td>CCCOc1ccc(C=Cc2cc3c(c(=O)n(C)c(=O)n3C)n2C)cc1</td>\n",
       "      <td>6.51</td>\n",
       "      <td>2013.0</td>\n",
       "      <td>AssessmentTutorialDataset_4080</td>\n",
       "      <td>6.51</td>\n",
       "    </tr>\n",
       "    <tr>\n",
       "      <th>AssessmentTutorialDataset_4081</th>\n",
       "      <td>CCOC(=O)c1cnc(NCC(C)C)n2nc(-c3ccco3)nc12</td>\n",
       "      <td>7.35</td>\n",
       "      <td>2014.0</td>\n",
       "      <td>AssessmentTutorialDataset_4081</td>\n",
       "      <td>7.35</td>\n",
       "    </tr>\n",
       "  </tbody>\n",
       "</table>\n",
       "<p>4082 rows × 5 columns</p>\n",
       "</div>"
      ],
      "text/plain": [
       "                                                                           SMILES  \\\n",
       "QSPRID                                                                              \n",
       "AssessmentTutorialDataset_0000  Cc1nn(-c2cc(NC(=O)CCN(C)C)nc(-c3ccc(C)o3)n2)c(...   \n",
       "AssessmentTutorialDataset_0001  Nc1c(C(=O)Nc2ccc([N+](=O)[O-])cc2)sc2c1cc1CCCC...   \n",
       "AssessmentTutorialDataset_0002   O=C(Nc1nc2ncccc2n2c(=O)n(-c3ccccc3)nc12)c1ccccc1   \n",
       "AssessmentTutorialDataset_0003  CNC(=O)C12CC1C(n1cnc3c1nc(C#CCCCCC(=O)OC)nc3NC...   \n",
       "AssessmentTutorialDataset_0004  CCCn1c(=O)c2c(nc3cc(OC)ccn32)n(CCCNC(=O)c2ccc(...   \n",
       "...                                                                           ...   \n",
       "AssessmentTutorialDataset_4077     CNc1ncc(C(=O)NCc2ccc(OC)cc2)c2nc(-c3ccco3)nn12   \n",
       "AssessmentTutorialDataset_4078         Nc1nc(-c2ccco2)c2ncn(C(=O)NCCc3ccccc3)c2n1   \n",
       "AssessmentTutorialDataset_4079              Nc1nc(Nc2ccc(F)cc2)nc(CSc2nnc(N)s2)n1   \n",
       "AssessmentTutorialDataset_4080      CCCOc1ccc(C=Cc2cc3c(c(=O)n(C)c(=O)n3C)n2C)cc1   \n",
       "AssessmentTutorialDataset_4081           CCOC(=O)c1cnc(NCC(C)C)n2nc(-c3ccco3)nc12   \n",
       "\n",
       "                                pchembl_value_Mean    Year  \\\n",
       "QSPRID                                                       \n",
       "AssessmentTutorialDataset_0000                8.68  2008.0   \n",
       "AssessmentTutorialDataset_0001                4.82  2010.0   \n",
       "AssessmentTutorialDataset_0002                5.65  2009.0   \n",
       "AssessmentTutorialDataset_0003                5.45  2009.0   \n",
       "AssessmentTutorialDataset_0004                5.20  2019.0   \n",
       "...                                            ...     ...   \n",
       "AssessmentTutorialDataset_4077                7.09  2018.0   \n",
       "AssessmentTutorialDataset_4078                8.22  2008.0   \n",
       "AssessmentTutorialDataset_4079                4.89  2010.0   \n",
       "AssessmentTutorialDataset_4080                6.51  2013.0   \n",
       "AssessmentTutorialDataset_4081                7.35  2014.0   \n",
       "\n",
       "                                                        QSPRID  \\\n",
       "QSPRID                                                           \n",
       "AssessmentTutorialDataset_0000  AssessmentTutorialDataset_0000   \n",
       "AssessmentTutorialDataset_0001  AssessmentTutorialDataset_0001   \n",
       "AssessmentTutorialDataset_0002  AssessmentTutorialDataset_0002   \n",
       "AssessmentTutorialDataset_0003  AssessmentTutorialDataset_0003   \n",
       "AssessmentTutorialDataset_0004  AssessmentTutorialDataset_0004   \n",
       "...                                                        ...   \n",
       "AssessmentTutorialDataset_4077  AssessmentTutorialDataset_4077   \n",
       "AssessmentTutorialDataset_4078  AssessmentTutorialDataset_4078   \n",
       "AssessmentTutorialDataset_4079  AssessmentTutorialDataset_4079   \n",
       "AssessmentTutorialDataset_4080  AssessmentTutorialDataset_4080   \n",
       "AssessmentTutorialDataset_4081  AssessmentTutorialDataset_4081   \n",
       "\n",
       "                                pchembl_value_Mean_original  \n",
       "QSPRID                                                       \n",
       "AssessmentTutorialDataset_0000                         8.68  \n",
       "AssessmentTutorialDataset_0001                         4.82  \n",
       "AssessmentTutorialDataset_0002                         5.65  \n",
       "AssessmentTutorialDataset_0003                         5.45  \n",
       "AssessmentTutorialDataset_0004                         5.20  \n",
       "...                                                     ...  \n",
       "AssessmentTutorialDataset_4077                         7.09  \n",
       "AssessmentTutorialDataset_4078                         8.22  \n",
       "AssessmentTutorialDataset_4079                         4.89  \n",
       "AssessmentTutorialDataset_4080                         6.51  \n",
       "AssessmentTutorialDataset_4081                         7.35  \n",
       "\n",
       "[4082 rows x 5 columns]"
      ]
     },
     "metadata": {},
     "output_type": "display_data"
    }
   ],
   "source": [
    "import os\n",
    "\n",
    "from IPython.display import display\n",
    "\n",
    "from qsprpred.data import QSPRDataset, RandomSplit\n",
    "from qsprpred.data.descriptors.fingerprints import MorganFP\n",
    "\n",
    "os.makedirs(\"../../tutorial_output/data\", exist_ok=True)\n",
    "\n",
    "dataset = QSPRDataset.fromTableFile(\n",
    "    filename=\"../../tutorial_data/A2A_LIGANDS.tsv\",\n",
    "    store_dir=\"../../tutorial_output/data\",\n",
    "    name=\"AssessmentTutorialDataset\",\n",
    "    target_props=[{\"name\": \"pchembl_value_Mean\", \"task\": \"REGRESSION\"}],\n",
    "    random_state=42\n",
    ")\n",
    "\n",
    "display(dataset.getDF())\n",
    "\n",
    "# calculate compound features and split dataset into train and test\n",
    "dataset.prepareDataset(\n",
    "    split=RandomSplit(test_fraction=0.2, dataset=dataset),\n",
    "    feature_calculators=[MorganFP(radius=3, nBits=2048)],\n",
    "    recalculate_features=True,\n",
    ")\n",
    "\n",
    "dataset.getDF().head()\n",
    "\n",
    "from qsprpred.models import SklearnModel\n",
    "from sklearn.neighbors import KNeighborsRegressor\n",
    "\n",
    "os.makedirs(\"../../tutorial_output/models\", exist_ok=True)\n",
    "\n",
    "# This is an SKlearn model, so we will initialize it with the SklearnModel class\n",
    "model = SklearnModel(\n",
    "    base_dir=\"../../tutorial_output/models\",\n",
    "    alg=KNeighborsRegressor,\n",
    "    name=\"AssessmentTutorialModel\",\n",
    ")"
   ]
  },
  {
   "cell_type": "markdown",
   "metadata": {},
   "source": [
    "## Cross-validation\n",
    "Now we will assess our model using cross-validation. We will use the `CrossValAssessor` class for this.\n",
    "The `CrossValAssessor` class takes a model as input and uses the attached dataset. The training dataset is split into a number of folds, and the model is trained on each fold. The performance of the model is then assessed on the fold that was not used for training,\n",
    "and the results are stored in a file `{model_name}_cv.tsv`.\n",
    "\n",
    "Note. if the dataset was not split into a train and a test set, the whole dataset is used for cross-validation.\n",
    "\n",
    "To score the performance of the model, we need to provide a scoring function to the `CrossValAssessor`. \n",
    "In most examples throughout these tutorials we will pass a string to use one of the predefined [sckikit learn scoring functions](https://scikit-learn.org/stable/modules/model_evaluation.html).\n",
    "\n"
   ]
  },
  {
   "cell_type": "code",
   "execution_count": 2,
   "metadata": {},
   "outputs": [
    {
     "name": "stderr",
     "output_type": "stream",
     "text": [
      "qsprpred - WARNING - Random state supplied, but alg <class 'sklearn.neighbors._regression.KNeighborsRegressor'> does not support it. Ignoring this setting.\n"
     ]
    },
    {
     "data": {
      "text/plain": [
       "array([0.63378212, 0.64599353, 0.67213109, 0.65261028, 0.57733319])"
      ]
     },
     "execution_count": 2,
     "metadata": {},
     "output_type": "execute_result"
    }
   ],
   "source": [
    "from qsprpred.models import CrossValAssessor\n",
    "\n",
    "# Create a CrossValAssessor object\n",
    "CrossValAssessor(\"r2\")(model, dataset)"
   ]
  },
  {
   "cell_type": "markdown",
   "metadata": {},
   "source": [
    "Internally, the ModelAssessor wraps the scikit learn scoring functions in the `SklearnMetrics` class, which converts QSPRpred model predictions to the format expected by scikit learn scoring functions.\n",
    "You can also explicitly pass a `SklearnMetrics` object to the `CrossValAssessor` and initialize with a string, as shown below:"
   ]
  },
  {
   "cell_type": "code",
   "execution_count": 3,
   "metadata": {},
   "outputs": [
    {
     "data": {
      "text/plain": [
       "array([0.63378212, 0.64599353, 0.67213109, 0.65261028, 0.57733319])"
      ]
     },
     "execution_count": 3,
     "metadata": {},
     "output_type": "execute_result"
    }
   ],
   "source": [
    "from qsprpred.models import CrossValAssessor\n",
    "from qsprpred.models import SklearnMetrics\n",
    "\n",
    "score_func = SklearnMetrics(\"r2\")\n",
    "\n",
    "# Create a CrossValAssessor object\n",
    "CrossValAssessor(score_func)(model, dataset)"
   ]
  },
  {
   "cell_type": "markdown",
   "metadata": {},
   "source": [
    "Or intialize the `SklearnMetrics` object with a scikit learn scoring function, as shown below:"
   ]
  },
  {
   "cell_type": "code",
   "execution_count": 4,
   "metadata": {},
   "outputs": [
    {
     "data": {
      "text/plain": [
       "array([0.63378212, 0.64599353, 0.67213109, 0.65261028, 0.57733319])"
      ]
     },
     "execution_count": 4,
     "metadata": {},
     "output_type": "execute_result"
    }
   ],
   "source": [
    "from sklearn.metrics import make_scorer, r2_score\n",
    "\n",
    "score_func = SklearnMetrics(make_scorer(r2_score))\n",
    "\n",
    "CrossValAssessor(score_func)(model, dataset)"
   ]
  },
  {
   "cell_type": "markdown",
   "metadata": {},
   "source": [
    "Furthermore, we can specify the splitting strategy. \n",
    "By default, the dataset is split into 5 folds using a shuffle split.\n",
    "You can find more information on how to split the data in the [data splitting tutorial](../data/data_splitting.ipynb).\n"
   ]
  },
  {
   "cell_type": "code",
   "execution_count": 5,
   "metadata": {},
   "outputs": [
    {
     "data": {
      "text/plain": [
       "array([0.63570264, 0.66704785, 0.63166829, 0.66808678, 0.61509333,\n",
       "       0.70523338, 0.62394155, 0.68179023, 0.54670711, 0.59884993])"
      ]
     },
     "execution_count": 5,
     "metadata": {},
     "output_type": "execute_result"
    }
   ],
   "source": [
    "from sklearn.model_selection import KFold\n",
    "\n",
    "split = KFold(n_splits=10, shuffle=True, random_state=dataset.randomState)\n",
    "CrossValAssessor(\"r2\", split=split)(model, dataset)"
   ]
  },
  {
   "cell_type": "markdown",
   "metadata": {},
   "source": [
    "## Test set validation\n",
    "To assess the performance of the model on the specified test set, we can use the `TestSetAssessor` class.\n",
    "It works in a similar way as the `CrossValAssessor`, but instead of splitting the dataset into folds, it uses the complete training set to train the model, and then uses the associated test set to assess the performance of the model.\n",
    "It therefore does not require a splitting strategy, but it does require a test set to have been defined in the dataset by performing an initial split during dataset preparation.\n",
    "The results are stored in a file `{model_name}.ind.tsv` (\"ind\" from independent test set)."
   ]
  },
  {
   "cell_type": "code",
   "execution_count": 6,
   "metadata": {},
   "outputs": [
    {
     "data": {
      "text/plain": [
       "array([0.6306765])"
      ]
     },
     "execution_count": 6,
     "metadata": {},
     "output_type": "execute_result"
    }
   ],
   "source": [
    "from qsprpred.models import TestSetAssessor\n",
    "\n",
    "TestSetAssessor(\"r2\")(model, dataset)"
   ]
  },
  {
   "cell_type": "markdown",
   "metadata": {},
   "source": [
    "## More information\n",
    "These two classes are subclasses of the `ModelAssessor` class, which contains the shared functionality.\n",
    "To customize the behavior of the assessors, you can create a subclass the `ModelAssessor` class.\n",
    "Furthermore, the `ModelAssessor` objects can be used to assess the model performance\n",
    "in hyperparameter optimization, as is shown in the [hyperparameter optimization tutorial](../../advanced/modelling/hyperparameter_optimization.ipynb)."
   ]
  }
 ],
 "metadata": {
  "kernelspec": {
   "display_name": "qsprpred",
   "language": "python",
   "name": "python3"
  },
  "language_info": {
   "codemirror_mode": {
    "name": "ipython",
    "version": 3
   },
   "file_extension": ".py",
   "mimetype": "text/x-python",
   "name": "python",
   "nbconvert_exporter": "python",
   "pygments_lexer": "ipython3",
   "version": "3.10.13"
  }
 },
 "nbformat": 4,
 "nbformat_minor": 2
}
