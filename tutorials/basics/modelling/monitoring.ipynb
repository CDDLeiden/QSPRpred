{
 "cells": [
  {
   "cell_type": "markdown",
   "metadata": {},
   "source": [
    "# Model training monitoring\n",
    "In this tutorial, we will focus on how to monitor the QSPRpred model training process.\n",
    "The main goal of this tutorial is to show how to use the `monitoring` module to monitor the model training process.\n",
    "The training steps themselves are not the focus of this tutorial, if you want to learn more about the training process, please refer to the [model_assessment.ipynb](model_assessment.ipynb) tutorial or the [hyperparameter_optimization.ipynb](../../advanced/modelling/hyperparameter_optimization.ipynb) tutorial.\n",
    "\n",
    "We will start by loading in the data and model we want to monitor."
   ]
  },
  {
   "cell_type": "code",
   "execution_count": null,
   "metadata": {},
   "outputs": [],
   "source": []
  }
 ],
 "metadata": {
  "language_info": {
   "name": "python"
  }
 },
 "nbformat": 4,
 "nbformat_minor": 2
}
