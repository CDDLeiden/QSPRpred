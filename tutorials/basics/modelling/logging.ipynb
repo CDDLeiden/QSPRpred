{
 "cells": [
  {
   "cell_type": "markdown",
   "metadata": {},
   "source": [
    "# Logging\n",
    "To keep track of what is happening in your code, you can use the provided logging module.\n",
    "Below you can see an example of how to use it."
   ]
  },
  {
   "cell_type": "code",
   "execution_count": 12,
   "metadata": {},
   "outputs": [],
   "source": [
    "# logging settings\n",
    "from qsprpred.logs.utils import enable_file_logger\n",
    "logSettings = enable_file_logger(\n",
    "    log_folder = '../../tutorial_output/',\n",
    "    filename = 'TutorialLogging.log',\n",
    "    debug = False,\n",
    "    disable_existing_loggers = False\n",
    ")"
   ]
  },
  {
   "cell_type": "markdown",
   "metadata": {},
   "source": [
    "A utility function is provided to save your conda environment to a file. This is useful if you want to share your code with others, or if you want to recreate your environment at a later time."
   ]
  },
  {
   "cell_type": "code",
   "execution_count": 13,
   "metadata": {},
   "outputs": [
    {
     "name": "stdout",
     "output_type": "stream",
     "text": [
      "Environment exported to ../../tutorial_output/TutorialLoggingEnvironment.yml successfully!\n"
     ]
    }
   ],
   "source": [
    "from qsprpred.logs.utils import export_conda_environment\n",
    "\n",
    "# save the environment to a yaml file\n",
    "export_conda_environment(\"../../tutorial_output/TutorialLoggingEnvironment.yml\")"
   ]
  },
  {
   "cell_type": "markdown",
   "metadata": {},
   "source": [
    "Below we run a standard data preparation and modelling workflow to show logging output."
   ]
  },
  {
   "cell_type": "code",
   "execution_count": 14,
   "metadata": {},
   "outputs": [],
   "source": [
    "# Standard data preparation\n",
    "import os\n",
    "from qsprpred.data.data import QSPRDataset\n",
    "from qsprpred.data.utils.descriptorsets import FingerprintSet\n",
    "from qsprpred.data.utils.descriptorcalculator import MoleculeDescriptorsCalculator\n",
    "from qsprpred.data.utils.datasplitters import RandomSplit\n",
    "\n",
    "os.makedirs(\"../../tutorial_output/data\", exist_ok=True)\n",
    "\n",
    "dataset = QSPRDataset.fromTableFile(\n",
    "  \tfilename='../../tutorial_data/A2A_LIGANDS.tsv', \n",
    "  \tstore_dir=\"../../tutorial_output/data\",\n",
    "  \tname=\"LoggingTutorialDataset\",\n",
    "  \ttarget_props=[{\"name\": \"pchembl_value_Mean\", \"task\": \"REGRESSION\"}],\n",
    "  \trandom_state=42\n",
    ")\n",
    "\n",
    "feature_calculator = MoleculeDescriptorsCalculator(\n",
    "    desc_sets = [FingerprintSet(fingerprint_type=\"MorganFP\", radius=3, nBits=2048)]\n",
    ")\n",
    "\n",
    "dataset.prepareDataset(\n",
    "    split=RandomSplit(test_fraction=0.2, dataset=dataset),\n",
    "    feature_calculators=[feature_calculator],\n",
    ")\n",
    "\n",
    "dataset.save()"
   ]
  },
  {
   "cell_type": "code",
   "execution_count": 15,
   "metadata": {},
   "outputs": [
    {
     "data": {
      "text/plain": [
       "'tutorial_output/models/TutorialLoggingModel/TutorialLoggingModel_meta.json'"
      ]
     },
     "execution_count": 15,
     "metadata": {},
     "output_type": "execute_result"
    }
   ],
   "source": [
    "# Standard model training\n",
    "from qsprpred.models.sklearn import SklearnModel\n",
    "from qsprpred.models.metrics import SklearnMetric\n",
    "from sklearn.neighbors import KNeighborsRegressor\n",
    "from qsprpred.models.assessment_methods import CrossValAssessor, TestSetAssessor\n",
    "\n",
    "os.makedirs(\"../../tutorial_output/models\", exist_ok=True)\n",
    "\n",
    "model = SklearnModel(\n",
    "    base_dir = '../../tutorial_output/models',\n",
    "    data = dataset,\n",
    "    alg = KNeighborsRegressor,\n",
    "    name = 'TutorialLoggingModel'\n",
    ")\n",
    "\n",
    "score_func = SklearnMetric.getDefaultMetric(model.task)\n",
    "CrossValAssessor(score_func)(model)\n",
    "TestSetAssessor(score_func)(model)\n",
    "\n",
    "model.fitAttached()\n",
    "\n",
    "model.save()"
   ]
  }
 ],
 "metadata": {
  "kernelspec": {
   "display_name": "qsprpred",
   "language": "python",
   "name": "python3"
  },
  "language_info": {
   "codemirror_mode": {
    "name": "ipython",
    "version": 3
   },
   "file_extension": ".py",
   "mimetype": "text/x-python",
   "name": "python",
   "nbconvert_exporter": "python",
   "pygments_lexer": "ipython3",
   "version": "3.11.4"
  }
 },
 "nbformat": 4,
 "nbformat_minor": 2
}
