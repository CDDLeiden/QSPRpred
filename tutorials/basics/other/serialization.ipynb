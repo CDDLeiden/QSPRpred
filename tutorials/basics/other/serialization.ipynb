{
 "cells": [
  {
   "cell_type": "markdown",
   "metadata": {},
   "source": [
    "# Serialization of models and dataset\n",
    "You may have already seen some examples of how to save and load QSPRpred models and datasets in other tutorials.\n",
    "In this tutorial, we will go through the serialization of models and datasets in some more detail.\n",
    "As well as saving and loading models and datasets, we will also cover what is contained in the saved files and how to use them."
   ]
  },
  {
   "cell_type": "code",
   "execution_count": null,
   "metadata": {},
   "outputs": [],
   "source": []
  }
 ],
 "metadata": {
  "language_info": {
   "name": "python"
  }
 },
 "nbformat": 4,
 "nbformat_minor": 2
}
