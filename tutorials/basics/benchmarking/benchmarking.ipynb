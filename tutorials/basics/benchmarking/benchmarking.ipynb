{
 "cells": [
  {
   "cell_type": "markdown",
   "id": "946b09a325d34821",
   "metadata": {
    "collapsed": false,
    "jupyter": {
     "outputs_hidden": false
    }
   },
   "source": [
    "# Benchmarking QSPR Models and More\n",
    "\n",
    "The `qsprpred.benchmarks` module provides a set of functions to benchmark QSPR models, preparation steps, hyperparameter optimization strategies, molecular descriptors and more on various data sets that are already prepared or of your own choosing. In this tutorial, we will provide a simple example to benchmark a selection of models and descriptors on a simple task. \n",
    "\n",
    "The first step is to decide, which data set(s) to use for your benchmark. To make things a little faster,  we will use our small testing data source to fetch our testing data set:"
   ]
  },
  {
   "cell_type": "code",
   "execution_count": 1,
   "id": "67e2bc01b554b433",
   "metadata": {
    "ExecuteTime": {
     "end_time": "2023-12-04T19:51:26.070669878Z",
     "start_time": "2023-12-04T19:51:24.193787831Z"
    },
    "collapsed": false,
    "jupyter": {
     "outputs_hidden": false
    }
   },
   "outputs": [
    {
     "data": {
      "text/html": [
       "<div>\n",
       "<style scoped>\n",
       "    .dataframe tbody tr th:only-of-type {\n",
       "        vertical-align: middle;\n",
       "    }\n",
       "\n",
       "    .dataframe tbody tr th {\n",
       "        vertical-align: top;\n",
       "    }\n",
       "\n",
       "    .dataframe thead th {\n",
       "        text-align: right;\n",
       "    }\n",
       "</style>\n",
       "<table border=\"1\" class=\"dataframe\">\n",
       "  <thead>\n",
       "    <tr style=\"text-align: right;\">\n",
       "      <th></th>\n",
       "      <th>SMILES</th>\n",
       "      <th>pchembl_value_Mean</th>\n",
       "      <th>Year</th>\n",
       "      <th>QSPRID</th>\n",
       "    </tr>\n",
       "    <tr>\n",
       "      <th>QSPRID</th>\n",
       "      <th></th>\n",
       "      <th></th>\n",
       "      <th></th>\n",
       "      <th></th>\n",
       "    </tr>\n",
       "  </thead>\n",
       "  <tbody>\n",
       "    <tr>\n",
       "      <th>TutorialBenchmarkData_000</th>\n",
       "      <td>CCCn1c(-c2ccccc2)nc2c1ncnc2NC1CCOC1</td>\n",
       "      <td>5.770</td>\n",
       "      <td>2018.0</td>\n",
       "      <td>TutorialBenchmarkData_000</td>\n",
       "    </tr>\n",
       "    <tr>\n",
       "      <th>TutorialBenchmarkData_001</th>\n",
       "      <td>CCCn1c(=O)c2c([nH]c(-c3c[nH]nc3)n2)n(CCC)c1=O</td>\n",
       "      <td>6.640</td>\n",
       "      <td>2006.0</td>\n",
       "      <td>TutorialBenchmarkData_001</td>\n",
       "    </tr>\n",
       "    <tr>\n",
       "      <th>TutorialBenchmarkData_002</th>\n",
       "      <td>COc1cccc2c1nc(N)n1nc(CN3CCN(c4ncc(F)cc4)CC3C)nc21</td>\n",
       "      <td>7.880</td>\n",
       "      <td>2015.0</td>\n",
       "      <td>TutorialBenchmarkData_002</td>\n",
       "    </tr>\n",
       "    <tr>\n",
       "      <th>TutorialBenchmarkData_003</th>\n",
       "      <td>COc1cccc(CCCC(=O)Nc2nc3c(cccc3)c(=O)s2)c1</td>\n",
       "      <td>6.940</td>\n",
       "      <td>2013.0</td>\n",
       "      <td>TutorialBenchmarkData_003</td>\n",
       "    </tr>\n",
       "    <tr>\n",
       "      <th>TutorialBenchmarkData_004</th>\n",
       "      <td>COc1c2nc(NC(=O)c3ccc(F)cc3)sc2c(N(CCO)C(C)=O)cc1</td>\n",
       "      <td>7.010</td>\n",
       "      <td>2010.0</td>\n",
       "      <td>TutorialBenchmarkData_004</td>\n",
       "    </tr>\n",
       "    <tr>\n",
       "      <th>...</th>\n",
       "      <td>...</td>\n",
       "      <td>...</td>\n",
       "      <td>...</td>\n",
       "      <td>...</td>\n",
       "    </tr>\n",
       "    <tr>\n",
       "      <th>TutorialBenchmarkData_095</th>\n",
       "      <td>Cc1ccc2c(O)c(C(=O)NCc3ccco3)cnc2n1</td>\n",
       "      <td>7.460</td>\n",
       "      <td>2005.0</td>\n",
       "      <td>TutorialBenchmarkData_095</td>\n",
       "    </tr>\n",
       "    <tr>\n",
       "      <th>TutorialBenchmarkData_096</th>\n",
       "      <td>CC(O)CCc1nc(N)c2nc(-n3nccn3)n(C)c2n1</td>\n",
       "      <td>7.102</td>\n",
       "      <td>2013.0</td>\n",
       "      <td>TutorialBenchmarkData_096</td>\n",
       "    </tr>\n",
       "    <tr>\n",
       "      <th>TutorialBenchmarkData_097</th>\n",
       "      <td>CCN(C(C)=O)c1ccc(Cl)c2c1sc(NC(=O)c1ccc(F)cc1)n2</td>\n",
       "      <td>7.820</td>\n",
       "      <td>2010.0</td>\n",
       "      <td>TutorialBenchmarkData_097</td>\n",
       "    </tr>\n",
       "    <tr>\n",
       "      <th>TutorialBenchmarkData_098</th>\n",
       "      <td>CS(=O)(=O)c1ccc(Cn2ncc3c2nc(N)nc3-c2ccco2)cc1</td>\n",
       "      <td>6.470</td>\n",
       "      <td>2008.0</td>\n",
       "      <td>TutorialBenchmarkData_098</td>\n",
       "    </tr>\n",
       "    <tr>\n",
       "      <th>TutorialBenchmarkData_099</th>\n",
       "      <td>N#Cc1c(-c2cc3c(cc2)OCO3)nc(N)nc1-c1ccccc1</td>\n",
       "      <td>8.280</td>\n",
       "      <td>2008.0</td>\n",
       "      <td>TutorialBenchmarkData_099</td>\n",
       "    </tr>\n",
       "  </tbody>\n",
       "</table>\n",
       "<p>100 rows × 4 columns</p>\n",
       "</div>"
      ],
      "text/plain": [
       "                                                                      SMILES  \\\n",
       "QSPRID                                                                         \n",
       "TutorialBenchmarkData_000                CCCn1c(-c2ccccc2)nc2c1ncnc2NC1CCOC1   \n",
       "TutorialBenchmarkData_001      CCCn1c(=O)c2c([nH]c(-c3c[nH]nc3)n2)n(CCC)c1=O   \n",
       "TutorialBenchmarkData_002  COc1cccc2c1nc(N)n1nc(CN3CCN(c4ncc(F)cc4)CC3C)nc21   \n",
       "TutorialBenchmarkData_003          COc1cccc(CCCC(=O)Nc2nc3c(cccc3)c(=O)s2)c1   \n",
       "TutorialBenchmarkData_004   COc1c2nc(NC(=O)c3ccc(F)cc3)sc2c(N(CCO)C(C)=O)cc1   \n",
       "...                                                                      ...   \n",
       "TutorialBenchmarkData_095                 Cc1ccc2c(O)c(C(=O)NCc3ccco3)cnc2n1   \n",
       "TutorialBenchmarkData_096               CC(O)CCc1nc(N)c2nc(-n3nccn3)n(C)c2n1   \n",
       "TutorialBenchmarkData_097    CCN(C(C)=O)c1ccc(Cl)c2c1sc(NC(=O)c1ccc(F)cc1)n2   \n",
       "TutorialBenchmarkData_098      CS(=O)(=O)c1ccc(Cn2ncc3c2nc(N)nc3-c2ccco2)cc1   \n",
       "TutorialBenchmarkData_099          N#Cc1c(-c2cc3c(cc2)OCO3)nc(N)nc1-c1ccccc1   \n",
       "\n",
       "                           pchembl_value_Mean    Year  \\\n",
       "QSPRID                                                  \n",
       "TutorialBenchmarkData_000               5.770  2018.0   \n",
       "TutorialBenchmarkData_001               6.640  2006.0   \n",
       "TutorialBenchmarkData_002               7.880  2015.0   \n",
       "TutorialBenchmarkData_003               6.940  2013.0   \n",
       "TutorialBenchmarkData_004               7.010  2010.0   \n",
       "...                                       ...     ...   \n",
       "TutorialBenchmarkData_095               7.460  2005.0   \n",
       "TutorialBenchmarkData_096               7.102  2013.0   \n",
       "TutorialBenchmarkData_097               7.820  2010.0   \n",
       "TutorialBenchmarkData_098               6.470  2008.0   \n",
       "TutorialBenchmarkData_099               8.280  2008.0   \n",
       "\n",
       "                                              QSPRID  \n",
       "QSPRID                                                \n",
       "TutorialBenchmarkData_000  TutorialBenchmarkData_000  \n",
       "TutorialBenchmarkData_001  TutorialBenchmarkData_001  \n",
       "TutorialBenchmarkData_002  TutorialBenchmarkData_002  \n",
       "TutorialBenchmarkData_003  TutorialBenchmarkData_003  \n",
       "TutorialBenchmarkData_004  TutorialBenchmarkData_004  \n",
       "...                                              ...  \n",
       "TutorialBenchmarkData_095  TutorialBenchmarkData_095  \n",
       "TutorialBenchmarkData_096  TutorialBenchmarkData_096  \n",
       "TutorialBenchmarkData_097  TutorialBenchmarkData_097  \n",
       "TutorialBenchmarkData_098  TutorialBenchmarkData_098  \n",
       "TutorialBenchmarkData_099  TutorialBenchmarkData_099  \n",
       "\n",
       "[100 rows x 4 columns]"
      ]
     },
     "execution_count": 1,
     "metadata": {},
     "output_type": "execute_result"
    }
   ],
   "source": [
    "import os\n",
    "import pandas as pd\n",
    "\n",
    "from qsprpred.data import MoleculeTable\n",
    "from qsprpred.data.sources import DataSource\n",
    "\n",
    "# TODO: it  would be nice  to also have examples for all the data sets we integrate and how to integrate a new data set here\n",
    "\n",
    "BASE_DIR = \"../../tutorial_output/benchmarking\"  # directory to store all benchmarking results and files\n",
    "os.makedirs(BASE_DIR, exist_ok=True)\n",
    "SEED = 42  # random seed for all random operations\n",
    "\n",
    "\n",
    "class DataSourceTesting(DataSource):\n",
    "    \"\"\"\n",
    "    Just a simple wrapper around our tutorial data set.\n",
    "    \"\"\"\n",
    "\n",
    "    def __init__(self, name: str, store_dir: str):\n",
    "        self.name = name\n",
    "        self.storeDir = store_dir\n",
    "\n",
    "    def getData(self, name: str | None = None, **kwargs) -> MoleculeTable:\n",
    "        \"\"\"We just need to fetch a simple `MoleculeTable`.\n",
    "        Defining target properties is not necessary. We just need to\n",
    "        make sure that the data set contains the target properties we\n",
    "        want to use for benchmarking later. \n",
    "        \n",
    "        To make things faster we will sample only 100 molecules each time.\n",
    "        This code could also be simplified so that reloading of the file is not necessary.\n",
    "        \"\"\"\n",
    "        name = name or self.name\n",
    "        return MoleculeTable(\n",
    "            df=pd.read_table('../../tutorial_data/A2A_LIGANDS.tsv').sample(100,\n",
    "                                                                           random_state=SEED),\n",
    "            name=name,\n",
    "            store_dir=self.storeDir,\n",
    "            **kwargs\n",
    "        )\n",
    "\n",
    "\n",
    "source = DataSourceTesting(\"TutorialBenchmarkData\", f\"{BASE_DIR}/data\")\n",
    "example_ds = source.getData()\n",
    "example_ds.getDF()"
   ]
  },
  {
   "cell_type": "code",
   "execution_count": 2,
   "id": "c1999bf63119e665",
   "metadata": {
    "ExecuteTime": {
     "end_time": "2023-12-04T19:51:26.071737794Z",
     "start_time": "2023-12-04T19:51:26.064407465Z"
    },
    "collapsed": false,
    "jupyter": {
     "outputs_hidden": false
    }
   },
   "outputs": [
    {
     "data": {
      "text/plain": [
       "'../../tutorial_output/benchmarking/data'"
      ]
     },
     "execution_count": 2,
     "metadata": {},
     "output_type": "execute_result"
    }
   ],
   "source": [
    "# this is where all data sets derived from our source will be stored\n",
    "example_ds.baseDir"
   ]
  },
  {
   "cell_type": "markdown",
   "id": "9f7dc5ac63df08f2",
   "metadata": {
    "collapsed": false,
    "jupyter": {
     "outputs_hidden": false
    }
   },
   "source": [
    "You can wrap your own data set in a `DataSource` class to use it for benchmarking. Just implement the `qsprpred.data.sources.data_source.DataSource` interface. You can use it to cache data sets so that they are not downloaded and recreated every time you run your benchmark. You just need to make sure it contains the  `TargetProperty` values, you want to use for benchmarking and the molecules. \n",
    "\n",
    "Next thing to do is to decide the benchmarking settings. You will use the `BenchmarkSettings` class to specify all details of your benchmark:"
   ]
  },
  {
   "cell_type": "code",
   "execution_count": 3,
   "id": "436e87a72118398",
   "metadata": {
    "ExecuteTime": {
     "end_time": "2023-12-04T19:51:26.930085252Z",
     "start_time": "2023-12-04T19:51:26.073910007Z"
    },
    "collapsed": false,
    "jupyter": {
     "outputs_hidden": false
    }
   },
   "outputs": [
    {
     "name": "stderr",
     "output_type": "stream",
     "text": [
      "No random state supplied, and could not find random state on the dataset.\n"
     ]
    }
   ],
   "source": [
    "from sklearn.ensemble import ExtraTreesClassifier\n",
    "from sklearn.naive_bayes import GaussianNB\n",
    "from qsprpred.models import SklearnModel, TestSetAssessor\n",
    "from qsprpred.data.processing.feature_filters import LowVarianceFilter\n",
    "from sklearn.preprocessing import StandardScaler\n",
    "from qsprpred.data import RandomSplit, ClusterSplit\n",
    "from qsprpred import TargetProperty, TargetTasks\n",
    "from qsprpred.data.descriptors.sets import FingerprintSet, RDKitDescs\n",
    "from qsprpred.benchmarks import BenchmarkSettings, DataPrepSettings\n",
    "\n",
    "settings = BenchmarkSettings(\n",
    "    name=\"TutorialBenchmark\",\n",
    "    n_replicas=15,\n",
    "    # number of repeated experiments for statistical power, just 1 here for faster calculation\n",
    "    random_seed=SEED,  # random seed for all random operations\n",
    "    data_sources=[\n",
    "        # one or more data sources to use for benchmarking\n",
    "        source\n",
    "    ],\n",
    "    descriptors=[\n",
    "        # in this case we will test 3 different combinations of descriptors\n",
    "        [\n",
    "            FingerprintSet(\n",
    "                fingerprint_type=\"MorganFP\", radius=2, nBits=256\n",
    "            ),\n",
    "            RDKitDescs()\n",
    "        ],\n",
    "        [\n",
    "            FingerprintSet(\n",
    "                fingerprint_type=\"MorganFP\", radius=2, nBits=256\n",
    "            )\n",
    "        ],\n",
    "        [\n",
    "            RDKitDescs()\n",
    "        ]\n",
    "    ],\n",
    "    target_props=[\n",
    "        # one or more properties to model\n",
    "        [\n",
    "            TargetProperty.fromDict(\n",
    "                {\n",
    "                    \"name\": \"pchembl_value_Mean\",\n",
    "                    \"task\": TargetTasks.SINGLECLASS,\n",
    "                    \"th\": [6.5]\n",
    "                }\n",
    "            )\n",
    "        ],\n",
    "    ],\n",
    "    prep_settings=[\n",
    "        # we will compare two splitting strategies, each time with the same feature filters and standardization\n",
    "        DataPrepSettings(\n",
    "            split=RandomSplit(test_fraction=0.2),  # random split\n",
    "            feature_filters=[LowVarianceFilter(0.05)],\n",
    "            feature_standardizer=StandardScaler()\n",
    "        ),\n",
    "        DataPrepSettings(\n",
    "            split=ClusterSplit(test_fraction=0.2),  # scaffold split\n",
    "            feature_filters=[LowVarianceFilter(0.05)],\n",
    "            feature_standardizer=StandardScaler()\n",
    "        ),\n",
    "    ],\n",
    "    models=[\n",
    "        SklearnModel(\n",
    "            name=\"GaussianNB\",\n",
    "            alg=GaussianNB,\n",
    "            base_dir=f\"{BASE_DIR}/models\",\n",
    "        ),\n",
    "        SklearnModel(\n",
    "            name=\"ExtraTreesClassifier\",\n",
    "            alg=ExtraTreesClassifier,\n",
    "            base_dir=f\"{BASE_DIR}/models\",\n",
    "        )\n",
    "    ],\n",
    "    assessors=[\n",
    "        TestSetAssessor(scoring=\"roc_auc\"),\n",
    "        TestSetAssessor(scoring=\"matthews_corrcoef\", use_proba=False),\n",
    "    ],\n",
    "    optimizers=[],\n",
    "    # no optimizers at this time (this feature actually needs some tweaking still because the parameter grid depends on the model)\n",
    ")"
   ]
  },
  {
   "cell_type": "code",
   "execution_count": 4,
   "id": "3b87a592bc6cb0cd",
   "metadata": {
    "ExecuteTime": {
     "end_time": "2023-12-04T19:51:26.989412610Z",
     "start_time": "2023-12-04T19:51:26.938432576Z"
    },
    "collapsed": false,
    "jupyter": {
     "outputs_hidden": false
    }
   },
   "outputs": [
    {
     "data": {
      "text/plain": [
       "BenchmarkSettings(name='TutorialBenchmark', n_replicas=15, random_seed=42, data_sources=[<__main__.DataSourceTesting object at 0x7f6cfc0346d0>], descriptors=[[<qsprpred.data.descriptors.sets.FingerprintSet object at 0x7f6cfc037160>, <qsprpred.data.descriptors.sets.RDKitDescs object at 0x7f6cfc036590>], [<qsprpred.data.descriptors.sets.FingerprintSet object at 0x7f6cfc0367d0>], [<qsprpred.data.descriptors.sets.RDKitDescs object at 0x7f6cfc036380>]], target_props=[[TargetProperty(name=pchembl_value_Mean, task=SINGLECLASS, th=[6.5])]], prep_settings=[DataPrepSettings(split=<qsprpred.data.sampling.splits.RandomSplit object at 0x7f6cfc036650>, smiles_standardizer='chembl', feature_filters=[<qsprpred.data.processing.feature_filters.LowVarianceFilter object at 0x7f6cfc036b60>], feature_standardizer=StandardScaler(), feature_fill_value=0.0), DataPrepSettings(split=<qsprpred.data.sampling.splits.ClusterSplit object at 0x7f6cfc037340>, smiles_standardizer='chembl', feature_filters=[<qsprpred.data.processing.feature_filters.LowVarianceFilter object at 0x7f6cfc037460>], feature_standardizer=StandardScaler(), feature_fill_value=0.0)], models=[<qsprpred.models.sklearn.SklearnModel object at 0x7f6cfc037280>, <qsprpred.models.sklearn.SklearnModel object at 0x7f6cfafc0be0>], assessors=[<qsprpred.models.assessment_methods.TestSetAssessor object at 0x7f6cfc037190>, <qsprpred.models.assessment_methods.TestSetAssessor object at 0x7f6cfc0348e0>], optimizers=[])"
      ]
     },
     "execution_count": 4,
     "metadata": {},
     "output_type": "execute_result"
    }
   ],
   "source": [
    "# settings can be saved and reloaded from a file\n",
    "BenchmarkSettings.fromFile(settings.toFile(f\"{BASE_DIR}/settings.json\"))"
   ]
  },
  {
   "cell_type": "code",
   "execution_count": 5,
   "id": "914eac4a0e017b9b",
   "metadata": {
    "ExecuteTime": {
     "end_time": "2023-12-04T19:51:27.055410526Z",
     "start_time": "2023-12-04T19:51:26.994318126Z"
    },
    "collapsed": false,
    "jupyter": {
     "outputs_hidden": false
    }
   },
   "outputs": [],
   "source": [
    "# to run the benchmark we need a runner\n",
    "from qsprpred.benchmarks import BenchmarkRunner\n",
    "\n",
    "runner = BenchmarkRunner(settings, data_dir=BASE_DIR)"
   ]
  },
  {
   "cell_type": "code",
   "execution_count": 6,
   "id": "55efc926f0ad0c8e",
   "metadata": {
    "ExecuteTime": {
     "end_time": "2023-12-04T19:51:27.056970870Z",
     "start_time": "2023-12-04T19:51:27.033618680Z"
    },
    "collapsed": false,
    "jupyter": {
     "outputs_hidden": false
    }
   },
   "outputs": [
    {
     "data": {
      "text/plain": [
       "180"
      ]
     },
     "execution_count": 6,
     "metadata": {},
     "output_type": "execute_result"
    }
   ],
   "source": [
    "# we can check how many experiments we will run\n",
    "runner.nRuns"
   ]
  },
  {
   "cell_type": "markdown",
   "id": "16600c9303070736",
   "metadata": {
    "collapsed": false,
    "jupyter": {
     "outputs_hidden": false
    }
   },
   "source": [
    "This is the number of full modeling workflows we will run. We can check the details of each one by iterating over the replicas:"
   ]
  },
  {
   "cell_type": "code",
   "execution_count": 7,
   "id": "efa7a1f507803a8f",
   "metadata": {
    "ExecuteTime": {
     "end_time": "2023-12-04T19:51:27.057888530Z",
     "start_time": "2023-12-04T19:51:27.033966924Z"
    },
    "collapsed": false,
    "jupyter": {
     "outputs_hidden": false
    }
   },
   "outputs": [
    {
     "name": "stdout",
     "output_type": "stream",
     "text": [
      "TutorialBenchmark_2746317213\n",
      "TutorialBenchmarkData\n",
      "[<qsprpred.data.descriptors.sets.FingerprintSet object at 0x7f6d557d6bf0>, <qsprpred.data.descriptors.sets.RDKitDescs object at 0x7f6d557d71c0>]\n",
      "[TargetProperty(name=pchembl_value_Mean, task=SINGLECLASS, th=[6.5])]\n",
      "<qsprpred.data.sampling.splits.RandomSplit object at 0x7f6cfb1934f0>\n"
     ]
    }
   ],
   "source": [
    "for replica in runner.iterReplicas():\n",
    "    # replicas contain all info needed to run an experiment\n",
    "    print(replica)\n",
    "    print(replica.dataSource.name)\n",
    "    print(replica.descriptors)\n",
    "    print(replica.targetProps)\n",
    "    print(replica.prepSettings.split)\n",
    "    break"
   ]
  },
  {
   "cell_type": "markdown",
   "id": "2e4c8cc2eca15762",
   "metadata": {
    "collapsed": false,
    "jupyter": {
     "outputs_hidden": false
    }
   },
   "source": [
    "Replicas have methods to run a full experiment, but we will let the runner handle this for us and distribute the calculations over the available CPUs:"
   ]
  },
  {
   "cell_type": "code",
   "execution_count": 8,
   "id": "648afe2cf213d695",
   "metadata": {
    "ExecuteTime": {
     "end_time": "2023-12-04T19:53:17.346559116Z",
     "start_time": "2023-12-04T19:51:27.034160103Z"
    },
    "collapsed": false,
    "jupyter": {
     "outputs_hidden": false
    }
   },
   "outputs": [
    {
     "name": "stderr",
     "output_type": "stream",
     "text": [
      "Random state supplied, but alg <class 'sklearn.naive_bayes.GaussianNB'> does not support it. Ignoring this setting.\n"
     ]
    },
    {
     "name": "stdout",
     "output_type": "stream",
     "text": [
      "{}\n",
      "{}\n"
     ]
    },
    {
     "name": "stderr",
     "output_type": "stream",
     "text": [
      "Random state supplied, but alg <class 'sklearn.naive_bayes.GaussianNB'> does not support it. Ignoring this setting.\n",
      "Random state supplied, but alg <class 'sklearn.naive_bayes.GaussianNB'> does not support it. Ignoring this setting.\n"
     ]
    },
    {
     "name": "stdout",
     "output_type": "stream",
     "text": [
      "{}\n",
      "{}"
     ]
    },
    {
     "name": "stderr",
     "output_type": "stream",
     "text": [
      "Random state supplied, but alg <class 'sklearn.naive_bayes.GaussianNB'> does not support it. Ignoring this setting.\n"
     ]
    },
    {
     "name": "stdout",
     "output_type": "stream",
     "text": [
      "\n"
     ]
    },
    {
     "name": "stderr",
     "output_type": "stream",
     "text": [
      "Random state supplied, but alg <class 'sklearn.naive_bayes.GaussianNB'> does not support it. Ignoring this setting.\n"
     ]
    },
    {
     "name": "stdout",
     "output_type": "stream",
     "text": [
      "{}\n"
     ]
    },
    {
     "name": "stderr",
     "output_type": "stream",
     "text": [
      "Random state supplied, but alg <class 'sklearn.naive_bayes.GaussianNB'> does not support it. Ignoring this setting.\n"
     ]
    },
    {
     "name": "stdout",
     "output_type": "stream",
     "text": [
      "{}\n"
     ]
    },
    {
     "name": "stderr",
     "output_type": "stream",
     "text": [
      "Random state supplied, but alg <class 'sklearn.naive_bayes.GaussianNB'> does not support it. Ignoring this setting.\n"
     ]
    },
    {
     "name": "stdout",
     "output_type": "stream",
     "text": [
      "{}\n",
      "{}\n"
     ]
    },
    {
     "name": "stderr",
     "output_type": "stream",
     "text": [
      "Random state supplied, but alg <class 'sklearn.naive_bayes.GaussianNB'> does not support it. Ignoring this setting.\n",
      "Random state supplied, but alg <class 'sklearn.naive_bayes.GaussianNB'> does not support it. Ignoring this setting.\n"
     ]
    },
    {
     "name": "stdout",
     "output_type": "stream",
     "text": [
      "{}\n"
     ]
    },
    {
     "name": "stderr",
     "output_type": "stream",
     "text": [
      "Random state supplied, but alg <class 'sklearn.naive_bayes.GaussianNB'> does not support it. Ignoring this setting.\n"
     ]
    },
    {
     "name": "stdout",
     "output_type": "stream",
     "text": [
      "{}\n"
     ]
    },
    {
     "name": "stderr",
     "output_type": "stream",
     "text": [
      "Random state supplied, but alg <class 'sklearn.naive_bayes.GaussianNB'> does not support it. Ignoring this setting.\n"
     ]
    },
    {
     "name": "stdout",
     "output_type": "stream",
     "text": [
      "{}\n"
     ]
    },
    {
     "name": "stderr",
     "output_type": "stream",
     "text": [
      "Random state supplied, but alg <class 'sklearn.naive_bayes.GaussianNB'> does not support it. Ignoring this setting.\n"
     ]
    },
    {
     "name": "stdout",
     "output_type": "stream",
     "text": [
      "{}\n"
     ]
    },
    {
     "name": "stderr",
     "output_type": "stream",
     "text": [
      "Random state supplied, but alg <class 'sklearn.naive_bayes.GaussianNB'> does not support it. Ignoring this setting.\n"
     ]
    },
    {
     "name": "stdout",
     "output_type": "stream",
     "text": [
      "{}\n"
     ]
    },
    {
     "name": "stderr",
     "output_type": "stream",
     "text": [
      "Random state supplied, but alg <class 'sklearn.naive_bayes.GaussianNB'> does not support it. Ignoring this setting.\n",
      "Random state supplied, but alg <class 'sklearn.naive_bayes.GaussianNB'> does not support it. Ignoring this setting.\n"
     ]
    },
    {
     "name": "stdout",
     "output_type": "stream",
     "text": [
      "{}\n",
      "{}\n"
     ]
    },
    {
     "name": "stderr",
     "output_type": "stream",
     "text": [
      "Random state supplied, but alg <class 'sklearn.naive_bayes.GaussianNB'> does not support it. Ignoring this setting.\n"
     ]
    },
    {
     "name": "stdout",
     "output_type": "stream",
     "text": [
      "{}\n"
     ]
    },
    {
     "name": "stderr",
     "output_type": "stream",
     "text": [
      "Random state supplied, but alg <class 'sklearn.naive_bayes.GaussianNB'> does not support it. Ignoring this setting.\n"
     ]
    },
    {
     "name": "stdout",
     "output_type": "stream",
     "text": [
      "{}\n"
     ]
    },
    {
     "name": "stderr",
     "output_type": "stream",
     "text": [
      "Random state supplied, but alg <class 'sklearn.naive_bayes.GaussianNB'> does not support it. Ignoring this setting.\n"
     ]
    },
    {
     "name": "stdout",
     "output_type": "stream",
     "text": [
      "{}\n"
     ]
    },
    {
     "name": "stderr",
     "output_type": "stream",
     "text": [
      "Random state supplied, but alg <class 'sklearn.naive_bayes.GaussianNB'> does not support it. Ignoring this setting.\n"
     ]
    },
    {
     "name": "stdout",
     "output_type": "stream",
     "text": [
      "{}\n"
     ]
    },
    {
     "name": "stderr",
     "output_type": "stream",
     "text": [
      "Random state supplied, but alg <class 'sklearn.naive_bayes.GaussianNB'> does not support it. Ignoring this setting.\n"
     ]
    },
    {
     "name": "stdout",
     "output_type": "stream",
     "text": [
      "{}\n"
     ]
    },
    {
     "name": "stderr",
     "output_type": "stream",
     "text": [
      "Random state supplied, but alg <class 'sklearn.naive_bayes.GaussianNB'> does not support it. Ignoring this setting.\n"
     ]
    },
    {
     "name": "stdout",
     "output_type": "stream",
     "text": [
      "{}\n"
     ]
    },
    {
     "name": "stderr",
     "output_type": "stream",
     "text": [
      "Random state supplied, but alg <class 'sklearn.naive_bayes.GaussianNB'> does not support it. Ignoring this setting.\n"
     ]
    },
    {
     "name": "stdout",
     "output_type": "stream",
     "text": [
      "{}\n"
     ]
    },
    {
     "name": "stderr",
     "output_type": "stream",
     "text": [
      "Random state supplied, but alg <class 'sklearn.naive_bayes.GaussianNB'> does not support it. Ignoring this setting.\n"
     ]
    },
    {
     "name": "stdout",
     "output_type": "stream",
     "text": [
      "{}\n"
     ]
    },
    {
     "name": "stderr",
     "output_type": "stream",
     "text": [
      "Random state supplied, but alg <class 'sklearn.naive_bayes.GaussianNB'> does not support it. Ignoring this setting.\n"
     ]
    },
    {
     "name": "stdout",
     "output_type": "stream",
     "text": [
      "{}\n"
     ]
    },
    {
     "name": "stderr",
     "output_type": "stream",
     "text": [
      "Random state supplied, but alg <class 'sklearn.naive_bayes.GaussianNB'> does not support it. Ignoring this setting.\n"
     ]
    },
    {
     "name": "stdout",
     "output_type": "stream",
     "text": [
      "{}\n"
     ]
    },
    {
     "name": "stderr",
     "output_type": "stream",
     "text": [
      "Random state supplied, but alg <class 'sklearn.naive_bayes.GaussianNB'> does not support it. Ignoring this setting.\n"
     ]
    },
    {
     "name": "stdout",
     "output_type": "stream",
     "text": [
      "{}\n"
     ]
    },
    {
     "name": "stderr",
     "output_type": "stream",
     "text": [
      "Random state supplied, but alg <class 'sklearn.naive_bayes.GaussianNB'> does not support it. Ignoring this setting.\n"
     ]
    },
    {
     "name": "stdout",
     "output_type": "stream",
     "text": [
      "{}\n",
      "{}\n"
     ]
    },
    {
     "name": "stderr",
     "output_type": "stream",
     "text": [
      "Random state supplied, but alg <class 'sklearn.naive_bayes.GaussianNB'> does not support it. Ignoring this setting.\n",
      "Random state supplied, but alg <class 'sklearn.naive_bayes.GaussianNB'> does not support it. Ignoring this setting.\n"
     ]
    },
    {
     "name": "stdout",
     "output_type": "stream",
     "text": [
      "{}\n"
     ]
    },
    {
     "name": "stderr",
     "output_type": "stream",
     "text": [
      "Random state supplied, but alg <class 'sklearn.naive_bayes.GaussianNB'> does not support it. Ignoring this setting.\n"
     ]
    },
    {
     "name": "stdout",
     "output_type": "stream",
     "text": [
      "{}\n"
     ]
    },
    {
     "name": "stderr",
     "output_type": "stream",
     "text": [
      "Random state supplied, but alg <class 'sklearn.naive_bayes.GaussianNB'> does not support it. Ignoring this setting.\n"
     ]
    },
    {
     "name": "stdout",
     "output_type": "stream",
     "text": [
      "{}"
     ]
    },
    {
     "name": "stderr",
     "output_type": "stream",
     "text": [
      "Random state supplied, but alg <class 'sklearn.naive_bayes.GaussianNB'> does not support it. Ignoring this setting.\n"
     ]
    },
    {
     "name": "stdout",
     "output_type": "stream",
     "text": [
      "\n",
      "{}\n"
     ]
    },
    {
     "name": "stderr",
     "output_type": "stream",
     "text": [
      "Random state supplied, but alg <class 'sklearn.naive_bayes.GaussianNB'> does not support it. Ignoring this setting.\n"
     ]
    },
    {
     "name": "stdout",
     "output_type": "stream",
     "text": [
      "{}\n"
     ]
    },
    {
     "name": "stderr",
     "output_type": "stream",
     "text": [
      "Random state supplied, but alg <class 'sklearn.naive_bayes.GaussianNB'> does not support it. Ignoring this setting.\n",
      "Random state supplied, but alg <class 'sklearn.naive_bayes.GaussianNB'> does not support it. Ignoring this setting.\n"
     ]
    },
    {
     "name": "stdout",
     "output_type": "stream",
     "text": [
      "{}\n",
      "{}\n"
     ]
    },
    {
     "name": "stderr",
     "output_type": "stream",
     "text": [
      "Random state supplied, but alg <class 'sklearn.naive_bayes.GaussianNB'> does not support it. Ignoring this setting.\n"
     ]
    },
    {
     "name": "stdout",
     "output_type": "stream",
     "text": [
      "{}\n"
     ]
    },
    {
     "name": "stderr",
     "output_type": "stream",
     "text": [
      "Random state supplied, but alg <class 'sklearn.naive_bayes.GaussianNB'> does not support it. Ignoring this setting.\n"
     ]
    },
    {
     "name": "stdout",
     "output_type": "stream",
     "text": [
      "{}\n"
     ]
    },
    {
     "name": "stderr",
     "output_type": "stream",
     "text": [
      "Random state supplied, but alg <class 'sklearn.naive_bayes.GaussianNB'> does not support it. Ignoring this setting.\n",
      "Random state supplied, but alg <class 'sklearn.naive_bayes.GaussianNB'> does not support it. Ignoring this setting.\n"
     ]
    },
    {
     "name": "stdout",
     "output_type": "stream",
     "text": [
      "{}\n",
      "{}\n"
     ]
    },
    {
     "name": "stderr",
     "output_type": "stream",
     "text": [
      "Random state supplied, but alg <class 'sklearn.naive_bayes.GaussianNB'> does not support it. Ignoring this setting.\n"
     ]
    },
    {
     "name": "stdout",
     "output_type": "stream",
     "text": [
      "{}\n"
     ]
    },
    {
     "name": "stderr",
     "output_type": "stream",
     "text": [
      "Random state supplied, but alg <class 'sklearn.naive_bayes.GaussianNB'> does not support it. Ignoring this setting.\n"
     ]
    },
    {
     "name": "stdout",
     "output_type": "stream",
     "text": [
      "{}\n"
     ]
    },
    {
     "name": "stderr",
     "output_type": "stream",
     "text": [
      "Random state supplied, but alg <class 'sklearn.naive_bayes.GaussianNB'> does not support it. Ignoring this setting.\n"
     ]
    },
    {
     "name": "stdout",
     "output_type": "stream",
     "text": [
      "{}\n"
     ]
    },
    {
     "name": "stderr",
     "output_type": "stream",
     "text": [
      "Random state supplied, but alg <class 'sklearn.naive_bayes.GaussianNB'> does not support it. Ignoring this setting.\n"
     ]
    },
    {
     "name": "stdout",
     "output_type": "stream",
     "text": [
      "{}\n"
     ]
    },
    {
     "name": "stderr",
     "output_type": "stream",
     "text": [
      "Random state supplied, but alg <class 'sklearn.naive_bayes.GaussianNB'> does not support it. Ignoring this setting.\n"
     ]
    },
    {
     "name": "stdout",
     "output_type": "stream",
     "text": [
      "{}\n"
     ]
    },
    {
     "name": "stderr",
     "output_type": "stream",
     "text": [
      "Random state supplied, but alg <class 'sklearn.naive_bayes.GaussianNB'> does not support it. Ignoring this setting.\n"
     ]
    },
    {
     "name": "stdout",
     "output_type": "stream",
     "text": [
      "{}\n",
      "{}\n"
     ]
    },
    {
     "name": "stderr",
     "output_type": "stream",
     "text": [
      "Random state supplied, but alg <class 'sklearn.naive_bayes.GaussianNB'> does not support it. Ignoring this setting.\n",
      "Random state supplied, but alg <class 'sklearn.naive_bayes.GaussianNB'> does not support it. Ignoring this setting.\n"
     ]
    },
    {
     "name": "stdout",
     "output_type": "stream",
     "text": [
      "{}\n"
     ]
    },
    {
     "name": "stderr",
     "output_type": "stream",
     "text": [
      "Random state supplied, but alg <class 'sklearn.naive_bayes.GaussianNB'> does not support it. Ignoring this setting.\n"
     ]
    },
    {
     "name": "stdout",
     "output_type": "stream",
     "text": [
      "{}\n"
     ]
    },
    {
     "name": "stderr",
     "output_type": "stream",
     "text": [
      "Random state supplied, but alg <class 'sklearn.naive_bayes.GaussianNB'> does not support it. Ignoring this setting.\n"
     ]
    },
    {
     "name": "stdout",
     "output_type": "stream",
     "text": [
      "{}\n",
      "{}\n"
     ]
    },
    {
     "name": "stderr",
     "output_type": "stream",
     "text": [
      "Random state supplied, but alg <class 'sklearn.naive_bayes.GaussianNB'> does not support it. Ignoring this setting.\n",
      "Random state supplied, but alg <class 'sklearn.naive_bayes.GaussianNB'> does not support it. Ignoring this setting.\n"
     ]
    },
    {
     "name": "stdout",
     "output_type": "stream",
     "text": [
      "{}\n"
     ]
    },
    {
     "name": "stderr",
     "output_type": "stream",
     "text": [
      "Random state supplied, but alg <class 'sklearn.naive_bayes.GaussianNB'> does not support it. Ignoring this setting.\n"
     ]
    },
    {
     "name": "stdout",
     "output_type": "stream",
     "text": [
      "{}\n"
     ]
    },
    {
     "name": "stderr",
     "output_type": "stream",
     "text": [
      "Random state supplied, but alg <class 'sklearn.naive_bayes.GaussianNB'> does not support it. Ignoring this setting.\n"
     ]
    },
    {
     "name": "stdout",
     "output_type": "stream",
     "text": [
      "{}\n",
      "{}\n"
     ]
    },
    {
     "name": "stderr",
     "output_type": "stream",
     "text": [
      "Random state supplied, but alg <class 'sklearn.naive_bayes.GaussianNB'> does not support it. Ignoring this setting.\n",
      "Random state supplied, but alg <class 'sklearn.naive_bayes.GaussianNB'> does not support it. Ignoring this setting.\n"
     ]
    },
    {
     "name": "stdout",
     "output_type": "stream",
     "text": [
      "{}\n"
     ]
    },
    {
     "name": "stderr",
     "output_type": "stream",
     "text": [
      "Random state supplied, but alg <class 'sklearn.naive_bayes.GaussianNB'> does not support it. Ignoring this setting.\n",
      "Random state supplied, but alg <class 'sklearn.naive_bayes.GaussianNB'> does not support it. Ignoring this setting.\n"
     ]
    },
    {
     "name": "stdout",
     "output_type": "stream",
     "text": [
      "{}\n",
      "{}\n",
      "{}\n"
     ]
    },
    {
     "name": "stderr",
     "output_type": "stream",
     "text": [
      "Random state supplied, but alg <class 'sklearn.naive_bayes.GaussianNB'> does not support it. Ignoring this setting.\n",
      "Random state supplied, but alg <class 'sklearn.naive_bayes.GaussianNB'> does not support it. Ignoring this setting.\n"
     ]
    },
    {
     "name": "stdout",
     "output_type": "stream",
     "text": [
      "{}\n",
      "{}\n"
     ]
    },
    {
     "name": "stderr",
     "output_type": "stream",
     "text": [
      "Random state supplied, but alg <class 'sklearn.naive_bayes.GaussianNB'> does not support it. Ignoring this setting.\n",
      "Random state supplied, but alg <class 'sklearn.naive_bayes.GaussianNB'> does not support it. Ignoring this setting.\n"
     ]
    },
    {
     "name": "stdout",
     "output_type": "stream",
     "text": [
      "{}\n"
     ]
    },
    {
     "name": "stderr",
     "output_type": "stream",
     "text": [
      "Random state supplied, but alg <class 'sklearn.naive_bayes.GaussianNB'> does not support it. Ignoring this setting.\n"
     ]
    },
    {
     "name": "stdout",
     "output_type": "stream",
     "text": [
      "{}\n"
     ]
    },
    {
     "name": "stderr",
     "output_type": "stream",
     "text": [
      "Random state supplied, but alg <class 'sklearn.naive_bayes.GaussianNB'> does not support it. Ignoring this setting.\n"
     ]
    },
    {
     "name": "stdout",
     "output_type": "stream",
     "text": [
      "{}\n",
      "{}\n"
     ]
    },
    {
     "name": "stderr",
     "output_type": "stream",
     "text": [
      "Random state supplied, but alg <class 'sklearn.naive_bayes.GaussianNB'> does not support it. Ignoring this setting.\n",
      "Random state supplied, but alg <class 'sklearn.naive_bayes.GaussianNB'> does not support it. Ignoring this setting.\n"
     ]
    },
    {
     "name": "stdout",
     "output_type": "stream",
     "text": [
      "{}\n"
     ]
    },
    {
     "name": "stderr",
     "output_type": "stream",
     "text": [
      "Random state supplied, but alg <class 'sklearn.naive_bayes.GaussianNB'> does not support it. Ignoring this setting.\n"
     ]
    },
    {
     "name": "stdout",
     "output_type": "stream",
     "text": [
      "{}\n"
     ]
    },
    {
     "name": "stderr",
     "output_type": "stream",
     "text": [
      "Random state supplied, but alg <class 'sklearn.naive_bayes.GaussianNB'> does not support it. Ignoring this setting.\n"
     ]
    },
    {
     "name": "stdout",
     "output_type": "stream",
     "text": [
      "{}\n",
      "{}"
     ]
    },
    {
     "name": "stderr",
     "output_type": "stream",
     "text": [
      "Random state supplied, but alg <class 'sklearn.naive_bayes.GaussianNB'> does not support it. Ignoring this setting.\n"
     ]
    },
    {
     "name": "stdout",
     "output_type": "stream",
     "text": [
      "\n"
     ]
    },
    {
     "name": "stderr",
     "output_type": "stream",
     "text": [
      "Random state supplied, but alg <class 'sklearn.naive_bayes.GaussianNB'> does not support it. Ignoring this setting.\n"
     ]
    },
    {
     "name": "stdout",
     "output_type": "stream",
     "text": [
      "{}\n"
     ]
    },
    {
     "name": "stderr",
     "output_type": "stream",
     "text": [
      "Random state supplied, but alg <class 'sklearn.naive_bayes.GaussianNB'> does not support it. Ignoring this setting.\n",
      "Random state supplied, but alg <class 'sklearn.naive_bayes.GaussianNB'> does not support it. Ignoring this setting.\n"
     ]
    },
    {
     "name": "stdout",
     "output_type": "stream",
     "text": [
      "{}\n",
      "{}\n"
     ]
    },
    {
     "name": "stderr",
     "output_type": "stream",
     "text": [
      "Random state supplied, but alg <class 'sklearn.naive_bayes.GaussianNB'> does not support it. Ignoring this setting.\n"
     ]
    },
    {
     "name": "stdout",
     "output_type": "stream",
     "text": [
      "{}\n"
     ]
    },
    {
     "name": "stderr",
     "output_type": "stream",
     "text": [
      "Random state supplied, but alg <class 'sklearn.naive_bayes.GaussianNB'> does not support it. Ignoring this setting.\n"
     ]
    },
    {
     "name": "stdout",
     "output_type": "stream",
     "text": [
      "{}\n"
     ]
    },
    {
     "name": "stderr",
     "output_type": "stream",
     "text": [
      "Random state supplied, but alg <class 'sklearn.naive_bayes.GaussianNB'> does not support it. Ignoring this setting.\n",
      "Random state supplied, but alg <class 'sklearn.naive_bayes.GaussianNB'> does not support it. Ignoring this setting.\n"
     ]
    },
    {
     "name": "stdout",
     "output_type": "stream",
     "text": [
      "{}\n",
      "{}\n",
      "{}\n"
     ]
    },
    {
     "name": "stderr",
     "output_type": "stream",
     "text": [
      "Random state supplied, but alg <class 'sklearn.naive_bayes.GaussianNB'> does not support it. Ignoring this setting.\n",
      "Random state supplied, but alg <class 'sklearn.naive_bayes.GaussianNB'> does not support it. Ignoring this setting.\n"
     ]
    },
    {
     "name": "stdout",
     "output_type": "stream",
     "text": [
      "{}\n",
      "{}\n"
     ]
    },
    {
     "name": "stderr",
     "output_type": "stream",
     "text": [
      "Random state supplied, but alg <class 'sklearn.naive_bayes.GaussianNB'> does not support it. Ignoring this setting.\n",
      "Random state supplied, but alg <class 'sklearn.naive_bayes.GaussianNB'> does not support it. Ignoring this setting.\n"
     ]
    },
    {
     "name": "stdout",
     "output_type": "stream",
     "text": [
      "{}\n"
     ]
    },
    {
     "name": "stderr",
     "output_type": "stream",
     "text": [
      "Random state supplied, but alg <class 'sklearn.naive_bayes.GaussianNB'> does not support it. Ignoring this setting.\n"
     ]
    },
    {
     "name": "stdout",
     "output_type": "stream",
     "text": [
      "{}\n"
     ]
    },
    {
     "name": "stderr",
     "output_type": "stream",
     "text": [
      "Random state supplied, but alg <class 'sklearn.naive_bayes.GaussianNB'> does not support it. Ignoring this setting.\n"
     ]
    },
    {
     "name": "stdout",
     "output_type": "stream",
     "text": [
      "{}\n"
     ]
    },
    {
     "name": "stderr",
     "output_type": "stream",
     "text": [
      "Random state supplied, but alg <class 'sklearn.naive_bayes.GaussianNB'> does not support it. Ignoring this setting.\n"
     ]
    },
    {
     "name": "stdout",
     "output_type": "stream",
     "text": [
      "{}\n"
     ]
    },
    {
     "name": "stderr",
     "output_type": "stream",
     "text": [
      "Random state supplied, but alg <class 'sklearn.naive_bayes.GaussianNB'> does not support it. Ignoring this setting.\n"
     ]
    },
    {
     "name": "stdout",
     "output_type": "stream",
     "text": [
      "{}\n"
     ]
    },
    {
     "name": "stderr",
     "output_type": "stream",
     "text": [
      "Random state supplied, but alg <class 'sklearn.naive_bayes.GaussianNB'> does not support it. Ignoring this setting.\n"
     ]
    },
    {
     "name": "stdout",
     "output_type": "stream",
     "text": [
      "{}\n"
     ]
    },
    {
     "name": "stderr",
     "output_type": "stream",
     "text": [
      "Random state supplied, but alg <class 'sklearn.naive_bayes.GaussianNB'> does not support it. Ignoring this setting.\n"
     ]
    },
    {
     "name": "stdout",
     "output_type": "stream",
     "text": [
      "{}\n"
     ]
    },
    {
     "name": "stderr",
     "output_type": "stream",
     "text": [
      "Random state supplied, but alg <class 'sklearn.naive_bayes.GaussianNB'> does not support it. Ignoring this setting.\n",
      "Random state supplied, but alg <class 'sklearn.naive_bayes.GaussianNB'> does not support it. Ignoring this setting.\n"
     ]
    },
    {
     "name": "stdout",
     "output_type": "stream",
     "text": [
      "{}\n",
      "{}\n"
     ]
    },
    {
     "name": "stderr",
     "output_type": "stream",
     "text": [
      "Random state supplied, but alg <class 'sklearn.naive_bayes.GaussianNB'> does not support it. Ignoring this setting.\n"
     ]
    },
    {
     "name": "stdout",
     "output_type": "stream",
     "text": [
      "{}\n"
     ]
    },
    {
     "name": "stderr",
     "output_type": "stream",
     "text": [
      "Random state supplied, but alg <class 'sklearn.naive_bayes.GaussianNB'> does not support it. Ignoring this setting.\n"
     ]
    },
    {
     "name": "stdout",
     "output_type": "stream",
     "text": [
      "{}\n"
     ]
    },
    {
     "name": "stderr",
     "output_type": "stream",
     "text": [
      "Random state supplied, but alg <class 'sklearn.naive_bayes.GaussianNB'> does not support it. Ignoring this setting.\n"
     ]
    },
    {
     "name": "stdout",
     "output_type": "stream",
     "text": [
      "{}\n"
     ]
    },
    {
     "data": {
      "text/html": [
       "<div>\n",
       "<style scoped>\n",
       "    .dataframe tbody tr th:only-of-type {\n",
       "        vertical-align: middle;\n",
       "    }\n",
       "\n",
       "    .dataframe tbody tr th {\n",
       "        vertical-align: top;\n",
       "    }\n",
       "\n",
       "    .dataframe thead th {\n",
       "        text-align: right;\n",
       "    }\n",
       "</style>\n",
       "<table border=\"1\" class=\"dataframe\">\n",
       "  <thead>\n",
       "    <tr style=\"text-align: right;\">\n",
       "      <th></th>\n",
       "      <th>Assessor</th>\n",
       "      <th>ScoreFunc</th>\n",
       "      <th>Score</th>\n",
       "      <th>TargetProperties</th>\n",
       "      <th>TargetTasks</th>\n",
       "      <th>ModelFile</th>\n",
       "      <th>Algorithm</th>\n",
       "      <th>AlgorithmParams</th>\n",
       "      <th>ReplicaID</th>\n",
       "      <th>DataSet</th>\n",
       "      <th>ReplicaFile</th>\n",
       "    </tr>\n",
       "  </thead>\n",
       "  <tbody>\n",
       "    <tr>\n",
       "      <th>0</th>\n",
       "      <td>TestSetAssessor</td>\n",
       "      <td>roc_auc_score</td>\n",
       "      <td>0.707071</td>\n",
       "      <td>pchembl_value_Mean</td>\n",
       "      <td>SINGLECLASS</td>\n",
       "      <td>/home/sichom/projects/QSPRpred/tutorials/tutor...</td>\n",
       "      <td>GaussianNB</td>\n",
       "      <td>NaN</td>\n",
       "      <td>TutorialBenchmark_2746317213</td>\n",
       "      <td>TutorialBenchmarkData_FingerprintSet_MorganFP_...</td>\n",
       "      <td>/home/sichom/projects/QSPRpred/tutorials/tutor...</td>\n",
       "    </tr>\n",
       "    <tr>\n",
       "      <th>1</th>\n",
       "      <td>TestSetAssessor</td>\n",
       "      <td>matthews_corrcoef</td>\n",
       "      <td>0.393939</td>\n",
       "      <td>pchembl_value_Mean</td>\n",
       "      <td>SINGLECLASS</td>\n",
       "      <td>/home/sichom/projects/QSPRpred/tutorials/tutor...</td>\n",
       "      <td>GaussianNB</td>\n",
       "      <td>NaN</td>\n",
       "      <td>TutorialBenchmark_2746317213</td>\n",
       "      <td>TutorialBenchmarkData_FingerprintSet_MorganFP_...</td>\n",
       "      <td>/home/sichom/projects/QSPRpred/tutorials/tutor...</td>\n",
       "    </tr>\n",
       "    <tr>\n",
       "      <th>2</th>\n",
       "      <td>TestSetAssessor</td>\n",
       "      <td>roc_auc_score</td>\n",
       "      <td>0.772727</td>\n",
       "      <td>pchembl_value_Mean</td>\n",
       "      <td>SINGLECLASS</td>\n",
       "      <td>/home/sichom/projects/QSPRpred/tutorials/tutor...</td>\n",
       "      <td>ExtraTreesClassifier</td>\n",
       "      <td>{\"random_state\": 478163327}</td>\n",
       "      <td>TutorialBenchmark_478163327</td>\n",
       "      <td>TutorialBenchmarkData_FingerprintSet_MorganFP_...</td>\n",
       "      <td>/home/sichom/projects/QSPRpred/tutorials/tutor...</td>\n",
       "    </tr>\n",
       "    <tr>\n",
       "      <th>3</th>\n",
       "      <td>TestSetAssessor</td>\n",
       "      <td>matthews_corrcoef</td>\n",
       "      <td>0.287213</td>\n",
       "      <td>pchembl_value_Mean</td>\n",
       "      <td>SINGLECLASS</td>\n",
       "      <td>/home/sichom/projects/QSPRpred/tutorials/tutor...</td>\n",
       "      <td>ExtraTreesClassifier</td>\n",
       "      <td>{\"random_state\": 478163327}</td>\n",
       "      <td>TutorialBenchmark_478163327</td>\n",
       "      <td>TutorialBenchmarkData_FingerprintSet_MorganFP_...</td>\n",
       "      <td>/home/sichom/projects/QSPRpred/tutorials/tutor...</td>\n",
       "    </tr>\n",
       "    <tr>\n",
       "      <th>4</th>\n",
       "      <td>TestSetAssessor</td>\n",
       "      <td>roc_auc_score</td>\n",
       "      <td>0.757576</td>\n",
       "      <td>pchembl_value_Mean</td>\n",
       "      <td>SINGLECLASS</td>\n",
       "      <td>/home/sichom/projects/QSPRpred/tutorials/tutor...</td>\n",
       "      <td>GaussianNB</td>\n",
       "      <td>NaN</td>\n",
       "      <td>TutorialBenchmark_1181241943</td>\n",
       "      <td>TutorialBenchmarkData_FingerprintSet_MorganFP</td>\n",
       "      <td>/home/sichom/projects/QSPRpred/tutorials/tutor...</td>\n",
       "    </tr>\n",
       "    <tr>\n",
       "      <th>...</th>\n",
       "      <td>...</td>\n",
       "      <td>...</td>\n",
       "      <td>...</td>\n",
       "      <td>...</td>\n",
       "      <td>...</td>\n",
       "      <td>...</td>\n",
       "      <td>...</td>\n",
       "      <td>...</td>\n",
       "      <td>...</td>\n",
       "      <td>...</td>\n",
       "      <td>...</td>\n",
       "    </tr>\n",
       "    <tr>\n",
       "      <th>355</th>\n",
       "      <td>TestSetAssessor</td>\n",
       "      <td>matthews_corrcoef</td>\n",
       "      <td>0.301511</td>\n",
       "      <td>pchembl_value_Mean</td>\n",
       "      <td>SINGLECLASS</td>\n",
       "      <td>/home/sichom/projects/QSPRpred/tutorials/tutor...</td>\n",
       "      <td>ExtraTreesClassifier</td>\n",
       "      <td>{\"random_state\": 3246059658}</td>\n",
       "      <td>TutorialBenchmark_3246059658</td>\n",
       "      <td>TutorialBenchmarkData_RDkit</td>\n",
       "      <td>/home/sichom/projects/QSPRpred/tutorials/tutor...</td>\n",
       "    </tr>\n",
       "    <tr>\n",
       "      <th>356</th>\n",
       "      <td>TestSetAssessor</td>\n",
       "      <td>roc_auc_score</td>\n",
       "      <td>0.755208</td>\n",
       "      <td>pchembl_value_Mean</td>\n",
       "      <td>SINGLECLASS</td>\n",
       "      <td>/home/sichom/projects/QSPRpred/tutorials/tutor...</td>\n",
       "      <td>GaussianNB</td>\n",
       "      <td>NaN</td>\n",
       "      <td>TutorialBenchmark_202363285</td>\n",
       "      <td>TutorialBenchmarkData_RDkit</td>\n",
       "      <td>/home/sichom/projects/QSPRpred/tutorials/tutor...</td>\n",
       "    </tr>\n",
       "    <tr>\n",
       "      <th>357</th>\n",
       "      <td>TestSetAssessor</td>\n",
       "      <td>matthews_corrcoef</td>\n",
       "      <td>-0.068041</td>\n",
       "      <td>pchembl_value_Mean</td>\n",
       "      <td>SINGLECLASS</td>\n",
       "      <td>/home/sichom/projects/QSPRpred/tutorials/tutor...</td>\n",
       "      <td>GaussianNB</td>\n",
       "      <td>NaN</td>\n",
       "      <td>TutorialBenchmark_202363285</td>\n",
       "      <td>TutorialBenchmarkData_RDkit</td>\n",
       "      <td>/home/sichom/projects/QSPRpred/tutorials/tutor...</td>\n",
       "    </tr>\n",
       "    <tr>\n",
       "      <th>358</th>\n",
       "      <td>TestSetAssessor</td>\n",
       "      <td>roc_auc_score</td>\n",
       "      <td>0.568182</td>\n",
       "      <td>pchembl_value_Mean</td>\n",
       "      <td>SINGLECLASS</td>\n",
       "      <td>/home/sichom/projects/QSPRpred/tutorials/tutor...</td>\n",
       "      <td>ExtraTreesClassifier</td>\n",
       "      <td>{\"random_state\": 3698408854}</td>\n",
       "      <td>TutorialBenchmark_3698408854</td>\n",
       "      <td>TutorialBenchmarkData_RDkit</td>\n",
       "      <td>/home/sichom/projects/QSPRpred/tutorials/tutor...</td>\n",
       "    </tr>\n",
       "    <tr>\n",
       "      <th>359</th>\n",
       "      <td>TestSetAssessor</td>\n",
       "      <td>matthews_corrcoef</td>\n",
       "      <td>0.276385</td>\n",
       "      <td>pchembl_value_Mean</td>\n",
       "      <td>SINGLECLASS</td>\n",
       "      <td>/home/sichom/projects/QSPRpred/tutorials/tutor...</td>\n",
       "      <td>ExtraTreesClassifier</td>\n",
       "      <td>{\"random_state\": 3698408854}</td>\n",
       "      <td>TutorialBenchmark_3698408854</td>\n",
       "      <td>TutorialBenchmarkData_RDkit</td>\n",
       "      <td>/home/sichom/projects/QSPRpred/tutorials/tutor...</td>\n",
       "    </tr>\n",
       "  </tbody>\n",
       "</table>\n",
       "<p>360 rows × 11 columns</p>\n",
       "</div>"
      ],
      "text/plain": [
       "            Assessor          ScoreFunc     Score    TargetProperties  \\\n",
       "0    TestSetAssessor      roc_auc_score  0.707071  pchembl_value_Mean   \n",
       "1    TestSetAssessor  matthews_corrcoef  0.393939  pchembl_value_Mean   \n",
       "2    TestSetAssessor      roc_auc_score  0.772727  pchembl_value_Mean   \n",
       "3    TestSetAssessor  matthews_corrcoef  0.287213  pchembl_value_Mean   \n",
       "4    TestSetAssessor      roc_auc_score  0.757576  pchembl_value_Mean   \n",
       "..               ...                ...       ...                 ...   \n",
       "355  TestSetAssessor  matthews_corrcoef  0.301511  pchembl_value_Mean   \n",
       "356  TestSetAssessor      roc_auc_score  0.755208  pchembl_value_Mean   \n",
       "357  TestSetAssessor  matthews_corrcoef -0.068041  pchembl_value_Mean   \n",
       "358  TestSetAssessor      roc_auc_score  0.568182  pchembl_value_Mean   \n",
       "359  TestSetAssessor  matthews_corrcoef  0.276385  pchembl_value_Mean   \n",
       "\n",
       "     TargetTasks                                          ModelFile  \\\n",
       "0    SINGLECLASS  /home/sichom/projects/QSPRpred/tutorials/tutor...   \n",
       "1    SINGLECLASS  /home/sichom/projects/QSPRpred/tutorials/tutor...   \n",
       "2    SINGLECLASS  /home/sichom/projects/QSPRpred/tutorials/tutor...   \n",
       "3    SINGLECLASS  /home/sichom/projects/QSPRpred/tutorials/tutor...   \n",
       "4    SINGLECLASS  /home/sichom/projects/QSPRpred/tutorials/tutor...   \n",
       "..           ...                                                ...   \n",
       "355  SINGLECLASS  /home/sichom/projects/QSPRpred/tutorials/tutor...   \n",
       "356  SINGLECLASS  /home/sichom/projects/QSPRpred/tutorials/tutor...   \n",
       "357  SINGLECLASS  /home/sichom/projects/QSPRpred/tutorials/tutor...   \n",
       "358  SINGLECLASS  /home/sichom/projects/QSPRpred/tutorials/tutor...   \n",
       "359  SINGLECLASS  /home/sichom/projects/QSPRpred/tutorials/tutor...   \n",
       "\n",
       "                Algorithm               AlgorithmParams  \\\n",
       "0              GaussianNB                           NaN   \n",
       "1              GaussianNB                           NaN   \n",
       "2    ExtraTreesClassifier   {\"random_state\": 478163327}   \n",
       "3    ExtraTreesClassifier   {\"random_state\": 478163327}   \n",
       "4              GaussianNB                           NaN   \n",
       "..                    ...                           ...   \n",
       "355  ExtraTreesClassifier  {\"random_state\": 3246059658}   \n",
       "356            GaussianNB                           NaN   \n",
       "357            GaussianNB                           NaN   \n",
       "358  ExtraTreesClassifier  {\"random_state\": 3698408854}   \n",
       "359  ExtraTreesClassifier  {\"random_state\": 3698408854}   \n",
       "\n",
       "                        ReplicaID  \\\n",
       "0    TutorialBenchmark_2746317213   \n",
       "1    TutorialBenchmark_2746317213   \n",
       "2     TutorialBenchmark_478163327   \n",
       "3     TutorialBenchmark_478163327   \n",
       "4    TutorialBenchmark_1181241943   \n",
       "..                            ...   \n",
       "355  TutorialBenchmark_3246059658   \n",
       "356   TutorialBenchmark_202363285   \n",
       "357   TutorialBenchmark_202363285   \n",
       "358  TutorialBenchmark_3698408854   \n",
       "359  TutorialBenchmark_3698408854   \n",
       "\n",
       "                                               DataSet  \\\n",
       "0    TutorialBenchmarkData_FingerprintSet_MorganFP_...   \n",
       "1    TutorialBenchmarkData_FingerprintSet_MorganFP_...   \n",
       "2    TutorialBenchmarkData_FingerprintSet_MorganFP_...   \n",
       "3    TutorialBenchmarkData_FingerprintSet_MorganFP_...   \n",
       "4        TutorialBenchmarkData_FingerprintSet_MorganFP   \n",
       "..                                                 ...   \n",
       "355                        TutorialBenchmarkData_RDkit   \n",
       "356                        TutorialBenchmarkData_RDkit   \n",
       "357                        TutorialBenchmarkData_RDkit   \n",
       "358                        TutorialBenchmarkData_RDkit   \n",
       "359                        TutorialBenchmarkData_RDkit   \n",
       "\n",
       "                                           ReplicaFile  \n",
       "0    /home/sichom/projects/QSPRpred/tutorials/tutor...  \n",
       "1    /home/sichom/projects/QSPRpred/tutorials/tutor...  \n",
       "2    /home/sichom/projects/QSPRpred/tutorials/tutor...  \n",
       "3    /home/sichom/projects/QSPRpred/tutorials/tutor...  \n",
       "4    /home/sichom/projects/QSPRpred/tutorials/tutor...  \n",
       "..                                                 ...  \n",
       "355  /home/sichom/projects/QSPRpred/tutorials/tutor...  \n",
       "356  /home/sichom/projects/QSPRpred/tutorials/tutor...  \n",
       "357  /home/sichom/projects/QSPRpred/tutorials/tutor...  \n",
       "358  /home/sichom/projects/QSPRpred/tutorials/tutor...  \n",
       "359  /home/sichom/projects/QSPRpred/tutorials/tutor...  \n",
       "\n",
       "[360 rows x 11 columns]"
      ]
     },
     "execution_count": 8,
     "metadata": {},
     "output_type": "execute_result"
    }
   ],
   "source": [
    "import shutil\n",
    "\n",
    "if os.path.exists(BASE_DIR):\n",
    "    # start fresh (not needed if you want to reuse results from the previous run)\n",
    "    shutil.rmtree(BASE_DIR, ignore_errors=True)\n",
    "\n",
    "# this will start the actual benchmarking\n",
    "runner.run(raise_errors=True)"
   ]
  },
  {
   "cell_type": "markdown",
   "id": "a872476f29adb9e3",
   "metadata": {
    "collapsed": false,
    "jupyter": {
     "outputs_hidden": false
    }
   },
   "source": [
    "Note on reusing results: It is recommended to reuse results only when the settings of the runner have not changed. If they did, you might be running a risk of reusing irrelevant results because the same ID can be generated for a replica that defines a different experiment in the new settings.\n",
    "\n",
    "The runner has finished and we can now load the results of our benchmark. It is a simple data frame:"
   ]
  },
  {
   "cell_type": "code",
   "execution_count": 9,
   "id": "3b31955b5d284386",
   "metadata": {
    "ExecuteTime": {
     "end_time": "2023-12-04T19:53:17.364975738Z",
     "start_time": "2023-12-04T19:53:17.347941736Z"
    },
    "collapsed": false,
    "jupyter": {
     "outputs_hidden": false
    }
   },
   "outputs": [
    {
     "data": {
      "text/plain": [
       "(360, 11)"
      ]
     },
     "execution_count": 9,
     "metadata": {},
     "output_type": "execute_result"
    }
   ],
   "source": [
    "df_results = pd.read_table(runner.resultsFile)\n",
    "df_results.shape"
   ]
  },
  {
   "cell_type": "markdown",
   "id": "900759ead548aaf7",
   "metadata": {
    "collapsed": false,
    "jupyter": {
     "outputs_hidden": false
    }
   },
   "source": [
    "It is 2 times the number of replicas because we have two assessors:"
   ]
  },
  {
   "cell_type": "code",
   "execution_count": 10,
   "id": "68994f588e36770a",
   "metadata": {
    "ExecuteTime": {
     "end_time": "2023-12-04T19:53:17.448169598Z",
     "start_time": "2023-12-04T19:53:17.370093901Z"
    },
    "collapsed": false,
    "jupyter": {
     "outputs_hidden": false
    }
   },
   "outputs": [
    {
     "data": {
      "text/plain": [
       "360"
      ]
     },
     "execution_count": 10,
     "metadata": {},
     "output_type": "execute_result"
    }
   ],
   "source": [
    "2 * runner.nRuns"
   ]
  },
  {
   "cell_type": "markdown",
   "id": "ddb7285bf87a0a3f",
   "metadata": {
    "collapsed": false,
    "jupyter": {
     "outputs_hidden": false
    }
   },
   "source": [
    "We can check the results for the first replica:"
   ]
  },
  {
   "cell_type": "code",
   "execution_count": 11,
   "id": "43b781b30b0828ec",
   "metadata": {
    "ExecuteTime": {
     "end_time": "2023-12-04T19:53:17.450804564Z",
     "start_time": "2023-12-04T19:53:17.383502651Z"
    },
    "collapsed": false,
    "jupyter": {
     "outputs_hidden": false
    }
   },
   "outputs": [
    {
     "data": {
      "text/plain": [
       "Assessor                                              TestSetAssessor\n",
       "ScoreFunc                                               roc_auc_score\n",
       "Score                                                        0.707071\n",
       "TargetProperties                                   pchembl_value_Mean\n",
       "TargetTasks                                               SINGLECLASS\n",
       "ModelFile           /home/sichom/projects/QSPRpred/tutorials/tutor...\n",
       "Algorithm                                                  GaussianNB\n",
       "AlgorithmParams                                                   NaN\n",
       "ReplicaID                                TutorialBenchmark_2746317213\n",
       "DataSet             TutorialBenchmarkData_FingerprintSet_MorganFP_...\n",
       "ReplicaFile         /home/sichom/projects/QSPRpred/tutorials/tutor...\n",
       "Name: 0, dtype: object"
      ]
     },
     "execution_count": 11,
     "metadata": {},
     "output_type": "execute_result"
    }
   ],
   "source": [
    "df_results.iloc[0, :]"
   ]
  },
  {
   "cell_type": "markdown",
   "id": "51892f8c72ba8478",
   "metadata": {
    "collapsed": false,
    "jupyter": {
     "outputs_hidden": false
    }
   },
   "source": [
    "We can see that for this replica we were testing the `GaussianNB` model with the `CL` property and the `RandomSplit` strategy. We can see the `roc_auc` score in  the `Score` column. We can always recreate the replica from the saved file:"
   ]
  },
  {
   "cell_type": "code",
   "execution_count": 12,
   "id": "c3d16bb8c010f552",
   "metadata": {
    "ExecuteTime": {
     "end_time": "2023-12-04T19:53:17.517715571Z",
     "start_time": "2023-12-04T19:53:17.426944206Z"
    },
    "collapsed": false,
    "jupyter": {
     "outputs_hidden": false
    }
   },
   "outputs": [
    {
     "data": {
      "text/plain": [
       "<qsprpred.benchmarks.replica.Replica at 0x7f6cfaed18d0>"
      ]
     },
     "execution_count": 12,
     "metadata": {},
     "output_type": "execute_result"
    }
   ],
   "source": [
    "from qsprpred.benchmarks import Replica\n",
    "\n",
    "replica = Replica.fromFile(df_results.iloc[0, :].ReplicaFile)\n",
    "replica"
   ]
  },
  {
   "cell_type": "markdown",
   "id": "1da76b683abbe921",
   "metadata": {
    "collapsed": false,
    "jupyter": {
     "outputs_hidden": false
    }
   },
   "source": [
    "# Recreating Experiments\n",
    "\n",
    "QSPRpred aims for maximum reproducibility of experiments. Therefore, each replica can be rerun after saving and experiments repeated:"
   ]
  },
  {
   "cell_type": "code",
   "execution_count": 13,
   "id": "6789a62acc295862",
   "metadata": {
    "ExecuteTime": {
     "end_time": "2023-12-04T19:53:17.747478815Z",
     "start_time": "2023-12-04T19:53:17.427190710Z"
    },
    "collapsed": false,
    "jupyter": {
     "outputs_hidden": false
    }
   },
   "outputs": [],
   "source": [
    "# reinitialize data\n",
    "replica.initData()"
   ]
  },
  {
   "cell_type": "code",
   "execution_count": 14,
   "id": "9043b7961eac066",
   "metadata": {
    "ExecuteTime": {
     "end_time": "2023-12-04T19:53:17.749583014Z",
     "start_time": "2023-12-04T19:53:17.590227383Z"
    },
    "collapsed": false,
    "jupyter": {
     "outputs_hidden": false
    }
   },
   "outputs": [
    {
     "data": {
      "text/html": [
       "<div>\n",
       "<style scoped>\n",
       "    .dataframe tbody tr th:only-of-type {\n",
       "        vertical-align: middle;\n",
       "    }\n",
       "\n",
       "    .dataframe tbody tr th {\n",
       "        vertical-align: top;\n",
       "    }\n",
       "\n",
       "    .dataframe thead th {\n",
       "        text-align: right;\n",
       "    }\n",
       "</style>\n",
       "<table border=\"1\" class=\"dataframe\">\n",
       "  <thead>\n",
       "    <tr style=\"text-align: right;\">\n",
       "      <th></th>\n",
       "      <th>SMILES</th>\n",
       "      <th>pchembl_value_Mean</th>\n",
       "      <th>Year</th>\n",
       "      <th>QSPRID</th>\n",
       "      <th>pchembl_value_Mean_class</th>\n",
       "    </tr>\n",
       "    <tr>\n",
       "      <th>QSPRID</th>\n",
       "      <th></th>\n",
       "      <th></th>\n",
       "      <th></th>\n",
       "      <th></th>\n",
       "      <th></th>\n",
       "    </tr>\n",
       "  </thead>\n",
       "  <tbody>\n",
       "    <tr>\n",
       "      <th>TutorialBenchmarkData_000</th>\n",
       "      <td>CCCn1c(-c2ccccc2)nc2c1ncnc2NC1CCOC1</td>\n",
       "      <td>5.770</td>\n",
       "      <td>2018.0</td>\n",
       "      <td>TutorialBenchmarkData_000</td>\n",
       "      <td>False</td>\n",
       "    </tr>\n",
       "    <tr>\n",
       "      <th>TutorialBenchmarkData_001</th>\n",
       "      <td>CCCn1c(=O)c2c([nH]c(-c3c[nH]nc3)n2)n(CCC)c1=O</td>\n",
       "      <td>6.640</td>\n",
       "      <td>2006.0</td>\n",
       "      <td>TutorialBenchmarkData_001</td>\n",
       "      <td>True</td>\n",
       "    </tr>\n",
       "    <tr>\n",
       "      <th>TutorialBenchmarkData_002</th>\n",
       "      <td>COc1cccc2c1nc(N)n1nc(CN3CCN(c4ncc(F)cc4)CC3C)nc21</td>\n",
       "      <td>7.880</td>\n",
       "      <td>2015.0</td>\n",
       "      <td>TutorialBenchmarkData_002</td>\n",
       "      <td>True</td>\n",
       "    </tr>\n",
       "    <tr>\n",
       "      <th>TutorialBenchmarkData_003</th>\n",
       "      <td>COc1cccc(CCCC(=O)Nc2nc3c(cccc3)c(=O)s2)c1</td>\n",
       "      <td>6.940</td>\n",
       "      <td>2013.0</td>\n",
       "      <td>TutorialBenchmarkData_003</td>\n",
       "      <td>True</td>\n",
       "    </tr>\n",
       "    <tr>\n",
       "      <th>TutorialBenchmarkData_004</th>\n",
       "      <td>COc1c2nc(NC(=O)c3ccc(F)cc3)sc2c(N(CCO)C(C)=O)cc1</td>\n",
       "      <td>7.010</td>\n",
       "      <td>2010.0</td>\n",
       "      <td>TutorialBenchmarkData_004</td>\n",
       "      <td>True</td>\n",
       "    </tr>\n",
       "    <tr>\n",
       "      <th>...</th>\n",
       "      <td>...</td>\n",
       "      <td>...</td>\n",
       "      <td>...</td>\n",
       "      <td>...</td>\n",
       "      <td>...</td>\n",
       "    </tr>\n",
       "    <tr>\n",
       "      <th>TutorialBenchmarkData_095</th>\n",
       "      <td>Cc1ccc2c(O)c(C(=O)NCc3ccco3)cnc2n1</td>\n",
       "      <td>7.460</td>\n",
       "      <td>2005.0</td>\n",
       "      <td>TutorialBenchmarkData_095</td>\n",
       "      <td>True</td>\n",
       "    </tr>\n",
       "    <tr>\n",
       "      <th>TutorialBenchmarkData_096</th>\n",
       "      <td>CC(O)CCc1nc(N)c2nc(-n3nccn3)n(C)c2n1</td>\n",
       "      <td>7.102</td>\n",
       "      <td>2013.0</td>\n",
       "      <td>TutorialBenchmarkData_096</td>\n",
       "      <td>True</td>\n",
       "    </tr>\n",
       "    <tr>\n",
       "      <th>TutorialBenchmarkData_097</th>\n",
       "      <td>CCN(C(C)=O)c1ccc(Cl)c2c1sc(NC(=O)c1ccc(F)cc1)n2</td>\n",
       "      <td>7.820</td>\n",
       "      <td>2010.0</td>\n",
       "      <td>TutorialBenchmarkData_097</td>\n",
       "      <td>True</td>\n",
       "    </tr>\n",
       "    <tr>\n",
       "      <th>TutorialBenchmarkData_098</th>\n",
       "      <td>CS(=O)(=O)c1ccc(Cn2ncc3c2nc(N)nc3-c2ccco2)cc1</td>\n",
       "      <td>6.470</td>\n",
       "      <td>2008.0</td>\n",
       "      <td>TutorialBenchmarkData_098</td>\n",
       "      <td>False</td>\n",
       "    </tr>\n",
       "    <tr>\n",
       "      <th>TutorialBenchmarkData_099</th>\n",
       "      <td>N#Cc1c(-c2cc3c(cc2)OCO3)nc(N)nc1-c1ccccc1</td>\n",
       "      <td>8.280</td>\n",
       "      <td>2008.0</td>\n",
       "      <td>TutorialBenchmarkData_099</td>\n",
       "      <td>True</td>\n",
       "    </tr>\n",
       "  </tbody>\n",
       "</table>\n",
       "<p>100 rows × 5 columns</p>\n",
       "</div>"
      ],
      "text/plain": [
       "                                                                      SMILES  \\\n",
       "QSPRID                                                                         \n",
       "TutorialBenchmarkData_000                CCCn1c(-c2ccccc2)nc2c1ncnc2NC1CCOC1   \n",
       "TutorialBenchmarkData_001      CCCn1c(=O)c2c([nH]c(-c3c[nH]nc3)n2)n(CCC)c1=O   \n",
       "TutorialBenchmarkData_002  COc1cccc2c1nc(N)n1nc(CN3CCN(c4ncc(F)cc4)CC3C)nc21   \n",
       "TutorialBenchmarkData_003          COc1cccc(CCCC(=O)Nc2nc3c(cccc3)c(=O)s2)c1   \n",
       "TutorialBenchmarkData_004   COc1c2nc(NC(=O)c3ccc(F)cc3)sc2c(N(CCO)C(C)=O)cc1   \n",
       "...                                                                      ...   \n",
       "TutorialBenchmarkData_095                 Cc1ccc2c(O)c(C(=O)NCc3ccco3)cnc2n1   \n",
       "TutorialBenchmarkData_096               CC(O)CCc1nc(N)c2nc(-n3nccn3)n(C)c2n1   \n",
       "TutorialBenchmarkData_097    CCN(C(C)=O)c1ccc(Cl)c2c1sc(NC(=O)c1ccc(F)cc1)n2   \n",
       "TutorialBenchmarkData_098      CS(=O)(=O)c1ccc(Cn2ncc3c2nc(N)nc3-c2ccco2)cc1   \n",
       "TutorialBenchmarkData_099          N#Cc1c(-c2cc3c(cc2)OCO3)nc(N)nc1-c1ccccc1   \n",
       "\n",
       "                           pchembl_value_Mean    Year  \\\n",
       "QSPRID                                                  \n",
       "TutorialBenchmarkData_000               5.770  2018.0   \n",
       "TutorialBenchmarkData_001               6.640  2006.0   \n",
       "TutorialBenchmarkData_002               7.880  2015.0   \n",
       "TutorialBenchmarkData_003               6.940  2013.0   \n",
       "TutorialBenchmarkData_004               7.010  2010.0   \n",
       "...                                       ...     ...   \n",
       "TutorialBenchmarkData_095               7.460  2005.0   \n",
       "TutorialBenchmarkData_096               7.102  2013.0   \n",
       "TutorialBenchmarkData_097               7.820  2010.0   \n",
       "TutorialBenchmarkData_098               6.470  2008.0   \n",
       "TutorialBenchmarkData_099               8.280  2008.0   \n",
       "\n",
       "                                              QSPRID  pchembl_value_Mean_class  \n",
       "QSPRID                                                                          \n",
       "TutorialBenchmarkData_000  TutorialBenchmarkData_000                     False  \n",
       "TutorialBenchmarkData_001  TutorialBenchmarkData_001                      True  \n",
       "TutorialBenchmarkData_002  TutorialBenchmarkData_002                      True  \n",
       "TutorialBenchmarkData_003  TutorialBenchmarkData_003                      True  \n",
       "TutorialBenchmarkData_004  TutorialBenchmarkData_004                      True  \n",
       "...                                              ...                       ...  \n",
       "TutorialBenchmarkData_095  TutorialBenchmarkData_095                      True  \n",
       "TutorialBenchmarkData_096  TutorialBenchmarkData_096                      True  \n",
       "TutorialBenchmarkData_097  TutorialBenchmarkData_097                      True  \n",
       "TutorialBenchmarkData_098  TutorialBenchmarkData_098                     False  \n",
       "TutorialBenchmarkData_099  TutorialBenchmarkData_099                      True  \n",
       "\n",
       "[100 rows x 5 columns]"
      ]
     },
     "execution_count": 14,
     "metadata": {},
     "output_type": "execute_result"
    }
   ],
   "source": [
    "replica.ds.getDF()"
   ]
  },
  {
   "cell_type": "code",
   "execution_count": 15,
   "id": "e2350f54758b322d",
   "metadata": {
    "ExecuteTime": {
     "end_time": "2023-12-04T19:53:17.778859168Z",
     "start_time": "2023-12-04T19:53:17.629415528Z"
    },
    "collapsed": false,
    "jupyter": {
     "outputs_hidden": false
    }
   },
   "outputs": [],
   "source": [
    "# reinitialize descriptors\n",
    "replica.addDescriptors()"
   ]
  },
  {
   "cell_type": "code",
   "execution_count": 16,
   "id": "2f0d58048115c59d",
   "metadata": {
    "ExecuteTime": {
     "end_time": "2023-12-04T19:53:17.948486536Z",
     "start_time": "2023-12-04T19:53:17.738837349Z"
    },
    "collapsed": false,
    "jupyter": {
     "outputs_hidden": false
    }
   },
   "outputs": [
    {
     "data": {
      "text/html": [
       "<div>\n",
       "<style scoped>\n",
       "    .dataframe tbody tr th:only-of-type {\n",
       "        vertical-align: middle;\n",
       "    }\n",
       "\n",
       "    .dataframe tbody tr th {\n",
       "        vertical-align: top;\n",
       "    }\n",
       "\n",
       "    .dataframe thead th {\n",
       "        text-align: right;\n",
       "    }\n",
       "</style>\n",
       "<table border=\"1\" class=\"dataframe\">\n",
       "  <thead>\n",
       "    <tr style=\"text-align: right;\">\n",
       "      <th></th>\n",
       "      <th>Descriptor_FingerprintSet_MorganFP_0</th>\n",
       "      <th>Descriptor_FingerprintSet_MorganFP_1</th>\n",
       "      <th>Descriptor_FingerprintSet_MorganFP_2</th>\n",
       "      <th>Descriptor_FingerprintSet_MorganFP_3</th>\n",
       "      <th>Descriptor_FingerprintSet_MorganFP_4</th>\n",
       "      <th>Descriptor_FingerprintSet_MorganFP_5</th>\n",
       "      <th>Descriptor_FingerprintSet_MorganFP_6</th>\n",
       "      <th>Descriptor_FingerprintSet_MorganFP_7</th>\n",
       "      <th>Descriptor_FingerprintSet_MorganFP_8</th>\n",
       "      <th>Descriptor_FingerprintSet_MorganFP_9</th>\n",
       "      <th>...</th>\n",
       "      <th>Descriptor_RDkit_fr_sulfonamd</th>\n",
       "      <th>Descriptor_RDkit_fr_sulfone</th>\n",
       "      <th>Descriptor_RDkit_fr_term_acetylene</th>\n",
       "      <th>Descriptor_RDkit_fr_tetrazole</th>\n",
       "      <th>Descriptor_RDkit_fr_thiazole</th>\n",
       "      <th>Descriptor_RDkit_fr_thiocyan</th>\n",
       "      <th>Descriptor_RDkit_fr_thiophene</th>\n",
       "      <th>Descriptor_RDkit_fr_unbrch_alkane</th>\n",
       "      <th>Descriptor_RDkit_fr_urea</th>\n",
       "      <th>Descriptor_RDkit_qed</th>\n",
       "    </tr>\n",
       "    <tr>\n",
       "      <th>QSPRID</th>\n",
       "      <th></th>\n",
       "      <th></th>\n",
       "      <th></th>\n",
       "      <th></th>\n",
       "      <th></th>\n",
       "      <th></th>\n",
       "      <th></th>\n",
       "      <th></th>\n",
       "      <th></th>\n",
       "      <th></th>\n",
       "      <th></th>\n",
       "      <th></th>\n",
       "      <th></th>\n",
       "      <th></th>\n",
       "      <th></th>\n",
       "      <th></th>\n",
       "      <th></th>\n",
       "      <th></th>\n",
       "      <th></th>\n",
       "      <th></th>\n",
       "      <th></th>\n",
       "    </tr>\n",
       "  </thead>\n",
       "  <tbody>\n",
       "    <tr>\n",
       "      <th>TutorialBenchmarkData_000</th>\n",
       "      <td>0.0</td>\n",
       "      <td>0.0</td>\n",
       "      <td>0.0</td>\n",
       "      <td>0.0</td>\n",
       "      <td>0.0</td>\n",
       "      <td>0.0</td>\n",
       "      <td>1.0</td>\n",
       "      <td>1.0</td>\n",
       "      <td>0.0</td>\n",
       "      <td>0.0</td>\n",
       "      <td>...</td>\n",
       "      <td>0.0</td>\n",
       "      <td>0.0</td>\n",
       "      <td>0.0</td>\n",
       "      <td>0.0</td>\n",
       "      <td>0.0</td>\n",
       "      <td>0.0</td>\n",
       "      <td>0.0</td>\n",
       "      <td>0.0</td>\n",
       "      <td>0.0</td>\n",
       "      <td>0.781396</td>\n",
       "    </tr>\n",
       "    <tr>\n",
       "      <th>TutorialBenchmarkData_001</th>\n",
       "      <td>0.0</td>\n",
       "      <td>0.0</td>\n",
       "      <td>0.0</td>\n",
       "      <td>1.0</td>\n",
       "      <td>0.0</td>\n",
       "      <td>0.0</td>\n",
       "      <td>0.0</td>\n",
       "      <td>0.0</td>\n",
       "      <td>0.0</td>\n",
       "      <td>0.0</td>\n",
       "      <td>...</td>\n",
       "      <td>0.0</td>\n",
       "      <td>0.0</td>\n",
       "      <td>0.0</td>\n",
       "      <td>0.0</td>\n",
       "      <td>0.0</td>\n",
       "      <td>0.0</td>\n",
       "      <td>0.0</td>\n",
       "      <td>0.0</td>\n",
       "      <td>0.0</td>\n",
       "      <td>0.736392</td>\n",
       "    </tr>\n",
       "    <tr>\n",
       "      <th>TutorialBenchmarkData_002</th>\n",
       "      <td>1.0</td>\n",
       "      <td>0.0</td>\n",
       "      <td>0.0</td>\n",
       "      <td>0.0</td>\n",
       "      <td>0.0</td>\n",
       "      <td>0.0</td>\n",
       "      <td>0.0</td>\n",
       "      <td>0.0</td>\n",
       "      <td>1.0</td>\n",
       "      <td>0.0</td>\n",
       "      <td>...</td>\n",
       "      <td>0.0</td>\n",
       "      <td>0.0</td>\n",
       "      <td>0.0</td>\n",
       "      <td>0.0</td>\n",
       "      <td>0.0</td>\n",
       "      <td>0.0</td>\n",
       "      <td>0.0</td>\n",
       "      <td>0.0</td>\n",
       "      <td>0.0</td>\n",
       "      <td>0.534122</td>\n",
       "    </tr>\n",
       "    <tr>\n",
       "      <th>TutorialBenchmarkData_003</th>\n",
       "      <td>1.0</td>\n",
       "      <td>0.0</td>\n",
       "      <td>0.0</td>\n",
       "      <td>0.0</td>\n",
       "      <td>0.0</td>\n",
       "      <td>0.0</td>\n",
       "      <td>0.0</td>\n",
       "      <td>0.0</td>\n",
       "      <td>0.0</td>\n",
       "      <td>0.0</td>\n",
       "      <td>...</td>\n",
       "      <td>0.0</td>\n",
       "      <td>0.0</td>\n",
       "      <td>0.0</td>\n",
       "      <td>0.0</td>\n",
       "      <td>0.0</td>\n",
       "      <td>0.0</td>\n",
       "      <td>0.0</td>\n",
       "      <td>0.0</td>\n",
       "      <td>0.0</td>\n",
       "      <td>0.733913</td>\n",
       "    </tr>\n",
       "    <tr>\n",
       "      <th>TutorialBenchmarkData_004</th>\n",
       "      <td>1.0</td>\n",
       "      <td>0.0</td>\n",
       "      <td>0.0</td>\n",
       "      <td>0.0</td>\n",
       "      <td>0.0</td>\n",
       "      <td>0.0</td>\n",
       "      <td>0.0</td>\n",
       "      <td>0.0</td>\n",
       "      <td>0.0</td>\n",
       "      <td>0.0</td>\n",
       "      <td>...</td>\n",
       "      <td>0.0</td>\n",
       "      <td>0.0</td>\n",
       "      <td>0.0</td>\n",
       "      <td>0.0</td>\n",
       "      <td>1.0</td>\n",
       "      <td>0.0</td>\n",
       "      <td>0.0</td>\n",
       "      <td>0.0</td>\n",
       "      <td>0.0</td>\n",
       "      <td>0.660116</td>\n",
       "    </tr>\n",
       "    <tr>\n",
       "      <th>...</th>\n",
       "      <td>...</td>\n",
       "      <td>...</td>\n",
       "      <td>...</td>\n",
       "      <td>...</td>\n",
       "      <td>...</td>\n",
       "      <td>...</td>\n",
       "      <td>...</td>\n",
       "      <td>...</td>\n",
       "      <td>...</td>\n",
       "      <td>...</td>\n",
       "      <td>...</td>\n",
       "      <td>...</td>\n",
       "      <td>...</td>\n",
       "      <td>...</td>\n",
       "      <td>...</td>\n",
       "      <td>...</td>\n",
       "      <td>...</td>\n",
       "      <td>...</td>\n",
       "      <td>...</td>\n",
       "      <td>...</td>\n",
       "      <td>...</td>\n",
       "    </tr>\n",
       "    <tr>\n",
       "      <th>TutorialBenchmarkData_095</th>\n",
       "      <td>0.0</td>\n",
       "      <td>0.0</td>\n",
       "      <td>0.0</td>\n",
       "      <td>0.0</td>\n",
       "      <td>0.0</td>\n",
       "      <td>0.0</td>\n",
       "      <td>0.0</td>\n",
       "      <td>0.0</td>\n",
       "      <td>0.0</td>\n",
       "      <td>0.0</td>\n",
       "      <td>...</td>\n",
       "      <td>0.0</td>\n",
       "      <td>0.0</td>\n",
       "      <td>0.0</td>\n",
       "      <td>0.0</td>\n",
       "      <td>0.0</td>\n",
       "      <td>0.0</td>\n",
       "      <td>0.0</td>\n",
       "      <td>0.0</td>\n",
       "      <td>0.0</td>\n",
       "      <td>0.768685</td>\n",
       "    </tr>\n",
       "    <tr>\n",
       "      <th>TutorialBenchmarkData_096</th>\n",
       "      <td>0.0</td>\n",
       "      <td>1.0</td>\n",
       "      <td>0.0</td>\n",
       "      <td>0.0</td>\n",
       "      <td>0.0</td>\n",
       "      <td>0.0</td>\n",
       "      <td>0.0</td>\n",
       "      <td>0.0</td>\n",
       "      <td>0.0</td>\n",
       "      <td>0.0</td>\n",
       "      <td>...</td>\n",
       "      <td>0.0</td>\n",
       "      <td>0.0</td>\n",
       "      <td>0.0</td>\n",
       "      <td>0.0</td>\n",
       "      <td>0.0</td>\n",
       "      <td>0.0</td>\n",
       "      <td>0.0</td>\n",
       "      <td>0.0</td>\n",
       "      <td>0.0</td>\n",
       "      <td>0.683816</td>\n",
       "    </tr>\n",
       "    <tr>\n",
       "      <th>TutorialBenchmarkData_097</th>\n",
       "      <td>0.0</td>\n",
       "      <td>0.0</td>\n",
       "      <td>0.0</td>\n",
       "      <td>0.0</td>\n",
       "      <td>0.0</td>\n",
       "      <td>0.0</td>\n",
       "      <td>0.0</td>\n",
       "      <td>0.0</td>\n",
       "      <td>0.0</td>\n",
       "      <td>0.0</td>\n",
       "      <td>...</td>\n",
       "      <td>0.0</td>\n",
       "      <td>0.0</td>\n",
       "      <td>0.0</td>\n",
       "      <td>0.0</td>\n",
       "      <td>1.0</td>\n",
       "      <td>0.0</td>\n",
       "      <td>0.0</td>\n",
       "      <td>0.0</td>\n",
       "      <td>0.0</td>\n",
       "      <td>0.699868</td>\n",
       "    </tr>\n",
       "    <tr>\n",
       "      <th>TutorialBenchmarkData_098</th>\n",
       "      <td>0.0</td>\n",
       "      <td>0.0</td>\n",
       "      <td>0.0</td>\n",
       "      <td>0.0</td>\n",
       "      <td>0.0</td>\n",
       "      <td>0.0</td>\n",
       "      <td>0.0</td>\n",
       "      <td>1.0</td>\n",
       "      <td>1.0</td>\n",
       "      <td>0.0</td>\n",
       "      <td>...</td>\n",
       "      <td>0.0</td>\n",
       "      <td>1.0</td>\n",
       "      <td>0.0</td>\n",
       "      <td>0.0</td>\n",
       "      <td>0.0</td>\n",
       "      <td>0.0</td>\n",
       "      <td>0.0</td>\n",
       "      <td>0.0</td>\n",
       "      <td>0.0</td>\n",
       "      <td>0.585306</td>\n",
       "    </tr>\n",
       "    <tr>\n",
       "      <th>TutorialBenchmarkData_099</th>\n",
       "      <td>0.0</td>\n",
       "      <td>0.0</td>\n",
       "      <td>0.0</td>\n",
       "      <td>0.0</td>\n",
       "      <td>0.0</td>\n",
       "      <td>0.0</td>\n",
       "      <td>0.0</td>\n",
       "      <td>0.0</td>\n",
       "      <td>0.0</td>\n",
       "      <td>0.0</td>\n",
       "      <td>...</td>\n",
       "      <td>0.0</td>\n",
       "      <td>0.0</td>\n",
       "      <td>0.0</td>\n",
       "      <td>0.0</td>\n",
       "      <td>0.0</td>\n",
       "      <td>0.0</td>\n",
       "      <td>0.0</td>\n",
       "      <td>0.0</td>\n",
       "      <td>0.0</td>\n",
       "      <td>0.780763</td>\n",
       "    </tr>\n",
       "  </tbody>\n",
       "</table>\n",
       "<p>100 rows × 464 columns</p>\n",
       "</div>"
      ],
      "text/plain": [
       "                           Descriptor_FingerprintSet_MorganFP_0  \\\n",
       "QSPRID                                                            \n",
       "TutorialBenchmarkData_000                                   0.0   \n",
       "TutorialBenchmarkData_001                                   0.0   \n",
       "TutorialBenchmarkData_002                                   1.0   \n",
       "TutorialBenchmarkData_003                                   1.0   \n",
       "TutorialBenchmarkData_004                                   1.0   \n",
       "...                                                         ...   \n",
       "TutorialBenchmarkData_095                                   0.0   \n",
       "TutorialBenchmarkData_096                                   0.0   \n",
       "TutorialBenchmarkData_097                                   0.0   \n",
       "TutorialBenchmarkData_098                                   0.0   \n",
       "TutorialBenchmarkData_099                                   0.0   \n",
       "\n",
       "                           Descriptor_FingerprintSet_MorganFP_1  \\\n",
       "QSPRID                                                            \n",
       "TutorialBenchmarkData_000                                   0.0   \n",
       "TutorialBenchmarkData_001                                   0.0   \n",
       "TutorialBenchmarkData_002                                   0.0   \n",
       "TutorialBenchmarkData_003                                   0.0   \n",
       "TutorialBenchmarkData_004                                   0.0   \n",
       "...                                                         ...   \n",
       "TutorialBenchmarkData_095                                   0.0   \n",
       "TutorialBenchmarkData_096                                   1.0   \n",
       "TutorialBenchmarkData_097                                   0.0   \n",
       "TutorialBenchmarkData_098                                   0.0   \n",
       "TutorialBenchmarkData_099                                   0.0   \n",
       "\n",
       "                           Descriptor_FingerprintSet_MorganFP_2  \\\n",
       "QSPRID                                                            \n",
       "TutorialBenchmarkData_000                                   0.0   \n",
       "TutorialBenchmarkData_001                                   0.0   \n",
       "TutorialBenchmarkData_002                                   0.0   \n",
       "TutorialBenchmarkData_003                                   0.0   \n",
       "TutorialBenchmarkData_004                                   0.0   \n",
       "...                                                         ...   \n",
       "TutorialBenchmarkData_095                                   0.0   \n",
       "TutorialBenchmarkData_096                                   0.0   \n",
       "TutorialBenchmarkData_097                                   0.0   \n",
       "TutorialBenchmarkData_098                                   0.0   \n",
       "TutorialBenchmarkData_099                                   0.0   \n",
       "\n",
       "                           Descriptor_FingerprintSet_MorganFP_3  \\\n",
       "QSPRID                                                            \n",
       "TutorialBenchmarkData_000                                   0.0   \n",
       "TutorialBenchmarkData_001                                   1.0   \n",
       "TutorialBenchmarkData_002                                   0.0   \n",
       "TutorialBenchmarkData_003                                   0.0   \n",
       "TutorialBenchmarkData_004                                   0.0   \n",
       "...                                                         ...   \n",
       "TutorialBenchmarkData_095                                   0.0   \n",
       "TutorialBenchmarkData_096                                   0.0   \n",
       "TutorialBenchmarkData_097                                   0.0   \n",
       "TutorialBenchmarkData_098                                   0.0   \n",
       "TutorialBenchmarkData_099                                   0.0   \n",
       "\n",
       "                           Descriptor_FingerprintSet_MorganFP_4  \\\n",
       "QSPRID                                                            \n",
       "TutorialBenchmarkData_000                                   0.0   \n",
       "TutorialBenchmarkData_001                                   0.0   \n",
       "TutorialBenchmarkData_002                                   0.0   \n",
       "TutorialBenchmarkData_003                                   0.0   \n",
       "TutorialBenchmarkData_004                                   0.0   \n",
       "...                                                         ...   \n",
       "TutorialBenchmarkData_095                                   0.0   \n",
       "TutorialBenchmarkData_096                                   0.0   \n",
       "TutorialBenchmarkData_097                                   0.0   \n",
       "TutorialBenchmarkData_098                                   0.0   \n",
       "TutorialBenchmarkData_099                                   0.0   \n",
       "\n",
       "                           Descriptor_FingerprintSet_MorganFP_5  \\\n",
       "QSPRID                                                            \n",
       "TutorialBenchmarkData_000                                   0.0   \n",
       "TutorialBenchmarkData_001                                   0.0   \n",
       "TutorialBenchmarkData_002                                   0.0   \n",
       "TutorialBenchmarkData_003                                   0.0   \n",
       "TutorialBenchmarkData_004                                   0.0   \n",
       "...                                                         ...   \n",
       "TutorialBenchmarkData_095                                   0.0   \n",
       "TutorialBenchmarkData_096                                   0.0   \n",
       "TutorialBenchmarkData_097                                   0.0   \n",
       "TutorialBenchmarkData_098                                   0.0   \n",
       "TutorialBenchmarkData_099                                   0.0   \n",
       "\n",
       "                           Descriptor_FingerprintSet_MorganFP_6  \\\n",
       "QSPRID                                                            \n",
       "TutorialBenchmarkData_000                                   1.0   \n",
       "TutorialBenchmarkData_001                                   0.0   \n",
       "TutorialBenchmarkData_002                                   0.0   \n",
       "TutorialBenchmarkData_003                                   0.0   \n",
       "TutorialBenchmarkData_004                                   0.0   \n",
       "...                                                         ...   \n",
       "TutorialBenchmarkData_095                                   0.0   \n",
       "TutorialBenchmarkData_096                                   0.0   \n",
       "TutorialBenchmarkData_097                                   0.0   \n",
       "TutorialBenchmarkData_098                                   0.0   \n",
       "TutorialBenchmarkData_099                                   0.0   \n",
       "\n",
       "                           Descriptor_FingerprintSet_MorganFP_7  \\\n",
       "QSPRID                                                            \n",
       "TutorialBenchmarkData_000                                   1.0   \n",
       "TutorialBenchmarkData_001                                   0.0   \n",
       "TutorialBenchmarkData_002                                   0.0   \n",
       "TutorialBenchmarkData_003                                   0.0   \n",
       "TutorialBenchmarkData_004                                   0.0   \n",
       "...                                                         ...   \n",
       "TutorialBenchmarkData_095                                   0.0   \n",
       "TutorialBenchmarkData_096                                   0.0   \n",
       "TutorialBenchmarkData_097                                   0.0   \n",
       "TutorialBenchmarkData_098                                   1.0   \n",
       "TutorialBenchmarkData_099                                   0.0   \n",
       "\n",
       "                           Descriptor_FingerprintSet_MorganFP_8  \\\n",
       "QSPRID                                                            \n",
       "TutorialBenchmarkData_000                                   0.0   \n",
       "TutorialBenchmarkData_001                                   0.0   \n",
       "TutorialBenchmarkData_002                                   1.0   \n",
       "TutorialBenchmarkData_003                                   0.0   \n",
       "TutorialBenchmarkData_004                                   0.0   \n",
       "...                                                         ...   \n",
       "TutorialBenchmarkData_095                                   0.0   \n",
       "TutorialBenchmarkData_096                                   0.0   \n",
       "TutorialBenchmarkData_097                                   0.0   \n",
       "TutorialBenchmarkData_098                                   1.0   \n",
       "TutorialBenchmarkData_099                                   0.0   \n",
       "\n",
       "                           Descriptor_FingerprintSet_MorganFP_9  ...  \\\n",
       "QSPRID                                                           ...   \n",
       "TutorialBenchmarkData_000                                   0.0  ...   \n",
       "TutorialBenchmarkData_001                                   0.0  ...   \n",
       "TutorialBenchmarkData_002                                   0.0  ...   \n",
       "TutorialBenchmarkData_003                                   0.0  ...   \n",
       "TutorialBenchmarkData_004                                   0.0  ...   \n",
       "...                                                         ...  ...   \n",
       "TutorialBenchmarkData_095                                   0.0  ...   \n",
       "TutorialBenchmarkData_096                                   0.0  ...   \n",
       "TutorialBenchmarkData_097                                   0.0  ...   \n",
       "TutorialBenchmarkData_098                                   0.0  ...   \n",
       "TutorialBenchmarkData_099                                   0.0  ...   \n",
       "\n",
       "                           Descriptor_RDkit_fr_sulfonamd  \\\n",
       "QSPRID                                                     \n",
       "TutorialBenchmarkData_000                            0.0   \n",
       "TutorialBenchmarkData_001                            0.0   \n",
       "TutorialBenchmarkData_002                            0.0   \n",
       "TutorialBenchmarkData_003                            0.0   \n",
       "TutorialBenchmarkData_004                            0.0   \n",
       "...                                                  ...   \n",
       "TutorialBenchmarkData_095                            0.0   \n",
       "TutorialBenchmarkData_096                            0.0   \n",
       "TutorialBenchmarkData_097                            0.0   \n",
       "TutorialBenchmarkData_098                            0.0   \n",
       "TutorialBenchmarkData_099                            0.0   \n",
       "\n",
       "                           Descriptor_RDkit_fr_sulfone  \\\n",
       "QSPRID                                                   \n",
       "TutorialBenchmarkData_000                          0.0   \n",
       "TutorialBenchmarkData_001                          0.0   \n",
       "TutorialBenchmarkData_002                          0.0   \n",
       "TutorialBenchmarkData_003                          0.0   \n",
       "TutorialBenchmarkData_004                          0.0   \n",
       "...                                                ...   \n",
       "TutorialBenchmarkData_095                          0.0   \n",
       "TutorialBenchmarkData_096                          0.0   \n",
       "TutorialBenchmarkData_097                          0.0   \n",
       "TutorialBenchmarkData_098                          1.0   \n",
       "TutorialBenchmarkData_099                          0.0   \n",
       "\n",
       "                           Descriptor_RDkit_fr_term_acetylene  \\\n",
       "QSPRID                                                          \n",
       "TutorialBenchmarkData_000                                 0.0   \n",
       "TutorialBenchmarkData_001                                 0.0   \n",
       "TutorialBenchmarkData_002                                 0.0   \n",
       "TutorialBenchmarkData_003                                 0.0   \n",
       "TutorialBenchmarkData_004                                 0.0   \n",
       "...                                                       ...   \n",
       "TutorialBenchmarkData_095                                 0.0   \n",
       "TutorialBenchmarkData_096                                 0.0   \n",
       "TutorialBenchmarkData_097                                 0.0   \n",
       "TutorialBenchmarkData_098                                 0.0   \n",
       "TutorialBenchmarkData_099                                 0.0   \n",
       "\n",
       "                           Descriptor_RDkit_fr_tetrazole  \\\n",
       "QSPRID                                                     \n",
       "TutorialBenchmarkData_000                            0.0   \n",
       "TutorialBenchmarkData_001                            0.0   \n",
       "TutorialBenchmarkData_002                            0.0   \n",
       "TutorialBenchmarkData_003                            0.0   \n",
       "TutorialBenchmarkData_004                            0.0   \n",
       "...                                                  ...   \n",
       "TutorialBenchmarkData_095                            0.0   \n",
       "TutorialBenchmarkData_096                            0.0   \n",
       "TutorialBenchmarkData_097                            0.0   \n",
       "TutorialBenchmarkData_098                            0.0   \n",
       "TutorialBenchmarkData_099                            0.0   \n",
       "\n",
       "                           Descriptor_RDkit_fr_thiazole  \\\n",
       "QSPRID                                                    \n",
       "TutorialBenchmarkData_000                           0.0   \n",
       "TutorialBenchmarkData_001                           0.0   \n",
       "TutorialBenchmarkData_002                           0.0   \n",
       "TutorialBenchmarkData_003                           0.0   \n",
       "TutorialBenchmarkData_004                           1.0   \n",
       "...                                                 ...   \n",
       "TutorialBenchmarkData_095                           0.0   \n",
       "TutorialBenchmarkData_096                           0.0   \n",
       "TutorialBenchmarkData_097                           1.0   \n",
       "TutorialBenchmarkData_098                           0.0   \n",
       "TutorialBenchmarkData_099                           0.0   \n",
       "\n",
       "                           Descriptor_RDkit_fr_thiocyan  \\\n",
       "QSPRID                                                    \n",
       "TutorialBenchmarkData_000                           0.0   \n",
       "TutorialBenchmarkData_001                           0.0   \n",
       "TutorialBenchmarkData_002                           0.0   \n",
       "TutorialBenchmarkData_003                           0.0   \n",
       "TutorialBenchmarkData_004                           0.0   \n",
       "...                                                 ...   \n",
       "TutorialBenchmarkData_095                           0.0   \n",
       "TutorialBenchmarkData_096                           0.0   \n",
       "TutorialBenchmarkData_097                           0.0   \n",
       "TutorialBenchmarkData_098                           0.0   \n",
       "TutorialBenchmarkData_099                           0.0   \n",
       "\n",
       "                           Descriptor_RDkit_fr_thiophene  \\\n",
       "QSPRID                                                     \n",
       "TutorialBenchmarkData_000                            0.0   \n",
       "TutorialBenchmarkData_001                            0.0   \n",
       "TutorialBenchmarkData_002                            0.0   \n",
       "TutorialBenchmarkData_003                            0.0   \n",
       "TutorialBenchmarkData_004                            0.0   \n",
       "...                                                  ...   \n",
       "TutorialBenchmarkData_095                            0.0   \n",
       "TutorialBenchmarkData_096                            0.0   \n",
       "TutorialBenchmarkData_097                            0.0   \n",
       "TutorialBenchmarkData_098                            0.0   \n",
       "TutorialBenchmarkData_099                            0.0   \n",
       "\n",
       "                           Descriptor_RDkit_fr_unbrch_alkane  \\\n",
       "QSPRID                                                         \n",
       "TutorialBenchmarkData_000                                0.0   \n",
       "TutorialBenchmarkData_001                                0.0   \n",
       "TutorialBenchmarkData_002                                0.0   \n",
       "TutorialBenchmarkData_003                                0.0   \n",
       "TutorialBenchmarkData_004                                0.0   \n",
       "...                                                      ...   \n",
       "TutorialBenchmarkData_095                                0.0   \n",
       "TutorialBenchmarkData_096                                0.0   \n",
       "TutorialBenchmarkData_097                                0.0   \n",
       "TutorialBenchmarkData_098                                0.0   \n",
       "TutorialBenchmarkData_099                                0.0   \n",
       "\n",
       "                           Descriptor_RDkit_fr_urea  Descriptor_RDkit_qed  \n",
       "QSPRID                                                                     \n",
       "TutorialBenchmarkData_000                       0.0              0.781396  \n",
       "TutorialBenchmarkData_001                       0.0              0.736392  \n",
       "TutorialBenchmarkData_002                       0.0              0.534122  \n",
       "TutorialBenchmarkData_003                       0.0              0.733913  \n",
       "TutorialBenchmarkData_004                       0.0              0.660116  \n",
       "...                                             ...                   ...  \n",
       "TutorialBenchmarkData_095                       0.0              0.768685  \n",
       "TutorialBenchmarkData_096                       0.0              0.683816  \n",
       "TutorialBenchmarkData_097                       0.0              0.699868  \n",
       "TutorialBenchmarkData_098                       0.0              0.585306  \n",
       "TutorialBenchmarkData_099                       0.0              0.780763  \n",
       "\n",
       "[100 rows x 464 columns]"
      ]
     },
     "execution_count": 16,
     "metadata": {},
     "output_type": "execute_result"
    }
   ],
   "source": [
    "replica.ds.getDescriptors()"
   ]
  },
  {
   "cell_type": "markdown",
   "id": "37353eed3159630a",
   "metadata": {
    "collapsed": false,
    "jupyter": {
     "outputs_hidden": false
    }
   },
   "source": [
    "It should be noted that the code above does not recalculate the descriptors, but reloads the data set saved here:"
   ]
  },
  {
   "cell_type": "code",
   "execution_count": 17,
   "id": "3f5e3e119d31df87",
   "metadata": {
    "ExecuteTime": {
     "end_time": "2023-12-04T19:53:18.039887489Z",
     "start_time": "2023-12-04T19:53:17.876592177Z"
    },
    "collapsed": false,
    "jupyter": {
     "outputs_hidden": false
    }
   },
   "outputs": [
    {
     "data": {
      "text/plain": [
       "'../../tutorial_output/benchmarking/data/TutorialBenchmarkData_FingerprintSet_MorganFP_RDkit'"
      ]
     },
     "execution_count": 17,
     "metadata": {},
     "output_type": "execute_result"
    }
   ],
   "source": [
    "replica.ds.storeDir"
   ]
  },
  {
   "cell_type": "code",
   "execution_count": 18,
   "id": "ce8ecc3ba4ed7040",
   "metadata": {
    "ExecuteTime": {
     "end_time": "2023-12-04T19:53:18.635040145Z",
     "start_time": "2023-12-04T19:53:17.917033710Z"
    },
    "collapsed": false,
    "jupyter": {
     "outputs_hidden": false
    }
   },
   "outputs": [],
   "source": [
    "# reproduce data preparation for replica\n",
    "replica.prepData()"
   ]
  },
  {
   "cell_type": "code",
   "execution_count": 19,
   "id": "a4e9c50aac43bb06",
   "metadata": {
    "ExecuteTime": {
     "end_time": "2023-12-04T19:53:18.635570368Z",
     "start_time": "2023-12-04T19:53:18.537241193Z"
    },
    "collapsed": false,
    "jupyter": {
     "outputs_hidden": false
    }
   },
   "outputs": [
    {
     "data": {
      "text/plain": [
       "((80, 283), (20, 283))"
      ]
     },
     "execution_count": 19,
     "metadata": {},
     "output_type": "execute_result"
    }
   ],
   "source": [
    "# this for example yields the split from before\n",
    "train, test = replica.ds.getFeatures()\n",
    "train.shape, test.shape"
   ]
  },
  {
   "cell_type": "code",
   "execution_count": 20,
   "id": "964e2c5a7c7f534f",
   "metadata": {
    "ExecuteTime": {
     "end_time": "2023-12-04T19:53:18.635933817Z",
     "start_time": "2023-12-04T19:53:18.557359861Z"
    },
    "collapsed": false,
    "jupyter": {
     "outputs_hidden": false
    }
   },
   "outputs": [
    {
     "name": "stderr",
     "output_type": "stream",
     "text": [
      "Random state supplied, but alg <class 'sklearn.naive_bayes.GaussianNB'> does not support it. Ignoring this setting.\n"
     ]
    }
   ],
   "source": [
    "# initialize model with the prepared data\n",
    "replica.initModel()"
   ]
  },
  {
   "cell_type": "code",
   "execution_count": 21,
   "id": "5809741d65d8cb40",
   "metadata": {
    "ExecuteTime": {
     "end_time": "2023-12-04T19:53:18.637150103Z",
     "start_time": "2023-12-04T19:53:18.581761974Z"
    },
    "collapsed": false,
    "jupyter": {
     "outputs_hidden": false
    }
   },
   "outputs": [
    {
     "data": {
      "text/plain": [
       "sklearn.naive_bayes.GaussianNB"
      ]
     },
     "execution_count": 21,
     "metadata": {},
     "output_type": "execute_result"
    }
   ],
   "source": [
    "replica.model.alg"
   ]
  },
  {
   "cell_type": "code",
   "execution_count": 22,
   "id": "69aa790d0303eaa8",
   "metadata": {
    "ExecuteTime": {
     "end_time": "2023-12-04T19:53:18.795234605Z",
     "start_time": "2023-12-04T19:53:18.626929671Z"
    },
    "collapsed": false,
    "jupyter": {
     "outputs_hidden": false
    }
   },
   "outputs": [],
   "source": [
    "# we can also run all the original assessments with this model\n",
    "replica.runAssessment()"
   ]
  },
  {
   "cell_type": "markdown",
   "id": "e58e9da7ca7666a8",
   "metadata": {
    "collapsed": false,
    "jupyter": {
     "outputs_hidden": false
    }
   },
   "source": [
    "To results are saved withing the replica too:"
   ]
  },
  {
   "cell_type": "code",
   "execution_count": 23,
   "id": "f74851dad0bb1f0c",
   "metadata": {
    "ExecuteTime": {
     "end_time": "2023-12-04T19:53:18.880943020Z",
     "start_time": "2023-12-04T19:53:18.656332249Z"
    },
    "collapsed": false,
    "jupyter": {
     "outputs_hidden": false
    }
   },
   "outputs": [
    {
     "data": {
      "text/html": [
       "<div>\n",
       "<style scoped>\n",
       "    .dataframe tbody tr th:only-of-type {\n",
       "        vertical-align: middle;\n",
       "    }\n",
       "\n",
       "    .dataframe tbody tr th {\n",
       "        vertical-align: top;\n",
       "    }\n",
       "\n",
       "    .dataframe thead th {\n",
       "        text-align: right;\n",
       "    }\n",
       "</style>\n",
       "<table border=\"1\" class=\"dataframe\">\n",
       "  <thead>\n",
       "    <tr style=\"text-align: right;\">\n",
       "      <th></th>\n",
       "      <th>Assessor</th>\n",
       "      <th>ScoreFunc</th>\n",
       "      <th>Score</th>\n",
       "      <th>TargetProperties</th>\n",
       "      <th>TargetTasks</th>\n",
       "    </tr>\n",
       "  </thead>\n",
       "  <tbody>\n",
       "    <tr>\n",
       "      <th>0</th>\n",
       "      <td>TestSetAssessor</td>\n",
       "      <td>roc_auc_score</td>\n",
       "      <td>0.707071</td>\n",
       "      <td>pchembl_value_Mean</td>\n",
       "      <td>SINGLECLASS</td>\n",
       "    </tr>\n",
       "    <tr>\n",
       "      <th>0</th>\n",
       "      <td>TestSetAssessor</td>\n",
       "      <td>matthews_corrcoef</td>\n",
       "      <td>0.393939</td>\n",
       "      <td>pchembl_value_Mean</td>\n",
       "      <td>SINGLECLASS</td>\n",
       "    </tr>\n",
       "  </tbody>\n",
       "</table>\n",
       "</div>"
      ],
      "text/plain": [
       "          Assessor          ScoreFunc     Score    TargetProperties  \\\n",
       "0  TestSetAssessor      roc_auc_score  0.707071  pchembl_value_Mean   \n",
       "0  TestSetAssessor  matthews_corrcoef  0.393939  pchembl_value_Mean   \n",
       "\n",
       "   TargetTasks  \n",
       "0  SINGLECLASS  \n",
       "0  SINGLECLASS  "
      ]
     },
     "execution_count": 23,
     "metadata": {},
     "output_type": "execute_result"
    }
   ],
   "source": [
    "replica.results"
   ]
  },
  {
   "cell_type": "markdown",
   "id": "ffa9ea8412fff166",
   "metadata": {
    "collapsed": false,
    "jupyter": {
     "outputs_hidden": false
    }
   },
   "source": [
    "Since the random seed was fixed to the original value, we should get the same results as in the original run:"
   ]
  },
  {
   "cell_type": "code",
   "execution_count": 24,
   "id": "296e5b8238a9e9d7",
   "metadata": {
    "ExecuteTime": {
     "end_time": "2023-12-04T19:53:18.881582371Z",
     "start_time": "2023-12-04T19:53:18.663758122Z"
    },
    "collapsed": false,
    "jupyter": {
     "outputs_hidden": false
    }
   },
   "outputs": [
    {
     "data": {
      "text/plain": [
       "0.7070707070707071"
      ]
     },
     "execution_count": 24,
     "metadata": {},
     "output_type": "execute_result"
    }
   ],
   "source": [
    "df_results.iloc[0, :].Score"
   ]
  },
  {
   "cell_type": "code",
   "execution_count": 25,
   "id": "1081b2df8279f4c6",
   "metadata": {
    "ExecuteTime": {
     "end_time": "2023-12-04T19:53:18.881904380Z",
     "start_time": "2023-12-04T19:53:18.706955801Z"
    },
    "collapsed": false,
    "jupyter": {
     "outputs_hidden": false
    }
   },
   "outputs": [
    {
     "data": {
      "text/plain": [
       "0.3939393939393939"
      ]
     },
     "execution_count": 25,
     "metadata": {},
     "output_type": "execute_result"
    }
   ],
   "source": [
    "df_results.iloc[1, :].Score"
   ]
  },
  {
   "cell_type": "markdown",
   "id": "cade4c30b5799717",
   "metadata": {
    "collapsed": false,
    "jupyter": {
     "outputs_hidden": false
    }
   },
   "source": [
    "In order to get the complete report on the replica results, the `replica.createReport()` method can be used:"
   ]
  },
  {
   "cell_type": "code",
   "execution_count": 26,
   "id": "cda6386658a87b40",
   "metadata": {
    "ExecuteTime": {
     "end_time": "2023-12-04T19:53:18.883531366Z",
     "start_time": "2023-12-04T19:53:18.707215679Z"
    },
    "collapsed": false,
    "jupyter": {
     "outputs_hidden": false
    }
   },
   "outputs": [
    {
     "data": {
      "text/html": [
       "<div>\n",
       "<style scoped>\n",
       "    .dataframe tbody tr th:only-of-type {\n",
       "        vertical-align: middle;\n",
       "    }\n",
       "\n",
       "    .dataframe tbody tr th {\n",
       "        vertical-align: top;\n",
       "    }\n",
       "\n",
       "    .dataframe thead th {\n",
       "        text-align: right;\n",
       "    }\n",
       "</style>\n",
       "<table border=\"1\" class=\"dataframe\">\n",
       "  <thead>\n",
       "    <tr style=\"text-align: right;\">\n",
       "      <th></th>\n",
       "      <th>Assessor</th>\n",
       "      <th>ScoreFunc</th>\n",
       "      <th>Score</th>\n",
       "      <th>TargetProperties</th>\n",
       "      <th>TargetTasks</th>\n",
       "      <th>ModelFile</th>\n",
       "      <th>Algorithm</th>\n",
       "      <th>AlgorithmParams</th>\n",
       "      <th>ReplicaID</th>\n",
       "      <th>DataSet</th>\n",
       "      <th>ReplicaFile</th>\n",
       "    </tr>\n",
       "  </thead>\n",
       "  <tbody>\n",
       "    <tr>\n",
       "      <th>0</th>\n",
       "      <td>TestSetAssessor</td>\n",
       "      <td>roc_auc_score</td>\n",
       "      <td>0.707071</td>\n",
       "      <td>pchembl_value_Mean</td>\n",
       "      <td>SINGLECLASS</td>\n",
       "      <td>/home/sichom/projects/QSPRpred/tutorials/tutor...</td>\n",
       "      <td>GaussianNB</td>\n",
       "      <td>null</td>\n",
       "      <td>TutorialBenchmark_2746317213</td>\n",
       "      <td>TutorialBenchmarkData_FingerprintSet_MorganFP_...</td>\n",
       "      <td>/home/sichom/projects/QSPRpred/tutorials/tutor...</td>\n",
       "    </tr>\n",
       "    <tr>\n",
       "      <th>0</th>\n",
       "      <td>TestSetAssessor</td>\n",
       "      <td>matthews_corrcoef</td>\n",
       "      <td>0.393939</td>\n",
       "      <td>pchembl_value_Mean</td>\n",
       "      <td>SINGLECLASS</td>\n",
       "      <td>/home/sichom/projects/QSPRpred/tutorials/tutor...</td>\n",
       "      <td>GaussianNB</td>\n",
       "      <td>null</td>\n",
       "      <td>TutorialBenchmark_2746317213</td>\n",
       "      <td>TutorialBenchmarkData_FingerprintSet_MorganFP_...</td>\n",
       "      <td>/home/sichom/projects/QSPRpred/tutorials/tutor...</td>\n",
       "    </tr>\n",
       "  </tbody>\n",
       "</table>\n",
       "</div>"
      ],
      "text/plain": [
       "          Assessor          ScoreFunc     Score    TargetProperties  \\\n",
       "0  TestSetAssessor      roc_auc_score  0.707071  pchembl_value_Mean   \n",
       "0  TestSetAssessor  matthews_corrcoef  0.393939  pchembl_value_Mean   \n",
       "\n",
       "   TargetTasks                                          ModelFile   Algorithm  \\\n",
       "0  SINGLECLASS  /home/sichom/projects/QSPRpred/tutorials/tutor...  GaussianNB   \n",
       "0  SINGLECLASS  /home/sichom/projects/QSPRpred/tutorials/tutor...  GaussianNB   \n",
       "\n",
       "  AlgorithmParams                     ReplicaID  \\\n",
       "0            null  TutorialBenchmark_2746317213   \n",
       "0            null  TutorialBenchmark_2746317213   \n",
       "\n",
       "                                             DataSet  \\\n",
       "0  TutorialBenchmarkData_FingerprintSet_MorganFP_...   \n",
       "0  TutorialBenchmarkData_FingerprintSet_MorganFP_...   \n",
       "\n",
       "                                         ReplicaFile  \n",
       "0  /home/sichom/projects/QSPRpred/tutorials/tutor...  \n",
       "0  /home/sichom/projects/QSPRpred/tutorials/tutor...  "
      ]
     },
     "execution_count": 26,
     "metadata": {},
     "output_type": "execute_result"
    }
   ],
   "source": [
    "replica.createReport()"
   ]
  },
  {
   "cell_type": "markdown",
   "id": "ffeea633f3493f15",
   "metadata": {
    "collapsed": false,
    "jupyter": {
     "outputs_hidden": false
    }
   },
   "source": [
    "# Analyzing Results\n",
    "\n",
    "The resulting data frame contains concatenated reports from each replica. We can get detailed information about model parameters, data preparation settings, target properties and more. It is up to you to decide how to analyze the results. You can also override the `createReport()` method of the `Replica` class and change the `iterReplicas` of `BenchmarkRunner` to use your implementation.\n",
    "\n",
    "Here we just provide a few examples of retrieving data from the data frame we generated before:"
   ]
  },
  {
   "cell_type": "code",
   "execution_count": 27,
   "id": "9774ff353cd09a58",
   "metadata": {
    "ExecuteTime": {
     "start_time": "2023-12-04T19:55:40.270699980Z"
    },
    "collapsed": false,
    "jupyter": {
     "outputs_hidden": false
    }
   },
   "outputs": [
    {
     "data": {
      "text/html": [
       "<div>\n",
       "<style scoped>\n",
       "    .dataframe tbody tr th:only-of-type {\n",
       "        vertical-align: middle;\n",
       "    }\n",
       "\n",
       "    .dataframe tbody tr th {\n",
       "        vertical-align: top;\n",
       "    }\n",
       "\n",
       "    .dataframe thead th {\n",
       "        text-align: right;\n",
       "    }\n",
       "</style>\n",
       "<table border=\"1\" class=\"dataframe\">\n",
       "  <thead>\n",
       "    <tr style=\"text-align: right;\">\n",
       "      <th></th>\n",
       "      <th>Assessor</th>\n",
       "      <th>ScoreFunc</th>\n",
       "      <th>Score</th>\n",
       "      <th>TargetProperties</th>\n",
       "      <th>TargetTasks</th>\n",
       "      <th>ModelFile</th>\n",
       "      <th>Algorithm</th>\n",
       "      <th>AlgorithmParams</th>\n",
       "      <th>ReplicaID</th>\n",
       "      <th>DataSet</th>\n",
       "      <th>ReplicaFile</th>\n",
       "    </tr>\n",
       "  </thead>\n",
       "  <tbody>\n",
       "    <tr>\n",
       "      <th>0</th>\n",
       "      <td>TestSetAssessor</td>\n",
       "      <td>roc_auc_score</td>\n",
       "      <td>0.707071</td>\n",
       "      <td>pchembl_value_Mean</td>\n",
       "      <td>SINGLECLASS</td>\n",
       "      <td>/home/sichom/projects/QSPRpred/tutorials/tutor...</td>\n",
       "      <td>GaussianNB</td>\n",
       "      <td>NaN</td>\n",
       "      <td>TutorialBenchmark_2746317213</td>\n",
       "      <td>TutorialBenchmarkData_FingerprintSet_MorganFP_...</td>\n",
       "      <td>/home/sichom/projects/QSPRpred/tutorials/tutor...</td>\n",
       "    </tr>\n",
       "    <tr>\n",
       "      <th>1</th>\n",
       "      <td>TestSetAssessor</td>\n",
       "      <td>matthews_corrcoef</td>\n",
       "      <td>0.393939</td>\n",
       "      <td>pchembl_value_Mean</td>\n",
       "      <td>SINGLECLASS</td>\n",
       "      <td>/home/sichom/projects/QSPRpred/tutorials/tutor...</td>\n",
       "      <td>GaussianNB</td>\n",
       "      <td>NaN</td>\n",
       "      <td>TutorialBenchmark_2746317213</td>\n",
       "      <td>TutorialBenchmarkData_FingerprintSet_MorganFP_...</td>\n",
       "      <td>/home/sichom/projects/QSPRpred/tutorials/tutor...</td>\n",
       "    </tr>\n",
       "    <tr>\n",
       "      <th>2</th>\n",
       "      <td>TestSetAssessor</td>\n",
       "      <td>roc_auc_score</td>\n",
       "      <td>0.772727</td>\n",
       "      <td>pchembl_value_Mean</td>\n",
       "      <td>SINGLECLASS</td>\n",
       "      <td>/home/sichom/projects/QSPRpred/tutorials/tutor...</td>\n",
       "      <td>ExtraTreesClassifier</td>\n",
       "      <td>{\"random_state\": 478163327}</td>\n",
       "      <td>TutorialBenchmark_478163327</td>\n",
       "      <td>TutorialBenchmarkData_FingerprintSet_MorganFP_...</td>\n",
       "      <td>/home/sichom/projects/QSPRpred/tutorials/tutor...</td>\n",
       "    </tr>\n",
       "    <tr>\n",
       "      <th>3</th>\n",
       "      <td>TestSetAssessor</td>\n",
       "      <td>matthews_corrcoef</td>\n",
       "      <td>0.287213</td>\n",
       "      <td>pchembl_value_Mean</td>\n",
       "      <td>SINGLECLASS</td>\n",
       "      <td>/home/sichom/projects/QSPRpred/tutorials/tutor...</td>\n",
       "      <td>ExtraTreesClassifier</td>\n",
       "      <td>{\"random_state\": 478163327}</td>\n",
       "      <td>TutorialBenchmark_478163327</td>\n",
       "      <td>TutorialBenchmarkData_FingerprintSet_MorganFP_...</td>\n",
       "      <td>/home/sichom/projects/QSPRpred/tutorials/tutor...</td>\n",
       "    </tr>\n",
       "    <tr>\n",
       "      <th>4</th>\n",
       "      <td>TestSetAssessor</td>\n",
       "      <td>roc_auc_score</td>\n",
       "      <td>0.757576</td>\n",
       "      <td>pchembl_value_Mean</td>\n",
       "      <td>SINGLECLASS</td>\n",
       "      <td>/home/sichom/projects/QSPRpred/tutorials/tutor...</td>\n",
       "      <td>GaussianNB</td>\n",
       "      <td>NaN</td>\n",
       "      <td>TutorialBenchmark_1181241943</td>\n",
       "      <td>TutorialBenchmarkData_FingerprintSet_MorganFP</td>\n",
       "      <td>/home/sichom/projects/QSPRpred/tutorials/tutor...</td>\n",
       "    </tr>\n",
       "    <tr>\n",
       "      <th>...</th>\n",
       "      <td>...</td>\n",
       "      <td>...</td>\n",
       "      <td>...</td>\n",
       "      <td>...</td>\n",
       "      <td>...</td>\n",
       "      <td>...</td>\n",
       "      <td>...</td>\n",
       "      <td>...</td>\n",
       "      <td>...</td>\n",
       "      <td>...</td>\n",
       "      <td>...</td>\n",
       "    </tr>\n",
       "    <tr>\n",
       "      <th>355</th>\n",
       "      <td>TestSetAssessor</td>\n",
       "      <td>matthews_corrcoef</td>\n",
       "      <td>0.301511</td>\n",
       "      <td>pchembl_value_Mean</td>\n",
       "      <td>SINGLECLASS</td>\n",
       "      <td>/home/sichom/projects/QSPRpred/tutorials/tutor...</td>\n",
       "      <td>ExtraTreesClassifier</td>\n",
       "      <td>{\"random_state\": 3246059658}</td>\n",
       "      <td>TutorialBenchmark_3246059658</td>\n",
       "      <td>TutorialBenchmarkData_RDkit</td>\n",
       "      <td>/home/sichom/projects/QSPRpred/tutorials/tutor...</td>\n",
       "    </tr>\n",
       "    <tr>\n",
       "      <th>356</th>\n",
       "      <td>TestSetAssessor</td>\n",
       "      <td>roc_auc_score</td>\n",
       "      <td>0.755208</td>\n",
       "      <td>pchembl_value_Mean</td>\n",
       "      <td>SINGLECLASS</td>\n",
       "      <td>/home/sichom/projects/QSPRpred/tutorials/tutor...</td>\n",
       "      <td>GaussianNB</td>\n",
       "      <td>NaN</td>\n",
       "      <td>TutorialBenchmark_202363285</td>\n",
       "      <td>TutorialBenchmarkData_RDkit</td>\n",
       "      <td>/home/sichom/projects/QSPRpred/tutorials/tutor...</td>\n",
       "    </tr>\n",
       "    <tr>\n",
       "      <th>357</th>\n",
       "      <td>TestSetAssessor</td>\n",
       "      <td>matthews_corrcoef</td>\n",
       "      <td>-0.068041</td>\n",
       "      <td>pchembl_value_Mean</td>\n",
       "      <td>SINGLECLASS</td>\n",
       "      <td>/home/sichom/projects/QSPRpred/tutorials/tutor...</td>\n",
       "      <td>GaussianNB</td>\n",
       "      <td>NaN</td>\n",
       "      <td>TutorialBenchmark_202363285</td>\n",
       "      <td>TutorialBenchmarkData_RDkit</td>\n",
       "      <td>/home/sichom/projects/QSPRpred/tutorials/tutor...</td>\n",
       "    </tr>\n",
       "    <tr>\n",
       "      <th>358</th>\n",
       "      <td>TestSetAssessor</td>\n",
       "      <td>roc_auc_score</td>\n",
       "      <td>0.568182</td>\n",
       "      <td>pchembl_value_Mean</td>\n",
       "      <td>SINGLECLASS</td>\n",
       "      <td>/home/sichom/projects/QSPRpred/tutorials/tutor...</td>\n",
       "      <td>ExtraTreesClassifier</td>\n",
       "      <td>{\"random_state\": 3698408854}</td>\n",
       "      <td>TutorialBenchmark_3698408854</td>\n",
       "      <td>TutorialBenchmarkData_RDkit</td>\n",
       "      <td>/home/sichom/projects/QSPRpred/tutorials/tutor...</td>\n",
       "    </tr>\n",
       "    <tr>\n",
       "      <th>359</th>\n",
       "      <td>TestSetAssessor</td>\n",
       "      <td>matthews_corrcoef</td>\n",
       "      <td>0.276385</td>\n",
       "      <td>pchembl_value_Mean</td>\n",
       "      <td>SINGLECLASS</td>\n",
       "      <td>/home/sichom/projects/QSPRpred/tutorials/tutor...</td>\n",
       "      <td>ExtraTreesClassifier</td>\n",
       "      <td>{\"random_state\": 3698408854}</td>\n",
       "      <td>TutorialBenchmark_3698408854</td>\n",
       "      <td>TutorialBenchmarkData_RDkit</td>\n",
       "      <td>/home/sichom/projects/QSPRpred/tutorials/tutor...</td>\n",
       "    </tr>\n",
       "  </tbody>\n",
       "</table>\n",
       "<p>360 rows × 11 columns</p>\n",
       "</div>"
      ],
      "text/plain": [
       "            Assessor          ScoreFunc     Score    TargetProperties  \\\n",
       "0    TestSetAssessor      roc_auc_score  0.707071  pchembl_value_Mean   \n",
       "1    TestSetAssessor  matthews_corrcoef  0.393939  pchembl_value_Mean   \n",
       "2    TestSetAssessor      roc_auc_score  0.772727  pchembl_value_Mean   \n",
       "3    TestSetAssessor  matthews_corrcoef  0.287213  pchembl_value_Mean   \n",
       "4    TestSetAssessor      roc_auc_score  0.757576  pchembl_value_Mean   \n",
       "..               ...                ...       ...                 ...   \n",
       "355  TestSetAssessor  matthews_corrcoef  0.301511  pchembl_value_Mean   \n",
       "356  TestSetAssessor      roc_auc_score  0.755208  pchembl_value_Mean   \n",
       "357  TestSetAssessor  matthews_corrcoef -0.068041  pchembl_value_Mean   \n",
       "358  TestSetAssessor      roc_auc_score  0.568182  pchembl_value_Mean   \n",
       "359  TestSetAssessor  matthews_corrcoef  0.276385  pchembl_value_Mean   \n",
       "\n",
       "     TargetTasks                                          ModelFile  \\\n",
       "0    SINGLECLASS  /home/sichom/projects/QSPRpred/tutorials/tutor...   \n",
       "1    SINGLECLASS  /home/sichom/projects/QSPRpred/tutorials/tutor...   \n",
       "2    SINGLECLASS  /home/sichom/projects/QSPRpred/tutorials/tutor...   \n",
       "3    SINGLECLASS  /home/sichom/projects/QSPRpred/tutorials/tutor...   \n",
       "4    SINGLECLASS  /home/sichom/projects/QSPRpred/tutorials/tutor...   \n",
       "..           ...                                                ...   \n",
       "355  SINGLECLASS  /home/sichom/projects/QSPRpred/tutorials/tutor...   \n",
       "356  SINGLECLASS  /home/sichom/projects/QSPRpred/tutorials/tutor...   \n",
       "357  SINGLECLASS  /home/sichom/projects/QSPRpred/tutorials/tutor...   \n",
       "358  SINGLECLASS  /home/sichom/projects/QSPRpred/tutorials/tutor...   \n",
       "359  SINGLECLASS  /home/sichom/projects/QSPRpred/tutorials/tutor...   \n",
       "\n",
       "                Algorithm               AlgorithmParams  \\\n",
       "0              GaussianNB                           NaN   \n",
       "1              GaussianNB                           NaN   \n",
       "2    ExtraTreesClassifier   {\"random_state\": 478163327}   \n",
       "3    ExtraTreesClassifier   {\"random_state\": 478163327}   \n",
       "4              GaussianNB                           NaN   \n",
       "..                    ...                           ...   \n",
       "355  ExtraTreesClassifier  {\"random_state\": 3246059658}   \n",
       "356            GaussianNB                           NaN   \n",
       "357            GaussianNB                           NaN   \n",
       "358  ExtraTreesClassifier  {\"random_state\": 3698408854}   \n",
       "359  ExtraTreesClassifier  {\"random_state\": 3698408854}   \n",
       "\n",
       "                        ReplicaID  \\\n",
       "0    TutorialBenchmark_2746317213   \n",
       "1    TutorialBenchmark_2746317213   \n",
       "2     TutorialBenchmark_478163327   \n",
       "3     TutorialBenchmark_478163327   \n",
       "4    TutorialBenchmark_1181241943   \n",
       "..                            ...   \n",
       "355  TutorialBenchmark_3246059658   \n",
       "356   TutorialBenchmark_202363285   \n",
       "357   TutorialBenchmark_202363285   \n",
       "358  TutorialBenchmark_3698408854   \n",
       "359  TutorialBenchmark_3698408854   \n",
       "\n",
       "                                               DataSet  \\\n",
       "0    TutorialBenchmarkData_FingerprintSet_MorganFP_...   \n",
       "1    TutorialBenchmarkData_FingerprintSet_MorganFP_...   \n",
       "2    TutorialBenchmarkData_FingerprintSet_MorganFP_...   \n",
       "3    TutorialBenchmarkData_FingerprintSet_MorganFP_...   \n",
       "4        TutorialBenchmarkData_FingerprintSet_MorganFP   \n",
       "..                                                 ...   \n",
       "355                        TutorialBenchmarkData_RDkit   \n",
       "356                        TutorialBenchmarkData_RDkit   \n",
       "357                        TutorialBenchmarkData_RDkit   \n",
       "358                        TutorialBenchmarkData_RDkit   \n",
       "359                        TutorialBenchmarkData_RDkit   \n",
       "\n",
       "                                           ReplicaFile  \n",
       "0    /home/sichom/projects/QSPRpred/tutorials/tutor...  \n",
       "1    /home/sichom/projects/QSPRpred/tutorials/tutor...  \n",
       "2    /home/sichom/projects/QSPRpred/tutorials/tutor...  \n",
       "3    /home/sichom/projects/QSPRpred/tutorials/tutor...  \n",
       "4    /home/sichom/projects/QSPRpred/tutorials/tutor...  \n",
       "..                                                 ...  \n",
       "355  /home/sichom/projects/QSPRpred/tutorials/tutor...  \n",
       "356  /home/sichom/projects/QSPRpred/tutorials/tutor...  \n",
       "357  /home/sichom/projects/QSPRpred/tutorials/tutor...  \n",
       "358  /home/sichom/projects/QSPRpred/tutorials/tutor...  \n",
       "359  /home/sichom/projects/QSPRpred/tutorials/tutor...  \n",
       "\n",
       "[360 rows x 11 columns]"
      ]
     },
     "execution_count": 27,
     "metadata": {},
     "output_type": "execute_result"
    }
   ],
   "source": [
    "import pandas as pd\n",
    "\n",
    "OUT_DIR = '../../tutorial_output/benchmarking'\n",
    "\n",
    "# reload the data manually this time to avoid recalculating everything (the above code needs to be executed at least once)\n",
    "df_results = pd.read_table(f'{OUT_DIR}/results.tsv')\n",
    "df_results "
   ]
  },
  {
   "cell_type": "code",
   "execution_count": 28,
   "id": "5ef04268-7aff-4b3b-86f2-36dc7e7c11d1",
   "metadata": {},
   "outputs": [],
   "source": [
    "# we used different models, descriptors and splits\n",
    "# probably makes sense to first get info about splits\n",
    "# not in the original report, but...\n",
    "\n",
    "from qsprpred.benchmarks import Replica\n",
    "\n",
    "def get_split_info(replica):\n",
    "    replica = Replica.fromFile(replica)\n",
    "    return str(replica.prepSettings.split.__class__.__name__)\n",
    "\n",
    "df_results['Split'] = df_results.ReplicaFile.apply(get_split_info)"
   ]
  },
  {
   "cell_type": "code",
   "execution_count": 29,
   "id": "744bd95d-634f-434d-ab1b-27e4def03f8b",
   "metadata": {},
   "outputs": [
    {
     "data": {
      "text/plain": [
       "0      FingerprintSet_MorganFP_RDkit\n",
       "1      FingerprintSet_MorganFP_RDkit\n",
       "2      FingerprintSet_MorganFP_RDkit\n",
       "3      FingerprintSet_MorganFP_RDkit\n",
       "4            FingerprintSet_MorganFP\n",
       "                   ...              \n",
       "355                            RDkit\n",
       "356                            RDkit\n",
       "357                            RDkit\n",
       "358                            RDkit\n",
       "359                            RDkit\n",
       "Name: Descriptors, Length: 360, dtype: object"
      ]
     },
     "execution_count": 29,
     "metadata": {},
     "output_type": "execute_result"
    }
   ],
   "source": [
    "# we have info about data set, which is ok to describe our combination of descriptors\n",
    "df_results['Descriptors'] = df_results['DataSet'].apply(lambda x: \"_\".join(x.split('_')[1:]))\n",
    "df_results['Descriptors']"
   ]
  },
  {
   "cell_type": "code",
   "execution_count": 30,
   "id": "6492ed39faa6b3d7",
   "metadata": {
    "collapsed": false,
    "jupyter": {
     "outputs_hidden": false
    }
   },
   "outputs": [
    {
     "name": "stderr",
     "output_type": "stream",
     "text": [
      "/tmp/ipykernel_50024/2884806887.py:13: UserWarning: The palette list has more values (10) than needed (3), which may not be intended.\n",
      "  sns.boxplot(\n",
      "/tmp/ipykernel_50024/2884806887.py:13: UserWarning: The palette list has more values (10) than needed (3), which may not be intended.\n",
      "  sns.boxplot(\n",
      "/tmp/ipykernel_50024/2884806887.py:13: UserWarning: The palette list has more values (10) than needed (3), which may not be intended.\n",
      "  sns.boxplot(\n",
      "/tmp/ipykernel_50024/2884806887.py:13: UserWarning: The palette list has more values (10) than needed (3), which may not be intended.\n",
      "  sns.boxplot(\n",
      "/tmp/ipykernel_50024/2884806887.py:13: UserWarning: The palette list has more values (10) than needed (3), which may not be intended.\n",
      "  sns.boxplot(\n",
      "/tmp/ipykernel_50024/2884806887.py:13: UserWarning: The palette list has more values (10) than needed (3), which may not be intended.\n",
      "  sns.boxplot(\n"
     ]
    }
   ],
   "source": [
    "import seaborn as sns\n",
    "from matplotlib import pyplot as plt\n",
    "\n",
    "# we can now create a couple informative box plots\n",
    "# check the output directory to see the figures\n",
    "\n",
    "def make_box_plot(data, x, y, hue, plot_name=\"boxplot\"):\n",
    "    # generate one plot for each metric\n",
    "    for score_func in df_results.ScoreFunc.unique():\n",
    "        df_ind = df_results.loc[(df_results.ScoreFunc == score_func)]\n",
    "        plt.ylim([0, 1])\n",
    "        plt.title(score_func)\n",
    "        sns.boxplot(\n",
    "            data=df_ind,\n",
    "            x=x,\n",
    "            y=y,\n",
    "            hue=hue,\n",
    "            palette=sns.color_palette('bright')\n",
    "        )\n",
    "        plt.savefig(f\"{OUT_DIR}/{plot_name}_{score_func}_{x}_{y}_{hue}.png\")\n",
    "        plt.clf()\n",
    "        plt.close()\n",
    "\n",
    "# comparison of descriptors and their influence on each model's performance in cluster split\n",
    "make_box_plot(\n",
    "    df_results[df_results.Split == \"ClusterSplit\"],\n",
    "    x=\"Algorithm\",\n",
    "    y=\"Score\",\n",
    "    hue=\"Descriptors\",\n",
    "    plot_name=\"ClusterSplit\"\n",
    ")\n",
    "# comparison of performance for different splitting strategies for each model (cluster split clearly more difficult)\n",
    "# TODO: we could follow this up with a tutorial to integrate the AVE bias (still in qsp-bench, the tools.py script)\n",
    "make_box_plot(\n",
    "    df_results[df_results.Algorithm == \"GaussianNB\"],\n",
    "    x=\"Split\",\n",
    "    y=\"Score\",\n",
    "    hue=\"Descriptors\",\n",
    "    plot_name=\"GaussianNB\"\n",
    ")\n",
    "make_box_plot(\n",
    "    df_results[df_results.Algorithm == \"ExtraTreesClassifier\"],\n",
    "    x=\"Split\",\n",
    "    y=\"Score\",\n",
    "    hue=\"Descriptors\",\n",
    "    plot_name=\"ExtraTreesClassifier\"\n",
    ")"
   ]
  },
  {
   "cell_type": "code",
   "execution_count": null,
   "id": "145ea671-8433-4515-b94f-4928e542cea5",
   "metadata": {},
   "outputs": [],
   "source": []
  }
 ],
 "metadata": {
  "kernelspec": {
   "display_name": "Python 3 (ipykernel)",
   "language": "python",
   "name": "python3"
  },
  "language_info": {
   "codemirror_mode": {
    "name": "ipython",
    "version": 3
   },
   "file_extension": ".py",
   "mimetype": "text/x-python",
   "name": "python",
   "nbconvert_exporter": "python",
   "pygments_lexer": "ipython3",
   "version": "3.10.9"
  }
 },
 "nbformat": 4,
 "nbformat_minor": 5
}
