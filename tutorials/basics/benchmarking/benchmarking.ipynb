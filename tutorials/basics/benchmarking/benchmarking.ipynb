{
 "cells": [
  {
   "cell_type": "markdown",
   "id": "946b09a325d34821",
   "metadata": {
    "collapsed": false
   },
   "source": [
    "# Benchmarking QSPR Models and More\n",
    "\n",
    "The `qsprpred.benchmarks` module provides a set of functions to benchmark QSPR models, preparation steps, hyperparameter optimization strategies, molecular descriptors and more on various data sets that are already prepared or of your own choosing. In this tutorial, we will provide a simple example to benchmark a selection of models and descriptors on a simple task. \n",
    "\n",
    "The first step is to decide, which data set(s) to use for your benchmark. To make things a little faster,  we will use our small testing data source to fetch our testing data set:"
   ]
  },
  {
   "cell_type": "code",
   "execution_count": 1,
   "id": "67e2bc01b554b433",
   "metadata": {
    "ExecuteTime": {
     "end_time": "2023-12-04T15:39:06.192643374Z",
     "start_time": "2023-12-04T15:39:05.164189758Z"
    },
    "collapsed": false
   },
   "outputs": [
    {
     "data": {
      "text/html": [
       "<div>\n",
       "<style scoped>\n",
       "    .dataframe tbody tr th:only-of-type {\n",
       "        vertical-align: middle;\n",
       "    }\n",
       "\n",
       "    .dataframe tbody tr th {\n",
       "        vertical-align: top;\n",
       "    }\n",
       "\n",
       "    .dataframe thead th {\n",
       "        text-align: right;\n",
       "    }\n",
       "</style>\n",
       "<table border=\"1\" class=\"dataframe\">\n",
       "  <thead>\n",
       "    <tr style=\"text-align: right;\">\n",
       "      <th></th>\n",
       "      <th>SMILES</th>\n",
       "      <th>pchembl_value_Mean</th>\n",
       "      <th>Year</th>\n",
       "      <th>QSPRID</th>\n",
       "    </tr>\n",
       "    <tr>\n",
       "      <th>QSPRID</th>\n",
       "      <th></th>\n",
       "      <th></th>\n",
       "      <th></th>\n",
       "      <th></th>\n",
       "    </tr>\n",
       "  </thead>\n",
       "  <tbody>\n",
       "    <tr>\n",
       "      <th>TutorialBenchmarkData_000</th>\n",
       "      <td>CCCn1c(-c2ccccc2)nc2c1ncnc2NC1CCOC1</td>\n",
       "      <td>5.770</td>\n",
       "      <td>2018.0</td>\n",
       "      <td>TutorialBenchmarkData_000</td>\n",
       "    </tr>\n",
       "    <tr>\n",
       "      <th>TutorialBenchmarkData_001</th>\n",
       "      <td>CCCn1c(=O)c2c([nH]c(-c3c[nH]nc3)n2)n(CCC)c1=O</td>\n",
       "      <td>6.640</td>\n",
       "      <td>2006.0</td>\n",
       "      <td>TutorialBenchmarkData_001</td>\n",
       "    </tr>\n",
       "    <tr>\n",
       "      <th>TutorialBenchmarkData_002</th>\n",
       "      <td>COc1cccc2c1nc(N)n1nc(CN3CCN(c4ncc(F)cc4)CC3C)nc21</td>\n",
       "      <td>7.880</td>\n",
       "      <td>2015.0</td>\n",
       "      <td>TutorialBenchmarkData_002</td>\n",
       "    </tr>\n",
       "    <tr>\n",
       "      <th>TutorialBenchmarkData_003</th>\n",
       "      <td>COc1cccc(CCCC(=O)Nc2nc3c(cccc3)c(=O)s2)c1</td>\n",
       "      <td>6.940</td>\n",
       "      <td>2013.0</td>\n",
       "      <td>TutorialBenchmarkData_003</td>\n",
       "    </tr>\n",
       "    <tr>\n",
       "      <th>TutorialBenchmarkData_004</th>\n",
       "      <td>COc1c2nc(NC(=O)c3ccc(F)cc3)sc2c(N(CCO)C(C)=O)cc1</td>\n",
       "      <td>7.010</td>\n",
       "      <td>2010.0</td>\n",
       "      <td>TutorialBenchmarkData_004</td>\n",
       "    </tr>\n",
       "    <tr>\n",
       "      <th>...</th>\n",
       "      <td>...</td>\n",
       "      <td>...</td>\n",
       "      <td>...</td>\n",
       "      <td>...</td>\n",
       "    </tr>\n",
       "    <tr>\n",
       "      <th>TutorialBenchmarkData_095</th>\n",
       "      <td>Cc1ccc2c(O)c(C(=O)NCc3ccco3)cnc2n1</td>\n",
       "      <td>7.460</td>\n",
       "      <td>2005.0</td>\n",
       "      <td>TutorialBenchmarkData_095</td>\n",
       "    </tr>\n",
       "    <tr>\n",
       "      <th>TutorialBenchmarkData_096</th>\n",
       "      <td>CC(O)CCc1nc(N)c2nc(-n3nccn3)n(C)c2n1</td>\n",
       "      <td>7.102</td>\n",
       "      <td>2013.0</td>\n",
       "      <td>TutorialBenchmarkData_096</td>\n",
       "    </tr>\n",
       "    <tr>\n",
       "      <th>TutorialBenchmarkData_097</th>\n",
       "      <td>CCN(C(C)=O)c1ccc(Cl)c2c1sc(NC(=O)c1ccc(F)cc1)n2</td>\n",
       "      <td>7.820</td>\n",
       "      <td>2010.0</td>\n",
       "      <td>TutorialBenchmarkData_097</td>\n",
       "    </tr>\n",
       "    <tr>\n",
       "      <th>TutorialBenchmarkData_098</th>\n",
       "      <td>CS(=O)(=O)c1ccc(Cn2ncc3c2nc(N)nc3-c2ccco2)cc1</td>\n",
       "      <td>6.470</td>\n",
       "      <td>2008.0</td>\n",
       "      <td>TutorialBenchmarkData_098</td>\n",
       "    </tr>\n",
       "    <tr>\n",
       "      <th>TutorialBenchmarkData_099</th>\n",
       "      <td>N#Cc1c(-c2cc3c(cc2)OCO3)nc(N)nc1-c1ccccc1</td>\n",
       "      <td>8.280</td>\n",
       "      <td>2008.0</td>\n",
       "      <td>TutorialBenchmarkData_099</td>\n",
       "    </tr>\n",
       "  </tbody>\n",
       "</table>\n",
       "<p>100 rows × 4 columns</p>\n",
       "</div>"
      ],
      "text/plain": [
       "                                                                      SMILES  \\\n",
       "QSPRID                                                                         \n",
       "TutorialBenchmarkData_000                CCCn1c(-c2ccccc2)nc2c1ncnc2NC1CCOC1   \n",
       "TutorialBenchmarkData_001      CCCn1c(=O)c2c([nH]c(-c3c[nH]nc3)n2)n(CCC)c1=O   \n",
       "TutorialBenchmarkData_002  COc1cccc2c1nc(N)n1nc(CN3CCN(c4ncc(F)cc4)CC3C)nc21   \n",
       "TutorialBenchmarkData_003          COc1cccc(CCCC(=O)Nc2nc3c(cccc3)c(=O)s2)c1   \n",
       "TutorialBenchmarkData_004   COc1c2nc(NC(=O)c3ccc(F)cc3)sc2c(N(CCO)C(C)=O)cc1   \n",
       "...                                                                      ...   \n",
       "TutorialBenchmarkData_095                 Cc1ccc2c(O)c(C(=O)NCc3ccco3)cnc2n1   \n",
       "TutorialBenchmarkData_096               CC(O)CCc1nc(N)c2nc(-n3nccn3)n(C)c2n1   \n",
       "TutorialBenchmarkData_097    CCN(C(C)=O)c1ccc(Cl)c2c1sc(NC(=O)c1ccc(F)cc1)n2   \n",
       "TutorialBenchmarkData_098      CS(=O)(=O)c1ccc(Cn2ncc3c2nc(N)nc3-c2ccco2)cc1   \n",
       "TutorialBenchmarkData_099          N#Cc1c(-c2cc3c(cc2)OCO3)nc(N)nc1-c1ccccc1   \n",
       "\n",
       "                           pchembl_value_Mean    Year  \\\n",
       "QSPRID                                                  \n",
       "TutorialBenchmarkData_000               5.770  2018.0   \n",
       "TutorialBenchmarkData_001               6.640  2006.0   \n",
       "TutorialBenchmarkData_002               7.880  2015.0   \n",
       "TutorialBenchmarkData_003               6.940  2013.0   \n",
       "TutorialBenchmarkData_004               7.010  2010.0   \n",
       "...                                       ...     ...   \n",
       "TutorialBenchmarkData_095               7.460  2005.0   \n",
       "TutorialBenchmarkData_096               7.102  2013.0   \n",
       "TutorialBenchmarkData_097               7.820  2010.0   \n",
       "TutorialBenchmarkData_098               6.470  2008.0   \n",
       "TutorialBenchmarkData_099               8.280  2008.0   \n",
       "\n",
       "                                              QSPRID  \n",
       "QSPRID                                                \n",
       "TutorialBenchmarkData_000  TutorialBenchmarkData_000  \n",
       "TutorialBenchmarkData_001  TutorialBenchmarkData_001  \n",
       "TutorialBenchmarkData_002  TutorialBenchmarkData_002  \n",
       "TutorialBenchmarkData_003  TutorialBenchmarkData_003  \n",
       "TutorialBenchmarkData_004  TutorialBenchmarkData_004  \n",
       "...                                              ...  \n",
       "TutorialBenchmarkData_095  TutorialBenchmarkData_095  \n",
       "TutorialBenchmarkData_096  TutorialBenchmarkData_096  \n",
       "TutorialBenchmarkData_097  TutorialBenchmarkData_097  \n",
       "TutorialBenchmarkData_098  TutorialBenchmarkData_098  \n",
       "TutorialBenchmarkData_099  TutorialBenchmarkData_099  \n",
       "\n",
       "[100 rows x 4 columns]"
      ]
     },
     "execution_count": 1,
     "metadata": {},
     "output_type": "execute_result"
    }
   ],
   "source": [
    "import os\n",
    "\n",
    "from qsprpred.data import MoleculeTable\n",
    "from qsprpred.data.sources import DataSource\n",
    "\n",
    "# TODO: it  would be nice  to also have examples for all the data sets we integrate and how to integrate a new data set here\n",
    "\n",
    "BASE_DIR = \"../../tutorial_output/benchmarking\"  # directory to store all benchmarking results and files\n",
    "os.makedirs(BASE_DIR, exist_ok=True)\n",
    "SEED = 42  # random seed for all random operations\n",
    "\n",
    "\n",
    "class DataSourceTesting(DataSource):\n",
    "    \"\"\"\n",
    "    Just a simple wrapper around our tutorial data set.\n",
    "    \"\"\"\n",
    "\n",
    "    def __init__(self, name: str, store_dir: str):\n",
    "        self.name = name\n",
    "        self.storeDir = store_dir\n",
    "\n",
    "    def getData(self, name: str | None = None, **kwargs) -> MoleculeTable:\n",
    "        \"\"\"We just need to fetch a simple `MoleculeTable`.\n",
    "        Defining target properties is not necessary. We just need to\n",
    "        make sure that the data set contains the target properties we\n",
    "        want to use for benchmarking later. \n",
    "        \n",
    "        To make things faster we will sample only 100 molecules each time.\n",
    "        This code could also be simplified so that reloading of the file is not necessary.\n",
    "        \"\"\"\n",
    "        name = name or self.name\n",
    "        return MoleculeTable(\n",
    "            df=pd.read_table('../../tutorial_data/A2A_LIGANDS.tsv').sample(100,\n",
    "                                                                           random_state=SEED),\n",
    "            name=name,\n",
    "            store_dir=self.storeDir,\n",
    "            **kwargs\n",
    "        )\n",
    "\n",
    "\n",
    "source = DataSourceTesting(\"TutorialBenchmarkData\", f\"{BASE_DIR}/data\")\n",
    "example_ds = source.getData()\n",
    "example_ds.getDF()"
   ]
  },
  {
   "cell_type": "code",
   "execution_count": 2,
   "id": "c1999bf63119e665",
   "metadata": {
    "ExecuteTime": {
     "start_time": "2023-12-04T15:39:06.180671220Z"
    },
    "collapsed": false
   },
   "outputs": [
    {
     "data": {
      "text/plain": [
       "'../../tutorial_output/benchmarking/data/TutorialBenchmarkData'"
      ]
     },
     "execution_count": 2,
     "metadata": {},
     "output_type": "execute_result"
    }
   ],
   "source": [
    "# this is where all data sets derived from our source will be stored\n",
    "example_ds.storeDir"
   ]
  },
  {
   "cell_type": "markdown",
   "id": "9f7dc5ac63df08f2",
   "metadata": {
    "collapsed": false
   },
   "source": [
    "You can wrap your own data set in a `DataSource` class to use it for benchmarking. Just implement the `qsprpred.data.sources.data_source.DataSource` interface. You can use it to cache data sets so that they are not downloaded and recreated every time you run your benchmark. You just need to make sure it contains the  `TargetProperty` values, you want to use for benchmarking and the molecules. \n",
    "\n",
    "Next thing to do is to decide the benchmarking settings. You will use the `BenchmarkSettings` class to specify all details of your benchmark:"
   ]
  },
  {
   "cell_type": "code",
   "execution_count": 3,
   "id": "436e87a72118398",
   "metadata": {
    "ExecuteTime": {
     "start_time": "2023-12-04T15:39:06.180815563Z"
    },
    "collapsed": false
   },
   "outputs": [
    {
     "name": "stderr",
     "output_type": "stream",
     "text": [
      "No random state supplied, and could not find random state on the dataset.\n"
     ]
    }
   ],
   "source": [
    "from sklearn.naive_bayes import GaussianNB\n",
    "from qsprpred.models import SklearnModel, TestSetAssessor\n",
    "from qsprpred.data.processing.feature_filters import LowVarianceFilter\n",
    "from sklearn.preprocessing import StandardScaler\n",
    "from qsprpred.data import RandomSplit\n",
    "from qsprpred import TargetProperty, TargetTasks\n",
    "from qsprpred.data.descriptors.sets import FingerprintSet, RDKitDescs\n",
    "from qsprpred.benchmarks import BenchmarkSettings, DataPrepSettings\n",
    "\n",
    "settings = BenchmarkSettings(\n",
    "    name=\"TutorialBenchmark\",\n",
    "    n_replicas=1,\n",
    "    # number of repeated experiments for statistical power, just 1 here for faster calculation\n",
    "    random_seed=SEED,  # random seed for all random operations\n",
    "    data_sources=[\n",
    "        # one or more data sources to use for benchmarking\n",
    "        source\n",
    "    ],\n",
    "    descriptors=[\n",
    "        # in this case we will test 3 different combinations of descriptors\n",
    "        # [\n",
    "        #     FingerprintSet(\n",
    "        #         fingerprint_type=\"MorganFP\", radius=2, nBits=256\n",
    "        #     ),\n",
    "        #     RDKitDescs()\n",
    "        # ],\n",
    "        [\n",
    "            FingerprintSet(\n",
    "                fingerprint_type=\"MorganFP\", radius=2, nBits=256\n",
    "            )\n",
    "        ],\n",
    "        [\n",
    "            RDKitDescs()\n",
    "        ]\n",
    "    ],\n",
    "    target_props=[\n",
    "        # one or more properties to model\n",
    "        [\n",
    "            TargetProperty.fromDict(\n",
    "                {\n",
    "                    \"name\": \"pchembl_value_Mean\",\n",
    "                    \"task\": TargetTasks.SINGLECLASS,\n",
    "                    \"th\": [6.5]\n",
    "                }\n",
    "            )\n",
    "        ],\n",
    "    ],\n",
    "    prep_settings=[\n",
    "        # we will compare two splitting strategies, each time with the same feature filters and standardization\n",
    "        DataPrepSettings(\n",
    "            split=RandomSplit(test_fraction=0.2),  # random split\n",
    "            feature_filters=[LowVarianceFilter(0.05)],\n",
    "            feature_standardizer=StandardScaler()\n",
    "        ),\n",
    "        # DataPrepSettings(\n",
    "        #     split=ClusterSplit(test_fraction=0.2),  # scaffold split\n",
    "        #     feature_filters=[LowVarianceFilter(0.05)],\n",
    "        #     feature_standardizer=StandardScaler()\n",
    "        # ),\n",
    "    ],\n",
    "    models=[\n",
    "        SklearnModel(\n",
    "            name=\"GaussianNB\",\n",
    "            alg=GaussianNB,\n",
    "            base_dir=f\"{BASE_DIR}/models\",\n",
    "        ),\n",
    "        # SklearnModel(\n",
    "        #     name=\"XGBClassifier\",\n",
    "        #     alg=XGBClassifier,\n",
    "        #     base_dir=f\"{BASE_DIR}/models\",\n",
    "        # )\n",
    "    ],\n",
    "    assessors=[\n",
    "        TestSetAssessor(scoring=\"roc_auc\"),\n",
    "        TestSetAssessor(scoring=\"matthews_corrcoef\", use_proba=False),\n",
    "    ],\n",
    "    optimizers=[],\n",
    "    # no optimizers at this time (this feature actually needs some tweaking still because the parameter grid depends on the model)\n",
    ")"
   ]
  },
  {
   "cell_type": "code",
   "execution_count": 4,
   "id": "3b87a592bc6cb0cd",
   "metadata": {
    "ExecuteTime": {
     "start_time": "2023-12-04T15:39:06.180896114Z"
    },
    "collapsed": false
   },
   "outputs": [
    {
     "data": {
      "text/plain": [
       "BenchmarkSettings(name='TutorialBenchmark', n_replicas=1, random_seed=42, data_sources=[<__main__.DataSourceTesting object at 0x7f8a4e492f20>], descriptors=[[<qsprpred.data.descriptors.sets.FingerprintSet object at 0x7f8a4e4932e0>], [<qsprpred.data.descriptors.sets.RDKitDescs object at 0x7f8a4e490730>]], target_props=[[TargetProperty(name=pchembl_value_Mean, task=SINGLECLASS, th=[6.5])]], prep_settings=[DataPrepSettings(split=<qsprpred.data.sampling.splits.RandomSplit object at 0x7f8a4e493a90>, smiles_standardizer='chembl', feature_filters=[<qsprpred.data.processing.feature_filters.LowVarianceFilter object at 0x7f8a4e490700>], feature_standardizer=StandardScaler(), feature_fill_value=0.0)], models=[<qsprpred.models.sklearn.SklearnModel object at 0x7f8a4e4933a0>], assessors=[<qsprpred.models.assessment_methods.TestSetAssessor object at 0x7f8a4e493010>, <qsprpred.models.assessment_methods.TestSetAssessor object at 0x7f8a4e492da0>], optimizers=[])"
      ]
     },
     "execution_count": 4,
     "metadata": {},
     "output_type": "execute_result"
    }
   ],
   "source": [
    "# settings can be saved and reloaded from a file\n",
    "BenchmarkSettings.fromFile(settings.toFile(f\"{BASE_DIR}/settings.json\"))"
   ]
  },
  {
   "cell_type": "code",
   "execution_count": 5,
   "id": "914eac4a0e017b9b",
   "metadata": {
    "ExecuteTime": {
     "start_time": "2023-12-04T15:39:06.180978108Z"
    },
    "collapsed": false
   },
   "outputs": [],
   "source": [
    "# to run the benchmark we need a runner\n",
    "from qsprpred.benchmarks import BenchmarkRunner\n",
    "\n",
    "runner = BenchmarkRunner(settings, data_dir=BASE_DIR)"
   ]
  },
  {
   "cell_type": "code",
   "execution_count": 6,
   "id": "55efc926f0ad0c8e",
   "metadata": {
    "ExecuteTime": {
     "start_time": "2023-12-04T15:39:06.181113981Z"
    },
    "collapsed": false
   },
   "outputs": [
    {
     "data": {
      "text/plain": [
       "2"
      ]
     },
     "execution_count": 6,
     "metadata": {},
     "output_type": "execute_result"
    }
   ],
   "source": [
    "# we can check how many experiments we will run\n",
    "runner.nRuns"
   ]
  },
  {
   "cell_type": "markdown",
   "id": "16600c9303070736",
   "metadata": {
    "collapsed": false
   },
   "source": [
    "This is the number of full modeling workflows we will run. We can check the details of each one by iterating over the replicas:"
   ]
  },
  {
   "cell_type": "code",
   "execution_count": 7,
   "id": "efa7a1f507803a8f",
   "metadata": {
    "ExecuteTime": {
     "start_time": "2023-12-04T15:39:06.181190439Z"
    },
    "collapsed": false
   },
   "outputs": [
    {
     "name": "stdout",
     "output_type": "stream",
     "text": [
      "TutorialBenchmark_2746317213\n",
      "TutorialBenchmarkData\n",
      "[<qsprpred.data.descriptors.sets.FingerprintSet object at 0x7f8a4e492d10>]\n",
      "[TargetProperty(name=pchembl_value_Mean, task=SINGLECLASS, th=[6.5])]\n",
      "<qsprpred.data.sampling.splits.RandomSplit object at 0x7f89c2ea42b0>\n"
     ]
    }
   ],
   "source": [
    "for replica in runner.iterReplicas():\n",
    "    # replicas contain all info needed to run an experiment\n",
    "    print(replica)\n",
    "    print(replica.dataSource.name)\n",
    "    print(replica.descriptors)\n",
    "    print(replica.targetProps)\n",
    "    print(replica.prepSettings.split)\n",
    "    break"
   ]
  },
  {
   "cell_type": "markdown",
   "id": "2e4c8cc2eca15762",
   "metadata": {
    "collapsed": false
   },
   "source": [
    "Replicas have methods to run a full experiment, but we will let the runner handle this for us and distribute the calculations over the available CPUs:"
   ]
  },
  {
   "cell_type": "code",
   "execution_count": 8,
   "id": "648afe2cf213d695",
   "metadata": {
    "ExecuteTime": {
     "start_time": "2023-12-04T15:39:06.181264664Z"
    },
    "collapsed": false
   },
   "outputs": [
    {
     "name": "stderr",
     "output_type": "stream",
     "text": [
      "INFO:qsprpred:Target property converted to classification.\n",
      "INFO:qsprpred:Dataset 'TutorialBenchmarkData' created for target targetProperties: '[TargetProperty(name=pchembl_value_Mean_class, task=SINGLECLASS, th=[6.5])]'.\n",
      "INFO:qsprpred:Target property converted to classification.\n",
      "INFO:qsprpred:Dataset 'TutorialBenchmarkData' created for target targetProperties: '[TargetProperty(name=pchembl_value_Mean_class, task=SINGLECLASS, th=[6.5])]'.\n",
      "INFO:qsprpred:Total: train: 80 test: 20\n",
      "INFO:qsprpred:Target property: pchembl_value_Mean_class\n",
      "INFO:qsprpred:    In train: active: 47 not active: 33\n",
      "INFO:qsprpred:    In test:  active: 11 not active: 9\n",
      "\n",
      "INFO:qsprpred:number of columns dropped low variance filter: 42\n",
      "INFO:qsprpred:number of columns left: 214\n",
      "INFO:qsprpred:Selected features: ['Descriptor_FingerprintSet_MorganFP_0', 'Descriptor_FingerprintSet_MorganFP_1', 'Descriptor_FingerprintSet_MorganFP_3', 'Descriptor_FingerprintSet_MorganFP_4', 'Descriptor_FingerprintSet_MorganFP_5', 'Descriptor_FingerprintSet_MorganFP_7', 'Descriptor_FingerprintSet_MorganFP_8', 'Descriptor_FingerprintSet_MorganFP_9', 'Descriptor_FingerprintSet_MorganFP_11', 'Descriptor_FingerprintSet_MorganFP_12', 'Descriptor_FingerprintSet_MorganFP_13', 'Descriptor_FingerprintSet_MorganFP_14', 'Descriptor_FingerprintSet_MorganFP_15', 'Descriptor_FingerprintSet_MorganFP_16', 'Descriptor_FingerprintSet_MorganFP_18', 'Descriptor_FingerprintSet_MorganFP_20', 'Descriptor_FingerprintSet_MorganFP_21', 'Descriptor_FingerprintSet_MorganFP_22', 'Descriptor_FingerprintSet_MorganFP_23', 'Descriptor_FingerprintSet_MorganFP_24', 'Descriptor_FingerprintSet_MorganFP_25', 'Descriptor_FingerprintSet_MorganFP_26', 'Descriptor_FingerprintSet_MorganFP_27', 'Descriptor_FingerprintSet_MorganFP_28', 'Descriptor_FingerprintSet_MorganFP_29', 'Descriptor_FingerprintSet_MorganFP_31', 'Descriptor_FingerprintSet_MorganFP_33', 'Descriptor_FingerprintSet_MorganFP_34', 'Descriptor_FingerprintSet_MorganFP_35', 'Descriptor_FingerprintSet_MorganFP_36', 'Descriptor_FingerprintSet_MorganFP_37', 'Descriptor_FingerprintSet_MorganFP_38', 'Descriptor_FingerprintSet_MorganFP_39', 'Descriptor_FingerprintSet_MorganFP_40', 'Descriptor_FingerprintSet_MorganFP_41', 'Descriptor_FingerprintSet_MorganFP_42', 'Descriptor_FingerprintSet_MorganFP_43', 'Descriptor_FingerprintSet_MorganFP_44', 'Descriptor_FingerprintSet_MorganFP_45', 'Descriptor_FingerprintSet_MorganFP_46', 'Descriptor_FingerprintSet_MorganFP_47', 'Descriptor_FingerprintSet_MorganFP_48', 'Descriptor_FingerprintSet_MorganFP_49', 'Descriptor_FingerprintSet_MorganFP_50', 'Descriptor_FingerprintSet_MorganFP_51', 'Descriptor_FingerprintSet_MorganFP_52', 'Descriptor_FingerprintSet_MorganFP_56', 'Descriptor_FingerprintSet_MorganFP_57', 'Descriptor_FingerprintSet_MorganFP_58', 'Descriptor_FingerprintSet_MorganFP_59', 'Descriptor_FingerprintSet_MorganFP_60', 'Descriptor_FingerprintSet_MorganFP_61', 'Descriptor_FingerprintSet_MorganFP_62', 'Descriptor_FingerprintSet_MorganFP_63', 'Descriptor_FingerprintSet_MorganFP_65', 'Descriptor_FingerprintSet_MorganFP_66', 'Descriptor_FingerprintSet_MorganFP_67', 'Descriptor_FingerprintSet_MorganFP_68', 'Descriptor_FingerprintSet_MorganFP_69', 'Descriptor_FingerprintSet_MorganFP_71', 'Descriptor_FingerprintSet_MorganFP_72', 'Descriptor_FingerprintSet_MorganFP_73', 'Descriptor_FingerprintSet_MorganFP_74', 'Descriptor_FingerprintSet_MorganFP_75', 'Descriptor_FingerprintSet_MorganFP_77', 'Descriptor_FingerprintSet_MorganFP_79', 'Descriptor_FingerprintSet_MorganFP_80', 'Descriptor_FingerprintSet_MorganFP_82', 'Descriptor_FingerprintSet_MorganFP_84', 'Descriptor_FingerprintSet_MorganFP_85', 'Descriptor_FingerprintSet_MorganFP_86', 'Descriptor_FingerprintSet_MorganFP_87', 'Descriptor_FingerprintSet_MorganFP_88', 'Descriptor_FingerprintSet_MorganFP_89', 'Descriptor_FingerprintSet_MorganFP_90', 'Descriptor_FingerprintSet_MorganFP_91', 'Descriptor_FingerprintSet_MorganFP_92', 'Descriptor_FingerprintSet_MorganFP_93', 'Descriptor_FingerprintSet_MorganFP_94', 'Descriptor_FingerprintSet_MorganFP_95', 'Descriptor_FingerprintSet_MorganFP_96', 'Descriptor_FingerprintSet_MorganFP_99', 'Descriptor_FingerprintSet_MorganFP_101', 'Descriptor_FingerprintSet_MorganFP_102', 'Descriptor_FingerprintSet_MorganFP_103', 'Descriptor_FingerprintSet_MorganFP_104', 'Descriptor_FingerprintSet_MorganFP_105', 'Descriptor_FingerprintSet_MorganFP_106', 'Descriptor_FingerprintSet_MorganFP_108', 'Descriptor_FingerprintSet_MorganFP_109', 'Descriptor_FingerprintSet_MorganFP_110', 'Descriptor_FingerprintSet_MorganFP_111', 'Descriptor_FingerprintSet_MorganFP_112', 'Descriptor_FingerprintSet_MorganFP_113', 'Descriptor_FingerprintSet_MorganFP_114', 'Descriptor_FingerprintSet_MorganFP_115', 'Descriptor_FingerprintSet_MorganFP_117', 'Descriptor_FingerprintSet_MorganFP_118', 'Descriptor_FingerprintSet_MorganFP_119', 'Descriptor_FingerprintSet_MorganFP_120', 'Descriptor_FingerprintSet_MorganFP_121', 'Descriptor_FingerprintSet_MorganFP_122', 'Descriptor_FingerprintSet_MorganFP_123', 'Descriptor_FingerprintSet_MorganFP_124', 'Descriptor_FingerprintSet_MorganFP_125', 'Descriptor_FingerprintSet_MorganFP_126', 'Descriptor_FingerprintSet_MorganFP_127', 'Descriptor_FingerprintSet_MorganFP_128', 'Descriptor_FingerprintSet_MorganFP_129', 'Descriptor_FingerprintSet_MorganFP_131', 'Descriptor_FingerprintSet_MorganFP_132', 'Descriptor_FingerprintSet_MorganFP_133', 'Descriptor_FingerprintSet_MorganFP_134', 'Descriptor_FingerprintSet_MorganFP_135', 'Descriptor_FingerprintSet_MorganFP_136', 'Descriptor_FingerprintSet_MorganFP_137', 'Descriptor_FingerprintSet_MorganFP_138', 'Descriptor_FingerprintSet_MorganFP_139', 'Descriptor_FingerprintSet_MorganFP_140', 'Descriptor_FingerprintSet_MorganFP_141', 'Descriptor_FingerprintSet_MorganFP_142', 'Descriptor_FingerprintSet_MorganFP_144', 'Descriptor_FingerprintSet_MorganFP_145', 'Descriptor_FingerprintSet_MorganFP_146', 'Descriptor_FingerprintSet_MorganFP_147', 'Descriptor_FingerprintSet_MorganFP_148', 'Descriptor_FingerprintSet_MorganFP_149', 'Descriptor_FingerprintSet_MorganFP_151', 'Descriptor_FingerprintSet_MorganFP_152', 'Descriptor_FingerprintSet_MorganFP_153', 'Descriptor_FingerprintSet_MorganFP_155', 'Descriptor_FingerprintSet_MorganFP_156', 'Descriptor_FingerprintSet_MorganFP_157', 'Descriptor_FingerprintSet_MorganFP_158', 'Descriptor_FingerprintSet_MorganFP_160', 'Descriptor_FingerprintSet_MorganFP_161', 'Descriptor_FingerprintSet_MorganFP_162', 'Descriptor_FingerprintSet_MorganFP_163', 'Descriptor_FingerprintSet_MorganFP_164', 'Descriptor_FingerprintSet_MorganFP_165', 'Descriptor_FingerprintSet_MorganFP_166', 'Descriptor_FingerprintSet_MorganFP_167', 'Descriptor_FingerprintSet_MorganFP_168', 'Descriptor_FingerprintSet_MorganFP_169', 'Descriptor_FingerprintSet_MorganFP_170', 'Descriptor_FingerprintSet_MorganFP_172', 'Descriptor_FingerprintSet_MorganFP_173', 'Descriptor_FingerprintSet_MorganFP_174', 'Descriptor_FingerprintSet_MorganFP_177', 'Descriptor_FingerprintSet_MorganFP_178', 'Descriptor_FingerprintSet_MorganFP_179', 'Descriptor_FingerprintSet_MorganFP_182', 'Descriptor_FingerprintSet_MorganFP_183', 'Descriptor_FingerprintSet_MorganFP_184', 'Descriptor_FingerprintSet_MorganFP_185', 'Descriptor_FingerprintSet_MorganFP_186', 'Descriptor_FingerprintSet_MorganFP_187', 'Descriptor_FingerprintSet_MorganFP_188', 'Descriptor_FingerprintSet_MorganFP_189', 'Descriptor_FingerprintSet_MorganFP_190', 'Descriptor_FingerprintSet_MorganFP_191', 'Descriptor_FingerprintSet_MorganFP_192', 'Descriptor_FingerprintSet_MorganFP_193', 'Descriptor_FingerprintSet_MorganFP_194', 'Descriptor_FingerprintSet_MorganFP_195', 'Descriptor_FingerprintSet_MorganFP_196', 'Descriptor_FingerprintSet_MorganFP_197', 'Descriptor_FingerprintSet_MorganFP_198', 'Descriptor_FingerprintSet_MorganFP_199', 'Descriptor_FingerprintSet_MorganFP_200', 'Descriptor_FingerprintSet_MorganFP_201', 'Descriptor_FingerprintSet_MorganFP_202', 'Descriptor_FingerprintSet_MorganFP_203', 'Descriptor_FingerprintSet_MorganFP_204', 'Descriptor_FingerprintSet_MorganFP_206', 'Descriptor_FingerprintSet_MorganFP_207', 'Descriptor_FingerprintSet_MorganFP_208', 'Descriptor_FingerprintSet_MorganFP_209', 'Descriptor_FingerprintSet_MorganFP_210', 'Descriptor_FingerprintSet_MorganFP_211', 'Descriptor_FingerprintSet_MorganFP_212', 'Descriptor_FingerprintSet_MorganFP_213', 'Descriptor_FingerprintSet_MorganFP_214', 'Descriptor_FingerprintSet_MorganFP_216', 'Descriptor_FingerprintSet_MorganFP_217', 'Descriptor_FingerprintSet_MorganFP_218', 'Descriptor_FingerprintSet_MorganFP_219', 'Descriptor_FingerprintSet_MorganFP_221', 'Descriptor_FingerprintSet_MorganFP_226', 'Descriptor_FingerprintSet_MorganFP_228', 'Descriptor_FingerprintSet_MorganFP_229', 'Descriptor_FingerprintSet_MorganFP_230', 'Descriptor_FingerprintSet_MorganFP_231', 'Descriptor_FingerprintSet_MorganFP_232', 'Descriptor_FingerprintSet_MorganFP_233', 'Descriptor_FingerprintSet_MorganFP_234', 'Descriptor_FingerprintSet_MorganFP_235', 'Descriptor_FingerprintSet_MorganFP_236', 'Descriptor_FingerprintSet_MorganFP_237', 'Descriptor_FingerprintSet_MorganFP_239', 'Descriptor_FingerprintSet_MorganFP_241', 'Descriptor_FingerprintSet_MorganFP_242', 'Descriptor_FingerprintSet_MorganFP_243', 'Descriptor_FingerprintSet_MorganFP_244', 'Descriptor_FingerprintSet_MorganFP_245', 'Descriptor_FingerprintSet_MorganFP_246', 'Descriptor_FingerprintSet_MorganFP_247', 'Descriptor_FingerprintSet_MorganFP_248', 'Descriptor_FingerprintSet_MorganFP_249', 'Descriptor_FingerprintSet_MorganFP_250', 'Descriptor_FingerprintSet_MorganFP_251', 'Descriptor_FingerprintSet_MorganFP_252', 'Descriptor_FingerprintSet_MorganFP_254', 'Descriptor_FingerprintSet_MorganFP_255']\n",
      "WARNING:qsprpred:Random state supplied, but alg <class 'sklearn.naive_bayes.GaussianNB'> does not support it. Ignoring this setting.\n",
      "/home/sichom/software/miniconda/envs/qsprpred/lib/python3.10/site-packages/sklearn/utils/validation.py:767: FutureWarning: is_sparse is deprecated and will be removed in a future version. Check `isinstance(dtype, pd.SparseDtype)` instead.\n",
      "  if not hasattr(array, \"sparse\") and array.dtypes.apply(is_sparse).any():\n",
      "/home/sichom/software/miniconda/envs/qsprpred/lib/python3.10/site-packages/sklearn/utils/validation.py:605: FutureWarning: is_sparse is deprecated and will be removed in a future version. Check `isinstance(dtype, pd.SparseDtype)` instead.\n",
      "  if is_sparse(pd_dtype):\n",
      "/home/sichom/software/miniconda/envs/qsprpred/lib/python3.10/site-packages/sklearn/utils/validation.py:614: FutureWarning: is_sparse is deprecated and will be removed in a future version. Check `isinstance(dtype, pd.SparseDtype)` instead.\n",
      "  if is_sparse(pd_dtype) or not is_extension_array_dtype(pd_dtype):\n",
      "/home/sichom/software/miniconda/envs/qsprpred/lib/python3.10/site-packages/sklearn/utils/validation.py:767: FutureWarning: is_sparse is deprecated and will be removed in a future version. Check `isinstance(dtype, pd.SparseDtype)` instead.\n",
      "  if not hasattr(array, \"sparse\") and array.dtypes.apply(is_sparse).any():\n",
      "/home/sichom/software/miniconda/envs/qsprpred/lib/python3.10/site-packages/sklearn/utils/validation.py:605: FutureWarning: is_sparse is deprecated and will be removed in a future version. Check `isinstance(dtype, pd.SparseDtype)` instead.\n",
      "  if is_sparse(pd_dtype):\n",
      "/home/sichom/software/miniconda/envs/qsprpred/lib/python3.10/site-packages/sklearn/utils/validation.py:614: FutureWarning: is_sparse is deprecated and will be removed in a future version. Check `isinstance(dtype, pd.SparseDtype)` instead.\n",
      "  if is_sparse(pd_dtype) or not is_extension_array_dtype(pd_dtype):\n",
      "/home/sichom/software/miniconda/envs/qsprpred/lib/python3.10/site-packages/sklearn/utils/validation.py:767: FutureWarning: is_sparse is deprecated and will be removed in a future version. Check `isinstance(dtype, pd.SparseDtype)` instead.\n",
      "  if not hasattr(array, \"sparse\") and array.dtypes.apply(is_sparse).any():\n",
      "/home/sichom/software/miniconda/envs/qsprpred/lib/python3.10/site-packages/sklearn/utils/validation.py:605: FutureWarning: is_sparse is deprecated and will be removed in a future version. Check `isinstance(dtype, pd.SparseDtype)` instead.\n",
      "  if is_sparse(pd_dtype):\n",
      "/home/sichom/software/miniconda/envs/qsprpred/lib/python3.10/site-packages/sklearn/utils/validation.py:614: FutureWarning: is_sparse is deprecated and will be removed in a future version. Check `isinstance(dtype, pd.SparseDtype)` instead.\n",
      "  if is_sparse(pd_dtype) or not is_extension_array_dtype(pd_dtype):\n",
      "/home/sichom/software/miniconda/envs/qsprpred/lib/python3.10/site-packages/sklearn/utils/validation.py:767: FutureWarning: is_sparse is deprecated and will be removed in a future version. Check `isinstance(dtype, pd.SparseDtype)` instead.\n",
      "  if not hasattr(array, \"sparse\") and array.dtypes.apply(is_sparse).any():\n",
      "/home/sichom/software/miniconda/envs/qsprpred/lib/python3.10/site-packages/sklearn/utils/validation.py:767: FutureWarning: is_sparse is deprecated and will be removed in a future version. Check `isinstance(dtype, pd.SparseDtype)` instead.\n",
      "  if not hasattr(array, \"sparse\") and array.dtypes.apply(is_sparse).any():\n",
      "/home/sichom/software/miniconda/envs/qsprpred/lib/python3.10/site-packages/sklearn/utils/validation.py:605: FutureWarning: is_sparse is deprecated and will be removed in a future version. Check `isinstance(dtype, pd.SparseDtype)` instead.\n",
      "  if is_sparse(pd_dtype):\n",
      "/home/sichom/software/miniconda/envs/qsprpred/lib/python3.10/site-packages/sklearn/utils/validation.py:614: FutureWarning: is_sparse is deprecated and will be removed in a future version. Check `isinstance(dtype, pd.SparseDtype)` instead.\n",
      "  if is_sparse(pd_dtype) or not is_extension_array_dtype(pd_dtype):\n",
      "/home/sichom/software/miniconda/envs/qsprpred/lib/python3.10/site-packages/sklearn/utils/validation.py:767: FutureWarning: is_sparse is deprecated and will be removed in a future version. Check `isinstance(dtype, pd.SparseDtype)` instead.\n",
      "  if not hasattr(array, \"sparse\") and array.dtypes.apply(is_sparse).any():\n",
      "/home/sichom/software/miniconda/envs/qsprpred/lib/python3.10/site-packages/sklearn/utils/validation.py:605: FutureWarning: is_sparse is deprecated and will be removed in a future version. Check `isinstance(dtype, pd.SparseDtype)` instead.\n",
      "  if is_sparse(pd_dtype):\n",
      "/home/sichom/software/miniconda/envs/qsprpred/lib/python3.10/site-packages/sklearn/utils/validation.py:614: FutureWarning: is_sparse is deprecated and will be removed in a future version. Check `isinstance(dtype, pd.SparseDtype)` instead.\n",
      "  if is_sparse(pd_dtype) or not is_extension_array_dtype(pd_dtype):\n",
      "/home/sichom/software/miniconda/envs/qsprpred/lib/python3.10/site-packages/sklearn/utils/validation.py:767: FutureWarning: is_sparse is deprecated and will be removed in a future version. Check `isinstance(dtype, pd.SparseDtype)` instead.\n",
      "  if not hasattr(array, \"sparse\") and array.dtypes.apply(is_sparse).any():\n",
      "/home/sichom/software/miniconda/envs/qsprpred/lib/python3.10/site-packages/sklearn/utils/validation.py:605: FutureWarning: is_sparse is deprecated and will be removed in a future version. Check `isinstance(dtype, pd.SparseDtype)` instead.\n",
      "  if is_sparse(pd_dtype):\n",
      "/home/sichom/software/miniconda/envs/qsprpred/lib/python3.10/site-packages/sklearn/utils/validation.py:614: FutureWarning: is_sparse is deprecated and will be removed in a future version. Check `isinstance(dtype, pd.SparseDtype)` instead.\n",
      "  if is_sparse(pd_dtype) or not is_extension_array_dtype(pd_dtype):\n",
      "/home/sichom/software/miniconda/envs/qsprpred/lib/python3.10/site-packages/sklearn/utils/validation.py:767: FutureWarning: is_sparse is deprecated and will be removed in a future version. Check `isinstance(dtype, pd.SparseDtype)` instead.\n",
      "  if not hasattr(array, \"sparse\") and array.dtypes.apply(is_sparse).any():\n",
      "ERROR:qsprpred:Could not deepcopy ds: [Errno 2] No such file or directory: '../../tutorial_output/benchmarking/data/TutorialBenchmarkData/TutorialBenchmarkData_FingerprintSet_MorganFP/TutorialBenchmarkData_FingerprintSet_MorganFP_Descriptor/TutorialBenchmarkData_FingerprintSet_MorganFP_Descriptor_meta.json'\n",
      "Traceback (most recent call last):\n",
      "  File \"/home/sichom/projects/QSPRpred/qsprpred/benchmarks/runner.py\", line 250, in runReplica\n",
      "    df_report = replica.createReport()\n",
      "  File \"/home/sichom/projects/QSPRpred/qsprpred/benchmarks/replica.py\", line 240, in createReport\n",
      "    results[\"ReplicaFile\"] = self.toFile(out_file)\n",
      "  File \"/home/sichom/projects/QSPRpred/qsprpred/utils/serialization.py\", line 94, in toFile\n",
      "    json = self.toJSON()\n",
      "  File \"/home/sichom/projects/QSPRpred/qsprpred/utils/serialization.py\", line 120, in toJSON\n",
      "    return jsonpickle.encode(self, unpicklable=True)\n",
      "  File \"/home/sichom/software/miniconda/envs/qsprpred/lib/python3.10/site-packages/jsonpickle/pickler.py\", line 144, in encode\n",
      "    context.flatten(value, reset=reset), indent=indent, separators=separators\n",
      "  File \"/home/sichom/software/miniconda/envs/qsprpred/lib/python3.10/site-packages/jsonpickle/pickler.py\", line 336, in flatten\n",
      "    return self._flatten(obj)\n",
      "  File \"/home/sichom/software/miniconda/envs/qsprpred/lib/python3.10/site-packages/jsonpickle/pickler.py\", line 296, in _flatten\n",
      "    result = self._flatten_impl(obj)\n",
      "  File \"/home/sichom/software/miniconda/envs/qsprpred/lib/python3.10/site-packages/jsonpickle/pickler.py\", line 356, in _flatten_impl\n",
      "    return self._pop(self._flatten_obj(obj))\n",
      "  File \"/home/sichom/software/miniconda/envs/qsprpred/lib/python3.10/site-packages/jsonpickle/pickler.py\", line 389, in _flatten_obj\n",
      "    raise e\n",
      "  File \"/home/sichom/software/miniconda/envs/qsprpred/lib/python3.10/site-packages/jsonpickle/pickler.py\", line 383, in _flatten_obj\n",
      "    return flatten_func(obj)\n",
      "  File \"/home/sichom/software/miniconda/envs/qsprpred/lib/python3.10/site-packages/jsonpickle/pickler.py\", line 675, in _ref_obj_instance\n",
      "    return self._flatten_obj_instance(obj)\n",
      "  File \"/home/sichom/software/miniconda/envs/qsprpred/lib/python3.10/site-packages/jsonpickle/pickler.py\", line 620, in _flatten_obj_instance\n",
      "    state = obj.__getstate__()\n",
      "  File \"/home/sichom/projects/QSPRpred/qsprpred/benchmarks/replica.py\", line 81, in __getstate__\n",
      "    o_dict = super().__getstate__()\n",
      "  File \"/home/sichom/projects/QSPRpred/qsprpred/utils/serialization.py\", line 73, in __getstate__\n",
      "    raise exp\n",
      "  File \"/home/sichom/projects/QSPRpred/qsprpred/utils/serialization.py\", line 70, in __getstate__\n",
      "    o_dict[key] = copy.deepcopy(self.__dict__[key])\n",
      "  File \"/home/sichom/software/miniconda/envs/qsprpred/lib/python3.10/copy.py\", line 172, in deepcopy\n",
      "    y = _reconstruct(x, memo, *rv)\n",
      "  File \"/home/sichom/software/miniconda/envs/qsprpred/lib/python3.10/copy.py\", line 273, in _reconstruct\n",
      "    y.__setstate__(state)\n",
      "  File \"/home/sichom/projects/QSPRpred/qsprpred/data/tables/qspr.py\", line 130, in __setstate__\n",
      "    super().__setstate__(state)\n",
      "  File \"/home/sichom/projects/QSPRpred/qsprpred/data/tables/mol.py\", line 194, in __setstate__\n",
      "    self.descriptors.append(DescriptorTable.fromFile(desc))\n",
      "  File \"/home/sichom/projects/QSPRpred/qsprpred/data/tables/pandas.py\", line 494, in fromFile\n",
      "    with open(filename, \"r\") as f:\n",
      "FileNotFoundError: [Errno 2] No such file or directory: '../../tutorial_output/benchmarking/data/TutorialBenchmarkData/TutorialBenchmarkData_FingerprintSet_MorganFP/TutorialBenchmarkData_FingerprintSet_MorganFP_Descriptor/TutorialBenchmarkData_FingerprintSet_MorganFP_Descriptor_meta.json'\n",
      "INFO:qsprpred:Total: train: 80 test: 20\n",
      "INFO:qsprpred:Target property: pchembl_value_Mean_class\n",
      "INFO:qsprpred:    In train: active: 45 not active: 35\n",
      "INFO:qsprpred:    In test:  active: 13 not active: 7\n",
      "\n",
      "INFO:qsprpred:number of columns dropped low variance filter: 149\n",
      "INFO:qsprpred:number of columns left: 61\n",
      "INFO:qsprpred:Selected features: ['Descriptor_RDkit_BCUT2D_CHGLO', 'Descriptor_RDkit_BCUT2D_LOGPLOW', 'Descriptor_RDkit_BCUT2D_MRHI', 'Descriptor_RDkit_BCUT2D_MWHI', 'Descriptor_RDkit_EState_VSA1', 'Descriptor_RDkit_EState_VSA10', 'Descriptor_RDkit_EState_VSA2', 'Descriptor_RDkit_EState_VSA4', 'Descriptor_RDkit_EState_VSA5', 'Descriptor_RDkit_HallKierAlpha', 'Descriptor_RDkit_MaxAbsEStateIndex', 'Descriptor_RDkit_MaxEStateIndex', 'Descriptor_RDkit_MinPartialCharge', 'Descriptor_RDkit_NumAliphaticRings', 'Descriptor_RDkit_NumAromaticCarbocycles', 'Descriptor_RDkit_NumAromaticRings', 'Descriptor_RDkit_NumHAcceptors', 'Descriptor_RDkit_NumHeteroatoms', 'Descriptor_RDkit_NumSaturatedHeterocycles', 'Descriptor_RDkit_PEOE_VSA11', 'Descriptor_RDkit_PEOE_VSA12', 'Descriptor_RDkit_PEOE_VSA13', 'Descriptor_RDkit_PEOE_VSA14', 'Descriptor_RDkit_PEOE_VSA2', 'Descriptor_RDkit_PEOE_VSA4', 'Descriptor_RDkit_PEOE_VSA5', 'Descriptor_RDkit_PEOE_VSA6', 'Descriptor_RDkit_RingCount', 'Descriptor_RDkit_SMR_VSA1', 'Descriptor_RDkit_SMR_VSA4', 'Descriptor_RDkit_SMR_VSA7', 'Descriptor_RDkit_SMR_VSA9', 'Descriptor_RDkit_SlogP_VSA12', 'Descriptor_RDkit_SlogP_VSA4', 'Descriptor_RDkit_SlogP_VSA8', 'Descriptor_RDkit_VSA_EState1', 'Descriptor_RDkit_VSA_EState3', 'Descriptor_RDkit_VSA_EState8', 'Descriptor_RDkit_fr_Al_OH', 'Descriptor_RDkit_fr_Al_OH_noTert', 'Descriptor_RDkit_fr_ArN', 'Descriptor_RDkit_fr_Ar_NH', 'Descriptor_RDkit_fr_C_O', 'Descriptor_RDkit_fr_C_O_noCOO', 'Descriptor_RDkit_fr_NH2', 'Descriptor_RDkit_fr_Ndealkylation1', 'Descriptor_RDkit_fr_Nhpyrrole', 'Descriptor_RDkit_fr_amide', 'Descriptor_RDkit_fr_aniline', 'Descriptor_RDkit_fr_aryl_methyl', 'Descriptor_RDkit_fr_benzene', 'Descriptor_RDkit_fr_ester', 'Descriptor_RDkit_fr_ether', 'Descriptor_RDkit_fr_furan', 'Descriptor_RDkit_fr_halogen', 'Descriptor_RDkit_fr_imidazole', 'Descriptor_RDkit_fr_piperdine', 'Descriptor_RDkit_fr_piperzine', 'Descriptor_RDkit_fr_pyridine', 'Descriptor_RDkit_fr_thiazole', 'Descriptor_RDkit_fr_thiophene']\n",
      "WARNING:qsprpred:Random state supplied, but alg <class 'sklearn.naive_bayes.GaussianNB'> does not support it. Ignoring this setting.\n",
      "/home/sichom/software/miniconda/envs/qsprpred/lib/python3.10/site-packages/sklearn/utils/validation.py:767: FutureWarning: is_sparse is deprecated and will be removed in a future version. Check `isinstance(dtype, pd.SparseDtype)` instead.\n",
      "  if not hasattr(array, \"sparse\") and array.dtypes.apply(is_sparse).any():\n",
      "/home/sichom/software/miniconda/envs/qsprpred/lib/python3.10/site-packages/sklearn/utils/validation.py:605: FutureWarning: is_sparse is deprecated and will be removed in a future version. Check `isinstance(dtype, pd.SparseDtype)` instead.\n",
      "  if is_sparse(pd_dtype):\n",
      "/home/sichom/software/miniconda/envs/qsprpred/lib/python3.10/site-packages/sklearn/utils/validation.py:614: FutureWarning: is_sparse is deprecated and will be removed in a future version. Check `isinstance(dtype, pd.SparseDtype)` instead.\n",
      "  if is_sparse(pd_dtype) or not is_extension_array_dtype(pd_dtype):\n",
      "/home/sichom/software/miniconda/envs/qsprpred/lib/python3.10/site-packages/sklearn/utils/validation.py:767: FutureWarning: is_sparse is deprecated and will be removed in a future version. Check `isinstance(dtype, pd.SparseDtype)` instead.\n",
      "  if not hasattr(array, \"sparse\") and array.dtypes.apply(is_sparse).any():\n",
      "/home/sichom/software/miniconda/envs/qsprpred/lib/python3.10/site-packages/sklearn/utils/validation.py:605: FutureWarning: is_sparse is deprecated and will be removed in a future version. Check `isinstance(dtype, pd.SparseDtype)` instead.\n",
      "  if is_sparse(pd_dtype):\n",
      "/home/sichom/software/miniconda/envs/qsprpred/lib/python3.10/site-packages/sklearn/utils/validation.py:614: FutureWarning: is_sparse is deprecated and will be removed in a future version. Check `isinstance(dtype, pd.SparseDtype)` instead.\n",
      "  if is_sparse(pd_dtype) or not is_extension_array_dtype(pd_dtype):\n",
      "/home/sichom/software/miniconda/envs/qsprpred/lib/python3.10/site-packages/sklearn/utils/validation.py:767: FutureWarning: is_sparse is deprecated and will be removed in a future version. Check `isinstance(dtype, pd.SparseDtype)` instead.\n",
      "  if not hasattr(array, \"sparse\") and array.dtypes.apply(is_sparse).any():\n",
      "/home/sichom/software/miniconda/envs/qsprpred/lib/python3.10/site-packages/sklearn/utils/validation.py:605: FutureWarning: is_sparse is deprecated and will be removed in a future version. Check `isinstance(dtype, pd.SparseDtype)` instead.\n",
      "  if is_sparse(pd_dtype):\n",
      "/home/sichom/software/miniconda/envs/qsprpred/lib/python3.10/site-packages/sklearn/utils/validation.py:614: FutureWarning: is_sparse is deprecated and will be removed in a future version. Check `isinstance(dtype, pd.SparseDtype)` instead.\n",
      "  if is_sparse(pd_dtype) or not is_extension_array_dtype(pd_dtype):\n",
      "/home/sichom/software/miniconda/envs/qsprpred/lib/python3.10/site-packages/sklearn/utils/validation.py:767: FutureWarning: is_sparse is deprecated and will be removed in a future version. Check `isinstance(dtype, pd.SparseDtype)` instead.\n",
      "  if not hasattr(array, \"sparse\") and array.dtypes.apply(is_sparse).any():\n",
      "/home/sichom/software/miniconda/envs/qsprpred/lib/python3.10/site-packages/sklearn/utils/validation.py:767: FutureWarning: is_sparse is deprecated and will be removed in a future version. Check `isinstance(dtype, pd.SparseDtype)` instead.\n",
      "  if not hasattr(array, \"sparse\") and array.dtypes.apply(is_sparse).any():\n",
      "/home/sichom/software/miniconda/envs/qsprpred/lib/python3.10/site-packages/sklearn/utils/validation.py:605: FutureWarning: is_sparse is deprecated and will be removed in a future version. Check `isinstance(dtype, pd.SparseDtype)` instead.\n",
      "  if is_sparse(pd_dtype):\n",
      "/home/sichom/software/miniconda/envs/qsprpred/lib/python3.10/site-packages/sklearn/utils/validation.py:614: FutureWarning: is_sparse is deprecated and will be removed in a future version. Check `isinstance(dtype, pd.SparseDtype)` instead.\n",
      "  if is_sparse(pd_dtype) or not is_extension_array_dtype(pd_dtype):\n",
      "/home/sichom/software/miniconda/envs/qsprpred/lib/python3.10/site-packages/sklearn/utils/validation.py:767: FutureWarning: is_sparse is deprecated and will be removed in a future version. Check `isinstance(dtype, pd.SparseDtype)` instead.\n",
      "  if not hasattr(array, \"sparse\") and array.dtypes.apply(is_sparse).any():\n",
      "/home/sichom/software/miniconda/envs/qsprpred/lib/python3.10/site-packages/sklearn/utils/validation.py:605: FutureWarning: is_sparse is deprecated and will be removed in a future version. Check `isinstance(dtype, pd.SparseDtype)` instead.\n",
      "  if is_sparse(pd_dtype):\n",
      "/home/sichom/software/miniconda/envs/qsprpred/lib/python3.10/site-packages/sklearn/utils/validation.py:614: FutureWarning: is_sparse is deprecated and will be removed in a future version. Check `isinstance(dtype, pd.SparseDtype)` instead.\n",
      "  if is_sparse(pd_dtype) or not is_extension_array_dtype(pd_dtype):\n",
      "/home/sichom/software/miniconda/envs/qsprpred/lib/python3.10/site-packages/sklearn/utils/validation.py:767: FutureWarning: is_sparse is deprecated and will be removed in a future version. Check `isinstance(dtype, pd.SparseDtype)` instead.\n",
      "  if not hasattr(array, \"sparse\") and array.dtypes.apply(is_sparse).any():\n",
      "/home/sichom/software/miniconda/envs/qsprpred/lib/python3.10/site-packages/sklearn/utils/validation.py:605: FutureWarning: is_sparse is deprecated and will be removed in a future version. Check `isinstance(dtype, pd.SparseDtype)` instead.\n",
      "  if is_sparse(pd_dtype):\n",
      "/home/sichom/software/miniconda/envs/qsprpred/lib/python3.10/site-packages/sklearn/utils/validation.py:614: FutureWarning: is_sparse is deprecated and will be removed in a future version. Check `isinstance(dtype, pd.SparseDtype)` instead.\n",
      "  if is_sparse(pd_dtype) or not is_extension_array_dtype(pd_dtype):\n",
      "/home/sichom/software/miniconda/envs/qsprpred/lib/python3.10/site-packages/sklearn/utils/validation.py:767: FutureWarning: is_sparse is deprecated and will be removed in a future version. Check `isinstance(dtype, pd.SparseDtype)` instead.\n",
      "  if not hasattr(array, \"sparse\") and array.dtypes.apply(is_sparse).any():\n"
     ]
    },
    {
     "ename": "FileNotFoundError",
     "evalue": "[Errno 2] No such file or directory: '../../tutorial_output/benchmarking/data/TutorialBenchmarkData/TutorialBenchmarkData_FingerprintSet_MorganFP/TutorialBenchmarkData_FingerprintSet_MorganFP_Descriptor/TutorialBenchmarkData_FingerprintSet_MorganFP_Descriptor_meta.json'",
     "output_type": "error",
     "traceback": [
      "\u001B[0;31m---------------------------------------------------------------------------\u001B[0m",
      "\u001B[0;31mFileNotFoundError\u001B[0m                         Traceback (most recent call last)",
      "Cell \u001B[0;32mIn[8], line 8\u001B[0m\n\u001B[1;32m      5\u001B[0m     shutil\u001B[38;5;241m.\u001B[39mrmtree(BASE_DIR, ignore_errors\u001B[38;5;241m=\u001B[39m\u001B[38;5;28;01mTrue\u001B[39;00m)\n\u001B[1;32m      7\u001B[0m \u001B[38;5;66;03m# this will start the actual benchmarking\u001B[39;00m\n\u001B[0;32m----> 8\u001B[0m \u001B[43mrunner\u001B[49m\u001B[38;5;241;43m.\u001B[39;49m\u001B[43mrun\u001B[49m\u001B[43m(\u001B[49m\u001B[43mraise_errors\u001B[49m\u001B[38;5;241;43m=\u001B[39;49m\u001B[38;5;28;43;01mTrue\u001B[39;49;00m\u001B[43m)\u001B[49m\n",
      "File \u001B[0;32m~/projects/QSPRpred/qsprpred/benchmarks/runner.py:142\u001B[0m, in \u001B[0;36mBenchmarkRunner.run\u001B[0;34m(self, raise_errors)\u001B[0m\n\u001B[1;32m    140\u001B[0m \u001B[38;5;28;01mif\u001B[39;00m \u001B[38;5;28misinstance\u001B[39m(result, \u001B[38;5;28mself\u001B[39m\u001B[38;5;241m.\u001B[39mReplicaException):\n\u001B[1;32m    141\u001B[0m     \u001B[38;5;28;01mif\u001B[39;00m raise_errors:\n\u001B[0;32m--> 142\u001B[0m         \u001B[38;5;28;01mraise\u001B[39;00m result\u001B[38;5;241m.\u001B[39mexception\n\u001B[1;32m    143\u001B[0m     \u001B[38;5;28;01melse\u001B[39;00m:\n\u001B[1;32m    144\u001B[0m         logging\u001B[38;5;241m.\u001B[39merror(\n\u001B[1;32m    145\u001B[0m             \u001B[38;5;124mf\u001B[39m\u001B[38;5;124m\"\u001B[39m\u001B[38;5;124mError in replica \u001B[39m\u001B[38;5;132;01m{\u001B[39;00mresult\u001B[38;5;241m.\u001B[39mreplicaID\u001B[38;5;132;01m}\u001B[39;00m\u001B[38;5;124m: \u001B[39m\u001B[38;5;132;01m{\u001B[39;00mresult\u001B[38;5;241m.\u001B[39mexception\u001B[38;5;132;01m}\u001B[39;00m\u001B[38;5;124m\"\u001B[39m\n\u001B[1;32m    146\u001B[0m         )\n",
      "\u001B[0;31mFileNotFoundError\u001B[0m: [Errno 2] No such file or directory: '../../tutorial_output/benchmarking/data/TutorialBenchmarkData/TutorialBenchmarkData_FingerprintSet_MorganFP/TutorialBenchmarkData_FingerprintSet_MorganFP_Descriptor/TutorialBenchmarkData_FingerprintSet_MorganFP_Descriptor_meta.json'"
     ]
    }
   ],
   "source": [
    "import shutil\n",
    "\n",
    "if os.path.exists(BASE_DIR):\n",
    "    # start fresh (not needed if you want to reuse results from the previous run)\n",
    "    shutil.rmtree(BASE_DIR, ignore_errors=True)\n",
    "\n",
    "# this will start the actual benchmarking\n",
    "runner.run(raise_errors=True)"
   ]
  },
  {
   "cell_type": "markdown",
   "id": "a872476f29adb9e3",
   "metadata": {
    "collapsed": false
   },
   "source": [
    "Note on reusing results: It is recommended to reuse results only when the settings of the runner have not changed. If they did, you might be running a risk of reusing irrelevant results because the same ID can be generated for a replica that defines a different experiment in the new settings.\n",
    "\n",
    "The runner has finished and we can now load the results of our benchmark. It is a simple data frame:"
   ]
  },
  {
   "cell_type": "code",
   "execution_count": null,
   "id": "3b31955b5d284386",
   "metadata": {
    "ExecuteTime": {
     "start_time": "2023-12-04T15:39:06.181345185Z"
    },
    "collapsed": false
   },
   "outputs": [],
   "source": [
    "import pandas as pd\n",
    "\n",
    "df_results = pd.read_table(runner.resultsFile)\n",
    "df_results.shape"
   ]
  },
  {
   "cell_type": "markdown",
   "id": "900759ead548aaf7",
   "metadata": {
    "collapsed": false
   },
   "source": [
    "It is 2 times the number of replicas because we have two assessors:"
   ]
  },
  {
   "cell_type": "code",
   "execution_count": null,
   "id": "68994f588e36770a",
   "metadata": {
    "ExecuteTime": {
     "start_time": "2023-12-04T15:39:06.181406016Z"
    },
    "collapsed": false
   },
   "outputs": [],
   "source": [
    "2 * runner.nRuns"
   ]
  },
  {
   "cell_type": "markdown",
   "id": "ddb7285bf87a0a3f",
   "metadata": {
    "collapsed": false
   },
   "source": [
    "We can check the results for the first replica:"
   ]
  },
  {
   "cell_type": "code",
   "execution_count": null,
   "id": "43b781b30b0828ec",
   "metadata": {
    "ExecuteTime": {
     "start_time": "2023-12-04T15:39:06.181457801Z"
    },
    "collapsed": false
   },
   "outputs": [],
   "source": [
    "df_results.iloc[0, :]"
   ]
  },
  {
   "cell_type": "markdown",
   "id": "51892f8c72ba8478",
   "metadata": {
    "collapsed": false
   },
   "source": [
    "We can see that for this replica we were testing the `GaussianNB` model with the `CL` property and the `RandomSplit` strategy. We can see the `roc_auc` score in  the `Score` column. We can always recreate the replica from the saved file:"
   ]
  },
  {
   "cell_type": "code",
   "execution_count": null,
   "id": "c3d16bb8c010f552",
   "metadata": {
    "ExecuteTime": {
     "start_time": "2023-12-04T15:39:06.181504224Z"
    },
    "collapsed": false
   },
   "outputs": [],
   "source": [
    "from qsprpred.benchmarks import Replica\n",
    "\n",
    "replica = Replica.fromFile(df_results.iloc[0, :].ReplicaFile)\n",
    "replica"
   ]
  },
  {
   "cell_type": "markdown",
   "id": "1da76b683abbe921",
   "metadata": {
    "collapsed": false
   },
   "source": [
    "We could now recreate the experiment:"
   ]
  },
  {
   "cell_type": "code",
   "execution_count": null,
   "id": "6789a62acc295862",
   "metadata": {
    "ExecuteTime": {
     "start_time": "2023-12-04T15:39:06.181550455Z"
    },
    "collapsed": false
   },
   "outputs": [],
   "source": [
    "# reinitialize data\n",
    "replica.initData()"
   ]
  },
  {
   "cell_type": "code",
   "execution_count": null,
   "id": "e2350f54758b322d",
   "metadata": {
    "ExecuteTime": {
     "start_time": "2023-12-04T15:39:06.181597712Z"
    },
    "collapsed": false
   },
   "outputs": [],
   "source": [
    "# reinitialize descriptors (this actually fetches them from cache, not  recalculate them)\n",
    "replica.addDescriptors()"
   ]
  },
  {
   "cell_type": "code",
   "execution_count": null,
   "id": "2f0d58048115c59d",
   "metadata": {
    "ExecuteTime": {
     "start_time": "2023-12-04T15:39:06.181645792Z"
    },
    "collapsed": false
   },
   "outputs": [],
   "source": [
    "replica.ds.getDescriptors()"
   ]
  },
  {
   "cell_type": "code",
   "execution_count": null,
   "id": "ce8ecc3ba4ed7040",
   "metadata": {
    "ExecuteTime": {
     "start_time": "2023-12-04T15:39:06.194000382Z"
    },
    "collapsed": false
   },
   "outputs": [],
   "source": [
    "replica.prepData()"
   ]
  }
 ],
 "metadata": {
  "kernelspec": {
   "display_name": "Python 3 (ipykernel)",
   "language": "python",
   "name": "python3"
  },
  "language_info": {
   "codemirror_mode": {
    "name": "ipython",
    "version": 3
   },
   "file_extension": ".py",
   "mimetype": "text/x-python",
   "name": "python",
   "nbconvert_exporter": "python",
   "pygments_lexer": "ipython3",
   "version": "3.10.13"
  }
 },
 "nbformat": 4,
 "nbformat_minor": 5
}
