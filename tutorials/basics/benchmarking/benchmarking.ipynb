{
 "cells": [
  {
   "cell_type": "markdown",
   "id": "946b09a325d34821",
   "metadata": {
    "collapsed": false,
    "jupyter": {
     "outputs_hidden": false
    }
   },
   "source": [
    "# Benchmarking QSPR Models and More\n",
    "\n",
    "The `qsprpred.benchmarks` module provides a set of functions to compare machine learning algorithms, preparation steps, hyperparameter optimization strategies, molecular descriptors and more on various data sets that are already prepared or of your own choosing. In this tutorial, we will provide a simple example to benchmark a selection of models and descriptors on a simple task using one of the data sets provided with this tutorial.\n",
    "\n",
    "## Choosing the Data Set\n",
    "\n",
    "The first step is to decide, which data set(s) to use for your benchmark. To make things a little faster, we will write a custom data source that will sample a smaller benchmarking set from our tutorial data set:"
   ]
  },
  {
   "cell_type": "code",
   "execution_count": 1,
   "id": "67e2bc01b554b433",
   "metadata": {
    "ExecuteTime": {
     "end_time": "2023-12-04T19:51:26.070669878Z",
     "start_time": "2023-12-04T19:51:24.193787831Z"
    },
    "collapsed": false,
    "jupyter": {
     "outputs_hidden": false
    }
   },
   "outputs": [
    {
     "data": {
      "text/html": [
       "<div>\n",
       "<style scoped>\n",
       "    .dataframe tbody tr th:only-of-type {\n",
       "        vertical-align: middle;\n",
       "    }\n",
       "\n",
       "    .dataframe tbody tr th {\n",
       "        vertical-align: top;\n",
       "    }\n",
       "\n",
       "    .dataframe thead th {\n",
       "        text-align: right;\n",
       "    }\n",
       "</style>\n",
       "<table border=\"1\" class=\"dataframe\">\n",
       "  <thead>\n",
       "    <tr style=\"text-align: right;\">\n",
       "      <th></th>\n",
       "      <th>SMILES</th>\n",
       "      <th>pchembl_value_Mean</th>\n",
       "      <th>Year</th>\n",
       "      <th>QSPRID</th>\n",
       "    </tr>\n",
       "    <tr>\n",
       "      <th>QSPRID</th>\n",
       "      <th></th>\n",
       "      <th></th>\n",
       "      <th></th>\n",
       "      <th></th>\n",
       "    </tr>\n",
       "  </thead>\n",
       "  <tbody>\n",
       "    <tr>\n",
       "      <th>TutorialBenchmarkData_000</th>\n",
       "      <td>CCCn1c(-c2ccccc2)nc2c1ncnc2NC1CCOC1</td>\n",
       "      <td>5.770</td>\n",
       "      <td>2018.0</td>\n",
       "      <td>TutorialBenchmarkData_000</td>\n",
       "    </tr>\n",
       "    <tr>\n",
       "      <th>TutorialBenchmarkData_001</th>\n",
       "      <td>CCCn1c(=O)c2c([nH]c(-c3c[nH]nc3)n2)n(CCC)c1=O</td>\n",
       "      <td>6.640</td>\n",
       "      <td>2006.0</td>\n",
       "      <td>TutorialBenchmarkData_001</td>\n",
       "    </tr>\n",
       "    <tr>\n",
       "      <th>TutorialBenchmarkData_002</th>\n",
       "      <td>COc1cccc2c1nc(N)n1nc(CN3CCN(c4ncc(F)cc4)CC3C)nc21</td>\n",
       "      <td>7.880</td>\n",
       "      <td>2015.0</td>\n",
       "      <td>TutorialBenchmarkData_002</td>\n",
       "    </tr>\n",
       "    <tr>\n",
       "      <th>TutorialBenchmarkData_003</th>\n",
       "      <td>COc1cccc(CCCC(=O)Nc2nc3c(cccc3)c(=O)s2)c1</td>\n",
       "      <td>6.940</td>\n",
       "      <td>2013.0</td>\n",
       "      <td>TutorialBenchmarkData_003</td>\n",
       "    </tr>\n",
       "    <tr>\n",
       "      <th>TutorialBenchmarkData_004</th>\n",
       "      <td>COc1c2nc(NC(=O)c3ccc(F)cc3)sc2c(N(CCO)C(C)=O)cc1</td>\n",
       "      <td>7.010</td>\n",
       "      <td>2010.0</td>\n",
       "      <td>TutorialBenchmarkData_004</td>\n",
       "    </tr>\n",
       "    <tr>\n",
       "      <th>...</th>\n",
       "      <td>...</td>\n",
       "      <td>...</td>\n",
       "      <td>...</td>\n",
       "      <td>...</td>\n",
       "    </tr>\n",
       "    <tr>\n",
       "      <th>TutorialBenchmarkData_095</th>\n",
       "      <td>Cc1ccc2c(O)c(C(=O)NCc3ccco3)cnc2n1</td>\n",
       "      <td>7.460</td>\n",
       "      <td>2005.0</td>\n",
       "      <td>TutorialBenchmarkData_095</td>\n",
       "    </tr>\n",
       "    <tr>\n",
       "      <th>TutorialBenchmarkData_096</th>\n",
       "      <td>CC(O)CCc1nc(N)c2nc(-n3nccn3)n(C)c2n1</td>\n",
       "      <td>7.102</td>\n",
       "      <td>2013.0</td>\n",
       "      <td>TutorialBenchmarkData_096</td>\n",
       "    </tr>\n",
       "    <tr>\n",
       "      <th>TutorialBenchmarkData_097</th>\n",
       "      <td>CCN(C(C)=O)c1ccc(Cl)c2c1sc(NC(=O)c1ccc(F)cc1)n2</td>\n",
       "      <td>7.820</td>\n",
       "      <td>2010.0</td>\n",
       "      <td>TutorialBenchmarkData_097</td>\n",
       "    </tr>\n",
       "    <tr>\n",
       "      <th>TutorialBenchmarkData_098</th>\n",
       "      <td>CS(=O)(=O)c1ccc(Cn2ncc3c2nc(N)nc3-c2ccco2)cc1</td>\n",
       "      <td>6.470</td>\n",
       "      <td>2008.0</td>\n",
       "      <td>TutorialBenchmarkData_098</td>\n",
       "    </tr>\n",
       "    <tr>\n",
       "      <th>TutorialBenchmarkData_099</th>\n",
       "      <td>N#Cc1c(-c2cc3c(cc2)OCO3)nc(N)nc1-c1ccccc1</td>\n",
       "      <td>8.280</td>\n",
       "      <td>2008.0</td>\n",
       "      <td>TutorialBenchmarkData_099</td>\n",
       "    </tr>\n",
       "  </tbody>\n",
       "</table>\n",
       "<p>100 rows × 4 columns</p>\n",
       "</div>"
      ],
      "text/plain": [
       "                                                                      SMILES  \\\n",
       "QSPRID                                                                         \n",
       "TutorialBenchmarkData_000                CCCn1c(-c2ccccc2)nc2c1ncnc2NC1CCOC1   \n",
       "TutorialBenchmarkData_001      CCCn1c(=O)c2c([nH]c(-c3c[nH]nc3)n2)n(CCC)c1=O   \n",
       "TutorialBenchmarkData_002  COc1cccc2c1nc(N)n1nc(CN3CCN(c4ncc(F)cc4)CC3C)nc21   \n",
       "TutorialBenchmarkData_003          COc1cccc(CCCC(=O)Nc2nc3c(cccc3)c(=O)s2)c1   \n",
       "TutorialBenchmarkData_004   COc1c2nc(NC(=O)c3ccc(F)cc3)sc2c(N(CCO)C(C)=O)cc1   \n",
       "...                                                                      ...   \n",
       "TutorialBenchmarkData_095                 Cc1ccc2c(O)c(C(=O)NCc3ccco3)cnc2n1   \n",
       "TutorialBenchmarkData_096               CC(O)CCc1nc(N)c2nc(-n3nccn3)n(C)c2n1   \n",
       "TutorialBenchmarkData_097    CCN(C(C)=O)c1ccc(Cl)c2c1sc(NC(=O)c1ccc(F)cc1)n2   \n",
       "TutorialBenchmarkData_098      CS(=O)(=O)c1ccc(Cn2ncc3c2nc(N)nc3-c2ccco2)cc1   \n",
       "TutorialBenchmarkData_099          N#Cc1c(-c2cc3c(cc2)OCO3)nc(N)nc1-c1ccccc1   \n",
       "\n",
       "                           pchembl_value_Mean    Year  \\\n",
       "QSPRID                                                  \n",
       "TutorialBenchmarkData_000               5.770  2018.0   \n",
       "TutorialBenchmarkData_001               6.640  2006.0   \n",
       "TutorialBenchmarkData_002               7.880  2015.0   \n",
       "TutorialBenchmarkData_003               6.940  2013.0   \n",
       "TutorialBenchmarkData_004               7.010  2010.0   \n",
       "...                                       ...     ...   \n",
       "TutorialBenchmarkData_095               7.460  2005.0   \n",
       "TutorialBenchmarkData_096               7.102  2013.0   \n",
       "TutorialBenchmarkData_097               7.820  2010.0   \n",
       "TutorialBenchmarkData_098               6.470  2008.0   \n",
       "TutorialBenchmarkData_099               8.280  2008.0   \n",
       "\n",
       "                                              QSPRID  \n",
       "QSPRID                                                \n",
       "TutorialBenchmarkData_000  TutorialBenchmarkData_000  \n",
       "TutorialBenchmarkData_001  TutorialBenchmarkData_001  \n",
       "TutorialBenchmarkData_002  TutorialBenchmarkData_002  \n",
       "TutorialBenchmarkData_003  TutorialBenchmarkData_003  \n",
       "TutorialBenchmarkData_004  TutorialBenchmarkData_004  \n",
       "...                                              ...  \n",
       "TutorialBenchmarkData_095  TutorialBenchmarkData_095  \n",
       "TutorialBenchmarkData_096  TutorialBenchmarkData_096  \n",
       "TutorialBenchmarkData_097  TutorialBenchmarkData_097  \n",
       "TutorialBenchmarkData_098  TutorialBenchmarkData_098  \n",
       "TutorialBenchmarkData_099  TutorialBenchmarkData_099  \n",
       "\n",
       "[100 rows x 4 columns]"
      ]
     },
     "execution_count": 1,
     "metadata": {},
     "output_type": "execute_result"
    }
   ],
   "source": [
    "import os\n",
    "\n",
    "import pandas as pd\n",
    "\n",
    "from qsprpred.data import MoleculeTable\n",
    "from qsprpred.data.sources import DataSource\n",
    "\n",
    "BASE_DIR = \"../../tutorial_output/benchmarking\"  # directory to store all benchmarking results and files\n",
    "os.makedirs(BASE_DIR, exist_ok=True) # make sure it exists\n",
    "SEED = 42  # random seed for all random operations, you should always get the same results with the same settings\n",
    "\n",
    "\n",
    "class DataSourceTesting(DataSource):\n",
    "    \"\"\"\n",
    "    Just a simple wrapper around our tutorial data set.\n",
    "    \"\"\"\n",
    "\n",
    "    def __init__(self, name: str, base_dir: str):\n",
    "        self.name = name # name of the created data set\n",
    "        self.baseDir = base_dir # where to save it and all its derived data sets\n",
    "\n",
    "    def getData(self, name: str | None = None, **kwargs) -> MoleculeTable:\n",
    "        \"\"\"We just need to create a simple `MoleculeTable` here.\n",
    "        Defining target properties is not necessary at thist point \n",
    "        because they will be set as part of the benchmark paremetrization. \n",
    "        To make things faster we will also sample only 100 molecules.\n",
    "        Note that this method could also provide different data sets\n",
    "        based on the `self.name` or other parameters. It also does not\n",
    "        include descriptors, which are added as required creating derived\n",
    "        data sets in `self.baseDir`.\n",
    "        \"\"\"\n",
    "        name = name or self.name\n",
    "        return MoleculeTable(\n",
    "            df=pd.read_table('../../tutorial_data/A2A_LIGANDS.tsv').sample(\n",
    "                100,\n",
    "                random_state=SEED\n",
    "            ), # source data frame\n",
    "            name=name, # \n",
    "            store_dir=self.baseDir,\n",
    "            **kwargs\n",
    "        )\n",
    "\n",
    "\n",
    "source = DataSourceTesting(\"TutorialBenchmarkData\", f\"{BASE_DIR}/data\")\n",
    "example_ds = source.getData()\n",
    "example_ds.getDF()"
   ]
  },
  {
   "cell_type": "markdown",
   "id": "9f7dc5ac63df08f2",
   "metadata": {
    "collapsed": false,
    "jupyter": {
     "outputs_hidden": false
    }
   },
   "source": [
    "You can wrap your own data set in a `DataSource` class to use it for benchmarking. Just implement the `qsprpred.data.sources.data_source.DataSource` interface. Just make sure it containes properties that you specify as the `TargetProperty` later in the workflow. \n",
    "\n",
    "Next thing to do is to decide the benchmarking settings. You will use the `BenchmarkSettings` class to specify all details of your benchmark:"
   ]
  },
  {
   "cell_type": "code",
   "execution_count": 2,
   "id": "436e87a72118398",
   "metadata": {
    "ExecuteTime": {
     "end_time": "2023-12-04T19:51:26.930085252Z",
     "start_time": "2023-12-04T19:51:26.073910007Z"
    },
    "collapsed": false,
    "jupyter": {
     "outputs_hidden": false
    }
   },
   "outputs": [],
   "source": [
    "from qsprpred.data.descriptors.fingerprints import MorganFP\n",
    "from sklearn.ensemble import ExtraTreesClassifier\n",
    "from sklearn.naive_bayes import GaussianNB\n",
    "from qsprpred.models import SklearnModel, TestSetAssessor\n",
    "from qsprpred.data.processing.feature_filters import LowVarianceFilter\n",
    "from sklearn.preprocessing import StandardScaler\n",
    "from qsprpred.data import RandomSplit, ClusterSplit\n",
    "from qsprpred import TargetProperty, TargetTasks\n",
    "from qsprpred.data.descriptors.sets import RDKitDescs\n",
    "from qsprpred.benchmarks import BenchmarkSettings, DataPrepSettings\n",
    "\n",
    "settings = BenchmarkSettings(\n",
    "    name=\"TutorialBenchmark\",\n",
    "    n_replicas=3,\n",
    "    # number of repeated experiments for statistical power, just 3 here for faster calculations\n",
    "    random_seed=SEED,  # random seed for all random operations\n",
    "    data_sources=[\n",
    "        # one or more data sources to use for benchmarking\n",
    "        source # we defined this one above\n",
    "    ],\n",
    "    descriptors=[\n",
    "        # in this case we will test 3 different combinations of descriptors\n",
    "        [\n",
    "            MorganFP(\n",
    "                radius=2, nBits=256\n",
    "            ),\n",
    "            RDKitDescs()\n",
    "        ],\n",
    "        [\n",
    "            MorganFP(\n",
    "                radius=2, nBits=256\n",
    "            )\n",
    "        ],\n",
    "        [\n",
    "            RDKitDescs()\n",
    "        ]\n",
    "    ],\n",
    "    target_props=[\n",
    "        # one or more properties to model, the table from our data source must contain them\n",
    "        [\n",
    "            TargetProperty.fromDict(\n",
    "                {\n",
    "                    \"name\": \"pchembl_value_Mean\",\n",
    "                    \"task\": TargetTasks.SINGLECLASS,\n",
    "                    \"th\": [6.5]\n",
    "                }\n",
    "            )\n",
    "        ],\n",
    "    ],\n",
    "    prep_settings=[\n",
    "        # we will compare two splitting strategies, each time with the same feature filter and standardizer\n",
    "        DataPrepSettings(\n",
    "            split=RandomSplit(test_fraction=0.2),  # random split\n",
    "            feature_filters=[LowVarianceFilter(0.05)],\n",
    "            feature_standardizer=StandardScaler()\n",
    "        ),\n",
    "        DataPrepSettings(\n",
    "            split=ClusterSplit(test_fraction=0.2),  # scaffold split\n",
    "            feature_filters=[LowVarianceFilter(0.05)],\n",
    "            feature_standardizer=StandardScaler()\n",
    "        ),\n",
    "    ],\n",
    "    models=[\n",
    "        # the algorithms to benchmarks, this can be any implementation of `QSPRModel`\n",
    "        SklearnModel(\n",
    "            name=\"GaussianNB\",\n",
    "            alg=GaussianNB,\n",
    "            base_dir=f\"{BASE_DIR}/models\",\n",
    "        ),\n",
    "        SklearnModel(\n",
    "            name=\"ExtraTreesClassifier\",\n",
    "            alg=ExtraTreesClassifier,\n",
    "            base_dir=f\"{BASE_DIR}/models\",\n",
    "        )\n",
    "    ],\n",
    "    assessors=[\n",
    "        TestSetAssessor(scoring=\"roc_auc\"),\n",
    "        TestSetAssessor(scoring=\"matthews_corrcoef\", use_proba=False),\n",
    "    ]\n",
    ")"
   ]
  },
  {
   "cell_type": "markdown",
   "id": "30f857e5-1acb-4d07-a7ee-cb594f9be397",
   "metadata": {},
   "source": [
    "These settings can be saved and reloaded as needed in the JSON format:"
   ]
  },
  {
   "cell_type": "code",
   "execution_count": 3,
   "id": "3b87a592bc6cb0cd",
   "metadata": {
    "ExecuteTime": {
     "end_time": "2023-12-04T19:51:26.989412610Z",
     "start_time": "2023-12-04T19:51:26.938432576Z"
    },
    "collapsed": false,
    "jupyter": {
     "outputs_hidden": false
    }
   },
   "outputs": [
    {
     "data": {
      "text/plain": [
       "BenchmarkSettings(name='TutorialBenchmark', n_replicas=3, random_seed=42, data_sources=[<__main__.DataSourceTesting object at 0x7fe8f2bb4b50>], descriptors=[[<qsprpred.data.descriptors.fingerprints.MorganFP object at 0x7fe8f2bb4640>, <qsprpred.data.descriptors.sets.RDKitDescs object at 0x7fe8f2bb4610>], [<qsprpred.data.descriptors.fingerprints.MorganFP object at 0x7fe8f2bb4520>], [<qsprpred.data.descriptors.sets.RDKitDescs object at 0x7fe8f2bb5810>]], target_props=[[TargetProperty(name=pchembl_value_Mean, task=SINGLECLASS, th=[6.5])]], prep_settings=[DataPrepSettings(data_filters=(<qsprpred.data.processing.data_filters.RepeatsFilter object at 0x7fe8f2bb4550>,), split=<qsprpred.data.sampling.splits.RandomSplit object at 0x7fe8f2bb5a50>, smiles_standardizer='chembl', feature_filters=[<qsprpred.data.processing.feature_filters.LowVarianceFilter object at 0x7fe8f2bb63b0>], feature_standardizer=StandardScaler(), feature_fill_value=0.0, shuffle=True), DataPrepSettings(data_filters=(<qsprpred.data.processing.data_filters.RepeatsFilter object at 0x7fe8f2bb4550>,), split=<qsprpred.data.sampling.splits.ClusterSplit object at 0x7fe8f2bb44c0>, smiles_standardizer='chembl', feature_filters=[<qsprpred.data.processing.feature_filters.LowVarianceFilter object at 0x7fe8f2bb6dd0>], feature_standardizer=StandardScaler(), feature_fill_value=0.0, shuffle=True)], models=[<qsprpred.models.scikit_learn.SklearnModel object at 0x7fe8f1c3e620>, <qsprpred.models.scikit_learn.SklearnModel object at 0x7fe8f1c3e560>], assessors=[<qsprpred.models.assessment_methods.TestSetAssessor object at 0x7fe8f2bb43d0>, <qsprpred.models.assessment_methods.TestSetAssessor object at 0x7fe8f2bb6f80>], optimizers=())"
      ]
     },
     "execution_count": 3,
     "metadata": {},
     "output_type": "execute_result"
    }
   ],
   "source": [
    "BenchmarkSettings.fromFile(settings.toFile(f\"{BASE_DIR}/settings.json\"))"
   ]
  },
  {
   "cell_type": "markdown",
   "id": "8c78c69d-1b41-4f9a-b3a6-847f32543644",
   "metadata": {},
   "source": [
    "The settings can then be used to instantiate a runner that handles the creation of different replicas and data sets with the appropriate descriptors:"
   ]
  },
  {
   "cell_type": "code",
   "execution_count": 4,
   "id": "914eac4a0e017b9b",
   "metadata": {
    "ExecuteTime": {
     "end_time": "2023-12-04T19:51:27.055410526Z",
     "start_time": "2023-12-04T19:51:26.994318126Z"
    },
    "collapsed": false,
    "jupyter": {
     "outputs_hidden": false
    }
   },
   "outputs": [],
   "source": [
    "from qsprpred.benchmarks import BenchmarkRunner\n",
    "\n",
    "runner = BenchmarkRunner(\n",
    "    settings, # our settings\n",
    "    data_dir=BASE_DIR # where to save outputs\n",
    ")"
   ]
  },
  {
   "cell_type": "markdown",
   "id": "e85dcbdb-17c8-42c1-9323-e55cc26e2b20",
   "metadata": {},
   "source": [
    "To get an idea on computational complexity, we can check how many replicas we will run:"
   ]
  },
  {
   "cell_type": "code",
   "execution_count": 5,
   "id": "55efc926f0ad0c8e",
   "metadata": {
    "ExecuteTime": {
     "end_time": "2023-12-04T19:51:27.056970870Z",
     "start_time": "2023-12-04T19:51:27.033618680Z"
    },
    "collapsed": false,
    "jupyter": {
     "outputs_hidden": false
    }
   },
   "outputs": [
    {
     "data": {
      "text/plain": [
       "36"
      ]
     },
     "execution_count": 5,
     "metadata": {},
     "output_type": "execute_result"
    }
   ],
   "source": [
    "runner.nRuns"
   ]
  },
  {
   "cell_type": "markdown",
   "id": "16600c9303070736",
   "metadata": {
    "collapsed": false,
    "jupyter": {
     "outputs_hidden": false
    }
   },
   "source": [
    "This is the number of all modeling workflows that the runner will execute. We can check the details of each one by iterating over the replicas:"
   ]
  },
  {
   "cell_type": "code",
   "execution_count": 6,
   "id": "efa7a1f507803a8f",
   "metadata": {
    "ExecuteTime": {
     "end_time": "2023-12-04T19:51:27.057888530Z",
     "start_time": "2023-12-04T19:51:27.033966924Z"
    },
    "collapsed": false,
    "jupyter": {
     "outputs_hidden": false
    }
   },
   "outputs": [
    {
     "name": "stdout",
     "output_type": "stream",
     "text": [
      "TutorialBenchmark_2746317213\n",
      "TutorialBenchmarkData\n",
      "[<qsprpred.data.descriptors.fingerprints.MorganFP object at 0x7fe8f2bb47f0>, <qsprpred.data.descriptors.sets.RDKitDescs object at 0x7fe8f2bb4790>]\n",
      "[TargetProperty(name=pchembl_value_Mean, task=SINGLECLASS, th=[6.5])]\n",
      "<qsprpred.data.sampling.splits.RandomSplit object at 0x7fe8f1c3cd60>\n"
     ]
    }
   ],
   "source": [
    "for replica in runner.iterReplicas():\n",
    "    # replicas contain all info needed to run an experiment\n",
    "    print(replica)\n",
    "    print(replica.dataSource.name)\n",
    "    print(replica.descriptors)\n",
    "    print(replica.targetProps)\n",
    "    print(replica.prepSettings.split)\n",
    "    break # only show the first replica"
   ]
  },
  {
   "cell_type": "markdown",
   "id": "2e4c8cc2eca15762",
   "metadata": {
    "collapsed": false,
    "jupyter": {
     "outputs_hidden": false
    }
   },
   "source": [
    "Replicas also have methods to perform different stages of an experiment, but the runner executes them in order for us and also distributes the calculations over the available CPUs:"
   ]
  },
  {
   "cell_type": "code",
   "execution_count": 7,
   "id": "648afe2cf213d695",
   "metadata": {
    "ExecuteTime": {
     "end_time": "2023-12-04T19:53:17.346559116Z",
     "start_time": "2023-12-04T19:51:27.034160103Z"
    },
    "collapsed": false,
    "jupyter": {
     "outputs_hidden": false
    }
   },
   "outputs": [
    {
     "name": "stderr",
     "output_type": "stream",
     "text": [
      "qsprpred - WARNING - Random state supplied, but alg <class 'sklearn.naive_bayes.GaussianNB'> does not support it. Ignoring this setting.\n",
      "qsprpred - WARNING - Random state supplied, but alg <class 'sklearn.naive_bayes.GaussianNB'> does not support it. Ignoring this setting.\n",
      "qsprpred - WARNING - Random state supplied, but alg <class 'sklearn.naive_bayes.GaussianNB'> does not support it. Ignoring this setting.\n",
      "qsprpred - WARNING - Random state supplied, but alg <class 'sklearn.naive_bayes.GaussianNB'> does not support it. Ignoring this setting.\n",
      "qsprpred - WARNING - Random state supplied, but alg <class 'sklearn.naive_bayes.GaussianNB'> does not support it. Ignoring this setting.\n",
      "qsprpred - WARNING - Random state supplied, but alg <class 'sklearn.naive_bayes.GaussianNB'> does not support it. Ignoring this setting.\n",
      "qsprpred - WARNING - Random state supplied, but alg <class 'sklearn.naive_bayes.GaussianNB'> does not support it. Ignoring this setting.\n",
      "qsprpred - WARNING - Random state supplied, but alg <class 'sklearn.naive_bayes.GaussianNB'> does not support it. Ignoring this setting.\n",
      "qsprpred - WARNING - Random state supplied, but alg <class 'sklearn.naive_bayes.GaussianNB'> does not support it. Ignoring this setting.\n",
      "qsprpred - WARNING - Random state supplied, but alg <class 'sklearn.naive_bayes.GaussianNB'> does not support it. Ignoring this setting.\n",
      "qsprpred - WARNING - Random state supplied, but alg <class 'sklearn.naive_bayes.GaussianNB'> does not support it. Ignoring this setting.\n",
      "qsprpred - WARNING - Random state supplied, but alg <class 'sklearn.naive_bayes.GaussianNB'> does not support it. Ignoring this setting.\n",
      "qsprpred - WARNING - Random state supplied, but alg <class 'sklearn.naive_bayes.GaussianNB'> does not support it. Ignoring this setting.\n",
      "qsprpred - WARNING - Random state supplied, but alg <class 'sklearn.naive_bayes.GaussianNB'> does not support it. Ignoring this setting.\n",
      "qsprpred - WARNING - Random state supplied, but alg <class 'sklearn.naive_bayes.GaussianNB'> does not support it. Ignoring this setting.\n",
      "qsprpred - WARNING - Random state supplied, but alg <class 'sklearn.naive_bayes.GaussianNB'> does not support it. Ignoring this setting.\n",
      "qsprpred - WARNING - Random state supplied, but alg <class 'sklearn.naive_bayes.GaussianNB'> does not support it. Ignoring this setting.\n",
      "qsprpred - WARNING - Random state supplied, but alg <class 'sklearn.naive_bayes.GaussianNB'> does not support it. Ignoring this setting.\n",
      "qsprpred - WARNING - Random state supplied, but alg <class 'sklearn.naive_bayes.GaussianNB'> does not support it. Ignoring this setting.\n",
      "qsprpred - WARNING - Random state supplied, but alg <class 'sklearn.naive_bayes.GaussianNB'> does not support it. Ignoring this setting.\n",
      "qsprpred - WARNING - Random state supplied, but alg <class 'sklearn.naive_bayes.GaussianNB'> does not support it. Ignoring this setting.\n",
      "qsprpred - WARNING - Random state supplied, but alg <class 'sklearn.naive_bayes.GaussianNB'> does not support it. Ignoring this setting.\n",
      "qsprpred - WARNING - Random state supplied, but alg <class 'sklearn.naive_bayes.GaussianNB'> does not support it. Ignoring this setting.\n",
      "qsprpred - WARNING - Random state supplied, but alg <class 'sklearn.naive_bayes.GaussianNB'> does not support it. Ignoring this setting.\n",
      "qsprpred - WARNING - Random state supplied, but alg <class 'sklearn.naive_bayes.GaussianNB'> does not support it. Ignoring this setting.\n",
      "qsprpred - WARNING - Random state supplied, but alg <class 'sklearn.naive_bayes.GaussianNB'> does not support it. Ignoring this setting.\n",
      "qsprpred - WARNING - Random state supplied, but alg <class 'sklearn.naive_bayes.GaussianNB'> does not support it. Ignoring this setting.\n",
      "qsprpred - WARNING - Random state supplied, but alg <class 'sklearn.naive_bayes.GaussianNB'> does not support it. Ignoring this setting.\n",
      "qsprpred - WARNING - Random state supplied, but alg <class 'sklearn.naive_bayes.GaussianNB'> does not support it. Ignoring this setting.\n",
      "qsprpred - WARNING - Random state supplied, but alg <class 'sklearn.naive_bayes.GaussianNB'> does not support it. Ignoring this setting.\n",
      "qsprpred - WARNING - Random state supplied, but alg <class 'sklearn.naive_bayes.GaussianNB'> does not support it. Ignoring this setting.\n",
      "qsprpred - WARNING - Random state supplied, but alg <class 'sklearn.naive_bayes.GaussianNB'> does not support it. Ignoring this setting.\n",
      "qsprpred - WARNING - Random state supplied, but alg <class 'sklearn.naive_bayes.GaussianNB'> does not support it. Ignoring this setting.\n",
      "qsprpred - WARNING - Random state supplied, but alg <class 'sklearn.naive_bayes.GaussianNB'> does not support it. Ignoring this setting.\n",
      "qsprpred - WARNING - Random state supplied, but alg <class 'sklearn.naive_bayes.GaussianNB'> does not support it. Ignoring this setting.\n",
      "qsprpred - WARNING - Random state supplied, but alg <class 'sklearn.naive_bayes.GaussianNB'> does not support it. Ignoring this setting.\n"
     ]
    },
    {
     "data": {
      "text/html": [
       "<div>\n",
       "<style scoped>\n",
       "    .dataframe tbody tr th:only-of-type {\n",
       "        vertical-align: middle;\n",
       "    }\n",
       "\n",
       "    .dataframe tbody tr th {\n",
       "        vertical-align: top;\n",
       "    }\n",
       "\n",
       "    .dataframe thead th {\n",
       "        text-align: right;\n",
       "    }\n",
       "</style>\n",
       "<table border=\"1\" class=\"dataframe\">\n",
       "  <thead>\n",
       "    <tr style=\"text-align: right;\">\n",
       "      <th></th>\n",
       "      <th>Assessor</th>\n",
       "      <th>ScoreFunc</th>\n",
       "      <th>Score</th>\n",
       "      <th>TargetProperty</th>\n",
       "      <th>TargetTask</th>\n",
       "      <th>ModelFile</th>\n",
       "      <th>Algorithm</th>\n",
       "      <th>AlgorithmParams</th>\n",
       "      <th>ReplicaID</th>\n",
       "      <th>DataSet</th>\n",
       "      <th>ReplicaFile</th>\n",
       "    </tr>\n",
       "  </thead>\n",
       "  <tbody>\n",
       "    <tr>\n",
       "      <th>0</th>\n",
       "      <td>TestSetAssessor</td>\n",
       "      <td>roc_auc_score</td>\n",
       "      <td>0.707071</td>\n",
       "      <td>pchembl_value_Mean</td>\n",
       "      <td>SINGLECLASS</td>\n",
       "      <td>/home/sichom/projects/QSPRpred/tutorials/tutor...</td>\n",
       "      <td>GaussianNB</td>\n",
       "      <td>NaN</td>\n",
       "      <td>TutorialBenchmark_2746317213</td>\n",
       "      <td>TutorialBenchmarkData_MorganFP_RDkit</td>\n",
       "      <td>/home/sichom/projects/QSPRpred/tutorials/tutor...</td>\n",
       "    </tr>\n",
       "    <tr>\n",
       "      <th>1</th>\n",
       "      <td>TestSetAssessor</td>\n",
       "      <td>matthews_corrcoef</td>\n",
       "      <td>0.393939</td>\n",
       "      <td>pchembl_value_Mean</td>\n",
       "      <td>SINGLECLASS</td>\n",
       "      <td>/home/sichom/projects/QSPRpred/tutorials/tutor...</td>\n",
       "      <td>GaussianNB</td>\n",
       "      <td>NaN</td>\n",
       "      <td>TutorialBenchmark_2746317213</td>\n",
       "      <td>TutorialBenchmarkData_MorganFP_RDkit</td>\n",
       "      <td>/home/sichom/projects/QSPRpred/tutorials/tutor...</td>\n",
       "    </tr>\n",
       "    <tr>\n",
       "      <th>2</th>\n",
       "      <td>TestSetAssessor</td>\n",
       "      <td>roc_auc_score</td>\n",
       "      <td>0.598901</td>\n",
       "      <td>pchembl_value_Mean</td>\n",
       "      <td>SINGLECLASS</td>\n",
       "      <td>/home/sichom/projects/QSPRpred/tutorials/tutor...</td>\n",
       "      <td>ExtraTreesClassifier</td>\n",
       "      <td>{\"random_state\": 478163327}</td>\n",
       "      <td>TutorialBenchmark_478163327</td>\n",
       "      <td>TutorialBenchmarkData_MorganFP_RDkit</td>\n",
       "      <td>/home/sichom/projects/QSPRpred/tutorials/tutor...</td>\n",
       "    </tr>\n",
       "    <tr>\n",
       "      <th>3</th>\n",
       "      <td>TestSetAssessor</td>\n",
       "      <td>matthews_corrcoef</td>\n",
       "      <td>-0.179106</td>\n",
       "      <td>pchembl_value_Mean</td>\n",
       "      <td>SINGLECLASS</td>\n",
       "      <td>/home/sichom/projects/QSPRpred/tutorials/tutor...</td>\n",
       "      <td>ExtraTreesClassifier</td>\n",
       "      <td>{\"random_state\": 478163327}</td>\n",
       "      <td>TutorialBenchmark_478163327</td>\n",
       "      <td>TutorialBenchmarkData_MorganFP_RDkit</td>\n",
       "      <td>/home/sichom/projects/QSPRpred/tutorials/tutor...</td>\n",
       "    </tr>\n",
       "    <tr>\n",
       "      <th>4</th>\n",
       "      <td>TestSetAssessor</td>\n",
       "      <td>roc_auc_score</td>\n",
       "      <td>0.590909</td>\n",
       "      <td>pchembl_value_Mean</td>\n",
       "      <td>SINGLECLASS</td>\n",
       "      <td>/home/sichom/projects/QSPRpred/tutorials/tutor...</td>\n",
       "      <td>GaussianNB</td>\n",
       "      <td>NaN</td>\n",
       "      <td>TutorialBenchmark_107420369</td>\n",
       "      <td>TutorialBenchmarkData_MorganFP_RDkit</td>\n",
       "      <td>/home/sichom/projects/QSPRpred/tutorials/tutor...</td>\n",
       "    </tr>\n",
       "    <tr>\n",
       "      <th>...</th>\n",
       "      <td>...</td>\n",
       "      <td>...</td>\n",
       "      <td>...</td>\n",
       "      <td>...</td>\n",
       "      <td>...</td>\n",
       "      <td>...</td>\n",
       "      <td>...</td>\n",
       "      <td>...</td>\n",
       "      <td>...</td>\n",
       "      <td>...</td>\n",
       "      <td>...</td>\n",
       "    </tr>\n",
       "    <tr>\n",
       "      <th>67</th>\n",
       "      <td>TestSetAssessor</td>\n",
       "      <td>matthews_corrcoef</td>\n",
       "      <td>-0.089087</td>\n",
       "      <td>pchembl_value_Mean</td>\n",
       "      <td>SINGLECLASS</td>\n",
       "      <td>/home/sichom/projects/QSPRpred/tutorials/tutor...</td>\n",
       "      <td>ExtraTreesClassifier</td>\n",
       "      <td>{\"random_state\": 1801823908}</td>\n",
       "      <td>TutorialBenchmark_1801823908</td>\n",
       "      <td>TutorialBenchmarkData_MorganFP</td>\n",
       "      <td>/home/sichom/projects/QSPRpred/tutorials/tutor...</td>\n",
       "    </tr>\n",
       "    <tr>\n",
       "      <th>68</th>\n",
       "      <td>TestSetAssessor</td>\n",
       "      <td>roc_auc_score</td>\n",
       "      <td>0.646465</td>\n",
       "      <td>pchembl_value_Mean</td>\n",
       "      <td>SINGLECLASS</td>\n",
       "      <td>/home/sichom/projects/QSPRpred/tutorials/tutor...</td>\n",
       "      <td>GaussianNB</td>\n",
       "      <td>NaN</td>\n",
       "      <td>TutorialBenchmark_2530876844</td>\n",
       "      <td>TutorialBenchmarkData_RDkit</td>\n",
       "      <td>/home/sichom/projects/QSPRpred/tutorials/tutor...</td>\n",
       "    </tr>\n",
       "    <tr>\n",
       "      <th>69</th>\n",
       "      <td>TestSetAssessor</td>\n",
       "      <td>matthews_corrcoef</td>\n",
       "      <td>0.504430</td>\n",
       "      <td>pchembl_value_Mean</td>\n",
       "      <td>SINGLECLASS</td>\n",
       "      <td>/home/sichom/projects/QSPRpred/tutorials/tutor...</td>\n",
       "      <td>GaussianNB</td>\n",
       "      <td>NaN</td>\n",
       "      <td>TutorialBenchmark_2530876844</td>\n",
       "      <td>TutorialBenchmarkData_RDkit</td>\n",
       "      <td>/home/sichom/projects/QSPRpred/tutorials/tutor...</td>\n",
       "    </tr>\n",
       "    <tr>\n",
       "      <th>70</th>\n",
       "      <td>TestSetAssessor</td>\n",
       "      <td>roc_auc_score</td>\n",
       "      <td>0.776042</td>\n",
       "      <td>pchembl_value_Mean</td>\n",
       "      <td>SINGLECLASS</td>\n",
       "      <td>/home/sichom/projects/QSPRpred/tutorials/tutor...</td>\n",
       "      <td>ExtraTreesClassifier</td>\n",
       "      <td>{\"random_state\": 1194819984}</td>\n",
       "      <td>TutorialBenchmark_1194819984</td>\n",
       "      <td>TutorialBenchmarkData_RDkit</td>\n",
       "      <td>/home/sichom/projects/QSPRpred/tutorials/tutor...</td>\n",
       "    </tr>\n",
       "    <tr>\n",
       "      <th>71</th>\n",
       "      <td>TestSetAssessor</td>\n",
       "      <td>matthews_corrcoef</td>\n",
       "      <td>0.357217</td>\n",
       "      <td>pchembl_value_Mean</td>\n",
       "      <td>SINGLECLASS</td>\n",
       "      <td>/home/sichom/projects/QSPRpred/tutorials/tutor...</td>\n",
       "      <td>ExtraTreesClassifier</td>\n",
       "      <td>{\"random_state\": 1194819984}</td>\n",
       "      <td>TutorialBenchmark_1194819984</td>\n",
       "      <td>TutorialBenchmarkData_RDkit</td>\n",
       "      <td>/home/sichom/projects/QSPRpred/tutorials/tutor...</td>\n",
       "    </tr>\n",
       "  </tbody>\n",
       "</table>\n",
       "<p>72 rows × 11 columns</p>\n",
       "</div>"
      ],
      "text/plain": [
       "           Assessor          ScoreFunc     Score      TargetProperty  \\\n",
       "0   TestSetAssessor      roc_auc_score  0.707071  pchembl_value_Mean   \n",
       "1   TestSetAssessor  matthews_corrcoef  0.393939  pchembl_value_Mean   \n",
       "2   TestSetAssessor      roc_auc_score  0.598901  pchembl_value_Mean   \n",
       "3   TestSetAssessor  matthews_corrcoef -0.179106  pchembl_value_Mean   \n",
       "4   TestSetAssessor      roc_auc_score  0.590909  pchembl_value_Mean   \n",
       "..              ...                ...       ...                 ...   \n",
       "67  TestSetAssessor  matthews_corrcoef -0.089087  pchembl_value_Mean   \n",
       "68  TestSetAssessor      roc_auc_score  0.646465  pchembl_value_Mean   \n",
       "69  TestSetAssessor  matthews_corrcoef  0.504430  pchembl_value_Mean   \n",
       "70  TestSetAssessor      roc_auc_score  0.776042  pchembl_value_Mean   \n",
       "71  TestSetAssessor  matthews_corrcoef  0.357217  pchembl_value_Mean   \n",
       "\n",
       "     TargetTask                                          ModelFile  \\\n",
       "0   SINGLECLASS  /home/sichom/projects/QSPRpred/tutorials/tutor...   \n",
       "1   SINGLECLASS  /home/sichom/projects/QSPRpred/tutorials/tutor...   \n",
       "2   SINGLECLASS  /home/sichom/projects/QSPRpred/tutorials/tutor...   \n",
       "3   SINGLECLASS  /home/sichom/projects/QSPRpred/tutorials/tutor...   \n",
       "4   SINGLECLASS  /home/sichom/projects/QSPRpred/tutorials/tutor...   \n",
       "..          ...                                                ...   \n",
       "67  SINGLECLASS  /home/sichom/projects/QSPRpred/tutorials/tutor...   \n",
       "68  SINGLECLASS  /home/sichom/projects/QSPRpred/tutorials/tutor...   \n",
       "69  SINGLECLASS  /home/sichom/projects/QSPRpred/tutorials/tutor...   \n",
       "70  SINGLECLASS  /home/sichom/projects/QSPRpred/tutorials/tutor...   \n",
       "71  SINGLECLASS  /home/sichom/projects/QSPRpred/tutorials/tutor...   \n",
       "\n",
       "               Algorithm               AlgorithmParams  \\\n",
       "0             GaussianNB                           NaN   \n",
       "1             GaussianNB                           NaN   \n",
       "2   ExtraTreesClassifier   {\"random_state\": 478163327}   \n",
       "3   ExtraTreesClassifier   {\"random_state\": 478163327}   \n",
       "4             GaussianNB                           NaN   \n",
       "..                   ...                           ...   \n",
       "67  ExtraTreesClassifier  {\"random_state\": 1801823908}   \n",
       "68            GaussianNB                           NaN   \n",
       "69            GaussianNB                           NaN   \n",
       "70  ExtraTreesClassifier  {\"random_state\": 1194819984}   \n",
       "71  ExtraTreesClassifier  {\"random_state\": 1194819984}   \n",
       "\n",
       "                       ReplicaID                               DataSet  \\\n",
       "0   TutorialBenchmark_2746317213  TutorialBenchmarkData_MorganFP_RDkit   \n",
       "1   TutorialBenchmark_2746317213  TutorialBenchmarkData_MorganFP_RDkit   \n",
       "2    TutorialBenchmark_478163327  TutorialBenchmarkData_MorganFP_RDkit   \n",
       "3    TutorialBenchmark_478163327  TutorialBenchmarkData_MorganFP_RDkit   \n",
       "4    TutorialBenchmark_107420369  TutorialBenchmarkData_MorganFP_RDkit   \n",
       "..                           ...                                   ...   \n",
       "67  TutorialBenchmark_1801823908        TutorialBenchmarkData_MorganFP   \n",
       "68  TutorialBenchmark_2530876844           TutorialBenchmarkData_RDkit   \n",
       "69  TutorialBenchmark_2530876844           TutorialBenchmarkData_RDkit   \n",
       "70  TutorialBenchmark_1194819984           TutorialBenchmarkData_RDkit   \n",
       "71  TutorialBenchmark_1194819984           TutorialBenchmarkData_RDkit   \n",
       "\n",
       "                                          ReplicaFile  \n",
       "0   /home/sichom/projects/QSPRpred/tutorials/tutor...  \n",
       "1   /home/sichom/projects/QSPRpred/tutorials/tutor...  \n",
       "2   /home/sichom/projects/QSPRpred/tutorials/tutor...  \n",
       "3   /home/sichom/projects/QSPRpred/tutorials/tutor...  \n",
       "4   /home/sichom/projects/QSPRpred/tutorials/tutor...  \n",
       "..                                                ...  \n",
       "67  /home/sichom/projects/QSPRpred/tutorials/tutor...  \n",
       "68  /home/sichom/projects/QSPRpred/tutorials/tutor...  \n",
       "69  /home/sichom/projects/QSPRpred/tutorials/tutor...  \n",
       "70  /home/sichom/projects/QSPRpred/tutorials/tutor...  \n",
       "71  /home/sichom/projects/QSPRpred/tutorials/tutor...  \n",
       "\n",
       "[72 rows x 11 columns]"
      ]
     },
     "execution_count": 7,
     "metadata": {},
     "output_type": "execute_result"
    }
   ],
   "source": [
    "import shutil\n",
    "\n",
    "if os.path.exists(BASE_DIR):\n",
    "    # start fresh (not needed if you want to reuse results from the previous runs)\n",
    "    shutil.rmtree(BASE_DIR, ignore_errors=True)\n",
    "\n",
    "# this will start the actual benchmarking\n",
    "runner.run(raise_errors=True) # the runner will not continue if an error is raised"
   ]
  },
  {
   "cell_type": "markdown",
   "id": "a872476f29adb9e3",
   "metadata": {
    "collapsed": false,
    "jupyter": {
     "outputs_hidden": false
    }
   },
   "source": [
    "**Note on reusing results:** It is recommended to reuse results only when the settings of the runner have not changed. If they did, you might be running a risk of reusing irrelevant results because the same ID can be generated for a replica that defines a different experiment in the new settings. Since this tutorial is for experimentation, we remmove the entire result directory (`BASE_DIR`) and start fresh each time. But you could also leave your results in place and the runner will continue from the last unfinished replica, but beware of the danger above when settings are changed.\n",
    " \n",
    "When the runner has finished we can load the results of our benchmark. It is a simple data frame:"
   ]
  },
  {
   "cell_type": "code",
   "execution_count": 8,
   "id": "3b31955b5d284386",
   "metadata": {
    "ExecuteTime": {
     "end_time": "2023-12-04T19:53:17.364975738Z",
     "start_time": "2023-12-04T19:53:17.347941736Z"
    },
    "collapsed": false,
    "jupyter": {
     "outputs_hidden": false
    }
   },
   "outputs": [
    {
     "data": {
      "text/plain": [
       "(72, 11)"
      ]
     },
     "execution_count": 8,
     "metadata": {},
     "output_type": "execute_result"
    }
   ],
   "source": [
    "df_results = pd.read_table(runner.resultsFile)\n",
    "df_results.shape"
   ]
  },
  {
   "cell_type": "markdown",
   "id": "900759ead548aaf7",
   "metadata": {
    "collapsed": false,
    "jupyter": {
     "outputs_hidden": false
    }
   },
   "source": [
    "It is 2 times the number of replicas because we have two test set assessors:"
   ]
  },
  {
   "cell_type": "code",
   "execution_count": 9,
   "id": "68994f588e36770a",
   "metadata": {
    "ExecuteTime": {
     "end_time": "2023-12-04T19:53:17.448169598Z",
     "start_time": "2023-12-04T19:53:17.370093901Z"
    },
    "collapsed": false,
    "jupyter": {
     "outputs_hidden": false
    }
   },
   "outputs": [
    {
     "data": {
      "text/plain": [
       "72"
      ]
     },
     "execution_count": 9,
     "metadata": {},
     "output_type": "execute_result"
    }
   ],
   "source": [
    "2 * runner.nRuns"
   ]
  },
  {
   "cell_type": "markdown",
   "id": "ddb7285bf87a0a3f",
   "metadata": {
    "collapsed": false,
    "jupyter": {
     "outputs_hidden": false
    }
   },
   "source": [
    "We can check the results for the first replica:"
   ]
  },
  {
   "cell_type": "code",
   "execution_count": 10,
   "id": "43b781b30b0828ec",
   "metadata": {
    "ExecuteTime": {
     "end_time": "2023-12-04T19:53:17.450804564Z",
     "start_time": "2023-12-04T19:53:17.383502651Z"
    },
    "collapsed": false,
    "jupyter": {
     "outputs_hidden": false
    }
   },
   "outputs": [
    {
     "data": {
      "text/plain": [
       "Assessor                                             TestSetAssessor\n",
       "ScoreFunc                                              roc_auc_score\n",
       "Score                                                       0.707071\n",
       "TargetProperty                                    pchembl_value_Mean\n",
       "TargetTask                                               SINGLECLASS\n",
       "ModelFile          /home/sichom/projects/QSPRpred/tutorials/tutor...\n",
       "Algorithm                                                 GaussianNB\n",
       "AlgorithmParams                                                  NaN\n",
       "ReplicaID                               TutorialBenchmark_2746317213\n",
       "DataSet                         TutorialBenchmarkData_MorganFP_RDkit\n",
       "ReplicaFile        /home/sichom/projects/QSPRpred/tutorials/tutor...\n",
       "Name: 0, dtype: object"
      ]
     },
     "execution_count": 10,
     "metadata": {},
     "output_type": "execute_result"
    }
   ],
   "source": [
    "df_results.iloc[0, :]"
   ]
  },
  {
   "cell_type": "markdown",
   "id": "51892f8c72ba8478",
   "metadata": {
    "collapsed": false,
    "jupyter": {
     "outputs_hidden": false
    }
   },
   "source": [
    "We can see that for this replica we were testing the `GaussianNB` model with the `CL` property and the `RandomSplit` strategy. We can also see the `roc_auc_score` metric was measured here and its value is in the `Score` column. Note the `ReplicaFile` property as well, which we can always use to recreate the replica instance:"
   ]
  },
  {
   "cell_type": "code",
   "execution_count": 11,
   "id": "c3d16bb8c010f552",
   "metadata": {
    "ExecuteTime": {
     "end_time": "2023-12-04T19:53:17.517715571Z",
     "start_time": "2023-12-04T19:53:17.426944206Z"
    },
    "collapsed": false,
    "jupyter": {
     "outputs_hidden": false
    }
   },
   "outputs": [
    {
     "data": {
      "text/plain": [
       "<qsprpred.benchmarks.replica.Replica at 0x7fe8f1abdc00>"
      ]
     },
     "execution_count": 11,
     "metadata": {},
     "output_type": "execute_result"
    }
   ],
   "source": [
    "from qsprpred.benchmarks import Replica\n",
    "\n",
    "replica = Replica.fromFile(df_results.iloc[0, :].ReplicaFile)\n",
    "replica"
   ]
  },
  {
   "cell_type": "markdown",
   "id": "1da76b683abbe921",
   "metadata": {
    "collapsed": false,
    "jupyter": {
     "outputs_hidden": false
    }
   },
   "source": [
    "# Recreating Experiments\n",
    "\n",
    "QSPRpred aims for maximum reproducibility of experiments. Therefore, each replica can be rerun after saving and experiments repeated:"
   ]
  },
  {
   "cell_type": "code",
   "execution_count": 12,
   "id": "6789a62acc295862",
   "metadata": {
    "ExecuteTime": {
     "end_time": "2023-12-04T19:53:17.747478815Z",
     "start_time": "2023-12-04T19:53:17.427190710Z"
    },
    "collapsed": false,
    "jupyter": {
     "outputs_hidden": false
    }
   },
   "outputs": [],
   "source": [
    "# reinitialize data\n",
    "replica.initData()"
   ]
  },
  {
   "cell_type": "code",
   "execution_count": 13,
   "id": "9043b7961eac066",
   "metadata": {
    "ExecuteTime": {
     "end_time": "2023-12-04T19:53:17.749583014Z",
     "start_time": "2023-12-04T19:53:17.590227383Z"
    },
    "collapsed": false,
    "jupyter": {
     "outputs_hidden": false
    }
   },
   "outputs": [
    {
     "data": {
      "text/html": [
       "<div>\n",
       "<style scoped>\n",
       "    .dataframe tbody tr th:only-of-type {\n",
       "        vertical-align: middle;\n",
       "    }\n",
       "\n",
       "    .dataframe tbody tr th {\n",
       "        vertical-align: top;\n",
       "    }\n",
       "\n",
       "    .dataframe thead th {\n",
       "        text-align: right;\n",
       "    }\n",
       "</style>\n",
       "<table border=\"1\" class=\"dataframe\">\n",
       "  <thead>\n",
       "    <tr style=\"text-align: right;\">\n",
       "      <th></th>\n",
       "      <th>SMILES</th>\n",
       "      <th>pchembl_value_Mean</th>\n",
       "      <th>Year</th>\n",
       "      <th>QSPRID</th>\n",
       "      <th>pchembl_value_Mean_original</th>\n",
       "    </tr>\n",
       "    <tr>\n",
       "      <th>QSPRID</th>\n",
       "      <th></th>\n",
       "      <th></th>\n",
       "      <th></th>\n",
       "      <th></th>\n",
       "      <th></th>\n",
       "    </tr>\n",
       "  </thead>\n",
       "  <tbody>\n",
       "    <tr>\n",
       "      <th>TutorialBenchmarkData_000</th>\n",
       "      <td>CCCn1c(-c2ccccc2)nc2c1ncnc2NC1CCOC1</td>\n",
       "      <td>False</td>\n",
       "      <td>2018.0</td>\n",
       "      <td>TutorialBenchmarkData_000</td>\n",
       "      <td>5.770</td>\n",
       "    </tr>\n",
       "    <tr>\n",
       "      <th>TutorialBenchmarkData_001</th>\n",
       "      <td>CCCn1c(=O)c2c([nH]c(-c3c[nH]nc3)n2)n(CCC)c1=O</td>\n",
       "      <td>True</td>\n",
       "      <td>2006.0</td>\n",
       "      <td>TutorialBenchmarkData_001</td>\n",
       "      <td>6.640</td>\n",
       "    </tr>\n",
       "    <tr>\n",
       "      <th>TutorialBenchmarkData_002</th>\n",
       "      <td>COc1cccc2c1nc(N)n1nc(CN3CCN(c4ncc(F)cc4)CC3C)nc21</td>\n",
       "      <td>True</td>\n",
       "      <td>2015.0</td>\n",
       "      <td>TutorialBenchmarkData_002</td>\n",
       "      <td>7.880</td>\n",
       "    </tr>\n",
       "    <tr>\n",
       "      <th>TutorialBenchmarkData_003</th>\n",
       "      <td>COc1cccc(CCCC(=O)Nc2nc3c(cccc3)c(=O)s2)c1</td>\n",
       "      <td>True</td>\n",
       "      <td>2013.0</td>\n",
       "      <td>TutorialBenchmarkData_003</td>\n",
       "      <td>6.940</td>\n",
       "    </tr>\n",
       "    <tr>\n",
       "      <th>TutorialBenchmarkData_004</th>\n",
       "      <td>COc1c2nc(NC(=O)c3ccc(F)cc3)sc2c(N(CCO)C(C)=O)cc1</td>\n",
       "      <td>True</td>\n",
       "      <td>2010.0</td>\n",
       "      <td>TutorialBenchmarkData_004</td>\n",
       "      <td>7.010</td>\n",
       "    </tr>\n",
       "    <tr>\n",
       "      <th>...</th>\n",
       "      <td>...</td>\n",
       "      <td>...</td>\n",
       "      <td>...</td>\n",
       "      <td>...</td>\n",
       "      <td>...</td>\n",
       "    </tr>\n",
       "    <tr>\n",
       "      <th>TutorialBenchmarkData_095</th>\n",
       "      <td>Cc1ccc2c(O)c(C(=O)NCc3ccco3)cnc2n1</td>\n",
       "      <td>True</td>\n",
       "      <td>2005.0</td>\n",
       "      <td>TutorialBenchmarkData_095</td>\n",
       "      <td>7.460</td>\n",
       "    </tr>\n",
       "    <tr>\n",
       "      <th>TutorialBenchmarkData_096</th>\n",
       "      <td>CC(O)CCc1nc(N)c2nc(-n3nccn3)n(C)c2n1</td>\n",
       "      <td>True</td>\n",
       "      <td>2013.0</td>\n",
       "      <td>TutorialBenchmarkData_096</td>\n",
       "      <td>7.102</td>\n",
       "    </tr>\n",
       "    <tr>\n",
       "      <th>TutorialBenchmarkData_097</th>\n",
       "      <td>CCN(C(C)=O)c1ccc(Cl)c2c1sc(NC(=O)c1ccc(F)cc1)n2</td>\n",
       "      <td>True</td>\n",
       "      <td>2010.0</td>\n",
       "      <td>TutorialBenchmarkData_097</td>\n",
       "      <td>7.820</td>\n",
       "    </tr>\n",
       "    <tr>\n",
       "      <th>TutorialBenchmarkData_098</th>\n",
       "      <td>CS(=O)(=O)c1ccc(Cn2ncc3c2nc(N)nc3-c2ccco2)cc1</td>\n",
       "      <td>False</td>\n",
       "      <td>2008.0</td>\n",
       "      <td>TutorialBenchmarkData_098</td>\n",
       "      <td>6.470</td>\n",
       "    </tr>\n",
       "    <tr>\n",
       "      <th>TutorialBenchmarkData_099</th>\n",
       "      <td>N#Cc1c(-c2cc3c(cc2)OCO3)nc(N)nc1-c1ccccc1</td>\n",
       "      <td>True</td>\n",
       "      <td>2008.0</td>\n",
       "      <td>TutorialBenchmarkData_099</td>\n",
       "      <td>8.280</td>\n",
       "    </tr>\n",
       "  </tbody>\n",
       "</table>\n",
       "<p>100 rows × 5 columns</p>\n",
       "</div>"
      ],
      "text/plain": [
       "                                                                      SMILES  \\\n",
       "QSPRID                                                                         \n",
       "TutorialBenchmarkData_000                CCCn1c(-c2ccccc2)nc2c1ncnc2NC1CCOC1   \n",
       "TutorialBenchmarkData_001      CCCn1c(=O)c2c([nH]c(-c3c[nH]nc3)n2)n(CCC)c1=O   \n",
       "TutorialBenchmarkData_002  COc1cccc2c1nc(N)n1nc(CN3CCN(c4ncc(F)cc4)CC3C)nc21   \n",
       "TutorialBenchmarkData_003          COc1cccc(CCCC(=O)Nc2nc3c(cccc3)c(=O)s2)c1   \n",
       "TutorialBenchmarkData_004   COc1c2nc(NC(=O)c3ccc(F)cc3)sc2c(N(CCO)C(C)=O)cc1   \n",
       "...                                                                      ...   \n",
       "TutorialBenchmarkData_095                 Cc1ccc2c(O)c(C(=O)NCc3ccco3)cnc2n1   \n",
       "TutorialBenchmarkData_096               CC(O)CCc1nc(N)c2nc(-n3nccn3)n(C)c2n1   \n",
       "TutorialBenchmarkData_097    CCN(C(C)=O)c1ccc(Cl)c2c1sc(NC(=O)c1ccc(F)cc1)n2   \n",
       "TutorialBenchmarkData_098      CS(=O)(=O)c1ccc(Cn2ncc3c2nc(N)nc3-c2ccco2)cc1   \n",
       "TutorialBenchmarkData_099          N#Cc1c(-c2cc3c(cc2)OCO3)nc(N)nc1-c1ccccc1   \n",
       "\n",
       "                           pchembl_value_Mean    Year  \\\n",
       "QSPRID                                                  \n",
       "TutorialBenchmarkData_000               False  2018.0   \n",
       "TutorialBenchmarkData_001                True  2006.0   \n",
       "TutorialBenchmarkData_002                True  2015.0   \n",
       "TutorialBenchmarkData_003                True  2013.0   \n",
       "TutorialBenchmarkData_004                True  2010.0   \n",
       "...                                       ...     ...   \n",
       "TutorialBenchmarkData_095                True  2005.0   \n",
       "TutorialBenchmarkData_096                True  2013.0   \n",
       "TutorialBenchmarkData_097                True  2010.0   \n",
       "TutorialBenchmarkData_098               False  2008.0   \n",
       "TutorialBenchmarkData_099                True  2008.0   \n",
       "\n",
       "                                              QSPRID  \\\n",
       "QSPRID                                                 \n",
       "TutorialBenchmarkData_000  TutorialBenchmarkData_000   \n",
       "TutorialBenchmarkData_001  TutorialBenchmarkData_001   \n",
       "TutorialBenchmarkData_002  TutorialBenchmarkData_002   \n",
       "TutorialBenchmarkData_003  TutorialBenchmarkData_003   \n",
       "TutorialBenchmarkData_004  TutorialBenchmarkData_004   \n",
       "...                                              ...   \n",
       "TutorialBenchmarkData_095  TutorialBenchmarkData_095   \n",
       "TutorialBenchmarkData_096  TutorialBenchmarkData_096   \n",
       "TutorialBenchmarkData_097  TutorialBenchmarkData_097   \n",
       "TutorialBenchmarkData_098  TutorialBenchmarkData_098   \n",
       "TutorialBenchmarkData_099  TutorialBenchmarkData_099   \n",
       "\n",
       "                           pchembl_value_Mean_original  \n",
       "QSPRID                                                  \n",
       "TutorialBenchmarkData_000                        5.770  \n",
       "TutorialBenchmarkData_001                        6.640  \n",
       "TutorialBenchmarkData_002                        7.880  \n",
       "TutorialBenchmarkData_003                        6.940  \n",
       "TutorialBenchmarkData_004                        7.010  \n",
       "...                                                ...  \n",
       "TutorialBenchmarkData_095                        7.460  \n",
       "TutorialBenchmarkData_096                        7.102  \n",
       "TutorialBenchmarkData_097                        7.820  \n",
       "TutorialBenchmarkData_098                        6.470  \n",
       "TutorialBenchmarkData_099                        8.280  \n",
       "\n",
       "[100 rows x 5 columns]"
      ]
     },
     "execution_count": 13,
     "metadata": {},
     "output_type": "execute_result"
    }
   ],
   "source": [
    "replica.ds.getDF()"
   ]
  },
  {
   "cell_type": "code",
   "execution_count": 14,
   "id": "e2350f54758b322d",
   "metadata": {
    "ExecuteTime": {
     "end_time": "2023-12-04T19:53:17.778859168Z",
     "start_time": "2023-12-04T19:53:17.629415528Z"
    },
    "collapsed": false,
    "jupyter": {
     "outputs_hidden": false
    }
   },
   "outputs": [],
   "source": [
    "# reinitialize descriptors\n",
    "replica.addDescriptors()"
   ]
  },
  {
   "cell_type": "code",
   "execution_count": 15,
   "id": "2f0d58048115c59d",
   "metadata": {
    "ExecuteTime": {
     "end_time": "2023-12-04T19:53:17.948486536Z",
     "start_time": "2023-12-04T19:53:17.738837349Z"
    },
    "collapsed": false,
    "jupyter": {
     "outputs_hidden": false
    }
   },
   "outputs": [
    {
     "data": {
      "text/html": [
       "<div>\n",
       "<style scoped>\n",
       "    .dataframe tbody tr th:only-of-type {\n",
       "        vertical-align: middle;\n",
       "    }\n",
       "\n",
       "    .dataframe tbody tr th {\n",
       "        vertical-align: top;\n",
       "    }\n",
       "\n",
       "    .dataframe thead th {\n",
       "        text-align: right;\n",
       "    }\n",
       "</style>\n",
       "<table border=\"1\" class=\"dataframe\">\n",
       "  <thead>\n",
       "    <tr style=\"text-align: right;\">\n",
       "      <th></th>\n",
       "      <th>MorganFP_0</th>\n",
       "      <th>MorganFP_1</th>\n",
       "      <th>MorganFP_2</th>\n",
       "      <th>MorganFP_3</th>\n",
       "      <th>MorganFP_4</th>\n",
       "      <th>MorganFP_5</th>\n",
       "      <th>MorganFP_6</th>\n",
       "      <th>MorganFP_7</th>\n",
       "      <th>MorganFP_8</th>\n",
       "      <th>MorganFP_9</th>\n",
       "      <th>...</th>\n",
       "      <th>fr_sulfonamd</th>\n",
       "      <th>fr_sulfone</th>\n",
       "      <th>fr_term_acetylene</th>\n",
       "      <th>fr_tetrazole</th>\n",
       "      <th>fr_thiazole</th>\n",
       "      <th>fr_thiocyan</th>\n",
       "      <th>fr_thiophene</th>\n",
       "      <th>fr_unbrch_alkane</th>\n",
       "      <th>fr_urea</th>\n",
       "      <th>qed</th>\n",
       "    </tr>\n",
       "    <tr>\n",
       "      <th>QSPRID</th>\n",
       "      <th></th>\n",
       "      <th></th>\n",
       "      <th></th>\n",
       "      <th></th>\n",
       "      <th></th>\n",
       "      <th></th>\n",
       "      <th></th>\n",
       "      <th></th>\n",
       "      <th></th>\n",
       "      <th></th>\n",
       "      <th></th>\n",
       "      <th></th>\n",
       "      <th></th>\n",
       "      <th></th>\n",
       "      <th></th>\n",
       "      <th></th>\n",
       "      <th></th>\n",
       "      <th></th>\n",
       "      <th></th>\n",
       "      <th></th>\n",
       "      <th></th>\n",
       "    </tr>\n",
       "  </thead>\n",
       "  <tbody>\n",
       "    <tr>\n",
       "      <th>TutorialBenchmarkData_000</th>\n",
       "      <td>False</td>\n",
       "      <td>False</td>\n",
       "      <td>False</td>\n",
       "      <td>False</td>\n",
       "      <td>False</td>\n",
       "      <td>False</td>\n",
       "      <td>True</td>\n",
       "      <td>True</td>\n",
       "      <td>False</td>\n",
       "      <td>False</td>\n",
       "      <td>...</td>\n",
       "      <td>0.0</td>\n",
       "      <td>0.0</td>\n",
       "      <td>0.0</td>\n",
       "      <td>0.0</td>\n",
       "      <td>0.0</td>\n",
       "      <td>0.0</td>\n",
       "      <td>0.0</td>\n",
       "      <td>0.0</td>\n",
       "      <td>0.0</td>\n",
       "      <td>0.781396</td>\n",
       "    </tr>\n",
       "    <tr>\n",
       "      <th>TutorialBenchmarkData_001</th>\n",
       "      <td>False</td>\n",
       "      <td>False</td>\n",
       "      <td>False</td>\n",
       "      <td>True</td>\n",
       "      <td>False</td>\n",
       "      <td>False</td>\n",
       "      <td>False</td>\n",
       "      <td>False</td>\n",
       "      <td>False</td>\n",
       "      <td>False</td>\n",
       "      <td>...</td>\n",
       "      <td>0.0</td>\n",
       "      <td>0.0</td>\n",
       "      <td>0.0</td>\n",
       "      <td>0.0</td>\n",
       "      <td>0.0</td>\n",
       "      <td>0.0</td>\n",
       "      <td>0.0</td>\n",
       "      <td>0.0</td>\n",
       "      <td>0.0</td>\n",
       "      <td>0.736392</td>\n",
       "    </tr>\n",
       "    <tr>\n",
       "      <th>TutorialBenchmarkData_002</th>\n",
       "      <td>True</td>\n",
       "      <td>False</td>\n",
       "      <td>False</td>\n",
       "      <td>False</td>\n",
       "      <td>False</td>\n",
       "      <td>False</td>\n",
       "      <td>False</td>\n",
       "      <td>False</td>\n",
       "      <td>True</td>\n",
       "      <td>False</td>\n",
       "      <td>...</td>\n",
       "      <td>0.0</td>\n",
       "      <td>0.0</td>\n",
       "      <td>0.0</td>\n",
       "      <td>0.0</td>\n",
       "      <td>0.0</td>\n",
       "      <td>0.0</td>\n",
       "      <td>0.0</td>\n",
       "      <td>0.0</td>\n",
       "      <td>0.0</td>\n",
       "      <td>0.534122</td>\n",
       "    </tr>\n",
       "    <tr>\n",
       "      <th>TutorialBenchmarkData_003</th>\n",
       "      <td>True</td>\n",
       "      <td>False</td>\n",
       "      <td>False</td>\n",
       "      <td>False</td>\n",
       "      <td>False</td>\n",
       "      <td>False</td>\n",
       "      <td>False</td>\n",
       "      <td>False</td>\n",
       "      <td>False</td>\n",
       "      <td>False</td>\n",
       "      <td>...</td>\n",
       "      <td>0.0</td>\n",
       "      <td>0.0</td>\n",
       "      <td>0.0</td>\n",
       "      <td>0.0</td>\n",
       "      <td>0.0</td>\n",
       "      <td>0.0</td>\n",
       "      <td>0.0</td>\n",
       "      <td>0.0</td>\n",
       "      <td>0.0</td>\n",
       "      <td>0.733913</td>\n",
       "    </tr>\n",
       "    <tr>\n",
       "      <th>TutorialBenchmarkData_004</th>\n",
       "      <td>True</td>\n",
       "      <td>False</td>\n",
       "      <td>False</td>\n",
       "      <td>False</td>\n",
       "      <td>False</td>\n",
       "      <td>False</td>\n",
       "      <td>False</td>\n",
       "      <td>False</td>\n",
       "      <td>False</td>\n",
       "      <td>False</td>\n",
       "      <td>...</td>\n",
       "      <td>0.0</td>\n",
       "      <td>0.0</td>\n",
       "      <td>0.0</td>\n",
       "      <td>0.0</td>\n",
       "      <td>1.0</td>\n",
       "      <td>0.0</td>\n",
       "      <td>0.0</td>\n",
       "      <td>0.0</td>\n",
       "      <td>0.0</td>\n",
       "      <td>0.660116</td>\n",
       "    </tr>\n",
       "    <tr>\n",
       "      <th>...</th>\n",
       "      <td>...</td>\n",
       "      <td>...</td>\n",
       "      <td>...</td>\n",
       "      <td>...</td>\n",
       "      <td>...</td>\n",
       "      <td>...</td>\n",
       "      <td>...</td>\n",
       "      <td>...</td>\n",
       "      <td>...</td>\n",
       "      <td>...</td>\n",
       "      <td>...</td>\n",
       "      <td>...</td>\n",
       "      <td>...</td>\n",
       "      <td>...</td>\n",
       "      <td>...</td>\n",
       "      <td>...</td>\n",
       "      <td>...</td>\n",
       "      <td>...</td>\n",
       "      <td>...</td>\n",
       "      <td>...</td>\n",
       "      <td>...</td>\n",
       "    </tr>\n",
       "    <tr>\n",
       "      <th>TutorialBenchmarkData_095</th>\n",
       "      <td>False</td>\n",
       "      <td>False</td>\n",
       "      <td>False</td>\n",
       "      <td>False</td>\n",
       "      <td>False</td>\n",
       "      <td>False</td>\n",
       "      <td>False</td>\n",
       "      <td>False</td>\n",
       "      <td>False</td>\n",
       "      <td>False</td>\n",
       "      <td>...</td>\n",
       "      <td>0.0</td>\n",
       "      <td>0.0</td>\n",
       "      <td>0.0</td>\n",
       "      <td>0.0</td>\n",
       "      <td>0.0</td>\n",
       "      <td>0.0</td>\n",
       "      <td>0.0</td>\n",
       "      <td>0.0</td>\n",
       "      <td>0.0</td>\n",
       "      <td>0.768685</td>\n",
       "    </tr>\n",
       "    <tr>\n",
       "      <th>TutorialBenchmarkData_096</th>\n",
       "      <td>False</td>\n",
       "      <td>True</td>\n",
       "      <td>False</td>\n",
       "      <td>False</td>\n",
       "      <td>False</td>\n",
       "      <td>False</td>\n",
       "      <td>False</td>\n",
       "      <td>False</td>\n",
       "      <td>False</td>\n",
       "      <td>False</td>\n",
       "      <td>...</td>\n",
       "      <td>0.0</td>\n",
       "      <td>0.0</td>\n",
       "      <td>0.0</td>\n",
       "      <td>0.0</td>\n",
       "      <td>0.0</td>\n",
       "      <td>0.0</td>\n",
       "      <td>0.0</td>\n",
       "      <td>0.0</td>\n",
       "      <td>0.0</td>\n",
       "      <td>0.683816</td>\n",
       "    </tr>\n",
       "    <tr>\n",
       "      <th>TutorialBenchmarkData_097</th>\n",
       "      <td>False</td>\n",
       "      <td>False</td>\n",
       "      <td>False</td>\n",
       "      <td>False</td>\n",
       "      <td>False</td>\n",
       "      <td>False</td>\n",
       "      <td>False</td>\n",
       "      <td>False</td>\n",
       "      <td>False</td>\n",
       "      <td>False</td>\n",
       "      <td>...</td>\n",
       "      <td>0.0</td>\n",
       "      <td>0.0</td>\n",
       "      <td>0.0</td>\n",
       "      <td>0.0</td>\n",
       "      <td>1.0</td>\n",
       "      <td>0.0</td>\n",
       "      <td>0.0</td>\n",
       "      <td>0.0</td>\n",
       "      <td>0.0</td>\n",
       "      <td>0.699868</td>\n",
       "    </tr>\n",
       "    <tr>\n",
       "      <th>TutorialBenchmarkData_098</th>\n",
       "      <td>False</td>\n",
       "      <td>False</td>\n",
       "      <td>False</td>\n",
       "      <td>False</td>\n",
       "      <td>False</td>\n",
       "      <td>False</td>\n",
       "      <td>False</td>\n",
       "      <td>True</td>\n",
       "      <td>True</td>\n",
       "      <td>False</td>\n",
       "      <td>...</td>\n",
       "      <td>0.0</td>\n",
       "      <td>1.0</td>\n",
       "      <td>0.0</td>\n",
       "      <td>0.0</td>\n",
       "      <td>0.0</td>\n",
       "      <td>0.0</td>\n",
       "      <td>0.0</td>\n",
       "      <td>0.0</td>\n",
       "      <td>0.0</td>\n",
       "      <td>0.585306</td>\n",
       "    </tr>\n",
       "    <tr>\n",
       "      <th>TutorialBenchmarkData_099</th>\n",
       "      <td>False</td>\n",
       "      <td>False</td>\n",
       "      <td>False</td>\n",
       "      <td>False</td>\n",
       "      <td>False</td>\n",
       "      <td>False</td>\n",
       "      <td>False</td>\n",
       "      <td>False</td>\n",
       "      <td>False</td>\n",
       "      <td>False</td>\n",
       "      <td>...</td>\n",
       "      <td>0.0</td>\n",
       "      <td>0.0</td>\n",
       "      <td>0.0</td>\n",
       "      <td>0.0</td>\n",
       "      <td>0.0</td>\n",
       "      <td>0.0</td>\n",
       "      <td>0.0</td>\n",
       "      <td>0.0</td>\n",
       "      <td>0.0</td>\n",
       "      <td>0.780763</td>\n",
       "    </tr>\n",
       "  </tbody>\n",
       "</table>\n",
       "<p>100 rows × 464 columns</p>\n",
       "</div>"
      ],
      "text/plain": [
       "                           MorganFP_0  MorganFP_1  MorganFP_2  MorganFP_3  \\\n",
       "QSPRID                                                                      \n",
       "TutorialBenchmarkData_000       False       False       False       False   \n",
       "TutorialBenchmarkData_001       False       False       False        True   \n",
       "TutorialBenchmarkData_002        True       False       False       False   \n",
       "TutorialBenchmarkData_003        True       False       False       False   \n",
       "TutorialBenchmarkData_004        True       False       False       False   \n",
       "...                               ...         ...         ...         ...   \n",
       "TutorialBenchmarkData_095       False       False       False       False   \n",
       "TutorialBenchmarkData_096       False        True       False       False   \n",
       "TutorialBenchmarkData_097       False       False       False       False   \n",
       "TutorialBenchmarkData_098       False       False       False       False   \n",
       "TutorialBenchmarkData_099       False       False       False       False   \n",
       "\n",
       "                           MorganFP_4  MorganFP_5  MorganFP_6  MorganFP_7  \\\n",
       "QSPRID                                                                      \n",
       "TutorialBenchmarkData_000       False       False        True        True   \n",
       "TutorialBenchmarkData_001       False       False       False       False   \n",
       "TutorialBenchmarkData_002       False       False       False       False   \n",
       "TutorialBenchmarkData_003       False       False       False       False   \n",
       "TutorialBenchmarkData_004       False       False       False       False   \n",
       "...                               ...         ...         ...         ...   \n",
       "TutorialBenchmarkData_095       False       False       False       False   \n",
       "TutorialBenchmarkData_096       False       False       False       False   \n",
       "TutorialBenchmarkData_097       False       False       False       False   \n",
       "TutorialBenchmarkData_098       False       False       False        True   \n",
       "TutorialBenchmarkData_099       False       False       False       False   \n",
       "\n",
       "                           MorganFP_8  MorganFP_9  ...  fr_sulfonamd  \\\n",
       "QSPRID                                             ...                 \n",
       "TutorialBenchmarkData_000       False       False  ...           0.0   \n",
       "TutorialBenchmarkData_001       False       False  ...           0.0   \n",
       "TutorialBenchmarkData_002        True       False  ...           0.0   \n",
       "TutorialBenchmarkData_003       False       False  ...           0.0   \n",
       "TutorialBenchmarkData_004       False       False  ...           0.0   \n",
       "...                               ...         ...  ...           ...   \n",
       "TutorialBenchmarkData_095       False       False  ...           0.0   \n",
       "TutorialBenchmarkData_096       False       False  ...           0.0   \n",
       "TutorialBenchmarkData_097       False       False  ...           0.0   \n",
       "TutorialBenchmarkData_098        True       False  ...           0.0   \n",
       "TutorialBenchmarkData_099       False       False  ...           0.0   \n",
       "\n",
       "                           fr_sulfone  fr_term_acetylene  fr_tetrazole  \\\n",
       "QSPRID                                                                   \n",
       "TutorialBenchmarkData_000         0.0                0.0           0.0   \n",
       "TutorialBenchmarkData_001         0.0                0.0           0.0   \n",
       "TutorialBenchmarkData_002         0.0                0.0           0.0   \n",
       "TutorialBenchmarkData_003         0.0                0.0           0.0   \n",
       "TutorialBenchmarkData_004         0.0                0.0           0.0   \n",
       "...                               ...                ...           ...   \n",
       "TutorialBenchmarkData_095         0.0                0.0           0.0   \n",
       "TutorialBenchmarkData_096         0.0                0.0           0.0   \n",
       "TutorialBenchmarkData_097         0.0                0.0           0.0   \n",
       "TutorialBenchmarkData_098         1.0                0.0           0.0   \n",
       "TutorialBenchmarkData_099         0.0                0.0           0.0   \n",
       "\n",
       "                           fr_thiazole  fr_thiocyan  fr_thiophene  \\\n",
       "QSPRID                                                              \n",
       "TutorialBenchmarkData_000          0.0          0.0           0.0   \n",
       "TutorialBenchmarkData_001          0.0          0.0           0.0   \n",
       "TutorialBenchmarkData_002          0.0          0.0           0.0   \n",
       "TutorialBenchmarkData_003          0.0          0.0           0.0   \n",
       "TutorialBenchmarkData_004          1.0          0.0           0.0   \n",
       "...                                ...          ...           ...   \n",
       "TutorialBenchmarkData_095          0.0          0.0           0.0   \n",
       "TutorialBenchmarkData_096          0.0          0.0           0.0   \n",
       "TutorialBenchmarkData_097          1.0          0.0           0.0   \n",
       "TutorialBenchmarkData_098          0.0          0.0           0.0   \n",
       "TutorialBenchmarkData_099          0.0          0.0           0.0   \n",
       "\n",
       "                           fr_unbrch_alkane  fr_urea       qed  \n",
       "QSPRID                                                          \n",
       "TutorialBenchmarkData_000               0.0      0.0  0.781396  \n",
       "TutorialBenchmarkData_001               0.0      0.0  0.736392  \n",
       "TutorialBenchmarkData_002               0.0      0.0  0.534122  \n",
       "TutorialBenchmarkData_003               0.0      0.0  0.733913  \n",
       "TutorialBenchmarkData_004               0.0      0.0  0.660116  \n",
       "...                                     ...      ...       ...  \n",
       "TutorialBenchmarkData_095               0.0      0.0  0.768685  \n",
       "TutorialBenchmarkData_096               0.0      0.0  0.683816  \n",
       "TutorialBenchmarkData_097               0.0      0.0  0.699868  \n",
       "TutorialBenchmarkData_098               0.0      0.0  0.585306  \n",
       "TutorialBenchmarkData_099               0.0      0.0  0.780763  \n",
       "\n",
       "[100 rows x 464 columns]"
      ]
     },
     "execution_count": 15,
     "metadata": {},
     "output_type": "execute_result"
    }
   ],
   "source": [
    "replica.ds.getDescriptors()"
   ]
  },
  {
   "cell_type": "markdown",
   "id": "37353eed3159630a",
   "metadata": {
    "collapsed": false,
    "jupyter": {
     "outputs_hidden": false
    }
   },
   "source": [
    "It should be noted that the code above does not recalculate the descriptors, but rather reloads the data set saved here:"
   ]
  },
  {
   "cell_type": "code",
   "execution_count": 16,
   "id": "3f5e3e119d31df87",
   "metadata": {
    "ExecuteTime": {
     "end_time": "2023-12-04T19:53:18.039887489Z",
     "start_time": "2023-12-04T19:53:17.876592177Z"
    },
    "collapsed": false,
    "jupyter": {
     "outputs_hidden": false
    }
   },
   "outputs": [
    {
     "data": {
      "text/plain": [
       "'../../tutorial_output/benchmarking/data/TutorialBenchmarkData_MorganFP_RDkit'"
      ]
     },
     "execution_count": 16,
     "metadata": {},
     "output_type": "execute_result"
    }
   ],
   "source": [
    "replica.ds.storeDir"
   ]
  },
  {
   "cell_type": "code",
   "execution_count": 17,
   "id": "ce8ecc3ba4ed7040",
   "metadata": {
    "ExecuteTime": {
     "end_time": "2023-12-04T19:53:18.635040145Z",
     "start_time": "2023-12-04T19:53:17.917033710Z"
    },
    "collapsed": false,
    "jupyter": {
     "outputs_hidden": false
    }
   },
   "outputs": [],
   "source": [
    "# reproduce data preparation\n",
    "replica.prepData()"
   ]
  },
  {
   "cell_type": "code",
   "execution_count": 18,
   "id": "a4e9c50aac43bb06",
   "metadata": {
    "ExecuteTime": {
     "end_time": "2023-12-04T19:53:18.635570368Z",
     "start_time": "2023-12-04T19:53:18.537241193Z"
    },
    "collapsed": false,
    "jupyter": {
     "outputs_hidden": false
    }
   },
   "outputs": [
    {
     "data": {
      "text/plain": [
       "((80, 283), (20, 283))"
      ]
     },
     "execution_count": 18,
     "metadata": {},
     "output_type": "execute_result"
    }
   ],
   "source": [
    "# this for example yields the split from before\n",
    "train, test = replica.ds.getFeatures()\n",
    "train.shape, test.shape"
   ]
  },
  {
   "cell_type": "code",
   "execution_count": 19,
   "id": "964e2c5a7c7f534f",
   "metadata": {
    "ExecuteTime": {
     "end_time": "2023-12-04T19:53:18.635933817Z",
     "start_time": "2023-12-04T19:53:18.557359861Z"
    },
    "collapsed": false,
    "jupyter": {
     "outputs_hidden": false
    }
   },
   "outputs": [
    {
     "name": "stderr",
     "output_type": "stream",
     "text": [
      "qsprpred - WARNING - Random state supplied, but alg <class 'sklearn.naive_bayes.GaussianNB'> does not support it. Ignoring this setting.\n"
     ]
    },
    {
     "data": {
      "text/plain": [
       "sklearn.naive_bayes.GaussianNB"
      ]
     },
     "execution_count": 19,
     "metadata": {},
     "output_type": "execute_result"
    }
   ],
   "source": [
    "# initialize model with the prepared data\n",
    "replica.initModel()\n",
    "replica.model.alg"
   ]
  },
  {
   "cell_type": "code",
   "execution_count": 20,
   "id": "69aa790d0303eaa8",
   "metadata": {
    "ExecuteTime": {
     "end_time": "2023-12-04T19:53:18.795234605Z",
     "start_time": "2023-12-04T19:53:18.626929671Z"
    },
    "collapsed": false,
    "jupyter": {
     "outputs_hidden": false
    }
   },
   "outputs": [],
   "source": [
    "# run assesments\n",
    "replica.runAssessment()"
   ]
  },
  {
   "cell_type": "markdown",
   "id": "e58e9da7ca7666a8",
   "metadata": {
    "collapsed": false,
    "jupyter": {
     "outputs_hidden": false
    }
   },
   "source": [
    "To results are saved withing the replica too:"
   ]
  },
  {
   "cell_type": "code",
   "execution_count": 21,
   "id": "f74851dad0bb1f0c",
   "metadata": {
    "ExecuteTime": {
     "end_time": "2023-12-04T19:53:18.880943020Z",
     "start_time": "2023-12-04T19:53:18.656332249Z"
    },
    "collapsed": false,
    "jupyter": {
     "outputs_hidden": false
    }
   },
   "outputs": [
    {
     "data": {
      "text/html": [
       "<div>\n",
       "<style scoped>\n",
       "    .dataframe tbody tr th:only-of-type {\n",
       "        vertical-align: middle;\n",
       "    }\n",
       "\n",
       "    .dataframe tbody tr th {\n",
       "        vertical-align: top;\n",
       "    }\n",
       "\n",
       "    .dataframe thead th {\n",
       "        text-align: right;\n",
       "    }\n",
       "</style>\n",
       "<table border=\"1\" class=\"dataframe\">\n",
       "  <thead>\n",
       "    <tr style=\"text-align: right;\">\n",
       "      <th></th>\n",
       "      <th>Assessor</th>\n",
       "      <th>ScoreFunc</th>\n",
       "      <th>Score</th>\n",
       "      <th>TargetProperty</th>\n",
       "      <th>TargetTask</th>\n",
       "    </tr>\n",
       "  </thead>\n",
       "  <tbody>\n",
       "    <tr>\n",
       "      <th>0</th>\n",
       "      <td>TestSetAssessor</td>\n",
       "      <td>roc_auc_score</td>\n",
       "      <td>0.707071</td>\n",
       "      <td>pchembl_value_Mean</td>\n",
       "      <td>SINGLECLASS</td>\n",
       "    </tr>\n",
       "    <tr>\n",
       "      <th>0</th>\n",
       "      <td>TestSetAssessor</td>\n",
       "      <td>matthews_corrcoef</td>\n",
       "      <td>0.393939</td>\n",
       "      <td>pchembl_value_Mean</td>\n",
       "      <td>SINGLECLASS</td>\n",
       "    </tr>\n",
       "  </tbody>\n",
       "</table>\n",
       "</div>"
      ],
      "text/plain": [
       "          Assessor          ScoreFunc     Score      TargetProperty  \\\n",
       "0  TestSetAssessor      roc_auc_score  0.707071  pchembl_value_Mean   \n",
       "0  TestSetAssessor  matthews_corrcoef  0.393939  pchembl_value_Mean   \n",
       "\n",
       "    TargetTask  \n",
       "0  SINGLECLASS  \n",
       "0  SINGLECLASS  "
      ]
     },
     "execution_count": 21,
     "metadata": {},
     "output_type": "execute_result"
    }
   ],
   "source": [
    "replica.results"
   ]
  },
  {
   "cell_type": "markdown",
   "id": "ffa9ea8412fff166",
   "metadata": {
    "collapsed": false,
    "jupyter": {
     "outputs_hidden": false
    }
   },
   "source": [
    "Since the random seed was fixed to the original value, we should get the same results as in the original run:"
   ]
  },
  {
   "cell_type": "code",
   "execution_count": 22,
   "id": "296e5b8238a9e9d7",
   "metadata": {
    "ExecuteTime": {
     "end_time": "2023-12-04T19:53:18.881582371Z",
     "start_time": "2023-12-04T19:53:18.663758122Z"
    },
    "collapsed": false,
    "jupyter": {
     "outputs_hidden": false
    }
   },
   "outputs": [
    {
     "data": {
      "text/plain": [
       "(0.7070707070707071, 0.3939393939393939)"
      ]
     },
     "execution_count": 22,
     "metadata": {},
     "output_type": "execute_result"
    }
   ],
   "source": [
    "df_results.iloc[0, :].Score, df_results.iloc[1, :].Score"
   ]
  },
  {
   "cell_type": "markdown",
   "id": "cade4c30b5799717",
   "metadata": {
    "collapsed": false,
    "jupyter": {
     "outputs_hidden": false
    }
   },
   "source": [
    "In order to get the complete report on the reproduced replica, the `replica.createReport()` method can be used:"
   ]
  },
  {
   "cell_type": "code",
   "execution_count": 23,
   "id": "cda6386658a87b40",
   "metadata": {
    "ExecuteTime": {
     "end_time": "2023-12-04T19:53:18.883531366Z",
     "start_time": "2023-12-04T19:53:18.707215679Z"
    },
    "collapsed": false,
    "jupyter": {
     "outputs_hidden": false
    }
   },
   "outputs": [
    {
     "data": {
      "text/html": [
       "<div>\n",
       "<style scoped>\n",
       "    .dataframe tbody tr th:only-of-type {\n",
       "        vertical-align: middle;\n",
       "    }\n",
       "\n",
       "    .dataframe tbody tr th {\n",
       "        vertical-align: top;\n",
       "    }\n",
       "\n",
       "    .dataframe thead th {\n",
       "        text-align: right;\n",
       "    }\n",
       "</style>\n",
       "<table border=\"1\" class=\"dataframe\">\n",
       "  <thead>\n",
       "    <tr style=\"text-align: right;\">\n",
       "      <th></th>\n",
       "      <th>Assessor</th>\n",
       "      <th>ScoreFunc</th>\n",
       "      <th>Score</th>\n",
       "      <th>TargetProperty</th>\n",
       "      <th>TargetTask</th>\n",
       "      <th>ModelFile</th>\n",
       "      <th>Algorithm</th>\n",
       "      <th>AlgorithmParams</th>\n",
       "      <th>ReplicaID</th>\n",
       "      <th>DataSet</th>\n",
       "      <th>ReplicaFile</th>\n",
       "    </tr>\n",
       "  </thead>\n",
       "  <tbody>\n",
       "    <tr>\n",
       "      <th>0</th>\n",
       "      <td>TestSetAssessor</td>\n",
       "      <td>roc_auc_score</td>\n",
       "      <td>0.707071</td>\n",
       "      <td>pchembl_value_Mean</td>\n",
       "      <td>SINGLECLASS</td>\n",
       "      <td>/home/sichom/projects/QSPRpred/tutorials/tutor...</td>\n",
       "      <td>GaussianNB</td>\n",
       "      <td>null</td>\n",
       "      <td>TutorialBenchmark_2746317213</td>\n",
       "      <td>TutorialBenchmarkData_MorganFP_RDkit</td>\n",
       "      <td>/home/sichom/projects/QSPRpred/tutorials/tutor...</td>\n",
       "    </tr>\n",
       "    <tr>\n",
       "      <th>0</th>\n",
       "      <td>TestSetAssessor</td>\n",
       "      <td>matthews_corrcoef</td>\n",
       "      <td>0.393939</td>\n",
       "      <td>pchembl_value_Mean</td>\n",
       "      <td>SINGLECLASS</td>\n",
       "      <td>/home/sichom/projects/QSPRpred/tutorials/tutor...</td>\n",
       "      <td>GaussianNB</td>\n",
       "      <td>null</td>\n",
       "      <td>TutorialBenchmark_2746317213</td>\n",
       "      <td>TutorialBenchmarkData_MorganFP_RDkit</td>\n",
       "      <td>/home/sichom/projects/QSPRpred/tutorials/tutor...</td>\n",
       "    </tr>\n",
       "  </tbody>\n",
       "</table>\n",
       "</div>"
      ],
      "text/plain": [
       "          Assessor          ScoreFunc     Score      TargetProperty  \\\n",
       "0  TestSetAssessor      roc_auc_score  0.707071  pchembl_value_Mean   \n",
       "0  TestSetAssessor  matthews_corrcoef  0.393939  pchembl_value_Mean   \n",
       "\n",
       "    TargetTask                                          ModelFile   Algorithm  \\\n",
       "0  SINGLECLASS  /home/sichom/projects/QSPRpred/tutorials/tutor...  GaussianNB   \n",
       "0  SINGLECLASS  /home/sichom/projects/QSPRpred/tutorials/tutor...  GaussianNB   \n",
       "\n",
       "  AlgorithmParams                     ReplicaID  \\\n",
       "0            null  TutorialBenchmark_2746317213   \n",
       "0            null  TutorialBenchmark_2746317213   \n",
       "\n",
       "                                DataSet  \\\n",
       "0  TutorialBenchmarkData_MorganFP_RDkit   \n",
       "0  TutorialBenchmarkData_MorganFP_RDkit   \n",
       "\n",
       "                                         ReplicaFile  \n",
       "0  /home/sichom/projects/QSPRpred/tutorials/tutor...  \n",
       "0  /home/sichom/projects/QSPRpred/tutorials/tutor...  "
      ]
     },
     "execution_count": 23,
     "metadata": {},
     "output_type": "execute_result"
    }
   ],
   "source": [
    "replica.createReport()"
   ]
  },
  {
   "cell_type": "markdown",
   "id": "ffeea633f3493f15",
   "metadata": {
    "collapsed": false,
    "jupyter": {
     "outputs_hidden": false
    }
   },
   "source": [
    "# Analyzing Results\n",
    "\n",
    "The resulting data frame contains concatenated reports from each replica. We can get detailed information about model parameters, data preparation settings, target properties and more. It is up to you to decide how to analyze the results. You can also override the `createReport()` method of the `Replica` class and change the `iterReplicas` of `BenchmarkRunner` to use your own implementation of various benchmarking steps.\n",
    "\n",
    "Here we just provide a few examples of retrieving various data to plot from the report we obtained here:"
   ]
  },
  {
   "cell_type": "code",
   "execution_count": 24,
   "id": "9774ff353cd09a58",
   "metadata": {
    "ExecuteTime": {
     "start_time": "2023-12-04T19:55:40.270699980Z"
    },
    "collapsed": false,
    "jupyter": {
     "outputs_hidden": false
    }
   },
   "outputs": [
    {
     "data": {
      "text/html": [
       "<div>\n",
       "<style scoped>\n",
       "    .dataframe tbody tr th:only-of-type {\n",
       "        vertical-align: middle;\n",
       "    }\n",
       "\n",
       "    .dataframe tbody tr th {\n",
       "        vertical-align: top;\n",
       "    }\n",
       "\n",
       "    .dataframe thead th {\n",
       "        text-align: right;\n",
       "    }\n",
       "</style>\n",
       "<table border=\"1\" class=\"dataframe\">\n",
       "  <thead>\n",
       "    <tr style=\"text-align: right;\">\n",
       "      <th></th>\n",
       "      <th>Assessor</th>\n",
       "      <th>ScoreFunc</th>\n",
       "      <th>Score</th>\n",
       "      <th>TargetProperty</th>\n",
       "      <th>TargetTask</th>\n",
       "      <th>ModelFile</th>\n",
       "      <th>Algorithm</th>\n",
       "      <th>AlgorithmParams</th>\n",
       "      <th>ReplicaID</th>\n",
       "      <th>DataSet</th>\n",
       "      <th>ReplicaFile</th>\n",
       "    </tr>\n",
       "  </thead>\n",
       "  <tbody>\n",
       "    <tr>\n",
       "      <th>0</th>\n",
       "      <td>TestSetAssessor</td>\n",
       "      <td>roc_auc_score</td>\n",
       "      <td>0.707071</td>\n",
       "      <td>pchembl_value_Mean</td>\n",
       "      <td>SINGLECLASS</td>\n",
       "      <td>/home/sichom/projects/QSPRpred/tutorials/tutor...</td>\n",
       "      <td>GaussianNB</td>\n",
       "      <td>NaN</td>\n",
       "      <td>TutorialBenchmark_2746317213</td>\n",
       "      <td>TutorialBenchmarkData_MorganFP_RDkit</td>\n",
       "      <td>/home/sichom/projects/QSPRpred/tutorials/tutor...</td>\n",
       "    </tr>\n",
       "    <tr>\n",
       "      <th>1</th>\n",
       "      <td>TestSetAssessor</td>\n",
       "      <td>matthews_corrcoef</td>\n",
       "      <td>0.393939</td>\n",
       "      <td>pchembl_value_Mean</td>\n",
       "      <td>SINGLECLASS</td>\n",
       "      <td>/home/sichom/projects/QSPRpred/tutorials/tutor...</td>\n",
       "      <td>GaussianNB</td>\n",
       "      <td>NaN</td>\n",
       "      <td>TutorialBenchmark_2746317213</td>\n",
       "      <td>TutorialBenchmarkData_MorganFP_RDkit</td>\n",
       "      <td>/home/sichom/projects/QSPRpred/tutorials/tutor...</td>\n",
       "    </tr>\n",
       "    <tr>\n",
       "      <th>2</th>\n",
       "      <td>TestSetAssessor</td>\n",
       "      <td>roc_auc_score</td>\n",
       "      <td>0.598901</td>\n",
       "      <td>pchembl_value_Mean</td>\n",
       "      <td>SINGLECLASS</td>\n",
       "      <td>/home/sichom/projects/QSPRpred/tutorials/tutor...</td>\n",
       "      <td>ExtraTreesClassifier</td>\n",
       "      <td>{\"random_state\": 478163327}</td>\n",
       "      <td>TutorialBenchmark_478163327</td>\n",
       "      <td>TutorialBenchmarkData_MorganFP_RDkit</td>\n",
       "      <td>/home/sichom/projects/QSPRpred/tutorials/tutor...</td>\n",
       "    </tr>\n",
       "    <tr>\n",
       "      <th>3</th>\n",
       "      <td>TestSetAssessor</td>\n",
       "      <td>matthews_corrcoef</td>\n",
       "      <td>-0.179106</td>\n",
       "      <td>pchembl_value_Mean</td>\n",
       "      <td>SINGLECLASS</td>\n",
       "      <td>/home/sichom/projects/QSPRpred/tutorials/tutor...</td>\n",
       "      <td>ExtraTreesClassifier</td>\n",
       "      <td>{\"random_state\": 478163327}</td>\n",
       "      <td>TutorialBenchmark_478163327</td>\n",
       "      <td>TutorialBenchmarkData_MorganFP_RDkit</td>\n",
       "      <td>/home/sichom/projects/QSPRpred/tutorials/tutor...</td>\n",
       "    </tr>\n",
       "    <tr>\n",
       "      <th>4</th>\n",
       "      <td>TestSetAssessor</td>\n",
       "      <td>roc_auc_score</td>\n",
       "      <td>0.590909</td>\n",
       "      <td>pchembl_value_Mean</td>\n",
       "      <td>SINGLECLASS</td>\n",
       "      <td>/home/sichom/projects/QSPRpred/tutorials/tutor...</td>\n",
       "      <td>GaussianNB</td>\n",
       "      <td>NaN</td>\n",
       "      <td>TutorialBenchmark_107420369</td>\n",
       "      <td>TutorialBenchmarkData_MorganFP_RDkit</td>\n",
       "      <td>/home/sichom/projects/QSPRpred/tutorials/tutor...</td>\n",
       "    </tr>\n",
       "    <tr>\n",
       "      <th>...</th>\n",
       "      <td>...</td>\n",
       "      <td>...</td>\n",
       "      <td>...</td>\n",
       "      <td>...</td>\n",
       "      <td>...</td>\n",
       "      <td>...</td>\n",
       "      <td>...</td>\n",
       "      <td>...</td>\n",
       "      <td>...</td>\n",
       "      <td>...</td>\n",
       "      <td>...</td>\n",
       "    </tr>\n",
       "    <tr>\n",
       "      <th>67</th>\n",
       "      <td>TestSetAssessor</td>\n",
       "      <td>matthews_corrcoef</td>\n",
       "      <td>-0.089087</td>\n",
       "      <td>pchembl_value_Mean</td>\n",
       "      <td>SINGLECLASS</td>\n",
       "      <td>/home/sichom/projects/QSPRpred/tutorials/tutor...</td>\n",
       "      <td>ExtraTreesClassifier</td>\n",
       "      <td>{\"random_state\": 1801823908}</td>\n",
       "      <td>TutorialBenchmark_1801823908</td>\n",
       "      <td>TutorialBenchmarkData_MorganFP</td>\n",
       "      <td>/home/sichom/projects/QSPRpred/tutorials/tutor...</td>\n",
       "    </tr>\n",
       "    <tr>\n",
       "      <th>68</th>\n",
       "      <td>TestSetAssessor</td>\n",
       "      <td>roc_auc_score</td>\n",
       "      <td>0.646465</td>\n",
       "      <td>pchembl_value_Mean</td>\n",
       "      <td>SINGLECLASS</td>\n",
       "      <td>/home/sichom/projects/QSPRpred/tutorials/tutor...</td>\n",
       "      <td>GaussianNB</td>\n",
       "      <td>NaN</td>\n",
       "      <td>TutorialBenchmark_2530876844</td>\n",
       "      <td>TutorialBenchmarkData_RDkit</td>\n",
       "      <td>/home/sichom/projects/QSPRpred/tutorials/tutor...</td>\n",
       "    </tr>\n",
       "    <tr>\n",
       "      <th>69</th>\n",
       "      <td>TestSetAssessor</td>\n",
       "      <td>matthews_corrcoef</td>\n",
       "      <td>0.504430</td>\n",
       "      <td>pchembl_value_Mean</td>\n",
       "      <td>SINGLECLASS</td>\n",
       "      <td>/home/sichom/projects/QSPRpred/tutorials/tutor...</td>\n",
       "      <td>GaussianNB</td>\n",
       "      <td>NaN</td>\n",
       "      <td>TutorialBenchmark_2530876844</td>\n",
       "      <td>TutorialBenchmarkData_RDkit</td>\n",
       "      <td>/home/sichom/projects/QSPRpred/tutorials/tutor...</td>\n",
       "    </tr>\n",
       "    <tr>\n",
       "      <th>70</th>\n",
       "      <td>TestSetAssessor</td>\n",
       "      <td>roc_auc_score</td>\n",
       "      <td>0.776042</td>\n",
       "      <td>pchembl_value_Mean</td>\n",
       "      <td>SINGLECLASS</td>\n",
       "      <td>/home/sichom/projects/QSPRpred/tutorials/tutor...</td>\n",
       "      <td>ExtraTreesClassifier</td>\n",
       "      <td>{\"random_state\": 1194819984}</td>\n",
       "      <td>TutorialBenchmark_1194819984</td>\n",
       "      <td>TutorialBenchmarkData_RDkit</td>\n",
       "      <td>/home/sichom/projects/QSPRpred/tutorials/tutor...</td>\n",
       "    </tr>\n",
       "    <tr>\n",
       "      <th>71</th>\n",
       "      <td>TestSetAssessor</td>\n",
       "      <td>matthews_corrcoef</td>\n",
       "      <td>0.357217</td>\n",
       "      <td>pchembl_value_Mean</td>\n",
       "      <td>SINGLECLASS</td>\n",
       "      <td>/home/sichom/projects/QSPRpred/tutorials/tutor...</td>\n",
       "      <td>ExtraTreesClassifier</td>\n",
       "      <td>{\"random_state\": 1194819984}</td>\n",
       "      <td>TutorialBenchmark_1194819984</td>\n",
       "      <td>TutorialBenchmarkData_RDkit</td>\n",
       "      <td>/home/sichom/projects/QSPRpred/tutorials/tutor...</td>\n",
       "    </tr>\n",
       "  </tbody>\n",
       "</table>\n",
       "<p>72 rows × 11 columns</p>\n",
       "</div>"
      ],
      "text/plain": [
       "           Assessor          ScoreFunc     Score      TargetProperty  \\\n",
       "0   TestSetAssessor      roc_auc_score  0.707071  pchembl_value_Mean   \n",
       "1   TestSetAssessor  matthews_corrcoef  0.393939  pchembl_value_Mean   \n",
       "2   TestSetAssessor      roc_auc_score  0.598901  pchembl_value_Mean   \n",
       "3   TestSetAssessor  matthews_corrcoef -0.179106  pchembl_value_Mean   \n",
       "4   TestSetAssessor      roc_auc_score  0.590909  pchembl_value_Mean   \n",
       "..              ...                ...       ...                 ...   \n",
       "67  TestSetAssessor  matthews_corrcoef -0.089087  pchembl_value_Mean   \n",
       "68  TestSetAssessor      roc_auc_score  0.646465  pchembl_value_Mean   \n",
       "69  TestSetAssessor  matthews_corrcoef  0.504430  pchembl_value_Mean   \n",
       "70  TestSetAssessor      roc_auc_score  0.776042  pchembl_value_Mean   \n",
       "71  TestSetAssessor  matthews_corrcoef  0.357217  pchembl_value_Mean   \n",
       "\n",
       "     TargetTask                                          ModelFile  \\\n",
       "0   SINGLECLASS  /home/sichom/projects/QSPRpred/tutorials/tutor...   \n",
       "1   SINGLECLASS  /home/sichom/projects/QSPRpred/tutorials/tutor...   \n",
       "2   SINGLECLASS  /home/sichom/projects/QSPRpred/tutorials/tutor...   \n",
       "3   SINGLECLASS  /home/sichom/projects/QSPRpred/tutorials/tutor...   \n",
       "4   SINGLECLASS  /home/sichom/projects/QSPRpred/tutorials/tutor...   \n",
       "..          ...                                                ...   \n",
       "67  SINGLECLASS  /home/sichom/projects/QSPRpred/tutorials/tutor...   \n",
       "68  SINGLECLASS  /home/sichom/projects/QSPRpred/tutorials/tutor...   \n",
       "69  SINGLECLASS  /home/sichom/projects/QSPRpred/tutorials/tutor...   \n",
       "70  SINGLECLASS  /home/sichom/projects/QSPRpred/tutorials/tutor...   \n",
       "71  SINGLECLASS  /home/sichom/projects/QSPRpred/tutorials/tutor...   \n",
       "\n",
       "               Algorithm               AlgorithmParams  \\\n",
       "0             GaussianNB                           NaN   \n",
       "1             GaussianNB                           NaN   \n",
       "2   ExtraTreesClassifier   {\"random_state\": 478163327}   \n",
       "3   ExtraTreesClassifier   {\"random_state\": 478163327}   \n",
       "4             GaussianNB                           NaN   \n",
       "..                   ...                           ...   \n",
       "67  ExtraTreesClassifier  {\"random_state\": 1801823908}   \n",
       "68            GaussianNB                           NaN   \n",
       "69            GaussianNB                           NaN   \n",
       "70  ExtraTreesClassifier  {\"random_state\": 1194819984}   \n",
       "71  ExtraTreesClassifier  {\"random_state\": 1194819984}   \n",
       "\n",
       "                       ReplicaID                               DataSet  \\\n",
       "0   TutorialBenchmark_2746317213  TutorialBenchmarkData_MorganFP_RDkit   \n",
       "1   TutorialBenchmark_2746317213  TutorialBenchmarkData_MorganFP_RDkit   \n",
       "2    TutorialBenchmark_478163327  TutorialBenchmarkData_MorganFP_RDkit   \n",
       "3    TutorialBenchmark_478163327  TutorialBenchmarkData_MorganFP_RDkit   \n",
       "4    TutorialBenchmark_107420369  TutorialBenchmarkData_MorganFP_RDkit   \n",
       "..                           ...                                   ...   \n",
       "67  TutorialBenchmark_1801823908        TutorialBenchmarkData_MorganFP   \n",
       "68  TutorialBenchmark_2530876844           TutorialBenchmarkData_RDkit   \n",
       "69  TutorialBenchmark_2530876844           TutorialBenchmarkData_RDkit   \n",
       "70  TutorialBenchmark_1194819984           TutorialBenchmarkData_RDkit   \n",
       "71  TutorialBenchmark_1194819984           TutorialBenchmarkData_RDkit   \n",
       "\n",
       "                                          ReplicaFile  \n",
       "0   /home/sichom/projects/QSPRpred/tutorials/tutor...  \n",
       "1   /home/sichom/projects/QSPRpred/tutorials/tutor...  \n",
       "2   /home/sichom/projects/QSPRpred/tutorials/tutor...  \n",
       "3   /home/sichom/projects/QSPRpred/tutorials/tutor...  \n",
       "4   /home/sichom/projects/QSPRpred/tutorials/tutor...  \n",
       "..                                                ...  \n",
       "67  /home/sichom/projects/QSPRpred/tutorials/tutor...  \n",
       "68  /home/sichom/projects/QSPRpred/tutorials/tutor...  \n",
       "69  /home/sichom/projects/QSPRpred/tutorials/tutor...  \n",
       "70  /home/sichom/projects/QSPRpred/tutorials/tutor...  \n",
       "71  /home/sichom/projects/QSPRpred/tutorials/tutor...  \n",
       "\n",
       "[72 rows x 11 columns]"
      ]
     },
     "execution_count": 24,
     "metadata": {},
     "output_type": "execute_result"
    }
   ],
   "source": [
    "import pandas as pd\n",
    "\n",
    "OUT_DIR = '../../tutorial_output/benchmarking'\n",
    "\n",
    "# reload the data manually this time to avoid recalculating everything (the above code needs to be executed at least once)\n",
    "df_results = pd.read_table(f'{OUT_DIR}/results.tsv')\n",
    "df_results"
   ]
  },
  {
   "cell_type": "code",
   "execution_count": 25,
   "id": "5ef04268-7aff-4b3b-86f2-36dc7e7c11d1",
   "metadata": {},
   "outputs": [],
   "source": [
    "# we used different models, descriptors and splits\n",
    "# probably makes sense to first get info about splits\n",
    "# not in the original report, but...\n",
    "\n",
    "from qsprpred.benchmarks import Replica\n",
    "\n",
    "\n",
    "def get_split_info(replica):\n",
    "    replica = Replica.fromFile(replica)\n",
    "    return str(replica.prepSettings.split.__class__.__name__)\n",
    "\n",
    "\n",
    "df_results['Split'] = df_results.ReplicaFile.apply(get_split_info)"
   ]
  },
  {
   "cell_type": "code",
   "execution_count": 26,
   "id": "744bd95d-634f-434d-ab1b-27e4def03f8b",
   "metadata": {},
   "outputs": [
    {
     "data": {
      "text/plain": [
       "0     MorganFP_RDkit\n",
       "1     MorganFP_RDkit\n",
       "2     MorganFP_RDkit\n",
       "3     MorganFP_RDkit\n",
       "4     MorganFP_RDkit\n",
       "           ...      \n",
       "67          MorganFP\n",
       "68             RDkit\n",
       "69             RDkit\n",
       "70             RDkit\n",
       "71             RDkit\n",
       "Name: Descriptors, Length: 72, dtype: object"
      ]
     },
     "execution_count": 26,
     "metadata": {},
     "output_type": "execute_result"
    }
   ],
   "source": [
    "# we have info about data set, which is ok to describe our combination of descriptors\n",
    "df_results['Descriptors'] = df_results['DataSet'].apply(\n",
    "    lambda x: \"_\".join(x.split('_')[1:]))\n",
    "df_results['Descriptors']"
   ]
  },
  {
   "cell_type": "code",
   "execution_count": 27,
   "id": "6492ed39faa6b3d7",
   "metadata": {
    "collapsed": false,
    "jupyter": {
     "outputs_hidden": false
    }
   },
   "outputs": [],
   "source": [
    "import seaborn as sns\n",
    "from matplotlib import pyplot as plt\n",
    "\n",
    "\n",
    "# we can now create a couple informative box plots\n",
    "# check the output directory to see the figures\n",
    "\n",
    "def make_box_plot(data, x, y, hue, plot_name=\"boxplot\"):\n",
    "    # generate one plot for each metric\n",
    "    for score_func in df_results.ScoreFunc.unique():\n",
    "        df_ind = df_results.loc[(df_results.ScoreFunc == score_func)]\n",
    "        plt.ylim([0, 1])\n",
    "        plt.title(score_func)\n",
    "        sns.boxplot(\n",
    "            data=df_ind,\n",
    "            x=x,\n",
    "            y=y,\n",
    "            hue=hue,\n",
    "        )\n",
    "        plt.savefig(f\"{OUT_DIR}/{plot_name}_{score_func}_{x}_{y}_{hue}.png\")\n",
    "        plt.clf()\n",
    "        plt.close()\n",
    "\n",
    "\n",
    "# comparison of descriptors and their influence on each model's performance in cluster split\n",
    "make_box_plot(\n",
    "    df_results[df_results.Split == \"ClusterSplit\"],\n",
    "    x=\"Algorithm\",\n",
    "    y=\"Score\",\n",
    "    hue=\"Descriptors\",\n",
    "    plot_name=\"ClusterSplit\"\n",
    ")\n",
    "# comparison of performance for different splitting strategies for each model (cluster split clearly more difficult)\n",
    "# TODO: we could follow this up with a tutorial to integrate the AVE bias (still in qsp-bench, the tools.py script)\n",
    "make_box_plot(\n",
    "    df_results[df_results.Algorithm == \"GaussianNB\"],\n",
    "    x=\"Split\",\n",
    "    y=\"Score\",\n",
    "    hue=\"Descriptors\",\n",
    "    plot_name=\"GaussianNB\"\n",
    ")\n",
    "make_box_plot(\n",
    "    df_results[df_results.Algorithm == \"ExtraTreesClassifier\"],\n",
    "    x=\"Split\",\n",
    "    y=\"Score\",\n",
    "    hue=\"Descriptors\",\n",
    "    plot_name=\"ExtraTreesClassifier\"\n",
    ")"
   ]
  },
  {
   "cell_type": "code",
   "execution_count": null,
   "id": "145ea671-8433-4515-b94f-4928e542cea5",
   "metadata": {},
   "outputs": [],
   "source": []
  }
 ],
 "metadata": {
  "kernelspec": {
   "display_name": "Python 3 (ipykernel)",
   "language": "python",
   "name": "python3"
  },
  "language_info": {
   "codemirror_mode": {
    "name": "ipython",
    "version": 3
   },
   "file_extension": ".py",
   "mimetype": "text/x-python",
   "name": "python",
   "nbconvert_exporter": "python",
   "pygments_lexer": "ipython3",
   "version": "3.10.9"
  }
 },
 "nbformat": 4,
 "nbformat_minor": 5
}
