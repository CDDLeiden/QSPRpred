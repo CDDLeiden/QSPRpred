{
 "cells": [
  {
   "cell_type": "markdown",
   "metadata": {},
   "source": [
    "# Applicability Domain\n",
    "\n",
    "Applicability domain is the area of the chemical space where the model is suitable to make predictions. It is important to know the applicability domain of a model to understand when it is extrapolating. Making predictions for compounds outside the applicability domain may lead to unexpectedly unreliable results. There are many ways to define the applicability domain of a model. In this tutorial, we will demonstrate how to use applicability domain calculations are integrated in QSPRpred."
   ]
  },
  {
   "cell_type": "code",
   "execution_count": 1,
   "metadata": {},
   "outputs": [
    {
     "name": "stderr",
     "output_type": "stream",
     "text": [
      "/zfsdata/data/helle/01_MainProjects/03_QSPRPred/Scripts/QSPRpred/qsprpred/data/tables/mol.py:207: UserWarning: Existing data set found, but also found a data frame in store. Refusing to overwrite data. If you want to overwrite data in store, set overwrite=True.\n",
      "  super().__init__(\n"
     ]
    },
    {
     "data": {
      "text/html": [
       "<div>\n",
       "<style scoped>\n",
       "    .dataframe tbody tr th:only-of-type {\n",
       "        vertical-align: middle;\n",
       "    }\n",
       "\n",
       "    .dataframe tbody tr th {\n",
       "        vertical-align: top;\n",
       "    }\n",
       "\n",
       "    .dataframe thead th {\n",
       "        text-align: right;\n",
       "    }\n",
       "</style>\n",
       "<table border=\"1\" class=\"dataframe\">\n",
       "  <thead>\n",
       "    <tr style=\"text-align: right;\">\n",
       "      <th></th>\n",
       "      <th>SMILES</th>\n",
       "      <th>pchembl_value_Mean</th>\n",
       "      <th>Year</th>\n",
       "      <th>QSPRID</th>\n",
       "      <th>pchembl_value_Mean_original</th>\n",
       "      <th>Split_IsOutlier</th>\n",
       "      <th>Split_IsTrain</th>\n",
       "    </tr>\n",
       "    <tr>\n",
       "      <th>QSPRID</th>\n",
       "      <th></th>\n",
       "      <th></th>\n",
       "      <th></th>\n",
       "      <th></th>\n",
       "      <th></th>\n",
       "      <th></th>\n",
       "      <th></th>\n",
       "    </tr>\n",
       "  </thead>\n",
       "  <tbody>\n",
       "    <tr>\n",
       "      <th>ApplicabilityDomainTutorialDataset_0000</th>\n",
       "      <td>Cc1cc(C)n(-c2cc(NC(=O)CCN(C)C)nc(-c3ccc(C)o3)n...</td>\n",
       "      <td>8.68</td>\n",
       "      <td>2008.0</td>\n",
       "      <td>ApplicabilityDomainTutorialDataset_0000</td>\n",
       "      <td>8.68</td>\n",
       "      <td>False</td>\n",
       "      <td>True</td>\n",
       "    </tr>\n",
       "    <tr>\n",
       "      <th>ApplicabilityDomainTutorialDataset_0001</th>\n",
       "      <td>Nc1c(C(=O)Nc2ccc([N+](=O)[O-])cc2)sc2nc3c(cc12...</td>\n",
       "      <td>4.82</td>\n",
       "      <td>2010.0</td>\n",
       "      <td>ApplicabilityDomainTutorialDataset_0001</td>\n",
       "      <td>4.82</td>\n",
       "      <td>False</td>\n",
       "      <td>True</td>\n",
       "    </tr>\n",
       "    <tr>\n",
       "      <th>ApplicabilityDomainTutorialDataset_0002</th>\n",
       "      <td>O=C(Nc1nc2ncccc2n2c(=O)n(-c3ccccc3)nc12)c1ccccc1</td>\n",
       "      <td>5.65</td>\n",
       "      <td>2009.0</td>\n",
       "      <td>ApplicabilityDomainTutorialDataset_0002</td>\n",
       "      <td>5.65</td>\n",
       "      <td>False</td>\n",
       "      <td>True</td>\n",
       "    </tr>\n",
       "    <tr>\n",
       "      <th>ApplicabilityDomainTutorialDataset_0003</th>\n",
       "      <td>CNC(=O)C12CC1C(n1cnc3c(NCc4cccc(Cl)c4)nc(C#CCC...</td>\n",
       "      <td>5.45</td>\n",
       "      <td>2009.0</td>\n",
       "      <td>ApplicabilityDomainTutorialDataset_0003</td>\n",
       "      <td>5.45</td>\n",
       "      <td>False</td>\n",
       "      <td>True</td>\n",
       "    </tr>\n",
       "    <tr>\n",
       "      <th>ApplicabilityDomainTutorialDataset_0004</th>\n",
       "      <td>CCCn1c(=O)c2c(nc3cc(OC)ccn32)n(CCCNC(=O)c2ccc(...</td>\n",
       "      <td>5.20</td>\n",
       "      <td>2019.0</td>\n",
       "      <td>ApplicabilityDomainTutorialDataset_0004</td>\n",
       "      <td>5.20</td>\n",
       "      <td>False</td>\n",
       "      <td>True</td>\n",
       "    </tr>\n",
       "    <tr>\n",
       "      <th>...</th>\n",
       "      <td>...</td>\n",
       "      <td>...</td>\n",
       "      <td>...</td>\n",
       "      <td>...</td>\n",
       "      <td>...</td>\n",
       "      <td>...</td>\n",
       "      <td>...</td>\n",
       "    </tr>\n",
       "    <tr>\n",
       "      <th>ApplicabilityDomainTutorialDataset_4077</th>\n",
       "      <td>CNc1ncc(C(=O)NCc2ccc(OC)cc2)c2nc(-c3ccco3)nn12</td>\n",
       "      <td>7.09</td>\n",
       "      <td>2018.0</td>\n",
       "      <td>ApplicabilityDomainTutorialDataset_4077</td>\n",
       "      <td>7.09</td>\n",
       "      <td>False</td>\n",
       "      <td>False</td>\n",
       "    </tr>\n",
       "    <tr>\n",
       "      <th>ApplicabilityDomainTutorialDataset_4078</th>\n",
       "      <td>Nc1nc(-c2ccco2)c2ncn(C(=O)NCCc3ccccc3)c2n1</td>\n",
       "      <td>8.22</td>\n",
       "      <td>2008.0</td>\n",
       "      <td>ApplicabilityDomainTutorialDataset_4078</td>\n",
       "      <td>8.22</td>\n",
       "      <td>False</td>\n",
       "      <td>True</td>\n",
       "    </tr>\n",
       "    <tr>\n",
       "      <th>ApplicabilityDomainTutorialDataset_4079</th>\n",
       "      <td>Nc1nc(CSc2nnc(N)s2)nc(Nc2ccc(F)cc2)n1</td>\n",
       "      <td>4.89</td>\n",
       "      <td>2010.0</td>\n",
       "      <td>ApplicabilityDomainTutorialDataset_4079</td>\n",
       "      <td>4.89</td>\n",
       "      <td>True</td>\n",
       "      <td>False</td>\n",
       "    </tr>\n",
       "    <tr>\n",
       "      <th>ApplicabilityDomainTutorialDataset_4080</th>\n",
       "      <td>CCCOc1ccc(C=Cc2cc3c(c(=O)n(C)c(=O)n3C)n2C)cc1</td>\n",
       "      <td>6.51</td>\n",
       "      <td>2013.0</td>\n",
       "      <td>ApplicabilityDomainTutorialDataset_4080</td>\n",
       "      <td>6.51</td>\n",
       "      <td>False</td>\n",
       "      <td>True</td>\n",
       "    </tr>\n",
       "    <tr>\n",
       "      <th>ApplicabilityDomainTutorialDataset_4081</th>\n",
       "      <td>CCOC(=O)c1cnc(NCC(C)C)n2nc(-c3ccco3)nc12</td>\n",
       "      <td>7.35</td>\n",
       "      <td>2014.0</td>\n",
       "      <td>ApplicabilityDomainTutorialDataset_4081</td>\n",
       "      <td>7.35</td>\n",
       "      <td>False</td>\n",
       "      <td>False</td>\n",
       "    </tr>\n",
       "  </tbody>\n",
       "</table>\n",
       "<p>4082 rows × 7 columns</p>\n",
       "</div>"
      ],
      "text/plain": [
       "                                                                                    SMILES  \\\n",
       "QSPRID                                                                                       \n",
       "ApplicabilityDomainTutorialDataset_0000  Cc1cc(C)n(-c2cc(NC(=O)CCN(C)C)nc(-c3ccc(C)o3)n...   \n",
       "ApplicabilityDomainTutorialDataset_0001  Nc1c(C(=O)Nc2ccc([N+](=O)[O-])cc2)sc2nc3c(cc12...   \n",
       "ApplicabilityDomainTutorialDataset_0002   O=C(Nc1nc2ncccc2n2c(=O)n(-c3ccccc3)nc12)c1ccccc1   \n",
       "ApplicabilityDomainTutorialDataset_0003  CNC(=O)C12CC1C(n1cnc3c(NCc4cccc(Cl)c4)nc(C#CCC...   \n",
       "ApplicabilityDomainTutorialDataset_0004  CCCn1c(=O)c2c(nc3cc(OC)ccn32)n(CCCNC(=O)c2ccc(...   \n",
       "...                                                                                    ...   \n",
       "ApplicabilityDomainTutorialDataset_4077     CNc1ncc(C(=O)NCc2ccc(OC)cc2)c2nc(-c3ccco3)nn12   \n",
       "ApplicabilityDomainTutorialDataset_4078         Nc1nc(-c2ccco2)c2ncn(C(=O)NCCc3ccccc3)c2n1   \n",
       "ApplicabilityDomainTutorialDataset_4079              Nc1nc(CSc2nnc(N)s2)nc(Nc2ccc(F)cc2)n1   \n",
       "ApplicabilityDomainTutorialDataset_4080      CCCOc1ccc(C=Cc2cc3c(c(=O)n(C)c(=O)n3C)n2C)cc1   \n",
       "ApplicabilityDomainTutorialDataset_4081           CCOC(=O)c1cnc(NCC(C)C)n2nc(-c3ccco3)nc12   \n",
       "\n",
       "                                         pchembl_value_Mean    Year  \\\n",
       "QSPRID                                                                \n",
       "ApplicabilityDomainTutorialDataset_0000                8.68  2008.0   \n",
       "ApplicabilityDomainTutorialDataset_0001                4.82  2010.0   \n",
       "ApplicabilityDomainTutorialDataset_0002                5.65  2009.0   \n",
       "ApplicabilityDomainTutorialDataset_0003                5.45  2009.0   \n",
       "ApplicabilityDomainTutorialDataset_0004                5.20  2019.0   \n",
       "...                                                     ...     ...   \n",
       "ApplicabilityDomainTutorialDataset_4077                7.09  2018.0   \n",
       "ApplicabilityDomainTutorialDataset_4078                8.22  2008.0   \n",
       "ApplicabilityDomainTutorialDataset_4079                4.89  2010.0   \n",
       "ApplicabilityDomainTutorialDataset_4080                6.51  2013.0   \n",
       "ApplicabilityDomainTutorialDataset_4081                7.35  2014.0   \n",
       "\n",
       "                                                                          QSPRID  \\\n",
       "QSPRID                                                                             \n",
       "ApplicabilityDomainTutorialDataset_0000  ApplicabilityDomainTutorialDataset_0000   \n",
       "ApplicabilityDomainTutorialDataset_0001  ApplicabilityDomainTutorialDataset_0001   \n",
       "ApplicabilityDomainTutorialDataset_0002  ApplicabilityDomainTutorialDataset_0002   \n",
       "ApplicabilityDomainTutorialDataset_0003  ApplicabilityDomainTutorialDataset_0003   \n",
       "ApplicabilityDomainTutorialDataset_0004  ApplicabilityDomainTutorialDataset_0004   \n",
       "...                                                                          ...   \n",
       "ApplicabilityDomainTutorialDataset_4077  ApplicabilityDomainTutorialDataset_4077   \n",
       "ApplicabilityDomainTutorialDataset_4078  ApplicabilityDomainTutorialDataset_4078   \n",
       "ApplicabilityDomainTutorialDataset_4079  ApplicabilityDomainTutorialDataset_4079   \n",
       "ApplicabilityDomainTutorialDataset_4080  ApplicabilityDomainTutorialDataset_4080   \n",
       "ApplicabilityDomainTutorialDataset_4081  ApplicabilityDomainTutorialDataset_4081   \n",
       "\n",
       "                                         pchembl_value_Mean_original  \\\n",
       "QSPRID                                                                 \n",
       "ApplicabilityDomainTutorialDataset_0000                         8.68   \n",
       "ApplicabilityDomainTutorialDataset_0001                         4.82   \n",
       "ApplicabilityDomainTutorialDataset_0002                         5.65   \n",
       "ApplicabilityDomainTutorialDataset_0003                         5.45   \n",
       "ApplicabilityDomainTutorialDataset_0004                         5.20   \n",
       "...                                                              ...   \n",
       "ApplicabilityDomainTutorialDataset_4077                         7.09   \n",
       "ApplicabilityDomainTutorialDataset_4078                         8.22   \n",
       "ApplicabilityDomainTutorialDataset_4079                         4.89   \n",
       "ApplicabilityDomainTutorialDataset_4080                         6.51   \n",
       "ApplicabilityDomainTutorialDataset_4081                         7.35   \n",
       "\n",
       "                                         Split_IsOutlier  Split_IsTrain  \n",
       "QSPRID                                                                   \n",
       "ApplicabilityDomainTutorialDataset_0000            False           True  \n",
       "ApplicabilityDomainTutorialDataset_0001            False           True  \n",
       "ApplicabilityDomainTutorialDataset_0002            False           True  \n",
       "ApplicabilityDomainTutorialDataset_0003            False           True  \n",
       "ApplicabilityDomainTutorialDataset_0004            False           True  \n",
       "...                                                  ...            ...  \n",
       "ApplicabilityDomainTutorialDataset_4077            False          False  \n",
       "ApplicabilityDomainTutorialDataset_4078            False           True  \n",
       "ApplicabilityDomainTutorialDataset_4079             True          False  \n",
       "ApplicabilityDomainTutorialDataset_4080            False           True  \n",
       "ApplicabilityDomainTutorialDataset_4081            False          False  \n",
       "\n",
       "[4082 rows x 7 columns]"
      ]
     },
     "execution_count": 1,
     "metadata": {},
     "output_type": "execute_result"
    }
   ],
   "source": [
    "# First create the dataset\n",
    "import os\n",
    "\n",
    "from qsprpred.data import QSPRDataset\n",
    "\n",
    "os.makedirs(\"../../tutorial_output/data\", exist_ok=True)\n",
    "\n",
    "dataset = QSPRDataset.fromTableFile(\n",
    "    filename=\"../../tutorial_data/A2A_LIGANDS.tsv\",\n",
    "    store_dir=\"../../tutorial_output/data\",\n",
    "    name=\"ApplicabilityDomainTutorialDataset\",\n",
    "    target_props=[{\"name\": \"pchembl_value_Mean\", \"task\": \"REGRESSION\"}],\n",
    "    random_state=42\n",
    ")\n",
    "\n",
    "dataset.getDF()"
   ]
  },
  {
   "cell_type": "markdown",
   "metadata": {},
   "source": [
    "## Removing outliers\n",
    "\n",
    "Outliers may be removed from the test set using an applicability domain. This is useful if you want to use the test set to evaluate the model performance, but you want to exclude compounds that are very different from the training set. To do this we need to specify the applicability domain of the model, for which we use the `ApplicabilityDomain` class. This class also takes a definition of the applicability domain from `MLChemAD` as input. \n",
    "\n",
    "`MLChemAD` is a package with applicability domain definitions for cheminformatics modelling (https://github.com/OlivierBeq/MLChemAD/tree/master). Here we will use the k-nearest neighbors approach.\n",
    "\n",
    "In `prepareDataset` we can then specify the `applicability_domain` argument and the `drop_outliers` argument to remove the outliers from the test set. The compounds in the test set that are outside the applicability domain of the training set can be accessed through the `Split_IsOutlier` column in the dataset.\n",
    "\n",
    "If we just want to fit the applicability domain, but not remove the outliers, we can set `drop_outliers` to False. This can be useful if you want to use the applicability domain when predicting target properties of new compounds and you want to know if the new compounds are within the applicability domain of the model."
   ]
  },
  {
   "cell_type": "code",
   "execution_count": 2,
   "metadata": {},
   "outputs": [
    {
     "name": "stderr",
     "output_type": "stream",
     "text": [
      "/home/helle/.conda/envs/qsprpred_py310/lib/python3.10/site-packages/sklearn/metrics/pairwise.py:2317: DataConversionWarning: Data was converted to boolean for metric rogerstanimoto\n",
      "  warnings.warn(msg, DataConversionWarning)\n",
      "/home/helle/.conda/envs/qsprpred_py310/lib/python3.10/site-packages/sklearn/metrics/pairwise.py:2317: DataConversionWarning: Data was converted to boolean for metric rogerstanimoto\n",
      "  warnings.warn(msg, DataConversionWarning)\n"
     ]
    },
    {
     "name": "stdout",
     "output_type": "stream",
     "text": [
      "Number of removed compounds: 114\n"
     ]
    },
    {
     "data": {
      "text/html": [
       "<div>\n",
       "<style scoped>\n",
       "    .dataframe tbody tr th:only-of-type {\n",
       "        vertical-align: middle;\n",
       "    }\n",
       "\n",
       "    .dataframe tbody tr th {\n",
       "        vertical-align: top;\n",
       "    }\n",
       "\n",
       "    .dataframe thead th {\n",
       "        text-align: right;\n",
       "    }\n",
       "</style>\n",
       "<table border=\"1\" class=\"dataframe\">\n",
       "  <thead>\n",
       "    <tr style=\"text-align: right;\">\n",
       "      <th></th>\n",
       "      <th>SMILES</th>\n",
       "      <th>pchembl_value_Mean</th>\n",
       "      <th>Year</th>\n",
       "      <th>QSPRID</th>\n",
       "      <th>pchembl_value_Mean_original</th>\n",
       "      <th>Split_IsTrain</th>\n",
       "      <th>Split_IsOutlier</th>\n",
       "    </tr>\n",
       "    <tr>\n",
       "      <th>QSPRID</th>\n",
       "      <th></th>\n",
       "      <th></th>\n",
       "      <th></th>\n",
       "      <th></th>\n",
       "      <th></th>\n",
       "      <th></th>\n",
       "      <th></th>\n",
       "    </tr>\n",
       "  </thead>\n",
       "  <tbody>\n",
       "    <tr>\n",
       "      <th>ApplicabilityDomainTutorialDataset_0025</th>\n",
       "      <td>CN(C)c1ccc(Nc2nc(NC3CCCCC3)c3[nH]cnc3n2)cc1</td>\n",
       "      <td>5.21</td>\n",
       "      <td>2005.0</td>\n",
       "      <td>ApplicabilityDomainTutorialDataset_0025</td>\n",
       "      <td>5.21</td>\n",
       "      <td>False</td>\n",
       "      <td>True</td>\n",
       "    </tr>\n",
       "    <tr>\n",
       "      <th>ApplicabilityDomainTutorialDataset_0056</th>\n",
       "      <td>O=c1[nH]c(-c2cccc(O)c2)cn2c(=O)n(-c3ccccc3)nc12</td>\n",
       "      <td>5.39</td>\n",
       "      <td>2017.0</td>\n",
       "      <td>ApplicabilityDomainTutorialDataset_0056</td>\n",
       "      <td>5.39</td>\n",
       "      <td>False</td>\n",
       "      <td>True</td>\n",
       "    </tr>\n",
       "    <tr>\n",
       "      <th>ApplicabilityDomainTutorialDataset_0076</th>\n",
       "      <td>O=C(NC1CC1)C12CC1C(n1cnc3c(NC4CC5CCC4C5)nc(Cl)...</td>\n",
       "      <td>6.28</td>\n",
       "      <td>2019.0</td>\n",
       "      <td>ApplicabilityDomainTutorialDataset_0076</td>\n",
       "      <td>6.28</td>\n",
       "      <td>False</td>\n",
       "      <td>True</td>\n",
       "    </tr>\n",
       "    <tr>\n",
       "      <th>ApplicabilityDomainTutorialDataset_0080</th>\n",
       "      <td>CCn1c(=O)c2nc(C3CCCC3)[nH]c2n(CC)c1=O</td>\n",
       "      <td>6.80</td>\n",
       "      <td>2019.0</td>\n",
       "      <td>ApplicabilityDomainTutorialDataset_0080</td>\n",
       "      <td>6.80</td>\n",
       "      <td>False</td>\n",
       "      <td>True</td>\n",
       "    </tr>\n",
       "    <tr>\n",
       "      <th>ApplicabilityDomainTutorialDataset_0124</th>\n",
       "      <td>Nc1ncnc2c1ncn2C1C(O)C(O)C2(CO)CC12</td>\n",
       "      <td>4.65</td>\n",
       "      <td>2000.0</td>\n",
       "      <td>ApplicabilityDomainTutorialDataset_0124</td>\n",
       "      <td>4.65</td>\n",
       "      <td>False</td>\n",
       "      <td>True</td>\n",
       "    </tr>\n",
       "  </tbody>\n",
       "</table>\n",
       "</div>"
      ],
      "text/plain": [
       "                                                                                    SMILES  \\\n",
       "QSPRID                                                                                       \n",
       "ApplicabilityDomainTutorialDataset_0025        CN(C)c1ccc(Nc2nc(NC3CCCCC3)c3[nH]cnc3n2)cc1   \n",
       "ApplicabilityDomainTutorialDataset_0056    O=c1[nH]c(-c2cccc(O)c2)cn2c(=O)n(-c3ccccc3)nc12   \n",
       "ApplicabilityDomainTutorialDataset_0076  O=C(NC1CC1)C12CC1C(n1cnc3c(NC4CC5CCC4C5)nc(Cl)...   \n",
       "ApplicabilityDomainTutorialDataset_0080              CCn1c(=O)c2nc(C3CCCC3)[nH]c2n(CC)c1=O   \n",
       "ApplicabilityDomainTutorialDataset_0124                 Nc1ncnc2c1ncn2C1C(O)C(O)C2(CO)CC12   \n",
       "\n",
       "                                         pchembl_value_Mean    Year  \\\n",
       "QSPRID                                                                \n",
       "ApplicabilityDomainTutorialDataset_0025                5.21  2005.0   \n",
       "ApplicabilityDomainTutorialDataset_0056                5.39  2017.0   \n",
       "ApplicabilityDomainTutorialDataset_0076                6.28  2019.0   \n",
       "ApplicabilityDomainTutorialDataset_0080                6.80  2019.0   \n",
       "ApplicabilityDomainTutorialDataset_0124                4.65  2000.0   \n",
       "\n",
       "                                                                          QSPRID  \\\n",
       "QSPRID                                                                             \n",
       "ApplicabilityDomainTutorialDataset_0025  ApplicabilityDomainTutorialDataset_0025   \n",
       "ApplicabilityDomainTutorialDataset_0056  ApplicabilityDomainTutorialDataset_0056   \n",
       "ApplicabilityDomainTutorialDataset_0076  ApplicabilityDomainTutorialDataset_0076   \n",
       "ApplicabilityDomainTutorialDataset_0080  ApplicabilityDomainTutorialDataset_0080   \n",
       "ApplicabilityDomainTutorialDataset_0124  ApplicabilityDomainTutorialDataset_0124   \n",
       "\n",
       "                                         pchembl_value_Mean_original  \\\n",
       "QSPRID                                                                 \n",
       "ApplicabilityDomainTutorialDataset_0025                         5.21   \n",
       "ApplicabilityDomainTutorialDataset_0056                         5.39   \n",
       "ApplicabilityDomainTutorialDataset_0076                         6.28   \n",
       "ApplicabilityDomainTutorialDataset_0080                         6.80   \n",
       "ApplicabilityDomainTutorialDataset_0124                         4.65   \n",
       "\n",
       "                                         Split_IsTrain  Split_IsOutlier  \n",
       "QSPRID                                                                   \n",
       "ApplicabilityDomainTutorialDataset_0025          False             True  \n",
       "ApplicabilityDomainTutorialDataset_0056          False             True  \n",
       "ApplicabilityDomainTutorialDataset_0076          False             True  \n",
       "ApplicabilityDomainTutorialDataset_0080          False             True  \n",
       "ApplicabilityDomainTutorialDataset_0124          False             True  "
      ]
     },
     "execution_count": 2,
     "metadata": {},
     "output_type": "execute_result"
    }
   ],
   "source": [
    "from qsprpred.data.descriptors.fingerprints import MorganFP\n",
    "from qsprpred.data.sampling.splits import RandomSplit\n",
    "from mlchemad.applicability_domains import KNNApplicabilityDomain\n",
    "\n",
    "# define applicability domain\n",
    "applicability_domain = KNNApplicabilityDomain(scaling=None, dist=\"rogerstanimoto\")\n",
    "\n",
    "# calculate compound features and split dataset into train and test\n",
    "dataset.prepareDataset(\n",
    "    split=RandomSplit(test_fraction=0.2, dataset=dataset),\n",
    "    feature_calculators=[MorganFP(radius=3, nBits=2048)],\n",
    "    recalculate_features=True,\n",
    "    applicability_domain=applicability_domain,\n",
    "    drop_outliers=True\n",
    ")\n",
    "\n",
    "dataset.save()\n",
    "\n",
    "# print dropped compounds\n",
    "dropped_compounds = dataset.getDF().query(\"Split_IsOutlier == True\")\n",
    "\n",
    "print(f\"Number of removed compounds: {len(dropped_compounds)}\")\n",
    "\n",
    "dropped_compounds.head()"
   ]
  },
  {
   "cell_type": "markdown",
   "metadata": {},
   "source": [
    "If we now get the features (or targets) from the dataset, we can see that the outliers have been removed from the test set."
   ]
  },
  {
   "cell_type": "code",
   "execution_count": 3,
   "metadata": {},
   "outputs": [
    {
     "name": "stdout",
     "output_type": "stream",
     "text": [
      "Number of compounds in train set: 3265\n",
      "Number of compounds in test set: 703\n",
      "Total number of compounds in train and test: 3968\n",
      "Total number of compounds in whole dataset: 4082\n",
      "Number removed compounds: 114\n"
     ]
    }
   ],
   "source": [
    "X_train, X_test = dataset.getFeatures()\n",
    "y_train, y_test = dataset.getTargetPropertiesValues()\n",
    "\n",
    "print(f\"Number of compounds in train set: {X_train.shape[0]}\")\n",
    "print(f\"Number of compounds in test set: {X_test.shape[0]}\")\n",
    "print(f\"Total number of compounds in train and test: {X_train.shape[0] + X_test.shape[0]}\")\n",
    "\n",
    "# print total number of compounds\n",
    "print(f\"Total number of compounds in whole dataset: {dataset.getDF().shape[0]}\")\n",
    "\n",
    "print(f\"Number removed compounds: {dataset.getDF().shape[0] - (X_train.shape[0] + X_test.shape[0])}\")\n"
   ]
  },
  {
   "cell_type": "markdown",
   "metadata": {},
   "source": [
    "Note. if `concat=True` in `getFeatures` or `getTargetPropertiesValues`, the outliers will not be removed from the dataset.\n",
    "Therefore, when training a `QSPRModel` on the whole dataset with `fitAttached`, all compounds will still be used for training."
   ]
  },
  {
   "cell_type": "code",
   "execution_count": 4,
   "metadata": {},
   "outputs": [
    {
     "data": {
      "text/plain": [
       "(4082, 2048)"
      ]
     },
     "execution_count": 4,
     "metadata": {},
     "output_type": "execute_result"
    }
   ],
   "source": [
    "dataset.getFeatures(concat=True).shape"
   ]
  },
  {
   "cell_type": "markdown",
   "metadata": {},
   "source": [
    "In addition, the removed compounds can be visualized with a TSNE plot, as demonstrated below."
   ]
  },
  {
   "cell_type": "code",
   "execution_count": 5,
   "metadata": {},
   "outputs": [
    {
     "data": {
      "text/plain": [
       "<Axes: >"
      ]
     },
     "execution_count": 5,
     "metadata": {},
     "output_type": "execute_result"
    },
    {
     "data": {
      "image/png": "[encoded data removed]",
      "text/plain": [
       "<Figure size 640x480 with 1 Axes>"
      ]
     },
     "metadata": {},
     "output_type": "display_data"
    }
   ],
   "source": [
    "# make TSNE\n",
    "\n",
    "from sklearn.manifold import TSNE\n",
    "\n",
    "tsne = TSNE(n_components=2)\n",
    "PC = tsne.fit_transform(dataset.getFeatures(concat=True, ordered=True))\n",
    "\n",
    "# plot TSNE\n",
    "\n",
    "# create new column with split information (train/test_inlier/test_outlier)\n",
    "dataset.df[\"Split_Set\"] = dataset.getDF()[\"Split_IsTrain\"].map({True: \"Train\", False: \"Test_inlier\"})\n",
    "dataset.df.loc[dataset.getDF()[\"Split_IsOutlier\"], \"Split_Set\"] = \"Test_outlier\"\n",
    "\n",
    "import seaborn as sns\n",
    "sns.scatterplot(x=PC[:, 0], y=PC[:, 1], hue=dataset.getDF()[\"Split_Set\"], palette={\"Train\": \"grey\", \"Test_inlier\": \"green\", \"Test_outlier\": \"red\"}, s=10, edgecolor=None)"
   ]
  },
  {
   "cell_type": "markdown",
   "metadata": {},
   "source": [
    "# Determining applicability of new compounds\n",
    "\n",
    "Moreover, the applicability domain specified in the dataset preparation can also be used to determine if new compounds are within the applicability domain of the model. If an applicability domain is attached to a dataset used for training a `QSPRModel`, it will be fitted on the whole dataset when the `fitAttached` method is called. The fitted applicability domain will then be attached to the model and when calling the `predictMols` method, it will return a dataframe with the predictions and a dataframe with information about whether the compounds are within the applicability domain of the model or not."
   ]
  },
  {
   "cell_type": "code",
   "execution_count": 6,
   "metadata": {},
   "outputs": [
    {
     "name": "stderr",
     "output_type": "stream",
     "text": [
      "/home/helle/.conda/envs/qsprpred_py310/lib/python3.10/site-packages/tqdm/auto.py:21: TqdmWarning: IProgress not found. Please update jupyter and ipywidgets. See https://ipywidgets.readthedocs.io/en/stable/user_install.html\n",
      "  from .autonotebook import tqdm as notebook_tqdm\n",
      "/home/helle/.conda/envs/qsprpred_py310/lib/python3.10/site-packages/sklearn/metrics/pairwise.py:2317: DataConversionWarning: Data was converted to boolean for metric rogerstanimoto\n",
      "  warnings.warn(msg, DataConversionWarning)\n"
     ]
    },
    {
     "data": {
      "text/plain": [
       "'/zfsdata/data/helle/01_MainProjects/03_QSPRPred/Scripts/QSPRpred/tutorials/tutorial_output/models/ApplicabilityDomainTutorialModel/ApplicabilityDomainTutorialModel_meta.json'"
      ]
     },
     "execution_count": 6,
     "metadata": {},
     "output_type": "execute_result"
    }
   ],
   "source": [
    "from qsprpred.models import SklearnModel\n",
    "from sklearn.neighbors import KNeighborsRegressor\n",
    "\n",
    "os.makedirs(\"../../tutorial_output/models\", exist_ok=True)\n",
    "\n",
    "# initialize model\n",
    "model = SklearnModel(\n",
    "    base_dir=\"../../tutorial_output/models\",\n",
    "    data=dataset,\n",
    "    alg=KNeighborsRegressor,\n",
    "    name=\"ApplicabilityDomainTutorialModel\"\n",
    ")\n",
    "\n",
    "# We need to fit the model on the complete dataset to be able to use the attached applicability domain\n",
    "model.fitAttached()"
   ]
  },
  {
   "cell_type": "code",
   "execution_count": 7,
   "metadata": {},
   "outputs": [
    {
     "name": "stderr",
     "output_type": "stream",
     "text": [
      "/home/helle/.conda/envs/qsprpred_py310/lib/python3.10/site-packages/sklearn/metrics/pairwise.py:2317: DataConversionWarning: Data was converted to boolean for metric rogerstanimoto\n",
      "  warnings.warn(msg, DataConversionWarning)\n"
     ]
    },
    {
     "data": {
      "text/plain": [
       "(array([[6.336],\n",
       "        [8.325],\n",
       "        [4.912]]),\n",
       " array([[ True],\n",
       "        [ True],\n",
       "        [False]]))"
      ]
     },
     "execution_count": 7,
     "metadata": {},
     "output_type": "execute_result"
    }
   ],
   "source": [
    "smiles_list = [\"O=C(Nc1nc2ccccc2n2c(=O)n(-c3ccccc3)nc12)c1ccccc1\",\n",
    "               \"Nc1nc(-c2ccco2)c2ncn(C(=O)NCCc3ccccc3)c2n1\",\n",
    "               \"Nc1nc(CSc2nnc(N)s2)nc(Nc2ccc(Cl)cc2)n1\"]\n",
    "\n",
    "model.predictMols(smiles_list, use_applicability_domain=True)"
   ]
  }
 ],
 "metadata": {
  "kernelspec": {
   "display_name": "qsprpred_py310",
   "language": "python",
   "name": "python3"
  },
  "language_info": {
   "codemirror_mode": {
    "name": "ipython",
    "version": 3
   },
   "file_extension": ".py",
   "mimetype": "text/x-python",
   "name": "python",
   "nbconvert_exporter": "python",
   "pygments_lexer": "ipython3",
   "version": "3.10.13"
  }
 },
 "nbformat": 4,
 "nbformat_minor": 2
}
