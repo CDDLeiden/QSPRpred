{
 "cells": [
  {
   "cell_type": "markdown",
   "metadata": {},
   "source": [
    "# Data Representation\n",
    "\n",
    "In this tutorial, you will learn how data sets are represented in QSPRpred and how you can use the framework to store and prepare data sets not only for QSPR modeling, but general cheminformatics tasks as well."
   ]
  },
  {
   "cell_type": "code",
   "metadata": {
    "collapsed": false,
    "jupyter": {
     "outputs_hidden": false
    },
    "ExecuteTime": {
     "end_time": "2024-09-05T09:01:00.976608Z",
     "start_time": "2024-09-05T09:01:00.722351Z"
    }
   },
   "source": [
    "import pandas as pd\n",
    "\n",
    "df = pd.read_csv(\"../../tutorial_data/A2A_LIGANDS.tsv\", sep=\"\\t\")\n",
    "\n",
    "df.head()"
   ],
   "outputs": [
    {
     "data": {
      "text/plain": [
       "                                              SMILES  pchembl_value_Mean  \\\n",
       "0  Cc1nn(-c2cc(NC(=O)CCN(C)C)nc(-c3ccc(C)o3)n2)c(...                8.68   \n",
       "1  Nc1c(C(=O)Nc2ccc([N+](=O)[O-])cc2)sc2c1cc1CCCC...                4.82   \n",
       "2   O=C(Nc1nc2ncccc2n2c(=O)n(-c3ccccc3)nc12)c1ccccc1                5.65   \n",
       "3  CNC(=O)C12CC1C(n1cnc3c1nc(C#CCCCCC(=O)OC)nc3NC...                5.45   \n",
       "4  CCCn1c(=O)c2c(nc3cc(OC)ccn32)n(CCCNC(=O)c2ccc(...                5.20   \n",
       "\n",
       "     Year  \n",
       "0  2008.0  \n",
       "1  2010.0  \n",
       "2  2009.0  \n",
       "3  2009.0  \n",
       "4  2019.0  "
      ],
      "text/html": [
       "<div>\n",
       "<style scoped>\n",
       "    .dataframe tbody tr th:only-of-type {\n",
       "        vertical-align: middle;\n",
       "    }\n",
       "\n",
       "    .dataframe tbody tr th {\n",
       "        vertical-align: top;\n",
       "    }\n",
       "\n",
       "    .dataframe thead th {\n",
       "        text-align: right;\n",
       "    }\n",
       "</style>\n",
       "<table border=\"1\" class=\"dataframe\">\n",
       "  <thead>\n",
       "    <tr style=\"text-align: right;\">\n",
       "      <th></th>\n",
       "      <th>SMILES</th>\n",
       "      <th>pchembl_value_Mean</th>\n",
       "      <th>Year</th>\n",
       "    </tr>\n",
       "  </thead>\n",
       "  <tbody>\n",
       "    <tr>\n",
       "      <th>0</th>\n",
       "      <td>Cc1nn(-c2cc(NC(=O)CCN(C)C)nc(-c3ccc(C)o3)n2)c(...</td>\n",
       "      <td>8.68</td>\n",
       "      <td>2008.0</td>\n",
       "    </tr>\n",
       "    <tr>\n",
       "      <th>1</th>\n",
       "      <td>Nc1c(C(=O)Nc2ccc([N+](=O)[O-])cc2)sc2c1cc1CCCC...</td>\n",
       "      <td>4.82</td>\n",
       "      <td>2010.0</td>\n",
       "    </tr>\n",
       "    <tr>\n",
       "      <th>2</th>\n",
       "      <td>O=C(Nc1nc2ncccc2n2c(=O)n(-c3ccccc3)nc12)c1ccccc1</td>\n",
       "      <td>5.65</td>\n",
       "      <td>2009.0</td>\n",
       "    </tr>\n",
       "    <tr>\n",
       "      <th>3</th>\n",
       "      <td>CNC(=O)C12CC1C(n1cnc3c1nc(C#CCCCCC(=O)OC)nc3NC...</td>\n",
       "      <td>5.45</td>\n",
       "      <td>2009.0</td>\n",
       "    </tr>\n",
       "    <tr>\n",
       "      <th>4</th>\n",
       "      <td>CCCn1c(=O)c2c(nc3cc(OC)ccn32)n(CCCNC(=O)c2ccc(...</td>\n",
       "      <td>5.20</td>\n",
       "      <td>2019.0</td>\n",
       "    </tr>\n",
       "  </tbody>\n",
       "</table>\n",
       "</div>"
      ]
     },
     "execution_count": 1,
     "metadata": {},
     "output_type": "execute_result"
    }
   ],
   "execution_count": 1
  },
  {
   "cell_type": "markdown",
   "metadata": {},
   "source": [
    "### `MoleculeTable` and `QSPRTable`\n",
    "\n",
    "Let's take a look at the data structures you know from [the quick start](../../quick_start.ipynb) and how they are implemented. The `MoleculeTable` and `QSPRTable` classes are specific for QSPR modelling tasks and implement a selection of interfaces for this purpose. Check out entries for `MoleculeDataSet` and `QSPRDataSet` abstract classes in the [API documentation](https://cddleiden.github.io/QSPRpred/docs/api/modules.html) to see what they offer. The main thing to remember for this tutorial, however, is that `MoleculeTable` adds the ability to add and store molecular descriptors and `QSPRTable` is its subclass, which adds the ability to store information about target properties and modelling tasks. \n",
    "\n",
    "In order to initialize these with their respective constructors, you will need a `ChemStore` object:"
   ]
  },
  {
   "cell_type": "code",
   "metadata": {
    "ExecuteTime": {
     "end_time": "2024-09-05T09:01:06.399766Z",
     "start_time": "2024-09-05T09:01:00.977289Z"
    }
   },
   "source": [
    "from qsprpred.data.chem.identifiers import InchiIdentifier\n",
    "from qsprpred.data.chem.standardizers.papyrus import PapyrusStandardizer\n",
    "from qsprpred.data.storage.tabular.basic_storage import PandasChemStore\n",
    "import os\n",
    "\n",
    "storage = PandasChemStore(\n",
    "    name=\"RepresentationTutorialChemStore\",\n",
    "    path=\"../../tutorial_output/data\",\n",
    "    df=df,\n",
    "    smiles_col=\"SMILES\",\n",
    "    standardizer=PapyrusStandardizer(),  # standardizes the SMILES strings\n",
    "    identifier=InchiIdentifier(),  # generates custom identifiers\n",
    "    n_jobs=os.cpu_count()  # use all available CPUs\n",
    ")\n",
    "storage"
   ],
   "outputs": [
    {
     "data": {
      "text/plain": [
       "PandasChemStore (4082)"
      ]
     },
     "execution_count": 2,
     "metadata": {},
     "output_type": "execute_result"
    }
   ],
   "execution_count": 2
  },
  {
   "metadata": {},
   "cell_type": "markdown",
   "source": "You can read more about the `ChemStore` objects in the [advanced tutorials](../../advanced/data/data_representation.ipynb). In short, they are simply wrappers around a database or a folder structure containing molecules, their properties and other metadata. They support various operations that `MoleculeTable` and `QSPRTable` objects also take advantage of."
  },
  {
   "cell_type": "code",
   "metadata": {
    "ExecuteTime": {
     "end_time": "2024-09-05T09:01:06.406839Z",
     "start_time": "2024-09-05T09:01:06.400433Z"
    }
   },
   "source": [
    "from qsprpred.data import MoleculeTable\n",
    "\n",
    "mt = MoleculeTable(\n",
    "    storage,  # ChemStore object \n",
    "    name=\"RepresentationTutorialMoleculeTable\",\n",
    "    path=\"../../tutorial_output/data\",\n",
    "    # determine where the molecule table associated data will live\n",
    ")\n",
    "mt.getDF()"
   ],
   "outputs": [
    {
     "data": {
      "text/plain": [
       "                                                                        SMILES  \\\n",
       "ID                                                                               \n",
       "AACWUFIIMOHGSO-UHFFFAOYSA-N  Cc1cc(C)n(-c2cc(NC(=O)CCN(C)C)nc(-c3ccc(C)o3)n...   \n",
       "AAEYTMMNWWKSKZ-UHFFFAOYSA-N  Nc1c(C(=O)Nc2ccc([N+](=O)[O-])cc2)sc2nc3c(cc12...   \n",
       "AAGFKZWKWAMJNP-UHFFFAOYSA-N   O=C(Nc1nc2ncccc2n2c(=O)n(-c3ccccc3)nc12)c1ccccc1   \n",
       "AANUKDYJZPKTKN-UHFFFAOYSA-N  CNC(=O)C12CC1C(n1cnc3c(NCc4cccc(Cl)c4)nc(C#CCC...   \n",
       "AASXHCGIIQCKEE-UHFFFAOYSA-N  CCCn1c(=O)c2c(nc3cc(OC)ccn32)n(CCCNC(=O)c2ccc(...   \n",
       "...                                                                        ...   \n",
       "ZYXGKENMDDPQIE-UHFFFAOYSA-N     CNc1ncc(C(=O)NCc2ccc(OC)cc2)c2nc(-c3ccco3)nn12   \n",
       "ZYZWFDVXMLCIOU-UHFFFAOYSA-N         Nc1nc(-c2ccco2)c2ncn(C(=O)NCCc3ccccc3)c2n1   \n",
       "ZZBZWSYDXUPJCT-UHFFFAOYSA-N              Nc1nc(CSc2nnc(N)s2)nc(Nc2ccc(F)cc2)n1   \n",
       "ZZMIPZLRKFEGIA-UHFFFAOYSA-N      CCCOc1ccc(C=Cc2cc3c(c(=O)n(C)c(=O)n3C)n2C)cc1   \n",
       "ZZXIVHBZTITUIW-UHFFFAOYSA-N           CCOC(=O)c1cnc(NCC(C)C)n2nc(-c3ccco3)nc12   \n",
       "\n",
       "                             pchembl_value_Mean    Year  \\\n",
       "ID                                                        \n",
       "AACWUFIIMOHGSO-UHFFFAOYSA-N                8.68  2008.0   \n",
       "AAEYTMMNWWKSKZ-UHFFFAOYSA-N                4.82  2010.0   \n",
       "AAGFKZWKWAMJNP-UHFFFAOYSA-N                5.65  2009.0   \n",
       "AANUKDYJZPKTKN-UHFFFAOYSA-N                5.45  2009.0   \n",
       "AASXHCGIIQCKEE-UHFFFAOYSA-N                5.20  2019.0   \n",
       "...                                         ...     ...   \n",
       "ZYXGKENMDDPQIE-UHFFFAOYSA-N                7.09  2018.0   \n",
       "ZYZWFDVXMLCIOU-UHFFFAOYSA-N                8.22  2008.0   \n",
       "ZZBZWSYDXUPJCT-UHFFFAOYSA-N                4.89  2010.0   \n",
       "ZZMIPZLRKFEGIA-UHFFFAOYSA-N                6.51  2013.0   \n",
       "ZZXIVHBZTITUIW-UHFFFAOYSA-N                7.35  2014.0   \n",
       "\n",
       "                                                               original_smiles  \\\n",
       "ID                                                                               \n",
       "AACWUFIIMOHGSO-UHFFFAOYSA-N  Cc1nn(-c2cc(NC(=O)CCN(C)C)nc(-c3ccc(C)o3)n2)c(...   \n",
       "AAEYTMMNWWKSKZ-UHFFFAOYSA-N  Nc1c(C(=O)Nc2ccc([N+](=O)[O-])cc2)sc2c1cc1CCCC...   \n",
       "AAGFKZWKWAMJNP-UHFFFAOYSA-N   O=C(Nc1nc2ncccc2n2c(=O)n(-c3ccccc3)nc12)c1ccccc1   \n",
       "AANUKDYJZPKTKN-UHFFFAOYSA-N  CNC(=O)C12CC1C(n1cnc3c1nc(C#CCCCCC(=O)OC)nc3NC...   \n",
       "AASXHCGIIQCKEE-UHFFFAOYSA-N  CCCn1c(=O)c2c(nc3cc(OC)ccn32)n(CCCNC(=O)c2ccc(...   \n",
       "...                                                                        ...   \n",
       "ZYXGKENMDDPQIE-UHFFFAOYSA-N     CNc1ncc(C(=O)NCc2ccc(OC)cc2)c2nc(-c3ccco3)nn12   \n",
       "ZYZWFDVXMLCIOU-UHFFFAOYSA-N         Nc1nc(-c2ccco2)c2ncn(C(=O)NCCc3ccccc3)c2n1   \n",
       "ZZBZWSYDXUPJCT-UHFFFAOYSA-N              Nc1nc(Nc2ccc(F)cc2)nc(CSc2nnc(N)s2)n1   \n",
       "ZZMIPZLRKFEGIA-UHFFFAOYSA-N      CCCOc1ccc(C=Cc2cc3c(c(=O)n(C)c(=O)n3C)n2C)cc1   \n",
       "ZZXIVHBZTITUIW-UHFFFAOYSA-N           CCOC(=O)c1cnc(NCC(C)C)n2nc(-c3ccco3)nc12   \n",
       "\n",
       "                                                      ID  \\\n",
       "ID                                                         \n",
       "AACWUFIIMOHGSO-UHFFFAOYSA-N  AACWUFIIMOHGSO-UHFFFAOYSA-N   \n",
       "AAEYTMMNWWKSKZ-UHFFFAOYSA-N  AAEYTMMNWWKSKZ-UHFFFAOYSA-N   \n",
       "AAGFKZWKWAMJNP-UHFFFAOYSA-N  AAGFKZWKWAMJNP-UHFFFAOYSA-N   \n",
       "AANUKDYJZPKTKN-UHFFFAOYSA-N  AANUKDYJZPKTKN-UHFFFAOYSA-N   \n",
       "AASXHCGIIQCKEE-UHFFFAOYSA-N  AASXHCGIIQCKEE-UHFFFAOYSA-N   \n",
       "...                                                  ...   \n",
       "ZYXGKENMDDPQIE-UHFFFAOYSA-N  ZYXGKENMDDPQIE-UHFFFAOYSA-N   \n",
       "ZYZWFDVXMLCIOU-UHFFFAOYSA-N  ZYZWFDVXMLCIOU-UHFFFAOYSA-N   \n",
       "ZZBZWSYDXUPJCT-UHFFFAOYSA-N  ZZBZWSYDXUPJCT-UHFFFAOYSA-N   \n",
       "ZZMIPZLRKFEGIA-UHFFFAOYSA-N  ZZMIPZLRKFEGIA-UHFFFAOYSA-N   \n",
       "ZZXIVHBZTITUIW-UHFFFAOYSA-N  ZZXIVHBZTITUIW-UHFFFAOYSA-N   \n",
       "\n",
       "                                                         ID_before_change  \n",
       "ID                                                                         \n",
       "AACWUFIIMOHGSO-UHFFFAOYSA-N  RepresentationTutorialChemStore_library_0000  \n",
       "AAEYTMMNWWKSKZ-UHFFFAOYSA-N  RepresentationTutorialChemStore_library_0001  \n",
       "AAGFKZWKWAMJNP-UHFFFAOYSA-N  RepresentationTutorialChemStore_library_0002  \n",
       "AANUKDYJZPKTKN-UHFFFAOYSA-N  RepresentationTutorialChemStore_library_0003  \n",
       "AASXHCGIIQCKEE-UHFFFAOYSA-N  RepresentationTutorialChemStore_library_0004  \n",
       "...                                                                   ...  \n",
       "ZYXGKENMDDPQIE-UHFFFAOYSA-N  RepresentationTutorialChemStore_library_4077  \n",
       "ZYZWFDVXMLCIOU-UHFFFAOYSA-N  RepresentationTutorialChemStore_library_4078  \n",
       "ZZBZWSYDXUPJCT-UHFFFAOYSA-N  RepresentationTutorialChemStore_library_4079  \n",
       "ZZMIPZLRKFEGIA-UHFFFAOYSA-N  RepresentationTutorialChemStore_library_4080  \n",
       "ZZXIVHBZTITUIW-UHFFFAOYSA-N  RepresentationTutorialChemStore_library_4081  \n",
       "\n",
       "[4082 rows x 6 columns]"
      ],
      "text/html": [
       "<div>\n",
       "<style scoped>\n",
       "    .dataframe tbody tr th:only-of-type {\n",
       "        vertical-align: middle;\n",
       "    }\n",
       "\n",
       "    .dataframe tbody tr th {\n",
       "        vertical-align: top;\n",
       "    }\n",
       "\n",
       "    .dataframe thead th {\n",
       "        text-align: right;\n",
       "    }\n",
       "</style>\n",
       "<table border=\"1\" class=\"dataframe\">\n",
       "  <thead>\n",
       "    <tr style=\"text-align: right;\">\n",
       "      <th></th>\n",
       "      <th>SMILES</th>\n",
       "      <th>pchembl_value_Mean</th>\n",
       "      <th>Year</th>\n",
       "      <th>original_smiles</th>\n",
       "      <th>ID</th>\n",
       "      <th>ID_before_change</th>\n",
       "    </tr>\n",
       "    <tr>\n",
       "      <th>ID</th>\n",
       "      <th></th>\n",
       "      <th></th>\n",
       "      <th></th>\n",
       "      <th></th>\n",
       "      <th></th>\n",
       "      <th></th>\n",
       "    </tr>\n",
       "  </thead>\n",
       "  <tbody>\n",
       "    <tr>\n",
       "      <th>AACWUFIIMOHGSO-UHFFFAOYSA-N</th>\n",
       "      <td>Cc1cc(C)n(-c2cc(NC(=O)CCN(C)C)nc(-c3ccc(C)o3)n...</td>\n",
       "      <td>8.68</td>\n",
       "      <td>2008.0</td>\n",
       "      <td>Cc1nn(-c2cc(NC(=O)CCN(C)C)nc(-c3ccc(C)o3)n2)c(...</td>\n",
       "      <td>AACWUFIIMOHGSO-UHFFFAOYSA-N</td>\n",
       "      <td>RepresentationTutorialChemStore_library_0000</td>\n",
       "    </tr>\n",
       "    <tr>\n",
       "      <th>AAEYTMMNWWKSKZ-UHFFFAOYSA-N</th>\n",
       "      <td>Nc1c(C(=O)Nc2ccc([N+](=O)[O-])cc2)sc2nc3c(cc12...</td>\n",
       "      <td>4.82</td>\n",
       "      <td>2010.0</td>\n",
       "      <td>Nc1c(C(=O)Nc2ccc([N+](=O)[O-])cc2)sc2c1cc1CCCC...</td>\n",
       "      <td>AAEYTMMNWWKSKZ-UHFFFAOYSA-N</td>\n",
       "      <td>RepresentationTutorialChemStore_library_0001</td>\n",
       "    </tr>\n",
       "    <tr>\n",
       "      <th>AAGFKZWKWAMJNP-UHFFFAOYSA-N</th>\n",
       "      <td>O=C(Nc1nc2ncccc2n2c(=O)n(-c3ccccc3)nc12)c1ccccc1</td>\n",
       "      <td>5.65</td>\n",
       "      <td>2009.0</td>\n",
       "      <td>O=C(Nc1nc2ncccc2n2c(=O)n(-c3ccccc3)nc12)c1ccccc1</td>\n",
       "      <td>AAGFKZWKWAMJNP-UHFFFAOYSA-N</td>\n",
       "      <td>RepresentationTutorialChemStore_library_0002</td>\n",
       "    </tr>\n",
       "    <tr>\n",
       "      <th>AANUKDYJZPKTKN-UHFFFAOYSA-N</th>\n",
       "      <td>CNC(=O)C12CC1C(n1cnc3c(NCc4cccc(Cl)c4)nc(C#CCC...</td>\n",
       "      <td>5.45</td>\n",
       "      <td>2009.0</td>\n",
       "      <td>CNC(=O)C12CC1C(n1cnc3c1nc(C#CCCCCC(=O)OC)nc3NC...</td>\n",
       "      <td>AANUKDYJZPKTKN-UHFFFAOYSA-N</td>\n",
       "      <td>RepresentationTutorialChemStore_library_0003</td>\n",
       "    </tr>\n",
       "    <tr>\n",
       "      <th>AASXHCGIIQCKEE-UHFFFAOYSA-N</th>\n",
       "      <td>CCCn1c(=O)c2c(nc3cc(OC)ccn32)n(CCCNC(=O)c2ccc(...</td>\n",
       "      <td>5.20</td>\n",
       "      <td>2019.0</td>\n",
       "      <td>CCCn1c(=O)c2c(nc3cc(OC)ccn32)n(CCCNC(=O)c2ccc(...</td>\n",
       "      <td>AASXHCGIIQCKEE-UHFFFAOYSA-N</td>\n",
       "      <td>RepresentationTutorialChemStore_library_0004</td>\n",
       "    </tr>\n",
       "    <tr>\n",
       "      <th>...</th>\n",
       "      <td>...</td>\n",
       "      <td>...</td>\n",
       "      <td>...</td>\n",
       "      <td>...</td>\n",
       "      <td>...</td>\n",
       "      <td>...</td>\n",
       "    </tr>\n",
       "    <tr>\n",
       "      <th>ZYXGKENMDDPQIE-UHFFFAOYSA-N</th>\n",
       "      <td>CNc1ncc(C(=O)NCc2ccc(OC)cc2)c2nc(-c3ccco3)nn12</td>\n",
       "      <td>7.09</td>\n",
       "      <td>2018.0</td>\n",
       "      <td>CNc1ncc(C(=O)NCc2ccc(OC)cc2)c2nc(-c3ccco3)nn12</td>\n",
       "      <td>ZYXGKENMDDPQIE-UHFFFAOYSA-N</td>\n",
       "      <td>RepresentationTutorialChemStore_library_4077</td>\n",
       "    </tr>\n",
       "    <tr>\n",
       "      <th>ZYZWFDVXMLCIOU-UHFFFAOYSA-N</th>\n",
       "      <td>Nc1nc(-c2ccco2)c2ncn(C(=O)NCCc3ccccc3)c2n1</td>\n",
       "      <td>8.22</td>\n",
       "      <td>2008.0</td>\n",
       "      <td>Nc1nc(-c2ccco2)c2ncn(C(=O)NCCc3ccccc3)c2n1</td>\n",
       "      <td>ZYZWFDVXMLCIOU-UHFFFAOYSA-N</td>\n",
       "      <td>RepresentationTutorialChemStore_library_4078</td>\n",
       "    </tr>\n",
       "    <tr>\n",
       "      <th>ZZBZWSYDXUPJCT-UHFFFAOYSA-N</th>\n",
       "      <td>Nc1nc(CSc2nnc(N)s2)nc(Nc2ccc(F)cc2)n1</td>\n",
       "      <td>4.89</td>\n",
       "      <td>2010.0</td>\n",
       "      <td>Nc1nc(Nc2ccc(F)cc2)nc(CSc2nnc(N)s2)n1</td>\n",
       "      <td>ZZBZWSYDXUPJCT-UHFFFAOYSA-N</td>\n",
       "      <td>RepresentationTutorialChemStore_library_4079</td>\n",
       "    </tr>\n",
       "    <tr>\n",
       "      <th>ZZMIPZLRKFEGIA-UHFFFAOYSA-N</th>\n",
       "      <td>CCCOc1ccc(C=Cc2cc3c(c(=O)n(C)c(=O)n3C)n2C)cc1</td>\n",
       "      <td>6.51</td>\n",
       "      <td>2013.0</td>\n",
       "      <td>CCCOc1ccc(C=Cc2cc3c(c(=O)n(C)c(=O)n3C)n2C)cc1</td>\n",
       "      <td>ZZMIPZLRKFEGIA-UHFFFAOYSA-N</td>\n",
       "      <td>RepresentationTutorialChemStore_library_4080</td>\n",
       "    </tr>\n",
       "    <tr>\n",
       "      <th>ZZXIVHBZTITUIW-UHFFFAOYSA-N</th>\n",
       "      <td>CCOC(=O)c1cnc(NCC(C)C)n2nc(-c3ccco3)nc12</td>\n",
       "      <td>7.35</td>\n",
       "      <td>2014.0</td>\n",
       "      <td>CCOC(=O)c1cnc(NCC(C)C)n2nc(-c3ccco3)nc12</td>\n",
       "      <td>ZZXIVHBZTITUIW-UHFFFAOYSA-N</td>\n",
       "      <td>RepresentationTutorialChemStore_library_4081</td>\n",
       "    </tr>\n",
       "  </tbody>\n",
       "</table>\n",
       "<p>4082 rows × 6 columns</p>\n",
       "</div>"
      ]
     },
     "execution_count": 3,
     "metadata": {},
     "output_type": "execute_result"
    }
   ],
   "execution_count": 3
  },
  {
   "cell_type": "markdown",
   "metadata": {},
   "source": "One of the features of the `ChemStore` and also `MoleculeTable` is the ability to iterate over molecules in a convenient way: "
  },
  {
   "cell_type": "code",
   "metadata": {
    "ExecuteTime": {
     "end_time": "2024-09-05T09:01:06.424989Z",
     "start_time": "2024-09-05T09:01:06.407748Z"
    }
   },
   "source": [
    "for mol in mt:\n",
    "    print(mol)\n",
    "    print(mol.as_rd_mol())\n",
    "    print(mol.smiles)\n",
    "    print(mol.props)\n",
    "    print(mol.representations)\n",
    "    break"
   ],
   "outputs": [
    {
     "name": "stdout",
     "output_type": "stream",
     "text": [
      "TabularMol (AACWUFIIMOHGSO-UHFFFAOYSA-N, Cc1cc(C)n(-c2cc(NC(=O)CCN(C)C)nc(-c3ccc(C)o3)n2)n1)\n",
      "<rdkit.Chem.rdchem.Mol object at 0x7fef6c54cba0>\n",
      "Cc1cc(C)n(-c2cc(NC(=O)CCN(C)C)nc(-c3ccc(C)o3)n2)n1\n",
      "{'Year': 2008.0, 'ID_before_change': 'RepresentationTutorialChemStore_library_0000', 'SMILES': 'Cc1cc(C)n(-c2cc(NC(=O)CCN(C)C)nc(-c3ccc(C)o3)n2)n1', 'pchembl_value_Mean': 8.68, 'ID': 'AACWUFIIMOHGSO-UHFFFAOYSA-N', 'original_smiles': 'Cc1nn(-c2cc(NC(=O)CCN(C)C)nc(-c3ccc(C)o3)n2)c(C)c1'}\n",
      "None\n"
     ]
    }
   ],
   "execution_count": 4
  },
  {
   "cell_type": "markdown",
   "metadata": {},
   "source": "However, `ChemStore` objects are also subscriptable, which is also true for `MoleculeTable` objects:"
  },
  {
   "cell_type": "code",
   "metadata": {
    "ExecuteTime": {
     "end_time": "2024-09-05T09:01:06.435885Z",
     "start_time": "2024-09-05T09:01:06.425515Z"
    }
   },
   "source": [
    "mt['AACWUFIIMOHGSO-UHFFFAOYSA-N'].props"
   ],
   "outputs": [
    {
     "data": {
      "text/plain": [
       "{'SMILES': 'Cc1cc(C)n(-c2cc(NC(=O)CCN(C)C)nc(-c3ccc(C)o3)n2)n1',\n",
       " 'pchembl_value_Mean': 8.68,\n",
       " 'Year': 2008.0,\n",
       " 'original_smiles': 'Cc1nn(-c2cc(NC(=O)CCN(C)C)nc(-c3ccc(C)o3)n2)c(C)c1',\n",
       " 'ID': 'AACWUFIIMOHGSO-UHFFFAOYSA-N',\n",
       " 'ID_before_change': 'RepresentationTutorialChemStore_library_0000'}"
      ]
     },
     "execution_count": 5,
     "metadata": {},
     "output_type": "execute_result"
    }
   ],
   "execution_count": 5
  },
  {
   "cell_type": "markdown",
   "metadata": {},
   "source": [
    "There are many more convenience features like this, and we recommend you to check out the [API documentation](https://cddleiden.github.io/QSPRpred/docs/api/modules.html) or the [advanced tutorials](../../advanced/data/data_representation.ipynb) to learn more about them.\n",
    "\n",
    "As already mentioned, `QSPRTable` is a subclass of `MoleculeTable`, which requires target properties to be defined in addition to the underlying `ChemStore` object:"
   ]
  },
  {
   "cell_type": "code",
   "metadata": {
    "ExecuteTime": {
     "end_time": "2024-09-05T09:01:06.446193Z",
     "start_time": "2024-09-05T09:01:06.436509Z"
    }
   },
   "source": [
    "from qsprpred import TargetTasks, TargetProperty\n",
    "\n",
    "from qsprpred.data import QSPRTable\n",
    "\n",
    "dataset = QSPRTable(\n",
    "    storage,  # ChemStore object\n",
    "    name=\"RepresentationTutorialDataset\",\n",
    "    path=\"../../tutorial_output/data\",\n",
    "    target_props=[TargetProperty(\"pchembl_value_Mean\", TargetTasks.REGRESSION)]\n",
    ")\n",
    "dataset.targetProperties"
   ],
   "outputs": [
    {
     "data": {
      "text/plain": [
       "[TargetProperty(name=pchembl_value_Mean, task=REGRESSION)]"
      ]
     },
     "execution_count": 6,
     "metadata": {},
     "output_type": "execute_result"
    }
   ],
   "execution_count": 6
  },
  {
   "cell_type": "markdown",
   "metadata": {},
   "source": "But you can also create it by converting from a `MoleculeTable` object directly:"
  },
  {
   "cell_type": "code",
   "metadata": {
    "ExecuteTime": {
     "end_time": "2024-09-05T09:01:06.459242Z",
     "start_time": "2024-09-05T09:01:06.446717Z"
    }
   },
   "source": [
    "dataset = QSPRTable.fromMolTable(mt, target_props=[\n",
    "    TargetProperty(\"pchembl_value_Mean\", TargetTasks.REGRESSION)\n",
    "])\n",
    "dataset.targetProperties"
   ],
   "outputs": [
    {
     "data": {
      "text/plain": [
       "[TargetProperty(name=pchembl_value_Mean, task=REGRESSION)]"
      ]
     },
     "execution_count": 7,
     "metadata": {},
     "output_type": "execute_result"
    }
   ],
   "execution_count": 7
  },
  {
   "cell_type": "markdown",
   "metadata": {},
   "source": "However, if you already have a data frame prepared, you can use it directly with the `fromDF` method:"
  },
  {
   "cell_type": "code",
   "metadata": {
    "ExecuteTime": {
     "end_time": "2024-09-05T09:01:06.481746Z",
     "start_time": "2024-09-05T09:01:06.459781Z"
    }
   },
   "source": [
    "dataset = QSPRTable.fromDF(\n",
    "    name=\"RepresentationTutorialDataset\",\n",
    "    df=df,\n",
    "    path=\"../../tutorial_output/data\",\n",
    "    target_props=[TargetProperty(\"pchembl_value_Mean\", TargetTasks.REGRESSION)],\n",
    "    smiles_col=\"SMILES\"\n",
    ")\n",
    "dataset.targetProperties"
   ],
   "outputs": [
    {
     "data": {
      "text/plain": [
       "[TargetProperty(name=pchembl_value_Mean, task=REGRESSION)]"
      ]
     },
     "execution_count": 8,
     "metadata": {},
     "output_type": "execute_result"
    }
   ],
   "execution_count": 8
  },
  {
   "metadata": {},
   "cell_type": "markdown",
   "source": "This will create the `ChemStore` object for you:"
  },
  {
   "cell_type": "code",
   "metadata": {
    "ExecuteTime": {
     "end_time": "2024-09-05T09:01:06.484202Z",
     "start_time": "2024-09-05T09:01:06.482245Z"
    }
   },
   "source": [
    "dataset.storage"
   ],
   "outputs": [
    {
     "data": {
      "text/plain": [
       "PandasChemStore (4082)"
      ]
     },
     "execution_count": 9,
     "metadata": {},
     "output_type": "execute_result"
    }
   ],
   "execution_count": 9
  },
  {
   "cell_type": "markdown",
   "metadata": {},
   "source": [
    "This has some drawbacks, however. Note that it will not apply standardization and unique identification to the structures for you like in the example above where we initialized the storage ourselves. It assumes you have already done the work and will prepare the compounds also before using the resulting models for prediction. You can find out more about standardization in the [advanced tutorial](../../advanced/data/data_representation.ipynb).\n",
    "\n",
    "### Saving and Loading\n",
    "\n",
    "The data structures in QSPRpred are also designed to be easily saved and reloaded from files to persist changes. We can easily save the data set to a file like this:"
   ]
  },
  {
   "cell_type": "code",
   "metadata": {
    "collapsed": false,
    "jupyter": {
     "outputs_hidden": false
    },
    "ExecuteTime": {
     "end_time": "2024-09-05T09:01:06.501822Z",
     "start_time": "2024-09-05T09:01:06.484723Z"
    }
   },
   "source": [
    "dataset.save()"
   ],
   "outputs": [],
   "execution_count": 10
  },
  {
   "cell_type": "markdown",
   "metadata": {},
   "source": [
    "This will save the data set into a folder we specified upon creation:"
   ]
  },
  {
   "cell_type": "code",
   "metadata": {
    "ExecuteTime": {
     "end_time": "2024-09-05T09:01:06.505513Z",
     "start_time": "2024-09-05T09:01:06.503323Z"
    }
   },
   "source": [
    "dataset.path"
   ],
   "outputs": [
    {
     "data": {
      "text/plain": [
       "'/home/sichom/projects/QSPRpred/tutorials/tutorial_output/data/RepresentationTutorialDataset'"
      ]
     },
     "execution_count": 11,
     "metadata": {},
     "output_type": "execute_result"
    }
   ],
   "execution_count": 11
  },
  {
   "cell_type": "markdown",
   "metadata": {},
   "source": [
    "It will also update or save the underlying `ChemStore` object, which also lives in the same folder:"
   ]
  },
  {
   "cell_type": "code",
   "metadata": {
    "ExecuteTime": {
     "end_time": "2024-09-05T09:01:06.508055Z",
     "start_time": "2024-09-05T09:01:06.506040Z"
    }
   },
   "source": [
    "dataset.storage.path"
   ],
   "outputs": [
    {
     "data": {
      "text/plain": [
       "'/home/sichom/projects/QSPRpred/tutorials/tutorial_output/data/RepresentationTutorialDataset_storage'"
      ]
     },
     "execution_count": 12,
     "metadata": {},
     "output_type": "execute_result"
    }
   ],
   "execution_count": 12
  },
  {
   "cell_type": "markdown",
   "metadata": {},
   "source": [
    "Therefore, storages and data sets can live in different folders and can be shared between projects. That means you can use the same storage for both your QSPR modelling and your docking project, for example. Both projects will have access to all data in your storage even if it changes over time, which can be useful for data management. \n",
    "\n",
    "Reloading the data set is easy as well. Every instance gets a `fromFile` method that can be used to reload the instance from a saved snapshot:"
   ]
  },
  {
   "cell_type": "code",
   "metadata": {
    "collapsed": false,
    "jupyter": {
     "outputs_hidden": false
    },
    "ExecuteTime": {
     "end_time": "2024-09-05T09:01:06.527864Z",
     "start_time": "2024-09-05T09:01:06.508577Z"
    }
   },
   "source": [
    "dataset = QSPRTable.fromFile(\n",
    "    f\"{dataset.path}/meta.json\"\n",
    ")\n",
    "dataset.targetProperties"
   ],
   "outputs": [
    {
     "data": {
      "text/plain": [
       "[TargetProperty(name=pchembl_value_Mean, task=REGRESSION)]"
      ]
     },
     "execution_count": 13,
     "metadata": {},
     "output_type": "execute_result"
    }
   ],
   "execution_count": 13
  },
  {
   "cell_type": "markdown",
   "metadata": {},
   "source": [
    "### Calculating Molecular Descriptors\n",
    "\n",
    "Once you have settled on your preferred data structure and standardized your data set, you can start calculating descriptors. The package already contains many descriptor implementations, but you can also easily add your own. We encourage you to check out the [descriptor tutorial](descriptors.ipynb) to learn more, but for the sake of completeness here is a simple example with Morgan fingerprints and RDKit descriptors:"
   ]
  },
  {
   "cell_type": "code",
   "metadata": {
    "collapsed": false,
    "jupyter": {
     "outputs_hidden": false
    },
    "ExecuteTime": {
     "end_time": "2024-09-05T09:01:34.712887Z",
     "start_time": "2024-09-05T09:01:06.528599Z"
    }
   },
   "source": [
    "from qsprpred.data.descriptors.fingerprints import MorganFP\n",
    "from qsprpred.data.descriptors.sets import RDKitDescs\n",
    "\n",
    "dataset.addDescriptors([MorganFP(radius=3, nBits=2048), RDKitDescs()])"
   ],
   "outputs": [],
   "execution_count": 14
  },
  {
   "cell_type": "markdown",
   "metadata": {},
   "source": [
    "Notice that since we are using the `PandasChemStore` as `ChemStore` for the data set, we can also speed these calculations up with parallelization:"
   ]
  },
  {
   "cell_type": "code",
   "metadata": {
    "ExecuteTime": {
     "end_time": "2024-09-05T09:01:34.715979Z",
     "start_time": "2024-09-05T09:01:34.713828Z"
    }
   },
   "source": [
    "dataset.nJobs = os.cpu_count()"
   ],
   "outputs": [],
   "execution_count": 15
  },
  {
   "cell_type": "code",
   "metadata": {
    "ExecuteTime": {
     "end_time": "2024-09-05T09:01:37.275934Z",
     "start_time": "2024-09-05T09:01:34.716607Z"
    }
   },
   "source": [
    "dataset.addDescriptors([MorganFP(radius=3, nBits=2048), RDKitDescs()], recalculate=True)"
   ],
   "outputs": [],
   "execution_count": 16
  },
  {
   "cell_type": "markdown",
   "metadata": {},
   "source": [
    "**Note:** More details on parallelization through storages can be found in the [advanced tutorials](../../advanced/data/parallelization.ipynb).\n",
    "\n",
    "Descriptors are kept in their own wrapped tables, which can be accessed with the `descriptors` attribute:"
   ]
  },
  {
   "cell_type": "code",
   "metadata": {
    "ExecuteTime": {
     "end_time": "2024-09-05T09:01:37.279834Z",
     "start_time": "2024-09-05T09:01:37.277220Z"
    }
   },
   "source": [
    "dataset.descriptors"
   ],
   "outputs": [
    {
     "data": {
      "text/plain": [
       "[DescriptorTable (4082), DescriptorTable (4082)]"
      ]
     },
     "execution_count": 17,
     "metadata": {},
     "output_type": "execute_result"
    }
   ],
   "execution_count": 17
  },
  {
   "cell_type": "markdown",
   "metadata": {},
   "source": "For your convenience, these are nothing else, but specialized implementations of `PandasDataTable` objects, so you can use all the methods and attributes on them as well:"
  },
  {
   "cell_type": "code",
   "metadata": {
    "ExecuteTime": {
     "end_time": "2024-09-05T09:01:37.305917Z",
     "start_time": "2024-09-05T09:01:37.280321Z"
    }
   },
   "source": [
    "dataset.descriptors[1].getDF()"
   ],
   "outputs": [
    {
     "data": {
      "text/plain": [
       "                             RDkit_AvgIpc  RDkit_BCUT2D_CHGHI  \\\n",
       "ID                                                              \n",
       "CMCQWYYGEHUAAM-UHFFFAOYSA-N      3.143164            2.149394   \n",
       "CMGVRLPXTCGYEI-UHFFFAOYSA-N      3.560957            2.208343   \n",
       "CMHQDWHZIUMRGC-UHFFFAOYSA-N      3.444091            2.472842   \n",
       "CMLKEDYTLQARSM-UHFFFAOYSA-N      3.232592            2.132376   \n",
       "CMMXTSNUEHRJEY-UHFFFAOYSA-N      3.285367            2.436150   \n",
       "...                                   ...                 ...   \n",
       "UNFCWBZGDOODJH-UHFFFAOYSA-N      3.250113            2.136462   \n",
       "UNGUJUIOUVNWBB-UHFFFAOYSA-N      3.212292            2.172590   \n",
       "UNGYPXFMYYJLOR-UHFFFAOYSA-N      3.134793            2.193445   \n",
       "UNIUKKWPGRGSRQ-UHFFFAOYSA-N      2.636158            2.129917   \n",
       "UNLGWYRVPNGNSX-UHFFFAOYSA-N      3.169585            2.196899   \n",
       "\n",
       "                             RDkit_BCUT2D_CHGLO  RDkit_BCUT2D_LOGPHI  \\\n",
       "ID                                                                     \n",
       "CMCQWYYGEHUAAM-UHFFFAOYSA-N           -2.213343             2.314176   \n",
       "CMGVRLPXTCGYEI-UHFFFAOYSA-N           -2.143250             2.270584   \n",
       "CMHQDWHZIUMRGC-UHFFFAOYSA-N           -2.163351             2.325829   \n",
       "CMLKEDYTLQARSM-UHFFFAOYSA-N           -2.032054             2.300074   \n",
       "CMMXTSNUEHRJEY-UHFFFAOYSA-N           -2.162489             2.318410   \n",
       "...                                         ...                  ...   \n",
       "UNFCWBZGDOODJH-UHFFFAOYSA-N           -2.051518             2.313299   \n",
       "UNGUJUIOUVNWBB-UHFFFAOYSA-N           -2.078829             2.231658   \n",
       "UNGYPXFMYYJLOR-UHFFFAOYSA-N           -2.086792             2.239148   \n",
       "UNIUKKWPGRGSRQ-UHFFFAOYSA-N           -2.014148             2.409279   \n",
       "UNLGWYRVPNGNSX-UHFFFAOYSA-N           -2.194941             2.391314   \n",
       "\n",
       "                             RDkit_BCUT2D_LOGPLOW  RDkit_BCUT2D_MRHI  \\\n",
       "ID                                                                     \n",
       "CMCQWYYGEHUAAM-UHFFFAOYSA-N             -2.255821           7.182521   \n",
       "CMGVRLPXTCGYEI-UHFFFAOYSA-N             -2.221644           5.898911   \n",
       "CMHQDWHZIUMRGC-UHFFFAOYSA-N             -2.421564           7.118022   \n",
       "CMLKEDYTLQARSM-UHFFFAOYSA-N             -2.040877           7.208708   \n",
       "CMMXTSNUEHRJEY-UHFFFAOYSA-N             -2.326463           5.826612   \n",
       "...                                           ...                ...   \n",
       "UNFCWBZGDOODJH-UHFFFAOYSA-N             -2.086214           7.208439   \n",
       "UNGUJUIOUVNWBB-UHFFFAOYSA-N             -2.179798           5.897337   \n",
       "UNGYPXFMYYJLOR-UHFFFAOYSA-N             -2.203306           6.058907   \n",
       "UNIUKKWPGRGSRQ-UHFFFAOYSA-N             -1.750494           9.109511   \n",
       "UNLGWYRVPNGNSX-UHFFFAOYSA-N             -2.273769           7.226321   \n",
       "\n",
       "                             RDkit_BCUT2D_MRLOW  RDkit_BCUT2D_MWHI  \\\n",
       "ID                                                                   \n",
       "CMCQWYYGEHUAAM-UHFFFAOYSA-N            0.293136          35.495705   \n",
       "CMGVRLPXTCGYEI-UHFFFAOYSA-N            0.268010          16.465364   \n",
       "CMHQDWHZIUMRGC-UHFFFAOYSA-N           -0.137029          35.495701   \n",
       "CMLKEDYTLQARSM-UHFFFAOYSA-N            1.096688          32.134693   \n",
       "CMMXTSNUEHRJEY-UHFFFAOYSA-N           -0.051069          16.634863   \n",
       "...                                         ...                ...   \n",
       "UNFCWBZGDOODJH-UHFFFAOYSA-N            0.581795          32.133545   \n",
       "UNGUJUIOUVNWBB-UHFFFAOYSA-N            0.207708          16.333868   \n",
       "UNGYPXFMYYJLOR-UHFFFAOYSA-N            0.102176          16.153765   \n",
       "UNIUKKWPGRGSRQ-UHFFFAOYSA-N            0.469374          79.919762   \n",
       "UNLGWYRVPNGNSX-UHFFFAOYSA-N           -0.116040          32.133549   \n",
       "\n",
       "                             RDkit_BCUT2D_MWLOW  RDkit_BalabanJ  ...  \\\n",
       "ID                                                               ...   \n",
       "CMCQWYYGEHUAAM-UHFFFAOYSA-N           10.220235        1.674376  ...   \n",
       "CMGVRLPXTCGYEI-UHFFFAOYSA-N           10.118351        1.270270  ...   \n",
       "CMHQDWHZIUMRGC-UHFFFAOYSA-N           10.109233        1.600798  ...   \n",
       "CMLKEDYTLQARSM-UHFFFAOYSA-N           10.432814        1.666281  ...   \n",
       "CMMXTSNUEHRJEY-UHFFFAOYSA-N           10.128347        1.777639  ...   \n",
       "...                                         ...             ...  ...   \n",
       "UNFCWBZGDOODJH-UHFFFAOYSA-N           10.149388        1.536101  ...   \n",
       "UNGUJUIOUVNWBB-UHFFFAOYSA-N           10.374295        1.943525  ...   \n",
       "UNGYPXFMYYJLOR-UHFFFAOYSA-N           10.187603        1.779438  ...   \n",
       "UNIUKKWPGRGSRQ-UHFFFAOYSA-N           10.160447        2.618619  ...   \n",
       "UNLGWYRVPNGNSX-UHFFFAOYSA-N           10.124044        1.935143  ...   \n",
       "\n",
       "                             RDkit_fr_sulfone  RDkit_fr_term_acetylene  \\\n",
       "ID                                                                       \n",
       "CMCQWYYGEHUAAM-UHFFFAOYSA-N               0.0                      0.0   \n",
       "CMGVRLPXTCGYEI-UHFFFAOYSA-N               0.0                      0.0   \n",
       "CMHQDWHZIUMRGC-UHFFFAOYSA-N               0.0                      0.0   \n",
       "CMLKEDYTLQARSM-UHFFFAOYSA-N               0.0                      0.0   \n",
       "CMMXTSNUEHRJEY-UHFFFAOYSA-N               0.0                      0.0   \n",
       "...                                       ...                      ...   \n",
       "UNFCWBZGDOODJH-UHFFFAOYSA-N               0.0                      0.0   \n",
       "UNGUJUIOUVNWBB-UHFFFAOYSA-N               0.0                      0.0   \n",
       "UNGYPXFMYYJLOR-UHFFFAOYSA-N               0.0                      0.0   \n",
       "UNIUKKWPGRGSRQ-UHFFFAOYSA-N               0.0                      0.0   \n",
       "UNLGWYRVPNGNSX-UHFFFAOYSA-N               0.0                      0.0   \n",
       "\n",
       "                             RDkit_fr_tetrazole  RDkit_fr_thiazole  \\\n",
       "ID                                                                   \n",
       "CMCQWYYGEHUAAM-UHFFFAOYSA-N                 0.0                0.0   \n",
       "CMGVRLPXTCGYEI-UHFFFAOYSA-N                 0.0                0.0   \n",
       "CMHQDWHZIUMRGC-UHFFFAOYSA-N                 0.0                0.0   \n",
       "CMLKEDYTLQARSM-UHFFFAOYSA-N                 0.0                1.0   \n",
       "CMMXTSNUEHRJEY-UHFFFAOYSA-N                 0.0                0.0   \n",
       "...                                         ...                ...   \n",
       "UNFCWBZGDOODJH-UHFFFAOYSA-N                 0.0                1.0   \n",
       "UNGUJUIOUVNWBB-UHFFFAOYSA-N                 0.0                0.0   \n",
       "UNGYPXFMYYJLOR-UHFFFAOYSA-N                 0.0                0.0   \n",
       "UNIUKKWPGRGSRQ-UHFFFAOYSA-N                 0.0                0.0   \n",
       "UNLGWYRVPNGNSX-UHFFFAOYSA-N                 0.0                1.0   \n",
       "\n",
       "                             RDkit_fr_thiocyan  RDkit_fr_thiophene  \\\n",
       "ID                                                                   \n",
       "CMCQWYYGEHUAAM-UHFFFAOYSA-N                0.0                 1.0   \n",
       "CMGVRLPXTCGYEI-UHFFFAOYSA-N                0.0                 0.0   \n",
       "CMHQDWHZIUMRGC-UHFFFAOYSA-N                0.0                 1.0   \n",
       "CMLKEDYTLQARSM-UHFFFAOYSA-N                0.0                 1.0   \n",
       "CMMXTSNUEHRJEY-UHFFFAOYSA-N                0.0                 0.0   \n",
       "...                                        ...                 ...   \n",
       "UNFCWBZGDOODJH-UHFFFAOYSA-N                0.0                 0.0   \n",
       "UNGUJUIOUVNWBB-UHFFFAOYSA-N                0.0                 0.0   \n",
       "UNGYPXFMYYJLOR-UHFFFAOYSA-N                0.0                 0.0   \n",
       "UNIUKKWPGRGSRQ-UHFFFAOYSA-N                0.0                 0.0   \n",
       "UNLGWYRVPNGNSX-UHFFFAOYSA-N                0.0                 0.0   \n",
       "\n",
       "                             RDkit_fr_unbrch_alkane  RDkit_fr_urea  RDkit_qed  \\\n",
       "ID                                                                              \n",
       "CMCQWYYGEHUAAM-UHFFFAOYSA-N                     0.0            0.0   0.727124   \n",
       "CMGVRLPXTCGYEI-UHFFFAOYSA-N                     0.0            0.0   0.464554   \n",
       "CMHQDWHZIUMRGC-UHFFFAOYSA-N                     0.0            0.0   0.246801   \n",
       "CMLKEDYTLQARSM-UHFFFAOYSA-N                     0.0            0.0   0.588101   \n",
       "CMMXTSNUEHRJEY-UHFFFAOYSA-N                     0.0            0.0   0.325304   \n",
       "...                                             ...            ...        ...   \n",
       "UNFCWBZGDOODJH-UHFFFAOYSA-N                     0.0            0.0   0.578341   \n",
       "UNGUJUIOUVNWBB-UHFFFAOYSA-N                     0.0            0.0   0.579983   \n",
       "UNGYPXFMYYJLOR-UHFFFAOYSA-N                     0.0            0.0   0.456132   \n",
       "UNIUKKWPGRGSRQ-UHFFFAOYSA-N                     0.0            0.0   0.650118   \n",
       "UNLGWYRVPNGNSX-UHFFFAOYSA-N                     0.0            0.0   0.602373   \n",
       "\n",
       "                                                      ID  \n",
       "ID                                                        \n",
       "CMCQWYYGEHUAAM-UHFFFAOYSA-N  CMCQWYYGEHUAAM-UHFFFAOYSA-N  \n",
       "CMGVRLPXTCGYEI-UHFFFAOYSA-N  CMGVRLPXTCGYEI-UHFFFAOYSA-N  \n",
       "CMHQDWHZIUMRGC-UHFFFAOYSA-N  CMHQDWHZIUMRGC-UHFFFAOYSA-N  \n",
       "CMLKEDYTLQARSM-UHFFFAOYSA-N  CMLKEDYTLQARSM-UHFFFAOYSA-N  \n",
       "CMMXTSNUEHRJEY-UHFFFAOYSA-N  CMMXTSNUEHRJEY-UHFFFAOYSA-N  \n",
       "...                                                  ...  \n",
       "UNFCWBZGDOODJH-UHFFFAOYSA-N  UNFCWBZGDOODJH-UHFFFAOYSA-N  \n",
       "UNGUJUIOUVNWBB-UHFFFAOYSA-N  UNGUJUIOUVNWBB-UHFFFAOYSA-N  \n",
       "UNGYPXFMYYJLOR-UHFFFAOYSA-N  UNGYPXFMYYJLOR-UHFFFAOYSA-N  \n",
       "UNIUKKWPGRGSRQ-UHFFFAOYSA-N  UNIUKKWPGRGSRQ-UHFFFAOYSA-N  \n",
       "UNLGWYRVPNGNSX-UHFFFAOYSA-N  UNLGWYRVPNGNSX-UHFFFAOYSA-N  \n",
       "\n",
       "[4082 rows x 211 columns]"
      ],
      "text/html": [
       "<div>\n",
       "<style scoped>\n",
       "    .dataframe tbody tr th:only-of-type {\n",
       "        vertical-align: middle;\n",
       "    }\n",
       "\n",
       "    .dataframe tbody tr th {\n",
       "        vertical-align: top;\n",
       "    }\n",
       "\n",
       "    .dataframe thead th {\n",
       "        text-align: right;\n",
       "    }\n",
       "</style>\n",
       "<table border=\"1\" class=\"dataframe\">\n",
       "  <thead>\n",
       "    <tr style=\"text-align: right;\">\n",
       "      <th></th>\n",
       "      <th>RDkit_AvgIpc</th>\n",
       "      <th>RDkit_BCUT2D_CHGHI</th>\n",
       "      <th>RDkit_BCUT2D_CHGLO</th>\n",
       "      <th>RDkit_BCUT2D_LOGPHI</th>\n",
       "      <th>RDkit_BCUT2D_LOGPLOW</th>\n",
       "      <th>RDkit_BCUT2D_MRHI</th>\n",
       "      <th>RDkit_BCUT2D_MRLOW</th>\n",
       "      <th>RDkit_BCUT2D_MWHI</th>\n",
       "      <th>RDkit_BCUT2D_MWLOW</th>\n",
       "      <th>RDkit_BalabanJ</th>\n",
       "      <th>...</th>\n",
       "      <th>RDkit_fr_sulfone</th>\n",
       "      <th>RDkit_fr_term_acetylene</th>\n",
       "      <th>RDkit_fr_tetrazole</th>\n",
       "      <th>RDkit_fr_thiazole</th>\n",
       "      <th>RDkit_fr_thiocyan</th>\n",
       "      <th>RDkit_fr_thiophene</th>\n",
       "      <th>RDkit_fr_unbrch_alkane</th>\n",
       "      <th>RDkit_fr_urea</th>\n",
       "      <th>RDkit_qed</th>\n",
       "      <th>ID</th>\n",
       "    </tr>\n",
       "    <tr>\n",
       "      <th>ID</th>\n",
       "      <th></th>\n",
       "      <th></th>\n",
       "      <th></th>\n",
       "      <th></th>\n",
       "      <th></th>\n",
       "      <th></th>\n",
       "      <th></th>\n",
       "      <th></th>\n",
       "      <th></th>\n",
       "      <th></th>\n",
       "      <th></th>\n",
       "      <th></th>\n",
       "      <th></th>\n",
       "      <th></th>\n",
       "      <th></th>\n",
       "      <th></th>\n",
       "      <th></th>\n",
       "      <th></th>\n",
       "      <th></th>\n",
       "      <th></th>\n",
       "      <th></th>\n",
       "    </tr>\n",
       "  </thead>\n",
       "  <tbody>\n",
       "    <tr>\n",
       "      <th>CMCQWYYGEHUAAM-UHFFFAOYSA-N</th>\n",
       "      <td>3.143164</td>\n",
       "      <td>2.149394</td>\n",
       "      <td>-2.213343</td>\n",
       "      <td>2.314176</td>\n",
       "      <td>-2.255821</td>\n",
       "      <td>7.182521</td>\n",
       "      <td>0.293136</td>\n",
       "      <td>35.495705</td>\n",
       "      <td>10.220235</td>\n",
       "      <td>1.674376</td>\n",
       "      <td>...</td>\n",
       "      <td>0.0</td>\n",
       "      <td>0.0</td>\n",
       "      <td>0.0</td>\n",
       "      <td>0.0</td>\n",
       "      <td>0.0</td>\n",
       "      <td>1.0</td>\n",
       "      <td>0.0</td>\n",
       "      <td>0.0</td>\n",
       "      <td>0.727124</td>\n",
       "      <td>CMCQWYYGEHUAAM-UHFFFAOYSA-N</td>\n",
       "    </tr>\n",
       "    <tr>\n",
       "      <th>CMGVRLPXTCGYEI-UHFFFAOYSA-N</th>\n",
       "      <td>3.560957</td>\n",
       "      <td>2.208343</td>\n",
       "      <td>-2.143250</td>\n",
       "      <td>2.270584</td>\n",
       "      <td>-2.221644</td>\n",
       "      <td>5.898911</td>\n",
       "      <td>0.268010</td>\n",
       "      <td>16.465364</td>\n",
       "      <td>10.118351</td>\n",
       "      <td>1.270270</td>\n",
       "      <td>...</td>\n",
       "      <td>0.0</td>\n",
       "      <td>0.0</td>\n",
       "      <td>0.0</td>\n",
       "      <td>0.0</td>\n",
       "      <td>0.0</td>\n",
       "      <td>0.0</td>\n",
       "      <td>0.0</td>\n",
       "      <td>0.0</td>\n",
       "      <td>0.464554</td>\n",
       "      <td>CMGVRLPXTCGYEI-UHFFFAOYSA-N</td>\n",
       "    </tr>\n",
       "    <tr>\n",
       "      <th>CMHQDWHZIUMRGC-UHFFFAOYSA-N</th>\n",
       "      <td>3.444091</td>\n",
       "      <td>2.472842</td>\n",
       "      <td>-2.163351</td>\n",
       "      <td>2.325829</td>\n",
       "      <td>-2.421564</td>\n",
       "      <td>7.118022</td>\n",
       "      <td>-0.137029</td>\n",
       "      <td>35.495701</td>\n",
       "      <td>10.109233</td>\n",
       "      <td>1.600798</td>\n",
       "      <td>...</td>\n",
       "      <td>0.0</td>\n",
       "      <td>0.0</td>\n",
       "      <td>0.0</td>\n",
       "      <td>0.0</td>\n",
       "      <td>0.0</td>\n",
       "      <td>1.0</td>\n",
       "      <td>0.0</td>\n",
       "      <td>0.0</td>\n",
       "      <td>0.246801</td>\n",
       "      <td>CMHQDWHZIUMRGC-UHFFFAOYSA-N</td>\n",
       "    </tr>\n",
       "    <tr>\n",
       "      <th>CMLKEDYTLQARSM-UHFFFAOYSA-N</th>\n",
       "      <td>3.232592</td>\n",
       "      <td>2.132376</td>\n",
       "      <td>-2.032054</td>\n",
       "      <td>2.300074</td>\n",
       "      <td>-2.040877</td>\n",
       "      <td>7.208708</td>\n",
       "      <td>1.096688</td>\n",
       "      <td>32.134693</td>\n",
       "      <td>10.432814</td>\n",
       "      <td>1.666281</td>\n",
       "      <td>...</td>\n",
       "      <td>0.0</td>\n",
       "      <td>0.0</td>\n",
       "      <td>0.0</td>\n",
       "      <td>1.0</td>\n",
       "      <td>0.0</td>\n",
       "      <td>1.0</td>\n",
       "      <td>0.0</td>\n",
       "      <td>0.0</td>\n",
       "      <td>0.588101</td>\n",
       "      <td>CMLKEDYTLQARSM-UHFFFAOYSA-N</td>\n",
       "    </tr>\n",
       "    <tr>\n",
       "      <th>CMMXTSNUEHRJEY-UHFFFAOYSA-N</th>\n",
       "      <td>3.285367</td>\n",
       "      <td>2.436150</td>\n",
       "      <td>-2.162489</td>\n",
       "      <td>2.318410</td>\n",
       "      <td>-2.326463</td>\n",
       "      <td>5.826612</td>\n",
       "      <td>-0.051069</td>\n",
       "      <td>16.634863</td>\n",
       "      <td>10.128347</td>\n",
       "      <td>1.777639</td>\n",
       "      <td>...</td>\n",
       "      <td>0.0</td>\n",
       "      <td>0.0</td>\n",
       "      <td>0.0</td>\n",
       "      <td>0.0</td>\n",
       "      <td>0.0</td>\n",
       "      <td>0.0</td>\n",
       "      <td>0.0</td>\n",
       "      <td>0.0</td>\n",
       "      <td>0.325304</td>\n",
       "      <td>CMMXTSNUEHRJEY-UHFFFAOYSA-N</td>\n",
       "    </tr>\n",
       "    <tr>\n",
       "      <th>...</th>\n",
       "      <td>...</td>\n",
       "      <td>...</td>\n",
       "      <td>...</td>\n",
       "      <td>...</td>\n",
       "      <td>...</td>\n",
       "      <td>...</td>\n",
       "      <td>...</td>\n",
       "      <td>...</td>\n",
       "      <td>...</td>\n",
       "      <td>...</td>\n",
       "      <td>...</td>\n",
       "      <td>...</td>\n",
       "      <td>...</td>\n",
       "      <td>...</td>\n",
       "      <td>...</td>\n",
       "      <td>...</td>\n",
       "      <td>...</td>\n",
       "      <td>...</td>\n",
       "      <td>...</td>\n",
       "      <td>...</td>\n",
       "      <td>...</td>\n",
       "    </tr>\n",
       "    <tr>\n",
       "      <th>UNFCWBZGDOODJH-UHFFFAOYSA-N</th>\n",
       "      <td>3.250113</td>\n",
       "      <td>2.136462</td>\n",
       "      <td>-2.051518</td>\n",
       "      <td>2.313299</td>\n",
       "      <td>-2.086214</td>\n",
       "      <td>7.208439</td>\n",
       "      <td>0.581795</td>\n",
       "      <td>32.133545</td>\n",
       "      <td>10.149388</td>\n",
       "      <td>1.536101</td>\n",
       "      <td>...</td>\n",
       "      <td>0.0</td>\n",
       "      <td>0.0</td>\n",
       "      <td>0.0</td>\n",
       "      <td>1.0</td>\n",
       "      <td>0.0</td>\n",
       "      <td>0.0</td>\n",
       "      <td>0.0</td>\n",
       "      <td>0.0</td>\n",
       "      <td>0.578341</td>\n",
       "      <td>UNFCWBZGDOODJH-UHFFFAOYSA-N</td>\n",
       "    </tr>\n",
       "    <tr>\n",
       "      <th>UNGUJUIOUVNWBB-UHFFFAOYSA-N</th>\n",
       "      <td>3.212292</td>\n",
       "      <td>2.172590</td>\n",
       "      <td>-2.078829</td>\n",
       "      <td>2.231658</td>\n",
       "      <td>-2.179798</td>\n",
       "      <td>5.897337</td>\n",
       "      <td>0.207708</td>\n",
       "      <td>16.333868</td>\n",
       "      <td>10.374295</td>\n",
       "      <td>1.943525</td>\n",
       "      <td>...</td>\n",
       "      <td>0.0</td>\n",
       "      <td>0.0</td>\n",
       "      <td>0.0</td>\n",
       "      <td>0.0</td>\n",
       "      <td>0.0</td>\n",
       "      <td>0.0</td>\n",
       "      <td>0.0</td>\n",
       "      <td>0.0</td>\n",
       "      <td>0.579983</td>\n",
       "      <td>UNGUJUIOUVNWBB-UHFFFAOYSA-N</td>\n",
       "    </tr>\n",
       "    <tr>\n",
       "      <th>UNGYPXFMYYJLOR-UHFFFAOYSA-N</th>\n",
       "      <td>3.134793</td>\n",
       "      <td>2.193445</td>\n",
       "      <td>-2.086792</td>\n",
       "      <td>2.239148</td>\n",
       "      <td>-2.203306</td>\n",
       "      <td>6.058907</td>\n",
       "      <td>0.102176</td>\n",
       "      <td>16.153765</td>\n",
       "      <td>10.187603</td>\n",
       "      <td>1.779438</td>\n",
       "      <td>...</td>\n",
       "      <td>0.0</td>\n",
       "      <td>0.0</td>\n",
       "      <td>0.0</td>\n",
       "      <td>0.0</td>\n",
       "      <td>0.0</td>\n",
       "      <td>0.0</td>\n",
       "      <td>0.0</td>\n",
       "      <td>0.0</td>\n",
       "      <td>0.456132</td>\n",
       "      <td>UNGYPXFMYYJLOR-UHFFFAOYSA-N</td>\n",
       "    </tr>\n",
       "    <tr>\n",
       "      <th>UNIUKKWPGRGSRQ-UHFFFAOYSA-N</th>\n",
       "      <td>2.636158</td>\n",
       "      <td>2.129917</td>\n",
       "      <td>-2.014148</td>\n",
       "      <td>2.409279</td>\n",
       "      <td>-1.750494</td>\n",
       "      <td>9.109511</td>\n",
       "      <td>0.469374</td>\n",
       "      <td>79.919762</td>\n",
       "      <td>10.160447</td>\n",
       "      <td>2.618619</td>\n",
       "      <td>...</td>\n",
       "      <td>0.0</td>\n",
       "      <td>0.0</td>\n",
       "      <td>0.0</td>\n",
       "      <td>0.0</td>\n",
       "      <td>0.0</td>\n",
       "      <td>0.0</td>\n",
       "      <td>0.0</td>\n",
       "      <td>0.0</td>\n",
       "      <td>0.650118</td>\n",
       "      <td>UNIUKKWPGRGSRQ-UHFFFAOYSA-N</td>\n",
       "    </tr>\n",
       "    <tr>\n",
       "      <th>UNLGWYRVPNGNSX-UHFFFAOYSA-N</th>\n",
       "      <td>3.169585</td>\n",
       "      <td>2.196899</td>\n",
       "      <td>-2.194941</td>\n",
       "      <td>2.391314</td>\n",
       "      <td>-2.273769</td>\n",
       "      <td>7.226321</td>\n",
       "      <td>-0.116040</td>\n",
       "      <td>32.133549</td>\n",
       "      <td>10.124044</td>\n",
       "      <td>1.935143</td>\n",
       "      <td>...</td>\n",
       "      <td>0.0</td>\n",
       "      <td>0.0</td>\n",
       "      <td>0.0</td>\n",
       "      <td>1.0</td>\n",
       "      <td>0.0</td>\n",
       "      <td>0.0</td>\n",
       "      <td>0.0</td>\n",
       "      <td>0.0</td>\n",
       "      <td>0.602373</td>\n",
       "      <td>UNLGWYRVPNGNSX-UHFFFAOYSA-N</td>\n",
       "    </tr>\n",
       "  </tbody>\n",
       "</table>\n",
       "<p>4082 rows × 211 columns</p>\n",
       "</div>"
      ]
     },
     "execution_count": 18,
     "metadata": {},
     "output_type": "execute_result"
    }
   ],
   "execution_count": 18
  },
  {
   "cell_type": "markdown",
   "metadata": {},
   "source": [
    "## What's Next?\n",
    "\n",
    "Now you know how data sets are represented in QSPRpred. Before you start modelling, you should also check out the [data preparation tutorial](data_preparation.ipynb) to learn how to prepare your data sets for modelling. This tutorial covers additional preparation steps such as feature filtering, selection and standardization through the `QSPRTable.prepareDataset` method."
   ]
  }
 ],
 "metadata": {
  "kernelspec": {
   "display_name": "Python 3 (ipykernel)",
   "language": "python",
   "name": "python3"
  },
  "language_info": {
   "codemirror_mode": {
    "name": "ipython",
    "version": 3
   },
   "file_extension": ".py",
   "mimetype": "text/x-python",
   "name": "python",
   "nbconvert_exporter": "python",
   "pygments_lexer": "ipython3",
   "version": "3.10.13"
  },
  "widgets": {
   "application/vnd.jupyter.widget-state+json": {
    "state": {
     "0abcbe4f5c424fcd87383ad9f2dba6a9": {
      "model_module": "@jupyter-widgets/controls",
      "model_module_version": "1.5.0",
      "model_name": "DescriptionStyleModel",
      "state": {
       "_model_module": "@jupyter-widgets/controls",
       "_model_module_version": "1.5.0",
       "_model_name": "DescriptionStyleModel",
       "_view_count": null,
       "_view_module": "@jupyter-widgets/base",
       "_view_module_version": "1.2.0",
       "_view_name": "StyleView",
       "description_width": ""
      }
     },
     "0ccd5e61ae31430eb25d1764f0aec076": {
      "model_module": "@jupyter-widgets/base",
      "model_module_version": "1.2.0",
      "model_name": "LayoutModel",
      "state": {
       "_model_module": "@jupyter-widgets/base",
       "_model_module_version": "1.2.0",
       "_model_name": "LayoutModel",
       "_view_count": null,
       "_view_module": "@jupyter-widgets/base",
       "_view_module_version": "1.2.0",
       "_view_name": "LayoutView",
       "align_content": null,
       "align_items": null,
       "align_self": null,
       "border": null,
       "bottom": null,
       "display": null,
       "flex": null,
       "flex_flow": null,
       "grid_area": null,
       "grid_auto_columns": null,
       "grid_auto_flow": null,
       "grid_auto_rows": null,
       "grid_column": null,
       "grid_gap": null,
       "grid_row": null,
       "grid_template_areas": null,
       "grid_template_columns": null,
       "grid_template_rows": null,
       "height": null,
       "justify_content": null,
       "justify_items": null,
       "left": null,
       "margin": null,
       "max_height": null,
       "max_width": null,
       "min_height": null,
       "min_width": null,
       "object_fit": null,
       "object_position": null,
       "order": null,
       "overflow": null,
       "overflow_x": null,
       "overflow_y": null,
       "padding": null,
       "right": null,
       "top": null,
       "visibility": null,
       "width": null
      }
     },
     "1310b135b91b4280b42982a5779d8e9f": {
      "model_module": "@jupyter-widgets/base",
      "model_module_version": "1.2.0",
      "model_name": "LayoutModel",
      "state": {
       "_model_module": "@jupyter-widgets/base",
       "_model_module_version": "1.2.0",
       "_model_name": "LayoutModel",
       "_view_count": null,
       "_view_module": "@jupyter-widgets/base",
       "_view_module_version": "1.2.0",
       "_view_name": "LayoutView",
       "align_content": null,
       "align_items": null,
       "align_self": null,
       "border": null,
       "bottom": null,
       "display": null,
       "flex": null,
       "flex_flow": null,
       "grid_area": null,
       "grid_auto_columns": null,
       "grid_auto_flow": null,
       "grid_auto_rows": null,
       "grid_column": null,
       "grid_gap": null,
       "grid_row": null,
       "grid_template_areas": null,
       "grid_template_columns": null,
       "grid_template_rows": null,
       "height": null,
       "justify_content": null,
       "justify_items": null,
       "left": null,
       "margin": null,
       "max_height": null,
       "max_width": null,
       "min_height": null,
       "min_width": null,
       "object_fit": null,
       "object_position": null,
       "order": null,
       "overflow": null,
       "overflow_x": null,
       "overflow_y": null,
       "padding": null,
       "right": null,
       "top": null,
       "visibility": null,
       "width": null
      }
     },
     "281603740de24499be78d263fa47287d": {
      "model_module": "@jupyter-widgets/controls",
      "model_module_version": "1.5.0",
      "model_name": "HTMLModel",
      "state": {
       "_dom_classes": [],
       "_model_module": "@jupyter-widgets/controls",
       "_model_module_version": "1.5.0",
       "_model_name": "HTMLModel",
       "_view_count": null,
       "_view_module": "@jupyter-widgets/controls",
       "_view_module_version": "1.5.0",
       "_view_name": "HTMLView",
       "description": "",
       "description_tooltip": null,
       "layout": "IPY_MODEL_5a877c5bffff4e8d88b025164bbf70e2",
       "placeholder": "​",
       "style": "IPY_MODEL_6bfe64a153a14f0c97f5ef0255eaff16",
       "value": " 5/5 [00:04&lt;00:00,  1.21it/s]"
      }
     },
     "3224d42d1efb437088618d14de2f84d8": {
      "model_module": "@jupyter-widgets/controls",
      "model_module_version": "1.5.0",
      "model_name": "ProgressStyleModel",
      "state": {
       "_model_module": "@jupyter-widgets/controls",
       "_model_module_version": "1.5.0",
       "_model_name": "ProgressStyleModel",
       "_view_count": null,
       "_view_module": "@jupyter-widgets/base",
       "_view_module_version": "1.2.0",
       "_view_name": "StyleView",
       "bar_color": null,
       "description_width": ""
      }
     },
     "3c82c4fe015d4363a01e47603f6c7ef3": {
      "model_module": "@jupyter-widgets/controls",
      "model_module_version": "1.5.0",
      "model_name": "HTMLModel",
      "state": {
       "_dom_classes": [],
       "_model_module": "@jupyter-widgets/controls",
       "_model_module_version": "1.5.0",
       "_model_name": "HTMLModel",
       "_view_count": null,
       "_view_module": "@jupyter-widgets/controls",
       "_view_module_version": "1.5.0",
       "_view_name": "HTMLView",
       "description": "",
       "description_tooltip": null,
       "layout": "IPY_MODEL_747603c85edd4395a4b1a63711a0fc0a",
       "placeholder": "​",
       "style": "IPY_MODEL_99ea5d7ea08d41d186e56185a5a2d8f9",
       "value": ""
      }
     },
     "4fb6d71738da44b5be9f73b28f41c28d": {
      "model_module": "@jupyter-widgets/controls",
      "model_module_version": "1.5.0",
      "model_name": "FloatProgressModel",
      "state": {
       "_dom_classes": [],
       "_model_module": "@jupyter-widgets/controls",
       "_model_module_version": "1.5.0",
       "_model_name": "FloatProgressModel",
       "_view_count": null,
       "_view_module": "@jupyter-widgets/controls",
       "_view_module_version": "1.5.0",
       "_view_name": "ProgressView",
       "bar_style": "",
       "description": "",
       "description_tooltip": null,
       "layout": "IPY_MODEL_0ccd5e61ae31430eb25d1764f0aec076",
       "max": 5,
       "min": 0,
       "orientation": "horizontal",
       "style": "IPY_MODEL_3224d42d1efb437088618d14de2f84d8",
       "value": 0
      }
     },
     "57231d8e7914408d977396d2e8ac3db1": {
      "model_module": "@jupyter-widgets/base",
      "model_module_version": "1.2.0",
      "model_name": "LayoutModel",
      "state": {
       "_model_module": "@jupyter-widgets/base",
       "_model_module_version": "1.2.0",
       "_model_name": "LayoutModel",
       "_view_count": null,
       "_view_module": "@jupyter-widgets/base",
       "_view_module_version": "1.2.0",
       "_view_name": "LayoutView",
       "align_content": null,
       "align_items": null,
       "align_self": null,
       "border": null,
       "bottom": null,
       "display": null,
       "flex": null,
       "flex_flow": null,
       "grid_area": null,
       "grid_auto_columns": null,
       "grid_auto_flow": null,
       "grid_auto_rows": null,
       "grid_column": null,
       "grid_gap": null,
       "grid_row": null,
       "grid_template_areas": null,
       "grid_template_columns": null,
       "grid_template_rows": null,
       "height": null,
       "justify_content": null,
       "justify_items": null,
       "left": null,
       "margin": null,
       "max_height": null,
       "max_width": null,
       "min_height": null,
       "min_width": null,
       "object_fit": null,
       "object_position": null,
       "order": null,
       "overflow": null,
       "overflow_x": null,
       "overflow_y": null,
       "padding": null,
       "right": null,
       "top": null,
       "visibility": null,
       "width": null
      }
     },
     "5a877c5bffff4e8d88b025164bbf70e2": {
      "model_module": "@jupyter-widgets/base",
      "model_module_version": "1.2.0",
      "model_name": "LayoutModel",
      "state": {
       "_model_module": "@jupyter-widgets/base",
       "_model_module_version": "1.2.0",
       "_model_name": "LayoutModel",
       "_view_count": null,
       "_view_module": "@jupyter-widgets/base",
       "_view_module_version": "1.2.0",
       "_view_name": "LayoutView",
       "align_content": null,
       "align_items": null,
       "align_self": null,
       "border": null,
       "bottom": null,
       "display": null,
       "flex": null,
       "flex_flow": null,
       "grid_area": null,
       "grid_auto_columns": null,
       "grid_auto_flow": null,
       "grid_auto_rows": null,
       "grid_column": null,
       "grid_gap": null,
       "grid_row": null,
       "grid_template_areas": null,
       "grid_template_columns": null,
       "grid_template_rows": null,
       "height": null,
       "justify_content": null,
       "justify_items": null,
       "left": null,
       "margin": null,
       "max_height": null,
       "max_width": null,
       "min_height": null,
       "min_width": null,
       "object_fit": null,
       "object_position": null,
       "order": null,
       "overflow": null,
       "overflow_x": null,
       "overflow_y": null,
       "padding": null,
       "right": null,
       "top": null,
       "visibility": null,
       "width": null
      }
     },
     "6bfe64a153a14f0c97f5ef0255eaff16": {
      "model_module": "@jupyter-widgets/controls",
      "model_module_version": "1.5.0",
      "model_name": "DescriptionStyleModel",
      "state": {
       "_model_module": "@jupyter-widgets/controls",
       "_model_module_version": "1.5.0",
       "_model_name": "DescriptionStyleModel",
       "_view_count": null,
       "_view_module": "@jupyter-widgets/base",
       "_view_module_version": "1.2.0",
       "_view_name": "StyleView",
       "description_width": ""
      }
     },
     "7007e457a7a74ccc8f0bd4006e725403": {
      "model_module": "@jupyter-widgets/controls",
      "model_module_version": "1.5.0",
      "model_name": "HTMLModel",
      "state": {
       "_dom_classes": [],
       "_model_module": "@jupyter-widgets/controls",
       "_model_module_version": "1.5.0",
       "_model_name": "HTMLModel",
       "_view_count": null,
       "_view_module": "@jupyter-widgets/controls",
       "_view_module_version": "1.5.0",
       "_view_name": "HTMLView",
       "description": "",
       "description_tooltip": null,
       "layout": "IPY_MODEL_747603c85edd4395a4b1a63711a0fc0a",
       "placeholder": "​",
       "style": "IPY_MODEL_99ea5d7ea08d41d186e56185a5a2d8f9",
       "value": "Parallel apply in progress for parkinsons.: 100%"
      }
     },
     "704715a31a4d40ff9279ad87afb95552": {
      "model_module": "@jupyter-widgets/base",
      "model_module_version": "1.2.0",
      "model_name": "LayoutModel",
      "state": {
       "_model_module": "@jupyter-widgets/base",
       "_model_module_version": "1.2.0",
       "_model_name": "LayoutModel",
       "_view_count": null,
       "_view_module": "@jupyter-widgets/base",
       "_view_module_version": "1.2.0",
       "_view_name": "LayoutView",
       "align_content": null,
       "align_items": null,
       "align_self": null,
       "border": null,
       "bottom": null,
       "display": null,
       "flex": null,
       "flex_flow": null,
       "grid_area": null,
       "grid_auto_columns": null,
       "grid_auto_flow": null,
       "grid_auto_rows": null,
       "grid_column": null,
       "grid_gap": null,
       "grid_row": null,
       "grid_template_areas": null,
       "grid_template_columns": null,
       "grid_template_rows": null,
       "height": null,
       "justify_content": null,
       "justify_items": null,
       "left": null,
       "margin": null,
       "max_height": null,
       "max_width": null,
       "min_height": null,
       "min_width": null,
       "object_fit": null,
       "object_position": null,
       "order": null,
       "overflow": null,
       "overflow_x": null,
       "overflow_y": null,
       "padding": null,
       "right": null,
       "top": null,
       "visibility": null,
       "width": null
      }
     },
     "73402b6922944fa2a356b8c5cea8e1f8": {
      "model_module": "@jupyter-widgets/controls",
      "model_module_version": "1.5.0",
      "model_name": "HBoxModel",
      "state": {
       "_dom_classes": [],
       "_model_module": "@jupyter-widgets/controls",
       "_model_module_version": "1.5.0",
       "_model_name": "HBoxModel",
       "_view_count": null,
       "_view_module": "@jupyter-widgets/controls",
       "_view_module_version": "1.5.0",
       "_view_name": "HBoxView",
       "box_style": "",
       "children": [
        "IPY_MODEL_7007e457a7a74ccc8f0bd4006e725403",
        "IPY_MODEL_9512c9c5a4cf41b8b21861d163ea6f9e",
        "IPY_MODEL_281603740de24499be78d263fa47287d"
       ],
       "layout": "IPY_MODEL_c953ce5870864c8195679723788d70b4"
      }
     },
     "747603c85edd4395a4b1a63711a0fc0a": {
      "model_module": "@jupyter-widgets/base",
      "model_module_version": "1.2.0",
      "model_name": "LayoutModel",
      "state": {
       "_model_module": "@jupyter-widgets/base",
       "_model_module_version": "1.2.0",
       "_model_name": "LayoutModel",
       "_view_count": null,
       "_view_module": "@jupyter-widgets/base",
       "_view_module_version": "1.2.0",
       "_view_name": "LayoutView",
       "align_content": null,
       "align_items": null,
       "align_self": null,
       "border": null,
       "bottom": null,
       "display": null,
       "flex": null,
       "flex_flow": null,
       "grid_area": null,
       "grid_auto_columns": null,
       "grid_auto_flow": null,
       "grid_auto_rows": null,
       "grid_column": null,
       "grid_gap": null,
       "grid_row": null,
       "grid_template_areas": null,
       "grid_template_columns": null,
       "grid_template_rows": null,
       "height": null,
       "justify_content": null,
       "justify_items": null,
       "left": null,
       "margin": null,
       "max_height": null,
       "max_width": null,
       "min_height": null,
       "min_width": null,
       "object_fit": null,
       "object_position": null,
       "order": null,
       "overflow": null,
       "overflow_x": null,
       "overflow_y": null,
       "padding": null,
       "right": null,
       "top": null,
       "visibility": null,
       "width": null
      }
     },
     "9512c9c5a4cf41b8b21861d163ea6f9e": {
      "model_module": "@jupyter-widgets/controls",
      "model_module_version": "1.5.0",
      "model_name": "FloatProgressModel",
      "state": {
       "_dom_classes": [],
       "_model_module": "@jupyter-widgets/controls",
       "_model_module_version": "1.5.0",
       "_model_name": "FloatProgressModel",
       "_view_count": null,
       "_view_module": "@jupyter-widgets/controls",
       "_view_module_version": "1.5.0",
       "_view_name": "ProgressView",
       "bar_style": "success",
       "description": "",
       "description_tooltip": null,
       "layout": "IPY_MODEL_0ccd5e61ae31430eb25d1764f0aec076",
       "max": 5,
       "min": 0,
       "orientation": "horizontal",
       "style": "IPY_MODEL_3224d42d1efb437088618d14de2f84d8",
       "value": 5
      }
     },
     "99ea5d7ea08d41d186e56185a5a2d8f9": {
      "model_module": "@jupyter-widgets/controls",
      "model_module_version": "1.5.0",
      "model_name": "DescriptionStyleModel",
      "state": {
       "_model_module": "@jupyter-widgets/controls",
       "_model_module_version": "1.5.0",
       "_model_name": "DescriptionStyleModel",
       "_view_count": null,
       "_view_module": "@jupyter-widgets/base",
       "_view_module_version": "1.2.0",
       "_view_name": "StyleView",
       "description_width": ""
      }
     },
     "9fa60e2f6ccb4227a3b02ccc003a8608": {
      "model_module": "@jupyter-widgets/controls",
      "model_module_version": "1.5.0",
      "model_name": "ProgressStyleModel",
      "state": {
       "_model_module": "@jupyter-widgets/controls",
       "_model_module_version": "1.5.0",
       "_model_name": "ProgressStyleModel",
       "_view_count": null,
       "_view_module": "@jupyter-widgets/base",
       "_view_module_version": "1.2.0",
       "_view_name": "StyleView",
       "bar_color": null,
       "description_width": ""
      }
     },
     "a490a7cd7ba046659eaf491abea3959b": {
      "model_module": "@jupyter-widgets/base",
      "model_module_version": "1.2.0",
      "model_name": "LayoutModel",
      "state": {
       "_model_module": "@jupyter-widgets/base",
       "_model_module_version": "1.2.0",
       "_model_name": "LayoutModel",
       "_view_count": null,
       "_view_module": "@jupyter-widgets/base",
       "_view_module_version": "1.2.0",
       "_view_name": "LayoutView",
       "align_content": null,
       "align_items": null,
       "align_self": null,
       "border": null,
       "bottom": null,
       "display": null,
       "flex": null,
       "flex_flow": null,
       "grid_area": null,
       "grid_auto_columns": null,
       "grid_auto_flow": null,
       "grid_auto_rows": null,
       "grid_column": null,
       "grid_gap": null,
       "grid_row": null,
       "grid_template_areas": null,
       "grid_template_columns": null,
       "grid_template_rows": null,
       "height": null,
       "justify_content": null,
       "justify_items": null,
       "left": null,
       "margin": null,
       "max_height": null,
       "max_width": null,
       "min_height": null,
       "min_width": null,
       "object_fit": null,
       "object_position": null,
       "order": null,
       "overflow": null,
       "overflow_x": null,
       "overflow_y": null,
       "padding": null,
       "right": null,
       "top": null,
       "visibility": null,
       "width": null
      }
     },
     "a5dc56a5d3f1446c8331a2939bc53272": {
      "model_module": "@jupyter-widgets/controls",
      "model_module_version": "1.5.0",
      "model_name": "HBoxModel",
      "state": {
       "_dom_classes": [],
       "_model_module": "@jupyter-widgets/controls",
       "_model_module_version": "1.5.0",
       "_model_name": "HBoxModel",
       "_view_count": null,
       "_view_module": "@jupyter-widgets/controls",
       "_view_module_version": "1.5.0",
       "_view_name": "HBoxView",
       "box_style": "",
       "children": [
        "IPY_MODEL_7007e457a7a74ccc8f0bd4006e725403",
        "IPY_MODEL_9512c9c5a4cf41b8b21861d163ea6f9e",
        "IPY_MODEL_281603740de24499be78d263fa47287d"
       ],
       "layout": "IPY_MODEL_c953ce5870864c8195679723788d70b4"
      }
     },
     "b709f851ab314009979f7a4366eabf25": {
      "model_module": "@jupyter-widgets/controls",
      "model_module_version": "1.5.0",
      "model_name": "HTMLModel",
      "state": {
       "_dom_classes": [],
       "_model_module": "@jupyter-widgets/controls",
       "_model_module_version": "1.5.0",
       "_model_name": "HTMLModel",
       "_view_count": null,
       "_view_module": "@jupyter-widgets/controls",
       "_view_module_version": "1.5.0",
       "_view_name": "HTMLView",
       "description": "",
       "description_tooltip": null,
       "layout": "IPY_MODEL_5a877c5bffff4e8d88b025164bbf70e2",
       "placeholder": "​",
       "style": "IPY_MODEL_6bfe64a153a14f0c97f5ef0255eaff16",
       "value": ""
      }
     },
     "c953ce5870864c8195679723788d70b4": {
      "model_module": "@jupyter-widgets/base",
      "model_module_version": "1.2.0",
      "model_name": "LayoutModel",
      "state": {
       "_model_module": "@jupyter-widgets/base",
       "_model_module_version": "1.2.0",
       "_model_name": "LayoutModel",
       "_view_count": null,
       "_view_module": "@jupyter-widgets/base",
       "_view_module_version": "1.2.0",
       "_view_name": "LayoutView",
       "align_content": null,
       "align_items": null,
       "align_self": null,
       "border": null,
       "bottom": null,
       "display": null,
       "flex": null,
       "flex_flow": null,
       "grid_area": null,
       "grid_auto_columns": null,
       "grid_auto_flow": null,
       "grid_auto_rows": null,
       "grid_column": null,
       "grid_gap": null,
       "grid_row": null,
       "grid_template_areas": null,
       "grid_template_columns": null,
       "grid_template_rows": null,
       "height": null,
       "justify_content": null,
       "justify_items": null,
       "left": null,
       "margin": null,
       "max_height": null,
       "max_width": null,
       "min_height": null,
       "min_width": null,
       "object_fit": null,
       "object_position": null,
       "order": null,
       "overflow": null,
       "overflow_x": null,
       "overflow_y": null,
       "padding": null,
       "right": null,
       "top": null,
       "visibility": null,
       "width": null
      }
     },
     "e3b7d4d8d9db4dee91a85fab6c2d07d3": {
      "model_module": "@jupyter-widgets/controls",
      "model_module_version": "1.5.0",
      "model_name": "DescriptionStyleModel",
      "state": {
       "_model_module": "@jupyter-widgets/controls",
       "_model_module_version": "1.5.0",
       "_model_name": "DescriptionStyleModel",
       "_view_count": null,
       "_view_module": "@jupyter-widgets/base",
       "_view_module_version": "1.2.0",
       "_view_name": "StyleView",
       "description_width": ""
      }
     }
    },
    "version_major": 2,
    "version_minor": 0
   }
  }
 },
 "nbformat": 4,
 "nbformat_minor": 4
}
