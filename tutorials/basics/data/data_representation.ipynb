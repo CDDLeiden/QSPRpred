{
 "cells": [
  {
   "cell_type": "markdown",
   "metadata": {},
   "source": [
    "# Data Representation\n",
    "\n",
    "In this tutorial, you will learn how data sets are represented in QSPRpred and how you can use the framework to store and prepare data sets not only for QSPR modeling, but general cheminformatics tasks as well."
   ]
  },
  {
   "cell_type": "markdown",
   "metadata": {},
   "source": [
    "## Data Representation API (`PropertyStorage` and `ChemStore`)\n",
    "\n",
    "### Overview\n",
    "\n",
    "When designing the storage API we tried to identify the most common tasks that need to be performed when working with diverse cheminformatics data sets, mainly in the context of QSPR modelling, but it can also be used to store data from molecular docking or other structure-based simulations. Therefore, QSPRpred defines a general API to register and store properties (independent variables) for arbitrary data entries in its `PropertyStorage` abstract class, which is then further extended by the `ChemStore` interface that supports more specific functionality for encoding molecules alongside their properties. If you take a look at the [API documentation](https://cddleiden.github.io/QSPRpred/docs/api/modules.html) of these classes, you can see the methods and attributes to interact with them. Therefore, anyone can implement any kind of storage system to store compound representations and their properties and as long as they adhere to the above interfaces, their storage system can be used in QSPRpred seamlessly. This potentially enables more advanced users to interface different storage backends (i.e. SQL databases, NoSQL databases, online REST APIs or prohibitively large data sets) with QSPRpred as well. Since this is more advanced functionality, it is not yet covered in this tutorial, which only focuses on currently available implementations that focus on storing data locally by the means of `pandas` data frames. However, we are happy for any inquiries about developing clients for custom APIs or databases. Let us know on the [issue tracker](https://github.com/CDDLeiden/QSPRpred/issues) or via [email](https://github.com/CDDLeiden/QSPRpred/blob/main/pyproject.toml).\n",
    "\n",
    "### `PandasDataTable` as `PropertyStorage`\n",
    "\n",
    "**Note: Feel free to skip this part of the tutorial and continue to the \"`TabularStorageBasic` as `ChemStore`\" section if you are more interested in the cheminformatics features of QSPRpred and are not interested in understanding `PropertyStorage` in detail.**\n",
    "\n",
    "Tabular data is the most common data type in QSPR modelling and `pandas` is the Python package of choice when it comes to processing it. Therefore, we decided to compose the default `PropertyStorage` implementation around it and provide a light wrapper for the `pandas.DataFrame` class called `PandasDataTable`. `PandasDataTable` objects simply manage storage and state of a given `pandas.DataFrame` and giving it all features of the `PropertyStorage` API at the same time. You will typically not interact with these objects directly, but we will now use it for the demonstration of some functions facilitated by the `PropertyStorage` API. We will use the `A2A_LIGANDS.tsv` file from the tutorial data folder as an example data set. This file contains a list of ligands for the adenosine A2A receptor, which is a common target in drug discovery. The data set contains SMILES strings and some other properties relevant for QSPR modelling:"
   ]
  },
  {
   "cell_type": "code",
   "metadata": {
    "collapsed": false,
    "execution": {
     "iopub.execute_input": "2023-09-21T15:40:58.192498Z",
     "iopub.status.busy": "2023-09-21T15:40:58.192284Z",
     "iopub.status.idle": "2023-09-21T15:40:58.411954Z",
     "shell.execute_reply": "2023-09-21T15:40:58.411046Z"
    },
    "ExecuteTime": {
     "end_time": "2024-08-27T15:16:17.034213Z",
     "start_time": "2024-08-27T15:16:16.765260Z"
    }
   },
   "source": [
    "import pandas as pd\n",
    "\n",
    "df = pd.read_csv(\"../../tutorial_data/A2A_LIGANDS.tsv\", sep=\"\\t\")\n",
    "\n",
    "df.head()"
   ],
   "outputs": [
    {
     "data": {
      "text/plain": [
       "                                              SMILES  pchembl_value_Mean  \\\n",
       "0  Cc1nn(-c2cc(NC(=O)CCN(C)C)nc(-c3ccc(C)o3)n2)c(...                8.68   \n",
       "1  Nc1c(C(=O)Nc2ccc([N+](=O)[O-])cc2)sc2c1cc1CCCC...                4.82   \n",
       "2   O=C(Nc1nc2ncccc2n2c(=O)n(-c3ccccc3)nc12)c1ccccc1                5.65   \n",
       "3  CNC(=O)C12CC1C(n1cnc3c1nc(C#CCCCCC(=O)OC)nc3NC...                5.45   \n",
       "4  CCCn1c(=O)c2c(nc3cc(OC)ccn32)n(CCCNC(=O)c2ccc(...                5.20   \n",
       "\n",
       "     Year  \n",
       "0  2008.0  \n",
       "1  2010.0  \n",
       "2  2009.0  \n",
       "3  2009.0  \n",
       "4  2019.0  "
      ],
      "text/html": [
       "<div>\n",
       "<style scoped>\n",
       "    .dataframe tbody tr th:only-of-type {\n",
       "        vertical-align: middle;\n",
       "    }\n",
       "\n",
       "    .dataframe tbody tr th {\n",
       "        vertical-align: top;\n",
       "    }\n",
       "\n",
       "    .dataframe thead th {\n",
       "        text-align: right;\n",
       "    }\n",
       "</style>\n",
       "<table border=\"1\" class=\"dataframe\">\n",
       "  <thead>\n",
       "    <tr style=\"text-align: right;\">\n",
       "      <th></th>\n",
       "      <th>SMILES</th>\n",
       "      <th>pchembl_value_Mean</th>\n",
       "      <th>Year</th>\n",
       "    </tr>\n",
       "  </thead>\n",
       "  <tbody>\n",
       "    <tr>\n",
       "      <th>0</th>\n",
       "      <td>Cc1nn(-c2cc(NC(=O)CCN(C)C)nc(-c3ccc(C)o3)n2)c(...</td>\n",
       "      <td>8.68</td>\n",
       "      <td>2008.0</td>\n",
       "    </tr>\n",
       "    <tr>\n",
       "      <th>1</th>\n",
       "      <td>Nc1c(C(=O)Nc2ccc([N+](=O)[O-])cc2)sc2c1cc1CCCC...</td>\n",
       "      <td>4.82</td>\n",
       "      <td>2010.0</td>\n",
       "    </tr>\n",
       "    <tr>\n",
       "      <th>2</th>\n",
       "      <td>O=C(Nc1nc2ncccc2n2c(=O)n(-c3ccccc3)nc12)c1ccccc1</td>\n",
       "      <td>5.65</td>\n",
       "      <td>2009.0</td>\n",
       "    </tr>\n",
       "    <tr>\n",
       "      <th>3</th>\n",
       "      <td>CNC(=O)C12CC1C(n1cnc3c1nc(C#CCCCCC(=O)OC)nc3NC...</td>\n",
       "      <td>5.45</td>\n",
       "      <td>2009.0</td>\n",
       "    </tr>\n",
       "    <tr>\n",
       "      <th>4</th>\n",
       "      <td>CCCn1c(=O)c2c(nc3cc(OC)ccn32)n(CCCNC(=O)c2ccc(...</td>\n",
       "      <td>5.20</td>\n",
       "      <td>2019.0</td>\n",
       "    </tr>\n",
       "  </tbody>\n",
       "</table>\n",
       "</div>"
      ]
     },
     "execution_count": 1,
     "metadata": {},
     "output_type": "execute_result"
    }
   ],
   "execution_count": 1
  },
  {
   "metadata": {},
   "cell_type": "markdown",
   "source": "Wrapping this data frame in a `PandasDataTable` object is simple:"
  },
  {
   "cell_type": "code",
   "metadata": {
    "collapsed": false,
    "execution": {
     "iopub.execute_input": "2023-09-21T15:40:58.442281Z",
     "iopub.status.busy": "2023-09-21T15:40:58.441291Z",
     "iopub.status.idle": "2023-09-21T15:40:59.022817Z",
     "shell.execute_reply": "2023-09-21T15:40:59.021985Z"
    },
    "ExecuteTime": {
     "end_time": "2024-08-27T15:16:17.568124Z",
     "start_time": "2024-08-27T15:16:17.034991Z"
    }
   },
   "source": [
    "from qsprpred.data.tables.pandas import PandasDataTable\n",
    "import os\n",
    "\n",
    "random_state = 42  # for reproducibility of all random operations\n",
    "os.makedirs(\"../../tutorial_output/data\",\n",
    "            exist_ok=True)  # create the output directory if it does not exist yet\n",
    "dataset = PandasDataTable(df=df, store_dir=\"../../tutorial_output/data\",\n",
    "                          name=\"RepresentationTutorialDataset\",\n",
    "                          random_state=random_state)\n",
    "dataset.getDF()"
   ],
   "outputs": [
    {
     "data": {
      "text/plain": [
       "                                                                               SMILES  \\\n",
       "ID                                                                                      \n",
       "RepresentationTutorialDataset_0000  Cc1nn(-c2cc(NC(=O)CCN(C)C)nc(-c3ccc(C)o3)n2)c(...   \n",
       "RepresentationTutorialDataset_0001  Nc1c(C(=O)Nc2ccc([N+](=O)[O-])cc2)sc2c1cc1CCCC...   \n",
       "RepresentationTutorialDataset_0002   O=C(Nc1nc2ncccc2n2c(=O)n(-c3ccccc3)nc12)c1ccccc1   \n",
       "RepresentationTutorialDataset_0003  CNC(=O)C12CC1C(n1cnc3c1nc(C#CCCCCC(=O)OC)nc3NC...   \n",
       "RepresentationTutorialDataset_0004  CCCn1c(=O)c2c(nc3cc(OC)ccn32)n(CCCNC(=O)c2ccc(...   \n",
       "...                                                                               ...   \n",
       "RepresentationTutorialDataset_4077     CNc1ncc(C(=O)NCc2ccc(OC)cc2)c2nc(-c3ccco3)nn12   \n",
       "RepresentationTutorialDataset_4078         Nc1nc(-c2ccco2)c2ncn(C(=O)NCCc3ccccc3)c2n1   \n",
       "RepresentationTutorialDataset_4079              Nc1nc(Nc2ccc(F)cc2)nc(CSc2nnc(N)s2)n1   \n",
       "RepresentationTutorialDataset_4080      CCCOc1ccc(C=Cc2cc3c(c(=O)n(C)c(=O)n3C)n2C)cc1   \n",
       "RepresentationTutorialDataset_4081           CCOC(=O)c1cnc(NCC(C)C)n2nc(-c3ccco3)nc12   \n",
       "\n",
       "                                    pchembl_value_Mean    Year  \\\n",
       "ID                                                               \n",
       "RepresentationTutorialDataset_0000                8.68  2008.0   \n",
       "RepresentationTutorialDataset_0001                4.82  2010.0   \n",
       "RepresentationTutorialDataset_0002                5.65  2009.0   \n",
       "RepresentationTutorialDataset_0003                5.45  2009.0   \n",
       "RepresentationTutorialDataset_0004                5.20  2019.0   \n",
       "...                                                ...     ...   \n",
       "RepresentationTutorialDataset_4077                7.09  2018.0   \n",
       "RepresentationTutorialDataset_4078                8.22  2008.0   \n",
       "RepresentationTutorialDataset_4079                4.89  2010.0   \n",
       "RepresentationTutorialDataset_4080                6.51  2013.0   \n",
       "RepresentationTutorialDataset_4081                7.35  2014.0   \n",
       "\n",
       "                                                                    ID  \n",
       "ID                                                                      \n",
       "RepresentationTutorialDataset_0000  RepresentationTutorialDataset_0000  \n",
       "RepresentationTutorialDataset_0001  RepresentationTutorialDataset_0001  \n",
       "RepresentationTutorialDataset_0002  RepresentationTutorialDataset_0002  \n",
       "RepresentationTutorialDataset_0003  RepresentationTutorialDataset_0003  \n",
       "RepresentationTutorialDataset_0004  RepresentationTutorialDataset_0004  \n",
       "...                                                                ...  \n",
       "RepresentationTutorialDataset_4077  RepresentationTutorialDataset_4077  \n",
       "RepresentationTutorialDataset_4078  RepresentationTutorialDataset_4078  \n",
       "RepresentationTutorialDataset_4079  RepresentationTutorialDataset_4079  \n",
       "RepresentationTutorialDataset_4080  RepresentationTutorialDataset_4080  \n",
       "RepresentationTutorialDataset_4081  RepresentationTutorialDataset_4081  \n",
       "\n",
       "[4082 rows x 4 columns]"
      ],
      "text/html": [
       "<div>\n",
       "<style scoped>\n",
       "    .dataframe tbody tr th:only-of-type {\n",
       "        vertical-align: middle;\n",
       "    }\n",
       "\n",
       "    .dataframe tbody tr th {\n",
       "        vertical-align: top;\n",
       "    }\n",
       "\n",
       "    .dataframe thead th {\n",
       "        text-align: right;\n",
       "    }\n",
       "</style>\n",
       "<table border=\"1\" class=\"dataframe\">\n",
       "  <thead>\n",
       "    <tr style=\"text-align: right;\">\n",
       "      <th></th>\n",
       "      <th>SMILES</th>\n",
       "      <th>pchembl_value_Mean</th>\n",
       "      <th>Year</th>\n",
       "      <th>ID</th>\n",
       "    </tr>\n",
       "    <tr>\n",
       "      <th>ID</th>\n",
       "      <th></th>\n",
       "      <th></th>\n",
       "      <th></th>\n",
       "      <th></th>\n",
       "    </tr>\n",
       "  </thead>\n",
       "  <tbody>\n",
       "    <tr>\n",
       "      <th>RepresentationTutorialDataset_0000</th>\n",
       "      <td>Cc1nn(-c2cc(NC(=O)CCN(C)C)nc(-c3ccc(C)o3)n2)c(...</td>\n",
       "      <td>8.68</td>\n",
       "      <td>2008.0</td>\n",
       "      <td>RepresentationTutorialDataset_0000</td>\n",
       "    </tr>\n",
       "    <tr>\n",
       "      <th>RepresentationTutorialDataset_0001</th>\n",
       "      <td>Nc1c(C(=O)Nc2ccc([N+](=O)[O-])cc2)sc2c1cc1CCCC...</td>\n",
       "      <td>4.82</td>\n",
       "      <td>2010.0</td>\n",
       "      <td>RepresentationTutorialDataset_0001</td>\n",
       "    </tr>\n",
       "    <tr>\n",
       "      <th>RepresentationTutorialDataset_0002</th>\n",
       "      <td>O=C(Nc1nc2ncccc2n2c(=O)n(-c3ccccc3)nc12)c1ccccc1</td>\n",
       "      <td>5.65</td>\n",
       "      <td>2009.0</td>\n",
       "      <td>RepresentationTutorialDataset_0002</td>\n",
       "    </tr>\n",
       "    <tr>\n",
       "      <th>RepresentationTutorialDataset_0003</th>\n",
       "      <td>CNC(=O)C12CC1C(n1cnc3c1nc(C#CCCCCC(=O)OC)nc3NC...</td>\n",
       "      <td>5.45</td>\n",
       "      <td>2009.0</td>\n",
       "      <td>RepresentationTutorialDataset_0003</td>\n",
       "    </tr>\n",
       "    <tr>\n",
       "      <th>RepresentationTutorialDataset_0004</th>\n",
       "      <td>CCCn1c(=O)c2c(nc3cc(OC)ccn32)n(CCCNC(=O)c2ccc(...</td>\n",
       "      <td>5.20</td>\n",
       "      <td>2019.0</td>\n",
       "      <td>RepresentationTutorialDataset_0004</td>\n",
       "    </tr>\n",
       "    <tr>\n",
       "      <th>...</th>\n",
       "      <td>...</td>\n",
       "      <td>...</td>\n",
       "      <td>...</td>\n",
       "      <td>...</td>\n",
       "    </tr>\n",
       "    <tr>\n",
       "      <th>RepresentationTutorialDataset_4077</th>\n",
       "      <td>CNc1ncc(C(=O)NCc2ccc(OC)cc2)c2nc(-c3ccco3)nn12</td>\n",
       "      <td>7.09</td>\n",
       "      <td>2018.0</td>\n",
       "      <td>RepresentationTutorialDataset_4077</td>\n",
       "    </tr>\n",
       "    <tr>\n",
       "      <th>RepresentationTutorialDataset_4078</th>\n",
       "      <td>Nc1nc(-c2ccco2)c2ncn(C(=O)NCCc3ccccc3)c2n1</td>\n",
       "      <td>8.22</td>\n",
       "      <td>2008.0</td>\n",
       "      <td>RepresentationTutorialDataset_4078</td>\n",
       "    </tr>\n",
       "    <tr>\n",
       "      <th>RepresentationTutorialDataset_4079</th>\n",
       "      <td>Nc1nc(Nc2ccc(F)cc2)nc(CSc2nnc(N)s2)n1</td>\n",
       "      <td>4.89</td>\n",
       "      <td>2010.0</td>\n",
       "      <td>RepresentationTutorialDataset_4079</td>\n",
       "    </tr>\n",
       "    <tr>\n",
       "      <th>RepresentationTutorialDataset_4080</th>\n",
       "      <td>CCCOc1ccc(C=Cc2cc3c(c(=O)n(C)c(=O)n3C)n2C)cc1</td>\n",
       "      <td>6.51</td>\n",
       "      <td>2013.0</td>\n",
       "      <td>RepresentationTutorialDataset_4080</td>\n",
       "    </tr>\n",
       "    <tr>\n",
       "      <th>RepresentationTutorialDataset_4081</th>\n",
       "      <td>CCOC(=O)c1cnc(NCC(C)C)n2nc(-c3ccco3)nc12</td>\n",
       "      <td>7.35</td>\n",
       "      <td>2014.0</td>\n",
       "      <td>RepresentationTutorialDataset_4081</td>\n",
       "    </tr>\n",
       "  </tbody>\n",
       "</table>\n",
       "<p>4082 rows × 4 columns</p>\n",
       "</div>"
      ]
     },
     "execution_count": 2,
     "metadata": {},
     "output_type": "execute_result"
    }
   ],
   "execution_count": 2
  },
  {
   "cell_type": "markdown",
   "metadata": {},
   "source": "Since `pandas.DataFrame` is such a popular format, `PropertyStorage` enforces that `getDF` exists in all implementations and should list all data entries and all properties in the `PropertyStorage` object. This is to facilitate easy data exchange between QSPRpred and any custom code that relies on `pandas`. However, we can also do a lot with `PandasDataTable` objects directly:"
  },
  {
   "cell_type": "code",
   "metadata": {
    "collapsed": false,
    "execution": {
     "iopub.execute_input": "2023-09-21T15:40:59.026127Z",
     "iopub.status.busy": "2023-09-21T15:40:59.025578Z",
     "iopub.status.idle": "2023-09-21T15:40:59.031057Z",
     "shell.execute_reply": "2023-09-21T15:40:59.030006Z"
    },
    "ExecuteTime": {
     "end_time": "2024-08-27T15:16:17.571029Z",
     "start_time": "2024-08-27T15:16:17.568785Z"
    }
   },
   "source": [
    "len(dataset)"
   ],
   "outputs": [
    {
     "data": {
      "text/plain": [
       "4082"
      ]
     },
     "execution_count": 3,
     "metadata": {},
     "output_type": "execute_result"
    }
   ],
   "execution_count": 3
  },
  {
   "cell_type": "markdown",
   "metadata": {},
   "source": [
    "the saved properties/features:"
   ]
  },
  {
   "cell_type": "code",
   "metadata": {
    "collapsed": false,
    "execution": {
     "iopub.execute_input": "2023-09-21T15:40:59.034372Z",
     "iopub.status.busy": "2023-09-21T15:40:59.033863Z",
     "iopub.status.idle": "2023-09-21T15:40:59.041678Z",
     "shell.execute_reply": "2023-09-21T15:40:59.040758Z"
    },
    "ExecuteTime": {
     "end_time": "2024-08-27T15:16:17.573592Z",
     "start_time": "2024-08-27T15:16:17.571692Z"
    }
   },
   "source": [
    "dataset.getProperties()"
   ],
   "outputs": [
    {
     "data": {
      "text/plain": [
       "['SMILES', 'pchembl_value_Mean', 'Year', 'ID']"
      ]
     },
     "execution_count": 4,
     "metadata": {},
     "output_type": "execute_result"
    }
   ],
   "execution_count": 4
  },
  {
   "metadata": {},
   "cell_type": "markdown",
   "source": "You will also notice that `PandasDataTable` objects also automatically create a unique identifier for each data entry. This is the `idProp` property, which is a unique identifier for each data entry. This is useful for tracking data entries and is used internally by QSPRpred to keep track of data entries and selecting relevant subsets. You can access it as follows:"
  },
  {
   "metadata": {
    "ExecuteTime": {
     "end_time": "2024-08-27T15:16:17.576081Z",
     "start_time": "2024-08-27T15:16:17.574006Z"
    }
   },
   "cell_type": "code",
   "source": "dataset.idProp",
   "outputs": [
    {
     "data": {
      "text/plain": [
       "'ID'"
      ]
     },
     "execution_count": 5,
     "metadata": {},
     "output_type": "execute_result"
    }
   ],
   "execution_count": 5
  },
  {
   "metadata": {
    "ExecuteTime": {
     "end_time": "2024-08-27T15:16:17.579039Z",
     "start_time": "2024-08-27T15:16:17.576521Z"
    }
   },
   "cell_type": "code",
   "source": "dataset.getProperty(dataset.idProp)",
   "outputs": [
    {
     "data": {
      "text/plain": [
       "ID\n",
       "RepresentationTutorialDataset_0000    RepresentationTutorialDataset_0000\n",
       "RepresentationTutorialDataset_0001    RepresentationTutorialDataset_0001\n",
       "RepresentationTutorialDataset_0002    RepresentationTutorialDataset_0002\n",
       "RepresentationTutorialDataset_0003    RepresentationTutorialDataset_0003\n",
       "RepresentationTutorialDataset_0004    RepresentationTutorialDataset_0004\n",
       "                                                     ...                \n",
       "RepresentationTutorialDataset_4077    RepresentationTutorialDataset_4077\n",
       "RepresentationTutorialDataset_4078    RepresentationTutorialDataset_4078\n",
       "RepresentationTutorialDataset_4079    RepresentationTutorialDataset_4079\n",
       "RepresentationTutorialDataset_4080    RepresentationTutorialDataset_4080\n",
       "RepresentationTutorialDataset_4081    RepresentationTutorialDataset_4081\n",
       "Name: ID, Length: 4082, dtype: object"
      ]
     },
     "execution_count": 6,
     "metadata": {},
     "output_type": "execute_result"
    }
   ],
   "execution_count": 6
  },
  {
   "metadata": {},
   "cell_type": "markdown",
   "source": "Knowing the identifier, you can select a subset of the data set:"
  },
  {
   "metadata": {
    "ExecuteTime": {
     "end_time": "2024-08-27T15:16:17.584478Z",
     "start_time": "2024-08-27T15:16:17.579464Z"
    }
   },
   "cell_type": "code",
   "source": [
    "subset = dataset.getSubset([\"SMILES\", \"Year\"],\n",
    "                           ids=[\"RepresentationTutorialDataset_0000\",\n",
    "                                \"RepresentationTutorialDataset_0001\"])\n",
    "subset.getDF()"
   ],
   "outputs": [
    {
     "data": {
      "text/plain": [
       "                                                                               SMILES  \\\n",
       "ID                                                                                      \n",
       "RepresentationTutorialDataset_0000  Cc1nn(-c2cc(NC(=O)CCN(C)C)nc(-c3ccc(C)o3)n2)c(...   \n",
       "RepresentationTutorialDataset_0001  Nc1c(C(=O)Nc2ccc([N+](=O)[O-])cc2)sc2c1cc1CCCC...   \n",
       "\n",
       "                                      Year                                  ID  \n",
       "ID                                                                              \n",
       "RepresentationTutorialDataset_0000  2008.0  RepresentationTutorialDataset_0000  \n",
       "RepresentationTutorialDataset_0001  2010.0  RepresentationTutorialDataset_0001  "
      ],
      "text/html": [
       "<div>\n",
       "<style scoped>\n",
       "    .dataframe tbody tr th:only-of-type {\n",
       "        vertical-align: middle;\n",
       "    }\n",
       "\n",
       "    .dataframe tbody tr th {\n",
       "        vertical-align: top;\n",
       "    }\n",
       "\n",
       "    .dataframe thead th {\n",
       "        text-align: right;\n",
       "    }\n",
       "</style>\n",
       "<table border=\"1\" class=\"dataframe\">\n",
       "  <thead>\n",
       "    <tr style=\"text-align: right;\">\n",
       "      <th></th>\n",
       "      <th>SMILES</th>\n",
       "      <th>Year</th>\n",
       "      <th>ID</th>\n",
       "    </tr>\n",
       "    <tr>\n",
       "      <th>ID</th>\n",
       "      <th></th>\n",
       "      <th></th>\n",
       "      <th></th>\n",
       "    </tr>\n",
       "  </thead>\n",
       "  <tbody>\n",
       "    <tr>\n",
       "      <th>RepresentationTutorialDataset_0000</th>\n",
       "      <td>Cc1nn(-c2cc(NC(=O)CCN(C)C)nc(-c3ccc(C)o3)n2)c(...</td>\n",
       "      <td>2008.0</td>\n",
       "      <td>RepresentationTutorialDataset_0000</td>\n",
       "    </tr>\n",
       "    <tr>\n",
       "      <th>RepresentationTutorialDataset_0001</th>\n",
       "      <td>Nc1c(C(=O)Nc2ccc([N+](=O)[O-])cc2)sc2c1cc1CCCC...</td>\n",
       "      <td>2010.0</td>\n",
       "      <td>RepresentationTutorialDataset_0001</td>\n",
       "    </tr>\n",
       "  </tbody>\n",
       "</table>\n",
       "</div>"
      ]
     },
     "execution_count": 7,
     "metadata": {},
     "output_type": "execute_result"
    }
   ],
   "execution_count": 7
  },
  {
   "metadata": {},
   "cell_type": "markdown",
   "source": [
    "Notice that the subset is actually also a `PandasDataTable` object, so you can perform the same operations on it as on the original data set. \n",
    "\n",
    "You can also just get values of a single property for certain molecules:"
   ]
  },
  {
   "metadata": {
    "ExecuteTime": {
     "end_time": "2024-08-27T15:16:17.587840Z",
     "start_time": "2024-08-27T15:16:17.584907Z"
    }
   },
   "cell_type": "code",
   "source": [
    "dataset.getProperty(\"pchembl_value_Mean\", ids=[\"RepresentationTutorialDataset_0000\",\n",
    "                                               \"RepresentationTutorialDataset_0001\"])"
   ],
   "outputs": [
    {
     "data": {
      "text/plain": [
       "ID\n",
       "RepresentationTutorialDataset_0000    8.68\n",
       "RepresentationTutorialDataset_0001    4.82\n",
       "Name: pchembl_value_Mean, dtype: float64"
      ]
     },
     "execution_count": 8,
     "metadata": {},
     "output_type": "execute_result"
    }
   ],
   "execution_count": 8
  },
  {
   "metadata": {},
   "cell_type": "markdown",
   "source": "This is extended further and in this particular case we can also perform simple searches on properties:"
  },
  {
   "metadata": {
    "ExecuteTime": {
     "end_time": "2024-08-27T15:16:17.598313Z",
     "start_time": "2024-08-27T15:16:17.588776Z"
    }
   },
   "cell_type": "code",
   "source": [
    "subset = dataset.searchOnProperty(\"Year\", [2009, 2010], exact=True)\n",
    "subset.getDF()"
   ],
   "outputs": [
    {
     "data": {
      "text/plain": [
       "                                                                               SMILES  \\\n",
       "ID                                                                                      \n",
       "RepresentationTutorialDataset_0001  Nc1c(C(=O)Nc2ccc([N+](=O)[O-])cc2)sc2c1cc1CCCC...   \n",
       "RepresentationTutorialDataset_0002   O=C(Nc1nc2ncccc2n2c(=O)n(-c3ccccc3)nc12)c1ccccc1   \n",
       "RepresentationTutorialDataset_0003  CNC(=O)C12CC1C(n1cnc3c1nc(C#CCCCCC(=O)OC)nc3NC...   \n",
       "RepresentationTutorialDataset_0009      CCCn1c(=O)c2c([nH]c(-c3ccccc3)n2)n(CCCOC)c1=O   \n",
       "RepresentationTutorialDataset_0018  O=C(Nc1nc(-c2ccccc2)nc2nn(Cc3ccccc3)cc12)c1ccccc1   \n",
       "...                                                                               ...   \n",
       "RepresentationTutorialDataset_4049             Nc1nc(-c2ccco2)cc(C(=O)NCc2ccccc2Cl)n1   \n",
       "RepresentationTutorialDataset_4050            COc1ccccc1-c1cc(C(=O)NCc2ccccn2)nc(N)n1   \n",
       "RepresentationTutorialDataset_4060  N#Cc1cccc(C(=O)Nc2nc3c(ncc(C(=O)N4CCCCC4)c3)n2...   \n",
       "RepresentationTutorialDataset_4061          COc1ccc(CCSc2cc3nc(-c4ccco4)nn3c(N)n2)cc1   \n",
       "RepresentationTutorialDataset_4079              Nc1nc(Nc2ccc(F)cc2)nc(CSc2nnc(N)s2)n1   \n",
       "\n",
       "                                    pchembl_value_Mean    Year  \\\n",
       "ID                                                               \n",
       "RepresentationTutorialDataset_0001                4.82  2010.0   \n",
       "RepresentationTutorialDataset_0002                5.65  2009.0   \n",
       "RepresentationTutorialDataset_0003                5.45  2009.0   \n",
       "RepresentationTutorialDataset_0009                6.47  2009.0   \n",
       "RepresentationTutorialDataset_0018                6.74  2010.0   \n",
       "...                                                ...     ...   \n",
       "RepresentationTutorialDataset_4049                8.59  2009.0   \n",
       "RepresentationTutorialDataset_4050                7.24  2009.0   \n",
       "RepresentationTutorialDataset_4060                6.75  2010.0   \n",
       "RepresentationTutorialDataset_4061                8.80  2009.0   \n",
       "RepresentationTutorialDataset_4079                4.89  2010.0   \n",
       "\n",
       "                                                                    ID  \n",
       "ID                                                                      \n",
       "RepresentationTutorialDataset_0001  RepresentationTutorialDataset_0001  \n",
       "RepresentationTutorialDataset_0002  RepresentationTutorialDataset_0002  \n",
       "RepresentationTutorialDataset_0003  RepresentationTutorialDataset_0003  \n",
       "RepresentationTutorialDataset_0009  RepresentationTutorialDataset_0009  \n",
       "RepresentationTutorialDataset_0018  RepresentationTutorialDataset_0018  \n",
       "...                                                                ...  \n",
       "RepresentationTutorialDataset_4049  RepresentationTutorialDataset_4049  \n",
       "RepresentationTutorialDataset_4050  RepresentationTutorialDataset_4050  \n",
       "RepresentationTutorialDataset_4060  RepresentationTutorialDataset_4060  \n",
       "RepresentationTutorialDataset_4061  RepresentationTutorialDataset_4061  \n",
       "RepresentationTutorialDataset_4079  RepresentationTutorialDataset_4079  \n",
       "\n",
       "[804 rows x 4 columns]"
      ],
      "text/html": [
       "<div>\n",
       "<style scoped>\n",
       "    .dataframe tbody tr th:only-of-type {\n",
       "        vertical-align: middle;\n",
       "    }\n",
       "\n",
       "    .dataframe tbody tr th {\n",
       "        vertical-align: top;\n",
       "    }\n",
       "\n",
       "    .dataframe thead th {\n",
       "        text-align: right;\n",
       "    }\n",
       "</style>\n",
       "<table border=\"1\" class=\"dataframe\">\n",
       "  <thead>\n",
       "    <tr style=\"text-align: right;\">\n",
       "      <th></th>\n",
       "      <th>SMILES</th>\n",
       "      <th>pchembl_value_Mean</th>\n",
       "      <th>Year</th>\n",
       "      <th>ID</th>\n",
       "    </tr>\n",
       "    <tr>\n",
       "      <th>ID</th>\n",
       "      <th></th>\n",
       "      <th></th>\n",
       "      <th></th>\n",
       "      <th></th>\n",
       "    </tr>\n",
       "  </thead>\n",
       "  <tbody>\n",
       "    <tr>\n",
       "      <th>RepresentationTutorialDataset_0001</th>\n",
       "      <td>Nc1c(C(=O)Nc2ccc([N+](=O)[O-])cc2)sc2c1cc1CCCC...</td>\n",
       "      <td>4.82</td>\n",
       "      <td>2010.0</td>\n",
       "      <td>RepresentationTutorialDataset_0001</td>\n",
       "    </tr>\n",
       "    <tr>\n",
       "      <th>RepresentationTutorialDataset_0002</th>\n",
       "      <td>O=C(Nc1nc2ncccc2n2c(=O)n(-c3ccccc3)nc12)c1ccccc1</td>\n",
       "      <td>5.65</td>\n",
       "      <td>2009.0</td>\n",
       "      <td>RepresentationTutorialDataset_0002</td>\n",
       "    </tr>\n",
       "    <tr>\n",
       "      <th>RepresentationTutorialDataset_0003</th>\n",
       "      <td>CNC(=O)C12CC1C(n1cnc3c1nc(C#CCCCCC(=O)OC)nc3NC...</td>\n",
       "      <td>5.45</td>\n",
       "      <td>2009.0</td>\n",
       "      <td>RepresentationTutorialDataset_0003</td>\n",
       "    </tr>\n",
       "    <tr>\n",
       "      <th>RepresentationTutorialDataset_0009</th>\n",
       "      <td>CCCn1c(=O)c2c([nH]c(-c3ccccc3)n2)n(CCCOC)c1=O</td>\n",
       "      <td>6.47</td>\n",
       "      <td>2009.0</td>\n",
       "      <td>RepresentationTutorialDataset_0009</td>\n",
       "    </tr>\n",
       "    <tr>\n",
       "      <th>RepresentationTutorialDataset_0018</th>\n",
       "      <td>O=C(Nc1nc(-c2ccccc2)nc2nn(Cc3ccccc3)cc12)c1ccccc1</td>\n",
       "      <td>6.74</td>\n",
       "      <td>2010.0</td>\n",
       "      <td>RepresentationTutorialDataset_0018</td>\n",
       "    </tr>\n",
       "    <tr>\n",
       "      <th>...</th>\n",
       "      <td>...</td>\n",
       "      <td>...</td>\n",
       "      <td>...</td>\n",
       "      <td>...</td>\n",
       "    </tr>\n",
       "    <tr>\n",
       "      <th>RepresentationTutorialDataset_4049</th>\n",
       "      <td>Nc1nc(-c2ccco2)cc(C(=O)NCc2ccccc2Cl)n1</td>\n",
       "      <td>8.59</td>\n",
       "      <td>2009.0</td>\n",
       "      <td>RepresentationTutorialDataset_4049</td>\n",
       "    </tr>\n",
       "    <tr>\n",
       "      <th>RepresentationTutorialDataset_4050</th>\n",
       "      <td>COc1ccccc1-c1cc(C(=O)NCc2ccccn2)nc(N)n1</td>\n",
       "      <td>7.24</td>\n",
       "      <td>2009.0</td>\n",
       "      <td>RepresentationTutorialDataset_4050</td>\n",
       "    </tr>\n",
       "    <tr>\n",
       "      <th>RepresentationTutorialDataset_4060</th>\n",
       "      <td>N#Cc1cccc(C(=O)Nc2nc3c(ncc(C(=O)N4CCCCC4)c3)n2...</td>\n",
       "      <td>6.75</td>\n",
       "      <td>2010.0</td>\n",
       "      <td>RepresentationTutorialDataset_4060</td>\n",
       "    </tr>\n",
       "    <tr>\n",
       "      <th>RepresentationTutorialDataset_4061</th>\n",
       "      <td>COc1ccc(CCSc2cc3nc(-c4ccco4)nn3c(N)n2)cc1</td>\n",
       "      <td>8.80</td>\n",
       "      <td>2009.0</td>\n",
       "      <td>RepresentationTutorialDataset_4061</td>\n",
       "    </tr>\n",
       "    <tr>\n",
       "      <th>RepresentationTutorialDataset_4079</th>\n",
       "      <td>Nc1nc(Nc2ccc(F)cc2)nc(CSc2nnc(N)s2)n1</td>\n",
       "      <td>4.89</td>\n",
       "      <td>2010.0</td>\n",
       "      <td>RepresentationTutorialDataset_4079</td>\n",
       "    </tr>\n",
       "  </tbody>\n",
       "</table>\n",
       "<p>804 rows × 4 columns</p>\n",
       "</div>"
      ]
     },
     "execution_count": 9,
     "metadata": {},
     "output_type": "execute_result"
    }
   ],
   "execution_count": 9
  },
  {
   "cell_type": "markdown",
   "metadata": {},
   "source": "You can also do some operations on the data frame, like shuffle it (always the same result thanks to the fixed random state):"
  },
  {
   "cell_type": "code",
   "metadata": {
    "collapsed": false,
    "execution": {
     "iopub.execute_input": "2023-09-21T15:40:59.044194Z",
     "iopub.status.busy": "2023-09-21T15:40:59.043961Z",
     "iopub.status.idle": "2023-09-21T15:40:59.050633Z",
     "shell.execute_reply": "2023-09-21T15:40:59.049533Z"
    },
    "ExecuteTime": {
     "end_time": "2024-08-27T15:16:17.603778Z",
     "start_time": "2024-08-27T15:16:17.598775Z"
    }
   },
   "source": [
    "dataset.shuffle()\n",
    "dataset.getDF()"
   ],
   "outputs": [
    {
     "data": {
      "text/plain": [
       "                                                                               SMILES  \\\n",
       "ID                                                                                      \n",
       "RepresentationTutorialDataset_0599                CCCn1c(-c2ccccc2)nc2c1ncnc2NC1CCOC1   \n",
       "RepresentationTutorialDataset_0752      CCCn1c(=O)c2c([nH]c(-c3c[nH]nc3)n2)n(CCC)c1=O   \n",
       "RepresentationTutorialDataset_1954  COc1cccc2c1nc(N)n1nc(CN3CCN(c4ncc(F)cc4)CC3C)nc21   \n",
       "RepresentationTutorialDataset_2928          COc1cccc(CCCC(=O)Nc2nc3c(cccc3)c(=O)s2)c1   \n",
       "RepresentationTutorialDataset_2512   COc1c2nc(NC(=O)c3ccc(F)cc3)sc2c(N(CCO)C(C)=O)cc1   \n",
       "...                                                                               ...   \n",
       "RepresentationTutorialDataset_1130  CCNC(=O)C1OC(n2cnc3c2nc(C#CC2(O)CCCC2)nc3NCC)C...   \n",
       "RepresentationTutorialDataset_1294  CNC(=O)C1SC(n2cnc3c2nc(Cl)nc3NCc2cc(I)ccc2)C(O...   \n",
       "RepresentationTutorialDataset_0860  CCNC(=O)C1OC(n2cnc3c(N)nc(N4CCN(c5ccc(OCC(=O)O...   \n",
       "RepresentationTutorialDataset_3507        CNC(=O)C1[Se]C(n2cnc3c2ncnc3NC2CCC2)C(O)C1O   \n",
       "RepresentationTutorialDataset_3174    Nc1nc2c(cnn2CCCc2ccc3OCOc3c2)c2nc(-c3ccco3)nn12   \n",
       "\n",
       "                                    pchembl_value_Mean    Year  \\\n",
       "ID                                                               \n",
       "RepresentationTutorialDataset_0599                5.77  2018.0   \n",
       "RepresentationTutorialDataset_0752                6.64  2006.0   \n",
       "RepresentationTutorialDataset_1954                7.88  2015.0   \n",
       "RepresentationTutorialDataset_2928                6.94  2013.0   \n",
       "RepresentationTutorialDataset_2512                7.01  2010.0   \n",
       "...                                                ...     ...   \n",
       "RepresentationTutorialDataset_1130                6.03  2006.0   \n",
       "RepresentationTutorialDataset_1294                6.65  2003.0   \n",
       "RepresentationTutorialDataset_0860                7.28  2015.0   \n",
       "RepresentationTutorialDataset_3507                5.97  2017.0   \n",
       "RepresentationTutorialDataset_3174                8.48  1998.0   \n",
       "\n",
       "                                                                    ID  \n",
       "ID                                                                      \n",
       "RepresentationTutorialDataset_0599  RepresentationTutorialDataset_0599  \n",
       "RepresentationTutorialDataset_0752  RepresentationTutorialDataset_0752  \n",
       "RepresentationTutorialDataset_1954  RepresentationTutorialDataset_1954  \n",
       "RepresentationTutorialDataset_2928  RepresentationTutorialDataset_2928  \n",
       "RepresentationTutorialDataset_2512  RepresentationTutorialDataset_2512  \n",
       "...                                                                ...  \n",
       "RepresentationTutorialDataset_1130  RepresentationTutorialDataset_1130  \n",
       "RepresentationTutorialDataset_1294  RepresentationTutorialDataset_1294  \n",
       "RepresentationTutorialDataset_0860  RepresentationTutorialDataset_0860  \n",
       "RepresentationTutorialDataset_3507  RepresentationTutorialDataset_3507  \n",
       "RepresentationTutorialDataset_3174  RepresentationTutorialDataset_3174  \n",
       "\n",
       "[4082 rows x 4 columns]"
      ],
      "text/html": [
       "<div>\n",
       "<style scoped>\n",
       "    .dataframe tbody tr th:only-of-type {\n",
       "        vertical-align: middle;\n",
       "    }\n",
       "\n",
       "    .dataframe tbody tr th {\n",
       "        vertical-align: top;\n",
       "    }\n",
       "\n",
       "    .dataframe thead th {\n",
       "        text-align: right;\n",
       "    }\n",
       "</style>\n",
       "<table border=\"1\" class=\"dataframe\">\n",
       "  <thead>\n",
       "    <tr style=\"text-align: right;\">\n",
       "      <th></th>\n",
       "      <th>SMILES</th>\n",
       "      <th>pchembl_value_Mean</th>\n",
       "      <th>Year</th>\n",
       "      <th>ID</th>\n",
       "    </tr>\n",
       "    <tr>\n",
       "      <th>ID</th>\n",
       "      <th></th>\n",
       "      <th></th>\n",
       "      <th></th>\n",
       "      <th></th>\n",
       "    </tr>\n",
       "  </thead>\n",
       "  <tbody>\n",
       "    <tr>\n",
       "      <th>RepresentationTutorialDataset_0599</th>\n",
       "      <td>CCCn1c(-c2ccccc2)nc2c1ncnc2NC1CCOC1</td>\n",
       "      <td>5.77</td>\n",
       "      <td>2018.0</td>\n",
       "      <td>RepresentationTutorialDataset_0599</td>\n",
       "    </tr>\n",
       "    <tr>\n",
       "      <th>RepresentationTutorialDataset_0752</th>\n",
       "      <td>CCCn1c(=O)c2c([nH]c(-c3c[nH]nc3)n2)n(CCC)c1=O</td>\n",
       "      <td>6.64</td>\n",
       "      <td>2006.0</td>\n",
       "      <td>RepresentationTutorialDataset_0752</td>\n",
       "    </tr>\n",
       "    <tr>\n",
       "      <th>RepresentationTutorialDataset_1954</th>\n",
       "      <td>COc1cccc2c1nc(N)n1nc(CN3CCN(c4ncc(F)cc4)CC3C)nc21</td>\n",
       "      <td>7.88</td>\n",
       "      <td>2015.0</td>\n",
       "      <td>RepresentationTutorialDataset_1954</td>\n",
       "    </tr>\n",
       "    <tr>\n",
       "      <th>RepresentationTutorialDataset_2928</th>\n",
       "      <td>COc1cccc(CCCC(=O)Nc2nc3c(cccc3)c(=O)s2)c1</td>\n",
       "      <td>6.94</td>\n",
       "      <td>2013.0</td>\n",
       "      <td>RepresentationTutorialDataset_2928</td>\n",
       "    </tr>\n",
       "    <tr>\n",
       "      <th>RepresentationTutorialDataset_2512</th>\n",
       "      <td>COc1c2nc(NC(=O)c3ccc(F)cc3)sc2c(N(CCO)C(C)=O)cc1</td>\n",
       "      <td>7.01</td>\n",
       "      <td>2010.0</td>\n",
       "      <td>RepresentationTutorialDataset_2512</td>\n",
       "    </tr>\n",
       "    <tr>\n",
       "      <th>...</th>\n",
       "      <td>...</td>\n",
       "      <td>...</td>\n",
       "      <td>...</td>\n",
       "      <td>...</td>\n",
       "    </tr>\n",
       "    <tr>\n",
       "      <th>RepresentationTutorialDataset_1130</th>\n",
       "      <td>CCNC(=O)C1OC(n2cnc3c2nc(C#CC2(O)CCCC2)nc3NCC)C...</td>\n",
       "      <td>6.03</td>\n",
       "      <td>2006.0</td>\n",
       "      <td>RepresentationTutorialDataset_1130</td>\n",
       "    </tr>\n",
       "    <tr>\n",
       "      <th>RepresentationTutorialDataset_1294</th>\n",
       "      <td>CNC(=O)C1SC(n2cnc3c2nc(Cl)nc3NCc2cc(I)ccc2)C(O...</td>\n",
       "      <td>6.65</td>\n",
       "      <td>2003.0</td>\n",
       "      <td>RepresentationTutorialDataset_1294</td>\n",
       "    </tr>\n",
       "    <tr>\n",
       "      <th>RepresentationTutorialDataset_0860</th>\n",
       "      <td>CCNC(=O)C1OC(n2cnc3c(N)nc(N4CCN(c5ccc(OCC(=O)O...</td>\n",
       "      <td>7.28</td>\n",
       "      <td>2015.0</td>\n",
       "      <td>RepresentationTutorialDataset_0860</td>\n",
       "    </tr>\n",
       "    <tr>\n",
       "      <th>RepresentationTutorialDataset_3507</th>\n",
       "      <td>CNC(=O)C1[Se]C(n2cnc3c2ncnc3NC2CCC2)C(O)C1O</td>\n",
       "      <td>5.97</td>\n",
       "      <td>2017.0</td>\n",
       "      <td>RepresentationTutorialDataset_3507</td>\n",
       "    </tr>\n",
       "    <tr>\n",
       "      <th>RepresentationTutorialDataset_3174</th>\n",
       "      <td>Nc1nc2c(cnn2CCCc2ccc3OCOc3c2)c2nc(-c3ccco3)nn12</td>\n",
       "      <td>8.48</td>\n",
       "      <td>1998.0</td>\n",
       "      <td>RepresentationTutorialDataset_3174</td>\n",
       "    </tr>\n",
       "  </tbody>\n",
       "</table>\n",
       "<p>4082 rows × 4 columns</p>\n",
       "</div>"
      ]
     },
     "execution_count": 10,
     "metadata": {},
     "output_type": "execute_result"
    }
   ],
   "execution_count": 10
  },
  {
   "cell_type": "markdown",
   "metadata": {},
   "source": "We can also edit the properties:"
  },
  {
   "cell_type": "code",
   "metadata": {
    "ExecuteTime": {
     "end_time": "2024-08-27T15:16:17.611185Z",
     "start_time": "2024-08-27T15:16:17.604391Z"
    }
   },
   "source": [
    "# get\n",
    "year = dataset.getProperty(\"Year\")\n",
    "display(year)\n",
    "# drop\n",
    "dataset.removeProperty(\"Year\")\n",
    "display(dataset.getProperties())\n",
    "# set\n",
    "dataset.addProperty(\"Year\", year)\n",
    "display(dataset.getProperties())\n",
    "# set only for some ids\n",
    "dataset.addProperty(\"Year\", [1990, 1990], ids=dataset.getProperty(dataset.idProp)[:2])\n",
    "display(dataset.getProperty(\"Year\", ids=dataset.getProperty(dataset.idProp)[:2]))"
   ],
   "outputs": [
    {
     "data": {
      "text/plain": [
       "ID\n",
       "RepresentationTutorialDataset_0599    2018.0\n",
       "RepresentationTutorialDataset_0752    2006.0\n",
       "RepresentationTutorialDataset_1954    2015.0\n",
       "RepresentationTutorialDataset_2928    2013.0\n",
       "RepresentationTutorialDataset_2512    2010.0\n",
       "                                       ...  \n",
       "RepresentationTutorialDataset_1130    2006.0\n",
       "RepresentationTutorialDataset_1294    2003.0\n",
       "RepresentationTutorialDataset_0860    2015.0\n",
       "RepresentationTutorialDataset_3507    2017.0\n",
       "RepresentationTutorialDataset_3174    1998.0\n",
       "Name: Year, Length: 4082, dtype: float64"
      ]
     },
     "metadata": {},
     "output_type": "display_data"
    },
    {
     "data": {
      "text/plain": [
       "['SMILES', 'pchembl_value_Mean', 'ID']"
      ]
     },
     "metadata": {},
     "output_type": "display_data"
    },
    {
     "data": {
      "text/plain": [
       "['SMILES', 'pchembl_value_Mean', 'ID', 'Year']"
      ]
     },
     "metadata": {},
     "output_type": "display_data"
    },
    {
     "data": {
      "text/plain": [
       "ID\n",
       "RepresentationTutorialDataset_0599    1990.0\n",
       "RepresentationTutorialDataset_0752    1990.0\n",
       "Name: Year, dtype: float64"
      ]
     },
     "metadata": {},
     "output_type": "display_data"
    }
   ],
   "execution_count": 11
  },
  {
   "cell_type": "markdown",
   "metadata": {},
   "source": [
    "You can easily achieve all of those by editing the data frame directly, but `pandas` syntax can sometimes be cumbersome, so it is nice to have more intuitive methods available. However, you can always access the underlying data frame if more complex operations are needed and then wrap it back into a `PandasDataTable` object.\n",
    "\n",
    "### `TabularStorageBasic` as `ChemStore`\n",
    "\n",
    "`PandasDataTable` is not very exciting because it does not offer much on top of the `pandas.DataFrame` class. However, it is a good starting point to understand the `PropertyStorage` API. The `ChemStore` interface is a more advanced version of `PropertyStorage` that is specifically designed for storing and managing chemical data sets. `TabularStorageBasic` implements `ChemStore` using data frames managed by `PandasDataTable` under the hood as well, but thanks to `ChemStore` has a few more capabilities:"
   ]
  },
  {
   "cell_type": "code",
   "metadata": {
    "collapsed": false,
    "execution": {
     "iopub.execute_input": "2023-09-21T15:40:59.195569Z",
     "iopub.status.busy": "2023-09-21T15:40:59.195084Z",
     "iopub.status.idle": "2023-09-21T15:40:59.230080Z",
     "shell.execute_reply": "2023-09-21T15:40:59.229190Z"
    },
    "ExecuteTime": {
     "end_time": "2024-08-27T15:17:26.763028Z",
     "start_time": "2024-08-27T15:16:17.611727Z"
    }
   },
   "source": [
    "from qsprpred.data.chem.identifiers import InchiIdentifier\n",
    "from qsprpred.data.chem.standardizers.papyrus import PapyrusStandardizer\n",
    "from qsprpred.data.storage.tabular.basic_storage import TabularStorageBasic\n",
    "\n",
    "df = pd.read_csv(\"../../tutorial_data/A2A_LIGANDS.tsv\", sep=\"\\t\")\n",
    "storage = TabularStorageBasic(\n",
    "    name=\"RepresentationTutorialChemStore\",\n",
    "    path=\"../../tutorial_output/data\",\n",
    "    df=df,\n",
    "    smiles_col=\"SMILES\",\n",
    "    standardizer=PapyrusStandardizer(),  # standardizes the SMILES strings\n",
    "    identifier=InchiIdentifier()  # generates custom identifiers\n",
    ")\n",
    "storage"
   ],
   "outputs": [
    {
     "data": {
      "text/plain": [
       "TabularStorageBasic (4082)"
      ]
     },
     "execution_count": 12,
     "metadata": {},
     "output_type": "execute_result"
    }
   ],
   "execution_count": 12
  },
  {
   "metadata": {},
   "cell_type": "markdown",
   "source": "As you can see, the code above took a little while to execute. That is because we also performed custom standardization and unique identification of the molecules. In this case, we already have standardized data, but in other cases it might be useful to standardize and identify molecules to find potential duplicates in your data set. In this sense, QSPRpred is also a molecule registration system that you can use to merge data sets from different sources. If you want to speed things up, you can tell `TabularStorageBasic` to run on multiple CPUs as well:"
  },
  {
   "metadata": {
    "ExecuteTime": {
     "end_time": "2024-08-27T15:17:31.571917Z",
     "start_time": "2024-08-27T15:17:26.763587Z"
    }
   },
   "cell_type": "code",
   "source": [
    "df = pd.read_csv(\"../../tutorial_data/A2A_LIGANDS.tsv\", sep=\"\\t\")\n",
    "storage = TabularStorageBasic(\n",
    "    name=\"RepresentationTutorialChemStore\",\n",
    "    path=\"../../tutorial_output/data\",\n",
    "    df=df,\n",
    "    smiles_col=\"SMILES\",\n",
    "    standardizer=PapyrusStandardizer(),  # standardizes the SMILES strings\n",
    "    identifier=InchiIdentifier(),  # generates custom identifiers\n",
    "    n_jobs=os.cpu_count()  # use all available CPUs\n",
    ")\n",
    "storage"
   ],
   "outputs": [
    {
     "data": {
      "text/plain": [
       "TabularStorageBasic (4082)"
      ]
     },
     "execution_count": 13,
     "metadata": {},
     "output_type": "execute_result"
    }
   ],
   "execution_count": 13
  },
  {
   "metadata": {},
   "cell_type": "markdown",
   "source": [
    "If you have multiple cores available, this should have been considerably faster. Easy parallelization is also one feature you get for free with QSPRpred (see [this advanced tutorial to learn more](../../advanced/data/parallelization.ipynb)).\n",
    "\n",
    "Remember that the `TabularStorageBasic` object is also a `PropertyStorage` object, so you can use all the methods and attributes of the `PropertyStorage` API on it:"
   ]
  },
  {
   "metadata": {
    "ExecuteTime": {
     "end_time": "2024-08-27T15:17:31.587814Z",
     "start_time": "2024-08-27T15:17:31.572618Z"
    }
   },
   "cell_type": "code",
   "source": [
    "subset = storage.searchOnProperty(\"Year\", [2009, 2010], exact=True)\n",
    "subset.getDF()"
   ],
   "outputs": [
    {
     "data": {
      "text/plain": [
       "                                                                        SMILES  \\\n",
       "ID                                                                               \n",
       "AAEYTMMNWWKSKZ-UHFFFAOYSA-N  Nc1c(C(=O)Nc2ccc([N+](=O)[O-])cc2)sc2nc3c(cc12...   \n",
       "AAGFKZWKWAMJNP-UHFFFAOYSA-N   O=C(Nc1nc2ncccc2n2c(=O)n(-c3ccccc3)nc12)c1ccccc1   \n",
       "AANUKDYJZPKTKN-UHFFFAOYSA-N  CNC(=O)C12CC1C(n1cnc3c(NCc4cccc(Cl)c4)nc(C#CCC...   \n",
       "ABIXUHSEHFCQMV-UHFFFAOYSA-N        CCCn1c(=O)c2[nH]c(-c3ccccc3)nc2n(CCCOC)c1=O   \n",
       "ACNFYYUXBQGWQL-UHFFFAOYSA-N  O=C(Nc1nc(-c2ccccc2)nc2nn(Cc3ccccc3)cc12)c1ccccc1   \n",
       "...                                                                        ...   \n",
       "ZVWNHOGZGKJOCZ-UHFFFAOYSA-N             Nc1nc(C(=O)NCc2ccccc2Cl)cc(-c2ccco2)n1   \n",
       "ZVYYCMRDDCYZAU-UHFFFAOYSA-N            COc1ccccc1-c1cc(C(=O)NCc2ccccn2)nc(N)n1   \n",
       "ZWVWCKOJGDHDIG-UHFFFAOYSA-N  N#Cc1cccc(C(=O)Nc2nc3cc(C(=O)N4CCCCC4)cnc3n2C2...   \n",
       "ZXCVHJXQJJLILE-UHFFFAOYSA-N          COc1ccc(CCSc2cc3nc(-c4ccco4)nn3c(N)n2)cc1   \n",
       "ZZBZWSYDXUPJCT-UHFFFAOYSA-N              Nc1nc(CSc2nnc(N)s2)nc(Nc2ccc(F)cc2)n1   \n",
       "\n",
       "                             pchembl_value_Mean    Year  \\\n",
       "ID                                                        \n",
       "AAEYTMMNWWKSKZ-UHFFFAOYSA-N                4.82  2010.0   \n",
       "AAGFKZWKWAMJNP-UHFFFAOYSA-N                5.65  2009.0   \n",
       "AANUKDYJZPKTKN-UHFFFAOYSA-N                5.45  2009.0   \n",
       "ABIXUHSEHFCQMV-UHFFFAOYSA-N                6.47  2009.0   \n",
       "ACNFYYUXBQGWQL-UHFFFAOYSA-N                6.74  2010.0   \n",
       "...                                         ...     ...   \n",
       "ZVWNHOGZGKJOCZ-UHFFFAOYSA-N                8.59  2009.0   \n",
       "ZVYYCMRDDCYZAU-UHFFFAOYSA-N                7.24  2009.0   \n",
       "ZWVWCKOJGDHDIG-UHFFFAOYSA-N                6.75  2010.0   \n",
       "ZXCVHJXQJJLILE-UHFFFAOYSA-N                8.80  2009.0   \n",
       "ZZBZWSYDXUPJCT-UHFFFAOYSA-N                4.89  2010.0   \n",
       "\n",
       "                                                               original_smiles  \\\n",
       "ID                                                                               \n",
       "AAEYTMMNWWKSKZ-UHFFFAOYSA-N  Nc1c(C(=O)Nc2ccc([N+](=O)[O-])cc2)sc2nc3c(cc12...   \n",
       "AAGFKZWKWAMJNP-UHFFFAOYSA-N   O=C(Nc1nc2ncccc2n2c(=O)n(-c3ccccc3)nc12)c1ccccc1   \n",
       "AANUKDYJZPKTKN-UHFFFAOYSA-N  CNC(=O)C12CC1C(n1cnc3c(NCc4cccc(Cl)c4)nc(C#CCC...   \n",
       "ABIXUHSEHFCQMV-UHFFFAOYSA-N        CCCn1c(=O)c2[nH]c(-c3ccccc3)nc2n(CCCOC)c1=O   \n",
       "ACNFYYUXBQGWQL-UHFFFAOYSA-N  O=C(Nc1nc(-c2ccccc2)nc2nn(Cc3ccccc3)cc12)c1ccccc1   \n",
       "...                                                                        ...   \n",
       "ZVWNHOGZGKJOCZ-UHFFFAOYSA-N             Nc1nc(C(=O)NCc2ccccc2Cl)cc(-c2ccco2)n1   \n",
       "ZVYYCMRDDCYZAU-UHFFFAOYSA-N            COc1ccccc1-c1cc(C(=O)NCc2ccccn2)nc(N)n1   \n",
       "ZWVWCKOJGDHDIG-UHFFFAOYSA-N  N#Cc1cccc(C(=O)Nc2nc3cc(C(=O)N4CCCCC4)cnc3n2C2...   \n",
       "ZXCVHJXQJJLILE-UHFFFAOYSA-N          COc1ccc(CCSc2cc3nc(-c4ccco4)nn3c(N)n2)cc1   \n",
       "ZZBZWSYDXUPJCT-UHFFFAOYSA-N              Nc1nc(CSc2nnc(N)s2)nc(Nc2ccc(F)cc2)n1   \n",
       "\n",
       "                                                      ID  \\\n",
       "ID                                                         \n",
       "AAEYTMMNWWKSKZ-UHFFFAOYSA-N  AAEYTMMNWWKSKZ-UHFFFAOYSA-N   \n",
       "AAGFKZWKWAMJNP-UHFFFAOYSA-N  AAGFKZWKWAMJNP-UHFFFAOYSA-N   \n",
       "AANUKDYJZPKTKN-UHFFFAOYSA-N  AANUKDYJZPKTKN-UHFFFAOYSA-N   \n",
       "ABIXUHSEHFCQMV-UHFFFAOYSA-N  ABIXUHSEHFCQMV-UHFFFAOYSA-N   \n",
       "ACNFYYUXBQGWQL-UHFFFAOYSA-N  ACNFYYUXBQGWQL-UHFFFAOYSA-N   \n",
       "...                                                  ...   \n",
       "ZVWNHOGZGKJOCZ-UHFFFAOYSA-N  ZVWNHOGZGKJOCZ-UHFFFAOYSA-N   \n",
       "ZVYYCMRDDCYZAU-UHFFFAOYSA-N  ZVYYCMRDDCYZAU-UHFFFAOYSA-N   \n",
       "ZWVWCKOJGDHDIG-UHFFFAOYSA-N  ZWVWCKOJGDHDIG-UHFFFAOYSA-N   \n",
       "ZXCVHJXQJJLILE-UHFFFAOYSA-N  ZXCVHJXQJJLILE-UHFFFAOYSA-N   \n",
       "ZZBZWSYDXUPJCT-UHFFFAOYSA-N  ZZBZWSYDXUPJCT-UHFFFAOYSA-N   \n",
       "\n",
       "                                        ID_before_change  \n",
       "ID                                                        \n",
       "AAEYTMMNWWKSKZ-UHFFFAOYSA-N  AAEYTMMNWWKSKZ-UHFFFAOYSA-N  \n",
       "AAGFKZWKWAMJNP-UHFFFAOYSA-N  AAGFKZWKWAMJNP-UHFFFAOYSA-N  \n",
       "AANUKDYJZPKTKN-UHFFFAOYSA-N  AANUKDYJZPKTKN-UHFFFAOYSA-N  \n",
       "ABIXUHSEHFCQMV-UHFFFAOYSA-N  ABIXUHSEHFCQMV-UHFFFAOYSA-N  \n",
       "ACNFYYUXBQGWQL-UHFFFAOYSA-N  ACNFYYUXBQGWQL-UHFFFAOYSA-N  \n",
       "...                                                  ...  \n",
       "ZVWNHOGZGKJOCZ-UHFFFAOYSA-N  ZVWNHOGZGKJOCZ-UHFFFAOYSA-N  \n",
       "ZVYYCMRDDCYZAU-UHFFFAOYSA-N  ZVYYCMRDDCYZAU-UHFFFAOYSA-N  \n",
       "ZWVWCKOJGDHDIG-UHFFFAOYSA-N  ZWVWCKOJGDHDIG-UHFFFAOYSA-N  \n",
       "ZXCVHJXQJJLILE-UHFFFAOYSA-N  ZXCVHJXQJJLILE-UHFFFAOYSA-N  \n",
       "ZZBZWSYDXUPJCT-UHFFFAOYSA-N  ZZBZWSYDXUPJCT-UHFFFAOYSA-N  \n",
       "\n",
       "[804 rows x 6 columns]"
      ],
      "text/html": [
       "<div>\n",
       "<style scoped>\n",
       "    .dataframe tbody tr th:only-of-type {\n",
       "        vertical-align: middle;\n",
       "    }\n",
       "\n",
       "    .dataframe tbody tr th {\n",
       "        vertical-align: top;\n",
       "    }\n",
       "\n",
       "    .dataframe thead th {\n",
       "        text-align: right;\n",
       "    }\n",
       "</style>\n",
       "<table border=\"1\" class=\"dataframe\">\n",
       "  <thead>\n",
       "    <tr style=\"text-align: right;\">\n",
       "      <th></th>\n",
       "      <th>SMILES</th>\n",
       "      <th>pchembl_value_Mean</th>\n",
       "      <th>Year</th>\n",
       "      <th>original_smiles</th>\n",
       "      <th>ID</th>\n",
       "      <th>ID_before_change</th>\n",
       "    </tr>\n",
       "    <tr>\n",
       "      <th>ID</th>\n",
       "      <th></th>\n",
       "      <th></th>\n",
       "      <th></th>\n",
       "      <th></th>\n",
       "      <th></th>\n",
       "      <th></th>\n",
       "    </tr>\n",
       "  </thead>\n",
       "  <tbody>\n",
       "    <tr>\n",
       "      <th>AAEYTMMNWWKSKZ-UHFFFAOYSA-N</th>\n",
       "      <td>Nc1c(C(=O)Nc2ccc([N+](=O)[O-])cc2)sc2nc3c(cc12...</td>\n",
       "      <td>4.82</td>\n",
       "      <td>2010.0</td>\n",
       "      <td>Nc1c(C(=O)Nc2ccc([N+](=O)[O-])cc2)sc2nc3c(cc12...</td>\n",
       "      <td>AAEYTMMNWWKSKZ-UHFFFAOYSA-N</td>\n",
       "      <td>AAEYTMMNWWKSKZ-UHFFFAOYSA-N</td>\n",
       "    </tr>\n",
       "    <tr>\n",
       "      <th>AAGFKZWKWAMJNP-UHFFFAOYSA-N</th>\n",
       "      <td>O=C(Nc1nc2ncccc2n2c(=O)n(-c3ccccc3)nc12)c1ccccc1</td>\n",
       "      <td>5.65</td>\n",
       "      <td>2009.0</td>\n",
       "      <td>O=C(Nc1nc2ncccc2n2c(=O)n(-c3ccccc3)nc12)c1ccccc1</td>\n",
       "      <td>AAGFKZWKWAMJNP-UHFFFAOYSA-N</td>\n",
       "      <td>AAGFKZWKWAMJNP-UHFFFAOYSA-N</td>\n",
       "    </tr>\n",
       "    <tr>\n",
       "      <th>AANUKDYJZPKTKN-UHFFFAOYSA-N</th>\n",
       "      <td>CNC(=O)C12CC1C(n1cnc3c(NCc4cccc(Cl)c4)nc(C#CCC...</td>\n",
       "      <td>5.45</td>\n",
       "      <td>2009.0</td>\n",
       "      <td>CNC(=O)C12CC1C(n1cnc3c(NCc4cccc(Cl)c4)nc(C#CCC...</td>\n",
       "      <td>AANUKDYJZPKTKN-UHFFFAOYSA-N</td>\n",
       "      <td>AANUKDYJZPKTKN-UHFFFAOYSA-N</td>\n",
       "    </tr>\n",
       "    <tr>\n",
       "      <th>ABIXUHSEHFCQMV-UHFFFAOYSA-N</th>\n",
       "      <td>CCCn1c(=O)c2[nH]c(-c3ccccc3)nc2n(CCCOC)c1=O</td>\n",
       "      <td>6.47</td>\n",
       "      <td>2009.0</td>\n",
       "      <td>CCCn1c(=O)c2[nH]c(-c3ccccc3)nc2n(CCCOC)c1=O</td>\n",
       "      <td>ABIXUHSEHFCQMV-UHFFFAOYSA-N</td>\n",
       "      <td>ABIXUHSEHFCQMV-UHFFFAOYSA-N</td>\n",
       "    </tr>\n",
       "    <tr>\n",
       "      <th>ACNFYYUXBQGWQL-UHFFFAOYSA-N</th>\n",
       "      <td>O=C(Nc1nc(-c2ccccc2)nc2nn(Cc3ccccc3)cc12)c1ccccc1</td>\n",
       "      <td>6.74</td>\n",
       "      <td>2010.0</td>\n",
       "      <td>O=C(Nc1nc(-c2ccccc2)nc2nn(Cc3ccccc3)cc12)c1ccccc1</td>\n",
       "      <td>ACNFYYUXBQGWQL-UHFFFAOYSA-N</td>\n",
       "      <td>ACNFYYUXBQGWQL-UHFFFAOYSA-N</td>\n",
       "    </tr>\n",
       "    <tr>\n",
       "      <th>...</th>\n",
       "      <td>...</td>\n",
       "      <td>...</td>\n",
       "      <td>...</td>\n",
       "      <td>...</td>\n",
       "      <td>...</td>\n",
       "      <td>...</td>\n",
       "    </tr>\n",
       "    <tr>\n",
       "      <th>ZVWNHOGZGKJOCZ-UHFFFAOYSA-N</th>\n",
       "      <td>Nc1nc(C(=O)NCc2ccccc2Cl)cc(-c2ccco2)n1</td>\n",
       "      <td>8.59</td>\n",
       "      <td>2009.0</td>\n",
       "      <td>Nc1nc(C(=O)NCc2ccccc2Cl)cc(-c2ccco2)n1</td>\n",
       "      <td>ZVWNHOGZGKJOCZ-UHFFFAOYSA-N</td>\n",
       "      <td>ZVWNHOGZGKJOCZ-UHFFFAOYSA-N</td>\n",
       "    </tr>\n",
       "    <tr>\n",
       "      <th>ZVYYCMRDDCYZAU-UHFFFAOYSA-N</th>\n",
       "      <td>COc1ccccc1-c1cc(C(=O)NCc2ccccn2)nc(N)n1</td>\n",
       "      <td>7.24</td>\n",
       "      <td>2009.0</td>\n",
       "      <td>COc1ccccc1-c1cc(C(=O)NCc2ccccn2)nc(N)n1</td>\n",
       "      <td>ZVYYCMRDDCYZAU-UHFFFAOYSA-N</td>\n",
       "      <td>ZVYYCMRDDCYZAU-UHFFFAOYSA-N</td>\n",
       "    </tr>\n",
       "    <tr>\n",
       "      <th>ZWVWCKOJGDHDIG-UHFFFAOYSA-N</th>\n",
       "      <td>N#Cc1cccc(C(=O)Nc2nc3cc(C(=O)N4CCCCC4)cnc3n2C2...</td>\n",
       "      <td>6.75</td>\n",
       "      <td>2010.0</td>\n",
       "      <td>N#Cc1cccc(C(=O)Nc2nc3cc(C(=O)N4CCCCC4)cnc3n2C2...</td>\n",
       "      <td>ZWVWCKOJGDHDIG-UHFFFAOYSA-N</td>\n",
       "      <td>ZWVWCKOJGDHDIG-UHFFFAOYSA-N</td>\n",
       "    </tr>\n",
       "    <tr>\n",
       "      <th>ZXCVHJXQJJLILE-UHFFFAOYSA-N</th>\n",
       "      <td>COc1ccc(CCSc2cc3nc(-c4ccco4)nn3c(N)n2)cc1</td>\n",
       "      <td>8.80</td>\n",
       "      <td>2009.0</td>\n",
       "      <td>COc1ccc(CCSc2cc3nc(-c4ccco4)nn3c(N)n2)cc1</td>\n",
       "      <td>ZXCVHJXQJJLILE-UHFFFAOYSA-N</td>\n",
       "      <td>ZXCVHJXQJJLILE-UHFFFAOYSA-N</td>\n",
       "    </tr>\n",
       "    <tr>\n",
       "      <th>ZZBZWSYDXUPJCT-UHFFFAOYSA-N</th>\n",
       "      <td>Nc1nc(CSc2nnc(N)s2)nc(Nc2ccc(F)cc2)n1</td>\n",
       "      <td>4.89</td>\n",
       "      <td>2010.0</td>\n",
       "      <td>Nc1nc(CSc2nnc(N)s2)nc(Nc2ccc(F)cc2)n1</td>\n",
       "      <td>ZZBZWSYDXUPJCT-UHFFFAOYSA-N</td>\n",
       "      <td>ZZBZWSYDXUPJCT-UHFFFAOYSA-N</td>\n",
       "    </tr>\n",
       "  </tbody>\n",
       "</table>\n",
       "<p>804 rows × 6 columns</p>\n",
       "</div>"
      ]
     },
     "execution_count": 14,
     "metadata": {},
     "output_type": "execute_result"
    }
   ],
   "execution_count": 14
  },
  {
   "metadata": {},
   "cell_type": "markdown",
   "source": "In addition to what we already explored, `ChemStore` also adds a few more cheminformatics tools that some might appreciate. You can iterate over the storage and get the molecules as `StoredMol` objects, which have their own capabilities:"
  },
  {
   "metadata": {
    "ExecuteTime": {
     "end_time": "2024-08-27T15:17:31.607318Z",
     "start_time": "2024-08-27T15:17:31.588291Z"
    }
   },
   "cell_type": "code",
   "source": [
    "for mol in storage:\n",
    "    print(mol)\n",
    "    print(mol.as_rd_mol())\n",
    "    print(mol.smiles)\n",
    "    print(mol.props)\n",
    "    print(mol.representations)\n",
    "    break"
   ],
   "outputs": [
    {
     "name": "stdout",
     "output_type": "stream",
     "text": [
      "TabularMol(AACWUFIIMOHGSO-UHFFFAOYSA-N, Cc1cc(C)n(-c2cc(NC(=O)CCN(C)C)nc(-c3ccc(C)o3)n2)n1)\n",
      "<rdkit.Chem.rdchem.Mol object at 0x7f92ca9b8820>\n",
      "Cc1cc(C)n(-c2cc(NC(=O)CCN(C)C)nc(-c3ccc(C)o3)n2)n1\n",
      "{'Year': 2008.0, 'original_smiles': 'Cc1nn(-c2cc(NC(=O)CCN(C)C)nc(-c3ccc(C)o3)n2)c(C)c1', 'ID_before_change': 'RepresentationTutorialChemStore_library_0000', 'ID': 'AACWUFIIMOHGSO-UHFFFAOYSA-N', 'SMILES': 'Cc1cc(C)n(-c2cc(NC(=O)CCN(C)C)nc(-c3ccc(C)o3)n2)n1', 'pchembl_value_Mean': 8.68}\n",
      "None\n"
     ]
    }
   ],
   "execution_count": 15
  },
  {
   "metadata": {},
   "cell_type": "markdown",
   "source": [
    "Therefore, we have all the information about the molecule we can get, and we can also easily turn it into an rdkit molecule object. Not that the `representations` property is currently empty for the molecules, which would be populated if we had conformers, protomers, tautomers or other representations of the molecule present in the storage. This feature is not implemented yet, but will be soon (feel free to inquire about the status on the [issue tracker](https://github.com/CDDLeiden/QSPRpred/issues) or via [email](https://github.com/CDDLeiden/QSPRpred/blob/main/pyproject.toml)).\n",
    "\n",
    "You can also iterate over the molecules in chunks:"
   ]
  },
  {
   "metadata": {
    "ExecuteTime": {
     "end_time": "2024-08-27T15:17:31.610235Z",
     "start_time": "2024-08-27T15:17:31.607905Z"
    }
   },
   "cell_type": "code",
   "source": [
    "for chunk in storage.iterChunks(size=2):\n",
    "    print(chunk)\n",
    "    break"
   ],
   "outputs": [
    {
     "name": "stdout",
     "output_type": "stream",
     "text": [
      "[<qsprpred.data.storage.tabular.stored_mol.TabularMol object at 0x7f9337fc5f10>, <qsprpred.data.storage.tabular.stored_mol.TabularMol object at 0x7f9337fc6780>]\n"
     ]
    }
   ],
   "execution_count": 16
  },
  {
   "metadata": {},
   "cell_type": "markdown",
   "source": "This can be useful when processing large data sets one chunk at a time and with a smart implementation of `ChemStore.iterChunks` the data set does not have to be loaded into memory all at once. The chunks can also be consumed in parallel, which can speed up processing even further (see [this advanced tutorial to learn more](../../advanced/data/parallelization.ipynb))."
  },
  {
   "metadata": {},
   "cell_type": "markdown",
   "source": [
    "### `MoleculeTable` and `QSPRDataset`\n",
    "\n",
    "Now that we know a bit about how QSPRpred stores molecules, we can take a look at the data structures you know from [the quick start](../../quick_start.ipynb) and how they are implemented. The `MoleculeTable` and `QSPRDataset` classes are specific for QSPR modelling tasks and implement a selection of interfaces for this purpose. Check out entries for `MoleculeDataSet` and `QSPRDataSet` abstract classes in the [API documentation](https://cddleiden.github.io/QSPRpred/docs/api/modules.html) to see what they offer. The main thing to remember for this tutorial, however, is that `MoleculeTable` adds the ability to add and store molecular descriptors and `QSPRDataset` is its subclass, which adds the ability to store information about target properties and modelling tasks. We can initialize them from `ChemStore` instances quite easily:"
   ]
  },
  {
   "metadata": {
    "ExecuteTime": {
     "end_time": "2024-08-27T15:17:31.617297Z",
     "start_time": "2024-08-27T15:17:31.610759Z"
    }
   },
   "cell_type": "code",
   "source": [
    "from qsprpred.data import MoleculeTable\n",
    "\n",
    "mt = MoleculeTable(\n",
    "    storage,  # ChemStore object \n",
    "    name=\"RepresentationTutorialMoleculeTable\",\n",
    "    path=\"../../tutorial_output/data\",\n",
    "    # where the molecule table associated data will live\n",
    ")\n",
    "mt.getDF()"
   ],
   "outputs": [
    {
     "data": {
      "text/plain": [
       "                                                                        SMILES  \\\n",
       "ID                                                                               \n",
       "AACWUFIIMOHGSO-UHFFFAOYSA-N  Cc1cc(C)n(-c2cc(NC(=O)CCN(C)C)nc(-c3ccc(C)o3)n...   \n",
       "AAEYTMMNWWKSKZ-UHFFFAOYSA-N  Nc1c(C(=O)Nc2ccc([N+](=O)[O-])cc2)sc2nc3c(cc12...   \n",
       "AAGFKZWKWAMJNP-UHFFFAOYSA-N   O=C(Nc1nc2ncccc2n2c(=O)n(-c3ccccc3)nc12)c1ccccc1   \n",
       "AANUKDYJZPKTKN-UHFFFAOYSA-N  CNC(=O)C12CC1C(n1cnc3c(NCc4cccc(Cl)c4)nc(C#CCC...   \n",
       "AASXHCGIIQCKEE-UHFFFAOYSA-N  CCCn1c(=O)c2c(nc3cc(OC)ccn32)n(CCCNC(=O)c2ccc(...   \n",
       "...                                                                        ...   \n",
       "ZYXGKENMDDPQIE-UHFFFAOYSA-N     CNc1ncc(C(=O)NCc2ccc(OC)cc2)c2nc(-c3ccco3)nn12   \n",
       "ZYZWFDVXMLCIOU-UHFFFAOYSA-N         Nc1nc(-c2ccco2)c2ncn(C(=O)NCCc3ccccc3)c2n1   \n",
       "ZZBZWSYDXUPJCT-UHFFFAOYSA-N              Nc1nc(CSc2nnc(N)s2)nc(Nc2ccc(F)cc2)n1   \n",
       "ZZMIPZLRKFEGIA-UHFFFAOYSA-N      CCCOc1ccc(C=Cc2cc3c(c(=O)n(C)c(=O)n3C)n2C)cc1   \n",
       "ZZXIVHBZTITUIW-UHFFFAOYSA-N           CCOC(=O)c1cnc(NCC(C)C)n2nc(-c3ccco3)nc12   \n",
       "\n",
       "                             pchembl_value_Mean    Year  \\\n",
       "ID                                                        \n",
       "AACWUFIIMOHGSO-UHFFFAOYSA-N                8.68  2008.0   \n",
       "AAEYTMMNWWKSKZ-UHFFFAOYSA-N                4.82  2010.0   \n",
       "AAGFKZWKWAMJNP-UHFFFAOYSA-N                5.65  2009.0   \n",
       "AANUKDYJZPKTKN-UHFFFAOYSA-N                5.45  2009.0   \n",
       "AASXHCGIIQCKEE-UHFFFAOYSA-N                5.20  2019.0   \n",
       "...                                         ...     ...   \n",
       "ZYXGKENMDDPQIE-UHFFFAOYSA-N                7.09  2018.0   \n",
       "ZYZWFDVXMLCIOU-UHFFFAOYSA-N                8.22  2008.0   \n",
       "ZZBZWSYDXUPJCT-UHFFFAOYSA-N                4.89  2010.0   \n",
       "ZZMIPZLRKFEGIA-UHFFFAOYSA-N                6.51  2013.0   \n",
       "ZZXIVHBZTITUIW-UHFFFAOYSA-N                7.35  2014.0   \n",
       "\n",
       "                                                               original_smiles  \\\n",
       "ID                                                                               \n",
       "AACWUFIIMOHGSO-UHFFFAOYSA-N  Cc1nn(-c2cc(NC(=O)CCN(C)C)nc(-c3ccc(C)o3)n2)c(...   \n",
       "AAEYTMMNWWKSKZ-UHFFFAOYSA-N  Nc1c(C(=O)Nc2ccc([N+](=O)[O-])cc2)sc2c1cc1CCCC...   \n",
       "AAGFKZWKWAMJNP-UHFFFAOYSA-N   O=C(Nc1nc2ncccc2n2c(=O)n(-c3ccccc3)nc12)c1ccccc1   \n",
       "AANUKDYJZPKTKN-UHFFFAOYSA-N  CNC(=O)C12CC1C(n1cnc3c1nc(C#CCCCCC(=O)OC)nc3NC...   \n",
       "AASXHCGIIQCKEE-UHFFFAOYSA-N  CCCn1c(=O)c2c(nc3cc(OC)ccn32)n(CCCNC(=O)c2ccc(...   \n",
       "...                                                                        ...   \n",
       "ZYXGKENMDDPQIE-UHFFFAOYSA-N     CNc1ncc(C(=O)NCc2ccc(OC)cc2)c2nc(-c3ccco3)nn12   \n",
       "ZYZWFDVXMLCIOU-UHFFFAOYSA-N         Nc1nc(-c2ccco2)c2ncn(C(=O)NCCc3ccccc3)c2n1   \n",
       "ZZBZWSYDXUPJCT-UHFFFAOYSA-N              Nc1nc(Nc2ccc(F)cc2)nc(CSc2nnc(N)s2)n1   \n",
       "ZZMIPZLRKFEGIA-UHFFFAOYSA-N      CCCOc1ccc(C=Cc2cc3c(c(=O)n(C)c(=O)n3C)n2C)cc1   \n",
       "ZZXIVHBZTITUIW-UHFFFAOYSA-N           CCOC(=O)c1cnc(NCC(C)C)n2nc(-c3ccco3)nc12   \n",
       "\n",
       "                                                      ID  \\\n",
       "ID                                                         \n",
       "AACWUFIIMOHGSO-UHFFFAOYSA-N  AACWUFIIMOHGSO-UHFFFAOYSA-N   \n",
       "AAEYTMMNWWKSKZ-UHFFFAOYSA-N  AAEYTMMNWWKSKZ-UHFFFAOYSA-N   \n",
       "AAGFKZWKWAMJNP-UHFFFAOYSA-N  AAGFKZWKWAMJNP-UHFFFAOYSA-N   \n",
       "AANUKDYJZPKTKN-UHFFFAOYSA-N  AANUKDYJZPKTKN-UHFFFAOYSA-N   \n",
       "AASXHCGIIQCKEE-UHFFFAOYSA-N  AASXHCGIIQCKEE-UHFFFAOYSA-N   \n",
       "...                                                  ...   \n",
       "ZYXGKENMDDPQIE-UHFFFAOYSA-N  ZYXGKENMDDPQIE-UHFFFAOYSA-N   \n",
       "ZYZWFDVXMLCIOU-UHFFFAOYSA-N  ZYZWFDVXMLCIOU-UHFFFAOYSA-N   \n",
       "ZZBZWSYDXUPJCT-UHFFFAOYSA-N  ZZBZWSYDXUPJCT-UHFFFAOYSA-N   \n",
       "ZZMIPZLRKFEGIA-UHFFFAOYSA-N  ZZMIPZLRKFEGIA-UHFFFAOYSA-N   \n",
       "ZZXIVHBZTITUIW-UHFFFAOYSA-N  ZZXIVHBZTITUIW-UHFFFAOYSA-N   \n",
       "\n",
       "                                                         ID_before_change  \n",
       "ID                                                                         \n",
       "AACWUFIIMOHGSO-UHFFFAOYSA-N  RepresentationTutorialChemStore_library_0000  \n",
       "AAEYTMMNWWKSKZ-UHFFFAOYSA-N  RepresentationTutorialChemStore_library_0001  \n",
       "AAGFKZWKWAMJNP-UHFFFAOYSA-N  RepresentationTutorialChemStore_library_0002  \n",
       "AANUKDYJZPKTKN-UHFFFAOYSA-N  RepresentationTutorialChemStore_library_0003  \n",
       "AASXHCGIIQCKEE-UHFFFAOYSA-N  RepresentationTutorialChemStore_library_0004  \n",
       "...                                                                   ...  \n",
       "ZYXGKENMDDPQIE-UHFFFAOYSA-N  RepresentationTutorialChemStore_library_4077  \n",
       "ZYZWFDVXMLCIOU-UHFFFAOYSA-N  RepresentationTutorialChemStore_library_4078  \n",
       "ZZBZWSYDXUPJCT-UHFFFAOYSA-N  RepresentationTutorialChemStore_library_4079  \n",
       "ZZMIPZLRKFEGIA-UHFFFAOYSA-N  RepresentationTutorialChemStore_library_4080  \n",
       "ZZXIVHBZTITUIW-UHFFFAOYSA-N  RepresentationTutorialChemStore_library_4081  \n",
       "\n",
       "[4082 rows x 6 columns]"
      ],
      "text/html": [
       "<div>\n",
       "<style scoped>\n",
       "    .dataframe tbody tr th:only-of-type {\n",
       "        vertical-align: middle;\n",
       "    }\n",
       "\n",
       "    .dataframe tbody tr th {\n",
       "        vertical-align: top;\n",
       "    }\n",
       "\n",
       "    .dataframe thead th {\n",
       "        text-align: right;\n",
       "    }\n",
       "</style>\n",
       "<table border=\"1\" class=\"dataframe\">\n",
       "  <thead>\n",
       "    <tr style=\"text-align: right;\">\n",
       "      <th></th>\n",
       "      <th>SMILES</th>\n",
       "      <th>pchembl_value_Mean</th>\n",
       "      <th>Year</th>\n",
       "      <th>original_smiles</th>\n",
       "      <th>ID</th>\n",
       "      <th>ID_before_change</th>\n",
       "    </tr>\n",
       "    <tr>\n",
       "      <th>ID</th>\n",
       "      <th></th>\n",
       "      <th></th>\n",
       "      <th></th>\n",
       "      <th></th>\n",
       "      <th></th>\n",
       "      <th></th>\n",
       "    </tr>\n",
       "  </thead>\n",
       "  <tbody>\n",
       "    <tr>\n",
       "      <th>AACWUFIIMOHGSO-UHFFFAOYSA-N</th>\n",
       "      <td>Cc1cc(C)n(-c2cc(NC(=O)CCN(C)C)nc(-c3ccc(C)o3)n...</td>\n",
       "      <td>8.68</td>\n",
       "      <td>2008.0</td>\n",
       "      <td>Cc1nn(-c2cc(NC(=O)CCN(C)C)nc(-c3ccc(C)o3)n2)c(...</td>\n",
       "      <td>AACWUFIIMOHGSO-UHFFFAOYSA-N</td>\n",
       "      <td>RepresentationTutorialChemStore_library_0000</td>\n",
       "    </tr>\n",
       "    <tr>\n",
       "      <th>AAEYTMMNWWKSKZ-UHFFFAOYSA-N</th>\n",
       "      <td>Nc1c(C(=O)Nc2ccc([N+](=O)[O-])cc2)sc2nc3c(cc12...</td>\n",
       "      <td>4.82</td>\n",
       "      <td>2010.0</td>\n",
       "      <td>Nc1c(C(=O)Nc2ccc([N+](=O)[O-])cc2)sc2c1cc1CCCC...</td>\n",
       "      <td>AAEYTMMNWWKSKZ-UHFFFAOYSA-N</td>\n",
       "      <td>RepresentationTutorialChemStore_library_0001</td>\n",
       "    </tr>\n",
       "    <tr>\n",
       "      <th>AAGFKZWKWAMJNP-UHFFFAOYSA-N</th>\n",
       "      <td>O=C(Nc1nc2ncccc2n2c(=O)n(-c3ccccc3)nc12)c1ccccc1</td>\n",
       "      <td>5.65</td>\n",
       "      <td>2009.0</td>\n",
       "      <td>O=C(Nc1nc2ncccc2n2c(=O)n(-c3ccccc3)nc12)c1ccccc1</td>\n",
       "      <td>AAGFKZWKWAMJNP-UHFFFAOYSA-N</td>\n",
       "      <td>RepresentationTutorialChemStore_library_0002</td>\n",
       "    </tr>\n",
       "    <tr>\n",
       "      <th>AANUKDYJZPKTKN-UHFFFAOYSA-N</th>\n",
       "      <td>CNC(=O)C12CC1C(n1cnc3c(NCc4cccc(Cl)c4)nc(C#CCC...</td>\n",
       "      <td>5.45</td>\n",
       "      <td>2009.0</td>\n",
       "      <td>CNC(=O)C12CC1C(n1cnc3c1nc(C#CCCCCC(=O)OC)nc3NC...</td>\n",
       "      <td>AANUKDYJZPKTKN-UHFFFAOYSA-N</td>\n",
       "      <td>RepresentationTutorialChemStore_library_0003</td>\n",
       "    </tr>\n",
       "    <tr>\n",
       "      <th>AASXHCGIIQCKEE-UHFFFAOYSA-N</th>\n",
       "      <td>CCCn1c(=O)c2c(nc3cc(OC)ccn32)n(CCCNC(=O)c2ccc(...</td>\n",
       "      <td>5.20</td>\n",
       "      <td>2019.0</td>\n",
       "      <td>CCCn1c(=O)c2c(nc3cc(OC)ccn32)n(CCCNC(=O)c2ccc(...</td>\n",
       "      <td>AASXHCGIIQCKEE-UHFFFAOYSA-N</td>\n",
       "      <td>RepresentationTutorialChemStore_library_0004</td>\n",
       "    </tr>\n",
       "    <tr>\n",
       "      <th>...</th>\n",
       "      <td>...</td>\n",
       "      <td>...</td>\n",
       "      <td>...</td>\n",
       "      <td>...</td>\n",
       "      <td>...</td>\n",
       "      <td>...</td>\n",
       "    </tr>\n",
       "    <tr>\n",
       "      <th>ZYXGKENMDDPQIE-UHFFFAOYSA-N</th>\n",
       "      <td>CNc1ncc(C(=O)NCc2ccc(OC)cc2)c2nc(-c3ccco3)nn12</td>\n",
       "      <td>7.09</td>\n",
       "      <td>2018.0</td>\n",
       "      <td>CNc1ncc(C(=O)NCc2ccc(OC)cc2)c2nc(-c3ccco3)nn12</td>\n",
       "      <td>ZYXGKENMDDPQIE-UHFFFAOYSA-N</td>\n",
       "      <td>RepresentationTutorialChemStore_library_4077</td>\n",
       "    </tr>\n",
       "    <tr>\n",
       "      <th>ZYZWFDVXMLCIOU-UHFFFAOYSA-N</th>\n",
       "      <td>Nc1nc(-c2ccco2)c2ncn(C(=O)NCCc3ccccc3)c2n1</td>\n",
       "      <td>8.22</td>\n",
       "      <td>2008.0</td>\n",
       "      <td>Nc1nc(-c2ccco2)c2ncn(C(=O)NCCc3ccccc3)c2n1</td>\n",
       "      <td>ZYZWFDVXMLCIOU-UHFFFAOYSA-N</td>\n",
       "      <td>RepresentationTutorialChemStore_library_4078</td>\n",
       "    </tr>\n",
       "    <tr>\n",
       "      <th>ZZBZWSYDXUPJCT-UHFFFAOYSA-N</th>\n",
       "      <td>Nc1nc(CSc2nnc(N)s2)nc(Nc2ccc(F)cc2)n1</td>\n",
       "      <td>4.89</td>\n",
       "      <td>2010.0</td>\n",
       "      <td>Nc1nc(Nc2ccc(F)cc2)nc(CSc2nnc(N)s2)n1</td>\n",
       "      <td>ZZBZWSYDXUPJCT-UHFFFAOYSA-N</td>\n",
       "      <td>RepresentationTutorialChemStore_library_4079</td>\n",
       "    </tr>\n",
       "    <tr>\n",
       "      <th>ZZMIPZLRKFEGIA-UHFFFAOYSA-N</th>\n",
       "      <td>CCCOc1ccc(C=Cc2cc3c(c(=O)n(C)c(=O)n3C)n2C)cc1</td>\n",
       "      <td>6.51</td>\n",
       "      <td>2013.0</td>\n",
       "      <td>CCCOc1ccc(C=Cc2cc3c(c(=O)n(C)c(=O)n3C)n2C)cc1</td>\n",
       "      <td>ZZMIPZLRKFEGIA-UHFFFAOYSA-N</td>\n",
       "      <td>RepresentationTutorialChemStore_library_4080</td>\n",
       "    </tr>\n",
       "    <tr>\n",
       "      <th>ZZXIVHBZTITUIW-UHFFFAOYSA-N</th>\n",
       "      <td>CCOC(=O)c1cnc(NCC(C)C)n2nc(-c3ccco3)nc12</td>\n",
       "      <td>7.35</td>\n",
       "      <td>2014.0</td>\n",
       "      <td>CCOC(=O)c1cnc(NCC(C)C)n2nc(-c3ccco3)nc12</td>\n",
       "      <td>ZZXIVHBZTITUIW-UHFFFAOYSA-N</td>\n",
       "      <td>RepresentationTutorialChemStore_library_4081</td>\n",
       "    </tr>\n",
       "  </tbody>\n",
       "</table>\n",
       "<p>4082 rows × 6 columns</p>\n",
       "</div>"
      ]
     },
     "execution_count": 17,
     "metadata": {},
     "output_type": "execute_result"
    }
   ],
   "execution_count": 17
  },
  {
   "metadata": {},
   "cell_type": "markdown",
   "source": "Again, since this is also a `PropertyStorage` object, you can use all the methods and attributes of the `PropertyStorage` API on it and it also exposes a lot of the underlying storage methods and functionality as well: "
  },
  {
   "metadata": {
    "ExecuteTime": {
     "end_time": "2024-08-27T15:17:31.620076Z",
     "start_time": "2024-08-27T15:17:31.617860Z"
    }
   },
   "cell_type": "code",
   "source": [
    "for mol in mt:\n",
    "    print(mol)\n",
    "    print(mol.as_rd_mol())\n",
    "    print(mol.smiles)\n",
    "    print(mol.props)\n",
    "    print(mol.representations)\n",
    "    break"
   ],
   "outputs": [
    {
     "name": "stdout",
     "output_type": "stream",
     "text": [
      "TabularMol(AACWUFIIMOHGSO-UHFFFAOYSA-N, Cc1cc(C)n(-c2cc(NC(=O)CCN(C)C)nc(-c3ccc(C)o3)n2)n1)\n",
      "<rdkit.Chem.rdchem.Mol object at 0x7f92ca9b8820>\n",
      "Cc1cc(C)n(-c2cc(NC(=O)CCN(C)C)nc(-c3ccc(C)o3)n2)n1\n",
      "{'Year': 2008.0, 'original_smiles': 'Cc1nn(-c2cc(NC(=O)CCN(C)C)nc(-c3ccc(C)o3)n2)c(C)c1', 'ID_before_change': 'RepresentationTutorialChemStore_library_0000', 'ID': 'AACWUFIIMOHGSO-UHFFFAOYSA-N', 'SMILES': 'Cc1cc(C)n(-c2cc(NC(=O)CCN(C)C)nc(-c3ccc(C)o3)n2)n1', 'pchembl_value_Mean': 8.68}\n",
      "None\n"
     ]
    }
   ],
   "execution_count": 18
  },
  {
   "metadata": {},
   "cell_type": "markdown",
   "source": "Note that `ChemStore` objects are also subscriptable, which is also true for `MoleculeTable` objects:"
  },
  {
   "metadata": {
    "ExecuteTime": {
     "end_time": "2024-08-27T15:17:31.625925Z",
     "start_time": "2024-08-27T15:17:31.620656Z"
    }
   },
   "cell_type": "code",
   "source": "mt['AACWUFIIMOHGSO-UHFFFAOYSA-N'].props",
   "outputs": [
    {
     "data": {
      "text/plain": [
       "{'SMILES': 'Cc1cc(C)n(-c2cc(NC(=O)CCN(C)C)nc(-c3ccc(C)o3)n2)n1',\n",
       " 'pchembl_value_Mean': 8.68,\n",
       " 'Year': 2008.0,\n",
       " 'original_smiles': 'Cc1nn(-c2cc(NC(=O)CCN(C)C)nc(-c3ccc(C)o3)n2)c(C)c1',\n",
       " 'ID': 'AACWUFIIMOHGSO-UHFFFAOYSA-N',\n",
       " 'ID_before_change': 'RepresentationTutorialChemStore_library_0000'}"
      ]
     },
     "execution_count": 19,
     "metadata": {},
     "output_type": "execute_result"
    }
   ],
   "execution_count": 19
  },
  {
   "metadata": {},
   "cell_type": "markdown",
   "source": "`QSPRDataset` is a subclass of `MoleculeTable`, which requires target properties to be defined in addition to the underlying `ChemStore` object:"
  },
  {
   "metadata": {
    "ExecuteTime": {
     "end_time": "2024-08-27T15:17:31.635259Z",
     "start_time": "2024-08-27T15:17:31.626411Z"
    }
   },
   "cell_type": "code",
   "source": [
    "from qsprpred import TargetTasks, TargetProperty\n",
    "\n",
    "from qsprpred.data import QSPRDataset\n",
    "\n",
    "dataset = QSPRDataset(\n",
    "    storage,  # ChemStore object\n",
    "    name=\"RepresentationTutorialDataset\",\n",
    "    path=\"../../tutorial_output/data\",\n",
    "    target_props=[TargetProperty(\"pchembl_value_Mean\", TargetTasks.REGRESSION)]\n",
    ")\n",
    "dataset.targetProperties"
   ],
   "outputs": [
    {
     "data": {
      "text/plain": [
       "[TargetProperty(name=pchembl_value_Mean, task=REGRESSION)]"
      ]
     },
     "execution_count": 20,
     "metadata": {},
     "output_type": "execute_result"
    }
   ],
   "execution_count": 20
  },
  {
   "metadata": {},
   "cell_type": "markdown",
   "source": "But you can also create it by converting from a `MoleculeTable` object:"
  },
  {
   "metadata": {
    "ExecuteTime": {
     "end_time": "2024-08-27T15:17:31.647994Z",
     "start_time": "2024-08-27T15:17:31.635710Z"
    }
   },
   "cell_type": "code",
   "source": [
    "dataset = QSPRDataset.fromMolTable(mt, target_props=[\n",
    "    TargetProperty(\"pchembl_value_Mean\", TargetTasks.REGRESSION)\n",
    "])\n",
    "dataset.targetProperties"
   ],
   "outputs": [
    {
     "data": {
      "text/plain": [
       "[TargetProperty(name=pchembl_value_Mean, task=REGRESSION)]"
      ]
     },
     "execution_count": 21,
     "metadata": {},
     "output_type": "execute_result"
    }
   ],
   "execution_count": 21
  },
  {
   "metadata": {},
   "cell_type": "markdown",
   "source": "But you can also go directly from a data frame, which will create the underlying `ChemStore` object for you:"
  },
  {
   "metadata": {
    "ExecuteTime": {
     "end_time": "2024-08-27T15:17:31.664782Z",
     "start_time": "2024-08-27T15:17:31.648470Z"
    }
   },
   "cell_type": "code",
   "source": [
    "dataset = QSPRDataset.fromDF(\n",
    "    name=\"RepresentationTutorialDataset\",\n",
    "    df=df,\n",
    "    path=\"../../tutorial_output/data\",\n",
    "    target_props=[TargetProperty(\"pchembl_value_Mean\", TargetTasks.REGRESSION)],\n",
    "    smiles_col=\"SMILES\"\n",
    ")\n",
    "dataset.targetProperties"
   ],
   "outputs": [
    {
     "data": {
      "text/plain": [
       "[TargetProperty(name=pchembl_value_Mean, task=REGRESSION)]"
      ]
     },
     "execution_count": 22,
     "metadata": {},
     "output_type": "execute_result"
    }
   ],
   "execution_count": 22
  },
  {
   "metadata": {
    "ExecuteTime": {
     "end_time": "2024-08-27T15:17:31.667430Z",
     "start_time": "2024-08-27T15:17:31.665421Z"
    }
   },
   "cell_type": "code",
   "source": "dataset.storage",
   "outputs": [
    {
     "data": {
      "text/plain": [
       "TabularStorageBasic (3286)"
      ]
     },
     "execution_count": 23,
     "metadata": {},
     "output_type": "execute_result"
    }
   ],
   "execution_count": 23
  },
  {
   "cell_type": "markdown",
   "metadata": {},
   "source": [
    "### Saving and Loading\n",
    "\n",
    "The data structures in QSPRpred are also designed to be easily saved and reloaded from files to persist changes. We can easily save the data set to a file like this:"
   ]
  },
  {
   "cell_type": "code",
   "metadata": {
    "collapsed": false,
    "execution": {
     "iopub.execute_input": "2023-09-21T15:41:13.669645Z",
     "iopub.status.busy": "2023-09-21T15:41:13.669383Z",
     "iopub.status.idle": "2023-09-21T15:41:13.682232Z",
     "shell.execute_reply": "2023-09-21T15:41:13.681377Z"
    },
    "ExecuteTime": {
     "end_time": "2024-08-27T15:17:31.682859Z",
     "start_time": "2024-08-27T15:17:31.668894Z"
    }
   },
   "source": "dataset.save()",
   "outputs": [],
   "execution_count": 24
  },
  {
   "metadata": {},
   "cell_type": "markdown",
   "source": "This will save the data set into a folder we specified upon creation:"
  },
  {
   "metadata": {
    "ExecuteTime": {
     "end_time": "2024-08-27T15:17:31.685217Z",
     "start_time": "2024-08-27T15:17:31.683359Z"
    }
   },
   "cell_type": "code",
   "source": "dataset.path",
   "outputs": [
    {
     "data": {
      "text/plain": [
       "'/home/sichom/projects/QSPRpred/tutorials/tutorial_output/data/RepresentationTutorialDataset'"
      ]
     },
     "execution_count": 25,
     "metadata": {},
     "output_type": "execute_result"
    }
   ],
   "execution_count": 25
  },
  {
   "metadata": {},
   "cell_type": "markdown",
   "source": "It will also update or save the underlying `ChemStore` object, which also lives in the same folder:"
  },
  {
   "metadata": {
    "ExecuteTime": {
     "end_time": "2024-08-27T15:17:31.687806Z",
     "start_time": "2024-08-27T15:17:31.685795Z"
    }
   },
   "cell_type": "code",
   "source": "dataset.storage.path",
   "outputs": [
    {
     "data": {
      "text/plain": [
       "'/home/sichom/projects/QSPRpred/tutorials/tutorial_output/data/RepresentationTutorialDataset_storage'"
      ]
     },
     "execution_count": 26,
     "metadata": {},
     "output_type": "execute_result"
    }
   ],
   "execution_count": 26
  },
  {
   "metadata": {},
   "cell_type": "markdown",
   "source": [
    "Therefore, storages and data sets can live in different folders and can be shared between projects. That means you can use the same storage for both your QSPR modelling and your docking project, for example. Both projects will have access to all data in your storage even if it changes over time, which can be useful for data management. \n",
    "\n",
    "Reloading the data set is easy as well. Every `PropertyStorage` gets a `fromFile` method that can be used to reload the instance from a saved snapshot:"
   ]
  },
  {
   "cell_type": "code",
   "metadata": {
    "collapsed": false,
    "execution": {
     "iopub.execute_input": "2023-09-21T15:41:13.685103Z",
     "iopub.status.busy": "2023-09-21T15:41:13.684663Z",
     "iopub.status.idle": "2023-09-21T15:41:13.718541Z",
     "shell.execute_reply": "2023-09-21T15:41:13.717681Z"
    },
    "ExecuteTime": {
     "end_time": "2024-08-27T15:17:31.704757Z",
     "start_time": "2024-08-27T15:17:31.688429Z"
    }
   },
   "source": [
    "dataset = QSPRDataset.fromFile(\n",
    "    f\"{dataset.path}/meta.json\"\n",
    ")\n",
    "dataset.targetProperties"
   ],
   "outputs": [
    {
     "data": {
      "text/plain": [
       "[TargetProperty(name=pchembl_value_Mean, task=REGRESSION)]"
      ]
     },
     "execution_count": 27,
     "metadata": {},
     "output_type": "execute_result"
    }
   ],
   "execution_count": 27
  },
  {
   "cell_type": "markdown",
   "metadata": {},
   "source": [
    "### Intermezzo on Molecule Standardization\n",
    "\n",
    "Before doing any calculations, it is a good idea to standardize structures and drop invalid molecules, which is handled by the storage object itself. However, you can always override the standardizer associated with a `ChemStore` object or a `MoleculeTable` object. We can even write our own standardizer and use it to standardize the molecules before we do any calculations:"
   ]
  },
  {
   "metadata": {
    "ExecuteTime": {
     "end_time": "2024-08-27T15:17:31.707287Z",
     "start_time": "2024-08-27T15:17:31.705318Z"
    }
   },
   "cell_type": "code",
   "source": "len(dataset)  # original length",
   "outputs": [
    {
     "data": {
      "text/plain": [
       "3286"
      ]
     },
     "execution_count": 28,
     "metadata": {},
     "output_type": "execute_result"
    }
   ],
   "execution_count": 28
  },
  {
   "cell_type": "code",
   "metadata": {
    "collapsed": false,
    "execution": {
     "iopub.execute_input": "2023-09-21T15:41:16.422240Z",
     "iopub.status.busy": "2023-09-21T15:41:16.421937Z",
     "iopub.status.idle": "2023-09-21T15:41:27.677052Z",
     "shell.execute_reply": "2023-09-21T15:41:27.675892Z"
    },
    "ExecuteTime": {
     "end_time": "2024-08-27T15:17:31.717626Z",
     "start_time": "2024-08-27T15:17:31.707840Z"
    }
   },
   "source": [
    "from qsprpred.data.chem.standardizers.base import ChemStandardizer\n",
    "\n",
    "\n",
    "class MyStandardizer(ChemStandardizer):\n",
    "    \"\"\"A silly example standardizer that removes all molecules with halogens in them.\"\"\"\n",
    "\n",
    "    def __init__(self, halogens=None):\n",
    "        self.halogens = halogens or [\"F\", \"Cl\", \"Br\", \"I\"]\n",
    "\n",
    "    def convert_smiles(self, smiles) -> tuple[str | None, str]:\n",
    "        \"\"\"Discards all molecules with halogens in them.\n",
    "        \n",
    "        Returns:\n",
    "            tuple[str | None, str]: \n",
    "                The first element is the standardized smiles, the second is the original.\n",
    "                If the smiles should be discarded, return None as the first element.\n",
    "        \"\"\"\n",
    "        for halogen in self.halogens:\n",
    "            if halogen in smiles:\n",
    "                return None, smiles  # return None to discard\n",
    "        return smiles, smiles\n",
    "\n",
    "    @property\n",
    "    def settings(self):\n",
    "        \"\"\"Used to return the settings of the standardizer.\"\"\"\n",
    "        return {\"halogens\": self.halogens}\n",
    "\n",
    "    def get_id(self):\n",
    "        return \",\".join(sorted(self.halogens))\n",
    "\n",
    "    @classmethod\n",
    "    def from_settings(cls, settings: dict):\n",
    "        return cls(**settings)\n",
    "\n",
    "\n",
    "dataset.applyStandardizer(\n",
    "    MyStandardizer([\"Br\", \"F\", \"I\"])\n",
    ")  # remove all molecules with bromine, fluorine or iodine in them\n",
    "len(dataset)  # reduced length"
   ],
   "outputs": [
    {
     "data": {
      "text/plain": [
       "3286"
      ]
     },
     "execution_count": 29,
     "metadata": {},
     "output_type": "execute_result"
    }
   ],
   "execution_count": 29
  },
  {
   "metadata": {},
   "cell_type": "markdown",
   "source": "You can see that you are required to also implement a few more things than just the `convert_smiles` method. This is because standardizers should be explicit about their settings and it should be possible to compare them. This will help you find out if two storages or data sets are compatible with each other or if you need to unify the standardization process between them:"
  },
  {
   "metadata": {
    "ExecuteTime": {
     "end_time": "2024-08-27T15:17:31.719998Z",
     "start_time": "2024-08-27T15:17:31.718162Z"
    }
   },
   "cell_type": "code",
   "source": "dataset.storage.standardizer.get_id()",
   "outputs": [
    {
     "data": {
      "text/plain": [
       "'Br,F,I'"
      ]
     },
     "execution_count": 30,
     "metadata": {},
     "output_type": "execute_result"
    }
   ],
   "execution_count": 30
  },
  {
   "metadata": {},
   "cell_type": "markdown",
   "source": "The standardizers used are saved with the storage so you can always retrieve them and check how the data was standardized:"
  },
  {
   "metadata": {
    "ExecuteTime": {
     "end_time": "2024-08-27T15:17:31.747064Z",
     "start_time": "2024-08-27T15:17:31.720466Z"
    }
   },
   "cell_type": "code",
   "source": [
    "dataset.save()\n",
    "dataset = QSPRDataset.fromFile(\n",
    "    f\"{dataset.path}/meta.json\"\n",
    ")\n",
    "dataset.storage.standardizer.settings"
   ],
   "outputs": [
    {
     "data": {
      "text/plain": [
       "{'halogens': ['Br', 'F', 'I']}"
      ]
     },
     "execution_count": 31,
     "metadata": {},
     "output_type": "execute_result"
    }
   ],
   "execution_count": 31
  },
  {
   "metadata": {
    "ExecuteTime": {
     "end_time": "2024-08-27T15:17:31.749602Z",
     "start_time": "2024-08-27T15:17:31.747639Z"
    }
   },
   "cell_type": "code",
   "source": "dataset.storage.standardizer.get_id()",
   "outputs": [
    {
     "data": {
      "text/plain": [
       "'Br,F,I'"
      ]
     },
     "execution_count": 32,
     "metadata": {},
     "output_type": "execute_result"
    }
   ],
   "execution_count": 32
  },
  {
   "cell_type": "markdown",
   "metadata": {},
   "source": [
    "### Calculating Molecular Descriptors\n",
    "\n",
    "Once you have settled on your preferred data structure and standardized your data set, you can start calculating descriptors. The package already contains many descriptor implementations, but you can also easily add your own. We encourage you to check out the [descriptor tutorial](descriptors.ipynb) to learn more, but for the sake of completeness here is a simple example with Morgan fingerprints and RDKit descriptors:"
   ]
  },
  {
   "cell_type": "code",
   "metadata": {
    "collapsed": false,
    "execution": {
     "iopub.execute_input": "2023-09-21T15:41:38.523697Z",
     "iopub.status.busy": "2023-09-21T15:41:38.523454Z",
     "iopub.status.idle": "2023-09-21T15:43:17.462900Z",
     "shell.execute_reply": "2023-09-21T15:43:17.462012Z"
    },
    "ExecuteTime": {
     "end_time": "2024-08-27T15:17:54.510443Z",
     "start_time": "2024-08-27T15:17:31.750232Z"
    }
   },
   "source": [
    "from qsprpred.data.descriptors.fingerprints import MorganFP\n",
    "from qsprpred.data.descriptors.sets import RDKitDescs\n",
    "\n",
    "dataset.addDescriptors([MorganFP(radius=3, nBits=2048), RDKitDescs()])"
   ],
   "outputs": [],
   "execution_count": 33
  },
  {
   "metadata": {},
   "cell_type": "markdown",
   "source": "Notice that since we are using the `TabularStorageBasic` as `ChemStore`, we can also speed these calculations up with parallelization, which is also covered in the [advanced tutorials](../../advanced/data/parallelization.ipynb):"
  },
  {
   "metadata": {
    "ExecuteTime": {
     "end_time": "2024-08-27T15:17:54.513170Z",
     "start_time": "2024-08-27T15:17:54.511220Z"
    }
   },
   "cell_type": "code",
   "source": "dataset.storage.nJobs = os.cpu_count()",
   "outputs": [],
   "execution_count": 34
  },
  {
   "metadata": {
    "ExecuteTime": {
     "end_time": "2024-08-27T15:17:56.868676Z",
     "start_time": "2024-08-27T15:17:54.513693Z"
    }
   },
   "cell_type": "code",
   "source": "dataset.addDescriptors([MorganFP(radius=3, nBits=2048), RDKitDescs()], recalculate=True)",
   "outputs": [],
   "execution_count": 35
  },
  {
   "cell_type": "markdown",
   "metadata": {},
   "source": [
    "\n",
    "\n",
    "Descriptors are kept in their own wrapped tables, which can be accessed with the `descriptors` attribute:"
   ]
  },
  {
   "metadata": {
    "ExecuteTime": {
     "end_time": "2024-08-27T15:17:56.872442Z",
     "start_time": "2024-08-27T15:17:56.869787Z"
    }
   },
   "cell_type": "code",
   "source": "dataset.descriptors",
   "outputs": [
    {
     "data": {
      "text/plain": [
       "[DescriptorTable (3286), DescriptorTable (3286)]"
      ]
     },
     "execution_count": 36,
     "metadata": {},
     "output_type": "execute_result"
    }
   ],
   "execution_count": 36
  },
  {
   "metadata": {},
   "cell_type": "markdown",
   "source": "For your convenience, these are nothing else, but specialized implementations of `PandasDataTable` objects, so you can use all the methods and attributes of the `PropertyStorage` API on them as well:"
  },
  {
   "metadata": {
    "ExecuteTime": {
     "end_time": "2024-08-27T15:17:56.898309Z",
     "start_time": "2024-08-27T15:17:56.872903Z"
    }
   },
   "cell_type": "code",
   "source": "dataset.descriptors[1].getDF()",
   "outputs": [
    {
     "data": {
      "text/plain": [
       "                             RDkit_AvgIpc  RDkit_BCUT2D_CHGHI  \\\n",
       "ID                                                              \n",
       "CJFKDWZUTAKCKB-UHFFFAOYSA-N      3.369270            2.205644   \n",
       "CJMZMTPUYHISPT-UHFFFAOYSA-N      3.324433            2.151936   \n",
       "CJRNHKSLHHWUAB-UHFFFAOYSA-N      3.531243            2.190624   \n",
       "CJUIJRFDRPPWHP-UHFFFAOYSA-N      3.249800            2.435803   \n",
       "CJWPDQKJIQQPSQ-UHFFFAOYSA-N      3.460251            2.191384   \n",
       "...                                   ...                 ...   \n",
       "FBMQNRKSAWNXBT-UHFFFAOYSA-N      2.384542            2.319102   \n",
       "FBQWVNMHUBKEIP-UHFFFAOYSA-N      3.217506            2.312863   \n",
       "FBWGREMSYFZWFR-UHFFFAOYSA-N      3.296196            2.157133   \n",
       "FCBHDSLDRNWTJS-UHFFFAOYSA-N      3.360151            2.285790   \n",
       "FCQRAGAWNCOGCD-UHFFFAOYSA-N      3.382868            2.273973   \n",
       "\n",
       "                             RDkit_BCUT2D_CHGLO  RDkit_BCUT2D_LOGPHI  \\\n",
       "ID                                                                     \n",
       "CJFKDWZUTAKCKB-UHFFFAOYSA-N           -2.130499             2.304950   \n",
       "CJMZMTPUYHISPT-UHFFFAOYSA-N           -2.101078             2.227721   \n",
       "CJRNHKSLHHWUAB-UHFFFAOYSA-N           -2.082828             2.241043   \n",
       "CJUIJRFDRPPWHP-UHFFFAOYSA-N           -2.162295             2.317780   \n",
       "CJWPDQKJIQQPSQ-UHFFFAOYSA-N           -2.106237             2.272459   \n",
       "...                                         ...                  ...   \n",
       "FBMQNRKSAWNXBT-UHFFFAOYSA-N           -2.195304             2.332777   \n",
       "FBQWVNMHUBKEIP-UHFFFAOYSA-N           -2.288011             2.395932   \n",
       "FBWGREMSYFZWFR-UHFFFAOYSA-N           -2.097612             2.227686   \n",
       "FCBHDSLDRNWTJS-UHFFFAOYSA-N           -2.110480             2.364816   \n",
       "FCQRAGAWNCOGCD-UHFFFAOYSA-N           -2.232949             2.412791   \n",
       "\n",
       "                             RDkit_BCUT2D_LOGPLOW  RDkit_BCUT2D_MRHI  \\\n",
       "ID                                                                     \n",
       "CJFKDWZUTAKCKB-UHFFFAOYSA-N             -2.258172           6.030517   \n",
       "CJMZMTPUYHISPT-UHFFFAOYSA-N             -2.165838           7.915207   \n",
       "CJRNHKSLHHWUAB-UHFFFAOYSA-N             -2.217917           5.998538   \n",
       "CJUIJRFDRPPWHP-UHFFFAOYSA-N             -2.326434           6.313636   \n",
       "CJWPDQKJIQQPSQ-UHFFFAOYSA-N             -2.238651           5.994110   \n",
       "...                                           ...                ...   \n",
       "FBMQNRKSAWNXBT-UHFFFAOYSA-N             -2.231408           6.311417   \n",
       "FBQWVNMHUBKEIP-UHFFFAOYSA-N             -2.421042           7.226017   \n",
       "FBWGREMSYFZWFR-UHFFFAOYSA-N             -2.394732           5.831871   \n",
       "FCBHDSLDRNWTJS-UHFFFAOYSA-N             -2.178803           7.193979   \n",
       "FCQRAGAWNCOGCD-UHFFFAOYSA-N             -2.324551           7.214725   \n",
       "\n",
       "                             RDkit_BCUT2D_MRLOW  RDkit_BCUT2D_MWHI  \\\n",
       "ID                                                                   \n",
       "CJFKDWZUTAKCKB-UHFFFAOYSA-N            0.647784          16.142281   \n",
       "CJMZMTPUYHISPT-UHFFFAOYSA-N           -0.115145          32.233101   \n",
       "CJRNHKSLHHWUAB-UHFFFAOYSA-N            0.261656          16.465353   \n",
       "CJUIJRFDRPPWHP-UHFFFAOYSA-N           -0.051059          35.495697   \n",
       "CJWPDQKJIQQPSQ-UHFFFAOYSA-N            0.095132          16.507875   \n",
       "...                                         ...                ...   \n",
       "FBMQNRKSAWNXBT-UHFFFAOYSA-N            0.098008          16.144325   \n",
       "FBQWVNMHUBKEIP-UHFFFAOYSA-N           -0.128153          32.133549   \n",
       "FBWGREMSYFZWFR-UHFFFAOYSA-N            0.154743          16.547379   \n",
       "FCBHDSLDRNWTJS-UHFFFAOYSA-N            0.052705          32.134766   \n",
       "FCQRAGAWNCOGCD-UHFFFAOYSA-N            0.265856          32.133556   \n",
       "\n",
       "                             RDkit_BCUT2D_MWLOW  RDkit_BalabanJ  ...  \\\n",
       "ID                                                               ...   \n",
       "CJFKDWZUTAKCKB-UHFFFAOYSA-N           10.071012        1.697764  ...   \n",
       "CJMZMTPUYHISPT-UHFFFAOYSA-N           10.125881        1.583207  ...   \n",
       "CJRNHKSLHHWUAB-UHFFFAOYSA-N           10.281546        1.526925  ...   \n",
       "CJUIJRFDRPPWHP-UHFFFAOYSA-N           10.128447        1.626467  ...   \n",
       "CJWPDQKJIQQPSQ-UHFFFAOYSA-N           10.161134        1.615859  ...   \n",
       "...                                         ...             ...  ...   \n",
       "FBMQNRKSAWNXBT-UHFFFAOYSA-N            9.823120        2.409415  ...   \n",
       "FBQWVNMHUBKEIP-UHFFFAOYSA-N            9.870557        1.542162  ...   \n",
       "FBWGREMSYFZWFR-UHFFFAOYSA-N           10.102615        1.544765  ...   \n",
       "FCBHDSLDRNWTJS-UHFFFAOYSA-N           10.133849        1.952735  ...   \n",
       "FCQRAGAWNCOGCD-UHFFFAOYSA-N           10.216689        1.685399  ...   \n",
       "\n",
       "                             RDkit_fr_sulfone  RDkit_fr_term_acetylene  \\\n",
       "ID                                                                       \n",
       "CJFKDWZUTAKCKB-UHFFFAOYSA-N               0.0                      0.0   \n",
       "CJMZMTPUYHISPT-UHFFFAOYSA-N               0.0                      0.0   \n",
       "CJRNHKSLHHWUAB-UHFFFAOYSA-N               0.0                      0.0   \n",
       "CJUIJRFDRPPWHP-UHFFFAOYSA-N               0.0                      0.0   \n",
       "CJWPDQKJIQQPSQ-UHFFFAOYSA-N               0.0                      0.0   \n",
       "...                                       ...                      ...   \n",
       "FBMQNRKSAWNXBT-UHFFFAOYSA-N               0.0                      0.0   \n",
       "FBQWVNMHUBKEIP-UHFFFAOYSA-N               0.0                      0.0   \n",
       "FBWGREMSYFZWFR-UHFFFAOYSA-N               0.0                      0.0   \n",
       "FCBHDSLDRNWTJS-UHFFFAOYSA-N               0.0                      0.0   \n",
       "FCQRAGAWNCOGCD-UHFFFAOYSA-N               0.0                      0.0   \n",
       "\n",
       "                             RDkit_fr_tetrazole  RDkit_fr_thiazole  \\\n",
       "ID                                                                   \n",
       "CJFKDWZUTAKCKB-UHFFFAOYSA-N                 0.0                0.0   \n",
       "CJMZMTPUYHISPT-UHFFFAOYSA-N                 0.0                0.0   \n",
       "CJRNHKSLHHWUAB-UHFFFAOYSA-N                 0.0                0.0   \n",
       "CJUIJRFDRPPWHP-UHFFFAOYSA-N                 0.0                0.0   \n",
       "CJWPDQKJIQQPSQ-UHFFFAOYSA-N                 0.0                0.0   \n",
       "...                                         ...                ...   \n",
       "FBMQNRKSAWNXBT-UHFFFAOYSA-N                 0.0                0.0   \n",
       "FBQWVNMHUBKEIP-UHFFFAOYSA-N                 0.0                1.0   \n",
       "FBWGREMSYFZWFR-UHFFFAOYSA-N                 0.0                0.0   \n",
       "FCBHDSLDRNWTJS-UHFFFAOYSA-N                 0.0                1.0   \n",
       "FCQRAGAWNCOGCD-UHFFFAOYSA-N                 0.0                1.0   \n",
       "\n",
       "                             RDkit_fr_thiocyan  RDkit_fr_thiophene  \\\n",
       "ID                                                                   \n",
       "CJFKDWZUTAKCKB-UHFFFAOYSA-N                0.0                 0.0   \n",
       "CJMZMTPUYHISPT-UHFFFAOYSA-N                0.0                 0.0   \n",
       "CJRNHKSLHHWUAB-UHFFFAOYSA-N                0.0                 0.0   \n",
       "CJUIJRFDRPPWHP-UHFFFAOYSA-N                0.0                 0.0   \n",
       "CJWPDQKJIQQPSQ-UHFFFAOYSA-N                0.0                 0.0   \n",
       "...                                        ...                 ...   \n",
       "FBMQNRKSAWNXBT-UHFFFAOYSA-N                0.0                 0.0   \n",
       "FBQWVNMHUBKEIP-UHFFFAOYSA-N                0.0                 0.0   \n",
       "FBWGREMSYFZWFR-UHFFFAOYSA-N                0.0                 0.0   \n",
       "FCBHDSLDRNWTJS-UHFFFAOYSA-N                0.0                 1.0   \n",
       "FCQRAGAWNCOGCD-UHFFFAOYSA-N                0.0                 0.0   \n",
       "\n",
       "                             RDkit_fr_unbrch_alkane  RDkit_fr_urea  RDkit_qed  \\\n",
       "ID                                                                              \n",
       "CJFKDWZUTAKCKB-UHFFFAOYSA-N                     0.0            0.0   0.371586   \n",
       "CJMZMTPUYHISPT-UHFFFAOYSA-N                     0.0            0.0   0.414226   \n",
       "CJRNHKSLHHWUAB-UHFFFAOYSA-N                     0.0            1.0   0.418088   \n",
       "CJUIJRFDRPPWHP-UHFFFAOYSA-N                     0.0            0.0   0.205431   \n",
       "CJWPDQKJIQQPSQ-UHFFFAOYSA-N                     0.0            0.0   0.478837   \n",
       "...                                             ...            ...        ...   \n",
       "FBMQNRKSAWNXBT-UHFFFAOYSA-N                     0.0            0.0   0.582602   \n",
       "FBQWVNMHUBKEIP-UHFFFAOYSA-N                     0.0            0.0   0.517273   \n",
       "FBWGREMSYFZWFR-UHFFFAOYSA-N                     0.0            0.0   0.412912   \n",
       "FCBHDSLDRNWTJS-UHFFFAOYSA-N                     0.0            0.0   0.420972   \n",
       "FCQRAGAWNCOGCD-UHFFFAOYSA-N                     0.0            0.0   0.600629   \n",
       "\n",
       "                                                      ID  \n",
       "ID                                                        \n",
       "CJFKDWZUTAKCKB-UHFFFAOYSA-N  CJFKDWZUTAKCKB-UHFFFAOYSA-N  \n",
       "CJMZMTPUYHISPT-UHFFFAOYSA-N  CJMZMTPUYHISPT-UHFFFAOYSA-N  \n",
       "CJRNHKSLHHWUAB-UHFFFAOYSA-N  CJRNHKSLHHWUAB-UHFFFAOYSA-N  \n",
       "CJUIJRFDRPPWHP-UHFFFAOYSA-N  CJUIJRFDRPPWHP-UHFFFAOYSA-N  \n",
       "CJWPDQKJIQQPSQ-UHFFFAOYSA-N  CJWPDQKJIQQPSQ-UHFFFAOYSA-N  \n",
       "...                                                  ...  \n",
       "FBMQNRKSAWNXBT-UHFFFAOYSA-N  FBMQNRKSAWNXBT-UHFFFAOYSA-N  \n",
       "FBQWVNMHUBKEIP-UHFFFAOYSA-N  FBQWVNMHUBKEIP-UHFFFAOYSA-N  \n",
       "FBWGREMSYFZWFR-UHFFFAOYSA-N  FBWGREMSYFZWFR-UHFFFAOYSA-N  \n",
       "FCBHDSLDRNWTJS-UHFFFAOYSA-N  FCBHDSLDRNWTJS-UHFFFAOYSA-N  \n",
       "FCQRAGAWNCOGCD-UHFFFAOYSA-N  FCQRAGAWNCOGCD-UHFFFAOYSA-N  \n",
       "\n",
       "[3286 rows x 211 columns]"
      ],
      "text/html": [
       "<div>\n",
       "<style scoped>\n",
       "    .dataframe tbody tr th:only-of-type {\n",
       "        vertical-align: middle;\n",
       "    }\n",
       "\n",
       "    .dataframe tbody tr th {\n",
       "        vertical-align: top;\n",
       "    }\n",
       "\n",
       "    .dataframe thead th {\n",
       "        text-align: right;\n",
       "    }\n",
       "</style>\n",
       "<table border=\"1\" class=\"dataframe\">\n",
       "  <thead>\n",
       "    <tr style=\"text-align: right;\">\n",
       "      <th></th>\n",
       "      <th>RDkit_AvgIpc</th>\n",
       "      <th>RDkit_BCUT2D_CHGHI</th>\n",
       "      <th>RDkit_BCUT2D_CHGLO</th>\n",
       "      <th>RDkit_BCUT2D_LOGPHI</th>\n",
       "      <th>RDkit_BCUT2D_LOGPLOW</th>\n",
       "      <th>RDkit_BCUT2D_MRHI</th>\n",
       "      <th>RDkit_BCUT2D_MRLOW</th>\n",
       "      <th>RDkit_BCUT2D_MWHI</th>\n",
       "      <th>RDkit_BCUT2D_MWLOW</th>\n",
       "      <th>RDkit_BalabanJ</th>\n",
       "      <th>...</th>\n",
       "      <th>RDkit_fr_sulfone</th>\n",
       "      <th>RDkit_fr_term_acetylene</th>\n",
       "      <th>RDkit_fr_tetrazole</th>\n",
       "      <th>RDkit_fr_thiazole</th>\n",
       "      <th>RDkit_fr_thiocyan</th>\n",
       "      <th>RDkit_fr_thiophene</th>\n",
       "      <th>RDkit_fr_unbrch_alkane</th>\n",
       "      <th>RDkit_fr_urea</th>\n",
       "      <th>RDkit_qed</th>\n",
       "      <th>ID</th>\n",
       "    </tr>\n",
       "    <tr>\n",
       "      <th>ID</th>\n",
       "      <th></th>\n",
       "      <th></th>\n",
       "      <th></th>\n",
       "      <th></th>\n",
       "      <th></th>\n",
       "      <th></th>\n",
       "      <th></th>\n",
       "      <th></th>\n",
       "      <th></th>\n",
       "      <th></th>\n",
       "      <th></th>\n",
       "      <th></th>\n",
       "      <th></th>\n",
       "      <th></th>\n",
       "      <th></th>\n",
       "      <th></th>\n",
       "      <th></th>\n",
       "      <th></th>\n",
       "      <th></th>\n",
       "      <th></th>\n",
       "      <th></th>\n",
       "    </tr>\n",
       "  </thead>\n",
       "  <tbody>\n",
       "    <tr>\n",
       "      <th>CJFKDWZUTAKCKB-UHFFFAOYSA-N</th>\n",
       "      <td>3.369270</td>\n",
       "      <td>2.205644</td>\n",
       "      <td>-2.130499</td>\n",
       "      <td>2.304950</td>\n",
       "      <td>-2.258172</td>\n",
       "      <td>6.030517</td>\n",
       "      <td>0.647784</td>\n",
       "      <td>16.142281</td>\n",
       "      <td>10.071012</td>\n",
       "      <td>1.697764</td>\n",
       "      <td>...</td>\n",
       "      <td>0.0</td>\n",
       "      <td>0.0</td>\n",
       "      <td>0.0</td>\n",
       "      <td>0.0</td>\n",
       "      <td>0.0</td>\n",
       "      <td>0.0</td>\n",
       "      <td>0.0</td>\n",
       "      <td>0.0</td>\n",
       "      <td>0.371586</td>\n",
       "      <td>CJFKDWZUTAKCKB-UHFFFAOYSA-N</td>\n",
       "    </tr>\n",
       "    <tr>\n",
       "      <th>CJMZMTPUYHISPT-UHFFFAOYSA-N</th>\n",
       "      <td>3.324433</td>\n",
       "      <td>2.151936</td>\n",
       "      <td>-2.101078</td>\n",
       "      <td>2.227721</td>\n",
       "      <td>-2.165838</td>\n",
       "      <td>7.915207</td>\n",
       "      <td>-0.115145</td>\n",
       "      <td>32.233101</td>\n",
       "      <td>10.125881</td>\n",
       "      <td>1.583207</td>\n",
       "      <td>...</td>\n",
       "      <td>0.0</td>\n",
       "      <td>0.0</td>\n",
       "      <td>0.0</td>\n",
       "      <td>0.0</td>\n",
       "      <td>0.0</td>\n",
       "      <td>0.0</td>\n",
       "      <td>0.0</td>\n",
       "      <td>0.0</td>\n",
       "      <td>0.414226</td>\n",
       "      <td>CJMZMTPUYHISPT-UHFFFAOYSA-N</td>\n",
       "    </tr>\n",
       "    <tr>\n",
       "      <th>CJRNHKSLHHWUAB-UHFFFAOYSA-N</th>\n",
       "      <td>3.531243</td>\n",
       "      <td>2.190624</td>\n",
       "      <td>-2.082828</td>\n",
       "      <td>2.241043</td>\n",
       "      <td>-2.217917</td>\n",
       "      <td>5.998538</td>\n",
       "      <td>0.261656</td>\n",
       "      <td>16.465353</td>\n",
       "      <td>10.281546</td>\n",
       "      <td>1.526925</td>\n",
       "      <td>...</td>\n",
       "      <td>0.0</td>\n",
       "      <td>0.0</td>\n",
       "      <td>0.0</td>\n",
       "      <td>0.0</td>\n",
       "      <td>0.0</td>\n",
       "      <td>0.0</td>\n",
       "      <td>0.0</td>\n",
       "      <td>1.0</td>\n",
       "      <td>0.418088</td>\n",
       "      <td>CJRNHKSLHHWUAB-UHFFFAOYSA-N</td>\n",
       "    </tr>\n",
       "    <tr>\n",
       "      <th>CJUIJRFDRPPWHP-UHFFFAOYSA-N</th>\n",
       "      <td>3.249800</td>\n",
       "      <td>2.435803</td>\n",
       "      <td>-2.162295</td>\n",
       "      <td>2.317780</td>\n",
       "      <td>-2.326434</td>\n",
       "      <td>6.313636</td>\n",
       "      <td>-0.051059</td>\n",
       "      <td>35.495697</td>\n",
       "      <td>10.128447</td>\n",
       "      <td>1.626467</td>\n",
       "      <td>...</td>\n",
       "      <td>0.0</td>\n",
       "      <td>0.0</td>\n",
       "      <td>0.0</td>\n",
       "      <td>0.0</td>\n",
       "      <td>0.0</td>\n",
       "      <td>0.0</td>\n",
       "      <td>0.0</td>\n",
       "      <td>0.0</td>\n",
       "      <td>0.205431</td>\n",
       "      <td>CJUIJRFDRPPWHP-UHFFFAOYSA-N</td>\n",
       "    </tr>\n",
       "    <tr>\n",
       "      <th>CJWPDQKJIQQPSQ-UHFFFAOYSA-N</th>\n",
       "      <td>3.460251</td>\n",
       "      <td>2.191384</td>\n",
       "      <td>-2.106237</td>\n",
       "      <td>2.272459</td>\n",
       "      <td>-2.238651</td>\n",
       "      <td>5.994110</td>\n",
       "      <td>0.095132</td>\n",
       "      <td>16.507875</td>\n",
       "      <td>10.161134</td>\n",
       "      <td>1.615859</td>\n",
       "      <td>...</td>\n",
       "      <td>0.0</td>\n",
       "      <td>0.0</td>\n",
       "      <td>0.0</td>\n",
       "      <td>0.0</td>\n",
       "      <td>0.0</td>\n",
       "      <td>0.0</td>\n",
       "      <td>0.0</td>\n",
       "      <td>0.0</td>\n",
       "      <td>0.478837</td>\n",
       "      <td>CJWPDQKJIQQPSQ-UHFFFAOYSA-N</td>\n",
       "    </tr>\n",
       "    <tr>\n",
       "      <th>...</th>\n",
       "      <td>...</td>\n",
       "      <td>...</td>\n",
       "      <td>...</td>\n",
       "      <td>...</td>\n",
       "      <td>...</td>\n",
       "      <td>...</td>\n",
       "      <td>...</td>\n",
       "      <td>...</td>\n",
       "      <td>...</td>\n",
       "      <td>...</td>\n",
       "      <td>...</td>\n",
       "      <td>...</td>\n",
       "      <td>...</td>\n",
       "      <td>...</td>\n",
       "      <td>...</td>\n",
       "      <td>...</td>\n",
       "      <td>...</td>\n",
       "      <td>...</td>\n",
       "      <td>...</td>\n",
       "      <td>...</td>\n",
       "      <td>...</td>\n",
       "    </tr>\n",
       "    <tr>\n",
       "      <th>FBMQNRKSAWNXBT-UHFFFAOYSA-N</th>\n",
       "      <td>2.384542</td>\n",
       "      <td>2.319102</td>\n",
       "      <td>-2.195304</td>\n",
       "      <td>2.332777</td>\n",
       "      <td>-2.231408</td>\n",
       "      <td>6.311417</td>\n",
       "      <td>0.098008</td>\n",
       "      <td>16.144325</td>\n",
       "      <td>9.823120</td>\n",
       "      <td>2.409415</td>\n",
       "      <td>...</td>\n",
       "      <td>0.0</td>\n",
       "      <td>0.0</td>\n",
       "      <td>0.0</td>\n",
       "      <td>0.0</td>\n",
       "      <td>0.0</td>\n",
       "      <td>0.0</td>\n",
       "      <td>0.0</td>\n",
       "      <td>0.0</td>\n",
       "      <td>0.582602</td>\n",
       "      <td>FBMQNRKSAWNXBT-UHFFFAOYSA-N</td>\n",
       "    </tr>\n",
       "    <tr>\n",
       "      <th>FBQWVNMHUBKEIP-UHFFFAOYSA-N</th>\n",
       "      <td>3.217506</td>\n",
       "      <td>2.312863</td>\n",
       "      <td>-2.288011</td>\n",
       "      <td>2.395932</td>\n",
       "      <td>-2.421042</td>\n",
       "      <td>7.226017</td>\n",
       "      <td>-0.128153</td>\n",
       "      <td>32.133549</td>\n",
       "      <td>9.870557</td>\n",
       "      <td>1.542162</td>\n",
       "      <td>...</td>\n",
       "      <td>0.0</td>\n",
       "      <td>0.0</td>\n",
       "      <td>0.0</td>\n",
       "      <td>1.0</td>\n",
       "      <td>0.0</td>\n",
       "      <td>0.0</td>\n",
       "      <td>0.0</td>\n",
       "      <td>0.0</td>\n",
       "      <td>0.517273</td>\n",
       "      <td>FBQWVNMHUBKEIP-UHFFFAOYSA-N</td>\n",
       "    </tr>\n",
       "    <tr>\n",
       "      <th>FBWGREMSYFZWFR-UHFFFAOYSA-N</th>\n",
       "      <td>3.296196</td>\n",
       "      <td>2.157133</td>\n",
       "      <td>-2.097612</td>\n",
       "      <td>2.227686</td>\n",
       "      <td>-2.394732</td>\n",
       "      <td>5.831871</td>\n",
       "      <td>0.154743</td>\n",
       "      <td>16.547379</td>\n",
       "      <td>10.102615</td>\n",
       "      <td>1.544765</td>\n",
       "      <td>...</td>\n",
       "      <td>0.0</td>\n",
       "      <td>0.0</td>\n",
       "      <td>0.0</td>\n",
       "      <td>0.0</td>\n",
       "      <td>0.0</td>\n",
       "      <td>0.0</td>\n",
       "      <td>0.0</td>\n",
       "      <td>0.0</td>\n",
       "      <td>0.412912</td>\n",
       "      <td>FBWGREMSYFZWFR-UHFFFAOYSA-N</td>\n",
       "    </tr>\n",
       "    <tr>\n",
       "      <th>FCBHDSLDRNWTJS-UHFFFAOYSA-N</th>\n",
       "      <td>3.360151</td>\n",
       "      <td>2.285790</td>\n",
       "      <td>-2.110480</td>\n",
       "      <td>2.364816</td>\n",
       "      <td>-2.178803</td>\n",
       "      <td>7.193979</td>\n",
       "      <td>0.052705</td>\n",
       "      <td>32.134766</td>\n",
       "      <td>10.133849</td>\n",
       "      <td>1.952735</td>\n",
       "      <td>...</td>\n",
       "      <td>0.0</td>\n",
       "      <td>0.0</td>\n",
       "      <td>0.0</td>\n",
       "      <td>1.0</td>\n",
       "      <td>0.0</td>\n",
       "      <td>1.0</td>\n",
       "      <td>0.0</td>\n",
       "      <td>0.0</td>\n",
       "      <td>0.420972</td>\n",
       "      <td>FCBHDSLDRNWTJS-UHFFFAOYSA-N</td>\n",
       "    </tr>\n",
       "    <tr>\n",
       "      <th>FCQRAGAWNCOGCD-UHFFFAOYSA-N</th>\n",
       "      <td>3.382868</td>\n",
       "      <td>2.273973</td>\n",
       "      <td>-2.232949</td>\n",
       "      <td>2.412791</td>\n",
       "      <td>-2.324551</td>\n",
       "      <td>7.214725</td>\n",
       "      <td>0.265856</td>\n",
       "      <td>32.133556</td>\n",
       "      <td>10.216689</td>\n",
       "      <td>1.685399</td>\n",
       "      <td>...</td>\n",
       "      <td>0.0</td>\n",
       "      <td>0.0</td>\n",
       "      <td>0.0</td>\n",
       "      <td>1.0</td>\n",
       "      <td>0.0</td>\n",
       "      <td>0.0</td>\n",
       "      <td>0.0</td>\n",
       "      <td>0.0</td>\n",
       "      <td>0.600629</td>\n",
       "      <td>FCQRAGAWNCOGCD-UHFFFAOYSA-N</td>\n",
       "    </tr>\n",
       "  </tbody>\n",
       "</table>\n",
       "<p>3286 rows × 211 columns</p>\n",
       "</div>"
      ]
     },
     "execution_count": 37,
     "metadata": {},
     "output_type": "execute_result"
    }
   ],
   "execution_count": 37
  },
  {
   "cell_type": "markdown",
   "metadata": {},
   "source": [
    "## What's Next?\n",
    "\n",
    "Now you know how data sets are represented in QSPRpred. Before you start modelling, you should also check out the [data preparation tutorial](data_preparation.ipynb) to learn how to prepare your data sets for modelling. This tutorial covers additional preparation steps such as feature filtering, selection and standardization through the `QSPRDataset.prepareDataset` method."
   ]
  }
 ],
 "metadata": {
  "kernelspec": {
   "display_name": "Python 3 (ipykernel)",
   "language": "python",
   "name": "python3"
  },
  "language_info": {
   "codemirror_mode": {
    "name": "ipython",
    "version": 3
   },
   "file_extension": ".py",
   "mimetype": "text/x-python",
   "name": "python",
   "nbconvert_exporter": "python",
   "pygments_lexer": "ipython3",
   "version": "3.10.13"
  },
  "widgets": {
   "application/vnd.jupyter.widget-state+json": {
    "state": {
     "0abcbe4f5c424fcd87383ad9f2dba6a9": {
      "model_module": "@jupyter-widgets/controls",
      "model_module_version": "1.5.0",
      "model_name": "DescriptionStyleModel",
      "state": {
       "_model_module": "@jupyter-widgets/controls",
       "_model_module_version": "1.5.0",
       "_model_name": "DescriptionStyleModel",
       "_view_count": null,
       "_view_module": "@jupyter-widgets/base",
       "_view_module_version": "1.2.0",
       "_view_name": "StyleView",
       "description_width": ""
      }
     },
     "0ccd5e61ae31430eb25d1764f0aec076": {
      "model_module": "@jupyter-widgets/base",
      "model_module_version": "1.2.0",
      "model_name": "LayoutModel",
      "state": {
       "_model_module": "@jupyter-widgets/base",
       "_model_module_version": "1.2.0",
       "_model_name": "LayoutModel",
       "_view_count": null,
       "_view_module": "@jupyter-widgets/base",
       "_view_module_version": "1.2.0",
       "_view_name": "LayoutView",
       "align_content": null,
       "align_items": null,
       "align_self": null,
       "border": null,
       "bottom": null,
       "display": null,
       "flex": null,
       "flex_flow": null,
       "grid_area": null,
       "grid_auto_columns": null,
       "grid_auto_flow": null,
       "grid_auto_rows": null,
       "grid_column": null,
       "grid_gap": null,
       "grid_row": null,
       "grid_template_areas": null,
       "grid_template_columns": null,
       "grid_template_rows": null,
       "height": null,
       "justify_content": null,
       "justify_items": null,
       "left": null,
       "margin": null,
       "max_height": null,
       "max_width": null,
       "min_height": null,
       "min_width": null,
       "object_fit": null,
       "object_position": null,
       "order": null,
       "overflow": null,
       "overflow_x": null,
       "overflow_y": null,
       "padding": null,
       "right": null,
       "top": null,
       "visibility": null,
       "width": null
      }
     },
     "1310b135b91b4280b42982a5779d8e9f": {
      "model_module": "@jupyter-widgets/base",
      "model_module_version": "1.2.0",
      "model_name": "LayoutModel",
      "state": {
       "_model_module": "@jupyter-widgets/base",
       "_model_module_version": "1.2.0",
       "_model_name": "LayoutModel",
       "_view_count": null,
       "_view_module": "@jupyter-widgets/base",
       "_view_module_version": "1.2.0",
       "_view_name": "LayoutView",
       "align_content": null,
       "align_items": null,
       "align_self": null,
       "border": null,
       "bottom": null,
       "display": null,
       "flex": null,
       "flex_flow": null,
       "grid_area": null,
       "grid_auto_columns": null,
       "grid_auto_flow": null,
       "grid_auto_rows": null,
       "grid_column": null,
       "grid_gap": null,
       "grid_row": null,
       "grid_template_areas": null,
       "grid_template_columns": null,
       "grid_template_rows": null,
       "height": null,
       "justify_content": null,
       "justify_items": null,
       "left": null,
       "margin": null,
       "max_height": null,
       "max_width": null,
       "min_height": null,
       "min_width": null,
       "object_fit": null,
       "object_position": null,
       "order": null,
       "overflow": null,
       "overflow_x": null,
       "overflow_y": null,
       "padding": null,
       "right": null,
       "top": null,
       "visibility": null,
       "width": null
      }
     },
     "281603740de24499be78d263fa47287d": {
      "model_module": "@jupyter-widgets/controls",
      "model_module_version": "1.5.0",
      "model_name": "HTMLModel",
      "state": {
       "_dom_classes": [],
       "_model_module": "@jupyter-widgets/controls",
       "_model_module_version": "1.5.0",
       "_model_name": "HTMLModel",
       "_view_count": null,
       "_view_module": "@jupyter-widgets/controls",
       "_view_module_version": "1.5.0",
       "_view_name": "HTMLView",
       "description": "",
       "description_tooltip": null,
       "layout": "IPY_MODEL_5a877c5bffff4e8d88b025164bbf70e2",
       "placeholder": "​",
       "style": "IPY_MODEL_6bfe64a153a14f0c97f5ef0255eaff16",
       "value": " 5/5 [00:04&lt;00:00,  1.21it/s]"
      }
     },
     "3224d42d1efb437088618d14de2f84d8": {
      "model_module": "@jupyter-widgets/controls",
      "model_module_version": "1.5.0",
      "model_name": "ProgressStyleModel",
      "state": {
       "_model_module": "@jupyter-widgets/controls",
       "_model_module_version": "1.5.0",
       "_model_name": "ProgressStyleModel",
       "_view_count": null,
       "_view_module": "@jupyter-widgets/base",
       "_view_module_version": "1.2.0",
       "_view_name": "StyleView",
       "bar_color": null,
       "description_width": ""
      }
     },
     "3c82c4fe015d4363a01e47603f6c7ef3": {
      "model_module": "@jupyter-widgets/controls",
      "model_module_version": "1.5.0",
      "model_name": "HTMLModel",
      "state": {
       "_dom_classes": [],
       "_model_module": "@jupyter-widgets/controls",
       "_model_module_version": "1.5.0",
       "_model_name": "HTMLModel",
       "_view_count": null,
       "_view_module": "@jupyter-widgets/controls",
       "_view_module_version": "1.5.0",
       "_view_name": "HTMLView",
       "description": "",
       "description_tooltip": null,
       "layout": "IPY_MODEL_747603c85edd4395a4b1a63711a0fc0a",
       "placeholder": "​",
       "style": "IPY_MODEL_99ea5d7ea08d41d186e56185a5a2d8f9",
       "value": ""
      }
     },
     "4fb6d71738da44b5be9f73b28f41c28d": {
      "model_module": "@jupyter-widgets/controls",
      "model_module_version": "1.5.0",
      "model_name": "FloatProgressModel",
      "state": {
       "_dom_classes": [],
       "_model_module": "@jupyter-widgets/controls",
       "_model_module_version": "1.5.0",
       "_model_name": "FloatProgressModel",
       "_view_count": null,
       "_view_module": "@jupyter-widgets/controls",
       "_view_module_version": "1.5.0",
       "_view_name": "ProgressView",
       "bar_style": "",
       "description": "",
       "description_tooltip": null,
       "layout": "IPY_MODEL_0ccd5e61ae31430eb25d1764f0aec076",
       "max": 5,
       "min": 0,
       "orientation": "horizontal",
       "style": "IPY_MODEL_3224d42d1efb437088618d14de2f84d8",
       "value": 0
      }
     },
     "57231d8e7914408d977396d2e8ac3db1": {
      "model_module": "@jupyter-widgets/base",
      "model_module_version": "1.2.0",
      "model_name": "LayoutModel",
      "state": {
       "_model_module": "@jupyter-widgets/base",
       "_model_module_version": "1.2.0",
       "_model_name": "LayoutModel",
       "_view_count": null,
       "_view_module": "@jupyter-widgets/base",
       "_view_module_version": "1.2.0",
       "_view_name": "LayoutView",
       "align_content": null,
       "align_items": null,
       "align_self": null,
       "border": null,
       "bottom": null,
       "display": null,
       "flex": null,
       "flex_flow": null,
       "grid_area": null,
       "grid_auto_columns": null,
       "grid_auto_flow": null,
       "grid_auto_rows": null,
       "grid_column": null,
       "grid_gap": null,
       "grid_row": null,
       "grid_template_areas": null,
       "grid_template_columns": null,
       "grid_template_rows": null,
       "height": null,
       "justify_content": null,
       "justify_items": null,
       "left": null,
       "margin": null,
       "max_height": null,
       "max_width": null,
       "min_height": null,
       "min_width": null,
       "object_fit": null,
       "object_position": null,
       "order": null,
       "overflow": null,
       "overflow_x": null,
       "overflow_y": null,
       "padding": null,
       "right": null,
       "top": null,
       "visibility": null,
       "width": null
      }
     },
     "5a877c5bffff4e8d88b025164bbf70e2": {
      "model_module": "@jupyter-widgets/base",
      "model_module_version": "1.2.0",
      "model_name": "LayoutModel",
      "state": {
       "_model_module": "@jupyter-widgets/base",
       "_model_module_version": "1.2.0",
       "_model_name": "LayoutModel",
       "_view_count": null,
       "_view_module": "@jupyter-widgets/base",
       "_view_module_version": "1.2.0",
       "_view_name": "LayoutView",
       "align_content": null,
       "align_items": null,
       "align_self": null,
       "border": null,
       "bottom": null,
       "display": null,
       "flex": null,
       "flex_flow": null,
       "grid_area": null,
       "grid_auto_columns": null,
       "grid_auto_flow": null,
       "grid_auto_rows": null,
       "grid_column": null,
       "grid_gap": null,
       "grid_row": null,
       "grid_template_areas": null,
       "grid_template_columns": null,
       "grid_template_rows": null,
       "height": null,
       "justify_content": null,
       "justify_items": null,
       "left": null,
       "margin": null,
       "max_height": null,
       "max_width": null,
       "min_height": null,
       "min_width": null,
       "object_fit": null,
       "object_position": null,
       "order": null,
       "overflow": null,
       "overflow_x": null,
       "overflow_y": null,
       "padding": null,
       "right": null,
       "top": null,
       "visibility": null,
       "width": null
      }
     },
     "6bfe64a153a14f0c97f5ef0255eaff16": {
      "model_module": "@jupyter-widgets/controls",
      "model_module_version": "1.5.0",
      "model_name": "DescriptionStyleModel",
      "state": {
       "_model_module": "@jupyter-widgets/controls",
       "_model_module_version": "1.5.0",
       "_model_name": "DescriptionStyleModel",
       "_view_count": null,
       "_view_module": "@jupyter-widgets/base",
       "_view_module_version": "1.2.0",
       "_view_name": "StyleView",
       "description_width": ""
      }
     },
     "7007e457a7a74ccc8f0bd4006e725403": {
      "model_module": "@jupyter-widgets/controls",
      "model_module_version": "1.5.0",
      "model_name": "HTMLModel",
      "state": {
       "_dom_classes": [],
       "_model_module": "@jupyter-widgets/controls",
       "_model_module_version": "1.5.0",
       "_model_name": "HTMLModel",
       "_view_count": null,
       "_view_module": "@jupyter-widgets/controls",
       "_view_module_version": "1.5.0",
       "_view_name": "HTMLView",
       "description": "",
       "description_tooltip": null,
       "layout": "IPY_MODEL_747603c85edd4395a4b1a63711a0fc0a",
       "placeholder": "​",
       "style": "IPY_MODEL_99ea5d7ea08d41d186e56185a5a2d8f9",
       "value": "Parallel apply in progress for parkinsons.: 100%"
      }
     },
     "704715a31a4d40ff9279ad87afb95552": {
      "model_module": "@jupyter-widgets/base",
      "model_module_version": "1.2.0",
      "model_name": "LayoutModel",
      "state": {
       "_model_module": "@jupyter-widgets/base",
       "_model_module_version": "1.2.0",
       "_model_name": "LayoutModel",
       "_view_count": null,
       "_view_module": "@jupyter-widgets/base",
       "_view_module_version": "1.2.0",
       "_view_name": "LayoutView",
       "align_content": null,
       "align_items": null,
       "align_self": null,
       "border": null,
       "bottom": null,
       "display": null,
       "flex": null,
       "flex_flow": null,
       "grid_area": null,
       "grid_auto_columns": null,
       "grid_auto_flow": null,
       "grid_auto_rows": null,
       "grid_column": null,
       "grid_gap": null,
       "grid_row": null,
       "grid_template_areas": null,
       "grid_template_columns": null,
       "grid_template_rows": null,
       "height": null,
       "justify_content": null,
       "justify_items": null,
       "left": null,
       "margin": null,
       "max_height": null,
       "max_width": null,
       "min_height": null,
       "min_width": null,
       "object_fit": null,
       "object_position": null,
       "order": null,
       "overflow": null,
       "overflow_x": null,
       "overflow_y": null,
       "padding": null,
       "right": null,
       "top": null,
       "visibility": null,
       "width": null
      }
     },
     "73402b6922944fa2a356b8c5cea8e1f8": {
      "model_module": "@jupyter-widgets/controls",
      "model_module_version": "1.5.0",
      "model_name": "HBoxModel",
      "state": {
       "_dom_classes": [],
       "_model_module": "@jupyter-widgets/controls",
       "_model_module_version": "1.5.0",
       "_model_name": "HBoxModel",
       "_view_count": null,
       "_view_module": "@jupyter-widgets/controls",
       "_view_module_version": "1.5.0",
       "_view_name": "HBoxView",
       "box_style": "",
       "children": [
        "IPY_MODEL_7007e457a7a74ccc8f0bd4006e725403",
        "IPY_MODEL_9512c9c5a4cf41b8b21861d163ea6f9e",
        "IPY_MODEL_281603740de24499be78d263fa47287d"
       ],
       "layout": "IPY_MODEL_c953ce5870864c8195679723788d70b4"
      }
     },
     "747603c85edd4395a4b1a63711a0fc0a": {
      "model_module": "@jupyter-widgets/base",
      "model_module_version": "1.2.0",
      "model_name": "LayoutModel",
      "state": {
       "_model_module": "@jupyter-widgets/base",
       "_model_module_version": "1.2.0",
       "_model_name": "LayoutModel",
       "_view_count": null,
       "_view_module": "@jupyter-widgets/base",
       "_view_module_version": "1.2.0",
       "_view_name": "LayoutView",
       "align_content": null,
       "align_items": null,
       "align_self": null,
       "border": null,
       "bottom": null,
       "display": null,
       "flex": null,
       "flex_flow": null,
       "grid_area": null,
       "grid_auto_columns": null,
       "grid_auto_flow": null,
       "grid_auto_rows": null,
       "grid_column": null,
       "grid_gap": null,
       "grid_row": null,
       "grid_template_areas": null,
       "grid_template_columns": null,
       "grid_template_rows": null,
       "height": null,
       "justify_content": null,
       "justify_items": null,
       "left": null,
       "margin": null,
       "max_height": null,
       "max_width": null,
       "min_height": null,
       "min_width": null,
       "object_fit": null,
       "object_position": null,
       "order": null,
       "overflow": null,
       "overflow_x": null,
       "overflow_y": null,
       "padding": null,
       "right": null,
       "top": null,
       "visibility": null,
       "width": null
      }
     },
     "9512c9c5a4cf41b8b21861d163ea6f9e": {
      "model_module": "@jupyter-widgets/controls",
      "model_module_version": "1.5.0",
      "model_name": "FloatProgressModel",
      "state": {
       "_dom_classes": [],
       "_model_module": "@jupyter-widgets/controls",
       "_model_module_version": "1.5.0",
       "_model_name": "FloatProgressModel",
       "_view_count": null,
       "_view_module": "@jupyter-widgets/controls",
       "_view_module_version": "1.5.0",
       "_view_name": "ProgressView",
       "bar_style": "success",
       "description": "",
       "description_tooltip": null,
       "layout": "IPY_MODEL_0ccd5e61ae31430eb25d1764f0aec076",
       "max": 5,
       "min": 0,
       "orientation": "horizontal",
       "style": "IPY_MODEL_3224d42d1efb437088618d14de2f84d8",
       "value": 5
      }
     },
     "99ea5d7ea08d41d186e56185a5a2d8f9": {
      "model_module": "@jupyter-widgets/controls",
      "model_module_version": "1.5.0",
      "model_name": "DescriptionStyleModel",
      "state": {
       "_model_module": "@jupyter-widgets/controls",
       "_model_module_version": "1.5.0",
       "_model_name": "DescriptionStyleModel",
       "_view_count": null,
       "_view_module": "@jupyter-widgets/base",
       "_view_module_version": "1.2.0",
       "_view_name": "StyleView",
       "description_width": ""
      }
     },
     "9fa60e2f6ccb4227a3b02ccc003a8608": {
      "model_module": "@jupyter-widgets/controls",
      "model_module_version": "1.5.0",
      "model_name": "ProgressStyleModel",
      "state": {
       "_model_module": "@jupyter-widgets/controls",
       "_model_module_version": "1.5.0",
       "_model_name": "ProgressStyleModel",
       "_view_count": null,
       "_view_module": "@jupyter-widgets/base",
       "_view_module_version": "1.2.0",
       "_view_name": "StyleView",
       "bar_color": null,
       "description_width": ""
      }
     },
     "a490a7cd7ba046659eaf491abea3959b": {
      "model_module": "@jupyter-widgets/base",
      "model_module_version": "1.2.0",
      "model_name": "LayoutModel",
      "state": {
       "_model_module": "@jupyter-widgets/base",
       "_model_module_version": "1.2.0",
       "_model_name": "LayoutModel",
       "_view_count": null,
       "_view_module": "@jupyter-widgets/base",
       "_view_module_version": "1.2.0",
       "_view_name": "LayoutView",
       "align_content": null,
       "align_items": null,
       "align_self": null,
       "border": null,
       "bottom": null,
       "display": null,
       "flex": null,
       "flex_flow": null,
       "grid_area": null,
       "grid_auto_columns": null,
       "grid_auto_flow": null,
       "grid_auto_rows": null,
       "grid_column": null,
       "grid_gap": null,
       "grid_row": null,
       "grid_template_areas": null,
       "grid_template_columns": null,
       "grid_template_rows": null,
       "height": null,
       "justify_content": null,
       "justify_items": null,
       "left": null,
       "margin": null,
       "max_height": null,
       "max_width": null,
       "min_height": null,
       "min_width": null,
       "object_fit": null,
       "object_position": null,
       "order": null,
       "overflow": null,
       "overflow_x": null,
       "overflow_y": null,
       "padding": null,
       "right": null,
       "top": null,
       "visibility": null,
       "width": null
      }
     },
     "a5dc56a5d3f1446c8331a2939bc53272": {
      "model_module": "@jupyter-widgets/controls",
      "model_module_version": "1.5.0",
      "model_name": "HBoxModel",
      "state": {
       "_dom_classes": [],
       "_model_module": "@jupyter-widgets/controls",
       "_model_module_version": "1.5.0",
       "_model_name": "HBoxModel",
       "_view_count": null,
       "_view_module": "@jupyter-widgets/controls",
       "_view_module_version": "1.5.0",
       "_view_name": "HBoxView",
       "box_style": "",
       "children": [
        "IPY_MODEL_7007e457a7a74ccc8f0bd4006e725403",
        "IPY_MODEL_9512c9c5a4cf41b8b21861d163ea6f9e",
        "IPY_MODEL_281603740de24499be78d263fa47287d"
       ],
       "layout": "IPY_MODEL_c953ce5870864c8195679723788d70b4"
      }
     },
     "b709f851ab314009979f7a4366eabf25": {
      "model_module": "@jupyter-widgets/controls",
      "model_module_version": "1.5.0",
      "model_name": "HTMLModel",
      "state": {
       "_dom_classes": [],
       "_model_module": "@jupyter-widgets/controls",
       "_model_module_version": "1.5.0",
       "_model_name": "HTMLModel",
       "_view_count": null,
       "_view_module": "@jupyter-widgets/controls",
       "_view_module_version": "1.5.0",
       "_view_name": "HTMLView",
       "description": "",
       "description_tooltip": null,
       "layout": "IPY_MODEL_5a877c5bffff4e8d88b025164bbf70e2",
       "placeholder": "​",
       "style": "IPY_MODEL_6bfe64a153a14f0c97f5ef0255eaff16",
       "value": ""
      }
     },
     "c953ce5870864c8195679723788d70b4": {
      "model_module": "@jupyter-widgets/base",
      "model_module_version": "1.2.0",
      "model_name": "LayoutModel",
      "state": {
       "_model_module": "@jupyter-widgets/base",
       "_model_module_version": "1.2.0",
       "_model_name": "LayoutModel",
       "_view_count": null,
       "_view_module": "@jupyter-widgets/base",
       "_view_module_version": "1.2.0",
       "_view_name": "LayoutView",
       "align_content": null,
       "align_items": null,
       "align_self": null,
       "border": null,
       "bottom": null,
       "display": null,
       "flex": null,
       "flex_flow": null,
       "grid_area": null,
       "grid_auto_columns": null,
       "grid_auto_flow": null,
       "grid_auto_rows": null,
       "grid_column": null,
       "grid_gap": null,
       "grid_row": null,
       "grid_template_areas": null,
       "grid_template_columns": null,
       "grid_template_rows": null,
       "height": null,
       "justify_content": null,
       "justify_items": null,
       "left": null,
       "margin": null,
       "max_height": null,
       "max_width": null,
       "min_height": null,
       "min_width": null,
       "object_fit": null,
       "object_position": null,
       "order": null,
       "overflow": null,
       "overflow_x": null,
       "overflow_y": null,
       "padding": null,
       "right": null,
       "top": null,
       "visibility": null,
       "width": null
      }
     },
     "e3b7d4d8d9db4dee91a85fab6c2d07d3": {
      "model_module": "@jupyter-widgets/controls",
      "model_module_version": "1.5.0",
      "model_name": "DescriptionStyleModel",
      "state": {
       "_model_module": "@jupyter-widgets/controls",
       "_model_module_version": "1.5.0",
       "_model_name": "DescriptionStyleModel",
       "_view_count": null,
       "_view_module": "@jupyter-widgets/base",
       "_view_module_version": "1.2.0",
       "_view_name": "StyleView",
       "description_width": ""
      }
     }
    },
    "version_major": 2,
    "version_minor": 0
   }
  }
 },
 "nbformat": 4,
 "nbformat_minor": 4
}
