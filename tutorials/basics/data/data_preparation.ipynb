{
 "cells": [
  {
   "cell_type": "markdown",
   "metadata": {},
   "source": [
    "# Data preparation\n",
    "\n",
    "In this tutorial we will go deeper into the different data preparation options that are possible within QSPRpred.\n",
    "\n",
    "The first step is to load the data and wrap it into a QSPRpred dataset object.\n",
    "Here we will create a regression dataset, but if you want to learn more about how to prepare\n",
    "classification data, please check the [classification tutorial](../modelling/classification.ipynb).\n",
    "If you want to know more about how to specifiy the target property,\n",
    "you can have a look at the [documentation](https://cddleiden.github.io/QSPRpred/docs/api/qsprpred.data.html#qsprpred.data.data.TargetProperty) on this topic."
   ]
  },
  {
   "cell_type": "code",
   "execution_count": 5,
   "metadata": {},
   "outputs": [
    {
     "data": {
      "text/html": [
       "<div>\n",
       "<style scoped>\n",
       "    .dataframe tbody tr th:only-of-type {\n",
       "        vertical-align: middle;\n",
       "    }\n",
       "\n",
       "    .dataframe tbody tr th {\n",
       "        vertical-align: top;\n",
       "    }\n",
       "\n",
       "    .dataframe thead th {\n",
       "        text-align: right;\n",
       "    }\n",
       "</style>\n",
       "<table border=\"1\" class=\"dataframe\">\n",
       "  <thead>\n",
       "    <tr style=\"text-align: right;\">\n",
       "      <th></th>\n",
       "      <th>SMILES</th>\n",
       "      <th>pchembl_value_Mean</th>\n",
       "    </tr>\n",
       "  </thead>\n",
       "  <tbody>\n",
       "    <tr>\n",
       "      <th>0</th>\n",
       "      <td>Cc1nn(-c2cc(NC(=O)CCN(C)C)nc(-c3ccc(C)o3)n2)c(...</td>\n",
       "      <td>8.68</td>\n",
       "    </tr>\n",
       "    <tr>\n",
       "      <th>1</th>\n",
       "      <td>Nc1c(C(=O)Nc2ccc([N+](=O)[O-])cc2)sc2c1cc1CCCC...</td>\n",
       "      <td>4.82</td>\n",
       "    </tr>\n",
       "    <tr>\n",
       "      <th>2</th>\n",
       "      <td>O=C(Nc1nc2ncccc2n2c(=O)n(-c3ccccc3)nc12)c1ccccc1</td>\n",
       "      <td>5.65</td>\n",
       "    </tr>\n",
       "    <tr>\n",
       "      <th>3</th>\n",
       "      <td>CNC(=O)C12CC1C(n1cnc3c1nc(C#CCCCCC(=O)OC)nc3NC...</td>\n",
       "      <td>5.45</td>\n",
       "    </tr>\n",
       "    <tr>\n",
       "      <th>4</th>\n",
       "      <td>CCCn1c(=O)c2c(nc3cc(OC)ccn32)n(CCCNC(=O)c2ccc(...</td>\n",
       "      <td>5.20</td>\n",
       "    </tr>\n",
       "  </tbody>\n",
       "</table>\n",
       "</div>"
      ],
      "text/plain": [
       "                                              SMILES  pchembl_value_Mean\n",
       "0  Cc1nn(-c2cc(NC(=O)CCN(C)C)nc(-c3ccc(C)o3)n2)c(...                8.68\n",
       "1  Nc1c(C(=O)Nc2ccc([N+](=O)[O-])cc2)sc2c1cc1CCCC...                4.82\n",
       "2   O=C(Nc1nc2ncccc2n2c(=O)n(-c3ccccc3)nc12)c1ccccc1                5.65\n",
       "3  CNC(=O)C12CC1C(n1cnc3c1nc(C#CCCCCC(=O)OC)nc3NC...                5.45\n",
       "4  CCCn1c(=O)c2c(nc3cc(OC)ccn32)n(CCCNC(=O)c2ccc(...                5.20"
      ]
     },
     "metadata": {},
     "output_type": "display_data"
    },
    {
     "data": {
      "text/html": [
       "<div>\n",
       "<style scoped>\n",
       "    .dataframe tbody tr th:only-of-type {\n",
       "        vertical-align: middle;\n",
       "    }\n",
       "\n",
       "    .dataframe tbody tr th {\n",
       "        vertical-align: top;\n",
       "    }\n",
       "\n",
       "    .dataframe thead th {\n",
       "        text-align: right;\n",
       "    }\n",
       "</style>\n",
       "<table border=\"1\" class=\"dataframe\">\n",
       "  <thead>\n",
       "    <tr style=\"text-align: right;\">\n",
       "      <th></th>\n",
       "      <th>SMILES</th>\n",
       "      <th>pchembl_value_Mean</th>\n",
       "      <th>QSPRID</th>\n",
       "    </tr>\n",
       "    <tr>\n",
       "      <th>QSPRID</th>\n",
       "      <th></th>\n",
       "      <th></th>\n",
       "      <th></th>\n",
       "    </tr>\n",
       "  </thead>\n",
       "  <tbody>\n",
       "    <tr>\n",
       "      <th>A2A_LIGANDS_classification_0</th>\n",
       "      <td>Cc1nn(-c2cc(NC(=O)CCN(C)C)nc(-c3ccc(C)o3)n2)c(...</td>\n",
       "      <td>8.68</td>\n",
       "      <td>A2A_LIGANDS_classification_0</td>\n",
       "    </tr>\n",
       "    <tr>\n",
       "      <th>A2A_LIGANDS_classification_1</th>\n",
       "      <td>Nc1c(C(=O)Nc2ccc([N+](=O)[O-])cc2)sc2c1cc1CCCC...</td>\n",
       "      <td>4.82</td>\n",
       "      <td>A2A_LIGANDS_classification_1</td>\n",
       "    </tr>\n",
       "    <tr>\n",
       "      <th>A2A_LIGANDS_classification_2</th>\n",
       "      <td>O=C(Nc1nc2ncccc2n2c(=O)n(-c3ccccc3)nc12)c1ccccc1</td>\n",
       "      <td>5.65</td>\n",
       "      <td>A2A_LIGANDS_classification_2</td>\n",
       "    </tr>\n",
       "    <tr>\n",
       "      <th>A2A_LIGANDS_classification_3</th>\n",
       "      <td>CNC(=O)C12CC1C(n1cnc3c1nc(C#CCCCCC(=O)OC)nc3NC...</td>\n",
       "      <td>5.45</td>\n",
       "      <td>A2A_LIGANDS_classification_3</td>\n",
       "    </tr>\n",
       "    <tr>\n",
       "      <th>A2A_LIGANDS_classification_4</th>\n",
       "      <td>CCCn1c(=O)c2c(nc3cc(OC)ccn32)n(CCCNC(=O)c2ccc(...</td>\n",
       "      <td>5.20</td>\n",
       "      <td>A2A_LIGANDS_classification_4</td>\n",
       "    </tr>\n",
       "    <tr>\n",
       "      <th>...</th>\n",
       "      <td>...</td>\n",
       "      <td>...</td>\n",
       "      <td>...</td>\n",
       "    </tr>\n",
       "    <tr>\n",
       "      <th>A2A_LIGANDS_classification_4077</th>\n",
       "      <td>CNc1ncc(C(=O)NCc2ccc(OC)cc2)c2nc(-c3ccco3)nn12</td>\n",
       "      <td>7.09</td>\n",
       "      <td>A2A_LIGANDS_classification_4077</td>\n",
       "    </tr>\n",
       "    <tr>\n",
       "      <th>A2A_LIGANDS_classification_4078</th>\n",
       "      <td>Nc1nc(-c2ccco2)c2ncn(C(=O)NCCc3ccccc3)c2n1</td>\n",
       "      <td>8.22</td>\n",
       "      <td>A2A_LIGANDS_classification_4078</td>\n",
       "    </tr>\n",
       "    <tr>\n",
       "      <th>A2A_LIGANDS_classification_4079</th>\n",
       "      <td>Nc1nc(Nc2ccc(F)cc2)nc(CSc2nnc(N)s2)n1</td>\n",
       "      <td>4.89</td>\n",
       "      <td>A2A_LIGANDS_classification_4079</td>\n",
       "    </tr>\n",
       "    <tr>\n",
       "      <th>A2A_LIGANDS_classification_4080</th>\n",
       "      <td>CCCOc1ccc(C=Cc2cc3c(c(=O)n(C)c(=O)n3C)n2C)cc1</td>\n",
       "      <td>6.51</td>\n",
       "      <td>A2A_LIGANDS_classification_4080</td>\n",
       "    </tr>\n",
       "    <tr>\n",
       "      <th>A2A_LIGANDS_classification_4081</th>\n",
       "      <td>CCOC(=O)c1cnc(NCC(C)C)n2nc(-c3ccco3)nc12</td>\n",
       "      <td>7.35</td>\n",
       "      <td>A2A_LIGANDS_classification_4081</td>\n",
       "    </tr>\n",
       "  </tbody>\n",
       "</table>\n",
       "<p>4082 rows × 3 columns</p>\n",
       "</div>"
      ],
      "text/plain": [
       "                                                                            SMILES  \\\n",
       "QSPRID                                                                               \n",
       "A2A_LIGANDS_classification_0     Cc1nn(-c2cc(NC(=O)CCN(C)C)nc(-c3ccc(C)o3)n2)c(...   \n",
       "A2A_LIGANDS_classification_1     Nc1c(C(=O)Nc2ccc([N+](=O)[O-])cc2)sc2c1cc1CCCC...   \n",
       "A2A_LIGANDS_classification_2      O=C(Nc1nc2ncccc2n2c(=O)n(-c3ccccc3)nc12)c1ccccc1   \n",
       "A2A_LIGANDS_classification_3     CNC(=O)C12CC1C(n1cnc3c1nc(C#CCCCCC(=O)OC)nc3NC...   \n",
       "A2A_LIGANDS_classification_4     CCCn1c(=O)c2c(nc3cc(OC)ccn32)n(CCCNC(=O)c2ccc(...   \n",
       "...                                                                            ...   \n",
       "A2A_LIGANDS_classification_4077     CNc1ncc(C(=O)NCc2ccc(OC)cc2)c2nc(-c3ccco3)nn12   \n",
       "A2A_LIGANDS_classification_4078         Nc1nc(-c2ccco2)c2ncn(C(=O)NCCc3ccccc3)c2n1   \n",
       "A2A_LIGANDS_classification_4079              Nc1nc(Nc2ccc(F)cc2)nc(CSc2nnc(N)s2)n1   \n",
       "A2A_LIGANDS_classification_4080      CCCOc1ccc(C=Cc2cc3c(c(=O)n(C)c(=O)n3C)n2C)cc1   \n",
       "A2A_LIGANDS_classification_4081           CCOC(=O)c1cnc(NCC(C)C)n2nc(-c3ccco3)nc12   \n",
       "\n",
       "                                 pchembl_value_Mean  \\\n",
       "QSPRID                                                \n",
       "A2A_LIGANDS_classification_0                   8.68   \n",
       "A2A_LIGANDS_classification_1                   4.82   \n",
       "A2A_LIGANDS_classification_2                   5.65   \n",
       "A2A_LIGANDS_classification_3                   5.45   \n",
       "A2A_LIGANDS_classification_4                   5.20   \n",
       "...                                             ...   \n",
       "A2A_LIGANDS_classification_4077                7.09   \n",
       "A2A_LIGANDS_classification_4078                8.22   \n",
       "A2A_LIGANDS_classification_4079                4.89   \n",
       "A2A_LIGANDS_classification_4080                6.51   \n",
       "A2A_LIGANDS_classification_4081                7.35   \n",
       "\n",
       "                                                          QSPRID  \n",
       "QSPRID                                                            \n",
       "A2A_LIGANDS_classification_0        A2A_LIGANDS_classification_0  \n",
       "A2A_LIGANDS_classification_1        A2A_LIGANDS_classification_1  \n",
       "A2A_LIGANDS_classification_2        A2A_LIGANDS_classification_2  \n",
       "A2A_LIGANDS_classification_3        A2A_LIGANDS_classification_3  \n",
       "A2A_LIGANDS_classification_4        A2A_LIGANDS_classification_4  \n",
       "...                                                          ...  \n",
       "A2A_LIGANDS_classification_4077  A2A_LIGANDS_classification_4077  \n",
       "A2A_LIGANDS_classification_4078  A2A_LIGANDS_classification_4078  \n",
       "A2A_LIGANDS_classification_4079  A2A_LIGANDS_classification_4079  \n",
       "A2A_LIGANDS_classification_4080  A2A_LIGANDS_classification_4080  \n",
       "A2A_LIGANDS_classification_4081  A2A_LIGANDS_classification_4081  \n",
       "\n",
       "[4082 rows x 3 columns]"
      ]
     },
     "metadata": {},
     "output_type": "display_data"
    }
   ],
   "source": [
    "import os\n",
    "import pandas as pd\n",
    "from IPython.display import display\n",
    "from qsprpred.data.data import QSPRDataset\n",
    "\n",
    "df = pd.read_csv('../../tutorial_data/A2A_LIGANDS.tsv', sep='\\t')\n",
    "\n",
    "display(df.head())\n",
    "\n",
    "os.makedirs(\"../../tutorial_output/data\", exist_ok=True)\n",
    "\n",
    "dataset = QSPRDataset(\n",
    "  \tdf=df, \n",
    "  \tstore_dir=\"../../tutorial_output/data\",\n",
    "  \tname=\"A2A_LIGANDS_classification\",\n",
    "  \ttarget_props=[{\"name\": \"pchembl_value_Mean\", \"task\": \"REGRESSION\"}],\n",
    "  \trandom_state=42\n",
    ")\n",
    "\n",
    "display(dataset.getDF())"
   ]
  },
  {
   "cell_type": "markdown",
   "metadata": {},
   "source": [
    "You might have seen the preprocessing steps below in the quick_start or one of the other tutorials.\n",
    "However, there are many more preprocessing options available in QSPRpred.\n",
    "\n",
    "The `QSPRData.prepareDataset` function allows you to specify a number of preprocessing steps,\n",
    "which are then applied in a fixed order. If you want to have more control over the preprocessing steps,\n",
    "you can have a look at the [advanced data preparation tutorial](preprocessing.ipynb).\n",
    "\n",
    "In this tutorial we will go through the different preprocessing steps that are available in QSPRpred.\n",
    "Some have their own dedicated tutorial, which will be linked to below.\n",
    "\n",
    "The preprocessing steps that `QSPRData.prepareDataset` applies are:\n",
    "1. SMILES standardization\n",
    "2. [feature calculation](descriptors.ipynb)\n",
    "3. data filtering\n",
    "4. fill missing feature values\n",
    "5. [split into training and test set](data_splitting.ipynb)\n",
    "6. feature selection\n",
    "7. feature standardization\n"
   ]
  },
  {
   "cell_type": "markdown",
   "metadata": {},
   "source": [
    "## SMILES standardization\n",
    "\n",
    "The first step in the data preparation is to standardize the SMILES strings (`smiles_standardizer`).\n",
    "By default the [ChEMBL structure pipeline](https://github.com/chembl/ChEMBL_Structure_Pipeline) is used for this, but you can also specify your own function.\n",
    "\n",
    "To use the default ChEMBL structure pipeline, you can pass `\"chembl\"` (default), if\n",
    "you want to skip this step, you can pass None.\n",
    "\n",
    "To use your own function, you can pass a function that takes a SMILES string as input and returns a SMILES string as output.\n"
   ]
  },
  {
   "cell_type": "code",
   "execution_count": 14,
   "metadata": {},
   "outputs": [
    {
     "name": "stderr",
     "output_type": "stream",
     "text": [
      "Missing values filled with nan\n"
     ]
    },
    {
     "name": "stdout",
     "output_type": "stream",
     "text": [
      "                                                                         SMILES  \\\n",
      "QSPRID                                                                            \n",
      "A2A_LIGANDS_classification_0  Cc1cc(C)n(-c2cc(NC(=O)CCN(C)C)nc(-c3ccc(C)o3)n...   \n",
      "A2A_LIGANDS_classification_1  Nc1c(C(=O)Nc2ccc([N+](=O)[O-])cc2)sc2nc3c(cc12...   \n",
      "A2A_LIGANDS_classification_2   O=C(Nc1nc2ncccc2n2c(=O)n(-c3ccccc3)nc12)c1ccccc1   \n",
      "A2A_LIGANDS_classification_3  CNC(=O)C12CC1C(n1cnc3c(NCc4cccc(Cl)c4)nc(C#CCC...   \n",
      "A2A_LIGANDS_classification_4  CCCn1c(=O)c2c(nc3cc(OC)ccn32)n(CCCNC(=O)c2ccc(...   \n",
      "\n",
      "                              pchembl_value_Mean                        QSPRID  \n",
      "QSPRID                                                                          \n",
      "A2A_LIGANDS_classification_0                8.68  A2A_LIGANDS_classification_0  \n",
      "A2A_LIGANDS_classification_1                4.82  A2A_LIGANDS_classification_1  \n",
      "A2A_LIGANDS_classification_2                5.65  A2A_LIGANDS_classification_2  \n",
      "A2A_LIGANDS_classification_3                5.45  A2A_LIGANDS_classification_3  \n",
      "A2A_LIGANDS_classification_4                5.20  A2A_LIGANDS_classification_4  \n"
     ]
    }
   ],
   "source": [
    "from qsprpred.data.utils.descriptorsets import FingerprintSet\n",
    "from qsprpred.data.utils.descriptorcalculator import MoleculeDescriptorsCalculator\n",
    "from qsprpred.data.utils.datasplitters import RandomSplit\n",
    "\n",
    "\n",
    "# Calculate MorganFP and physicochemical properties\n",
    "feature_calculator = MoleculeDescriptorsCalculator(desc_sets = [FingerprintSet(fingerprint_type=\"MorganFP\", radius=3, nBits=2048)])\n",
    "\n",
    "# Do a random split for creating the train (85%) and test set (15%)\n",
    "rand_split = RandomSplit(test_fraction=0.2, dataset=dataset)\n",
    "\n",
    "# custom standardizer that canonicalizes the SMILES\n",
    "def custom_standardizer(smiles):\n",
    "    from rdkit import Chem\n",
    "    mol = Chem.MolFromSmiles(smiles)\n",
    "    smiles = Chem.MolToSmiles(mol, canonical=True)\n",
    "    return smiles\n",
    "\n",
    "# calculate compound features and split dataset into train and test\n",
    "dataset.prepareDataset(\n",
    "    smiles_standardizer = custom_standardizer,\n",
    "    split=rand_split,\n",
    "    feature_calculators=[feature_calculator],\n",
    "    recalculate_features=True,\n",
    ")\n",
    "\n",
    "print(dataset.getDF().head())"
   ]
  },
  {
   "cell_type": "markdown",
   "metadata": {},
   "source": [
    "## Data filtering"
   ]
  },
  {
   "cell_type": "markdown",
   "metadata": {},
   "source": [
    "A number of filters can be applied to the data to remove unwanted compounds.\n",
    "By default, a filter to remove duplicates is applied (`RepeatsFilter`).\n",
    "\n",
    "A number of other filters is available in QSPRpred,  which can be used by passing a list of filter objects to the `filters` argument.\n",
    "You can find all available filters in the [documentation](https://cddleiden.github.io/QSPRpred/docs/api/qsprpred.data.utils.html#module-qsprpred.data.utils.datafilters)."
   ]
  },
  {
   "cell_type": "code",
   "execution_count": 19,
   "metadata": {},
   "outputs": [
    {
     "data": {
      "text/plain": [
       "'Wow'"
      ]
     },
     "execution_count": 19,
     "metadata": {},
     "output_type": "execute_result"
    }
   ],
   "source": [
    "import numpy as np\n",
    "\n",
    "np.random.choice([\"Wow\", \"Nope\"])"
   ]
  },
  {
   "cell_type": "code",
   "execution_count": null,
   "metadata": {},
   "outputs": [],
   "source": [
    "dataset.addProperty(name=\"FakeProperty\", data=)"
   ]
  },
  {
   "cell_type": "code",
   "execution_count": null,
   "metadata": {},
   "outputs": [],
   "source": [
    "from qsprpred.data.utils.descriptorsets import FingerprintSet\n",
    "from qsprpred.data.utils.descriptorcalculator import MoleculeDescriptorsCalculator\n",
    "from qsprpred.data.utils.datasplitters import RandomSplit\n",
    "from qsprpred.data.utils.datafilters import CategoryFilter, RepeatsFilter\n",
    "\n",
    "# Calculate MorganFP and physicochemical properties\n",
    "feature_calculator = MoleculeDescriptorsCalculator(desc_sets = [FingerprintSet(fingerprint_type=\"MorganFP\", radius=3, nBits=2048)])\n",
    "\n",
    "# Do a random split for creating the train (85%) and test set (15%)\n",
    "rand_split = RandomSplit(test_fraction=0.2, dataset=dataset)\n",
    "\n",
    "# calculate compound features and split dataset into train and test\n",
    "dataset.prepareDataset(\n",
    "    datafilters=[CategoryFilter(category=\"pchembl_value_Mean\", min_value=5.5, max_value=8.5)],\n",
    "    split=rand_split,\n",
    "    feature_calculators=[feature_calculator],\n",
    "    recalculate_features=True,\n",
    ")\n",
    "\n",
    "dataset.getDF().head()"
   ]
  },
  {
   "cell_type": "markdown",
   "metadata": {},
   "source": [
    "## Filling missing features"
   ]
  },
  {
   "cell_type": "markdown",
   "metadata": {},
   "source": [
    "## Feature selection"
   ]
  },
  {
   "cell_type": "markdown",
   "metadata": {},
   "source": [
    "## Feature standardization"
   ]
  }
 ],
 "metadata": {
  "kernelspec": {
   "display_name": "qsprpred",
   "language": "python",
   "name": "python3"
  },
  "language_info": {
   "codemirror_mode": {
    "name": "ipython",
    "version": 3
   },
   "file_extension": ".py",
   "mimetype": "text/x-python",
   "name": "python",
   "nbconvert_exporter": "python",
   "pygments_lexer": "ipython3",
   "version": "3.11.4"
  }
 },
 "nbformat": 4,
 "nbformat_minor": 2
}
