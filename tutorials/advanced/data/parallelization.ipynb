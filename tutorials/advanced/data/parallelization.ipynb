{
 "cells": [
  {
   "cell_type": "markdown",
   "source": [
    "# Code Parallelization\n",
    "\n",
    "## Data Set"
   ],
   "metadata": {
    "collapsed": false
   },
   "id": "9fedcee856268b35"
  },
  {
   "cell_type": "code",
   "execution_count": 1,
   "id": "initial_id",
   "metadata": {
    "collapsed": true,
    "ExecuteTime": {
     "end_time": "2024-01-16T12:52:00.051558634Z",
     "start_time": "2024-01-16T12:51:57.592315563Z"
    }
   },
   "outputs": [
    {
     "data": {
      "text/plain": "6797"
     },
     "execution_count": 1,
     "metadata": {},
     "output_type": "execute_result"
    }
   ],
   "source": [
    "\n",
    "\n",
    "import pandas as pd\n",
    "\n",
    "from qsprpred.data import MoleculeTable\n",
    "\n",
    "# load the data\n",
    "df = pd.read_csv('../../tutorial_data/AR_LIGANDS.tsv', sep='\\t')\n",
    "df = df.pivot(index=\"SMILES\", columns=\"accession\", values=\"pchembl_value_Mean\")\n",
    "df.columns.name = None\n",
    "df.reset_index(inplace=True)\n",
    "mt = MoleculeTable(name=\"ParallelizationExample\", df=df)\n",
    "len(mt)"
   ]
  },
  {
   "cell_type": "markdown",
   "source": [
    "## Setting `nJobs` and `chunkSize`"
   ],
   "metadata": {
    "collapsed": false
   },
   "id": "8f9ffda3a4b8202f"
  },
  {
   "cell_type": "code",
   "outputs": [
    {
     "name": "stdout",
     "output_type": "stream",
     "text": [
      "Running and timing descriptor calculation: MorganFP\n",
      "Time it took: 4.071595493000132\n"
     ]
    }
   ],
   "source": [
    "from qsprpred.data.descriptors.sets import DescriptorSet\n",
    "from qsprpred.data.descriptors.fingerprints import MorganFP\n",
    "from qsprpred.utils.stopwatch import StopWatch\n",
    "\n",
    "\n",
    "def time_desc_calc(data: MoleculeTable, desc_set: DescriptorSet):\n",
    "    if data.hasDescriptors([desc_set])[0]:\n",
    "        print(f\"Removing old descriptors: {desc_set}\")\n",
    "        data.dropDescriptors([desc_set])\n",
    "    print(f\"Running and timing descriptor calculation: {desc_set}\")\n",
    "    watch = StopWatch()\n",
    "    data.addDescriptors([desc_set])\n",
    "    watch.stop()\n",
    "\n",
    "\n",
    "time_desc_calc(mt, MorganFP(3, 2048))"
   ],
   "metadata": {
    "collapsed": false,
    "ExecuteTime": {
     "end_time": "2024-01-16T12:52:04.116785930Z",
     "start_time": "2024-01-16T12:52:00.031166477Z"
    }
   },
   "id": "5fb8189f4bd2cf62",
   "execution_count": 2
  },
  {
   "cell_type": "code",
   "outputs": [
    {
     "data": {
      "text/plain": "3398"
     },
     "execution_count": 3,
     "metadata": {},
     "output_type": "execute_result"
    }
   ],
   "source": [
    "mt.nJobs = 2\n",
    "mt.chunkSize"
   ],
   "metadata": {
    "collapsed": false,
    "ExecuteTime": {
     "end_time": "2024-01-16T12:52:04.117794417Z",
     "start_time": "2024-01-16T12:52:04.108670388Z"
    }
   },
   "id": "b6a15d314e606079",
   "execution_count": 3
  },
  {
   "cell_type": "code",
   "outputs": [
    {
     "data": {
      "text/plain": "1699"
     },
     "execution_count": 4,
     "metadata": {},
     "output_type": "execute_result"
    }
   ],
   "source": [
    "mt.nJobs = 4\n",
    "mt.chunkSize"
   ],
   "metadata": {
    "collapsed": false,
    "ExecuteTime": {
     "end_time": "2024-01-16T12:52:04.118712497Z",
     "start_time": "2024-01-16T12:52:04.112804775Z"
    }
   },
   "id": "fc7e6f8da481d6a4",
   "execution_count": 4
  },
  {
   "cell_type": "code",
   "outputs": [],
   "source": [
    "mt.chunkSize = 100"
   ],
   "metadata": {
    "collapsed": false,
    "ExecuteTime": {
     "end_time": "2024-01-16T12:52:04.123585744Z",
     "start_time": "2024-01-16T12:52:04.118268444Z"
    }
   },
   "id": "4525adefcc757437",
   "execution_count": 5
  },
  {
   "cell_type": "code",
   "outputs": [
    {
     "data": {
      "text/plain": "100"
     },
     "execution_count": 6,
     "metadata": {},
     "output_type": "execute_result"
    }
   ],
   "source": [
    "mt.chunkSize"
   ],
   "metadata": {
    "collapsed": false,
    "ExecuteTime": {
     "end_time": "2024-01-16T12:52:04.179508046Z",
     "start_time": "2024-01-16T12:52:04.122367037Z"
    }
   },
   "id": "17e8cf2e36a9e3e0",
   "execution_count": 6
  },
  {
   "cell_type": "code",
   "outputs": [
    {
     "data": {
      "text/plain": "4"
     },
     "execution_count": 7,
     "metadata": {},
     "output_type": "execute_result"
    }
   ],
   "source": [
    "mt.nJobs"
   ],
   "metadata": {
    "collapsed": false,
    "ExecuteTime": {
     "end_time": "2024-01-16T12:52:04.180247190Z",
     "start_time": "2024-01-16T12:52:04.162394860Z"
    }
   },
   "id": "713e2440fb6e0aa9",
   "execution_count": 7
  },
  {
   "cell_type": "code",
   "outputs": [
    {
     "data": {
      "text/plain": "3398"
     },
     "execution_count": 8,
     "metadata": {},
     "output_type": "execute_result"
    }
   ],
   "source": [
    "mt.nJobs = 2\n",
    "mt.chunkSize"
   ],
   "metadata": {
    "collapsed": false,
    "ExecuteTime": {
     "end_time": "2024-01-16T12:52:04.180912455Z",
     "start_time": "2024-01-16T12:52:04.162539277Z"
    }
   },
   "id": "84e06b6d198877df",
   "execution_count": 8
  },
  {
   "cell_type": "code",
   "outputs": [
    {
     "name": "stdout",
     "output_type": "stream",
     "text": [
      "Removing old descriptors: MorganFP\n",
      "Running and timing descriptor calculation: MorganFP\n",
      "Time it took: 3.478728633001083\n"
     ]
    }
   ],
   "source": [
    "time_desc_calc(mt, MorganFP(3, 2048))"
   ],
   "metadata": {
    "collapsed": false,
    "ExecuteTime": {
     "end_time": "2024-01-16T12:52:07.618656880Z",
     "start_time": "2024-01-16T12:52:04.162638295Z"
    }
   },
   "id": "cb069a8ffa0d759f",
   "execution_count": 9
  },
  {
   "cell_type": "code",
   "outputs": [
    {
     "name": "stdout",
     "output_type": "stream",
     "text": [
      "Removing old descriptors: MorganFP\n",
      "Running and timing descriptor calculation: MorganFP\n",
      "Time it took: 1.551871077001124\n"
     ]
    }
   ],
   "source": [
    "mt.nJobs = 12\n",
    "time_desc_calc(mt, MorganFP(3, 2048))"
   ],
   "metadata": {
    "collapsed": false,
    "ExecuteTime": {
     "end_time": "2024-01-16T12:52:09.176922553Z",
     "start_time": "2024-01-16T12:52:07.622674621Z"
    }
   },
   "id": "f20b126fe3ca7b4b",
   "execution_count": 10
  },
  {
   "cell_type": "code",
   "outputs": [
    {
     "name": "stdout",
     "output_type": "stream",
     "text": [
      "Removing old descriptors: MorganFP\n",
      "Running and timing descriptor calculation: MorganFP\n",
      "Time it took: 16.835393630000908\n"
     ]
    }
   ],
   "source": [
    "mt.chunkSize = 50\n",
    "time_desc_calc(mt, MorganFP(3, 2048))"
   ],
   "metadata": {
    "collapsed": false,
    "ExecuteTime": {
     "end_time": "2024-01-16T12:52:26.016964026Z",
     "start_time": "2024-01-16T12:52:09.179628402Z"
    }
   },
   "id": "490e7f64ac935250",
   "execution_count": 11
  },
  {
   "cell_type": "markdown",
   "source": [
    "## Custom Operations"
   ],
   "metadata": {
    "collapsed": false
   },
   "id": "7c2367dd655da9c8"
  },
  {
   "cell_type": "code",
   "outputs": [
    {
     "data": {
      "text/plain": "<generator object PandasDataTable.apply at 0x7fbc523ad460>"
     },
     "execution_count": 12,
     "metadata": {},
     "output_type": "execute_result"
    }
   ],
   "source": [
    "def processing_function(props: dict, *args, **kwargs):\n",
    "    print(args)\n",
    "    print(kwargs)\n",
    "    for prop in props:\n",
    "        print(prop, props[prop][0])\n",
    "\n",
    "\n",
    "mt.nJobs = 2\n",
    "\n",
    "mt.apply(processing_function, func_args=(\"A\",), func_kwargs={\"B\": None})"
   ],
   "metadata": {
    "collapsed": false,
    "ExecuteTime": {
     "end_time": "2024-01-16T12:52:26.037711866Z",
     "start_time": "2024-01-16T12:52:26.020965606Z"
    }
   },
   "id": "5d222001afae4d0b",
   "execution_count": 12
  },
  {
   "cell_type": "code",
   "outputs": [
    {
     "name": "stdout",
     "output_type": "stream",
     "text": [
      "('A',)\n",
      "{'B': None}\n",
      "SMILES ('A',)Brc1cc(Nc2nc3c(ncnc3N3CCCC3)s2)ccc1\n",
      "{'B': None}P0DMS8\n",
      " SMILES5.89 \n",
      "COc1cc(-n2c(=O)n(-c3c(OC)cccc3)c3c2nc(NC2CC2)nc3)ccc1P29274\n",
      " P0DMS86.61 \n",
      "nanP29275\n",
      " P29274nan \n",
      "5.29P30542\n",
      " P29275nan \n",
      "nanQSPRID\n",
      " P30542ParallelizationExample_0000 \n",
      "5.9QSPRID \n",
      "('A',)ParallelizationExample_3398\n",
      "\n",
      "{'B': None}\n",
      "SMILES c1nc2c(nc(Nc3ccc(N4CCOCC4)cc3)nc2NC2CCCCCCC2)[nH]1\n",
      "P0DMS8 5.56\n",
      "P29274 nan\n",
      "P29275 nan\n",
      "P30542 nan\n",
      "QSPRID ParallelizationExample_6796\n"
     ]
    },
    {
     "data": {
      "text/plain": "[None, None, None]"
     },
     "execution_count": 13,
     "metadata": {},
     "output_type": "execute_result"
    }
   ],
   "source": [
    "results = []\n",
    "for result in mt.apply(processing_function, func_args=(\"A\",), func_kwargs={\"B\": None}):\n",
    "    results.append(result)\n",
    "results"
   ],
   "metadata": {
    "collapsed": false,
    "ExecuteTime": {
     "end_time": "2024-01-16T12:52:26.122747434Z",
     "start_time": "2024-01-16T12:52:26.023595588Z"
    }
   },
   "id": "99f2cf1850ecf7cc",
   "execution_count": 13
  },
  {
   "cell_type": "code",
   "outputs": [
    {
     "data": {
      "text/plain": "[(3398, 6), (3398, 6), (1, 6)]"
     },
     "execution_count": 14,
     "metadata": {},
     "output_type": "execute_result"
    }
   ],
   "source": [
    "def processing_function_df(props: pd.DataFrame):\n",
    "    return props.shape\n",
    "\n",
    "\n",
    "results = []\n",
    "for result in mt.apply(processing_function_df, as_df=True):\n",
    "    results.append(result)\n",
    "results"
   ],
   "metadata": {
    "collapsed": false,
    "ExecuteTime": {
     "end_time": "2024-01-16T12:52:26.287048512Z",
     "start_time": "2024-01-16T12:52:26.112463763Z"
    }
   },
   "id": "a63acad6cfaa31eb",
   "execution_count": 14
  },
  {
   "cell_type": "markdown",
   "source": [
    "### Molecule Processors"
   ],
   "metadata": {
    "collapsed": false
   },
   "id": "39fcfa580de331"
  },
  {
   "cell_type": "code",
   "outputs": [
    {
     "data": {
      "text/plain": "[('Brc1cc(Nc2nc3c(ncnc3N3CCCC3)s2)ccc1',\n  str,\n  'SMILES',\n  'P0DMS8',\n  'P29274',\n  'P29275',\n  'P30542',\n  'QSPRID'),\n ('COc1cc(-n2c(=O)n(-c3c(OC)cccc3)c3c2nc(NC2CC2)nc3)ccc1',\n  str,\n  'SMILES',\n  'P0DMS8',\n  'P29274',\n  'P29275',\n  'P30542',\n  'QSPRID'),\n ('c1nc2c(nc(Nc3ccc(N4CCOCC4)cc3)nc2NC2CCCCCCC2)[nH]1',\n  str,\n  'SMILES',\n  'P0DMS8',\n  'P29274',\n  'P29275',\n  'P30542',\n  'QSPRID')]"
     },
     "execution_count": 15,
     "metadata": {},
     "output_type": "execute_result"
    }
   ],
   "source": [
    "from qsprpred.data.processing.mol_processor import MolProcessor\n",
    "from rdkit.Chem import Mol\n",
    "from typing import Any\n",
    "\n",
    "\n",
    "class MyProcessor(MolProcessor):\n",
    "    def __call__(self, mols: list[str | Mol], props: dict[str, list[Any]], *args,\n",
    "                 **kwargs) -> Any:\n",
    "        return mols[0], type(mols[0]), *props.keys()\n",
    "\n",
    "    @property\n",
    "    def supportsParallel(self) -> bool:\n",
    "        return True\n",
    "\n",
    "\n",
    "results = []\n",
    "for result in mt.processMols(MyProcessor()):\n",
    "    results.append(result)\n",
    "results"
   ],
   "metadata": {
    "collapsed": false,
    "ExecuteTime": {
     "end_time": "2024-01-16T12:52:26.287953616Z",
     "start_time": "2024-01-16T12:52:26.155658274Z"
    }
   },
   "id": "9f4256b379457379",
   "execution_count": 15
  },
  {
   "cell_type": "code",
   "outputs": [
    {
     "data": {
      "text/plain": "[(<rdkit.Chem.rdchem.Mol at 0x7fbc520fac50>,\n  rdkit.Chem.rdchem.Mol,\n  'SMILES',\n  'P0DMS8',\n  'P29274',\n  'P29275',\n  'P30542',\n  'QSPRID'),\n (<rdkit.Chem.rdchem.Mol at 0x7fbc522549a0>,\n  rdkit.Chem.rdchem.Mol,\n  'SMILES',\n  'P0DMS8',\n  'P29274',\n  'P29275',\n  'P30542',\n  'QSPRID'),\n (<rdkit.Chem.rdchem.Mol at 0x7fbc52255300>,\n  rdkit.Chem.rdchem.Mol,\n  'SMILES',\n  'P0DMS8',\n  'P29274',\n  'P29275',\n  'P30542',\n  'QSPRID')]"
     },
     "execution_count": 16,
     "metadata": {},
     "output_type": "execute_result"
    }
   ],
   "source": [
    "results = []\n",
    "for result in mt.processMols(MyProcessor(), as_rdkit=True):\n",
    "    results.append(result)\n",
    "results"
   ],
   "metadata": {
    "collapsed": false,
    "ExecuteTime": {
     "end_time": "2024-01-16T12:52:26.902219262Z",
     "start_time": "2024-01-16T12:52:26.202416914Z"
    }
   },
   "id": "4cf4e78a2249d7c9",
   "execution_count": 16
  },
  {
   "cell_type": "code",
   "outputs": [
    {
     "data": {
      "text/plain": "[(<rdkit.Chem.rdchem.Mol at 0x7fbc52256250>,\n  rdkit.Chem.rdchem.Mol,\n  'ParallelizationExample_3398'),\n (<rdkit.Chem.rdchem.Mol at 0x7fbc522576f0>,\n  rdkit.Chem.rdchem.Mol,\n  'ParallelizationExample_0000'),\n (<rdkit.Chem.rdchem.Mol at 0x7fbc52255ad0>,\n  rdkit.Chem.rdchem.Mol,\n  'ParallelizationExample_6796')]"
     },
     "execution_count": 17,
     "metadata": {},
     "output_type": "execute_result"
    }
   ],
   "source": [
    "from qsprpred.data.processing.mol_processor import MolProcessorWithID\n",
    "\n",
    "\n",
    "class MyProcessorWithID(MolProcessorWithID):\n",
    "    def __call__(self, mols: list[str | Mol], props: dict[str, list[Any]], *args,\n",
    "                 **kwargs) -> Any:\n",
    "        return mols[0], type(mols[0]), props[self.idProp][0]\n",
    "\n",
    "    @property\n",
    "    def supportsParallel(self) -> bool:\n",
    "        return True\n",
    "\n",
    "\n",
    "results = []\n",
    "for result in mt.processMols(MyProcessorWithID(), as_rdkit=True):\n",
    "    results.append(result)\n",
    "results"
   ],
   "metadata": {
    "collapsed": false,
    "ExecuteTime": {
     "end_time": "2024-01-16T12:52:27.632055911Z",
     "start_time": "2024-01-16T12:52:26.896229667Z"
    }
   },
   "id": "5c68573e46adf6d7",
   "execution_count": 17
  },
  {
   "cell_type": "code",
   "outputs": [],
   "source": [],
   "metadata": {
    "collapsed": false,
    "ExecuteTime": {
     "end_time": "2024-01-16T12:52:27.633070658Z",
     "start_time": "2024-01-16T12:52:27.605957692Z"
    }
   },
   "id": "19842c902b822d04",
   "execution_count": 17
  }
 ],
 "metadata": {
  "kernelspec": {
   "display_name": "Python 3",
   "language": "python",
   "name": "python3"
  },
  "language_info": {
   "codemirror_mode": {
    "name": "ipython",
    "version": 2
   },
   "file_extension": ".py",
   "mimetype": "text/x-python",
   "name": "python",
   "nbconvert_exporter": "python",
   "pygments_lexer": "ipython2",
   "version": "2.7.6"
  }
 },
 "nbformat": 4,
 "nbformat_minor": 5
}
