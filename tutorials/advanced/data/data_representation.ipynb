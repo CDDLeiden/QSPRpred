{
 "cells": [
  {
   "cell_type": "markdown",
   "id": "3f1a7a18f2217205",
   "metadata": {},
   "source": [
    "## Data Representation API (`PropertyStorage` and `ChemStore`)\n",
    "\n",
    "### Overview\n",
    "\n",
    "When designing the storage API we tried to identify the most common tasks that need to be performed when working with diverse cheminformatics data sets, mainly in the context of QSPR modelling, but it can also be used to store data from molecular docking or other structure-based simulations. Therefore, QSPRpred defines a general API to register and store properties (independent variables) for arbitrary data entries in its `PropertyStorage` abstract class, which is then further extended by the `ChemStore` interface that supports more specific functionality for encoding molecules alongside their properties. If you take a look at the [API documentation](https://cddleiden.github.io/QSPRpred/docs/api/modules.html) of these classes, you can see the methods and attributes to interact with them. Therefore, anyone can implement any kind of storage system to store compound representations and their properties and as long as they adhere to the above interfaces, their storage system can be used in QSPRpred seamlessly. This potentially enables more advanced users to interface different storage backends (i.e. SQL databases, NoSQL databases, online REST APIs or prohibitively large data sets) with QSPRpred as well. Since this is more advanced functionality, it is not yet covered in this tutorial, which only focuses on currently available implementations that focus on storing data locally by the means of `pandas` data frames. However, we are happy for any inquiries about developing clients for custom APIs or databases. Let us know on the [issue tracker](https://github.com/CDDLeiden/QSPRpred/issues) or via [email](https://github.com/CDDLeiden/QSPRpred/blob/main/pyproject.toml).\n",
    "\n",
    "### `PandasDataTable` as `PropertyStorage`\n",
    "\n",
    "**Note: Feel free to skip this part of the tutorial and continue to the \"`TabularStorageBasic` as `ChemStore`\" section if you are more interested in the cheminformatics features of QSPRpred and are not interested in understanding `PropertyStorage` in detail.**\n",
    "\n",
    "Tabular data is the most common data type in QSPR modelling and `pandas` is the Python package of choice when it comes to processing it. Therefore, we decided to compose the default `PropertyStorage` implementation around it and provide a light wrapper for the `pandas.DataFrame` class called `PandasDataTable`. `PandasDataTable` objects simply manage storage and state of a given `pandas.DataFrame` and giving it all features of the `PropertyStorage` API at the same time. You will typically not interact with these objects directly, but we will now use it for the demonstration of some functions facilitated by the `PropertyStorage` API. We will use the `A2A_LIGANDS.tsv` file from the tutorial data folder as an example data set. This file contains a list of ligands for the adenosine A2A receptor, which is a common target in drug discovery. The data set contains SMILES strings and some other properties relevant for QSPR modelling:"
   ]
  },
  {
   "cell_type": "code",
   "id": "fe42793b0c10c905",
   "metadata": {
    "ExecuteTime": {
     "end_time": "2024-09-03T21:47:55.943849Z",
     "start_time": "2024-09-03T21:47:55.722561Z"
    }
   },
   "source": [
    "import pandas as pd\n",
    "\n",
    "df = pd.read_csv(\"../../tutorial_data/A2A_LIGANDS.tsv\", sep=\"\\t\")\n",
    "\n",
    "df.head()"
   ],
   "outputs": [
    {
     "data": {
      "text/plain": [
       "                                              SMILES  pchembl_value_Mean  \\\n",
       "0  Cc1nn(-c2cc(NC(=O)CCN(C)C)nc(-c3ccc(C)o3)n2)c(...                8.68   \n",
       "1  Nc1c(C(=O)Nc2ccc([N+](=O)[O-])cc2)sc2c1cc1CCCC...                4.82   \n",
       "2   O=C(Nc1nc2ncccc2n2c(=O)n(-c3ccccc3)nc12)c1ccccc1                5.65   \n",
       "3  CNC(=O)C12CC1C(n1cnc3c1nc(C#CCCCCC(=O)OC)nc3NC...                5.45   \n",
       "4  CCCn1c(=O)c2c(nc3cc(OC)ccn32)n(CCCNC(=O)c2ccc(...                5.20   \n",
       "\n",
       "     Year  \n",
       "0  2008.0  \n",
       "1  2010.0  \n",
       "2  2009.0  \n",
       "3  2009.0  \n",
       "4  2019.0  "
      ],
      "text/html": [
       "<div>\n",
       "<style scoped>\n",
       "    .dataframe tbody tr th:only-of-type {\n",
       "        vertical-align: middle;\n",
       "    }\n",
       "\n",
       "    .dataframe tbody tr th {\n",
       "        vertical-align: top;\n",
       "    }\n",
       "\n",
       "    .dataframe thead th {\n",
       "        text-align: right;\n",
       "    }\n",
       "</style>\n",
       "<table border=\"1\" class=\"dataframe\">\n",
       "  <thead>\n",
       "    <tr style=\"text-align: right;\">\n",
       "      <th></th>\n",
       "      <th>SMILES</th>\n",
       "      <th>pchembl_value_Mean</th>\n",
       "      <th>Year</th>\n",
       "    </tr>\n",
       "  </thead>\n",
       "  <tbody>\n",
       "    <tr>\n",
       "      <th>0</th>\n",
       "      <td>Cc1nn(-c2cc(NC(=O)CCN(C)C)nc(-c3ccc(C)o3)n2)c(...</td>\n",
       "      <td>8.68</td>\n",
       "      <td>2008.0</td>\n",
       "    </tr>\n",
       "    <tr>\n",
       "      <th>1</th>\n",
       "      <td>Nc1c(C(=O)Nc2ccc([N+](=O)[O-])cc2)sc2c1cc1CCCC...</td>\n",
       "      <td>4.82</td>\n",
       "      <td>2010.0</td>\n",
       "    </tr>\n",
       "    <tr>\n",
       "      <th>2</th>\n",
       "      <td>O=C(Nc1nc2ncccc2n2c(=O)n(-c3ccccc3)nc12)c1ccccc1</td>\n",
       "      <td>5.65</td>\n",
       "      <td>2009.0</td>\n",
       "    </tr>\n",
       "    <tr>\n",
       "      <th>3</th>\n",
       "      <td>CNC(=O)C12CC1C(n1cnc3c1nc(C#CCCCCC(=O)OC)nc3NC...</td>\n",
       "      <td>5.45</td>\n",
       "      <td>2009.0</td>\n",
       "    </tr>\n",
       "    <tr>\n",
       "      <th>4</th>\n",
       "      <td>CCCn1c(=O)c2c(nc3cc(OC)ccn32)n(CCCNC(=O)c2ccc(...</td>\n",
       "      <td>5.20</td>\n",
       "      <td>2019.0</td>\n",
       "    </tr>\n",
       "  </tbody>\n",
       "</table>\n",
       "</div>"
      ]
     },
     "execution_count": 1,
     "metadata": {},
     "output_type": "execute_result"
    }
   ],
   "execution_count": 1
  },
  {
   "cell_type": "markdown",
   "id": "eb783d9f4ea943fb",
   "metadata": {},
   "source": [
    "Wrapping this data frame in a `PandasDataTable` object is simple:"
   ]
  },
  {
   "cell_type": "code",
   "id": "6559b1618887dfbf",
   "metadata": {
    "ExecuteTime": {
     "end_time": "2024-09-03T21:47:56.455536Z",
     "start_time": "2024-09-03T21:47:55.944542Z"
    }
   },
   "source": [
    "from qsprpred.data.tables.pandas import PandasDataTable\n",
    "import os\n",
    "\n",
    "random_state = 42  # for reproducibility of all random operations\n",
    "os.makedirs(\"../../tutorial_output/data\",\n",
    "            exist_ok=True)  # create the output directory if it does not exist yet\n",
    "dataset = PandasDataTable(df=df, store_dir=\"../../tutorial_output/data\",\n",
    "                          name=\"RepresentationTutorialDataset\",\n",
    "                          random_state=random_state)\n",
    "dataset.getDF()"
   ],
   "outputs": [
    {
     "data": {
      "text/plain": [
       "                                                                               SMILES  \\\n",
       "ID                                                                                      \n",
       "RepresentationTutorialDataset_0000  Cc1nn(-c2cc(NC(=O)CCN(C)C)nc(-c3ccc(C)o3)n2)c(...   \n",
       "RepresentationTutorialDataset_0001  Nc1c(C(=O)Nc2ccc([N+](=O)[O-])cc2)sc2c1cc1CCCC...   \n",
       "RepresentationTutorialDataset_0002   O=C(Nc1nc2ncccc2n2c(=O)n(-c3ccccc3)nc12)c1ccccc1   \n",
       "RepresentationTutorialDataset_0003  CNC(=O)C12CC1C(n1cnc3c1nc(C#CCCCCC(=O)OC)nc3NC...   \n",
       "RepresentationTutorialDataset_0004  CCCn1c(=O)c2c(nc3cc(OC)ccn32)n(CCCNC(=O)c2ccc(...   \n",
       "...                                                                               ...   \n",
       "RepresentationTutorialDataset_4077     CNc1ncc(C(=O)NCc2ccc(OC)cc2)c2nc(-c3ccco3)nn12   \n",
       "RepresentationTutorialDataset_4078         Nc1nc(-c2ccco2)c2ncn(C(=O)NCCc3ccccc3)c2n1   \n",
       "RepresentationTutorialDataset_4079              Nc1nc(Nc2ccc(F)cc2)nc(CSc2nnc(N)s2)n1   \n",
       "RepresentationTutorialDataset_4080      CCCOc1ccc(C=Cc2cc3c(c(=O)n(C)c(=O)n3C)n2C)cc1   \n",
       "RepresentationTutorialDataset_4081           CCOC(=O)c1cnc(NCC(C)C)n2nc(-c3ccco3)nc12   \n",
       "\n",
       "                                    pchembl_value_Mean    Year  \\\n",
       "ID                                                               \n",
       "RepresentationTutorialDataset_0000                8.68  2008.0   \n",
       "RepresentationTutorialDataset_0001                4.82  2010.0   \n",
       "RepresentationTutorialDataset_0002                5.65  2009.0   \n",
       "RepresentationTutorialDataset_0003                5.45  2009.0   \n",
       "RepresentationTutorialDataset_0004                5.20  2019.0   \n",
       "...                                                ...     ...   \n",
       "RepresentationTutorialDataset_4077                7.09  2018.0   \n",
       "RepresentationTutorialDataset_4078                8.22  2008.0   \n",
       "RepresentationTutorialDataset_4079                4.89  2010.0   \n",
       "RepresentationTutorialDataset_4080                6.51  2013.0   \n",
       "RepresentationTutorialDataset_4081                7.35  2014.0   \n",
       "\n",
       "                                                                    ID  \n",
       "ID                                                                      \n",
       "RepresentationTutorialDataset_0000  RepresentationTutorialDataset_0000  \n",
       "RepresentationTutorialDataset_0001  RepresentationTutorialDataset_0001  \n",
       "RepresentationTutorialDataset_0002  RepresentationTutorialDataset_0002  \n",
       "RepresentationTutorialDataset_0003  RepresentationTutorialDataset_0003  \n",
       "RepresentationTutorialDataset_0004  RepresentationTutorialDataset_0004  \n",
       "...                                                                ...  \n",
       "RepresentationTutorialDataset_4077  RepresentationTutorialDataset_4077  \n",
       "RepresentationTutorialDataset_4078  RepresentationTutorialDataset_4078  \n",
       "RepresentationTutorialDataset_4079  RepresentationTutorialDataset_4079  \n",
       "RepresentationTutorialDataset_4080  RepresentationTutorialDataset_4080  \n",
       "RepresentationTutorialDataset_4081  RepresentationTutorialDataset_4081  \n",
       "\n",
       "[4082 rows x 4 columns]"
      ],
      "text/html": [
       "<div>\n",
       "<style scoped>\n",
       "    .dataframe tbody tr th:only-of-type {\n",
       "        vertical-align: middle;\n",
       "    }\n",
       "\n",
       "    .dataframe tbody tr th {\n",
       "        vertical-align: top;\n",
       "    }\n",
       "\n",
       "    .dataframe thead th {\n",
       "        text-align: right;\n",
       "    }\n",
       "</style>\n",
       "<table border=\"1\" class=\"dataframe\">\n",
       "  <thead>\n",
       "    <tr style=\"text-align: right;\">\n",
       "      <th></th>\n",
       "      <th>SMILES</th>\n",
       "      <th>pchembl_value_Mean</th>\n",
       "      <th>Year</th>\n",
       "      <th>ID</th>\n",
       "    </tr>\n",
       "    <tr>\n",
       "      <th>ID</th>\n",
       "      <th></th>\n",
       "      <th></th>\n",
       "      <th></th>\n",
       "      <th></th>\n",
       "    </tr>\n",
       "  </thead>\n",
       "  <tbody>\n",
       "    <tr>\n",
       "      <th>RepresentationTutorialDataset_0000</th>\n",
       "      <td>Cc1nn(-c2cc(NC(=O)CCN(C)C)nc(-c3ccc(C)o3)n2)c(...</td>\n",
       "      <td>8.68</td>\n",
       "      <td>2008.0</td>\n",
       "      <td>RepresentationTutorialDataset_0000</td>\n",
       "    </tr>\n",
       "    <tr>\n",
       "      <th>RepresentationTutorialDataset_0001</th>\n",
       "      <td>Nc1c(C(=O)Nc2ccc([N+](=O)[O-])cc2)sc2c1cc1CCCC...</td>\n",
       "      <td>4.82</td>\n",
       "      <td>2010.0</td>\n",
       "      <td>RepresentationTutorialDataset_0001</td>\n",
       "    </tr>\n",
       "    <tr>\n",
       "      <th>RepresentationTutorialDataset_0002</th>\n",
       "      <td>O=C(Nc1nc2ncccc2n2c(=O)n(-c3ccccc3)nc12)c1ccccc1</td>\n",
       "      <td>5.65</td>\n",
       "      <td>2009.0</td>\n",
       "      <td>RepresentationTutorialDataset_0002</td>\n",
       "    </tr>\n",
       "    <tr>\n",
       "      <th>RepresentationTutorialDataset_0003</th>\n",
       "      <td>CNC(=O)C12CC1C(n1cnc3c1nc(C#CCCCCC(=O)OC)nc3NC...</td>\n",
       "      <td>5.45</td>\n",
       "      <td>2009.0</td>\n",
       "      <td>RepresentationTutorialDataset_0003</td>\n",
       "    </tr>\n",
       "    <tr>\n",
       "      <th>RepresentationTutorialDataset_0004</th>\n",
       "      <td>CCCn1c(=O)c2c(nc3cc(OC)ccn32)n(CCCNC(=O)c2ccc(...</td>\n",
       "      <td>5.20</td>\n",
       "      <td>2019.0</td>\n",
       "      <td>RepresentationTutorialDataset_0004</td>\n",
       "    </tr>\n",
       "    <tr>\n",
       "      <th>...</th>\n",
       "      <td>...</td>\n",
       "      <td>...</td>\n",
       "      <td>...</td>\n",
       "      <td>...</td>\n",
       "    </tr>\n",
       "    <tr>\n",
       "      <th>RepresentationTutorialDataset_4077</th>\n",
       "      <td>CNc1ncc(C(=O)NCc2ccc(OC)cc2)c2nc(-c3ccco3)nn12</td>\n",
       "      <td>7.09</td>\n",
       "      <td>2018.0</td>\n",
       "      <td>RepresentationTutorialDataset_4077</td>\n",
       "    </tr>\n",
       "    <tr>\n",
       "      <th>RepresentationTutorialDataset_4078</th>\n",
       "      <td>Nc1nc(-c2ccco2)c2ncn(C(=O)NCCc3ccccc3)c2n1</td>\n",
       "      <td>8.22</td>\n",
       "      <td>2008.0</td>\n",
       "      <td>RepresentationTutorialDataset_4078</td>\n",
       "    </tr>\n",
       "    <tr>\n",
       "      <th>RepresentationTutorialDataset_4079</th>\n",
       "      <td>Nc1nc(Nc2ccc(F)cc2)nc(CSc2nnc(N)s2)n1</td>\n",
       "      <td>4.89</td>\n",
       "      <td>2010.0</td>\n",
       "      <td>RepresentationTutorialDataset_4079</td>\n",
       "    </tr>\n",
       "    <tr>\n",
       "      <th>RepresentationTutorialDataset_4080</th>\n",
       "      <td>CCCOc1ccc(C=Cc2cc3c(c(=O)n(C)c(=O)n3C)n2C)cc1</td>\n",
       "      <td>6.51</td>\n",
       "      <td>2013.0</td>\n",
       "      <td>RepresentationTutorialDataset_4080</td>\n",
       "    </tr>\n",
       "    <tr>\n",
       "      <th>RepresentationTutorialDataset_4081</th>\n",
       "      <td>CCOC(=O)c1cnc(NCC(C)C)n2nc(-c3ccco3)nc12</td>\n",
       "      <td>7.35</td>\n",
       "      <td>2014.0</td>\n",
       "      <td>RepresentationTutorialDataset_4081</td>\n",
       "    </tr>\n",
       "  </tbody>\n",
       "</table>\n",
       "<p>4082 rows × 4 columns</p>\n",
       "</div>"
      ]
     },
     "execution_count": 2,
     "metadata": {},
     "output_type": "execute_result"
    }
   ],
   "execution_count": 2
  },
  {
   "cell_type": "markdown",
   "id": "6e8c0724-0803-4833-8031-6f2482d5fc71",
   "metadata": {},
   "source": [
    "Since\n",
    "`pandas.DataFrame` is such\n",
    "a\n",
    "popular\n",
    "format, `PropertyStorage`\n",
    "enforces\n",
    "that\n",
    "`getDF`\n",
    "exists in all\n",
    "implementations and should\n",
    "list\n",
    "all\n",
    "data\n",
    "entries and all\n",
    "properties in the\n",
    "`PropertyStorage`\n",
    "object.This is to\n",
    "facilitate\n",
    "easy\n",
    "data\n",
    "exchange\n",
    "between\n",
    "QSPRpred and any\n",
    "custom\n",
    "code\n",
    "that\n",
    "relies\n",
    "on\n",
    "`pandas`.However, we\n",
    "can\n",
    "also\n",
    "do\n",
    "a\n",
    "lot\n",
    "with `PandasDataTable` objects directly:"
   ]
  },
  {
   "cell_type": "code",
   "id": "6e1647b440e77026",
   "metadata": {
    "ExecuteTime": {
     "end_time": "2024-09-03T21:47:56.459819Z",
     "start_time": "2024-09-03T21:47:56.456563Z"
    }
   },
   "source": [
    "len(dataset)"
   ],
   "outputs": [
    {
     "data": {
      "text/plain": [
       "4082"
      ]
     },
     "execution_count": 3,
     "metadata": {},
     "output_type": "execute_result"
    }
   ],
   "execution_count": 3
  },
  {
   "cell_type": "markdown",
   "id": "5dbaf44f-b6a6-494b-8f87-2ded27686539",
   "metadata": {},
   "source": [
    "the\n",
    "saved\n",
    "properties / features:"
   ]
  },
  {
   "cell_type": "code",
   "id": "9e3256e4a0ba713b",
   "metadata": {
    "ExecuteTime": {
     "end_time": "2024-09-03T21:47:56.476068Z",
     "start_time": "2024-09-03T21:47:56.460604Z"
    }
   },
   "source": [
    "dataset.getProperties()"
   ],
   "outputs": [
    {
     "data": {
      "text/plain": [
       "['SMILES', 'pchembl_value_Mean', 'Year', 'ID']"
      ]
     },
     "execution_count": 4,
     "metadata": {},
     "output_type": "execute_result"
    }
   ],
   "execution_count": 4
  },
  {
   "cell_type": "markdown",
   "id": "1720ac68-e052-4dc1-b28f-79a859f82dba",
   "metadata": {},
   "source": [
    "You\n",
    "will\n",
    "also\n",
    "notice\n",
    "that\n",
    "`PandasDataTable`\n",
    "objects\n",
    "also\n",
    "automatically\n",
    "create\n",
    "a\n",
    "unique\n",
    "identifier\n",
    "for each data entry.This is the `idProp` property, which is a unique identifier for each data entry.This is useful for tracking data entries and is used internally by QSPRpred to keep track of data entries and selecting relevant subsets.You can access it as follows:"
   ]
  },
  {
   "cell_type": "code",
   "id": "12499b08eca90ab9",
   "metadata": {
    "ExecuteTime": {
     "end_time": "2024-09-03T21:47:56.482927Z",
     "start_time": "2024-09-03T21:47:56.477399Z"
    }
   },
   "source": [
    "dataset.idProp"
   ],
   "outputs": [
    {
     "data": {
      "text/plain": [
       "'ID'"
      ]
     },
     "execution_count": 5,
     "metadata": {},
     "output_type": "execute_result"
    }
   ],
   "execution_count": 5
  },
  {
   "cell_type": "code",
   "id": "c585fbd3e0f09496",
   "metadata": {
    "ExecuteTime": {
     "end_time": "2024-09-03T21:47:56.486604Z",
     "start_time": "2024-09-03T21:47:56.483567Z"
    }
   },
   "source": [
    "dataset.getProperty(dataset.idProp)"
   ],
   "outputs": [
    {
     "data": {
      "text/plain": [
       "ID\n",
       "RepresentationTutorialDataset_0000    RepresentationTutorialDataset_0000\n",
       "RepresentationTutorialDataset_0001    RepresentationTutorialDataset_0001\n",
       "RepresentationTutorialDataset_0002    RepresentationTutorialDataset_0002\n",
       "RepresentationTutorialDataset_0003    RepresentationTutorialDataset_0003\n",
       "RepresentationTutorialDataset_0004    RepresentationTutorialDataset_0004\n",
       "                                                     ...                \n",
       "RepresentationTutorialDataset_4077    RepresentationTutorialDataset_4077\n",
       "RepresentationTutorialDataset_4078    RepresentationTutorialDataset_4078\n",
       "RepresentationTutorialDataset_4079    RepresentationTutorialDataset_4079\n",
       "RepresentationTutorialDataset_4080    RepresentationTutorialDataset_4080\n",
       "RepresentationTutorialDataset_4081    RepresentationTutorialDataset_4081\n",
       "Name: ID, Length: 4082, dtype: object"
      ]
     },
     "execution_count": 6,
     "metadata": {},
     "output_type": "execute_result"
    }
   ],
   "execution_count": 6
  },
  {
   "cell_type": "markdown",
   "id": "cd8438a2-1e46-4c1e-aa5c-926c257c103a",
   "metadata": {},
   "source": [
    "Knowing\n",
    "the\n",
    "identifier, you\n",
    "can\n",
    "select\n",
    "a\n",
    "subset\n",
    "of\n",
    "the\n",
    "data\n",
    "set:"
   ]
  },
  {
   "cell_type": "code",
   "id": "da69f64b78ca663",
   "metadata": {
    "ExecuteTime": {
     "end_time": "2024-09-03T21:47:56.492966Z",
     "start_time": "2024-09-03T21:47:56.487125Z"
    }
   },
   "source": [
    "subset = dataset.getSubset([\"SMILES\", \"Year\"],\n",
    "                           ids=[\"RepresentationTutorialDataset_0000\",\n",
    "                                \"RepresentationTutorialDataset_0001\"])\n",
    "subset.getDF()"
   ],
   "outputs": [
    {
     "data": {
      "text/plain": [
       "                                                                               SMILES  \\\n",
       "ID                                                                                      \n",
       "RepresentationTutorialDataset_0000  Cc1nn(-c2cc(NC(=O)CCN(C)C)nc(-c3ccc(C)o3)n2)c(...   \n",
       "RepresentationTutorialDataset_0001  Nc1c(C(=O)Nc2ccc([N+](=O)[O-])cc2)sc2c1cc1CCCC...   \n",
       "\n",
       "                                      Year                                  ID  \n",
       "ID                                                                              \n",
       "RepresentationTutorialDataset_0000  2008.0  RepresentationTutorialDataset_0000  \n",
       "RepresentationTutorialDataset_0001  2010.0  RepresentationTutorialDataset_0001  "
      ],
      "text/html": [
       "<div>\n",
       "<style scoped>\n",
       "    .dataframe tbody tr th:only-of-type {\n",
       "        vertical-align: middle;\n",
       "    }\n",
       "\n",
       "    .dataframe tbody tr th {\n",
       "        vertical-align: top;\n",
       "    }\n",
       "\n",
       "    .dataframe thead th {\n",
       "        text-align: right;\n",
       "    }\n",
       "</style>\n",
       "<table border=\"1\" class=\"dataframe\">\n",
       "  <thead>\n",
       "    <tr style=\"text-align: right;\">\n",
       "      <th></th>\n",
       "      <th>SMILES</th>\n",
       "      <th>Year</th>\n",
       "      <th>ID</th>\n",
       "    </tr>\n",
       "    <tr>\n",
       "      <th>ID</th>\n",
       "      <th></th>\n",
       "      <th></th>\n",
       "      <th></th>\n",
       "    </tr>\n",
       "  </thead>\n",
       "  <tbody>\n",
       "    <tr>\n",
       "      <th>RepresentationTutorialDataset_0000</th>\n",
       "      <td>Cc1nn(-c2cc(NC(=O)CCN(C)C)nc(-c3ccc(C)o3)n2)c(...</td>\n",
       "      <td>2008.0</td>\n",
       "      <td>RepresentationTutorialDataset_0000</td>\n",
       "    </tr>\n",
       "    <tr>\n",
       "      <th>RepresentationTutorialDataset_0001</th>\n",
       "      <td>Nc1c(C(=O)Nc2ccc([N+](=O)[O-])cc2)sc2c1cc1CCCC...</td>\n",
       "      <td>2010.0</td>\n",
       "      <td>RepresentationTutorialDataset_0001</td>\n",
       "    </tr>\n",
       "  </tbody>\n",
       "</table>\n",
       "</div>"
      ]
     },
     "execution_count": 7,
     "metadata": {},
     "output_type": "execute_result"
    }
   ],
   "execution_count": 7
  },
  {
   "cell_type": "markdown",
   "id": "703015c5-addc-4aaa-af1b-935adcd84993",
   "metadata": {},
   "source": [
    "Notice\n",
    "that\n",
    "the\n",
    "subset is actually\n",
    "also\n",
    "a\n",
    "`PandasDataTable`\n",
    "object, so\n",
    "you\n",
    "can\n",
    "perform\n",
    "the\n",
    "same\n",
    "operations\n",
    "on\n",
    "it as on\n",
    "the\n",
    "original\n",
    "data\n",
    "set.\n",
    "\n",
    "You\n",
    "can\n",
    "also\n",
    "just\n",
    "get\n",
    "values\n",
    "of\n",
    "a\n",
    "single\n",
    "property\n",
    "for certain molecules:"
   ]
  },
  {
   "cell_type": "code",
   "id": "fd9624328989e66b",
   "metadata": {
    "ExecuteTime": {
     "end_time": "2024-09-03T21:47:56.496674Z",
     "start_time": "2024-09-03T21:47:56.493480Z"
    }
   },
   "source": [
    "dataset.getProperty(\"pchembl_value_Mean\", ids=[\"RepresentationTutorialDataset_0000\",\n",
    "                                               \"RepresentationTutorialDataset_0001\"])"
   ],
   "outputs": [
    {
     "data": {
      "text/plain": [
       "ID\n",
       "RepresentationTutorialDataset_0000    8.68\n",
       "RepresentationTutorialDataset_0001    4.82\n",
       "Name: pchembl_value_Mean, dtype: float64"
      ]
     },
     "execution_count": 8,
     "metadata": {},
     "output_type": "execute_result"
    }
   ],
   "execution_count": 8
  },
  {
   "cell_type": "markdown",
   "id": "2429fb38-b739-4f13-af91-3cf555d1a522",
   "metadata": {},
   "source": [
    "This is extended\n",
    "further and in this\n",
    "particular\n",
    "case\n",
    "we\n",
    "can\n",
    "also\n",
    "perform\n",
    "simple\n",
    "searches\n",
    "on\n",
    "properties:"
   ]
  },
  {
   "cell_type": "code",
   "id": "b41baa767bab88aa",
   "metadata": {
    "ExecuteTime": {
     "end_time": "2024-09-03T21:47:56.506410Z",
     "start_time": "2024-09-03T21:47:56.497326Z"
    }
   },
   "source": [
    "subset = dataset.searchOnProperty(\"Year\", [2009, 2010], exact=True)\n",
    "subset.getDF()"
   ],
   "outputs": [
    {
     "data": {
      "text/plain": [
       "                                                                               SMILES  \\\n",
       "ID                                                                                      \n",
       "RepresentationTutorialDataset_0001  Nc1c(C(=O)Nc2ccc([N+](=O)[O-])cc2)sc2c1cc1CCCC...   \n",
       "RepresentationTutorialDataset_0002   O=C(Nc1nc2ncccc2n2c(=O)n(-c3ccccc3)nc12)c1ccccc1   \n",
       "RepresentationTutorialDataset_0003  CNC(=O)C12CC1C(n1cnc3c1nc(C#CCCCCC(=O)OC)nc3NC...   \n",
       "RepresentationTutorialDataset_0009      CCCn1c(=O)c2c([nH]c(-c3ccccc3)n2)n(CCCOC)c1=O   \n",
       "RepresentationTutorialDataset_0018  O=C(Nc1nc(-c2ccccc2)nc2nn(Cc3ccccc3)cc12)c1ccccc1   \n",
       "...                                                                               ...   \n",
       "RepresentationTutorialDataset_4049             Nc1nc(-c2ccco2)cc(C(=O)NCc2ccccc2Cl)n1   \n",
       "RepresentationTutorialDataset_4050            COc1ccccc1-c1cc(C(=O)NCc2ccccn2)nc(N)n1   \n",
       "RepresentationTutorialDataset_4060  N#Cc1cccc(C(=O)Nc2nc3c(ncc(C(=O)N4CCCCC4)c3)n2...   \n",
       "RepresentationTutorialDataset_4061          COc1ccc(CCSc2cc3nc(-c4ccco4)nn3c(N)n2)cc1   \n",
       "RepresentationTutorialDataset_4079              Nc1nc(Nc2ccc(F)cc2)nc(CSc2nnc(N)s2)n1   \n",
       "\n",
       "                                    pchembl_value_Mean    Year  \\\n",
       "ID                                                               \n",
       "RepresentationTutorialDataset_0001                4.82  2010.0   \n",
       "RepresentationTutorialDataset_0002                5.65  2009.0   \n",
       "RepresentationTutorialDataset_0003                5.45  2009.0   \n",
       "RepresentationTutorialDataset_0009                6.47  2009.0   \n",
       "RepresentationTutorialDataset_0018                6.74  2010.0   \n",
       "...                                                ...     ...   \n",
       "RepresentationTutorialDataset_4049                8.59  2009.0   \n",
       "RepresentationTutorialDataset_4050                7.24  2009.0   \n",
       "RepresentationTutorialDataset_4060                6.75  2010.0   \n",
       "RepresentationTutorialDataset_4061                8.80  2009.0   \n",
       "RepresentationTutorialDataset_4079                4.89  2010.0   \n",
       "\n",
       "                                                                    ID  \n",
       "ID                                                                      \n",
       "RepresentationTutorialDataset_0001  RepresentationTutorialDataset_0001  \n",
       "RepresentationTutorialDataset_0002  RepresentationTutorialDataset_0002  \n",
       "RepresentationTutorialDataset_0003  RepresentationTutorialDataset_0003  \n",
       "RepresentationTutorialDataset_0009  RepresentationTutorialDataset_0009  \n",
       "RepresentationTutorialDataset_0018  RepresentationTutorialDataset_0018  \n",
       "...                                                                ...  \n",
       "RepresentationTutorialDataset_4049  RepresentationTutorialDataset_4049  \n",
       "RepresentationTutorialDataset_4050  RepresentationTutorialDataset_4050  \n",
       "RepresentationTutorialDataset_4060  RepresentationTutorialDataset_4060  \n",
       "RepresentationTutorialDataset_4061  RepresentationTutorialDataset_4061  \n",
       "RepresentationTutorialDataset_4079  RepresentationTutorialDataset_4079  \n",
       "\n",
       "[804 rows x 4 columns]"
      ],
      "text/html": [
       "<div>\n",
       "<style scoped>\n",
       "    .dataframe tbody tr th:only-of-type {\n",
       "        vertical-align: middle;\n",
       "    }\n",
       "\n",
       "    .dataframe tbody tr th {\n",
       "        vertical-align: top;\n",
       "    }\n",
       "\n",
       "    .dataframe thead th {\n",
       "        text-align: right;\n",
       "    }\n",
       "</style>\n",
       "<table border=\"1\" class=\"dataframe\">\n",
       "  <thead>\n",
       "    <tr style=\"text-align: right;\">\n",
       "      <th></th>\n",
       "      <th>SMILES</th>\n",
       "      <th>pchembl_value_Mean</th>\n",
       "      <th>Year</th>\n",
       "      <th>ID</th>\n",
       "    </tr>\n",
       "    <tr>\n",
       "      <th>ID</th>\n",
       "      <th></th>\n",
       "      <th></th>\n",
       "      <th></th>\n",
       "      <th></th>\n",
       "    </tr>\n",
       "  </thead>\n",
       "  <tbody>\n",
       "    <tr>\n",
       "      <th>RepresentationTutorialDataset_0001</th>\n",
       "      <td>Nc1c(C(=O)Nc2ccc([N+](=O)[O-])cc2)sc2c1cc1CCCC...</td>\n",
       "      <td>4.82</td>\n",
       "      <td>2010.0</td>\n",
       "      <td>RepresentationTutorialDataset_0001</td>\n",
       "    </tr>\n",
       "    <tr>\n",
       "      <th>RepresentationTutorialDataset_0002</th>\n",
       "      <td>O=C(Nc1nc2ncccc2n2c(=O)n(-c3ccccc3)nc12)c1ccccc1</td>\n",
       "      <td>5.65</td>\n",
       "      <td>2009.0</td>\n",
       "      <td>RepresentationTutorialDataset_0002</td>\n",
       "    </tr>\n",
       "    <tr>\n",
       "      <th>RepresentationTutorialDataset_0003</th>\n",
       "      <td>CNC(=O)C12CC1C(n1cnc3c1nc(C#CCCCCC(=O)OC)nc3NC...</td>\n",
       "      <td>5.45</td>\n",
       "      <td>2009.0</td>\n",
       "      <td>RepresentationTutorialDataset_0003</td>\n",
       "    </tr>\n",
       "    <tr>\n",
       "      <th>RepresentationTutorialDataset_0009</th>\n",
       "      <td>CCCn1c(=O)c2c([nH]c(-c3ccccc3)n2)n(CCCOC)c1=O</td>\n",
       "      <td>6.47</td>\n",
       "      <td>2009.0</td>\n",
       "      <td>RepresentationTutorialDataset_0009</td>\n",
       "    </tr>\n",
       "    <tr>\n",
       "      <th>RepresentationTutorialDataset_0018</th>\n",
       "      <td>O=C(Nc1nc(-c2ccccc2)nc2nn(Cc3ccccc3)cc12)c1ccccc1</td>\n",
       "      <td>6.74</td>\n",
       "      <td>2010.0</td>\n",
       "      <td>RepresentationTutorialDataset_0018</td>\n",
       "    </tr>\n",
       "    <tr>\n",
       "      <th>...</th>\n",
       "      <td>...</td>\n",
       "      <td>...</td>\n",
       "      <td>...</td>\n",
       "      <td>...</td>\n",
       "    </tr>\n",
       "    <tr>\n",
       "      <th>RepresentationTutorialDataset_4049</th>\n",
       "      <td>Nc1nc(-c2ccco2)cc(C(=O)NCc2ccccc2Cl)n1</td>\n",
       "      <td>8.59</td>\n",
       "      <td>2009.0</td>\n",
       "      <td>RepresentationTutorialDataset_4049</td>\n",
       "    </tr>\n",
       "    <tr>\n",
       "      <th>RepresentationTutorialDataset_4050</th>\n",
       "      <td>COc1ccccc1-c1cc(C(=O)NCc2ccccn2)nc(N)n1</td>\n",
       "      <td>7.24</td>\n",
       "      <td>2009.0</td>\n",
       "      <td>RepresentationTutorialDataset_4050</td>\n",
       "    </tr>\n",
       "    <tr>\n",
       "      <th>RepresentationTutorialDataset_4060</th>\n",
       "      <td>N#Cc1cccc(C(=O)Nc2nc3c(ncc(C(=O)N4CCCCC4)c3)n2...</td>\n",
       "      <td>6.75</td>\n",
       "      <td>2010.0</td>\n",
       "      <td>RepresentationTutorialDataset_4060</td>\n",
       "    </tr>\n",
       "    <tr>\n",
       "      <th>RepresentationTutorialDataset_4061</th>\n",
       "      <td>COc1ccc(CCSc2cc3nc(-c4ccco4)nn3c(N)n2)cc1</td>\n",
       "      <td>8.80</td>\n",
       "      <td>2009.0</td>\n",
       "      <td>RepresentationTutorialDataset_4061</td>\n",
       "    </tr>\n",
       "    <tr>\n",
       "      <th>RepresentationTutorialDataset_4079</th>\n",
       "      <td>Nc1nc(Nc2ccc(F)cc2)nc(CSc2nnc(N)s2)n1</td>\n",
       "      <td>4.89</td>\n",
       "      <td>2010.0</td>\n",
       "      <td>RepresentationTutorialDataset_4079</td>\n",
       "    </tr>\n",
       "  </tbody>\n",
       "</table>\n",
       "<p>804 rows × 4 columns</p>\n",
       "</div>"
      ]
     },
     "execution_count": 9,
     "metadata": {},
     "output_type": "execute_result"
    }
   ],
   "execution_count": 9
  },
  {
   "cell_type": "markdown",
   "id": "f1b79255-5ed7-4446-9fd6-fbf5b99dd774",
   "metadata": {},
   "source": [
    "You\n",
    "can\n",
    "also\n",
    "do\n",
    "some\n",
    "operations\n",
    "on\n",
    "the\n",
    "data\n",
    "frame, like\n",
    "shuffle\n",
    "it(always\n",
    "the\n",
    "same\n",
    "result\n",
    "thanks\n",
    "to\n",
    "the\n",
    "fixed\n",
    "random\n",
    "state):"
   ]
  },
  {
   "cell_type": "code",
   "id": "5120747cdaa1ac5e",
   "metadata": {
    "ExecuteTime": {
     "end_time": "2024-09-03T21:47:56.512767Z",
     "start_time": "2024-09-03T21:47:56.506923Z"
    }
   },
   "source": [
    "dataset.shuffle()\n",
    "dataset.getDF()"
   ],
   "outputs": [
    {
     "data": {
      "text/plain": [
       "                                                                               SMILES  \\\n",
       "ID                                                                                      \n",
       "RepresentationTutorialDataset_0599                CCCn1c(-c2ccccc2)nc2c1ncnc2NC1CCOC1   \n",
       "RepresentationTutorialDataset_0752      CCCn1c(=O)c2c([nH]c(-c3c[nH]nc3)n2)n(CCC)c1=O   \n",
       "RepresentationTutorialDataset_1954  COc1cccc2c1nc(N)n1nc(CN3CCN(c4ncc(F)cc4)CC3C)nc21   \n",
       "RepresentationTutorialDataset_2928          COc1cccc(CCCC(=O)Nc2nc3c(cccc3)c(=O)s2)c1   \n",
       "RepresentationTutorialDataset_2512   COc1c2nc(NC(=O)c3ccc(F)cc3)sc2c(N(CCO)C(C)=O)cc1   \n",
       "...                                                                               ...   \n",
       "RepresentationTutorialDataset_1130  CCNC(=O)C1OC(n2cnc3c2nc(C#CC2(O)CCCC2)nc3NCC)C...   \n",
       "RepresentationTutorialDataset_1294  CNC(=O)C1SC(n2cnc3c2nc(Cl)nc3NCc2cc(I)ccc2)C(O...   \n",
       "RepresentationTutorialDataset_0860  CCNC(=O)C1OC(n2cnc3c(N)nc(N4CCN(c5ccc(OCC(=O)O...   \n",
       "RepresentationTutorialDataset_3507        CNC(=O)C1[Se]C(n2cnc3c2ncnc3NC2CCC2)C(O)C1O   \n",
       "RepresentationTutorialDataset_3174    Nc1nc2c(cnn2CCCc2ccc3OCOc3c2)c2nc(-c3ccco3)nn12   \n",
       "\n",
       "                                    pchembl_value_Mean    Year  \\\n",
       "ID                                                               \n",
       "RepresentationTutorialDataset_0599                5.77  2018.0   \n",
       "RepresentationTutorialDataset_0752                6.64  2006.0   \n",
       "RepresentationTutorialDataset_1954                7.88  2015.0   \n",
       "RepresentationTutorialDataset_2928                6.94  2013.0   \n",
       "RepresentationTutorialDataset_2512                7.01  2010.0   \n",
       "...                                                ...     ...   \n",
       "RepresentationTutorialDataset_1130                6.03  2006.0   \n",
       "RepresentationTutorialDataset_1294                6.65  2003.0   \n",
       "RepresentationTutorialDataset_0860                7.28  2015.0   \n",
       "RepresentationTutorialDataset_3507                5.97  2017.0   \n",
       "RepresentationTutorialDataset_3174                8.48  1998.0   \n",
       "\n",
       "                                                                    ID  \n",
       "ID                                                                      \n",
       "RepresentationTutorialDataset_0599  RepresentationTutorialDataset_0599  \n",
       "RepresentationTutorialDataset_0752  RepresentationTutorialDataset_0752  \n",
       "RepresentationTutorialDataset_1954  RepresentationTutorialDataset_1954  \n",
       "RepresentationTutorialDataset_2928  RepresentationTutorialDataset_2928  \n",
       "RepresentationTutorialDataset_2512  RepresentationTutorialDataset_2512  \n",
       "...                                                                ...  \n",
       "RepresentationTutorialDataset_1130  RepresentationTutorialDataset_1130  \n",
       "RepresentationTutorialDataset_1294  RepresentationTutorialDataset_1294  \n",
       "RepresentationTutorialDataset_0860  RepresentationTutorialDataset_0860  \n",
       "RepresentationTutorialDataset_3507  RepresentationTutorialDataset_3507  \n",
       "RepresentationTutorialDataset_3174  RepresentationTutorialDataset_3174  \n",
       "\n",
       "[4082 rows x 4 columns]"
      ],
      "text/html": [
       "<div>\n",
       "<style scoped>\n",
       "    .dataframe tbody tr th:only-of-type {\n",
       "        vertical-align: middle;\n",
       "    }\n",
       "\n",
       "    .dataframe tbody tr th {\n",
       "        vertical-align: top;\n",
       "    }\n",
       "\n",
       "    .dataframe thead th {\n",
       "        text-align: right;\n",
       "    }\n",
       "</style>\n",
       "<table border=\"1\" class=\"dataframe\">\n",
       "  <thead>\n",
       "    <tr style=\"text-align: right;\">\n",
       "      <th></th>\n",
       "      <th>SMILES</th>\n",
       "      <th>pchembl_value_Mean</th>\n",
       "      <th>Year</th>\n",
       "      <th>ID</th>\n",
       "    </tr>\n",
       "    <tr>\n",
       "      <th>ID</th>\n",
       "      <th></th>\n",
       "      <th></th>\n",
       "      <th></th>\n",
       "      <th></th>\n",
       "    </tr>\n",
       "  </thead>\n",
       "  <tbody>\n",
       "    <tr>\n",
       "      <th>RepresentationTutorialDataset_0599</th>\n",
       "      <td>CCCn1c(-c2ccccc2)nc2c1ncnc2NC1CCOC1</td>\n",
       "      <td>5.77</td>\n",
       "      <td>2018.0</td>\n",
       "      <td>RepresentationTutorialDataset_0599</td>\n",
       "    </tr>\n",
       "    <tr>\n",
       "      <th>RepresentationTutorialDataset_0752</th>\n",
       "      <td>CCCn1c(=O)c2c([nH]c(-c3c[nH]nc3)n2)n(CCC)c1=O</td>\n",
       "      <td>6.64</td>\n",
       "      <td>2006.0</td>\n",
       "      <td>RepresentationTutorialDataset_0752</td>\n",
       "    </tr>\n",
       "    <tr>\n",
       "      <th>RepresentationTutorialDataset_1954</th>\n",
       "      <td>COc1cccc2c1nc(N)n1nc(CN3CCN(c4ncc(F)cc4)CC3C)nc21</td>\n",
       "      <td>7.88</td>\n",
       "      <td>2015.0</td>\n",
       "      <td>RepresentationTutorialDataset_1954</td>\n",
       "    </tr>\n",
       "    <tr>\n",
       "      <th>RepresentationTutorialDataset_2928</th>\n",
       "      <td>COc1cccc(CCCC(=O)Nc2nc3c(cccc3)c(=O)s2)c1</td>\n",
       "      <td>6.94</td>\n",
       "      <td>2013.0</td>\n",
       "      <td>RepresentationTutorialDataset_2928</td>\n",
       "    </tr>\n",
       "    <tr>\n",
       "      <th>RepresentationTutorialDataset_2512</th>\n",
       "      <td>COc1c2nc(NC(=O)c3ccc(F)cc3)sc2c(N(CCO)C(C)=O)cc1</td>\n",
       "      <td>7.01</td>\n",
       "      <td>2010.0</td>\n",
       "      <td>RepresentationTutorialDataset_2512</td>\n",
       "    </tr>\n",
       "    <tr>\n",
       "      <th>...</th>\n",
       "      <td>...</td>\n",
       "      <td>...</td>\n",
       "      <td>...</td>\n",
       "      <td>...</td>\n",
       "    </tr>\n",
       "    <tr>\n",
       "      <th>RepresentationTutorialDataset_1130</th>\n",
       "      <td>CCNC(=O)C1OC(n2cnc3c2nc(C#CC2(O)CCCC2)nc3NCC)C...</td>\n",
       "      <td>6.03</td>\n",
       "      <td>2006.0</td>\n",
       "      <td>RepresentationTutorialDataset_1130</td>\n",
       "    </tr>\n",
       "    <tr>\n",
       "      <th>RepresentationTutorialDataset_1294</th>\n",
       "      <td>CNC(=O)C1SC(n2cnc3c2nc(Cl)nc3NCc2cc(I)ccc2)C(O...</td>\n",
       "      <td>6.65</td>\n",
       "      <td>2003.0</td>\n",
       "      <td>RepresentationTutorialDataset_1294</td>\n",
       "    </tr>\n",
       "    <tr>\n",
       "      <th>RepresentationTutorialDataset_0860</th>\n",
       "      <td>CCNC(=O)C1OC(n2cnc3c(N)nc(N4CCN(c5ccc(OCC(=O)O...</td>\n",
       "      <td>7.28</td>\n",
       "      <td>2015.0</td>\n",
       "      <td>RepresentationTutorialDataset_0860</td>\n",
       "    </tr>\n",
       "    <tr>\n",
       "      <th>RepresentationTutorialDataset_3507</th>\n",
       "      <td>CNC(=O)C1[Se]C(n2cnc3c2ncnc3NC2CCC2)C(O)C1O</td>\n",
       "      <td>5.97</td>\n",
       "      <td>2017.0</td>\n",
       "      <td>RepresentationTutorialDataset_3507</td>\n",
       "    </tr>\n",
       "    <tr>\n",
       "      <th>RepresentationTutorialDataset_3174</th>\n",
       "      <td>Nc1nc2c(cnn2CCCc2ccc3OCOc3c2)c2nc(-c3ccco3)nn12</td>\n",
       "      <td>8.48</td>\n",
       "      <td>1998.0</td>\n",
       "      <td>RepresentationTutorialDataset_3174</td>\n",
       "    </tr>\n",
       "  </tbody>\n",
       "</table>\n",
       "<p>4082 rows × 4 columns</p>\n",
       "</div>"
      ]
     },
     "execution_count": 10,
     "metadata": {},
     "output_type": "execute_result"
    }
   ],
   "execution_count": 10
  },
  {
   "cell_type": "markdown",
   "id": "50b3b5c1-a117-4ae3-8d72-e7c0f30a24e9",
   "metadata": {},
   "source": [
    "We can also edit the properties:"
   ]
  },
  {
   "cell_type": "code",
   "id": "d3ebb527b8b447aa",
   "metadata": {
    "ExecuteTime": {
     "end_time": "2024-09-03T21:47:56.520234Z",
     "start_time": "2024-09-03T21:47:56.513324Z"
    }
   },
   "source": [
    "# get\n",
    "year = dataset.getProperty(\"Year\")\n",
    "display(year)\n",
    "# drop\n",
    "dataset.removeProperty(\"Year\")\n",
    "display(dataset.getProperties())\n",
    "# set\n",
    "dataset.addProperty(\"Year\", year)\n",
    "display(dataset.getProperties())\n",
    "# set only for some ids\n",
    "dataset.addProperty(\"Year\", [1990, 1990], ids=dataset.getProperty(dataset.idProp)[:2])\n",
    "display(dataset.getProperty(\"Year\", ids=dataset.getProperty(dataset.idProp)[:2]))"
   ],
   "outputs": [
    {
     "data": {
      "text/plain": [
       "ID\n",
       "RepresentationTutorialDataset_0599    2018.0\n",
       "RepresentationTutorialDataset_0752    2006.0\n",
       "RepresentationTutorialDataset_1954    2015.0\n",
       "RepresentationTutorialDataset_2928    2013.0\n",
       "RepresentationTutorialDataset_2512    2010.0\n",
       "                                       ...  \n",
       "RepresentationTutorialDataset_1130    2006.0\n",
       "RepresentationTutorialDataset_1294    2003.0\n",
       "RepresentationTutorialDataset_0860    2015.0\n",
       "RepresentationTutorialDataset_3507    2017.0\n",
       "RepresentationTutorialDataset_3174    1998.0\n",
       "Name: Year, Length: 4082, dtype: float64"
      ]
     },
     "metadata": {},
     "output_type": "display_data"
    },
    {
     "data": {
      "text/plain": [
       "['SMILES', 'pchembl_value_Mean', 'ID']"
      ]
     },
     "metadata": {},
     "output_type": "display_data"
    },
    {
     "data": {
      "text/plain": [
       "['SMILES', 'pchembl_value_Mean', 'ID', 'Year']"
      ]
     },
     "metadata": {},
     "output_type": "display_data"
    },
    {
     "data": {
      "text/plain": [
       "ID\n",
       "RepresentationTutorialDataset_0599    1990.0\n",
       "RepresentationTutorialDataset_0752    1990.0\n",
       "Name: Year, dtype: float64"
      ]
     },
     "metadata": {},
     "output_type": "display_data"
    }
   ],
   "execution_count": 11
  },
  {
   "cell_type": "markdown",
   "id": "83d155e8-084c-48a9-9109-aa1a9f93308e",
   "metadata": {},
   "source": [
    "You can easily achieve all of the above by editing the data frame directly, but `pandas` syntax can sometimes be cumbersome, so it is nice to have more intuitive methods available. However, you can always access the underlying data frame if more complex operations are needed and then wrap it back into a `PandasDataTable` object.\n",
    "\n",
    "### `TabularStorageBasic` as `ChemStore`\n",
    "\n",
    "`PandasDataTable` is not very exciting because it does not offer much on top of the `pandas.DataFrame` class. However, it is a good starting point to understand the `PropertyStorage` API. The `ChemStore` interface is a more advanced version of `PropertyStorage` that is specifically designed for storing and managing chemical data sets. `TabularStorageBasic` implements `ChemStore` using data frames managed by `PandasDataTable` under the hood as well, but thanks to `ChemStore` has a few more capabilities:"
   ]
  },
  {
   "cell_type": "code",
   "id": "f7e04a3b-5904-452b-aa92-eee38796a045",
   "metadata": {
    "ExecuteTime": {
     "end_time": "2024-09-03T21:49:05.791863Z",
     "start_time": "2024-09-03T21:47:56.520743Z"
    }
   },
   "source": [
    "from qsprpred.data.chem.identifiers import InchiIdentifier\n",
    "from qsprpred.data.chem.standardizers.papyrus import PapyrusStandardizer\n",
    "from qsprpred.data.storage.tabular.basic_storage import TabularStorageBasic\n",
    "\n",
    "df = pd.read_csv(\"../../tutorial_data/A2A_LIGANDS.tsv\", sep=\"\\t\")\n",
    "storage = TabularStorageBasic(\n",
    "    name=\"RepresentationTutorialChemStore\",\n",
    "    path=\"../../tutorial_output/data\",\n",
    "    df=df,\n",
    "    smiles_col=\"SMILES\",\n",
    "    standardizer=PapyrusStandardizer(),  # standardizes the SMILES strings\n",
    "    identifier=InchiIdentifier()  # generates custom identifiers\n",
    ")\n",
    "storage"
   ],
   "outputs": [
    {
     "data": {
      "text/plain": [
       "TabularStorageBasic (4082)"
      ]
     },
     "execution_count": 12,
     "metadata": {},
     "output_type": "execute_result"
    }
   ],
   "execution_count": 12
  },
  {
   "cell_type": "markdown",
   "id": "d6d4e68d-065c-40d9-b5e5-8f361e826671",
   "metadata": {},
   "source": [
    "As you can see, the code above took a little while to execute. That is because we also performed custom standardization and unique identification of the molecules. In this case, we already have standardized data, but in other cases it might be useful to standardize and identify molecules to find potential duplicates in your data set. In this sense, QSPRpred is also a molecule registration system that you can use to merge data sets from different sources. If you want to speed things up, you can tell `TabularStorageBasic` to run on multiple CPUs as well:"
   ]
  },
  {
   "cell_type": "code",
   "id": "4e21d65f-19e8-4dee-9600-08b0e1a83f5f",
   "metadata": {
    "ExecuteTime": {
     "end_time": "2024-09-03T21:49:10.714797Z",
     "start_time": "2024-09-03T21:49:05.792825Z"
    }
   },
   "source": [
    "df = pd.read_csv(\"../../tutorial_data/A2A_LIGANDS.tsv\", sep=\"\\t\")\n",
    "storage = TabularStorageBasic(\n",
    "    name=\"RepresentationTutorialChemStore\",\n",
    "    path=\"../../tutorial_output/data\",\n",
    "    df=df,\n",
    "    smiles_col=\"SMILES\",\n",
    "    standardizer=PapyrusStandardizer(),  # standardizes the SMILES strings\n",
    "    identifier=InchiIdentifier(),  # generates custom identifiers\n",
    "    n_jobs=os.cpu_count()  # use all available CPUs\n",
    ")\n",
    "storage"
   ],
   "outputs": [
    {
     "data": {
      "text/plain": [
       "TabularStorageBasic (4082)"
      ]
     },
     "execution_count": 13,
     "metadata": {},
     "output_type": "execute_result"
    }
   ],
   "execution_count": 13
  },
  {
   "cell_type": "markdown",
   "id": "e399632a-87c5-40d0-b445-ee13c9281300",
   "metadata": {},
   "source": [
    "If you have multiple cores available, this should have been considerably faster. Easy parallelization is also one feature you get for free with QSPRpred (see [this advanced tutorial to learn more](../../advanced/data/parallelization.ipynb)).\n",
    "\n",
    "Remember that the `TabularStorageBasic` object is also a `PropertyStorage` object, so you can use all the methods and attributes of the `PropertyStorage` API on it:"
   ]
  },
  {
   "cell_type": "code",
   "id": "4f18d963-8638-41b5-8013-3a23469c62be",
   "metadata": {
    "ExecuteTime": {
     "end_time": "2024-09-03T21:49:10.729681Z",
     "start_time": "2024-09-03T21:49:10.716096Z"
    }
   },
   "source": [
    "subset = storage.searchOnProperty(\"Year\", [2009, 2010], exact=True)\n",
    "subset.getDF()"
   ],
   "outputs": [
    {
     "data": {
      "text/plain": [
       "                                                                        SMILES  \\\n",
       "ID                                                                               \n",
       "AAEYTMMNWWKSKZ-UHFFFAOYSA-N  Nc1c(C(=O)Nc2ccc([N+](=O)[O-])cc2)sc2nc3c(cc12...   \n",
       "AAGFKZWKWAMJNP-UHFFFAOYSA-N   O=C(Nc1nc2ncccc2n2c(=O)n(-c3ccccc3)nc12)c1ccccc1   \n",
       "AANUKDYJZPKTKN-UHFFFAOYSA-N  CNC(=O)C12CC1C(n1cnc3c(NCc4cccc(Cl)c4)nc(C#CCC...   \n",
       "ABIXUHSEHFCQMV-UHFFFAOYSA-N        CCCn1c(=O)c2[nH]c(-c3ccccc3)nc2n(CCCOC)c1=O   \n",
       "ACNFYYUXBQGWQL-UHFFFAOYSA-N  O=C(Nc1nc(-c2ccccc2)nc2nn(Cc3ccccc3)cc12)c1ccccc1   \n",
       "...                                                                        ...   \n",
       "ZVWNHOGZGKJOCZ-UHFFFAOYSA-N             Nc1nc(C(=O)NCc2ccccc2Cl)cc(-c2ccco2)n1   \n",
       "ZVYYCMRDDCYZAU-UHFFFAOYSA-N            COc1ccccc1-c1cc(C(=O)NCc2ccccn2)nc(N)n1   \n",
       "ZWVWCKOJGDHDIG-UHFFFAOYSA-N  N#Cc1cccc(C(=O)Nc2nc3cc(C(=O)N4CCCCC4)cnc3n2C2...   \n",
       "ZXCVHJXQJJLILE-UHFFFAOYSA-N          COc1ccc(CCSc2cc3nc(-c4ccco4)nn3c(N)n2)cc1   \n",
       "ZZBZWSYDXUPJCT-UHFFFAOYSA-N              Nc1nc(CSc2nnc(N)s2)nc(Nc2ccc(F)cc2)n1   \n",
       "\n",
       "                             pchembl_value_Mean    Year  \\\n",
       "ID                                                        \n",
       "AAEYTMMNWWKSKZ-UHFFFAOYSA-N                4.82  2010.0   \n",
       "AAGFKZWKWAMJNP-UHFFFAOYSA-N                5.65  2009.0   \n",
       "AANUKDYJZPKTKN-UHFFFAOYSA-N                5.45  2009.0   \n",
       "ABIXUHSEHFCQMV-UHFFFAOYSA-N                6.47  2009.0   \n",
       "ACNFYYUXBQGWQL-UHFFFAOYSA-N                6.74  2010.0   \n",
       "...                                         ...     ...   \n",
       "ZVWNHOGZGKJOCZ-UHFFFAOYSA-N                8.59  2009.0   \n",
       "ZVYYCMRDDCYZAU-UHFFFAOYSA-N                7.24  2009.0   \n",
       "ZWVWCKOJGDHDIG-UHFFFAOYSA-N                6.75  2010.0   \n",
       "ZXCVHJXQJJLILE-UHFFFAOYSA-N                8.80  2009.0   \n",
       "ZZBZWSYDXUPJCT-UHFFFAOYSA-N                4.89  2010.0   \n",
       "\n",
       "                                                               original_smiles  \\\n",
       "ID                                                                               \n",
       "AAEYTMMNWWKSKZ-UHFFFAOYSA-N  Nc1c(C(=O)Nc2ccc([N+](=O)[O-])cc2)sc2nc3c(cc12...   \n",
       "AAGFKZWKWAMJNP-UHFFFAOYSA-N   O=C(Nc1nc2ncccc2n2c(=O)n(-c3ccccc3)nc12)c1ccccc1   \n",
       "AANUKDYJZPKTKN-UHFFFAOYSA-N  CNC(=O)C12CC1C(n1cnc3c(NCc4cccc(Cl)c4)nc(C#CCC...   \n",
       "ABIXUHSEHFCQMV-UHFFFAOYSA-N        CCCn1c(=O)c2[nH]c(-c3ccccc3)nc2n(CCCOC)c1=O   \n",
       "ACNFYYUXBQGWQL-UHFFFAOYSA-N  O=C(Nc1nc(-c2ccccc2)nc2nn(Cc3ccccc3)cc12)c1ccccc1   \n",
       "...                                                                        ...   \n",
       "ZVWNHOGZGKJOCZ-UHFFFAOYSA-N             Nc1nc(C(=O)NCc2ccccc2Cl)cc(-c2ccco2)n1   \n",
       "ZVYYCMRDDCYZAU-UHFFFAOYSA-N            COc1ccccc1-c1cc(C(=O)NCc2ccccn2)nc(N)n1   \n",
       "ZWVWCKOJGDHDIG-UHFFFAOYSA-N  N#Cc1cccc(C(=O)Nc2nc3cc(C(=O)N4CCCCC4)cnc3n2C2...   \n",
       "ZXCVHJXQJJLILE-UHFFFAOYSA-N          COc1ccc(CCSc2cc3nc(-c4ccco4)nn3c(N)n2)cc1   \n",
       "ZZBZWSYDXUPJCT-UHFFFAOYSA-N              Nc1nc(CSc2nnc(N)s2)nc(Nc2ccc(F)cc2)n1   \n",
       "\n",
       "                                                      ID  \\\n",
       "ID                                                         \n",
       "AAEYTMMNWWKSKZ-UHFFFAOYSA-N  AAEYTMMNWWKSKZ-UHFFFAOYSA-N   \n",
       "AAGFKZWKWAMJNP-UHFFFAOYSA-N  AAGFKZWKWAMJNP-UHFFFAOYSA-N   \n",
       "AANUKDYJZPKTKN-UHFFFAOYSA-N  AANUKDYJZPKTKN-UHFFFAOYSA-N   \n",
       "ABIXUHSEHFCQMV-UHFFFAOYSA-N  ABIXUHSEHFCQMV-UHFFFAOYSA-N   \n",
       "ACNFYYUXBQGWQL-UHFFFAOYSA-N  ACNFYYUXBQGWQL-UHFFFAOYSA-N   \n",
       "...                                                  ...   \n",
       "ZVWNHOGZGKJOCZ-UHFFFAOYSA-N  ZVWNHOGZGKJOCZ-UHFFFAOYSA-N   \n",
       "ZVYYCMRDDCYZAU-UHFFFAOYSA-N  ZVYYCMRDDCYZAU-UHFFFAOYSA-N   \n",
       "ZWVWCKOJGDHDIG-UHFFFAOYSA-N  ZWVWCKOJGDHDIG-UHFFFAOYSA-N   \n",
       "ZXCVHJXQJJLILE-UHFFFAOYSA-N  ZXCVHJXQJJLILE-UHFFFAOYSA-N   \n",
       "ZZBZWSYDXUPJCT-UHFFFAOYSA-N  ZZBZWSYDXUPJCT-UHFFFAOYSA-N   \n",
       "\n",
       "                                        ID_before_change  \n",
       "ID                                                        \n",
       "AAEYTMMNWWKSKZ-UHFFFAOYSA-N  AAEYTMMNWWKSKZ-UHFFFAOYSA-N  \n",
       "AAGFKZWKWAMJNP-UHFFFAOYSA-N  AAGFKZWKWAMJNP-UHFFFAOYSA-N  \n",
       "AANUKDYJZPKTKN-UHFFFAOYSA-N  AANUKDYJZPKTKN-UHFFFAOYSA-N  \n",
       "ABIXUHSEHFCQMV-UHFFFAOYSA-N  ABIXUHSEHFCQMV-UHFFFAOYSA-N  \n",
       "ACNFYYUXBQGWQL-UHFFFAOYSA-N  ACNFYYUXBQGWQL-UHFFFAOYSA-N  \n",
       "...                                                  ...  \n",
       "ZVWNHOGZGKJOCZ-UHFFFAOYSA-N  ZVWNHOGZGKJOCZ-UHFFFAOYSA-N  \n",
       "ZVYYCMRDDCYZAU-UHFFFAOYSA-N  ZVYYCMRDDCYZAU-UHFFFAOYSA-N  \n",
       "ZWVWCKOJGDHDIG-UHFFFAOYSA-N  ZWVWCKOJGDHDIG-UHFFFAOYSA-N  \n",
       "ZXCVHJXQJJLILE-UHFFFAOYSA-N  ZXCVHJXQJJLILE-UHFFFAOYSA-N  \n",
       "ZZBZWSYDXUPJCT-UHFFFAOYSA-N  ZZBZWSYDXUPJCT-UHFFFAOYSA-N  \n",
       "\n",
       "[804 rows x 6 columns]"
      ],
      "text/html": [
       "<div>\n",
       "<style scoped>\n",
       "    .dataframe tbody tr th:only-of-type {\n",
       "        vertical-align: middle;\n",
       "    }\n",
       "\n",
       "    .dataframe tbody tr th {\n",
       "        vertical-align: top;\n",
       "    }\n",
       "\n",
       "    .dataframe thead th {\n",
       "        text-align: right;\n",
       "    }\n",
       "</style>\n",
       "<table border=\"1\" class=\"dataframe\">\n",
       "  <thead>\n",
       "    <tr style=\"text-align: right;\">\n",
       "      <th></th>\n",
       "      <th>SMILES</th>\n",
       "      <th>pchembl_value_Mean</th>\n",
       "      <th>Year</th>\n",
       "      <th>original_smiles</th>\n",
       "      <th>ID</th>\n",
       "      <th>ID_before_change</th>\n",
       "    </tr>\n",
       "    <tr>\n",
       "      <th>ID</th>\n",
       "      <th></th>\n",
       "      <th></th>\n",
       "      <th></th>\n",
       "      <th></th>\n",
       "      <th></th>\n",
       "      <th></th>\n",
       "    </tr>\n",
       "  </thead>\n",
       "  <tbody>\n",
       "    <tr>\n",
       "      <th>AAEYTMMNWWKSKZ-UHFFFAOYSA-N</th>\n",
       "      <td>Nc1c(C(=O)Nc2ccc([N+](=O)[O-])cc2)sc2nc3c(cc12...</td>\n",
       "      <td>4.82</td>\n",
       "      <td>2010.0</td>\n",
       "      <td>Nc1c(C(=O)Nc2ccc([N+](=O)[O-])cc2)sc2nc3c(cc12...</td>\n",
       "      <td>AAEYTMMNWWKSKZ-UHFFFAOYSA-N</td>\n",
       "      <td>AAEYTMMNWWKSKZ-UHFFFAOYSA-N</td>\n",
       "    </tr>\n",
       "    <tr>\n",
       "      <th>AAGFKZWKWAMJNP-UHFFFAOYSA-N</th>\n",
       "      <td>O=C(Nc1nc2ncccc2n2c(=O)n(-c3ccccc3)nc12)c1ccccc1</td>\n",
       "      <td>5.65</td>\n",
       "      <td>2009.0</td>\n",
       "      <td>O=C(Nc1nc2ncccc2n2c(=O)n(-c3ccccc3)nc12)c1ccccc1</td>\n",
       "      <td>AAGFKZWKWAMJNP-UHFFFAOYSA-N</td>\n",
       "      <td>AAGFKZWKWAMJNP-UHFFFAOYSA-N</td>\n",
       "    </tr>\n",
       "    <tr>\n",
       "      <th>AANUKDYJZPKTKN-UHFFFAOYSA-N</th>\n",
       "      <td>CNC(=O)C12CC1C(n1cnc3c(NCc4cccc(Cl)c4)nc(C#CCC...</td>\n",
       "      <td>5.45</td>\n",
       "      <td>2009.0</td>\n",
       "      <td>CNC(=O)C12CC1C(n1cnc3c(NCc4cccc(Cl)c4)nc(C#CCC...</td>\n",
       "      <td>AANUKDYJZPKTKN-UHFFFAOYSA-N</td>\n",
       "      <td>AANUKDYJZPKTKN-UHFFFAOYSA-N</td>\n",
       "    </tr>\n",
       "    <tr>\n",
       "      <th>ABIXUHSEHFCQMV-UHFFFAOYSA-N</th>\n",
       "      <td>CCCn1c(=O)c2[nH]c(-c3ccccc3)nc2n(CCCOC)c1=O</td>\n",
       "      <td>6.47</td>\n",
       "      <td>2009.0</td>\n",
       "      <td>CCCn1c(=O)c2[nH]c(-c3ccccc3)nc2n(CCCOC)c1=O</td>\n",
       "      <td>ABIXUHSEHFCQMV-UHFFFAOYSA-N</td>\n",
       "      <td>ABIXUHSEHFCQMV-UHFFFAOYSA-N</td>\n",
       "    </tr>\n",
       "    <tr>\n",
       "      <th>ACNFYYUXBQGWQL-UHFFFAOYSA-N</th>\n",
       "      <td>O=C(Nc1nc(-c2ccccc2)nc2nn(Cc3ccccc3)cc12)c1ccccc1</td>\n",
       "      <td>6.74</td>\n",
       "      <td>2010.0</td>\n",
       "      <td>O=C(Nc1nc(-c2ccccc2)nc2nn(Cc3ccccc3)cc12)c1ccccc1</td>\n",
       "      <td>ACNFYYUXBQGWQL-UHFFFAOYSA-N</td>\n",
       "      <td>ACNFYYUXBQGWQL-UHFFFAOYSA-N</td>\n",
       "    </tr>\n",
       "    <tr>\n",
       "      <th>...</th>\n",
       "      <td>...</td>\n",
       "      <td>...</td>\n",
       "      <td>...</td>\n",
       "      <td>...</td>\n",
       "      <td>...</td>\n",
       "      <td>...</td>\n",
       "    </tr>\n",
       "    <tr>\n",
       "      <th>ZVWNHOGZGKJOCZ-UHFFFAOYSA-N</th>\n",
       "      <td>Nc1nc(C(=O)NCc2ccccc2Cl)cc(-c2ccco2)n1</td>\n",
       "      <td>8.59</td>\n",
       "      <td>2009.0</td>\n",
       "      <td>Nc1nc(C(=O)NCc2ccccc2Cl)cc(-c2ccco2)n1</td>\n",
       "      <td>ZVWNHOGZGKJOCZ-UHFFFAOYSA-N</td>\n",
       "      <td>ZVWNHOGZGKJOCZ-UHFFFAOYSA-N</td>\n",
       "    </tr>\n",
       "    <tr>\n",
       "      <th>ZVYYCMRDDCYZAU-UHFFFAOYSA-N</th>\n",
       "      <td>COc1ccccc1-c1cc(C(=O)NCc2ccccn2)nc(N)n1</td>\n",
       "      <td>7.24</td>\n",
       "      <td>2009.0</td>\n",
       "      <td>COc1ccccc1-c1cc(C(=O)NCc2ccccn2)nc(N)n1</td>\n",
       "      <td>ZVYYCMRDDCYZAU-UHFFFAOYSA-N</td>\n",
       "      <td>ZVYYCMRDDCYZAU-UHFFFAOYSA-N</td>\n",
       "    </tr>\n",
       "    <tr>\n",
       "      <th>ZWVWCKOJGDHDIG-UHFFFAOYSA-N</th>\n",
       "      <td>N#Cc1cccc(C(=O)Nc2nc3cc(C(=O)N4CCCCC4)cnc3n2C2...</td>\n",
       "      <td>6.75</td>\n",
       "      <td>2010.0</td>\n",
       "      <td>N#Cc1cccc(C(=O)Nc2nc3cc(C(=O)N4CCCCC4)cnc3n2C2...</td>\n",
       "      <td>ZWVWCKOJGDHDIG-UHFFFAOYSA-N</td>\n",
       "      <td>ZWVWCKOJGDHDIG-UHFFFAOYSA-N</td>\n",
       "    </tr>\n",
       "    <tr>\n",
       "      <th>ZXCVHJXQJJLILE-UHFFFAOYSA-N</th>\n",
       "      <td>COc1ccc(CCSc2cc3nc(-c4ccco4)nn3c(N)n2)cc1</td>\n",
       "      <td>8.80</td>\n",
       "      <td>2009.0</td>\n",
       "      <td>COc1ccc(CCSc2cc3nc(-c4ccco4)nn3c(N)n2)cc1</td>\n",
       "      <td>ZXCVHJXQJJLILE-UHFFFAOYSA-N</td>\n",
       "      <td>ZXCVHJXQJJLILE-UHFFFAOYSA-N</td>\n",
       "    </tr>\n",
       "    <tr>\n",
       "      <th>ZZBZWSYDXUPJCT-UHFFFAOYSA-N</th>\n",
       "      <td>Nc1nc(CSc2nnc(N)s2)nc(Nc2ccc(F)cc2)n1</td>\n",
       "      <td>4.89</td>\n",
       "      <td>2010.0</td>\n",
       "      <td>Nc1nc(CSc2nnc(N)s2)nc(Nc2ccc(F)cc2)n1</td>\n",
       "      <td>ZZBZWSYDXUPJCT-UHFFFAOYSA-N</td>\n",
       "      <td>ZZBZWSYDXUPJCT-UHFFFAOYSA-N</td>\n",
       "    </tr>\n",
       "  </tbody>\n",
       "</table>\n",
       "<p>804 rows × 6 columns</p>\n",
       "</div>"
      ]
     },
     "execution_count": 14,
     "metadata": {},
     "output_type": "execute_result"
    }
   ],
   "execution_count": 14
  },
  {
   "cell_type": "markdown",
   "id": "b1ba897f-ffd5-4a8e-a0a0-3c2e4f0d32fd",
   "metadata": {},
   "source": [
    "In addition to what we already explored, `ChemStore` also adds a few more cheminformatics tools that some might appreciate. You can iterate over the storage and get the molecules as `StoredMol` objects, which have their own capabilities:"
   ]
  },
  {
   "cell_type": "code",
   "id": "b91878dc-9c10-456b-b616-1a8d8067863c",
   "metadata": {
    "ExecuteTime": {
     "end_time": "2024-09-03T21:49:10.760259Z",
     "start_time": "2024-09-03T21:49:10.730211Z"
    }
   },
   "source": [
    "for mol in storage:\n",
    "    print(mol)\n",
    "    print(mol.as_rd_mol())\n",
    "    print(mol.smiles)\n",
    "    print(mol.props)\n",
    "    print(mol.representations)\n",
    "    break"
   ],
   "outputs": [
    {
     "name": "stdout",
     "output_type": "stream",
     "text": [
      "TabularMol(AACWUFIIMOHGSO-UHFFFAOYSA-N, Cc1cc(C)n(-c2cc(NC(=O)CCN(C)C)nc(-c3ccc(C)o3)n2)n1)\n",
      "<rdkit.Chem.rdchem.Mol object at 0x7efee17be500>\n",
      "Cc1cc(C)n(-c2cc(NC(=O)CCN(C)C)nc(-c3ccc(C)o3)n2)n1\n",
      "{'ID': 'AACWUFIIMOHGSO-UHFFFAOYSA-N', 'SMILES': 'Cc1cc(C)n(-c2cc(NC(=O)CCN(C)C)nc(-c3ccc(C)o3)n2)n1', 'ID_before_change': 'RepresentationTutorialChemStore_library_0000', 'original_smiles': 'Cc1nn(-c2cc(NC(=O)CCN(C)C)nc(-c3ccc(C)o3)n2)c(C)c1', 'Year': 2008.0, 'pchembl_value_Mean': 8.68}\n",
      "None\n"
     ]
    }
   ],
   "execution_count": 15
  },
  {
   "cell_type": "markdown",
   "id": "ff541ccf-8444-4977-8ee6-50c74ec2c117",
   "metadata": {},
   "source": [
    "Therefore, we have all the information about the molecule we can get, and we can also easily turn it into an rdkit molecule object. Not that the `representations` property is currently empty for the molecules, which would be populated if we had conformers, protomers, tautomers or other representations of the molecule present in the storage. This feature is not implemented yet, but will be soon (feel free to inquire about the status on the [issue tracker](https://github.com/CDDLeiden/QSPRpred/issues) or via [email](https://github.com/CDDLeiden/QSPRpred/blob/main/pyproject.toml)).\n",
    "\n",
    "You can also iterate over the molecules in chunks:"
   ]
  },
  {
   "cell_type": "code",
   "id": "46b6608c-7a9f-4616-bc45-a197af7c1759",
   "metadata": {
    "ExecuteTime": {
     "end_time": "2024-09-03T21:49:10.763082Z",
     "start_time": "2024-09-03T21:49:10.760828Z"
    }
   },
   "source": [
    "for chunk in storage.iterChunks(size=2):\n",
    "    print(chunk)\n",
    "    break"
   ],
   "outputs": [
    {
     "name": "stdout",
     "output_type": "stream",
     "text": [
      "[<qsprpred.data.storage.tabular.stored_mol.TabularMol object at 0x7eff4dbcf620>, <qsprpred.data.storage.tabular.stored_mol.TabularMol object at 0x7eff4dbcc350>]\n"
     ]
    }
   ],
   "execution_count": 16
  },
  {
   "cell_type": "markdown",
   "id": "520a16c0-bcdd-4f42-9eaa-f5e33404840d",
   "metadata": {},
   "source": [
    "This can be useful when processing large data sets one chunk at a time and with a smart implementation of `ChemStore.iterChunks` the data set does not have to be loaded into memory all at once. The chunks can also be consumed in parallel, which can speed up processing even further (see [this advanced tutorial to learn more](../../advanced/data/parallelization.ipynb))."
   ]
  }
 ],
 "metadata": {
  "kernelspec": {
   "display_name": "Python 3 (ipykernel)",
   "language": "python",
   "name": "python3"
  },
  "language_info": {
   "codemirror_mode": {
    "name": "ipython",
    "version": 3
   },
   "file_extension": ".py",
   "mimetype": "text/x-python",
   "name": "python",
   "nbconvert_exporter": "python",
   "pygments_lexer": "ipython3",
   "version": "3.10.13"
  }
 },
 "nbformat": 4,
 "nbformat_minor": 5
}
