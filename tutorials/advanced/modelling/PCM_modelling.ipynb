{
 "cells": [
  {
   "cell_type": "markdown",
   "metadata": {},
   "source": [
    "# PCM Modeling\n",
    "\n",
    "In this section of the tutorial, we will use the knowledge from all previous tutorials to construct a simple PCM classification model for four  adenosine receptors (A1, A2A, A2B, A3).\n",
    "\n",
    "## Data Preparation\n",
    "\n",
    "First, we need to load the data. For this tutorial we will load the dataset containing data for all four adenosine receptors."
   ]
  },
  {
   "cell_type": "code",
   "execution_count": 8,
   "metadata": {},
   "outputs": [
    {
     "data": {
      "text/html": [
       "<div>\n",
       "<style scoped>\n",
       "    .dataframe tbody tr th:only-of-type {\n",
       "        vertical-align: middle;\n",
       "    }\n",
       "\n",
       "    .dataframe tbody tr th {\n",
       "        vertical-align: top;\n",
       "    }\n",
       "\n",
       "    .dataframe thead th {\n",
       "        text-align: right;\n",
       "    }\n",
       "</style>\n",
       "<table border=\"1\" class=\"dataframe\">\n",
       "  <thead>\n",
       "    <tr style=\"text-align: right;\">\n",
       "      <th></th>\n",
       "      <th>SMILES</th>\n",
       "      <th>pchembl_value_Mean</th>\n",
       "      <th>accession</th>\n",
       "      <th>QSPRID</th>\n",
       "    </tr>\n",
       "    <tr>\n",
       "      <th>QSPRID</th>\n",
       "      <th></th>\n",
       "      <th></th>\n",
       "      <th></th>\n",
       "      <th></th>\n",
       "    </tr>\n",
       "  </thead>\n",
       "  <tbody>\n",
       "    <tr>\n",
       "      <th>PCMTutorialDataset_0</th>\n",
       "      <td>Cc1nn(-c2cc(NC(=O)CCN(C)C)nc(-c3ccc(C)o3)n2)c(...</td>\n",
       "      <td>8.68</td>\n",
       "      <td>P29274</td>\n",
       "      <td>PCMTutorialDataset_0</td>\n",
       "    </tr>\n",
       "    <tr>\n",
       "      <th>PCMTutorialDataset_1</th>\n",
       "      <td>Cc1nn(-c2cc(NC(=O)CCN(C)C)nc(-c3ccc(C)o3)n2)c(...</td>\n",
       "      <td>6.68</td>\n",
       "      <td>P30542</td>\n",
       "      <td>PCMTutorialDataset_1</td>\n",
       "    </tr>\n",
       "    <tr>\n",
       "      <th>PCMTutorialDataset_2</th>\n",
       "      <td>Nc1c(C(=O)Nc2ccc([N+](=O)[O-])cc2)sc2c1cc1CCCC...</td>\n",
       "      <td>4.82</td>\n",
       "      <td>P29274</td>\n",
       "      <td>PCMTutorialDataset_2</td>\n",
       "    </tr>\n",
       "    <tr>\n",
       "      <th>PCMTutorialDataset_3</th>\n",
       "      <td>O=C(Nc1nc2ncccc2n2c(=O)n(-c3ccccc3)nc12)c1ccccc1</td>\n",
       "      <td>7.15</td>\n",
       "      <td>P0DMS8</td>\n",
       "      <td>PCMTutorialDataset_3</td>\n",
       "    </tr>\n",
       "    <tr>\n",
       "      <th>PCMTutorialDataset_4</th>\n",
       "      <td>O=C(Nc1nc2ncccc2n2c(=O)n(-c3ccccc3)nc12)c1ccccc1</td>\n",
       "      <td>5.65</td>\n",
       "      <td>P29274</td>\n",
       "      <td>PCMTutorialDataset_4</td>\n",
       "    </tr>\n",
       "    <tr>\n",
       "      <th>...</th>\n",
       "      <td>...</td>\n",
       "      <td>...</td>\n",
       "      <td>...</td>\n",
       "      <td>...</td>\n",
       "    </tr>\n",
       "    <tr>\n",
       "      <th>PCMTutorialDataset_12452</th>\n",
       "      <td>CCCOc1ccc(C=Cc2cc3c(c(=O)n(C)c(=O)n3C)n2C)cc1</td>\n",
       "      <td>6.51</td>\n",
       "      <td>P29274</td>\n",
       "      <td>PCMTutorialDataset_12452</td>\n",
       "    </tr>\n",
       "    <tr>\n",
       "      <th>PCMTutorialDataset_12453</th>\n",
       "      <td>CCOC(=O)c1cnc(NCC(C)C)n2nc(-c3ccco3)nc12</td>\n",
       "      <td>7.61</td>\n",
       "      <td>P0DMS8</td>\n",
       "      <td>PCMTutorialDataset_12453</td>\n",
       "    </tr>\n",
       "    <tr>\n",
       "      <th>PCMTutorialDataset_12454</th>\n",
       "      <td>CCOC(=O)c1cnc(NCC(C)C)n2nc(-c3ccco3)nc12</td>\n",
       "      <td>7.35</td>\n",
       "      <td>P29274</td>\n",
       "      <td>PCMTutorialDataset_12454</td>\n",
       "    </tr>\n",
       "    <tr>\n",
       "      <th>PCMTutorialDataset_12455</th>\n",
       "      <td>CCOC(=O)c1cnc(NCC(C)C)n2nc(-c3ccco3)nc12</td>\n",
       "      <td>5.15</td>\n",
       "      <td>P29275</td>\n",
       "      <td>PCMTutorialDataset_12455</td>\n",
       "    </tr>\n",
       "    <tr>\n",
       "      <th>PCMTutorialDataset_12456</th>\n",
       "      <td>CCOC(=O)c1cnc(NCC(C)C)n2nc(-c3ccco3)nc12</td>\n",
       "      <td>7.34</td>\n",
       "      <td>P30542</td>\n",
       "      <td>PCMTutorialDataset_12456</td>\n",
       "    </tr>\n",
       "  </tbody>\n",
       "</table>\n",
       "<p>12457 rows × 4 columns</p>\n",
       "</div>"
      ],
      "text/plain": [
       "                                                                     SMILES  \\\n",
       "QSPRID                                                                        \n",
       "PCMTutorialDataset_0      Cc1nn(-c2cc(NC(=O)CCN(C)C)nc(-c3ccc(C)o3)n2)c(...   \n",
       "PCMTutorialDataset_1      Cc1nn(-c2cc(NC(=O)CCN(C)C)nc(-c3ccc(C)o3)n2)c(...   \n",
       "PCMTutorialDataset_2      Nc1c(C(=O)Nc2ccc([N+](=O)[O-])cc2)sc2c1cc1CCCC...   \n",
       "PCMTutorialDataset_3       O=C(Nc1nc2ncccc2n2c(=O)n(-c3ccccc3)nc12)c1ccccc1   \n",
       "PCMTutorialDataset_4       O=C(Nc1nc2ncccc2n2c(=O)n(-c3ccccc3)nc12)c1ccccc1   \n",
       "...                                                                     ...   \n",
       "PCMTutorialDataset_12452      CCCOc1ccc(C=Cc2cc3c(c(=O)n(C)c(=O)n3C)n2C)cc1   \n",
       "PCMTutorialDataset_12453           CCOC(=O)c1cnc(NCC(C)C)n2nc(-c3ccco3)nc12   \n",
       "PCMTutorialDataset_12454           CCOC(=O)c1cnc(NCC(C)C)n2nc(-c3ccco3)nc12   \n",
       "PCMTutorialDataset_12455           CCOC(=O)c1cnc(NCC(C)C)n2nc(-c3ccco3)nc12   \n",
       "PCMTutorialDataset_12456           CCOC(=O)c1cnc(NCC(C)C)n2nc(-c3ccco3)nc12   \n",
       "\n",
       "                          pchembl_value_Mean accession  \\\n",
       "QSPRID                                                   \n",
       "PCMTutorialDataset_0                    8.68    P29274   \n",
       "PCMTutorialDataset_1                    6.68    P30542   \n",
       "PCMTutorialDataset_2                    4.82    P29274   \n",
       "PCMTutorialDataset_3                    7.15    P0DMS8   \n",
       "PCMTutorialDataset_4                    5.65    P29274   \n",
       "...                                      ...       ...   \n",
       "PCMTutorialDataset_12452                6.51    P29274   \n",
       "PCMTutorialDataset_12453                7.61    P0DMS8   \n",
       "PCMTutorialDataset_12454                7.35    P29274   \n",
       "PCMTutorialDataset_12455                5.15    P29275   \n",
       "PCMTutorialDataset_12456                7.34    P30542   \n",
       "\n",
       "                                            QSPRID  \n",
       "QSPRID                                              \n",
       "PCMTutorialDataset_0          PCMTutorialDataset_0  \n",
       "PCMTutorialDataset_1          PCMTutorialDataset_1  \n",
       "PCMTutorialDataset_2          PCMTutorialDataset_2  \n",
       "PCMTutorialDataset_3          PCMTutorialDataset_3  \n",
       "PCMTutorialDataset_4          PCMTutorialDataset_4  \n",
       "...                                            ...  \n",
       "PCMTutorialDataset_12452  PCMTutorialDataset_12452  \n",
       "PCMTutorialDataset_12453  PCMTutorialDataset_12453  \n",
       "PCMTutorialDataset_12454  PCMTutorialDataset_12454  \n",
       "PCMTutorialDataset_12455  PCMTutorialDataset_12455  \n",
       "PCMTutorialDataset_12456  PCMTutorialDataset_12456  \n",
       "\n",
       "[12457 rows x 4 columns]"
      ]
     },
     "execution_count": 8,
     "metadata": {},
     "output_type": "execute_result"
    }
   ],
   "source": [
    "from qsprpred.data.data import MoleculeTable\n",
    "import os\n",
    "\n",
    "os.makedirs('../../tutorial_output/data', exist_ok=True)\n",
    "\n",
    "dataset = MoleculeTable.fromTableFile(\n",
    "    name='PCMTutorialDataset', \n",
    "    filename='../../tutorial_data/AR_LIGANDS.tsv',\n",
    "    store_dir='../../tutorial_output/data',\n",
    ")\n",
    "\n",
    "dataset.getDF()"
   ]
  },
  {
   "cell_type": "markdown",
   "metadata": {},
   "source": [
    "### Fetching Protein Data\n",
    "\n",
    "In addition, it is also possible to easily fetch the sequences for our proteins from [Papyrus](https://jcheminf.biomedcentral.com/articles/10.1186/s13321-022-00672-x) data set. You can find more information on how to fetch data from Papyrus within QSPRpred in the [data collection](../../basics/data/data_collection_with_papyrus.ipynb) tutorial."
   ]
  },
  {
   "cell_type": "code",
   "execution_count": 9,
   "metadata": {},
   "outputs": [
    {
     "name": "stdout",
     "output_type": "stream",
     "text": [
      "########## DISCLAIMER ##########\n",
      "You are downloading the high-quality Papyrus++ dataset.\n",
      "Should you want to access the entire, though of lower quality, Papyrus dataset,\n",
      "look into additional switches of this command.\n",
      "################################\n",
      "Number of files to be downloaded: 3\n",
      "Total size: 33.0MB\n"
     ]
    },
    {
     "data": {
      "application/vnd.jupyter.widget-view+json": {
       "model_id": "6e89109d00a74c889a884716518c935d",
       "version_major": 2,
       "version_minor": 0
      },
      "text/plain": [
       "Downloading version 05.6:   0%|          | 0.00/33.0M [00:00<?, ?B/s]"
      ]
     },
     "metadata": {},
     "output_type": "display_data"
    },
    {
     "data": {
      "text/html": [
       "<div>\n",
       "<style scoped>\n",
       "    .dataframe tbody tr th:only-of-type {\n",
       "        vertical-align: middle;\n",
       "    }\n",
       "\n",
       "    .dataframe tbody tr th {\n",
       "        vertical-align: top;\n",
       "    }\n",
       "\n",
       "    .dataframe thead th {\n",
       "        text-align: right;\n",
       "    }\n",
       "</style>\n",
       "<table border=\"1\" class=\"dataframe\">\n",
       "  <thead>\n",
       "    <tr style=\"text-align: right;\">\n",
       "      <th></th>\n",
       "      <th>target_id</th>\n",
       "      <th>HGNC_symbol</th>\n",
       "      <th>UniProtID</th>\n",
       "      <th>Status</th>\n",
       "      <th>Organism</th>\n",
       "      <th>Classification</th>\n",
       "      <th>Length</th>\n",
       "      <th>Sequence</th>\n",
       "      <th>TID</th>\n",
       "      <th>accession</th>\n",
       "    </tr>\n",
       "  </thead>\n",
       "  <tbody>\n",
       "    <tr>\n",
       "      <th>0</th>\n",
       "      <td>P29275_WT</td>\n",
       "      <td>ADORA2B</td>\n",
       "      <td>AA2BR_HUMAN</td>\n",
       "      <td>reviewed</td>\n",
       "      <td>Homo sapiens (Human)</td>\n",
       "      <td>Membrane receptor-&gt;Family A G protein-coupled ...</td>\n",
       "      <td>332</td>\n",
       "      <td>MLLETQDALYVALELVIAALSVAGNVLVCAAVGTANTLQTPTNYFL...</td>\n",
       "      <td>ChEMBL:CHEMBL255;ChEMBL:CHEMBL255;ChEMBL:CHEMB...</td>\n",
       "      <td>P29275</td>\n",
       "    </tr>\n",
       "    <tr>\n",
       "      <th>1</th>\n",
       "      <td>P30542_WT</td>\n",
       "      <td>ADORA1</td>\n",
       "      <td>AA1R_HUMAN</td>\n",
       "      <td>reviewed</td>\n",
       "      <td>Homo sapiens (Human)</td>\n",
       "      <td>Membrane receptor-&gt;Family A G protein-coupled ...</td>\n",
       "      <td>326</td>\n",
       "      <td>MPPSISAFQAAYIGIEVLIALVSVPGNVLVIWAVKVNQALRDATFC...</td>\n",
       "      <td>ChEMBL:CHEMBL226;ChEMBL:CHEMBL226;ChEMBL:CHEMB...</td>\n",
       "      <td>P30542</td>\n",
       "    </tr>\n",
       "    <tr>\n",
       "      <th>2</th>\n",
       "      <td>P29274_WT</td>\n",
       "      <td>ADORA2A</td>\n",
       "      <td>AA2AR_HUMAN</td>\n",
       "      <td>reviewed</td>\n",
       "      <td>Homo sapiens (Human)</td>\n",
       "      <td>Membrane receptor-&gt;Family A G protein-coupled ...</td>\n",
       "      <td>412</td>\n",
       "      <td>MPIMGSSVYITVELAIAVLAILGNVLVCWAVWLNSNLQNVTNYFVV...</td>\n",
       "      <td>ChEMBL:CHEMBL251;ChEMBL:CHEMBL251;ChEMBL:CHEMB...</td>\n",
       "      <td>P29274</td>\n",
       "    </tr>\n",
       "    <tr>\n",
       "      <th>3</th>\n",
       "      <td>P0DMS8_WT</td>\n",
       "      <td>ADORA3</td>\n",
       "      <td>AA3R_HUMAN</td>\n",
       "      <td>reviewed</td>\n",
       "      <td>Homo sapiens (Human)</td>\n",
       "      <td>Membrane receptor-&gt;Family A G protein-coupled ...</td>\n",
       "      <td>318</td>\n",
       "      <td>MPNNSTALSLANVTYITMEIFIGLCAIVGNVLVICVVKLNPSLQTT...</td>\n",
       "      <td>ChEMBL:CHEMBL256;ChEMBL:CHEMBL256;ChEMBL:CHEMB...</td>\n",
       "      <td>P0DMS8</td>\n",
       "    </tr>\n",
       "  </tbody>\n",
       "</table>\n",
       "</div>"
      ],
      "text/plain": [
       "   target_id HGNC_symbol    UniProtID    Status              Organism  \\\n",
       "0  P29275_WT     ADORA2B  AA2BR_HUMAN  reviewed  Homo sapiens (Human)   \n",
       "1  P30542_WT      ADORA1   AA1R_HUMAN  reviewed  Homo sapiens (Human)   \n",
       "2  P29274_WT     ADORA2A  AA2AR_HUMAN  reviewed  Homo sapiens (Human)   \n",
       "3  P0DMS8_WT      ADORA3   AA3R_HUMAN  reviewed  Homo sapiens (Human)   \n",
       "\n",
       "                                      Classification  Length  \\\n",
       "0  Membrane receptor->Family A G protein-coupled ...     332   \n",
       "1  Membrane receptor->Family A G protein-coupled ...     326   \n",
       "2  Membrane receptor->Family A G protein-coupled ...     412   \n",
       "3  Membrane receptor->Family A G protein-coupled ...     318   \n",
       "\n",
       "                                            Sequence  \\\n",
       "0  MLLETQDALYVALELVIAALSVAGNVLVCAAVGTANTLQTPTNYFL...   \n",
       "1  MPPSISAFQAAYIGIEVLIALVSVPGNVLVIWAVKVNQALRDATFC...   \n",
       "2  MPIMGSSVYITVELAIAVLAILGNVLVCWAVWLNSNLQNVTNYFVV...   \n",
       "3  MPNNSTALSLANVTYITMEIFIGLCAIVGNVLVICVVKLNPSLQTT...   \n",
       "\n",
       "                                                 TID accession  \n",
       "0  ChEMBL:CHEMBL255;ChEMBL:CHEMBL255;ChEMBL:CHEMB...    P29275  \n",
       "1  ChEMBL:CHEMBL226;ChEMBL:CHEMBL226;ChEMBL:CHEMB...    P30542  \n",
       "2  ChEMBL:CHEMBL251;ChEMBL:CHEMBL251;ChEMBL:CHEMB...    P29274  \n",
       "3  ChEMBL:CHEMBL256;ChEMBL:CHEMBL256;ChEMBL:CHEMB...    P0DMS8  "
      ]
     },
     "execution_count": 9,
     "metadata": {},
     "output_type": "execute_result"
    }
   ],
   "source": [
    "from qsprpred.data.sources.papyrus import Papyrus\n",
    "\n",
    "# Papyrus database version 05.6\n",
    "papyrus = Papyrus(\n",
    "    data_dir=\"../../tutorial_data/papyrus\",\n",
    "    version='05.6',  # Papyrus database version\n",
    "    stereo=False,\n",
    "    plus_only=True,\n",
    ")\n",
    "\n",
    "# Get the protein sequences for the four adenosine receptors\n",
    "acc_keys = [\"P29274\", \"P29275\", \"P30542\", \"P0DMS8\"] # A2AR, A2BR, A1R, A3R\n",
    "dataset_seq = papyrus.getProteinData(acc_keys, name=f\"{dataset.name}_seqs\", use_existing=True)\n",
    "dataset_seq"
   ]
  },
  {
   "cell_type": "markdown",
   "metadata": {},
   "source": [
    "The  keys used to fetch the data are saved in the `accession` colum in the resulting data frame:"
   ]
  },
  {
   "cell_type": "code",
   "execution_count": 10,
   "metadata": {},
   "outputs": [
    {
     "data": {
      "text/html": [
       "<div>\n",
       "<style scoped>\n",
       "    .dataframe tbody tr th:only-of-type {\n",
       "        vertical-align: middle;\n",
       "    }\n",
       "\n",
       "    .dataframe tbody tr th {\n",
       "        vertical-align: top;\n",
       "    }\n",
       "\n",
       "    .dataframe thead th {\n",
       "        text-align: right;\n",
       "    }\n",
       "</style>\n",
       "<table border=\"1\" class=\"dataframe\">\n",
       "  <thead>\n",
       "    <tr style=\"text-align: right;\">\n",
       "      <th></th>\n",
       "      <th>accession</th>\n",
       "    </tr>\n",
       "    <tr>\n",
       "      <th>QSPRID</th>\n",
       "      <th></th>\n",
       "    </tr>\n",
       "  </thead>\n",
       "  <tbody>\n",
       "    <tr>\n",
       "      <th>PCMTutorialDataset_0</th>\n",
       "      <td>P29274</td>\n",
       "    </tr>\n",
       "    <tr>\n",
       "      <th>PCMTutorialDataset_1</th>\n",
       "      <td>P30542</td>\n",
       "    </tr>\n",
       "    <tr>\n",
       "      <th>PCMTutorialDataset_2</th>\n",
       "      <td>P29274</td>\n",
       "    </tr>\n",
       "    <tr>\n",
       "      <th>PCMTutorialDataset_3</th>\n",
       "      <td>P0DMS8</td>\n",
       "    </tr>\n",
       "    <tr>\n",
       "      <th>PCMTutorialDataset_4</th>\n",
       "      <td>P29274</td>\n",
       "    </tr>\n",
       "    <tr>\n",
       "      <th>...</th>\n",
       "      <td>...</td>\n",
       "    </tr>\n",
       "    <tr>\n",
       "      <th>PCMTutorialDataset_12452</th>\n",
       "      <td>P29274</td>\n",
       "    </tr>\n",
       "    <tr>\n",
       "      <th>PCMTutorialDataset_12453</th>\n",
       "      <td>P0DMS8</td>\n",
       "    </tr>\n",
       "    <tr>\n",
       "      <th>PCMTutorialDataset_12454</th>\n",
       "      <td>P29274</td>\n",
       "    </tr>\n",
       "    <tr>\n",
       "      <th>PCMTutorialDataset_12455</th>\n",
       "      <td>P29275</td>\n",
       "    </tr>\n",
       "    <tr>\n",
       "      <th>PCMTutorialDataset_12456</th>\n",
       "      <td>P30542</td>\n",
       "    </tr>\n",
       "  </tbody>\n",
       "</table>\n",
       "<p>12457 rows × 1 columns</p>\n",
       "</div>"
      ],
      "text/plain": [
       "                         accession\n",
       "QSPRID                            \n",
       "PCMTutorialDataset_0        P29274\n",
       "PCMTutorialDataset_1        P30542\n",
       "PCMTutorialDataset_2        P29274\n",
       "PCMTutorialDataset_3        P0DMS8\n",
       "PCMTutorialDataset_4        P29274\n",
       "...                            ...\n",
       "PCMTutorialDataset_12452    P29274\n",
       "PCMTutorialDataset_12453    P0DMS8\n",
       "PCMTutorialDataset_12454    P29274\n",
       "PCMTutorialDataset_12455    P29275\n",
       "PCMTutorialDataset_12456    P30542\n",
       "\n",
       "[12457 rows x 1 columns]"
      ]
     },
     "execution_count": 10,
     "metadata": {},
     "output_type": "execute_result"
    }
   ],
   "source": [
    "dataset.getSubset(\"accession\")"
   ]
  },
  {
   "cell_type": "markdown",
   "metadata": {},
   "source": [
    "## Calculating Protein Descriptors\n",
    "\n",
    "In this section, we will show how to connect the information about sequences with our data set and calculate protein descriptors using multiple sequence alignment and the `PCMDataSet` class from the `qsprpred.extra` package. First, let us convert the original data set saved in the `dataset` variable to a `PCMDataSet`:"
   ]
  },
  {
   "cell_type": "code",
   "execution_count": null,
   "metadata": {},
   "outputs": [],
   "source": [
    "from qsprpred.extra.data.data import PCMDataSet\n",
    "\n",
    "def sequence_provider(acc_keys):\n",
    "    \"\"\"\n",
    "    A function that provides a mapping from accession key to a protein sequence.\n",
    "\n",
    "    Args:\n",
    "        acc_keys (list): Accession keys of the protein to get a sequences for.\n",
    "\n",
    "    Returns:\n",
    "        (dict) : Mapping of accession keys to protein sequences.\n",
    "        (dict) : Additional information to pass to the MSA provider (can be empty).\n",
    "    \"\"\"\n",
    "    map = dict()\n",
    "    info = dict()\n",
    "    for i, row in dataset_seq.iterrows():\n",
    "        map[row['accession']] = row['Sequence']\n",
    "\n",
    "        # can be omitted\n",
    "        info[row['accession']] = {\n",
    "            'Organism': row['Organism'],\n",
    "            'UniProtID': row['UniProtID'],\n",
    "        }\n",
    "\n",
    "    return map, info\n",
    "\n",
    "dataset = PCMDataSet.fromMolTable(\n",
    "    dataset,\n",
    "    name=dataset.name,\n",
    "    protein_col=\"accession\",\n",
    "    protein_seq_provider=sequence_provider,\n",
    "    store_dir=dataset.outDir,\n",
    "    target_props=dataset.targetProperties\n",
    ")\n",
    "dataset"
   ]
  },
  {
   "cell_type": "markdown",
   "metadata": {},
   "source": [
    "`PCMDataset` knows how to connect accession keys to sequences thanks to `proteinCol` and `proteinSeqProvider`, and it will automatically create a multiple sequence alignment (MSA) for us when calculating protein descriptors, which is facilitated through the `addProteinDescriptors` method and a `ProteinDescriptorCalculator`:"
   ]
  },
  {
   "cell_type": "code",
   "execution_count": null,
   "metadata": {},
   "outputs": [],
   "source": [
    "from qsprpred.extra.data.utils.descriptorcalculator import ProteinDescriptorCalculator\n",
    "from qsprpred.extra.data.utils.descriptorsets import ProDec\n",
    "from qsprpred.extra.data.utils.descriptor_utils.msa_calculator import ClustalMSA\n",
    "\n",
    "calc = ProteinDescriptorCalculator(\n",
    "    desc_sets=[ProDec(sets=[\"Zscale Hellberg\"])],\n",
    "    msa_provider=ClustalMSA(out_dir=dataset.storeDir)\n",
    ")\n",
    "dataset.addProteinDescriptors(calc)"
   ]
  },
  {
   "cell_type": "markdown",
   "metadata": {},
   "source": [
    "We can check the descriptor matrix:"
   ]
  },
  {
   "cell_type": "code",
   "execution_count": null,
   "metadata": {},
   "outputs": [],
   "source": [
    "dataset.getDescriptors()"
   ]
  },
  {
   "cell_type": "markdown",
   "metadata": {},
   "source": [
    "We can of course combine this with molecular descriptors as well:"
   ]
  },
  {
   "cell_type": "code",
   "execution_count": null,
   "metadata": {},
   "outputs": [],
   "source": [
    "from qsprpred.data.utils.descriptorsets import RDKitDescs\n",
    "from qsprpred.data.utils.descriptorcalculator import MoleculeDescriptorsCalculator\n",
    "\n",
    "dataset.nJobs = 12 # speeding things up a little\n",
    "calc = MoleculeDescriptorsCalculator(desc_sets=[RDKitDescs()])\n",
    "dataset.addDescriptors(calc)\n",
    "dataset.getDescriptors()"
   ]
  },
  {
   "cell_type": "markdown",
   "metadata": {},
   "source": [
    "## Model Construction\n",
    "\n",
    "Now that we have defined our preprocessing steps, we can construct our model. We will use a simple random forest model in this case, but notice that the training code is allmost the same as in the simple [training tutorial](./tutorial_training.ipynb). The only difference is that we are using the `SklearnPCMModel` class instead of `SklearnModel`:"
   ]
  },
  {
   "cell_type": "code",
   "execution_count": null,
   "metadata": {},
   "outputs": [],
   "source": [
    "from sklearn.neighbors import KNeighborsRegressor\n",
    "from qsprpred.extra.models.pcm import SklearnPCMModel\n",
    "from qsprpred.models.assessment_methods import CrossValAssessor, TestSetAssessor\n",
    "from qsprpred.models.metrics import SklearnMetric\n",
    "\n",
    "os.makedirs('../../tutorial_output/data', exist_ok=True)\n",
    "\n",
    "model = SklearnPCMModel(\n",
    "    base_dir = '../../tutorial_output/models',\n",
    "    data=dataset,\n",
    "    alg = KNeighborsRegressor(),\n",
    "    name='PCMTutorialModel',\n",
    "    random_state=42\n",
    ")\n",
    "\n",
    "score_func = SklearnMetric.getDefaultMetric(model.task)\n",
    "CrossValAssessor(scoring = score_func)(model)\n",
    "TestSetAssessor(scoring = score_func)(model)\n",
    "model.fitAttached()"
   ]
  },
  {
   "cell_type": "markdown",
   "metadata": {},
   "source": [
    "The `SklearnPCMModel` class is a subclass of `SklearnModel` and thus inherits all of its functionality. The only difference is in how it handles predictions, which we will [show later](#model-prediction). Model evaluation and plotting is also the same as in the [training tutorial](./tutorial_training.ipynb):"
   ]
  },
  {
   "cell_type": "code",
   "execution_count": null,
   "metadata": {},
   "outputs": [],
   "source": [
    "from qsprpred.plotting.regression import CorrelationPlot\n",
    "\n",
    "plot = CorrelationPlot([model])\n",
    "plot.make(save=True, show=True, property_name=\"pchembl_value_Mean\")"
   ]
  },
  {
   "cell_type": "markdown",
   "metadata": {},
   "source": [
    "## Model Prediction\n",
    "\n",
    "Prediction with the PCM model works similarly to regular models. We can load the saved model using its name (`RF_PCM`) as usual:"
   ]
  },
  {
   "cell_type": "code",
   "execution_count": null,
   "metadata": {},
   "outputs": [],
   "source": [
    "model_from_files = SklearnPCMModel(name='PCMTutorialModel', base_dir = '../../tutorial_output/models')\n",
    "model_from_files"
   ]
  },
  {
   "cell_type": "markdown",
   "metadata": {},
   "source": [
    "But naturally when doing the prediction, we need to provide the protein ID to fetch protein descriptors for as well. You can see that regular call to `predict` now does not work"
   ]
  },
  {
   "cell_type": "code",
   "execution_count": null,
   "metadata": {},
   "outputs": [],
   "source": [
    "sample_mols = [\n",
    "    'CN1C=NC2=C1C(=O)N(C(=O)N2C)C', # caffeine\n",
    "    'c1ccccc1CCN1N=CC2=C1N=C(N)N3C2=NC(C4=CC=CO4)=N3' # SCH-58261 (50x more selective to A2A than caffeine -> more potent)\n",
    "]"
   ]
  },
  {
   "cell_type": "code",
   "execution_count": null,
   "metadata": {},
   "outputs": [],
   "source": [
    "try:\n",
    "    model_from_files.predictMols(\n",
    "        sample_mols\n",
    "    )\n",
    "except TypeError as e:\n",
    "    print(e)"
   ]
  },
  {
   "cell_type": "markdown",
   "metadata": {},
   "source": [
    "We need to use one of the protein Idataset from the training data to fetch the appropriate protein descriptors:"
   ]
  },
  {
   "cell_type": "code",
   "execution_count": null,
   "metadata": {},
   "outputs": [],
   "source": [
    "dataset.getSubset(dataset.proteinCol)[dataset.proteinCol].unique()"
   ]
  },
  {
   "cell_type": "code",
   "execution_count": null,
   "metadata": {},
   "outputs": [],
   "source": [
    "model_from_files.predictMols(\n",
    "    sample_mols,\n",
    "    protein_id = 'P29274', # human adenosine A2A receptor\n",
    "    use_probas=True\n",
    ")"
   ]
  },
  {
   "cell_type": "markdown",
   "metadata": {},
   "source": [
    "Now that makes sense. We can see that for the selective compound (`SCH-58261`), the model predicts it as active with confidence. If we use the same compoundataset with the other isoforms, we can see that indeed the result would be inactive for this compound hinting at its selectivity:"
   ]
  },
  {
   "cell_type": "code",
   "execution_count": null,
   "metadata": {},
   "outputs": [],
   "source": [
    "model_from_files.predictMols(\n",
    "    sample_mols,\n",
    "    protein_id = 'P30542', # human adenosine A1 receptor\n",
    "    use_probas=True\n",
    ")"
   ]
  },
  {
   "cell_type": "code",
   "execution_count": null,
   "metadata": {},
   "outputs": [],
   "source": [
    "model_from_files.predictMols(\n",
    "    sample_mols,\n",
    "    protein_id = 'P0DMS8', # human adenosine A3 receptor\n",
    "    use_probas=True\n",
    ")"
   ]
  },
  {
   "cell_type": "code",
   "execution_count": null,
   "metadata": {},
   "outputs": [],
   "source": [
    "model_from_files.predictMols(\n",
    "    sample_mols,\n",
    "    protein_id = 'P29275', # human adenosine A2B receptor\n",
    "    use_probas=True\n",
    ")"
   ]
  }
 ],
 "metadata": {
  "kernelspec": {
   "display_name": "qsprpred",
   "language": "python",
   "name": "python3"
  },
  "language_info": {
   "codemirror_mode": {
    "name": "ipython",
    "version": 3
   },
   "file_extension": ".py",
   "mimetype": "text/x-python",
   "name": "python",
   "nbconvert_exporter": "python",
   "pygments_lexer": "ipython3",
   "version": "3.10.12"
  }
 },
 "nbformat": 4,
 "nbformat_minor": 2
}
