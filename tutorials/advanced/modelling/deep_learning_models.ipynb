{
 "cells": [
  {
   "cell_type": "markdown",
   "metadata": {},
   "source": [
    "# Deep learning models\n",
    "In the other tutorials, all examples have used scikit-learn models. However,\n",
    "QSPRpred also has a number of other deep-learning models build-in. These models rely on\n",
    "torch, therefore you need to make sure to have torch or installed QSPPred with the `deep` (or `full`) option (see [README.txt](https://github.com/CDDLeiden/QSPRpred#readme)).\n",
    "\n",
    "First, we will load the dataset as usual."
   ]
  },
  {
   "cell_type": "code",
   "execution_count": 1,
   "metadata": {},
   "outputs": [
    {
     "data": {
      "text/html": [
       "<div>\n",
       "<style scoped>\n",
       "    .dataframe tbody tr th:only-of-type {\n",
       "        vertical-align: middle;\n",
       "    }\n",
       "\n",
       "    .dataframe tbody tr th {\n",
       "        vertical-align: top;\n",
       "    }\n",
       "\n",
       "    .dataframe thead th {\n",
       "        text-align: right;\n",
       "    }\n",
       "</style>\n",
       "<table border=\"1\" class=\"dataframe\">\n",
       "  <thead>\n",
       "    <tr style=\"text-align: right;\">\n",
       "      <th></th>\n",
       "      <th>SMILES</th>\n",
       "      <th>pchembl_value_Mean</th>\n",
       "      <th>Year</th>\n",
       "      <th>QSPRID</th>\n",
       "    </tr>\n",
       "    <tr>\n",
       "      <th>QSPRID</th>\n",
       "      <th></th>\n",
       "      <th></th>\n",
       "      <th></th>\n",
       "      <th></th>\n",
       "    </tr>\n",
       "  </thead>\n",
       "  <tbody>\n",
       "    <tr>\n",
       "      <th>DeepLearningTutorialDataset_0</th>\n",
       "      <td>Cc1cc(C)n(-c2cc(NC(=O)CCN(C)C)nc(-c3ccc(C)o3)n...</td>\n",
       "      <td>8.68</td>\n",
       "      <td>2008.0</td>\n",
       "      <td>DeepLearningTutorialDataset_0</td>\n",
       "    </tr>\n",
       "    <tr>\n",
       "      <th>DeepLearningTutorialDataset_1</th>\n",
       "      <td>Nc1c(C(=O)Nc2ccc([N+](=O)[O-])cc2)sc2nc3c(cc12...</td>\n",
       "      <td>4.82</td>\n",
       "      <td>2010.0</td>\n",
       "      <td>DeepLearningTutorialDataset_1</td>\n",
       "    </tr>\n",
       "    <tr>\n",
       "      <th>DeepLearningTutorialDataset_2</th>\n",
       "      <td>O=C(Nc1nc2ncccc2n2c(=O)n(-c3ccccc3)nc12)c1ccccc1</td>\n",
       "      <td>5.65</td>\n",
       "      <td>2009.0</td>\n",
       "      <td>DeepLearningTutorialDataset_2</td>\n",
       "    </tr>\n",
       "    <tr>\n",
       "      <th>DeepLearningTutorialDataset_3</th>\n",
       "      <td>CNC(=O)C12CC1C(n1cnc3c(NCc4cccc(Cl)c4)nc(C#CCC...</td>\n",
       "      <td>5.45</td>\n",
       "      <td>2009.0</td>\n",
       "      <td>DeepLearningTutorialDataset_3</td>\n",
       "    </tr>\n",
       "    <tr>\n",
       "      <th>DeepLearningTutorialDataset_4</th>\n",
       "      <td>CCCn1c(=O)c2c(nc3cc(OC)ccn32)n(CCCNC(=O)c2ccc(...</td>\n",
       "      <td>5.20</td>\n",
       "      <td>2019.0</td>\n",
       "      <td>DeepLearningTutorialDataset_4</td>\n",
       "    </tr>\n",
       "  </tbody>\n",
       "</table>\n",
       "</div>"
      ],
      "text/plain": [
       "                                                                          SMILES  \\\n",
       "QSPRID                                                                             \n",
       "DeepLearningTutorialDataset_0  Cc1cc(C)n(-c2cc(NC(=O)CCN(C)C)nc(-c3ccc(C)o3)n...   \n",
       "DeepLearningTutorialDataset_1  Nc1c(C(=O)Nc2ccc([N+](=O)[O-])cc2)sc2nc3c(cc12...   \n",
       "DeepLearningTutorialDataset_2   O=C(Nc1nc2ncccc2n2c(=O)n(-c3ccccc3)nc12)c1ccccc1   \n",
       "DeepLearningTutorialDataset_3  CNC(=O)C12CC1C(n1cnc3c(NCc4cccc(Cl)c4)nc(C#CCC...   \n",
       "DeepLearningTutorialDataset_4  CCCn1c(=O)c2c(nc3cc(OC)ccn32)n(CCCNC(=O)c2ccc(...   \n",
       "\n",
       "                               pchembl_value_Mean    Year  \\\n",
       "QSPRID                                                      \n",
       "DeepLearningTutorialDataset_0                8.68  2008.0   \n",
       "DeepLearningTutorialDataset_1                4.82  2010.0   \n",
       "DeepLearningTutorialDataset_2                5.65  2009.0   \n",
       "DeepLearningTutorialDataset_3                5.45  2009.0   \n",
       "DeepLearningTutorialDataset_4                5.20  2019.0   \n",
       "\n",
       "                                                      QSPRID  \n",
       "QSPRID                                                        \n",
       "DeepLearningTutorialDataset_0  DeepLearningTutorialDataset_0  \n",
       "DeepLearningTutorialDataset_1  DeepLearningTutorialDataset_1  \n",
       "DeepLearningTutorialDataset_2  DeepLearningTutorialDataset_2  \n",
       "DeepLearningTutorialDataset_3  DeepLearningTutorialDataset_3  \n",
       "DeepLearningTutorialDataset_4  DeepLearningTutorialDataset_4  "
      ]
     },
     "execution_count": 1,
     "metadata": {},
     "output_type": "execute_result"
    }
   ],
   "source": [
    "import os\n",
    "from qsprpred.data.data import QSPRDataset\n",
    "from qsprpred.data.utils.descriptorsets import FingerprintSet\n",
    "from qsprpred.data.utils.descriptorcalculator import MoleculeDescriptorsCalculator\n",
    "from qsprpred.data.utils.datasplitters import RandomSplit\n",
    "\n",
    "os.makedirs(\"../../tutorial_output/data\", exist_ok=True)\n",
    "\n",
    "# Create dataset\n",
    "dataset = QSPRDataset.fromTableFile(\n",
    "  \tfilename=\"../../tutorial_data/A2A_LIGANDS.tsv\", \n",
    "  \tstore_dir=\"../../tutorial_output/data\",\n",
    "  \tname=\"DeepLearningTutorialDataset\",\n",
    "  \ttarget_props=[{\"name\": \"pchembl_value_Mean\", \"task\": \"REGRESSION\"}],\n",
    "  \trandom_state=42\n",
    ")\n",
    "\n",
    "# calculate compound features and split dataset into train and test\n",
    "feature_calculator = MoleculeDescriptorsCalculator(desc_sets = [FingerprintSet(fingerprint_type=\"MorganFP\", radius=3, nBits=2048)])\n",
    "dataset.prepareDataset(\n",
    "    split=RandomSplit(test_fraction=0.2, dataset=dataset),\n",
    "    feature_calculators=[feature_calculator],\n",
    "    recalculate_features=True,\n",
    ")\n",
    "\n",
    "dataset.getDF().head()"
   ]
  },
  {
   "cell_type": "markdown",
   "metadata": {},
   "source": [
    "## Fully connected neural network\n",
    "The first model we will look at is a fully connected neural network. This model uses the `DDNModel` class instead of the `SklearnModel` class. The `DDNModel` class accepts a `patience` argument, which is the number of epochs to wait before stopping training if the validation loss does not improve and a tolerance ( `tol`) argument, which is the minimum improvement in validation loss to be considered an improvement.\n",
    "\n",
    "Other parameters for the underlying estimator `STFullyConnected` can be passed to the `parameters` argument as usual.\n",
    "There is no need to specify the `alg` argument, as currently only `STFullyConnected` is available."
   ]
  },
  {
   "cell_type": "code",
   "execution_count": 34,
   "metadata": {},
   "outputs": [],
   "source": [
    "# Create model\n",
    "from qsprpred.extra.gpu.models.dnn import DNNModel\n",
    "\n",
    "os.makedirs(\"../../tutorial_output/models\", exist_ok=True)\n",
    "model = DNNModel(\n",
    "    base_dir = '../../tutorial_output/models',\n",
    "    data = dataset,\n",
    "    name = 'DeepLearningTutorialModel',\n",
    "    parameters={'n_epochs': 100}, # maximum number of epochs to train for\n",
    "    patience=3,\n",
    "    tol=0.01,\n",
    "    random_state=42\n",
    ")"
   ]
  },
  {
   "cell_type": "markdown",
   "metadata": {},
   "source": [
    "The `DNNModel` supports early stopping of the training, which as mentioned can be controlled by the `patience` and the `tol` arguments. You can check if a model supports early stopping, by checking the `supportsEarlyStopping` attribute."
   ]
  },
  {
   "cell_type": "code",
   "execution_count": 28,
   "metadata": {},
   "outputs": [
    {
     "data": {
      "text/plain": [
       "True"
      ]
     },
     "execution_count": 28,
     "metadata": {},
     "output_type": "execute_result"
    }
   ],
   "source": [
    "model.supportsEarlyStopping"
   ]
  },
  {
   "cell_type": "markdown",
   "metadata": {},
   "source": [
    "If a model supports early stopping, it also has an `EarlyStopping` attribute which is an instance of the `EarlyStopping` class that keeps track of the number of epochs trained. The `EarlyStopping` class has a `mode` attribute that sets how early stopping should be handled when fitting the estimator. It can be one of four modes: `EarlyStoppingMode.RECORDING`, `EarlyStoppingMode.NOT_RECORDING`, `EarlyStoppingMode.OPTIMAL`, `EarlyStoppingMode.FIXED`. By default it is set to `EarlyStoppingMode.NOT_RECORDING`."
   ]
  },
  {
   "cell_type": "code",
   "execution_count": 35,
   "metadata": {},
   "outputs": [
    {
     "data": {
      "text/plain": [
       "<EarlyStoppingMode.NOT_RECORDING: 'NOT_RECORDING'>"
      ]
     },
     "execution_count": 35,
     "metadata": {},
     "output_type": "execute_result"
    }
   ],
   "source": [
    "model.earlyStopping.mode"
   ]
  },
  {
   "cell_type": "markdown",
   "metadata": {},
   "source": [
    "In this mode (`EarlyStoppingMode.NOT_RECORDING`), the `EarlyStopping` class will not keep track of at which epoch the training is stopped in a fit. In the `EarlyStoppingMode.RECORDING` mode the `EarlyStopping` class will keep track of the epoch on which the training was stopped. This can be accessed through the `EarlyStopping` class `trainedEpochs` attribute, which is a list of the epochs on which the training was stopped. You can see that for now it is just an empty list."
   ]
  },
  {
   "cell_type": "code",
   "execution_count": 36,
   "metadata": {},
   "outputs": [
    {
     "data": {
      "text/plain": [
       "[]"
      ]
     },
     "execution_count": 36,
     "metadata": {},
     "output_type": "execute_result"
    }
   ],
   "source": [
    "model.earlyStopping.trainedEpochs"
   ]
  },
  {
   "cell_type": "markdown",
   "metadata": {},
   "source": [
    "If we then run a cross-validation with the mode set to `EarlyStoppingMode.RECORDING`, we can see that the `trainedEpochs` attribute is now filled with the epochs on which the training was stopped for each fold."
   ]
  },
  {
   "cell_type": "code",
   "execution_count": 37,
   "metadata": {},
   "outputs": [
    {
     "data": {
      "text/plain": [
       "[59, 57, 63, 32, 54]"
      ]
     },
     "execution_count": 37,
     "metadata": {},
     "output_type": "execute_result"
    }
   ],
   "source": [
    "from qsprpred.models.assessment_methods import CrossValAssessor\n",
    "from qsprpred.models.early_stopping import EarlyStoppingMode\n",
    "from qsprpred.models.metrics import SklearnMetric\n",
    "\n",
    "CrossValAssessor(SklearnMetric.getMetric(name='r2'), mode=EarlyStoppingMode.RECORDING)(model)\n",
    "model.earlyStopping.trainedEpochs"
   ]
  },
  {
   "cell_type": "markdown",
   "metadata": {},
   "source": [
    "Mind that the mode has now been changed to `EarlyStoppingMode.RECORDING`, therefore, if you run the cross-validation again, the `trainedEpochs` attribute will be appended with the epochs on which the training was stopped previously."
   ]
  },
  {
   "cell_type": "code",
   "execution_count": 32,
   "metadata": {},
   "outputs": [
    {
     "data": {
      "text/plain": [
       "[59, 57, 63, 32, 54, 57, 44, 64, 39, 60]"
      ]
     },
     "execution_count": 32,
     "metadata": {},
     "output_type": "execute_result"
    }
   ],
   "source": [
    "CrossValAssessor(SklearnMetric.getMetric(name='r2'))(model)\n",
    "model.earlyStopping.trainedEpochs"
   ]
  },
  {
   "cell_type": "code",
   "execution_count": 38,
   "metadata": {},
   "outputs": [
    {
     "data": {
      "text/plain": [
       "<EarlyStoppingMode.RECORDING: 'RECORDING'>"
      ]
     },
     "execution_count": 38,
     "metadata": {},
     "output_type": "execute_result"
    }
   ],
   "source": [
    "model.earlyStopping.mode"
   ]
  },
  {
   "cell_type": "code",
   "execution_count": null,
   "metadata": {},
   "outputs": [],
   "source": []
  },
  {
   "cell_type": "code",
   "execution_count": 19,
   "metadata": {},
   "outputs": [
    {
     "ename": "TypeError",
     "evalue": "qsprpred.models.early_stopping.early_stopping.<locals>.wrapper_fit() got multiple values for keyword argument 'mode'",
     "output_type": "error",
     "traceback": [
      "\u001b[1;31m---------------------------------------------------------------------------\u001b[0m",
      "\u001b[1;31mTypeError\u001b[0m                                 Traceback (most recent call last)",
      "\u001b[1;32mc:\\Users\\helle\\Documents\\01_MainProjects\\03_QSPRpred\\Scripts\\QSPRpred\\tutorials\\advanced\\modelling\\deep_learning_models.ipynb Cell 14\u001b[0m line \u001b[0;36m2\n\u001b[0;32m      <a href='vscode-notebook-cell:/c%3A/Users/helle/Documents/01_MainProjects/03_QSPRpred/Scripts/QSPRpred/tutorials/advanced/modelling/deep_learning_models.ipynb#W5sZmlsZQ%3D%3D?line=3'>4</a>\u001b[0m \u001b[39mfrom\u001b[39;00m \u001b[39mqsprpred\u001b[39;00m\u001b[39m.\u001b[39;00m\u001b[39mmodels\u001b[39;00m\u001b[39m.\u001b[39;00m\u001b[39mearly_stopping\u001b[39;00m \u001b[39mimport\u001b[39;00m EarlyStoppingMode\n\u001b[0;32m      <a href='vscode-notebook-cell:/c%3A/Users/helle/Documents/01_MainProjects/03_QSPRpred/Scripts/QSPRpred/tutorials/advanced/modelling/deep_learning_models.ipynb#W5sZmlsZQ%3D%3D?line=5'>6</a>\u001b[0m \u001b[39m# score_func = SklearnMetric.getMetric(name='r2')\u001b[39;00m\n\u001b[0;32m      <a href='vscode-notebook-cell:/c%3A/Users/helle/Documents/01_MainProjects/03_QSPRpred/Scripts/QSPRpred/tutorials/advanced/modelling/deep_learning_models.ipynb#W5sZmlsZQ%3D%3D?line=6'>7</a>\u001b[0m \n\u001b[0;32m      <a href='vscode-notebook-cell:/c%3A/Users/helle/Documents/01_MainProjects/03_QSPRpred/Scripts/QSPRpred/tutorials/advanced/modelling/deep_learning_models.ipynb#W5sZmlsZQ%3D%3D?line=7'>8</a>\u001b[0m \u001b[39m# # Define the search space\u001b[39;00m\n\u001b[1;32m   (...)\u001b[0m\n\u001b[0;32m     <a href='vscode-notebook-cell:/c%3A/Users/helle/Documents/01_MainProjects/03_QSPRpred/Scripts/QSPRpred/tutorials/advanced/modelling/deep_learning_models.ipynb#W5sZmlsZQ%3D%3D?line=19'>20</a>\u001b[0m \n\u001b[0;32m     <a href='vscode-notebook-cell:/c%3A/Users/helle/Documents/01_MainProjects/03_QSPRpred/Scripts/QSPRpred/tutorials/advanced/modelling/deep_learning_models.ipynb#W5sZmlsZQ%3D%3D?line=20'>21</a>\u001b[0m \u001b[39m# fit the model on the whole dataset\u001b[39;00m\n\u001b[1;32m---> <a href='vscode-notebook-cell:/c%3A/Users/helle/Documents/01_MainProjects/03_QSPRpred/Scripts/QSPRpred/tutorials/advanced/modelling/deep_learning_models.ipynb#W5sZmlsZQ%3D%3D?line=21'>22</a>\u001b[0m model\u001b[39m.\u001b[39;49mfitAttached(mode\u001b[39m=\u001b[39;49mEarlyStoppingMode\u001b[39m.\u001b[39;49mRECORDING)\n",
      "File \u001b[1;32m~\\Documents\\01_MainProjects\\03_QSPRpred\\Scripts\\QSPRpred\\qsprpred\\models\\interfaces.py:818\u001b[0m, in \u001b[0;36mQSPRModel.fitAttached\u001b[1;34m(self, monitor, **kwargs)\u001b[0m\n\u001b[0;32m    813\u001b[0m logger\u001b[39m.\u001b[39minfo(\n\u001b[0;32m    814\u001b[0m     \u001b[39m\"\u001b[39m\u001b[39mModel fit started: \u001b[39m\u001b[39m%s\u001b[39;00m\u001b[39m\"\u001b[39m \u001b[39m%\u001b[39m datetime\u001b[39m.\u001b[39mnow()\u001b[39m.\u001b[39mstrftime(\u001b[39m\"\u001b[39m\u001b[39m%\u001b[39m\u001b[39mY-\u001b[39m\u001b[39m%\u001b[39m\u001b[39mm-\u001b[39m\u001b[39m%d\u001b[39;00m\u001b[39m \u001b[39m\u001b[39m%\u001b[39m\u001b[39mH:\u001b[39m\u001b[39m%\u001b[39m\u001b[39mM:\u001b[39m\u001b[39m%\u001b[39m\u001b[39mS\u001b[39m\u001b[39m\"\u001b[39m)\n\u001b[0;32m    815\u001b[0m )\n\u001b[0;32m    816\u001b[0m \u001b[39m# Use early stopping false here, since we are fitting on the whole data set\u001b[39;00m\n\u001b[0;32m    817\u001b[0m \u001b[39m# the number of epochs is already determined from the cross-validation\u001b[39;00m\n\u001b[1;32m--> 818\u001b[0m \u001b[39mself\u001b[39m\u001b[39m.\u001b[39mestimator \u001b[39m=\u001b[39m \u001b[39mself\u001b[39m\u001b[39m.\u001b[39mfit(\n\u001b[0;32m    819\u001b[0m     X_all, y_all, mode\u001b[39m=\u001b[39mEarlyStoppingMode\u001b[39m.\u001b[39mOPTIMAL, monitor\u001b[39m=\u001b[39mmonitor, \u001b[39m*\u001b[39m\u001b[39m*\u001b[39mkwargs\n\u001b[0;32m    820\u001b[0m )\n\u001b[0;32m    821\u001b[0m logger\u001b[39m.\u001b[39minfo(\n\u001b[0;32m    822\u001b[0m     \u001b[39m\"\u001b[39m\u001b[39mModel fit ended: \u001b[39m\u001b[39m%s\u001b[39;00m\u001b[39m\"\u001b[39m \u001b[39m%\u001b[39m datetime\u001b[39m.\u001b[39mnow()\u001b[39m.\u001b[39mstrftime(\u001b[39m\"\u001b[39m\u001b[39m%\u001b[39m\u001b[39mY-\u001b[39m\u001b[39m%\u001b[39m\u001b[39mm-\u001b[39m\u001b[39m%d\u001b[39;00m\u001b[39m \u001b[39m\u001b[39m%\u001b[39m\u001b[39mH:\u001b[39m\u001b[39m%\u001b[39m\u001b[39mM:\u001b[39m\u001b[39m%\u001b[39m\u001b[39mS\u001b[39m\u001b[39m\"\u001b[39m)\n\u001b[0;32m    823\u001b[0m )\n\u001b[0;32m    824\u001b[0m \u001b[39m# save model and return path\u001b[39;00m\n",
      "\u001b[1;31mTypeError\u001b[0m: qsprpred.models.early_stopping.early_stopping.<locals>.wrapper_fit() got multiple values for keyword argument 'mode'"
     ]
    }
   ],
   "source": [
    "from qsprpred.models.hyperparam_optimization import GridSearchOptimization\n",
    "from qsprpred.models.assessment_methods import CrossValAssessor, TestSetAssessor\n",
    "from qsprpred.models.metrics import SklearnMetric\n",
    "from qsprpred.models.early_stopping import EarlyStoppingMode\n",
    "\n",
    "# score_func = SklearnMetric.getMetric(name='r2')\n",
    "\n",
    "# # Define the search space\n",
    "# search_space = {\"lr\": [1e-4, 1e-3,], \"neurons_h1\" : [100, 200]}\n",
    "\n",
    "# gridsearcher = GridSearchOptimization(\n",
    "#     param_grid=search_space,\n",
    "#     model_assessor=TestSetAssessor(scoring=SklearnMetric.getDefaultMetric(model.task)),\n",
    "# )\n",
    "# gridsearcher.optimize(model)\n",
    "\n",
    "# # Create a CrossValAssessor object\n",
    "# CrossValAssessor(score_func, mode=EarlyStoppingMode.RECORDING)(model)\n",
    "# TestSetAssessor(score_func)(model)\n",
    "\n",
    "# fit the model on the whole dataset\n",
    "model.fitAttached(mode=EarlyStoppingMode.RECORDING)"
   ]
  }
 ],
 "metadata": {
  "kernelspec": {
   "display_name": "qsprpred",
   "language": "python",
   "name": "python3"
  },
  "language_info": {
   "codemirror_mode": {
    "name": "ipython",
    "version": 3
   },
   "file_extension": ".py",
   "mimetype": "text/x-python",
   "name": "python",
   "nbconvert_exporter": "python",
   "pygments_lexer": "ipython3",
   "version": "3.10.12"
  }
 },
 "nbformat": 4,
 "nbformat_minor": 2
}
