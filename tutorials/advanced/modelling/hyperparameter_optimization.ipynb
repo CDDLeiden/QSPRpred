{
 "cells": [
  {
   "cell_type": "markdown",
   "metadata": {},
   "source": [
    "# Hyperparameter Optimization\n",
    "\n",
    "In this tutorial we will give examples of how to use the hyperparameter optimization functionality of QSPRpred.\n",
    "\n",
    "QSPRpred has a base class `HyperparameterOptimization` which defines the basic functionality of hyperparameter optimization. \n",
    "All subclasses of this class must implement the `optimize` method which takes a `QSPRModel` class as input and returns the best hyperparameters for the model. The optimization classes also require an `ModelAssessment` object as input which is used to assess the performance of the model, see the [model assessment tutorial](../../basics/modelling/model_assessment.ipynb) for more information.\n",
    "As well as an score aggregation function to aggregate scores returned by the assessment classes into a single score (i.e. from different folds).\n",
    "\n",
    "There are currently two hyperparameter optimization classes implemented in QSPRpred, `GridSearchOptimization` and `OptunaOptimization`.\n",
    "In this tutorial we will show you how to use both of these classes to optimize the hyperparameters of a `KNeighborsRegressor` model, but you can find their documentation [here](https://cddleiden.github.io/QSPRpred/docs/api/qsprpred.models.html#module-qsprpred.models.hyperparam_optimization).\n",
    "\n",
    "Let's first load the dataset and create the model to optimize."
   ]
  },
  {
   "cell_type": "code",
   "execution_count": 1,
   "metadata": {
    "ExecuteTime": {
     "end_time": "2024-03-23T10:46:02.242577Z",
     "start_time": "2024-03-23T10:45:10.428861Z"
    }
   },
   "outputs": [
    {
     "name": "stderr",
     "output_type": "stream",
     "text": [
      "Failed to find the pandas get_adjustment() function to patch\n",
      "Failed to patch pandas - PandasTools will have limited functionality\n"
     ]
    },
    {
     "data": {
      "text/plain": "                                                                                      SMILES  \\\nQSPRID                                                                                         \nHyperparamOptTutorialTutorialDataset_0000  Cc1nn(-c2cc(NC(=O)CCN(C)C)nc(-c3ccc(C)o3)n2)c(...   \nHyperparamOptTutorialTutorialDataset_0001  Nc1c(C(=O)Nc2ccc([N+](=O)[O-])cc2)sc2c1cc1CCCC...   \nHyperparamOptTutorialTutorialDataset_0002   O=C(Nc1nc2ncccc2n2c(=O)n(-c3ccccc3)nc12)c1ccccc1   \nHyperparamOptTutorialTutorialDataset_0003  CNC(=O)C12CC1C(n1cnc3c1nc(C#CCCCCC(=O)OC)nc3NC...   \nHyperparamOptTutorialTutorialDataset_0004  CCCn1c(=O)c2c(nc3cc(OC)ccn32)n(CCCNC(=O)c2ccc(...   \n...                                                                                      ...   \nHyperparamOptTutorialTutorialDataset_4077     CNc1ncc(C(=O)NCc2ccc(OC)cc2)c2nc(-c3ccco3)nn12   \nHyperparamOptTutorialTutorialDataset_4078         Nc1nc(-c2ccco2)c2ncn(C(=O)NCCc3ccccc3)c2n1   \nHyperparamOptTutorialTutorialDataset_4079              Nc1nc(Nc2ccc(F)cc2)nc(CSc2nnc(N)s2)n1   \nHyperparamOptTutorialTutorialDataset_4080      CCCOc1ccc(C=Cc2cc3c(c(=O)n(C)c(=O)n3C)n2C)cc1   \nHyperparamOptTutorialTutorialDataset_4081           CCOC(=O)c1cnc(NCC(C)C)n2nc(-c3ccco3)nc12   \n\n                                           pchembl_value_Mean    Year  \\\nQSPRID                                                                  \nHyperparamOptTutorialTutorialDataset_0000                8.68  2008.0   \nHyperparamOptTutorialTutorialDataset_0001                4.82  2010.0   \nHyperparamOptTutorialTutorialDataset_0002                5.65  2009.0   \nHyperparamOptTutorialTutorialDataset_0003                5.45  2009.0   \nHyperparamOptTutorialTutorialDataset_0004                5.20  2019.0   \n...                                                       ...     ...   \nHyperparamOptTutorialTutorialDataset_4077                7.09  2018.0   \nHyperparamOptTutorialTutorialDataset_4078                8.22  2008.0   \nHyperparamOptTutorialTutorialDataset_4079                4.89  2010.0   \nHyperparamOptTutorialTutorialDataset_4080                6.51  2013.0   \nHyperparamOptTutorialTutorialDataset_4081                7.35  2014.0   \n\n                                                                              QSPRID  \\\nQSPRID                                                                                 \nHyperparamOptTutorialTutorialDataset_0000  HyperparamOptTutorialTutorialDataset_0000   \nHyperparamOptTutorialTutorialDataset_0001  HyperparamOptTutorialTutorialDataset_0001   \nHyperparamOptTutorialTutorialDataset_0002  HyperparamOptTutorialTutorialDataset_0002   \nHyperparamOptTutorialTutorialDataset_0003  HyperparamOptTutorialTutorialDataset_0003   \nHyperparamOptTutorialTutorialDataset_0004  HyperparamOptTutorialTutorialDataset_0004   \n...                                                                              ...   \nHyperparamOptTutorialTutorialDataset_4077  HyperparamOptTutorialTutorialDataset_4077   \nHyperparamOptTutorialTutorialDataset_4078  HyperparamOptTutorialTutorialDataset_4078   \nHyperparamOptTutorialTutorialDataset_4079  HyperparamOptTutorialTutorialDataset_4079   \nHyperparamOptTutorialTutorialDataset_4080  HyperparamOptTutorialTutorialDataset_4080   \nHyperparamOptTutorialTutorialDataset_4081  HyperparamOptTutorialTutorialDataset_4081   \n\n                                           pchembl_value_Mean_original  \nQSPRID                                                                  \nHyperparamOptTutorialTutorialDataset_0000                         8.68  \nHyperparamOptTutorialTutorialDataset_0001                         4.82  \nHyperparamOptTutorialTutorialDataset_0002                         5.65  \nHyperparamOptTutorialTutorialDataset_0003                         5.45  \nHyperparamOptTutorialTutorialDataset_0004                         5.20  \n...                                                                ...  \nHyperparamOptTutorialTutorialDataset_4077                         7.09  \nHyperparamOptTutorialTutorialDataset_4078                         8.22  \nHyperparamOptTutorialTutorialDataset_4079                         4.89  \nHyperparamOptTutorialTutorialDataset_4080                         6.51  \nHyperparamOptTutorialTutorialDataset_4081                         7.35  \n\n[4082 rows x 5 columns]",
      "text/html": "<div>\n<style scoped>\n    .dataframe tbody tr th:only-of-type {\n        vertical-align: middle;\n    }\n\n    .dataframe tbody tr th {\n        vertical-align: top;\n    }\n\n    .dataframe thead th {\n        text-align: right;\n    }\n</style>\n<table border=\"1\" class=\"dataframe\">\n  <thead>\n    <tr style=\"text-align: right;\">\n      <th></th>\n      <th>SMILES</th>\n      <th>pchembl_value_Mean</th>\n      <th>Year</th>\n      <th>QSPRID</th>\n      <th>pchembl_value_Mean_original</th>\n    </tr>\n    <tr>\n      <th>QSPRID</th>\n      <th></th>\n      <th></th>\n      <th></th>\n      <th></th>\n      <th></th>\n    </tr>\n  </thead>\n  <tbody>\n    <tr>\n      <th>HyperparamOptTutorialTutorialDataset_0000</th>\n      <td>Cc1nn(-c2cc(NC(=O)CCN(C)C)nc(-c3ccc(C)o3)n2)c(...</td>\n      <td>8.68</td>\n      <td>2008.0</td>\n      <td>HyperparamOptTutorialTutorialDataset_0000</td>\n      <td>8.68</td>\n    </tr>\n    <tr>\n      <th>HyperparamOptTutorialTutorialDataset_0001</th>\n      <td>Nc1c(C(=O)Nc2ccc([N+](=O)[O-])cc2)sc2c1cc1CCCC...</td>\n      <td>4.82</td>\n      <td>2010.0</td>\n      <td>HyperparamOptTutorialTutorialDataset_0001</td>\n      <td>4.82</td>\n    </tr>\n    <tr>\n      <th>HyperparamOptTutorialTutorialDataset_0002</th>\n      <td>O=C(Nc1nc2ncccc2n2c(=O)n(-c3ccccc3)nc12)c1ccccc1</td>\n      <td>5.65</td>\n      <td>2009.0</td>\n      <td>HyperparamOptTutorialTutorialDataset_0002</td>\n      <td>5.65</td>\n    </tr>\n    <tr>\n      <th>HyperparamOptTutorialTutorialDataset_0003</th>\n      <td>CNC(=O)C12CC1C(n1cnc3c1nc(C#CCCCCC(=O)OC)nc3NC...</td>\n      <td>5.45</td>\n      <td>2009.0</td>\n      <td>HyperparamOptTutorialTutorialDataset_0003</td>\n      <td>5.45</td>\n    </tr>\n    <tr>\n      <th>HyperparamOptTutorialTutorialDataset_0004</th>\n      <td>CCCn1c(=O)c2c(nc3cc(OC)ccn32)n(CCCNC(=O)c2ccc(...</td>\n      <td>5.20</td>\n      <td>2019.0</td>\n      <td>HyperparamOptTutorialTutorialDataset_0004</td>\n      <td>5.20</td>\n    </tr>\n    <tr>\n      <th>...</th>\n      <td>...</td>\n      <td>...</td>\n      <td>...</td>\n      <td>...</td>\n      <td>...</td>\n    </tr>\n    <tr>\n      <th>HyperparamOptTutorialTutorialDataset_4077</th>\n      <td>CNc1ncc(C(=O)NCc2ccc(OC)cc2)c2nc(-c3ccco3)nn12</td>\n      <td>7.09</td>\n      <td>2018.0</td>\n      <td>HyperparamOptTutorialTutorialDataset_4077</td>\n      <td>7.09</td>\n    </tr>\n    <tr>\n      <th>HyperparamOptTutorialTutorialDataset_4078</th>\n      <td>Nc1nc(-c2ccco2)c2ncn(C(=O)NCCc3ccccc3)c2n1</td>\n      <td>8.22</td>\n      <td>2008.0</td>\n      <td>HyperparamOptTutorialTutorialDataset_4078</td>\n      <td>8.22</td>\n    </tr>\n    <tr>\n      <th>HyperparamOptTutorialTutorialDataset_4079</th>\n      <td>Nc1nc(Nc2ccc(F)cc2)nc(CSc2nnc(N)s2)n1</td>\n      <td>4.89</td>\n      <td>2010.0</td>\n      <td>HyperparamOptTutorialTutorialDataset_4079</td>\n      <td>4.89</td>\n    </tr>\n    <tr>\n      <th>HyperparamOptTutorialTutorialDataset_4080</th>\n      <td>CCCOc1ccc(C=Cc2cc3c(c(=O)n(C)c(=O)n3C)n2C)cc1</td>\n      <td>6.51</td>\n      <td>2013.0</td>\n      <td>HyperparamOptTutorialTutorialDataset_4080</td>\n      <td>6.51</td>\n    </tr>\n    <tr>\n      <th>HyperparamOptTutorialTutorialDataset_4081</th>\n      <td>CCOC(=O)c1cnc(NCC(C)C)n2nc(-c3ccco3)nc12</td>\n      <td>7.35</td>\n      <td>2014.0</td>\n      <td>HyperparamOptTutorialTutorialDataset_4081</td>\n      <td>7.35</td>\n    </tr>\n  </tbody>\n</table>\n<p>4082 rows × 5 columns</p>\n</div>"
     },
     "metadata": {},
     "output_type": "display_data"
    }
   ],
   "source": [
    "import os\n",
    "\n",
    "from IPython.display import display\n",
    "\n",
    "from qsprpred.data import QSPRDataset, RandomSplit\n",
    "from qsprpred.data.descriptors.fingerprints import MorganFP\n",
    "\n",
    "os.makedirs(\"../../tutorial_output/data\", exist_ok=True)\n",
    "\n",
    "dataset = QSPRDataset.fromTableFile(\n",
    "    filename='../../tutorial_data/A2A_LIGANDS.tsv',\n",
    "    store_dir=\"../../tutorial_output/data\",\n",
    "    name=\"HyperparamOptTutorialTutorialDataset\",\n",
    "    target_props=[{\"name\": \"pchembl_value_Mean\", \"task\": \"REGRESSION\"}],\n",
    "    random_state=42\n",
    ")\n",
    "dataset.sample(500)\n",
    "\n",
    "display(dataset.getDF())\n",
    "\n",
    "# calculate compound features and split dataset into train and test\n",
    "dataset.prepareDataset(\n",
    "    split=RandomSplit(test_fraction=0.2, dataset=dataset),\n",
    "    feature_calculators=[MorganFP(radius=3, nBits=2048)],\n",
    "    recalculate_features=True,\n",
    ")\n",
    "\n",
    "dataset.getDF().head()\n",
    "\n",
    "from qsprpred.models import SklearnModel\n",
    "from sklearn.neighbors import KNeighborsRegressor\n",
    "\n",
    "os.makedirs(\"../../tutorial_output/models\", exist_ok=True)\n",
    "\n",
    "# This is an SKlearn model, so we will initialize it with the SklearnModel class\n",
    "model = SklearnModel(\n",
    "    base_dir='../../tutorial_output/models',\n",
    "    alg=KNeighborsRegressor,\n",
    "    name='HyperparamOptTutorialModel',\n",
    ")"
   ]
  },
  {
   "cell_type": "markdown",
   "metadata": {},
   "source": [
    "# Grid search\n",
    "Grid search is a simple hyperparameter optimization method which simply tries all combinations of hyperparameters in a grid and returns the best combination. We will first specify the grid of hyperparameters to search over."
   ]
  },
  {
   "cell_type": "code",
   "outputs": [
    {
     "data": {
      "text/plain": "('/home/sichom/projects/QSPRpred/tutorials/tutorial_output/models/HyperparamOptTutorialModel/HyperparamOptTutorialModel_meta.json',\n '/home/sichom/projects/QSPRpred/tutorials/tutorial_output/models/HyperparamOptTutorialModel/HyperparamOptTutorialModel.json')"
     },
     "execution_count": 2,
     "metadata": {},
     "output_type": "execute_result"
    }
   ],
   "source": [
    "meta_file, estimator_file = model.save(save_estimator=True)\n",
    "meta_file, estimator_file"
   ],
   "metadata": {
    "collapsed": false,
    "ExecuteTime": {
     "end_time": "2024-03-23T10:46:02.258661Z",
     "start_time": "2024-03-23T10:46:02.245288Z"
    }
   },
   "execution_count": 2
  },
  {
   "cell_type": "code",
   "outputs": [
    {
     "name": "stdout",
     "output_type": "stream",
     "text": [
      "{\n",
      "    \"unfitted\": true,\n",
      "    \"meta\": [\n",
      "        \"sklearn.neighbors._regression\",\n",
      "        \"KNeighborsRegressor\"\n",
      "    ],\n",
      "    \"params\": {\n",
      "        \"algorithm\": \"auto\",\n",
      "        \"leaf_size\": 30,\n",
      "        \"metric\": \"minkowski\",\n",
      "        \"metric_params\": null,\n",
      "        \"n_jobs\": null,\n",
      "        \"n_neighbors\": 5,\n",
      "        \"p\": 2,\n",
      "        \"weights\": \"uniform\"\n",
      "    },\n",
      "    \"versions\": [\n",
      "        \"sklearn\",\n",
      "        \"1.4.0\"\n",
      "    ]\n",
      "}\n"
     ]
    }
   ],
   "source": [
    "# read meta file and estimator file as json and print\n",
    "import json\n",
    "\n",
    "\n",
    "def print_json(file):\n",
    "    with open(file, 'r') as f:\n",
    "        data = json.load(f)\n",
    "        json_formatted_str = json.dumps(data, indent=4)\n",
    "        print(json_formatted_str)\n",
    "\n",
    "\n",
    "print_json(estimator_file)"
   ],
   "metadata": {
    "collapsed": false,
    "ExecuteTime": {
     "end_time": "2024-03-23T10:46:02.290721Z",
     "start_time": "2024-03-23T10:46:02.261271Z"
    }
   },
   "execution_count": 3
  },
  {
   "cell_type": "code",
   "outputs": [
    {
     "name": "stdout",
     "output_type": "stream",
     "text": [
      "{\n",
      "    \"unfitted\": true,\n",
      "    \"meta\": [\n",
      "        \"sklearn.neighbors._regression\",\n",
      "        \"KNeighborsRegressor\"\n",
      "    ],\n",
      "    \"params\": {\n",
      "        \"algorithm\": \"auto\",\n",
      "        \"leaf_size\": 30,\n",
      "        \"metric\": \"minkowski\",\n",
      "        \"metric_params\": null,\n",
      "        \"n_jobs\": null,\n",
      "        \"n_neighbors\": 5,\n",
      "        \"p\": 2,\n",
      "        \"weights\": \"uniform\"\n",
      "    },\n",
      "    \"versions\": [\n",
      "        \"sklearn\",\n",
      "        \"1.4.0\"\n",
      "    ]\n",
      "}\n"
     ]
    }
   ],
   "source": [
    "model.setParams({'n_neighbors': 1, 'weights': 'distance'})\n",
    "print_json(estimator_file)"
   ],
   "metadata": {
    "collapsed": false,
    "ExecuteTime": {
     "end_time": "2024-03-23T10:46:02.311387Z",
     "start_time": "2024-03-23T10:46:02.294813Z"
    }
   },
   "execution_count": 4
  },
  {
   "cell_type": "code",
   "outputs": [
    {
     "name": "stdout",
     "output_type": "stream",
     "text": [
      "{\n",
      "    \"unfitted\": true,\n",
      "    \"meta\": [\n",
      "        \"sklearn.neighbors._regression\",\n",
      "        \"KNeighborsRegressor\"\n",
      "    ],\n",
      "    \"params\": {\n",
      "        \"algorithm\": \"auto\",\n",
      "        \"leaf_size\": 30,\n",
      "        \"metric\": \"minkowski\",\n",
      "        \"metric_params\": null,\n",
      "        \"n_jobs\": null,\n",
      "        \"n_neighbors\": 1,\n",
      "        \"p\": 2,\n",
      "        \"weights\": \"distance\"\n",
      "    },\n",
      "    \"versions\": [\n",
      "        \"sklearn\",\n",
      "        \"1.4.0\"\n",
      "    ]\n",
      "}\n"
     ]
    }
   ],
   "source": [
    "model.save()\n",
    "print_json(estimator_file)"
   ],
   "metadata": {
    "collapsed": false,
    "ExecuteTime": {
     "end_time": "2024-03-23T10:46:02.332693Z",
     "start_time": "2024-03-23T10:46:02.314812Z"
    }
   },
   "execution_count": 5
  },
  {
   "cell_type": "code",
   "execution_count": 6,
   "metadata": {
    "ExecuteTime": {
     "end_time": "2024-03-23T10:46:05.865745Z",
     "start_time": "2024-03-23T10:46:02.334979Z"
    }
   },
   "outputs": [
    {
     "name": "stderr",
     "output_type": "stream",
     "text": [
      "qsprpred - WARNING - Random state supplied, but alg <class 'sklearn.neighbors._regression.KNeighborsRegressor'> does not support it. Ignoring this setting.\n"
     ]
    },
    {
     "data": {
      "text/plain": "{'n_neighbors': 5, 'weights': 'uniform'}"
     },
     "execution_count": 6,
     "metadata": {},
     "output_type": "execute_result"
    }
   ],
   "source": [
    "import numpy as np\n",
    "from qsprpred.models import GridSearchOptimization, CrossValAssessor\n",
    "\n",
    "# Define the search space\n",
    "search_space = {\"n_neighbors\": [3, 5], \"weights\": [\"uniform\"]}\n",
    "\n",
    "gridsearcher = GridSearchOptimization(\n",
    "    param_grid=search_space,\n",
    "    model_assessor=CrossValAssessor(scoring='r2'),\n",
    "    score_aggregation=np.median\n",
    ")\n",
    "gridsearcher.optimize(model, dataset)"
   ]
  },
  {
   "cell_type": "code",
   "outputs": [
    {
     "name": "stdout",
     "output_type": "stream",
     "text": [
      "{\n",
      "    \"unfitted\": true,\n",
      "    \"meta\": [\n",
      "        \"sklearn.neighbors._regression\",\n",
      "        \"KNeighborsRegressor\"\n",
      "    ],\n",
      "    \"params\": {\n",
      "        \"algorithm\": \"auto\",\n",
      "        \"leaf_size\": 30,\n",
      "        \"metric\": \"minkowski\",\n",
      "        \"metric_params\": null,\n",
      "        \"n_jobs\": null,\n",
      "        \"n_neighbors\": 5,\n",
      "        \"p\": 2,\n",
      "        \"weights\": \"uniform\"\n",
      "    },\n",
      "    \"versions\": [\n",
      "        \"sklearn\",\n",
      "        \"1.4.0\"\n",
      "    ]\n",
      "}\n"
     ]
    }
   ],
   "source": [
    "print_json(estimator_file)"
   ],
   "metadata": {
    "collapsed": false,
    "ExecuteTime": {
     "end_time": "2024-03-23T10:46:05.879122Z",
     "start_time": "2024-03-23T10:46:05.867709Z"
    }
   },
   "execution_count": 7
  },
  {
   "cell_type": "code",
   "outputs": [
    {
     "data": {
      "text/plain": "array([[7.154     ],\n       [8.356     ],\n       [4.712     ],\n       ...,\n       [5.87      ],\n       [4.834     ],\n       [6.92066667]])"
     },
     "execution_count": 8,
     "metadata": {},
     "output_type": "execute_result"
    }
   ],
   "source": [
    "model.fitDataset(dataset)\n",
    "model.predict(dataset)"
   ],
   "metadata": {
    "collapsed": false,
    "ExecuteTime": {
     "end_time": "2024-03-23T10:46:13.216795Z",
     "start_time": "2024-03-23T10:46:05.881579Z"
    }
   },
   "execution_count": 8
  },
  {
   "cell_type": "code",
   "outputs": [
    {
     "data": {
      "text/plain": "{'n_neighbors': 2, 'weights': 'uniform'}"
     },
     "execution_count": 9,
     "metadata": {},
     "output_type": "execute_result"
    }
   ],
   "source": [
    "search_space = {\"n_neighbors\": [1, 2], \"weights\": [\"uniform\"]}\n",
    "\n",
    "gridsearcher = GridSearchOptimization(\n",
    "    param_grid=search_space,\n",
    "    model_assessor=CrossValAssessor(scoring='r2'),\n",
    "    score_aggregation=np.median\n",
    ")\n",
    "gridsearcher.optimize(model, dataset)"
   ],
   "metadata": {
    "collapsed": false,
    "ExecuteTime": {
     "end_time": "2024-03-23T10:46:16.567958Z",
     "start_time": "2024-03-23T10:46:13.219163Z"
    }
   },
   "execution_count": 9
  },
  {
   "cell_type": "code",
   "outputs": [
    {
     "name": "stdout",
     "output_type": "stream",
     "text": [
      "{\n",
      "    \"unfitted\": true,\n",
      "    \"meta\": [\n",
      "        \"sklearn.neighbors._regression\",\n",
      "        \"KNeighborsRegressor\"\n",
      "    ],\n",
      "    \"params\": {\n",
      "        \"algorithm\": \"auto\",\n",
      "        \"leaf_size\": 30,\n",
      "        \"metric\": \"minkowski\",\n",
      "        \"metric_params\": null,\n",
      "        \"n_jobs\": null,\n",
      "        \"n_neighbors\": 2,\n",
      "        \"p\": 2,\n",
      "        \"weights\": \"uniform\"\n",
      "    },\n",
      "    \"versions\": [\n",
      "        \"sklearn\",\n",
      "        \"1.4.0\"\n",
      "    ]\n",
      "}\n"
     ]
    }
   ],
   "source": [
    "print_json(estimator_file)"
   ],
   "metadata": {
    "collapsed": false,
    "ExecuteTime": {
     "end_time": "2024-03-23T10:46:16.583642Z",
     "start_time": "2024-03-23T10:46:16.573180Z"
    }
   },
   "execution_count": 10
  },
  {
   "cell_type": "code",
   "outputs": [
    {
     "data": {
      "text/plain": "{'algorithm': 'auto',\n 'leaf_size': 30,\n 'metric': 'minkowski',\n 'metric_params': None,\n 'n_jobs': None,\n 'n_neighbors': 2,\n 'p': 2,\n 'weights': 'uniform'}"
     },
     "execution_count": 11,
     "metadata": {},
     "output_type": "execute_result"
    }
   ],
   "source": [
    "model.estimator.get_params()"
   ],
   "metadata": {
    "collapsed": false,
    "ExecuteTime": {
     "end_time": "2024-03-23T10:46:16.603375Z",
     "start_time": "2024-03-23T10:46:16.585934Z"
    }
   },
   "execution_count": 11
  },
  {
   "cell_type": "code",
   "outputs": [
    {
     "data": {
      "text/plain": "array([[7.57 ],\n       [8.335],\n       [4.88 ],\n       ...,\n       [6.195],\n       [4.925],\n       [6.805]])"
     },
     "execution_count": 12,
     "metadata": {},
     "output_type": "execute_result"
    }
   ],
   "source": [
    "model.fitDataset(dataset)\n",
    "model.predict(dataset)"
   ],
   "metadata": {
    "collapsed": false,
    "ExecuteTime": {
     "end_time": "2024-03-23T10:46:23.576482Z",
     "start_time": "2024-03-23T10:46:16.607019Z"
    }
   },
   "execution_count": 12
  },
  {
   "cell_type": "markdown",
   "metadata": {},
   "source": [
    "# Optuna\n",
    "In addition to the grid search, it is possible to use [Optuna](https://optuna.org/) to optimize the hyperparameters of a model. Optuna is a hyperparameter optimization framework which uses Bayesian optimization to find the best hyperparameters.\n",
    "\n",
    "Mainly, setting up the optimization is the same as for grid search, however, when specifiying the \n",
    "search space we need to also specify the type of each hyperparameter. This is because Optuna needs to know how to sample the hyperparameters.\n",
    "Aside from the search space, we also need to specify the number of trials to run, which is the number of different hyperparameter combinations to try. In this case, we will also use the `TestSetAssessor` to assess the performance of the model on the test set, to show the different ways of assessing the performance of the model in the optimization.\n"
   ]
  },
  {
   "cell_type": "code",
   "execution_count": 13,
   "metadata": {
    "ExecuteTime": {
     "end_time": "2024-03-23T10:46:33.133297Z",
     "start_time": "2024-03-23T10:46:23.578772Z"
    }
   },
   "outputs": [
    {
     "name": "stderr",
     "output_type": "stream",
     "text": [
      "[I 2024-03-23 11:46:23,595] A new study created in memory with name: no-name-ed29e01e-44dd-43b2-9142-32c0ab8ed731\n",
      "[I 2024-03-23 11:46:24,212] Trial 0 finished with value: 0.6314076647146836 and parameters: {'n_neighbors': 4, 'weights': 'uniform'}. Best is trial 0 with value: 0.6314076647146836.\n",
      "[I 2024-03-23 11:46:24,810] Trial 1 finished with value: 0.6244271327283943 and parameters: {'n_neighbors': 6, 'weights': 'uniform'}. Best is trial 0 with value: 0.6314076647146836.\n",
      "[I 2024-03-23 11:46:25,405] Trial 2 finished with value: 0.486307378093249 and parameters: {'n_neighbors': 1, 'weights': 'uniform'}. Best is trial 0 with value: 0.6314076647146836.\n",
      "[I 2024-03-23 11:46:26,021] Trial 3 finished with value: 0.6297875073289022 and parameters: {'n_neighbors': 8, 'weights': 'distance'}. Best is trial 0 with value: 0.6314076647146836.\n",
      "[I 2024-03-23 11:46:26,590] Trial 4 finished with value: 0.6158780548550493 and parameters: {'n_neighbors': 9, 'weights': 'uniform'}. Best is trial 0 with value: 0.6314076647146836.\n",
      "[I 2024-03-23 11:46:27,171] Trial 5 finished with value: 0.5942176906581796 and parameters: {'n_neighbors': 2, 'weights': 'distance'}. Best is trial 0 with value: 0.6314076647146836.\n",
      "[I 2024-03-23 11:46:27,762] Trial 6 finished with value: 0.637380168234392 and parameters: {'n_neighbors': 5, 'weights': 'distance'}. Best is trial 6 with value: 0.637380168234392.\n",
      "[I 2024-03-23 11:46:28,355] Trial 7 finished with value: 0.5942176906581796 and parameters: {'n_neighbors': 2, 'weights': 'distance'}. Best is trial 6 with value: 0.637380168234392.\n",
      "[I 2024-03-23 11:46:29,013] Trial 8 finished with value: 0.6306764992899814 and parameters: {'n_neighbors': 5, 'weights': 'uniform'}. Best is trial 6 with value: 0.637380168234392.\n",
      "[I 2024-03-23 11:46:29,622] Trial 9 finished with value: 0.6244271327283943 and parameters: {'n_neighbors': 6, 'weights': 'uniform'}. Best is trial 6 with value: 0.637380168234392.\n"
     ]
    },
    {
     "data": {
      "text/plain": "{'n_neighbors': 5, 'weights': 'distance'}"
     },
     "execution_count": 13,
     "metadata": {},
     "output_type": "execute_result"
    }
   ],
   "source": [
    "from qsprpred.models import OptunaOptimization, TestSetAssessor\n",
    "\n",
    "# Note the specification of the hyperparameter types as first item in the list\n",
    "search_space = {\"n_neighbors\": [\"int\", 1, 10],\n",
    "                \"weights\": [\"categorical\", [\"uniform\", \"distance\"]]}\n",
    "\n",
    "# Optuna gridsearcher with the TestSetAssessor\n",
    "gridsearcher = OptunaOptimization(\n",
    "    n_trials=10,\n",
    "    param_grid=search_space,\n",
    "    model_assessor=TestSetAssessor(scoring='r2'),\n",
    ")\n",
    "gridsearcher.optimize(model, dataset, refit_optimal=True)"
   ]
  },
  {
   "cell_type": "markdown",
   "metadata": {},
   "source": [
    "After hyperparameter optimization the best hyperparameters are set to the model and all subsequent fits will use these parameters unless specified otherwise. Furthermore, the best parameters are saved to a json file in the model output directory with the suffix `_params.json` and will be loaded automatically when the model is loaded."
   ]
  },
  {
   "cell_type": "code",
   "outputs": [
    {
     "data": {
      "text/plain": "{'algorithm': 'auto',\n 'leaf_size': 30,\n 'metric': 'minkowski',\n 'metric_params': None,\n 'n_jobs': None,\n 'n_neighbors': 5,\n 'p': 2,\n 'weights': 'distance'}"
     },
     "execution_count": 14,
     "metadata": {},
     "output_type": "execute_result"
    }
   ],
   "source": [
    "model.estimator.get_params()"
   ],
   "metadata": {
    "collapsed": false,
    "ExecuteTime": {
     "end_time": "2024-03-23T10:46:33.147396Z",
     "start_time": "2024-03-23T10:46:33.137456Z"
    }
   },
   "execution_count": 14
  },
  {
   "cell_type": "code",
   "outputs": [
    {
     "data": {
      "text/plain": "array([[7.2       ],\n       [8.07      ],\n       [4.8       ],\n       ...,\n       [5.99714729],\n       [4.95978074],\n       [6.70326748]])"
     },
     "execution_count": 15,
     "metadata": {},
     "output_type": "execute_result"
    }
   ],
   "source": [
    "model.predict(dataset)"
   ],
   "metadata": {
    "collapsed": false,
    "ExecuteTime": {
     "end_time": "2024-03-23T10:46:35.141819Z",
     "start_time": "2024-03-23T10:46:33.150219Z"
    }
   },
   "execution_count": 15
  },
  {
   "cell_type": "code",
   "outputs": [],
   "source": [],
   "metadata": {
    "collapsed": false,
    "ExecuteTime": {
     "end_time": "2024-03-23T10:46:35.148045Z",
     "start_time": "2024-03-23T10:46:35.143979Z"
    }
   },
   "execution_count": 15
  }
 ],
 "metadata": {
  "kernelspec": {
   "display_name": "Python 3 (ipykernel)",
   "language": "python",
   "name": "python3"
  },
  "language_info": {
   "codemirror_mode": {
    "name": "ipython",
    "version": 3
   },
   "file_extension": ".py",
   "mimetype": "text/x-python",
   "name": "python",
   "nbconvert_exporter": "python",
   "pygments_lexer": "ipython3",
   "version": "3.10.13"
  }
 },
 "nbformat": 4,
 "nbformat_minor": 4
}
