{
 "cells": [
  {
   "cell_type": "markdown",
   "metadata": {},
   "source": [
    "# PCM Modeling\n",
    "\n",
    "In this section of the tutorial, we will use the knowledge from all previous tutorials to construct a simple PCM classification model for a small list of adenosine receptors.\n",
    "\n",
    "## Data Preparation\n",
    "\n",
    "Most of the data preparation steps are already provided in  [data_preparation_advanced](./data_preparation_advanced.ipynb) so we will again use an already prepared dataset from the `datasets.py` module:"
   ]
  },
  {
   "cell_type": "code",
   "execution_count": 3,
   "metadata": {
    "ExecuteTime": {
     "end_time": "2023-06-09T06:56:25.319919368Z",
     "start_time": "2023-06-09T06:56:09.644396350Z"
    },
    "collapsed": false,
    "jupyter": {
     "outputs_hidden": false
    }
   },
   "outputs": [
    {
     "name": "stdout",
     "output_type": "stream",
     "text": [
      "########## DISCLAIMER ##########\n",
      "You are downloading the high-quality Papyrus++ dataset.\n",
      "Should you want to access the entire, though of lower quality, Papyrus dataset,\n",
      "look into additional switches of this command.\n",
      "################################\n",
      "Number of files to be downloaded: 3\n",
      "Total size: 33.0MB\n"
     ]
    },
    {
     "data": {
      "application/vnd.jupyter.widget-view+json": {
       "model_id": "808872e90da04053b9a8d5cdb8fed436",
       "version_major": 2,
       "version_minor": 0
      },
      "text/plain": [
       "Downloading version 05.6:   0%|          | 0.00/33.0M [00:00<?, ?B/s]"
      ]
     },
     "metadata": {},
     "output_type": "display_data"
    },
    {
     "name": "stdout",
     "output_type": "stream",
     "text": [
      "Using existing data from data/AR_LIGANDS.tsv...\n"
     ]
    },
    {
     "name": "stderr",
     "output_type": "stream",
     "text": [
      "/home/chichi148/Projects/QSPRpred/qsprpred/data/data.py:598: UserWarning: Existing data set found, but also found a data frame in store. Refusing to overwrite data. If you want to overwrite data in store, set overwrite=True.\n",
      "  super().__init__(\n"
     ]
    },
    {
     "ename": "FileNotFoundError",
     "evalue": "[Errno 2] No such file or directory: 'data/AR_LIGANDS_df.pkl.seed'",
     "output_type": "error",
     "traceback": [
      "\u001b[0;31m---------------------------------------------------------------------------\u001b[0m",
      "\u001b[0;31mFileNotFoundError\u001b[0m                         Traceback (most recent call last)",
      "Cell \u001b[0;32mIn[3], line 5\u001b[0m\n\u001b[1;32m      1\u001b[0m \u001b[38;5;28;01mfrom\u001b[39;00m \u001b[38;5;21;01mdatasets\u001b[39;00m \u001b[38;5;28;01mimport\u001b[39;00m AR_PCM\n\u001b[1;32m      3\u001b[0m random_state\u001b[38;5;241m=\u001b[39m\u001b[38;5;241m42\u001b[39m\n\u001b[0;32m----> 5\u001b[0m ds \u001b[38;5;241m=\u001b[39m \u001b[43mAR_PCM\u001b[49m\u001b[43m(\u001b[49m\u001b[43mrandom_state\u001b[49m\u001b[38;5;241;43m=\u001b[39;49m\u001b[43mrandom_state\u001b[49m\u001b[43m)\u001b[49m\n\u001b[1;32m      6\u001b[0m \u001b[38;5;28mprint\u001b[39m(ds\u001b[38;5;241m.\u001b[39mproteinCol)\n\u001b[1;32m      7\u001b[0m \u001b[38;5;28mprint\u001b[39m(ds\u001b[38;5;241m.\u001b[39mproteinSeqProvider)\n",
      "File \u001b[0;32m~/Projects/QSPRpred/tutorial/datasets.py:161\u001b[0m, in \u001b[0;36mAR_PCM\u001b[0;34m(data_dir, random_state)\u001b[0m\n\u001b[1;32m    152\u001b[0m papyrus_version \u001b[38;5;241m=\u001b[39m \u001b[38;5;124m\"\u001b[39m\u001b[38;5;124m05.6\u001b[39m\u001b[38;5;124m\"\u001b[39m  \u001b[38;5;66;03m# Papyrus database version\u001b[39;00m\n\u001b[1;32m    154\u001b[0m papyrus \u001b[38;5;241m=\u001b[39m Papyrus(\n\u001b[1;32m    155\u001b[0m     data_dir\u001b[38;5;241m=\u001b[39mdata_dir,\n\u001b[1;32m    156\u001b[0m     stereo\u001b[38;5;241m=\u001b[39m\u001b[38;5;28;01mFalse\u001b[39;00m,\n\u001b[1;32m    157\u001b[0m     version\u001b[38;5;241m=\u001b[39mpapyrus_version,\n\u001b[1;32m    158\u001b[0m     plus_only\u001b[38;5;241m=\u001b[39m\u001b[38;5;28;01mTrue\u001b[39;00m,\n\u001b[1;32m    159\u001b[0m )\n\u001b[0;32m--> 161\u001b[0m mt \u001b[38;5;241m=\u001b[39m \u001b[43mpapyrus\u001b[49m\u001b[38;5;241;43m.\u001b[39;49m\u001b[43mgetData\u001b[49m\u001b[43m(\u001b[49m\u001b[43macc_keys\u001b[49m\u001b[43m,\u001b[49m\u001b[43m \u001b[49m\u001b[43mquality\u001b[49m\u001b[43m,\u001b[49m\u001b[43m \u001b[49m\u001b[43mname\u001b[49m\u001b[38;5;241;43m=\u001b[39;49m\u001b[43mdataset_name\u001b[49m\u001b[43m,\u001b[49m\u001b[43m \u001b[49m\u001b[43muse_existing\u001b[49m\u001b[38;5;241;43m=\u001b[39;49m\u001b[38;5;28;43;01mTrue\u001b[39;49;00m\u001b[43m)\u001b[49m\n\u001b[1;32m    162\u001b[0m ds_seq \u001b[38;5;241m=\u001b[39m papyrus\u001b[38;5;241m.\u001b[39mgetProteinData(acc_keys, name\u001b[38;5;241m=\u001b[39m\u001b[38;5;124mf\u001b[39m\u001b[38;5;124m\"\u001b[39m\u001b[38;5;132;01m{\u001b[39;00mmt\u001b[38;5;241m.\u001b[39mname\u001b[38;5;132;01m}\u001b[39;00m\u001b[38;5;124m_seqs\u001b[39m\u001b[38;5;124m\"\u001b[39m, use_existing\u001b[38;5;241m=\u001b[39m\u001b[38;5;28;01mTrue\u001b[39;00m)\n\u001b[1;32m    164\u001b[0m \u001b[38;5;28;01mdef\u001b[39;00m \u001b[38;5;21msequence_provider\u001b[39m(acc_keys):\n",
      "File \u001b[0;32m~/Projects/QSPRpred/qsprpred/data/sources/papyrus/papyrus_class.py:130\u001b[0m, in \u001b[0;36mPapyrus.getData\u001b[0;34m(self, acc_keys, quality, activity_types, output_dir, name, drop_duplicates, chunk_size, use_existing, **kwargs)\u001b[0m\n\u001b[1;32m    116\u001b[0m     \u001b[38;5;28;01mraise\u001b[39;00m \u001b[38;5;167;01mValueError\u001b[39;00m(\u001b[38;5;124mf\u001b[39m\u001b[38;5;124m\"\u001b[39m\u001b[38;5;124mOutput directory \u001b[39m\u001b[38;5;124m'\u001b[39m\u001b[38;5;132;01m{\u001b[39;00moutput_dir\u001b[38;5;132;01m}\u001b[39;00m\u001b[38;5;124m'\u001b[39m\u001b[38;5;124m does not exist.\u001b[39m\u001b[38;5;124m\"\u001b[39m)\n\u001b[1;32m    117\u001b[0m data, path \u001b[38;5;241m=\u001b[39m papyrus_filter(\n\u001b[1;32m    118\u001b[0m     acc_key\u001b[38;5;241m=\u001b[39macc_keys,\n\u001b[1;32m    119\u001b[0m     quality\u001b[38;5;241m=\u001b[39mquality,\n\u001b[0;32m   (...)\u001b[0m\n\u001b[1;32m    128\u001b[0m     papyrus_dir\u001b[38;5;241m=\u001b[39m\u001b[38;5;28mself\u001b[39m\u001b[38;5;241m.\u001b[39mdataDir,\n\u001b[1;32m    129\u001b[0m )\n\u001b[0;32m--> 130\u001b[0m \u001b[38;5;28;01mreturn\u001b[39;00m \u001b[43mMoleculeTable\u001b[49m\u001b[38;5;241;43m.\u001b[39;49m\u001b[43mfromTableFile\u001b[49m\u001b[43m(\u001b[49m\u001b[43mname\u001b[49m\u001b[43m,\u001b[49m\u001b[43m \u001b[49m\u001b[43mpath\u001b[49m\u001b[43m,\u001b[49m\u001b[43m \u001b[49m\u001b[43mstore_dir\u001b[49m\u001b[38;5;241;43m=\u001b[39;49m\u001b[43moutput_dir\u001b[49m\u001b[43m,\u001b[49m\u001b[43m \u001b[49m\u001b[38;5;241;43m*\u001b[39;49m\u001b[38;5;241;43m*\u001b[39;49m\u001b[43mkwargs\u001b[49m\u001b[43m)\u001b[49m\n",
      "File \u001b[0;32m~/Projects/QSPRpred/qsprpred/data/data.py:733\u001b[0m, in \u001b[0;36mMoleculeTable.fromTableFile\u001b[0;34m(name, filename, sep, *args, **kwargs)\u001b[0m\n\u001b[1;32m    720\u001b[0m \u001b[38;5;129m@staticmethod\u001b[39m\n\u001b[1;32m    721\u001b[0m \u001b[38;5;28;01mdef\u001b[39;00m \u001b[38;5;21mfromTableFile\u001b[39m(name: \u001b[38;5;28mstr\u001b[39m, filename: \u001b[38;5;28mstr\u001b[39m, sep\u001b[38;5;241m=\u001b[39m\u001b[38;5;124m\"\u001b[39m\u001b[38;5;130;01m\\t\u001b[39;00m\u001b[38;5;124m\"\u001b[39m, \u001b[38;5;241m*\u001b[39margs, \u001b[38;5;241m*\u001b[39m\u001b[38;5;241m*\u001b[39mkwargs):\n\u001b[1;32m    722\u001b[0m     \u001b[38;5;124;03m\"\"\"Create a `MoleculeTable` instance from a file containing a table of molecules\u001b[39;00m\n\u001b[1;32m    723\u001b[0m \u001b[38;5;124;03m    (i.e. a CSV file).\u001b[39;00m\n\u001b[1;32m    724\u001b[0m \n\u001b[0;32m   (...)\u001b[0m\n\u001b[1;32m    731\u001b[0m \u001b[38;5;124;03m            constructor.\u001b[39;00m\n\u001b[1;32m    732\u001b[0m \u001b[38;5;124;03m    \"\"\"\u001b[39;00m\n\u001b[0;32m--> 733\u001b[0m     \u001b[38;5;28;01mreturn\u001b[39;00m \u001b[43mMoleculeTable\u001b[49m\u001b[43m(\u001b[49m\u001b[43mname\u001b[49m\u001b[43m,\u001b[49m\u001b[43m \u001b[49m\u001b[43mpd\u001b[49m\u001b[38;5;241;43m.\u001b[39;49m\u001b[43mread_table\u001b[49m\u001b[43m(\u001b[49m\u001b[43mfilename\u001b[49m\u001b[43m,\u001b[49m\u001b[43m \u001b[49m\u001b[43msep\u001b[49m\u001b[38;5;241;43m=\u001b[39;49m\u001b[43msep\u001b[49m\u001b[43m)\u001b[49m\u001b[43m,\u001b[49m\u001b[43m \u001b[49m\u001b[38;5;241;43m*\u001b[39;49m\u001b[43margs\u001b[49m\u001b[43m,\u001b[49m\u001b[43m \u001b[49m\u001b[38;5;241;43m*\u001b[39;49m\u001b[38;5;241;43m*\u001b[39;49m\u001b[43mkwargs\u001b[49m\u001b[43m)\u001b[49m\n",
      "File \u001b[0;32m~/Projects/QSPRpred/qsprpred/data/data.py:598\u001b[0m, in \u001b[0;36mMoleculeTable.__init__\u001b[0;34m(self, name, df, smiles_col, add_rdkit, store_dir, overwrite, n_jobs, chunk_size, drop_invalids, index_cols, id_prefix, random_state)\u001b[0m\n\u001b[1;32m    596\u001b[0m \u001b[38;5;28mself\u001b[39m\u001b[38;5;241m.\u001b[39mdescriptors \u001b[38;5;241m=\u001b[39m []  \u001b[38;5;66;03m# holds descriptor tables for each calculator\u001b[39;00m\n\u001b[1;32m    597\u001b[0m \u001b[38;5;28mself\u001b[39m\u001b[38;5;241m.\u001b[39mdescriptorCalculatorsPathPrefix \u001b[38;5;241m=\u001b[39m \u001b[38;5;28;01mNone\u001b[39;00m\n\u001b[0;32m--> 598\u001b[0m \u001b[38;5;28;43msuper\u001b[39;49m\u001b[43m(\u001b[49m\u001b[43m)\u001b[49m\u001b[38;5;241;43m.\u001b[39;49m\u001b[38;5;21;43m__init__\u001b[39;49m\u001b[43m(\u001b[49m\n\u001b[1;32m    599\u001b[0m \u001b[43m    \u001b[49m\u001b[43mname\u001b[49m\u001b[43m,\u001b[49m\n\u001b[1;32m    600\u001b[0m \u001b[43m    \u001b[49m\u001b[43mdf\u001b[49m\u001b[43m,\u001b[49m\n\u001b[1;32m    601\u001b[0m \u001b[43m    \u001b[49m\u001b[43mstore_dir\u001b[49m\u001b[43m,\u001b[49m\n\u001b[1;32m    602\u001b[0m \u001b[43m    \u001b[49m\u001b[43moverwrite\u001b[49m\u001b[43m,\u001b[49m\n\u001b[1;32m    603\u001b[0m \u001b[43m    \u001b[49m\u001b[43mindex_cols\u001b[49m\u001b[43m,\u001b[49m\n\u001b[1;32m    604\u001b[0m \u001b[43m    \u001b[49m\u001b[43mn_jobs\u001b[49m\u001b[43m,\u001b[49m\n\u001b[1;32m    605\u001b[0m \u001b[43m    \u001b[49m\u001b[43mchunk_size\u001b[49m\u001b[43m,\u001b[49m\n\u001b[1;32m    606\u001b[0m \u001b[43m    \u001b[49m\u001b[43mid_prefix\u001b[49m\u001b[43m,\u001b[49m\n\u001b[1;32m    607\u001b[0m \u001b[43m    \u001b[49m\u001b[43mrandom_state\u001b[49m\n\u001b[1;32m    608\u001b[0m \u001b[43m\u001b[49m\u001b[43m)\u001b[49m\n\u001b[1;32m    609\u001b[0m \u001b[38;5;28;01mif\u001b[39;00m \u001b[38;5;129;01mnot\u001b[39;00m \u001b[38;5;28mself\u001b[39m\u001b[38;5;241m.\u001b[39mdescriptorCalculatorsPathPrefix:\n\u001b[1;32m    610\u001b[0m     \u001b[38;5;28mself\u001b[39m\u001b[38;5;241m.\u001b[39mdescriptorCalculatorsPathPrefix \u001b[38;5;241m=\u001b[39m (\n\u001b[1;32m    611\u001b[0m         \u001b[38;5;124mf\u001b[39m\u001b[38;5;124m\"\u001b[39m\u001b[38;5;132;01m{\u001b[39;00m\u001b[38;5;28mself\u001b[39m\u001b[38;5;241m.\u001b[39mstorePrefix\u001b[38;5;132;01m}\u001b[39;00m\u001b[38;5;124m_descriptor_calculator\u001b[39m\u001b[38;5;124m\"\u001b[39m\n\u001b[1;32m    612\u001b[0m     )\n",
      "File \u001b[0;32m~/Projects/QSPRpred/qsprpred/data/data.py:169\u001b[0m, in \u001b[0;36mPandasDataSet.__init__\u001b[0;34m(self, name, df, store_dir, overwrite, index_cols, n_jobs, chunk_size, id_prefix, random_state)\u001b[0m\n\u001b[1;32m    162\u001b[0m \u001b[38;5;28;01mif\u001b[39;00m \u001b[38;5;28mself\u001b[39m\u001b[38;5;241m.\u001b[39m_isInStore(\u001b[38;5;124m\"\u001b[39m\u001b[38;5;124mdf\u001b[39m\u001b[38;5;124m\"\u001b[39m) \u001b[38;5;129;01mand\u001b[39;00m \u001b[38;5;129;01mnot\u001b[39;00m overwrite:\n\u001b[1;32m    163\u001b[0m     warnings\u001b[38;5;241m.\u001b[39mwarn(\n\u001b[1;32m    164\u001b[0m         \u001b[38;5;124m\"\u001b[39m\u001b[38;5;124mExisting data set found, but also found a data frame in store. \u001b[39m\u001b[38;5;124m\"\u001b[39m\n\u001b[1;32m    165\u001b[0m         \u001b[38;5;124m\"\u001b[39m\u001b[38;5;124mRefusing to overwrite data. If you want to overwrite data in \u001b[39m\u001b[38;5;124m\"\u001b[39m\n\u001b[1;32m    166\u001b[0m         \u001b[38;5;124m\"\u001b[39m\u001b[38;5;124mstore, set overwrite=True.\u001b[39m\u001b[38;5;124m\"\u001b[39m,\n\u001b[1;32m    167\u001b[0m         stacklevel\u001b[38;5;241m=\u001b[39m\u001b[38;5;241m2\u001b[39m\n\u001b[1;32m    168\u001b[0m     )\n\u001b[0;32m--> 169\u001b[0m     \u001b[38;5;28;43mself\u001b[39;49m\u001b[38;5;241;43m.\u001b[39;49m\u001b[43mreload\u001b[49m\u001b[43m(\u001b[49m\u001b[43m)\u001b[49m\n\u001b[1;32m    170\u001b[0m \u001b[38;5;28;01melse\u001b[39;00m:\n\u001b[1;32m    171\u001b[0m     \u001b[38;5;28mself\u001b[39m\u001b[38;5;241m.\u001b[39mclearFiles()\n",
      "File \u001b[0;32m~/Projects/QSPRpred/qsprpred/data/data.py:640\u001b[0m, in \u001b[0;36mMoleculeTable.reload\u001b[0;34m(self)\u001b[0m\n\u001b[1;32m    638\u001b[0m \u001b[38;5;28;01mdef\u001b[39;00m \u001b[38;5;21mreload\u001b[39m(\u001b[38;5;28mself\u001b[39m):\n\u001b[1;32m    639\u001b[0m     \u001b[38;5;124;03m\"\"\"Reload the dataset from disk.\"\"\"\u001b[39;00m\n\u001b[0;32m--> 640\u001b[0m     \u001b[38;5;28;43msuper\u001b[39;49m\u001b[43m(\u001b[49m\u001b[43m)\u001b[49m\u001b[38;5;241;43m.\u001b[39;49m\u001b[43mreload\u001b[49m\u001b[43m(\u001b[49m\u001b[43m)\u001b[49m\n\u001b[1;32m    642\u001b[0m     \u001b[38;5;66;03m# load descriptor calculators and tables\u001b[39;00m\n\u001b[1;32m    643\u001b[0m     \u001b[38;5;28mself\u001b[39m\u001b[38;5;241m.\u001b[39mdescriptorCalculatorsPathPrefix \u001b[38;5;241m=\u001b[39m (\n\u001b[1;32m    644\u001b[0m         \u001b[38;5;124mf\u001b[39m\u001b[38;5;124m\"\u001b[39m\u001b[38;5;132;01m{\u001b[39;00m\u001b[38;5;28mself\u001b[39m\u001b[38;5;241m.\u001b[39mstorePrefix\u001b[38;5;132;01m}\u001b[39;00m\u001b[38;5;124m_descriptor_calculator\u001b[39m\u001b[38;5;124m\"\u001b[39m\n\u001b[1;32m    645\u001b[0m     )\n",
      "File \u001b[0;32m~/Projects/QSPRpred/qsprpred/data/data.py:447\u001b[0m, in \u001b[0;36mPandasDataSet.reload\u001b[0;34m(self)\u001b[0m\n\u001b[1;32m    445\u001b[0m \u001b[38;5;28mself\u001b[39m\u001b[38;5;241m.\u001b[39mdf \u001b[38;5;241m=\u001b[39m pd\u001b[38;5;241m.\u001b[39mread_pickle(\u001b[38;5;28mself\u001b[39m\u001b[38;5;241m.\u001b[39mstorePath)\n\u001b[1;32m    446\u001b[0m \u001b[38;5;28mself\u001b[39m\u001b[38;5;241m.\u001b[39mindexCols \u001b[38;5;241m=\u001b[39m \u001b[38;5;28mself\u001b[39m\u001b[38;5;241m.\u001b[39mdf\u001b[38;5;241m.\u001b[39mindex\u001b[38;5;241m.\u001b[39mname\u001b[38;5;241m.\u001b[39msplit(\u001b[38;5;124m\"\u001b[39m\u001b[38;5;124m~\u001b[39m\u001b[38;5;124m\"\u001b[39m)\n\u001b[0;32m--> 447\u001b[0m \u001b[38;5;28;01mwith\u001b[39;00m \u001b[38;5;28;43mopen\u001b[39;49m\u001b[43m(\u001b[49m\u001b[38;5;124;43mf\u001b[39;49m\u001b[38;5;124;43m\"\u001b[39;49m\u001b[38;5;132;43;01m{\u001b[39;49;00m\u001b[38;5;28;43mself\u001b[39;49m\u001b[38;5;241;43m.\u001b[39;49m\u001b[43mstorePath\u001b[49m\u001b[38;5;132;43;01m}\u001b[39;49;00m\u001b[38;5;124;43m.seed\u001b[39;49m\u001b[38;5;124;43m\"\u001b[39;49m\u001b[43m,\u001b[49m\u001b[43m \u001b[49m\u001b[38;5;124;43m\"\u001b[39;49m\u001b[38;5;124;43mr\u001b[39;49m\u001b[38;5;124;43m\"\u001b[39;49m\u001b[43m)\u001b[49m \u001b[38;5;28;01mas\u001b[39;00m f:\n\u001b[1;32m    448\u001b[0m     \u001b[38;5;28mself\u001b[39m\u001b[38;5;241m.\u001b[39msetRandomState(\u001b[38;5;28mint\u001b[39m(f\u001b[38;5;241m.\u001b[39mread()))\n\u001b[1;32m    449\u001b[0m \u001b[38;5;28;01massert\u001b[39;00m \u001b[38;5;28mall\u001b[39m(col \u001b[38;5;129;01min\u001b[39;00m \u001b[38;5;28mself\u001b[39m\u001b[38;5;241m.\u001b[39mdf\u001b[38;5;241m.\u001b[39mcolumns \u001b[38;5;28;01mfor\u001b[39;00m col \u001b[38;5;129;01min\u001b[39;00m \u001b[38;5;28mself\u001b[39m\u001b[38;5;241m.\u001b[39mindexCols)\n",
      "\u001b[0;31mFileNotFoundError\u001b[0m: [Errno 2] No such file or directory: 'data/AR_LIGANDS_df.pkl.seed'"
     ]
    }
   ],
   "source": [
    "from datasets import AR_PCM\n",
    "\n",
    "random_state=42\n",
    "\n",
    "ds = AR_PCM(random_state=random_state)\n",
    "print(ds.proteinCol)\n",
    "print(ds.proteinSeqProvider)\n",
    "print(len(ds))\n",
    "print(ds.targetProperties)\n",
    "ds.getDF()"
   ]
  },
  {
   "cell_type": "markdown",
   "metadata": {},
   "source": [
    "The only difference between PCM and regular models is the need for protein descriptors. Adding them is as simple as adding a `ProteinDescriptorCalculator` to the list of calculators in the call to `prepareDataset`:"
   ]
  },
  {
   "cell_type": "code",
   "execution_count": 2,
   "metadata": {
    "ExecuteTime": {
     "end_time": "2023-06-09T06:57:11.465906408Z",
     "start_time": "2023-06-09T06:56:25.324255269Z"
    },
    "collapsed": false,
    "jupyter": {
     "outputs_hidden": false
    }
   },
   "outputs": [
    {
     "ename": "NameError",
     "evalue": "name 'ds' is not defined",
     "output_type": "error",
     "traceback": [
      "\u001b[0;31m---------------------------------------------------------------------------\u001b[0m",
      "\u001b[0;31mNameError\u001b[0m                                 Traceback (most recent call last)",
      "Cell \u001b[0;32mIn[2], line 11\u001b[0m\n\u001b[1;32m      6\u001b[0m \u001b[38;5;28;01mfrom\u001b[39;00m \u001b[38;5;21;01mqsprpred\u001b[39;00m\u001b[38;5;21;01m.\u001b[39;00m\u001b[38;5;21;01mextra\u001b[39;00m\u001b[38;5;21;01m.\u001b[39;00m\u001b[38;5;21;01mdata\u001b[39;00m\u001b[38;5;21;01m.\u001b[39;00m\u001b[38;5;21;01mutils\u001b[39;00m\u001b[38;5;21;01m.\u001b[39;00m\u001b[38;5;21;01mdescriptorsets\u001b[39;00m \u001b[38;5;28;01mimport\u001b[39;00m ProDec\n\u001b[1;32m      7\u001b[0m \u001b[38;5;28;01mfrom\u001b[39;00m \u001b[38;5;21;01mqsprpred\u001b[39;00m\u001b[38;5;21;01m.\u001b[39;00m\u001b[38;5;21;01mextra\u001b[39;00m\u001b[38;5;21;01m.\u001b[39;00m\u001b[38;5;21;01mdata\u001b[39;00m\u001b[38;5;21;01m.\u001b[39;00m\u001b[38;5;21;01mutils\u001b[39;00m\u001b[38;5;21;01m.\u001b[39;00m\u001b[38;5;21;01mdescriptor_utils\u001b[39;00m\u001b[38;5;21;01m.\u001b[39;00m\u001b[38;5;21;01mmsa_calculator\u001b[39;00m \u001b[38;5;28;01mimport\u001b[39;00m ClustalMSA\n\u001b[1;32m      9\u001b[0m calc_prot \u001b[38;5;241m=\u001b[39m ProteinDescriptorCalculator(\n\u001b[1;32m     10\u001b[0m     desc_sets\u001b[38;5;241m=\u001b[39m[ProDec(sets\u001b[38;5;241m=\u001b[39m[\u001b[38;5;124m\"\u001b[39m\u001b[38;5;124mZscale Hellberg\u001b[39m\u001b[38;5;124m\"\u001b[39m])],\n\u001b[0;32m---> 11\u001b[0m     msa_provider\u001b[38;5;241m=\u001b[39mClustalMSA(out_dir\u001b[38;5;241m=\u001b[39m\u001b[43mds\u001b[49m\u001b[38;5;241m.\u001b[39mstoreDir)\n\u001b[1;32m     12\u001b[0m )\n\u001b[1;32m     13\u001b[0m calc_mol \u001b[38;5;241m=\u001b[39m MoleculeDescriptorsCalculator(desc_sets \u001b[38;5;241m=\u001b[39m [FingerprintSet(fingerprint_type\u001b[38;5;241m=\u001b[39m\u001b[38;5;124m\"\u001b[39m\u001b[38;5;124mMorganFP\u001b[39m\u001b[38;5;124m\"\u001b[39m, radius\u001b[38;5;241m=\u001b[39m\u001b[38;5;241m3\u001b[39m, nBits\u001b[38;5;241m=\u001b[39m\u001b[38;5;241m2048\u001b[39m)])\n\u001b[1;32m     15\u001b[0m ds\u001b[38;5;241m.\u001b[39mprepareDataset(\n\u001b[1;32m     16\u001b[0m     split\u001b[38;5;241m=\u001b[39mPCMSplit(splitter\u001b[38;5;241m=\u001b[39mRandomSplit(test_fraction\u001b[38;5;241m=\u001b[39m\u001b[38;5;241m0.2\u001b[39m, dataset\u001b[38;5;241m=\u001b[39mds)), \u001b[38;5;66;03m# 20% test set per target\u001b[39;00m\n\u001b[1;32m     17\u001b[0m     feature_calculators\u001b[38;5;241m=\u001b[39m[calc_prot, calc_mol]\n\u001b[1;32m     18\u001b[0m )\n",
      "\u001b[0;31mNameError\u001b[0m: name 'ds' is not defined"
     ]
    }
   ],
   "source": [
    "from qsprpred.data.utils.datasplitters import RandomSplit\n",
    "from qsprpred.extra.data.utils.datasplitters import PCMSplit\n",
    "from qsprpred.data.utils.descriptorcalculator import MoleculeDescriptorsCalculator\n",
    "from qsprpred.extra.data.utils.descriptorcalculator import ProteinDescriptorCalculator\n",
    "from qsprpred.data.utils.descriptorsets import FingerprintSet\n",
    "from qsprpred.extra.data.utils.descriptorsets import ProDec\n",
    "from qsprpred.extra.data.utils.descriptor_utils.msa_calculator import ClustalMSA\n",
    "\n",
    "calc_prot = ProteinDescriptorCalculator(\n",
    "    desc_sets=[ProDec(sets=[\"Zscale Hellberg\"])],\n",
    "    msa_provider=ClustalMSA(out_dir=ds.storeDir)\n",
    ")\n",
    "calc_mol = MoleculeDescriptorsCalculator(desc_sets = [FingerprintSet(fingerprint_type=\"MorganFP\", radius=3, nBits=2048)])\n",
    "\n",
    "ds.prepareDataset(\n",
    "    split=PCMSplit(splitter=RandomSplit(test_fraction=0.2, dataset=ds)), # 20% test set per target\n",
    "    feature_calculators=[calc_prot, calc_mol]\n",
    ")"
   ]
  },
  {
   "cell_type": "code",
   "execution_count": 2,
   "metadata": {
    "ExecuteTime": {
     "end_time": "2023-06-09T06:57:11.563306079Z",
     "start_time": "2023-06-09T06:57:11.469852407Z"
    },
    "collapsed": false,
    "jupyter": {
     "outputs_hidden": false
    }
   },
   "outputs": [
    {
     "ename": "NameError",
     "evalue": "name 'ds' is not defined",
     "output_type": "error",
     "traceback": [
      "\u001b[0;31m---------------------------------------------------------------------------\u001b[0m",
      "\u001b[0;31mNameError\u001b[0m                                 Traceback (most recent call last)",
      "Cell \u001b[0;32mIn[2], line 1\u001b[0m\n\u001b[0;32m----> 1\u001b[0m \u001b[43mds\u001b[49m\u001b[38;5;241m.\u001b[39mgetFeatures()[\u001b[38;5;241m0\u001b[39m]\n",
      "\u001b[0;31mNameError\u001b[0m: name 'ds' is not defined"
     ]
    }
   ],
   "source": [
    "ds.getFeatures()[0] # training set feature matrix"
   ]
  },
  {
   "cell_type": "code",
   "execution_count": null,
   "metadata": {
    "ExecuteTime": {
     "end_time": "2023-06-09T06:57:11.716807332Z",
     "start_time": "2023-06-09T06:57:11.641117855Z"
    },
    "collapsed": false,
    "jupyter": {
     "outputs_hidden": false
    }
   },
   "outputs": [
    {
     "data": {
      "text/html": [
       "<div>\n",
       "<style scoped>\n",
       "    .dataframe tbody tr th:only-of-type {\n",
       "        vertical-align: middle;\n",
       "    }\n",
       "\n",
       "    .dataframe tbody tr th {\n",
       "        vertical-align: top;\n",
       "    }\n",
       "\n",
       "    .dataframe thead th {\n",
       "        text-align: right;\n",
       "    }\n",
       "</style>\n",
       "<table border=\"1\" class=\"dataframe\">\n",
       "  <thead>\n",
       "    <tr style=\"text-align: right;\">\n",
       "      <th></th>\n",
       "      <th>Descriptor_FingerprintSet_MorganFP_0</th>\n",
       "      <th>Descriptor_FingerprintSet_MorganFP_1</th>\n",
       "      <th>Descriptor_FingerprintSet_MorganFP_2</th>\n",
       "      <th>Descriptor_FingerprintSet_MorganFP_3</th>\n",
       "      <th>Descriptor_FingerprintSet_MorganFP_4</th>\n",
       "      <th>Descriptor_FingerprintSet_MorganFP_5</th>\n",
       "      <th>Descriptor_FingerprintSet_MorganFP_6</th>\n",
       "      <th>Descriptor_FingerprintSet_MorganFP_7</th>\n",
       "      <th>Descriptor_FingerprintSet_MorganFP_8</th>\n",
       "      <th>Descriptor_FingerprintSet_MorganFP_9</th>\n",
       "      <th>...</th>\n",
       "      <th>Descriptor_PCM_ProDec_Zscale_1269</th>\n",
       "      <th>Descriptor_PCM_ProDec_Zscale_1270</th>\n",
       "      <th>Descriptor_PCM_ProDec_Zscale_1271</th>\n",
       "      <th>Descriptor_PCM_ProDec_Zscale_1272</th>\n",
       "      <th>Descriptor_PCM_ProDec_Zscale_1273</th>\n",
       "      <th>Descriptor_PCM_ProDec_Zscale_1274</th>\n",
       "      <th>Descriptor_PCM_ProDec_Zscale_1275</th>\n",
       "      <th>Descriptor_PCM_ProDec_Zscale_1276</th>\n",
       "      <th>Descriptor_PCM_ProDec_Zscale_1277</th>\n",
       "      <th>Descriptor_PCM_ProDec_Zscale_1278</th>\n",
       "    </tr>\n",
       "    <tr>\n",
       "      <th>QSPRID</th>\n",
       "      <th></th>\n",
       "      <th></th>\n",
       "      <th></th>\n",
       "      <th></th>\n",
       "      <th></th>\n",
       "      <th></th>\n",
       "      <th></th>\n",
       "      <th></th>\n",
       "      <th></th>\n",
       "      <th></th>\n",
       "      <th></th>\n",
       "      <th></th>\n",
       "      <th></th>\n",
       "      <th></th>\n",
       "      <th></th>\n",
       "      <th></th>\n",
       "      <th></th>\n",
       "      <th></th>\n",
       "      <th></th>\n",
       "      <th></th>\n",
       "      <th></th>\n",
       "    </tr>\n",
       "  </thead>\n",
       "  <tbody>\n",
       "    <tr>\n",
       "      <th>AR_LIGANDS_5827</th>\n",
       "      <td>0.0</td>\n",
       "      <td>0.0</td>\n",
       "      <td>0.0</td>\n",
       "      <td>0.0</td>\n",
       "      <td>1.0</td>\n",
       "      <td>0.0</td>\n",
       "      <td>0.0</td>\n",
       "      <td>1.0</td>\n",
       "      <td>0.0</td>\n",
       "      <td>0.0</td>\n",
       "      <td>...</td>\n",
       "      <td>0.00</td>\n",
       "      <td>0.00</td>\n",
       "      <td>0.00</td>\n",
       "      <td>0.0</td>\n",
       "      <td>0.00</td>\n",
       "      <td>0.00</td>\n",
       "      <td>0.00</td>\n",
       "      <td>0.00</td>\n",
       "      <td>0.00</td>\n",
       "      <td>0.00</td>\n",
       "    </tr>\n",
       "    <tr>\n",
       "      <th>AR_LIGANDS_5200</th>\n",
       "      <td>0.0</td>\n",
       "      <td>0.0</td>\n",
       "      <td>0.0</td>\n",
       "      <td>0.0</td>\n",
       "      <td>0.0</td>\n",
       "      <td>0.0</td>\n",
       "      <td>0.0</td>\n",
       "      <td>0.0</td>\n",
       "      <td>0.0</td>\n",
       "      <td>0.0</td>\n",
       "      <td>...</td>\n",
       "      <td>0.00</td>\n",
       "      <td>0.00</td>\n",
       "      <td>0.00</td>\n",
       "      <td>0.0</td>\n",
       "      <td>0.00</td>\n",
       "      <td>0.00</td>\n",
       "      <td>0.00</td>\n",
       "      <td>0.00</td>\n",
       "      <td>0.00</td>\n",
       "      <td>0.00</td>\n",
       "    </tr>\n",
       "    <tr>\n",
       "      <th>AR_LIGANDS_1604</th>\n",
       "      <td>0.0</td>\n",
       "      <td>0.0</td>\n",
       "      <td>0.0</td>\n",
       "      <td>0.0</td>\n",
       "      <td>0.0</td>\n",
       "      <td>0.0</td>\n",
       "      <td>0.0</td>\n",
       "      <td>0.0</td>\n",
       "      <td>0.0</td>\n",
       "      <td>0.0</td>\n",
       "      <td>...</td>\n",
       "      <td>0.00</td>\n",
       "      <td>0.00</td>\n",
       "      <td>0.00</td>\n",
       "      <td>0.0</td>\n",
       "      <td>0.00</td>\n",
       "      <td>0.00</td>\n",
       "      <td>0.00</td>\n",
       "      <td>0.00</td>\n",
       "      <td>0.00</td>\n",
       "      <td>0.00</td>\n",
       "    </tr>\n",
       "    <tr>\n",
       "      <th>AR_LIGANDS_8105</th>\n",
       "      <td>0.0</td>\n",
       "      <td>0.0</td>\n",
       "      <td>0.0</td>\n",
       "      <td>0.0</td>\n",
       "      <td>0.0</td>\n",
       "      <td>0.0</td>\n",
       "      <td>0.0</td>\n",
       "      <td>0.0</td>\n",
       "      <td>0.0</td>\n",
       "      <td>0.0</td>\n",
       "      <td>...</td>\n",
       "      <td>0.00</td>\n",
       "      <td>0.00</td>\n",
       "      <td>0.00</td>\n",
       "      <td>0.0</td>\n",
       "      <td>0.00</td>\n",
       "      <td>0.00</td>\n",
       "      <td>0.00</td>\n",
       "      <td>0.00</td>\n",
       "      <td>0.00</td>\n",
       "      <td>0.00</td>\n",
       "    </tr>\n",
       "    <tr>\n",
       "      <th>AR_LIGANDS_6810</th>\n",
       "      <td>0.0</td>\n",
       "      <td>0.0</td>\n",
       "      <td>0.0</td>\n",
       "      <td>0.0</td>\n",
       "      <td>0.0</td>\n",
       "      <td>0.0</td>\n",
       "      <td>0.0</td>\n",
       "      <td>0.0</td>\n",
       "      <td>0.0</td>\n",
       "      <td>0.0</td>\n",
       "      <td>...</td>\n",
       "      <td>0.09</td>\n",
       "      <td>2.23</td>\n",
       "      <td>-5.36</td>\n",
       "      <td>0.3</td>\n",
       "      <td>-2.69</td>\n",
       "      <td>-2.53</td>\n",
       "      <td>-1.29</td>\n",
       "      <td>1.96</td>\n",
       "      <td>-1.63</td>\n",
       "      <td>0.57</td>\n",
       "    </tr>\n",
       "    <tr>\n",
       "      <th>...</th>\n",
       "      <td>...</td>\n",
       "      <td>...</td>\n",
       "      <td>...</td>\n",
       "      <td>...</td>\n",
       "      <td>...</td>\n",
       "      <td>...</td>\n",
       "      <td>...</td>\n",
       "      <td>...</td>\n",
       "      <td>...</td>\n",
       "      <td>...</td>\n",
       "      <td>...</td>\n",
       "      <td>...</td>\n",
       "      <td>...</td>\n",
       "      <td>...</td>\n",
       "      <td>...</td>\n",
       "      <td>...</td>\n",
       "      <td>...</td>\n",
       "      <td>...</td>\n",
       "      <td>...</td>\n",
       "      <td>...</td>\n",
       "      <td>...</td>\n",
       "    </tr>\n",
       "    <tr>\n",
       "      <th>AR_LIGANDS_858</th>\n",
       "      <td>0.0</td>\n",
       "      <td>0.0</td>\n",
       "      <td>0.0</td>\n",
       "      <td>0.0</td>\n",
       "      <td>0.0</td>\n",
       "      <td>0.0</td>\n",
       "      <td>0.0</td>\n",
       "      <td>0.0</td>\n",
       "      <td>1.0</td>\n",
       "      <td>0.0</td>\n",
       "      <td>...</td>\n",
       "      <td>0.00</td>\n",
       "      <td>0.00</td>\n",
       "      <td>0.00</td>\n",
       "      <td>0.0</td>\n",
       "      <td>0.00</td>\n",
       "      <td>0.00</td>\n",
       "      <td>0.00</td>\n",
       "      <td>0.00</td>\n",
       "      <td>0.00</td>\n",
       "      <td>0.00</td>\n",
       "    </tr>\n",
       "    <tr>\n",
       "      <th>AR_LIGANDS_4106</th>\n",
       "      <td>0.0</td>\n",
       "      <td>0.0</td>\n",
       "      <td>0.0</td>\n",
       "      <td>0.0</td>\n",
       "      <td>0.0</td>\n",
       "      <td>0.0</td>\n",
       "      <td>0.0</td>\n",
       "      <td>0.0</td>\n",
       "      <td>0.0</td>\n",
       "      <td>0.0</td>\n",
       "      <td>...</td>\n",
       "      <td>0.00</td>\n",
       "      <td>0.00</td>\n",
       "      <td>0.00</td>\n",
       "      <td>0.0</td>\n",
       "      <td>0.00</td>\n",
       "      <td>0.00</td>\n",
       "      <td>0.00</td>\n",
       "      <td>0.00</td>\n",
       "      <td>0.00</td>\n",
       "      <td>0.00</td>\n",
       "    </tr>\n",
       "    <tr>\n",
       "      <th>AR_LIGANDS_11609</th>\n",
       "      <td>0.0</td>\n",
       "      <td>0.0</td>\n",
       "      <td>0.0</td>\n",
       "      <td>0.0</td>\n",
       "      <td>0.0</td>\n",
       "      <td>0.0</td>\n",
       "      <td>0.0</td>\n",
       "      <td>0.0</td>\n",
       "      <td>0.0</td>\n",
       "      <td>0.0</td>\n",
       "      <td>...</td>\n",
       "      <td>0.00</td>\n",
       "      <td>0.00</td>\n",
       "      <td>0.00</td>\n",
       "      <td>0.0</td>\n",
       "      <td>0.00</td>\n",
       "      <td>0.00</td>\n",
       "      <td>0.00</td>\n",
       "      <td>0.00</td>\n",
       "      <td>0.00</td>\n",
       "      <td>0.00</td>\n",
       "    </tr>\n",
       "    <tr>\n",
       "      <th>AR_LIGANDS_2848</th>\n",
       "      <td>0.0</td>\n",
       "      <td>0.0</td>\n",
       "      <td>0.0</td>\n",
       "      <td>0.0</td>\n",
       "      <td>0.0</td>\n",
       "      <td>0.0</td>\n",
       "      <td>0.0</td>\n",
       "      <td>0.0</td>\n",
       "      <td>0.0</td>\n",
       "      <td>0.0</td>\n",
       "      <td>...</td>\n",
       "      <td>0.09</td>\n",
       "      <td>2.23</td>\n",
       "      <td>-5.36</td>\n",
       "      <td>0.3</td>\n",
       "      <td>-2.69</td>\n",
       "      <td>-2.53</td>\n",
       "      <td>-1.29</td>\n",
       "      <td>1.96</td>\n",
       "      <td>-1.63</td>\n",
       "      <td>0.57</td>\n",
       "    </tr>\n",
       "    <tr>\n",
       "      <th>AR_LIGANDS_4823</th>\n",
       "      <td>0.0</td>\n",
       "      <td>0.0</td>\n",
       "      <td>0.0</td>\n",
       "      <td>0.0</td>\n",
       "      <td>0.0</td>\n",
       "      <td>0.0</td>\n",
       "      <td>0.0</td>\n",
       "      <td>1.0</td>\n",
       "      <td>0.0</td>\n",
       "      <td>0.0</td>\n",
       "      <td>...</td>\n",
       "      <td>0.00</td>\n",
       "      <td>0.00</td>\n",
       "      <td>0.00</td>\n",
       "      <td>0.0</td>\n",
       "      <td>0.00</td>\n",
       "      <td>0.00</td>\n",
       "      <td>0.00</td>\n",
       "      <td>0.00</td>\n",
       "      <td>0.00</td>\n",
       "      <td>0.00</td>\n",
       "    </tr>\n",
       "  </tbody>\n",
       "</table>\n",
       "<p>2493 rows × 3326 columns</p>\n",
       "</div>"
      ],
      "text/plain": [
       "                  Descriptor_FingerprintSet_MorganFP_0  \\\n",
       "QSPRID                                                   \n",
       "AR_LIGANDS_5827                                    0.0   \n",
       "AR_LIGANDS_5200                                    0.0   \n",
       "AR_LIGANDS_1604                                    0.0   \n",
       "AR_LIGANDS_8105                                    0.0   \n",
       "AR_LIGANDS_6810                                    0.0   \n",
       "...                                                ...   \n",
       "AR_LIGANDS_858                                     0.0   \n",
       "AR_LIGANDS_4106                                    0.0   \n",
       "AR_LIGANDS_11609                                   0.0   \n",
       "AR_LIGANDS_2848                                    0.0   \n",
       "AR_LIGANDS_4823                                    0.0   \n",
       "\n",
       "                  Descriptor_FingerprintSet_MorganFP_1  \\\n",
       "QSPRID                                                   \n",
       "AR_LIGANDS_5827                                    0.0   \n",
       "AR_LIGANDS_5200                                    0.0   \n",
       "AR_LIGANDS_1604                                    0.0   \n",
       "AR_LIGANDS_8105                                    0.0   \n",
       "AR_LIGANDS_6810                                    0.0   \n",
       "...                                                ...   \n",
       "AR_LIGANDS_858                                     0.0   \n",
       "AR_LIGANDS_4106                                    0.0   \n",
       "AR_LIGANDS_11609                                   0.0   \n",
       "AR_LIGANDS_2848                                    0.0   \n",
       "AR_LIGANDS_4823                                    0.0   \n",
       "\n",
       "                  Descriptor_FingerprintSet_MorganFP_2  \\\n",
       "QSPRID                                                   \n",
       "AR_LIGANDS_5827                                    0.0   \n",
       "AR_LIGANDS_5200                                    0.0   \n",
       "AR_LIGANDS_1604                                    0.0   \n",
       "AR_LIGANDS_8105                                    0.0   \n",
       "AR_LIGANDS_6810                                    0.0   \n",
       "...                                                ...   \n",
       "AR_LIGANDS_858                                     0.0   \n",
       "AR_LIGANDS_4106                                    0.0   \n",
       "AR_LIGANDS_11609                                   0.0   \n",
       "AR_LIGANDS_2848                                    0.0   \n",
       "AR_LIGANDS_4823                                    0.0   \n",
       "\n",
       "                  Descriptor_FingerprintSet_MorganFP_3  \\\n",
       "QSPRID                                                   \n",
       "AR_LIGANDS_5827                                    0.0   \n",
       "AR_LIGANDS_5200                                    0.0   \n",
       "AR_LIGANDS_1604                                    0.0   \n",
       "AR_LIGANDS_8105                                    0.0   \n",
       "AR_LIGANDS_6810                                    0.0   \n",
       "...                                                ...   \n",
       "AR_LIGANDS_858                                     0.0   \n",
       "AR_LIGANDS_4106                                    0.0   \n",
       "AR_LIGANDS_11609                                   0.0   \n",
       "AR_LIGANDS_2848                                    0.0   \n",
       "AR_LIGANDS_4823                                    0.0   \n",
       "\n",
       "                  Descriptor_FingerprintSet_MorganFP_4  \\\n",
       "QSPRID                                                   \n",
       "AR_LIGANDS_5827                                    1.0   \n",
       "AR_LIGANDS_5200                                    0.0   \n",
       "AR_LIGANDS_1604                                    0.0   \n",
       "AR_LIGANDS_8105                                    0.0   \n",
       "AR_LIGANDS_6810                                    0.0   \n",
       "...                                                ...   \n",
       "AR_LIGANDS_858                                     0.0   \n",
       "AR_LIGANDS_4106                                    0.0   \n",
       "AR_LIGANDS_11609                                   0.0   \n",
       "AR_LIGANDS_2848                                    0.0   \n",
       "AR_LIGANDS_4823                                    0.0   \n",
       "\n",
       "                  Descriptor_FingerprintSet_MorganFP_5  \\\n",
       "QSPRID                                                   \n",
       "AR_LIGANDS_5827                                    0.0   \n",
       "AR_LIGANDS_5200                                    0.0   \n",
       "AR_LIGANDS_1604                                    0.0   \n",
       "AR_LIGANDS_8105                                    0.0   \n",
       "AR_LIGANDS_6810                                    0.0   \n",
       "...                                                ...   \n",
       "AR_LIGANDS_858                                     0.0   \n",
       "AR_LIGANDS_4106                                    0.0   \n",
       "AR_LIGANDS_11609                                   0.0   \n",
       "AR_LIGANDS_2848                                    0.0   \n",
       "AR_LIGANDS_4823                                    0.0   \n",
       "\n",
       "                  Descriptor_FingerprintSet_MorganFP_6  \\\n",
       "QSPRID                                                   \n",
       "AR_LIGANDS_5827                                    0.0   \n",
       "AR_LIGANDS_5200                                    0.0   \n",
       "AR_LIGANDS_1604                                    0.0   \n",
       "AR_LIGANDS_8105                                    0.0   \n",
       "AR_LIGANDS_6810                                    0.0   \n",
       "...                                                ...   \n",
       "AR_LIGANDS_858                                     0.0   \n",
       "AR_LIGANDS_4106                                    0.0   \n",
       "AR_LIGANDS_11609                                   0.0   \n",
       "AR_LIGANDS_2848                                    0.0   \n",
       "AR_LIGANDS_4823                                    0.0   \n",
       "\n",
       "                  Descriptor_FingerprintSet_MorganFP_7  \\\n",
       "QSPRID                                                   \n",
       "AR_LIGANDS_5827                                    1.0   \n",
       "AR_LIGANDS_5200                                    0.0   \n",
       "AR_LIGANDS_1604                                    0.0   \n",
       "AR_LIGANDS_8105                                    0.0   \n",
       "AR_LIGANDS_6810                                    0.0   \n",
       "...                                                ...   \n",
       "AR_LIGANDS_858                                     0.0   \n",
       "AR_LIGANDS_4106                                    0.0   \n",
       "AR_LIGANDS_11609                                   0.0   \n",
       "AR_LIGANDS_2848                                    0.0   \n",
       "AR_LIGANDS_4823                                    1.0   \n",
       "\n",
       "                  Descriptor_FingerprintSet_MorganFP_8  \\\n",
       "QSPRID                                                   \n",
       "AR_LIGANDS_5827                                    0.0   \n",
       "AR_LIGANDS_5200                                    0.0   \n",
       "AR_LIGANDS_1604                                    0.0   \n",
       "AR_LIGANDS_8105                                    0.0   \n",
       "AR_LIGANDS_6810                                    0.0   \n",
       "...                                                ...   \n",
       "AR_LIGANDS_858                                     1.0   \n",
       "AR_LIGANDS_4106                                    0.0   \n",
       "AR_LIGANDS_11609                                   0.0   \n",
       "AR_LIGANDS_2848                                    0.0   \n",
       "AR_LIGANDS_4823                                    0.0   \n",
       "\n",
       "                  Descriptor_FingerprintSet_MorganFP_9  ...  \\\n",
       "QSPRID                                                  ...   \n",
       "AR_LIGANDS_5827                                    0.0  ...   \n",
       "AR_LIGANDS_5200                                    0.0  ...   \n",
       "AR_LIGANDS_1604                                    0.0  ...   \n",
       "AR_LIGANDS_8105                                    0.0  ...   \n",
       "AR_LIGANDS_6810                                    0.0  ...   \n",
       "...                                                ...  ...   \n",
       "AR_LIGANDS_858                                     0.0  ...   \n",
       "AR_LIGANDS_4106                                    0.0  ...   \n",
       "AR_LIGANDS_11609                                   0.0  ...   \n",
       "AR_LIGANDS_2848                                    0.0  ...   \n",
       "AR_LIGANDS_4823                                    0.0  ...   \n",
       "\n",
       "                  Descriptor_PCM_ProDec_Zscale_1269  \\\n",
       "QSPRID                                                \n",
       "AR_LIGANDS_5827                                0.00   \n",
       "AR_LIGANDS_5200                                0.00   \n",
       "AR_LIGANDS_1604                                0.00   \n",
       "AR_LIGANDS_8105                                0.00   \n",
       "AR_LIGANDS_6810                                0.09   \n",
       "...                                             ...   \n",
       "AR_LIGANDS_858                                 0.00   \n",
       "AR_LIGANDS_4106                                0.00   \n",
       "AR_LIGANDS_11609                               0.00   \n",
       "AR_LIGANDS_2848                                0.09   \n",
       "AR_LIGANDS_4823                                0.00   \n",
       "\n",
       "                  Descriptor_PCM_ProDec_Zscale_1270  \\\n",
       "QSPRID                                                \n",
       "AR_LIGANDS_5827                                0.00   \n",
       "AR_LIGANDS_5200                                0.00   \n",
       "AR_LIGANDS_1604                                0.00   \n",
       "AR_LIGANDS_8105                                0.00   \n",
       "AR_LIGANDS_6810                                2.23   \n",
       "...                                             ...   \n",
       "AR_LIGANDS_858                                 0.00   \n",
       "AR_LIGANDS_4106                                0.00   \n",
       "AR_LIGANDS_11609                               0.00   \n",
       "AR_LIGANDS_2848                                2.23   \n",
       "AR_LIGANDS_4823                                0.00   \n",
       "\n",
       "                  Descriptor_PCM_ProDec_Zscale_1271  \\\n",
       "QSPRID                                                \n",
       "AR_LIGANDS_5827                                0.00   \n",
       "AR_LIGANDS_5200                                0.00   \n",
       "AR_LIGANDS_1604                                0.00   \n",
       "AR_LIGANDS_8105                                0.00   \n",
       "AR_LIGANDS_6810                               -5.36   \n",
       "...                                             ...   \n",
       "AR_LIGANDS_858                                 0.00   \n",
       "AR_LIGANDS_4106                                0.00   \n",
       "AR_LIGANDS_11609                               0.00   \n",
       "AR_LIGANDS_2848                               -5.36   \n",
       "AR_LIGANDS_4823                                0.00   \n",
       "\n",
       "                  Descriptor_PCM_ProDec_Zscale_1272  \\\n",
       "QSPRID                                                \n",
       "AR_LIGANDS_5827                                 0.0   \n",
       "AR_LIGANDS_5200                                 0.0   \n",
       "AR_LIGANDS_1604                                 0.0   \n",
       "AR_LIGANDS_8105                                 0.0   \n",
       "AR_LIGANDS_6810                                 0.3   \n",
       "...                                             ...   \n",
       "AR_LIGANDS_858                                  0.0   \n",
       "AR_LIGANDS_4106                                 0.0   \n",
       "AR_LIGANDS_11609                                0.0   \n",
       "AR_LIGANDS_2848                                 0.3   \n",
       "AR_LIGANDS_4823                                 0.0   \n",
       "\n",
       "                  Descriptor_PCM_ProDec_Zscale_1273  \\\n",
       "QSPRID                                                \n",
       "AR_LIGANDS_5827                                0.00   \n",
       "AR_LIGANDS_5200                                0.00   \n",
       "AR_LIGANDS_1604                                0.00   \n",
       "AR_LIGANDS_8105                                0.00   \n",
       "AR_LIGANDS_6810                               -2.69   \n",
       "...                                             ...   \n",
       "AR_LIGANDS_858                                 0.00   \n",
       "AR_LIGANDS_4106                                0.00   \n",
       "AR_LIGANDS_11609                               0.00   \n",
       "AR_LIGANDS_2848                               -2.69   \n",
       "AR_LIGANDS_4823                                0.00   \n",
       "\n",
       "                  Descriptor_PCM_ProDec_Zscale_1274  \\\n",
       "QSPRID                                                \n",
       "AR_LIGANDS_5827                                0.00   \n",
       "AR_LIGANDS_5200                                0.00   \n",
       "AR_LIGANDS_1604                                0.00   \n",
       "AR_LIGANDS_8105                                0.00   \n",
       "AR_LIGANDS_6810                               -2.53   \n",
       "...                                             ...   \n",
       "AR_LIGANDS_858                                 0.00   \n",
       "AR_LIGANDS_4106                                0.00   \n",
       "AR_LIGANDS_11609                               0.00   \n",
       "AR_LIGANDS_2848                               -2.53   \n",
       "AR_LIGANDS_4823                                0.00   \n",
       "\n",
       "                  Descriptor_PCM_ProDec_Zscale_1275  \\\n",
       "QSPRID                                                \n",
       "AR_LIGANDS_5827                                0.00   \n",
       "AR_LIGANDS_5200                                0.00   \n",
       "AR_LIGANDS_1604                                0.00   \n",
       "AR_LIGANDS_8105                                0.00   \n",
       "AR_LIGANDS_6810                               -1.29   \n",
       "...                                             ...   \n",
       "AR_LIGANDS_858                                 0.00   \n",
       "AR_LIGANDS_4106                                0.00   \n",
       "AR_LIGANDS_11609                               0.00   \n",
       "AR_LIGANDS_2848                               -1.29   \n",
       "AR_LIGANDS_4823                                0.00   \n",
       "\n",
       "                  Descriptor_PCM_ProDec_Zscale_1276  \\\n",
       "QSPRID                                                \n",
       "AR_LIGANDS_5827                                0.00   \n",
       "AR_LIGANDS_5200                                0.00   \n",
       "AR_LIGANDS_1604                                0.00   \n",
       "AR_LIGANDS_8105                                0.00   \n",
       "AR_LIGANDS_6810                                1.96   \n",
       "...                                             ...   \n",
       "AR_LIGANDS_858                                 0.00   \n",
       "AR_LIGANDS_4106                                0.00   \n",
       "AR_LIGANDS_11609                               0.00   \n",
       "AR_LIGANDS_2848                                1.96   \n",
       "AR_LIGANDS_4823                                0.00   \n",
       "\n",
       "                  Descriptor_PCM_ProDec_Zscale_1277  \\\n",
       "QSPRID                                                \n",
       "AR_LIGANDS_5827                                0.00   \n",
       "AR_LIGANDS_5200                                0.00   \n",
       "AR_LIGANDS_1604                                0.00   \n",
       "AR_LIGANDS_8105                                0.00   \n",
       "AR_LIGANDS_6810                               -1.63   \n",
       "...                                             ...   \n",
       "AR_LIGANDS_858                                 0.00   \n",
       "AR_LIGANDS_4106                                0.00   \n",
       "AR_LIGANDS_11609                               0.00   \n",
       "AR_LIGANDS_2848                               -1.63   \n",
       "AR_LIGANDS_4823                                0.00   \n",
       "\n",
       "                  Descriptor_PCM_ProDec_Zscale_1278  \n",
       "QSPRID                                               \n",
       "AR_LIGANDS_5827                                0.00  \n",
       "AR_LIGANDS_5200                                0.00  \n",
       "AR_LIGANDS_1604                                0.00  \n",
       "AR_LIGANDS_8105                                0.00  \n",
       "AR_LIGANDS_6810                                0.57  \n",
       "...                                             ...  \n",
       "AR_LIGANDS_858                                 0.00  \n",
       "AR_LIGANDS_4106                                0.00  \n",
       "AR_LIGANDS_11609                               0.00  \n",
       "AR_LIGANDS_2848                                0.57  \n",
       "AR_LIGANDS_4823                                0.00  \n",
       "\n",
       "[2493 rows x 3326 columns]"
      ]
     },
     "execution_count": 4,
     "metadata": {},
     "output_type": "execute_result"
    }
   ],
   "source": [
    "ds.getFeatures()[1] # test set feature matrix"
   ]
  },
  {
   "cell_type": "code",
   "execution_count": null,
   "metadata": {
    "ExecuteTime": {
     "end_time": "2023-06-09T06:57:11.868904047Z",
     "start_time": "2023-06-09T06:57:11.720659607Z"
    },
    "collapsed": false,
    "jupyter": {
     "outputs_hidden": false
    }
   },
   "outputs": [],
   "source": [
    "ds.save() # save for later"
   ]
  },
  {
   "cell_type": "markdown",
   "metadata": {},
   "source": [
    "## Model Construction\n",
    "\n",
    "Now that we have defined our preprocessing steps, we can construct our model. We will use a simple random forest model in this case, but notice that the training code is allmost the same as in the simple [training tutorial](./tutorial_training.ipynb). The only difference is that we are using the `QSPRsklearnPCM` class instead of `QSPRsklearn`:"
   ]
  },
  {
   "cell_type": "code",
   "execution_count": null,
   "metadata": {
    "ExecuteTime": {
     "end_time": "2023-06-09T06:59:42.940028607Z",
     "start_time": "2023-06-09T06:57:11.872531619Z"
    },
    "collapsed": false,
    "jupyter": {
     "outputs_hidden": false
    }
   },
   "outputs": [
    {
     "name": "stderr",
     "output_type": "stream",
     "text": [
      "[I 2023-06-29 17:34:58,771] A new study created in memory with name: no-name-e59f4fbf-02ff-4075-8455-661305db5c84\n",
      "[I 2023-06-29 17:35:24,127] Trial 0 finished with value: 0.8974454727480987 and parameters: {'n_estimators': 69}. Best is trial 0 with value: 0.8974454727480987.\n",
      "[I 2023-06-29 17:35:57,332] Trial 1 finished with value: 0.8969541003568808 and parameters: {'n_estimators': 92}. Best is trial 0 with value: 0.8974454727480987.\n",
      "/zfsdata/data/linde/QSPRpred/src/qsprpred/qsprpred/models/models.py:104: DataConversionWarning: A column-vector y was passed when a 1d array was expected. Please change the shape of y to (n_samples,), for example using ravel().\n",
      "  self.estimator.fit(**fit_set)\n"
     ]
    },
    {
     "data": {
      "text/plain": [
       "'./qspr/models/PCM_RF/PCM_RF_meta.json'"
      ]
     },
     "execution_count": 6,
     "metadata": {},
     "output_type": "execute_result"
    }
   ],
   "source": [
    "from sklearn.ensemble import RandomForestClassifier\n",
    "from qsprpred.extra.models.pcm import QSPRsklearnPCM\n",
    "from qsprpred.models.hyperparam_optimization import OptunaOptimization\n",
    "from qsprpred.models.assessment_methods import CrossValAssessor, TestSetAssessor\n",
    "from qsprpred.models.metrics import SklearnMetric\n",
    "\n",
    "model = QSPRsklearnPCM(base_dir = 'qspr/models', data=ds, alg = RandomForestClassifier, name='PCM_RF', parameters={\"n_jobs\":1}, random_state=random_state)\n",
    "\n",
    "search_space_bs = {\n",
    "    'n_estimators' : [\"int\", 50, 100],\n",
    "}\n",
    "\n",
    "score_func = SklearnMetric.getDefaultMetric(model.task)\n",
    "bayesoptimizer = OptunaOptimization(scoring = score_func, param_grid=search_space_bs, n_trials=2)\n",
    "best_params = bayesoptimizer.optimize(model)\n",
    "\n",
    "CrossValAssessor()(model)\n",
    "TestSetAssessor()(model)\n",
    "model.fitAttached()"
   ]
  },
  {
   "cell_type": "markdown",
   "metadata": {},
   "source": [
    "The `QSPRsklearnPCM` class is a subclass of `QSPRsklearn` and thus inherits all of its functionality. The only difference is in how it handles predictions, which we will [show later](#model-prediction). Model evaluation and plotting is also the same as in the [training tutorial](./tutorial_training.ipynb):"
   ]
  },
  {
   "cell_type": "code",
   "execution_count": null,
   "metadata": {
    "ExecuteTime": {
     "end_time": "2023-06-09T06:59:43.955782087Z",
     "start_time": "2023-06-09T06:59:42.942661145Z"
    },
    "collapsed": false,
    "jupyter": {
     "outputs_hidden": false
    }
   },
   "outputs": [
    {
     "data": {
      "image/png": "[encoded data removed]",
      "text/plain": [
       "<Figure size 600x600 with 1 Axes>"
      ]
     },
     "metadata": {},
     "output_type": "display_data"
    },
    {
     "data": {
      "text/plain": [
       "[<Figure size 600x600 with 1 Axes>]"
      ]
     },
     "execution_count": 7,
     "metadata": {},
     "output_type": "execute_result"
    },
    {
     "data": {
      "text/plain": [
       "<Figure size 640x480 with 0 Axes>"
      ]
     },
     "metadata": {},
     "output_type": "display_data"
    }
   ],
   "source": [
    "from qsprpred.plotting.classification import ROCPlot\n",
    "\n",
    "plot = ROCPlot([model])\n",
    "plot.make(save=True, show=True, property_name=\"pchembl_value_Median_class\", validation=\"cv\")"
   ]
  },
  {
   "cell_type": "code",
   "execution_count": null,
   "metadata": {
    "ExecuteTime": {
     "end_time": "2023-06-09T06:59:44.161371434Z",
     "start_time": "2023-06-09T06:59:43.967719920Z"
    },
    "collapsed": false,
    "jupyter": {
     "outputs_hidden": false
    }
   },
   "outputs": [
    {
     "data": {
      "image/png": "[encoded data removed]",
      "text/plain": [
       "<Figure size 600x600 with 1 Axes>"
      ]
     },
     "metadata": {},
     "output_type": "display_data"
    },
    {
     "data": {
      "text/plain": [
       "[<Figure size 600x600 with 1 Axes>]"
      ]
     },
     "execution_count": 8,
     "metadata": {},
     "output_type": "execute_result"
    },
    {
     "data": {
      "text/plain": [
       "<Figure size 640x480 with 0 Axes>"
      ]
     },
     "metadata": {},
     "output_type": "display_data"
    }
   ],
   "source": [
    "plot.make(save=True, show=True, property_name=\"pchembl_value_Median_class\", validation=\"cv\")\n"
   ]
  },
  {
   "cell_type": "markdown",
   "metadata": {},
   "source": [
    "## Model Prediction\n",
    "\n",
    "Prediction with the PCM model works similarly to regular models. We can load the saved model using its name (`RF_PCM`) as usual:"
   ]
  },
  {
   "cell_type": "code",
   "execution_count": null,
   "metadata": {
    "ExecuteTime": {
     "end_time": "2023-06-09T06:59:46.498583938Z",
     "start_time": "2023-06-09T06:59:44.162899134Z"
    },
    "collapsed": false,
    "jupyter": {
     "outputs_hidden": false
    }
   },
   "outputs": [
    {
     "data": {
      "text/plain": [
       "<qsprpred.extra.models.pcm.QSPRsklearnPCM at 0x7fc0658df790>"
      ]
     },
     "execution_count": 9,
     "metadata": {},
     "output_type": "execute_result"
    }
   ],
   "source": [
    "model_from_files = QSPRsklearnPCM(name='PCM_RF', base_dir = 'qspr/models')\n",
    "model_from_files"
   ]
  },
  {
   "cell_type": "markdown",
   "metadata": {},
   "source": [
    "But naturally when doing the prediction, we need to provide the protein ID to fetch protein descriptors for as well. You can see that regular call to `predict` now does not work"
   ]
  },
  {
   "cell_type": "code",
   "execution_count": null,
   "metadata": {
    "ExecuteTime": {
     "end_time": "2023-06-09T06:59:46.503576892Z",
     "start_time": "2023-06-09T06:59:46.501581715Z"
    },
    "collapsed": false,
    "jupyter": {
     "outputs_hidden": false
    }
   },
   "outputs": [],
   "source": [
    "sample_mols = [\n",
    "    'CN1C=NC2=C1C(=O)N(C(=O)N2C)C', # caffeine\n",
    "    'c1ccccc1CCN1N=CC2=C1N=C(N)N3C2=NC(C4=CC=CO4)=N3' # SCH-58261 (50x more selective to A2A than caffeine -> more potent)\n",
    "]"
   ]
  },
  {
   "cell_type": "code",
   "execution_count": null,
   "metadata": {
    "ExecuteTime": {
     "end_time": "2023-06-09T06:59:46.507442735Z",
     "start_time": "2023-06-09T06:59:46.504621510Z"
    },
    "collapsed": false,
    "jupyter": {
     "outputs_hidden": false
    }
   },
   "outputs": [
    {
     "name": "stdout",
     "output_type": "stream",
     "text": [
      "ModelPCM.predictMols() missing 1 required positional argument: 'protein_id'\n"
     ]
    }
   ],
   "source": [
    "try:\n",
    "    model_from_files.predictMols(\n",
    "        sample_mols\n",
    "    )\n",
    "except TypeError as e:\n",
    "    print(e)"
   ]
  },
  {
   "cell_type": "markdown",
   "metadata": {},
   "source": [
    "We need to use one of the protein IDs from the training data to fetch the appropriate protein descriptors:"
   ]
  },
  {
   "cell_type": "code",
   "execution_count": null,
   "metadata": {
    "ExecuteTime": {
     "end_time": "2023-06-09T06:59:46.515512696Z",
     "start_time": "2023-06-09T06:59:46.508853003Z"
    },
    "collapsed": false,
    "jupyter": {
     "outputs_hidden": false
    }
   },
   "outputs": [
    {
     "data": {
      "text/plain": [
       "array(['P29274', 'P30542', 'P0DMS8', 'P29275'], dtype=object)"
      ]
     },
     "execution_count": 12,
     "metadata": {},
     "output_type": "execute_result"
    }
   ],
   "source": [
    "ds.getSubset(ds.proteinCol)[ds.proteinCol].unique()"
   ]
  },
  {
   "cell_type": "code",
   "execution_count": null,
   "metadata": {
    "ExecuteTime": {
     "end_time": "2023-06-09T06:59:48.253216360Z",
     "start_time": "2023-06-09T06:59:46.517457874Z"
    },
    "collapsed": false,
    "jupyter": {
     "outputs_hidden": false
    }
   },
   "outputs": [
    {
     "data": {
      "application/vnd.jupyter.widget-view+json": {
       "model_id": "5f17d9241c9d4932aef3eb5eec28520c",
       "version_major": 2,
       "version_minor": 0
      },
      "text/plain": [
       "  0%|          | 0/4 [00:00<?, ?it/s]"
      ]
     },
     "metadata": {},
     "output_type": "display_data"
    },
    {
     "name": "stderr",
     "output_type": "stream",
     "text": [
      "Missing values filled with nan\n",
      "/home/linde/.conda/envs/QSPR/lib/python3.10/site-packages/sklearn/base.py:413: UserWarning: X has feature names, but RandomForestClassifier was fitted without feature names\n",
      "  warnings.warn(\n"
     ]
    },
    {
     "data": {
      "text/plain": [
       "array([[0.  , 1.  ],\n",
       "       [0.77, 0.23]])"
      ]
     },
     "execution_count": 13,
     "metadata": {},
     "output_type": "execute_result"
    }
   ],
   "source": [
    "model_from_files.predictMols(\n",
    "    sample_mols,\n",
    "    protein_id = 'P29274', # human adenosine A2A receptor\n",
    "    use_probas=True\n",
    ")"
   ]
  },
  {
   "cell_type": "markdown",
   "metadata": {},
   "source": [
    "Now that makes sense. We can see that for the selective compound (`SCH-58261`), the model predicts it as active with confidence. If we use the same compounds with the other isoforms, we can see that indeed the result would be inactive for this compound hinting at its selectivity:"
   ]
  },
  {
   "cell_type": "code",
   "execution_count": null,
   "metadata": {
    "ExecuteTime": {
     "end_time": "2023-06-09T06:59:50.237171125Z",
     "start_time": "2023-06-09T06:59:48.256869770Z"
    },
    "collapsed": false,
    "jupyter": {
     "outputs_hidden": false
    }
   },
   "outputs": [
    {
     "data": {
      "application/vnd.jupyter.widget-view+json": {
       "model_id": "9b25dddd6a074cebbf025b43cdd9d730",
       "version_major": 2,
       "version_minor": 0
      },
      "text/plain": [
       "  0%|          | 0/4 [00:00<?, ?it/s]"
      ]
     },
     "metadata": {},
     "output_type": "display_data"
    },
    {
     "name": "stderr",
     "output_type": "stream",
     "text": [
      "Missing values filled with nan\n",
      "/home/linde/.conda/envs/QSPR/lib/python3.10/site-packages/sklearn/base.py:413: UserWarning: X has feature names, but RandomForestClassifier was fitted without feature names\n",
      "  warnings.warn(\n"
     ]
    },
    {
     "data": {
      "text/plain": [
       "array([[0.84, 0.16],\n",
       "       [0.95, 0.05]])"
      ]
     },
     "execution_count": 14,
     "metadata": {},
     "output_type": "execute_result"
    }
   ],
   "source": [
    "model_from_files.predictMols(\n",
    "    sample_mols,\n",
    "    protein_id = 'P30542', # human adenosine A1 receptor\n",
    "    use_probas=True\n",
    ")"
   ]
  },
  {
   "cell_type": "code",
   "execution_count": null,
   "metadata": {
    "ExecuteTime": {
     "end_time": "2023-06-09T06:59:52.055431098Z",
     "start_time": "2023-06-09T06:59:50.239478602Z"
    },
    "collapsed": false,
    "jupyter": {
     "outputs_hidden": false
    }
   },
   "outputs": [
    {
     "data": {
      "application/vnd.jupyter.widget-view+json": {
       "model_id": "ab19b8f4ad5f412cbaa9d0adc0d1b606",
       "version_major": 2,
       "version_minor": 0
      },
      "text/plain": [
       "  0%|          | 0/4 [00:00<?, ?it/s]"
      ]
     },
     "metadata": {},
     "output_type": "display_data"
    },
    {
     "name": "stderr",
     "output_type": "stream",
     "text": [
      "Missing values filled with nan\n",
      "/home/linde/.conda/envs/QSPR/lib/python3.10/site-packages/sklearn/base.py:413: UserWarning: X has feature names, but RandomForestClassifier was fitted without feature names\n",
      "  warnings.warn(\n"
     ]
    },
    {
     "data": {
      "text/plain": [
       "array([[0.91, 0.09],\n",
       "       [0.66, 0.34]])"
      ]
     },
     "execution_count": 15,
     "metadata": {},
     "output_type": "execute_result"
    }
   ],
   "source": [
    "model_from_files.predictMols(\n",
    "    sample_mols,\n",
    "    protein_id = 'P0DMS8', # human adenosine A3 receptor\n",
    "    use_probas=True\n",
    ")"
   ]
  },
  {
   "cell_type": "code",
   "execution_count": null,
   "metadata": {
    "ExecuteTime": {
     "end_time": "2023-06-09T06:59:53.736803762Z",
     "start_time": "2023-06-09T06:59:52.058281471Z"
    },
    "collapsed": false,
    "jupyter": {
     "outputs_hidden": false
    }
   },
   "outputs": [
    {
     "data": {
      "application/vnd.jupyter.widget-view+json": {
       "model_id": "59de05fa79314236a21f62cb21a238d1",
       "version_major": 2,
       "version_minor": 0
      },
      "text/plain": [
       "  0%|          | 0/4 [00:00<?, ?it/s]"
      ]
     },
     "metadata": {},
     "output_type": "display_data"
    },
    {
     "name": "stderr",
     "output_type": "stream",
     "text": [
      "Missing values filled with nan\n",
      "/home/linde/.conda/envs/QSPR/lib/python3.10/site-packages/sklearn/base.py:413: UserWarning: X has feature names, but RandomForestClassifier was fitted without feature names\n",
      "  warnings.warn(\n"
     ]
    },
    {
     "data": {
      "text/plain": [
       "array([[0.81, 0.19],\n",
       "       [0.65, 0.35]])"
      ]
     },
     "execution_count": 16,
     "metadata": {},
     "output_type": "execute_result"
    }
   ],
   "source": [
    "model_from_files.predictMols(\n",
    "    sample_mols,\n",
    "    protein_id = 'P29275', # human adenosine A2B receptor\n",
    "    use_probas=True\n",
    ")"
   ]
  }
 ],
 "metadata": {
  "kernelspec": {
   "display_name": "Python 3 (ipykernel)",
   "language": "python",
   "name": "python3"
  },
  "language_info": {
   "codemirror_mode": {
    "name": "ipython",
    "version": 3
   },
   "file_extension": ".py",
   "mimetype": "text/x-python",
   "name": "python",
   "nbconvert_exporter": "python",
   "pygments_lexer": "ipython3",
   "version": "3.10.9"
  }
 },
 "nbformat": 4,
 "nbformat_minor": 4
}
