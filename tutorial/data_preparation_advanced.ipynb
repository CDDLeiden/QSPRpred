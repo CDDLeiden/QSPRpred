{
 "cells": [
  {
   "cell_type": "markdown",
   "source": [
    "# Data Preparation - Advanced Features\n",
    "\n",
    "In this notebook, we will explore the advanced features of the data preparation modules. We will start with more advanced data integration options with the `Papyrus` class and then move on to calculating protein descriptors and working with molecule scaffolds.\n",
    "\n",
    "## Interfacing with Papyrus\n",
    "\n",
    "The `Papyrus` class is a wrapper around the [Papyrus data set](https://jcheminf.biomedcentral.com/articles/10.1186/s13321-022-00672-x) and its [associated scripts](https://github.com/OlivierBeq/Papyrus-scripts). The class fetches the data set and allows to perform efficient filtering and queries for some common tasks. In this tutorial, we will show how to fetch bioactivity data for a particular set of protein targets as well as the protein sequences that will be later used to calculate protein descriptors for PCM models.\n",
    "\n",
    "### Fetching Bioactivity Data\n",
    "\n",
    "We can use the following code to fetch bioactivity data for multiple adenosine receptor subtypes at once:"
   ],
   "metadata": {
    "collapsed": false
   }
  },
  {
   "cell_type": "code",
   "execution_count": 1,
   "outputs": [
    {
     "name": "stdout",
     "output_type": "stream",
     "text": [
      "You are downloading the high-quality Papyrus++ dataset.\n",
      "Should you want to access the entire, though of lower quality, Papyrus dataset,\n",
      "look into additional switches of this command.\n",
      "Number of files to be downloaded: 3\n",
      "Total size: 33.0MB\n"
     ]
    },
    {
     "data": {
      "text/plain": "Downloading version 05.6:   0%|          | 0.00/33.0M [00:00<?, ?B/s]",
      "application/vnd.jupyter.widget-view+json": {
       "version_major": 2,
       "version_minor": 0,
       "model_id": "a4e38cb878d448339438c760cbebf772"
      }
     },
     "metadata": {},
     "output_type": "display_data"
    },
    {
     "name": "stdout",
     "output_type": "stream",
     "text": [
      "Using existing data from data/AR_LIGANDS.tsv...\n"
     ]
    },
    {
     "data": {
      "text/plain": "<qsprpred.data.data.MoleculeTable at 0x7f271c234280>"
     },
     "execution_count": 1,
     "metadata": {},
     "output_type": "execute_result"
    }
   ],
   "source": [
    "from qsprpred.data.sources.papyrus import Papyrus\n",
    "\n",
    "acc_keys = [\"P29274\", \"P29275\", \"P30542\", \"P0DMS8\"]\n",
    "dataset_name = \"AR_LIGANDS\"  # name of the file to be generated\n",
    "quality = \"high\"  # choose minimum quality from {\"high\", \"medium\", \"low\"}\n",
    "papyrus_version = '05.6'  # Papyrus database version\n",
    "data_dir = \"data\"\n",
    "\n",
    "papyrus = Papyrus(\n",
    "    data_dir=data_dir,\n",
    "    stereo=False,\n",
    "    version=papyrus_version\n",
    ")\n",
    "\n",
    "mt = papyrus.getData(\n",
    "    acc_keys,\n",
    "    quality,\n",
    "    name=dataset_name,\n",
    "    use_existing=True\n",
    ")\n",
    "mt"
   ],
   "metadata": {
    "collapsed": false
   }
  },
  {
   "cell_type": "code",
   "execution_count": 2,
   "outputs": [
    {
     "data": {
      "text/plain": "                                  Activity_ID Quality    source  \\\nQSPRID                                                            \nAR_LIGANDS_0      AACWUFIIMOHGSO_on_P29274_WT    High  ChEMBL31   \nAR_LIGANDS_1      AACWUFIIMOHGSO_on_P30542_WT    High  ChEMBL31   \nAR_LIGANDS_2      AAEYTMMNWWKSKZ_on_P29274_WT    High  ChEMBL31   \nAR_LIGANDS_3      AAGFKZWKWAMJNP_on_P0DMS8_WT    High  ChEMBL31   \nAR_LIGANDS_4      AAGFKZWKWAMJNP_on_P29274_WT    High  ChEMBL31   \n...                                       ...     ...       ...   \nAR_LIGANDS_12452  ZZMIPZLRKFEGIA_on_P29274_WT    High  ChEMBL31   \nAR_LIGANDS_12453  ZZXIVHBZTITUIW_on_P0DMS8_WT    High  ChEMBL31   \nAR_LIGANDS_12454  ZZXIVHBZTITUIW_on_P29274_WT    High  ChEMBL31   \nAR_LIGANDS_12455  ZZXIVHBZTITUIW_on_P29275_WT    High  ChEMBL31   \nAR_LIGANDS_12456  ZZXIVHBZTITUIW_on_P30542_WT    High  ChEMBL31   \n\n                                       CID  \\\nQSPRID                                       \nAR_LIGANDS_0       ChEMBL31.compound.91968   \nAR_LIGANDS_1       ChEMBL31.compound.91968   \nAR_LIGANDS_2      ChEMBL31.compound.131451   \nAR_LIGANDS_3      ChEMBL31.compound.100375   \nAR_LIGANDS_4      ChEMBL31.compound.100375   \n...                                    ...   \nAR_LIGANDS_12452  ChEMBL31.compound.202018   \nAR_LIGANDS_12453  ChEMBL31.compound.248509   \nAR_LIGANDS_12454  ChEMBL31.compound.248509   \nAR_LIGANDS_12455  ChEMBL31.compound.248509   \nAR_LIGANDS_12456  ChEMBL31.compound.248509   \n\n                                                             SMILES  \\\nQSPRID                                                                \nAR_LIGANDS_0      Cc1nn(-c2cc(NC(=O)CCN(C)C)nc(-c3ccc(C)o3)n2)c(...   \nAR_LIGANDS_1      Cc1nn(-c2cc(NC(=O)CCN(C)C)nc(-c3ccc(C)o3)n2)c(...   \nAR_LIGANDS_2      Nc1c(C(=O)Nc2ccc([N+](=O)[O-])cc2)sc2c1cc1CCCC...   \nAR_LIGANDS_3       O=C(Nc1nc2ncccc2n2c(=O)n(-c3ccccc3)nc12)c1ccccc1   \nAR_LIGANDS_4       O=C(Nc1nc2ncccc2n2c(=O)n(-c3ccccc3)nc12)c1ccccc1   \n...                                                             ...   \nAR_LIGANDS_12452      CCCOc1ccc(C=Cc2cc3c(c(=O)n(C)c(=O)n3C)n2C)cc1   \nAR_LIGANDS_12453           CCOC(=O)c1cnc(NCC(C)C)n2nc(-c3ccco3)nc12   \nAR_LIGANDS_12454           CCOC(=O)c1cnc(NCC(C)C)n2nc(-c3ccco3)nc12   \nAR_LIGANDS_12455           CCOC(=O)c1cnc(NCC(C)C)n2nc(-c3ccco3)nc12   \nAR_LIGANDS_12456           CCOC(=O)c1cnc(NCC(C)C)n2nc(-c3ccco3)nc12   \n\n                    connectivity                     InChIKey  \\\nQSPRID                                                          \nAR_LIGANDS_0      AACWUFIIMOHGSO  AACWUFIIMOHGSO-UHFFFAOYSA-N   \nAR_LIGANDS_1      AACWUFIIMOHGSO  AACWUFIIMOHGSO-UHFFFAOYSA-N   \nAR_LIGANDS_2      AAEYTMMNWWKSKZ  AAEYTMMNWWKSKZ-UHFFFAOYSA-N   \nAR_LIGANDS_3      AAGFKZWKWAMJNP  AAGFKZWKWAMJNP-UHFFFAOYSA-N   \nAR_LIGANDS_4      AAGFKZWKWAMJNP  AAGFKZWKWAMJNP-UHFFFAOYSA-N   \n...                          ...                          ...   \nAR_LIGANDS_12452  ZZMIPZLRKFEGIA  ZZMIPZLRKFEGIA-UHFFFAOYSA-N   \nAR_LIGANDS_12453  ZZXIVHBZTITUIW  ZZXIVHBZTITUIW-UHFFFAOYSA-N   \nAR_LIGANDS_12454  ZZXIVHBZTITUIW  ZZXIVHBZTITUIW-UHFFFAOYSA-N   \nAR_LIGANDS_12455  ZZXIVHBZTITUIW  ZZXIVHBZTITUIW-UHFFFAOYSA-N   \nAR_LIGANDS_12456  ZZXIVHBZTITUIW  ZZXIVHBZTITUIW-UHFFFAOYSA-N   \n\n                                                              InChI  \\\nQSPRID                                                                \nAR_LIGANDS_0      InChI=1S/C19H24N6O2/c1-12-10-13(2)25(23-12)17-...   \nAR_LIGANDS_1      InChI=1S/C19H24N6O2/c1-12-10-13(2)25(23-12)17-...   \nAR_LIGANDS_2      InChI=1S/C18H16N4O3S/c19-15-13-9-10-3-1-2-4-14...   \nAR_LIGANDS_3      InChI=1S/C21H14N6O2/c28-20(14-8-3-1-4-9-14)24-...   \nAR_LIGANDS_4      InChI=1S/C21H14N6O2/c28-20(14-8-3-1-4-9-14)24-...   \n...                                                             ...   \nAR_LIGANDS_12452  InChI=1S/C20H23N3O3/c1-5-12-26-16-10-7-14(8-11...   \nAR_LIGANDS_12453  InChI=1S/C16H19N5O3/c1-4-23-15(22)11-9-18-16(1...   \nAR_LIGANDS_12454  InChI=1S/C16H19N5O3/c1-4-23-15(22)11-9-18-16(1...   \nAR_LIGANDS_12455  InChI=1S/C16H19N5O3/c1-4-23-15(22)11-9-18-16(1...   \nAR_LIGANDS_12456  InChI=1S/C16H19N5O3/c1-4-23-15(22)11-9-18-16(1...   \n\n                                                      InChI_AuxInfo  \\\nQSPRID                                                                \nAR_LIGANDS_0      \"AuxInfo=1/1/N:1,26,22,14,15,20,19,11,12,27,6,...   \nAR_LIGANDS_1      \"AuxInfo=1/1/N:1,26,22,14,15,20,19,11,12,27,6,...   \nAR_LIGANDS_2      \"AuxInfo=1/1/N:22,23,21,24,8,15,9,14,19,20,7,1...   \nAR_LIGANDS_3      \"AuxInfo=1/1/N:27,19,26,28,18,20,9,25,29,17,21...   \nAR_LIGANDS_4      \"AuxInfo=1/1/N:27,19,26,28,18,20,9,25,29,17,21...   \n...                                                             ...   \nAR_LIGANDS_12452  \"AuxInfo=1/0/N:1,24,22,18,2,9,7,25,10,6,26,3,1...   \nAR_LIGANDS_12453  \"AuxInfo=1/1/N:1,13,14,2,20,19,21,11,7,12,6,18...   \nAR_LIGANDS_12454  \"AuxInfo=1/1/N:1,13,14,2,20,19,21,11,7,12,6,18...   \nAR_LIGANDS_12455  \"AuxInfo=1/1/N:1,13,14,2,20,19,21,11,7,12,6,18...   \nAR_LIGANDS_12456  \"AuxInfo=1/1/N:1,13,14,2,20,19,21,11,7,12,6,18...   \n\n                  target_id  ... Activity_class relation pchembl_value  \\\nQSPRID                       ...                                         \nAR_LIGANDS_0      P29274_WT  ...            NaN        =          8.68   \nAR_LIGANDS_1      P30542_WT  ...            NaN        =          6.68   \nAR_LIGANDS_2      P29274_WT  ...            NaN        =          4.82   \nAR_LIGANDS_3      P0DMS8_WT  ...            NaN        =          7.15   \nAR_LIGANDS_4      P29274_WT  ...            NaN        =          5.65   \n...                     ...  ...            ...      ...           ...   \nAR_LIGANDS_12452  P29274_WT  ...            NaN        =          6.51   \nAR_LIGANDS_12453  P0DMS8_WT  ...            NaN        =          7.61   \nAR_LIGANDS_12454  P29274_WT  ...            NaN        =          7.35   \nAR_LIGANDS_12455  P29275_WT  ...            NaN        =          5.15   \nAR_LIGANDS_12456  P30542_WT  ...            NaN        =          7.34   \n\n                 pchembl_value_Mean pchembl_value_StdDev  pchembl_value_SEM  \\\nQSPRID                                                                        \nAR_LIGANDS_0                   8.68                  0.0                0.0   \nAR_LIGANDS_1                   6.68                  0.0                0.0   \nAR_LIGANDS_2                   4.82                  0.0                0.0   \nAR_LIGANDS_3                   7.15                  0.0                0.0   \nAR_LIGANDS_4                   5.65                  0.0                0.0   \n...                             ...                  ...                ...   \nAR_LIGANDS_12452               6.51                  0.0                0.0   \nAR_LIGANDS_12453               7.61                  0.0                0.0   \nAR_LIGANDS_12454               7.35                  0.0                0.0   \nAR_LIGANDS_12455               5.15                  0.0                0.0   \nAR_LIGANDS_12456               7.34                  0.0                0.0   \n\n                 pchembl_value_N pchembl_value_Median pchembl_value_MAD  \\\nQSPRID                                                                    \nAR_LIGANDS_0                 1.0                 8.68               0.0   \nAR_LIGANDS_1                 1.0                 6.68               0.0   \nAR_LIGANDS_2                 1.0                 4.82               0.0   \nAR_LIGANDS_3                 1.0                 7.15               0.0   \nAR_LIGANDS_4                 1.0                 5.65               0.0   \n...                          ...                  ...               ...   \nAR_LIGANDS_12452             1.0                 6.51               0.0   \nAR_LIGANDS_12453             1.0                 7.61               0.0   \nAR_LIGANDS_12454             1.0                 7.35               0.0   \nAR_LIGANDS_12455             1.0                 5.15               0.0   \nAR_LIGANDS_12456             1.0                 7.34               0.0   \n\n                            QSPRID  \nQSPRID                              \nAR_LIGANDS_0          AR_LIGANDS_0  \nAR_LIGANDS_1          AR_LIGANDS_1  \nAR_LIGANDS_2          AR_LIGANDS_2  \nAR_LIGANDS_3          AR_LIGANDS_3  \nAR_LIGANDS_4          AR_LIGANDS_4  \n...                            ...  \nAR_LIGANDS_12452  AR_LIGANDS_12452  \nAR_LIGANDS_12453  AR_LIGANDS_12453  \nAR_LIGANDS_12454  AR_LIGANDS_12454  \nAR_LIGANDS_12455  AR_LIGANDS_12455  \nAR_LIGANDS_12456  AR_LIGANDS_12456  \n\n[12457 rows x 33 columns]",
      "text/html": "<div>\n<style scoped>\n    .dataframe tbody tr th:only-of-type {\n        vertical-align: middle;\n    }\n\n    .dataframe tbody tr th {\n        vertical-align: top;\n    }\n\n    .dataframe thead th {\n        text-align: right;\n    }\n</style>\n<table border=\"1\" class=\"dataframe\">\n  <thead>\n    <tr style=\"text-align: right;\">\n      <th></th>\n      <th>Activity_ID</th>\n      <th>Quality</th>\n      <th>source</th>\n      <th>CID</th>\n      <th>SMILES</th>\n      <th>connectivity</th>\n      <th>InChIKey</th>\n      <th>InChI</th>\n      <th>InChI_AuxInfo</th>\n      <th>target_id</th>\n      <th>...</th>\n      <th>Activity_class</th>\n      <th>relation</th>\n      <th>pchembl_value</th>\n      <th>pchembl_value_Mean</th>\n      <th>pchembl_value_StdDev</th>\n      <th>pchembl_value_SEM</th>\n      <th>pchembl_value_N</th>\n      <th>pchembl_value_Median</th>\n      <th>pchembl_value_MAD</th>\n      <th>QSPRID</th>\n    </tr>\n    <tr>\n      <th>QSPRID</th>\n      <th></th>\n      <th></th>\n      <th></th>\n      <th></th>\n      <th></th>\n      <th></th>\n      <th></th>\n      <th></th>\n      <th></th>\n      <th></th>\n      <th></th>\n      <th></th>\n      <th></th>\n      <th></th>\n      <th></th>\n      <th></th>\n      <th></th>\n      <th></th>\n      <th></th>\n      <th></th>\n      <th></th>\n    </tr>\n  </thead>\n  <tbody>\n    <tr>\n      <th>AR_LIGANDS_0</th>\n      <td>AACWUFIIMOHGSO_on_P29274_WT</td>\n      <td>High</td>\n      <td>ChEMBL31</td>\n      <td>ChEMBL31.compound.91968</td>\n      <td>Cc1nn(-c2cc(NC(=O)CCN(C)C)nc(-c3ccc(C)o3)n2)c(...</td>\n      <td>AACWUFIIMOHGSO</td>\n      <td>AACWUFIIMOHGSO-UHFFFAOYSA-N</td>\n      <td>InChI=1S/C19H24N6O2/c1-12-10-13(2)25(23-12)17-...</td>\n      <td>\"AuxInfo=1/1/N:1,26,22,14,15,20,19,11,12,27,6,...</td>\n      <td>P29274_WT</td>\n      <td>...</td>\n      <td>NaN</td>\n      <td>=</td>\n      <td>8.68</td>\n      <td>8.68</td>\n      <td>0.0</td>\n      <td>0.0</td>\n      <td>1.0</td>\n      <td>8.68</td>\n      <td>0.0</td>\n      <td>AR_LIGANDS_0</td>\n    </tr>\n    <tr>\n      <th>AR_LIGANDS_1</th>\n      <td>AACWUFIIMOHGSO_on_P30542_WT</td>\n      <td>High</td>\n      <td>ChEMBL31</td>\n      <td>ChEMBL31.compound.91968</td>\n      <td>Cc1nn(-c2cc(NC(=O)CCN(C)C)nc(-c3ccc(C)o3)n2)c(...</td>\n      <td>AACWUFIIMOHGSO</td>\n      <td>AACWUFIIMOHGSO-UHFFFAOYSA-N</td>\n      <td>InChI=1S/C19H24N6O2/c1-12-10-13(2)25(23-12)17-...</td>\n      <td>\"AuxInfo=1/1/N:1,26,22,14,15,20,19,11,12,27,6,...</td>\n      <td>P30542_WT</td>\n      <td>...</td>\n      <td>NaN</td>\n      <td>=</td>\n      <td>6.68</td>\n      <td>6.68</td>\n      <td>0.0</td>\n      <td>0.0</td>\n      <td>1.0</td>\n      <td>6.68</td>\n      <td>0.0</td>\n      <td>AR_LIGANDS_1</td>\n    </tr>\n    <tr>\n      <th>AR_LIGANDS_2</th>\n      <td>AAEYTMMNWWKSKZ_on_P29274_WT</td>\n      <td>High</td>\n      <td>ChEMBL31</td>\n      <td>ChEMBL31.compound.131451</td>\n      <td>Nc1c(C(=O)Nc2ccc([N+](=O)[O-])cc2)sc2c1cc1CCCC...</td>\n      <td>AAEYTMMNWWKSKZ</td>\n      <td>AAEYTMMNWWKSKZ-UHFFFAOYSA-N</td>\n      <td>InChI=1S/C18H16N4O3S/c19-15-13-9-10-3-1-2-4-14...</td>\n      <td>\"AuxInfo=1/1/N:22,23,21,24,8,15,9,14,19,20,7,1...</td>\n      <td>P29274_WT</td>\n      <td>...</td>\n      <td>NaN</td>\n      <td>=</td>\n      <td>4.82</td>\n      <td>4.82</td>\n      <td>0.0</td>\n      <td>0.0</td>\n      <td>1.0</td>\n      <td>4.82</td>\n      <td>0.0</td>\n      <td>AR_LIGANDS_2</td>\n    </tr>\n    <tr>\n      <th>AR_LIGANDS_3</th>\n      <td>AAGFKZWKWAMJNP_on_P0DMS8_WT</td>\n      <td>High</td>\n      <td>ChEMBL31</td>\n      <td>ChEMBL31.compound.100375</td>\n      <td>O=C(Nc1nc2ncccc2n2c(=O)n(-c3ccccc3)nc12)c1ccccc1</td>\n      <td>AAGFKZWKWAMJNP</td>\n      <td>AAGFKZWKWAMJNP-UHFFFAOYSA-N</td>\n      <td>InChI=1S/C21H14N6O2/c28-20(14-8-3-1-4-9-14)24-...</td>\n      <td>\"AuxInfo=1/1/N:27,19,26,28,18,20,9,25,29,17,21...</td>\n      <td>P0DMS8_WT</td>\n      <td>...</td>\n      <td>NaN</td>\n      <td>=</td>\n      <td>7.15</td>\n      <td>7.15</td>\n      <td>0.0</td>\n      <td>0.0</td>\n      <td>1.0</td>\n      <td>7.15</td>\n      <td>0.0</td>\n      <td>AR_LIGANDS_3</td>\n    </tr>\n    <tr>\n      <th>AR_LIGANDS_4</th>\n      <td>AAGFKZWKWAMJNP_on_P29274_WT</td>\n      <td>High</td>\n      <td>ChEMBL31</td>\n      <td>ChEMBL31.compound.100375</td>\n      <td>O=C(Nc1nc2ncccc2n2c(=O)n(-c3ccccc3)nc12)c1ccccc1</td>\n      <td>AAGFKZWKWAMJNP</td>\n      <td>AAGFKZWKWAMJNP-UHFFFAOYSA-N</td>\n      <td>InChI=1S/C21H14N6O2/c28-20(14-8-3-1-4-9-14)24-...</td>\n      <td>\"AuxInfo=1/1/N:27,19,26,28,18,20,9,25,29,17,21...</td>\n      <td>P29274_WT</td>\n      <td>...</td>\n      <td>NaN</td>\n      <td>=</td>\n      <td>5.65</td>\n      <td>5.65</td>\n      <td>0.0</td>\n      <td>0.0</td>\n      <td>1.0</td>\n      <td>5.65</td>\n      <td>0.0</td>\n      <td>AR_LIGANDS_4</td>\n    </tr>\n    <tr>\n      <th>...</th>\n      <td>...</td>\n      <td>...</td>\n      <td>...</td>\n      <td>...</td>\n      <td>...</td>\n      <td>...</td>\n      <td>...</td>\n      <td>...</td>\n      <td>...</td>\n      <td>...</td>\n      <td>...</td>\n      <td>...</td>\n      <td>...</td>\n      <td>...</td>\n      <td>...</td>\n      <td>...</td>\n      <td>...</td>\n      <td>...</td>\n      <td>...</td>\n      <td>...</td>\n      <td>...</td>\n    </tr>\n    <tr>\n      <th>AR_LIGANDS_12452</th>\n      <td>ZZMIPZLRKFEGIA_on_P29274_WT</td>\n      <td>High</td>\n      <td>ChEMBL31</td>\n      <td>ChEMBL31.compound.202018</td>\n      <td>CCCOc1ccc(C=Cc2cc3c(c(=O)n(C)c(=O)n3C)n2C)cc1</td>\n      <td>ZZMIPZLRKFEGIA</td>\n      <td>ZZMIPZLRKFEGIA-UHFFFAOYSA-N</td>\n      <td>InChI=1S/C20H23N3O3/c1-5-12-26-16-10-7-14(8-11...</td>\n      <td>\"AuxInfo=1/0/N:1,24,22,18,2,9,7,25,10,6,26,3,1...</td>\n      <td>P29274_WT</td>\n      <td>...</td>\n      <td>NaN</td>\n      <td>=</td>\n      <td>6.51</td>\n      <td>6.51</td>\n      <td>0.0</td>\n      <td>0.0</td>\n      <td>1.0</td>\n      <td>6.51</td>\n      <td>0.0</td>\n      <td>AR_LIGANDS_12452</td>\n    </tr>\n    <tr>\n      <th>AR_LIGANDS_12453</th>\n      <td>ZZXIVHBZTITUIW_on_P0DMS8_WT</td>\n      <td>High</td>\n      <td>ChEMBL31</td>\n      <td>ChEMBL31.compound.248509</td>\n      <td>CCOC(=O)c1cnc(NCC(C)C)n2nc(-c3ccco3)nc12</td>\n      <td>ZZXIVHBZTITUIW</td>\n      <td>ZZXIVHBZTITUIW-UHFFFAOYSA-N</td>\n      <td>InChI=1S/C16H19N5O3/c1-4-23-15(22)11-9-18-16(1...</td>\n      <td>\"AuxInfo=1/1/N:1,13,14,2,20,19,21,11,7,12,6,18...</td>\n      <td>P0DMS8_WT</td>\n      <td>...</td>\n      <td>NaN</td>\n      <td>=</td>\n      <td>7.61</td>\n      <td>7.61</td>\n      <td>0.0</td>\n      <td>0.0</td>\n      <td>1.0</td>\n      <td>7.61</td>\n      <td>0.0</td>\n      <td>AR_LIGANDS_12453</td>\n    </tr>\n    <tr>\n      <th>AR_LIGANDS_12454</th>\n      <td>ZZXIVHBZTITUIW_on_P29274_WT</td>\n      <td>High</td>\n      <td>ChEMBL31</td>\n      <td>ChEMBL31.compound.248509</td>\n      <td>CCOC(=O)c1cnc(NCC(C)C)n2nc(-c3ccco3)nc12</td>\n      <td>ZZXIVHBZTITUIW</td>\n      <td>ZZXIVHBZTITUIW-UHFFFAOYSA-N</td>\n      <td>InChI=1S/C16H19N5O3/c1-4-23-15(22)11-9-18-16(1...</td>\n      <td>\"AuxInfo=1/1/N:1,13,14,2,20,19,21,11,7,12,6,18...</td>\n      <td>P29274_WT</td>\n      <td>...</td>\n      <td>NaN</td>\n      <td>=</td>\n      <td>7.35</td>\n      <td>7.35</td>\n      <td>0.0</td>\n      <td>0.0</td>\n      <td>1.0</td>\n      <td>7.35</td>\n      <td>0.0</td>\n      <td>AR_LIGANDS_12454</td>\n    </tr>\n    <tr>\n      <th>AR_LIGANDS_12455</th>\n      <td>ZZXIVHBZTITUIW_on_P29275_WT</td>\n      <td>High</td>\n      <td>ChEMBL31</td>\n      <td>ChEMBL31.compound.248509</td>\n      <td>CCOC(=O)c1cnc(NCC(C)C)n2nc(-c3ccco3)nc12</td>\n      <td>ZZXIVHBZTITUIW</td>\n      <td>ZZXIVHBZTITUIW-UHFFFAOYSA-N</td>\n      <td>InChI=1S/C16H19N5O3/c1-4-23-15(22)11-9-18-16(1...</td>\n      <td>\"AuxInfo=1/1/N:1,13,14,2,20,19,21,11,7,12,6,18...</td>\n      <td>P29275_WT</td>\n      <td>...</td>\n      <td>NaN</td>\n      <td>=</td>\n      <td>5.15</td>\n      <td>5.15</td>\n      <td>0.0</td>\n      <td>0.0</td>\n      <td>1.0</td>\n      <td>5.15</td>\n      <td>0.0</td>\n      <td>AR_LIGANDS_12455</td>\n    </tr>\n    <tr>\n      <th>AR_LIGANDS_12456</th>\n      <td>ZZXIVHBZTITUIW_on_P30542_WT</td>\n      <td>High</td>\n      <td>ChEMBL31</td>\n      <td>ChEMBL31.compound.248509</td>\n      <td>CCOC(=O)c1cnc(NCC(C)C)n2nc(-c3ccco3)nc12</td>\n      <td>ZZXIVHBZTITUIW</td>\n      <td>ZZXIVHBZTITUIW-UHFFFAOYSA-N</td>\n      <td>InChI=1S/C16H19N5O3/c1-4-23-15(22)11-9-18-16(1...</td>\n      <td>\"AuxInfo=1/1/N:1,13,14,2,20,19,21,11,7,12,6,18...</td>\n      <td>P30542_WT</td>\n      <td>...</td>\n      <td>NaN</td>\n      <td>=</td>\n      <td>7.34</td>\n      <td>7.34</td>\n      <td>0.0</td>\n      <td>0.0</td>\n      <td>1.0</td>\n      <td>7.34</td>\n      <td>0.0</td>\n      <td>AR_LIGANDS_12456</td>\n    </tr>\n  </tbody>\n</table>\n<p>12457 rows × 33 columns</p>\n</div>"
     },
     "execution_count": 2,
     "metadata": {},
     "output_type": "execute_result"
    }
   ],
   "source": [
    "mt.getDF()"
   ],
   "metadata": {
    "collapsed": false
   }
  },
  {
   "cell_type": "markdown",
   "source": [
    "By default, the method returns a `MoleculeTable` so if you want to turn it into a `QSPRDataset` for modeling, you have to use the `fromMolTable` helper method:"
   ],
   "metadata": {
    "collapsed": false
   }
  },
  {
   "cell_type": "code",
   "execution_count": 3,
   "outputs": [
    {
     "data": {
      "text/plain": "[TargetProperty(name=pchembl_value_Median_class, task=SINGLECLASS, th=[6.5])]"
     },
     "execution_count": 3,
     "metadata": {},
     "output_type": "execute_result"
    }
   ],
   "source": [
    "from qsprpred.models.tasks import TargetTasks\n",
    "from qsprpred.data.data import QSPRDataset\n",
    "\n",
    "ds = QSPRDataset.fromMolTable(mt, target_props=[{\"name\": \"pchembl_value_Median\", \"task\": TargetTasks.SINGLECLASS, \"th\": [6.5]}])\n",
    "ds.targetProperties"
   ],
   "metadata": {
    "collapsed": false
   }
  },
  {
   "cell_type": "markdown",
   "source": [
    "### Fetching Protein Data\n",
    "\n",
    "In addition, it is also possible to easily fetch the sequences for our proteins:"
   ],
   "metadata": {
    "collapsed": false
   }
  },
  {
   "cell_type": "code",
   "execution_count": 4,
   "outputs": [
    {
     "name": "stdout",
     "output_type": "stream",
     "text": [
      "You are downloading the high-quality Papyrus++ dataset.\n",
      "Should you want to access the entire, though of lower quality, Papyrus dataset,\n",
      "look into additional switches of this command.\n",
      "Number of files to be downloaded: 3\n",
      "Total size: 33.0MB\n"
     ]
    },
    {
     "data": {
      "text/plain": "Downloading version 05.6:   0%|          | 0.00/33.0M [00:00<?, ?B/s]",
      "application/vnd.jupyter.widget-view+json": {
       "version_major": 2,
       "version_minor": 0,
       "model_id": "b454c0743d1f4b8f916b8eb9d2b54eff"
      }
     },
     "metadata": {},
     "output_type": "display_data"
    },
    {
     "data": {
      "text/plain": "   target_id HGNC_symbol    UniProtID    Status              Organism  \\\n0  P29275_WT     ADORA2B  AA2BR_HUMAN  reviewed  Homo sapiens (Human)   \n1  P30542_WT      ADORA1   AA1R_HUMAN  reviewed  Homo sapiens (Human)   \n2  P29274_WT     ADORA2A  AA2AR_HUMAN  reviewed  Homo sapiens (Human)   \n3  P0DMS8_WT      ADORA3   AA3R_HUMAN  reviewed  Homo sapiens (Human)   \n\n                                      Classification  Length  \\\n0  Membrane receptor->Family A G protein-coupled ...     332   \n1  Membrane receptor->Family A G protein-coupled ...     326   \n2  Membrane receptor->Family A G protein-coupled ...     412   \n3  Membrane receptor->Family A G protein-coupled ...     318   \n\n                                            Sequence  \\\n0  MLLETQDALYVALELVIAALSVAGNVLVCAAVGTANTLQTPTNYFL...   \n1  MPPSISAFQAAYIGIEVLIALVSVPGNVLVIWAVKVNQALRDATFC...   \n2  MPIMGSSVYITVELAIAVLAILGNVLVCWAVWLNSNLQNVTNYFVV...   \n3  MPNNSTALSLANVTYITMEIFIGLCAIVGNVLVICVVKLNPSLQTT...   \n\n                                                 TID accession  \n0  ChEMBL:CHEMBL255;ChEMBL:CHEMBL255;ChEMBL:CHEMB...    P29275  \n1  ChEMBL:CHEMBL226;ChEMBL:CHEMBL226;ChEMBL:CHEMB...    P30542  \n2  ChEMBL:CHEMBL251;ChEMBL:CHEMBL251;ChEMBL:CHEMB...    P29274  \n3  ChEMBL:CHEMBL256;ChEMBL:CHEMBL256;ChEMBL:CHEMB...    P0DMS8  ",
      "text/html": "<div>\n<style scoped>\n    .dataframe tbody tr th:only-of-type {\n        vertical-align: middle;\n    }\n\n    .dataframe tbody tr th {\n        vertical-align: top;\n    }\n\n    .dataframe thead th {\n        text-align: right;\n    }\n</style>\n<table border=\"1\" class=\"dataframe\">\n  <thead>\n    <tr style=\"text-align: right;\">\n      <th></th>\n      <th>target_id</th>\n      <th>HGNC_symbol</th>\n      <th>UniProtID</th>\n      <th>Status</th>\n      <th>Organism</th>\n      <th>Classification</th>\n      <th>Length</th>\n      <th>Sequence</th>\n      <th>TID</th>\n      <th>accession</th>\n    </tr>\n  </thead>\n  <tbody>\n    <tr>\n      <th>0</th>\n      <td>P29275_WT</td>\n      <td>ADORA2B</td>\n      <td>AA2BR_HUMAN</td>\n      <td>reviewed</td>\n      <td>Homo sapiens (Human)</td>\n      <td>Membrane receptor-&gt;Family A G protein-coupled ...</td>\n      <td>332</td>\n      <td>MLLETQDALYVALELVIAALSVAGNVLVCAAVGTANTLQTPTNYFL...</td>\n      <td>ChEMBL:CHEMBL255;ChEMBL:CHEMBL255;ChEMBL:CHEMB...</td>\n      <td>P29275</td>\n    </tr>\n    <tr>\n      <th>1</th>\n      <td>P30542_WT</td>\n      <td>ADORA1</td>\n      <td>AA1R_HUMAN</td>\n      <td>reviewed</td>\n      <td>Homo sapiens (Human)</td>\n      <td>Membrane receptor-&gt;Family A G protein-coupled ...</td>\n      <td>326</td>\n      <td>MPPSISAFQAAYIGIEVLIALVSVPGNVLVIWAVKVNQALRDATFC...</td>\n      <td>ChEMBL:CHEMBL226;ChEMBL:CHEMBL226;ChEMBL:CHEMB...</td>\n      <td>P30542</td>\n    </tr>\n    <tr>\n      <th>2</th>\n      <td>P29274_WT</td>\n      <td>ADORA2A</td>\n      <td>AA2AR_HUMAN</td>\n      <td>reviewed</td>\n      <td>Homo sapiens (Human)</td>\n      <td>Membrane receptor-&gt;Family A G protein-coupled ...</td>\n      <td>412</td>\n      <td>MPIMGSSVYITVELAIAVLAILGNVLVCWAVWLNSNLQNVTNYFVV...</td>\n      <td>ChEMBL:CHEMBL251;ChEMBL:CHEMBL251;ChEMBL:CHEMB...</td>\n      <td>P29274</td>\n    </tr>\n    <tr>\n      <th>3</th>\n      <td>P0DMS8_WT</td>\n      <td>ADORA3</td>\n      <td>AA3R_HUMAN</td>\n      <td>reviewed</td>\n      <td>Homo sapiens (Human)</td>\n      <td>Membrane receptor-&gt;Family A G protein-coupled ...</td>\n      <td>318</td>\n      <td>MPNNSTALSLANVTYITMEIFIGLCAIVGNVLVICVVKLNPSLQTT...</td>\n      <td>ChEMBL:CHEMBL256;ChEMBL:CHEMBL256;ChEMBL:CHEMB...</td>\n      <td>P0DMS8</td>\n    </tr>\n  </tbody>\n</table>\n</div>"
     },
     "execution_count": 4,
     "metadata": {},
     "output_type": "execute_result"
    }
   ],
   "source": [
    "ds_seq = papyrus.getProteinData(acc_keys, name=f\"{ds.name}_seqs\", use_existing=True)\n",
    "ds_seq"
   ],
   "metadata": {
    "collapsed": false
   }
  },
  {
   "cell_type": "markdown",
   "source": [
    "The  keys used to fetch the data are saved in the `accession` colum in the resulting data frame:"
   ],
   "metadata": {
    "collapsed": false
   }
  },
  {
   "cell_type": "code",
   "execution_count": 5,
   "outputs": [
    {
     "data": {
      "text/plain": "0    P29275\n1    P30542\n2    P29274\n3    P0DMS8\nName: accession, dtype: object"
     },
     "execution_count": 5,
     "metadata": {},
     "output_type": "execute_result"
    }
   ],
   "source": [
    "ds_seq.accession"
   ],
   "metadata": {
    "collapsed": false
   }
  },
  {
   "cell_type": "markdown",
   "source": [
    "We can find the same column in our data set as well so it is possible to match sequences to bioactivity data now:"
   ],
   "metadata": {
    "collapsed": false
   }
  },
  {
   "cell_type": "code",
   "execution_count": 6,
   "outputs": [
    {
     "data": {
      "text/plain": "                 accession\nQSPRID                    \nAR_LIGANDS_0        P29274\nAR_LIGANDS_1        P30542\nAR_LIGANDS_2        P29274\nAR_LIGANDS_3        P0DMS8\nAR_LIGANDS_4        P29274\n...                    ...\nAR_LIGANDS_12452    P29274\nAR_LIGANDS_12453    P0DMS8\nAR_LIGANDS_12454    P29274\nAR_LIGANDS_12455    P29275\nAR_LIGANDS_12456    P30542\n\n[12457 rows x 1 columns]",
      "text/html": "<div>\n<style scoped>\n    .dataframe tbody tr th:only-of-type {\n        vertical-align: middle;\n    }\n\n    .dataframe tbody tr th {\n        vertical-align: top;\n    }\n\n    .dataframe thead th {\n        text-align: right;\n    }\n</style>\n<table border=\"1\" class=\"dataframe\">\n  <thead>\n    <tr style=\"text-align: right;\">\n      <th></th>\n      <th>accession</th>\n    </tr>\n    <tr>\n      <th>QSPRID</th>\n      <th></th>\n    </tr>\n  </thead>\n  <tbody>\n    <tr>\n      <th>AR_LIGANDS_0</th>\n      <td>P29274</td>\n    </tr>\n    <tr>\n      <th>AR_LIGANDS_1</th>\n      <td>P30542</td>\n    </tr>\n    <tr>\n      <th>AR_LIGANDS_2</th>\n      <td>P29274</td>\n    </tr>\n    <tr>\n      <th>AR_LIGANDS_3</th>\n      <td>P0DMS8</td>\n    </tr>\n    <tr>\n      <th>AR_LIGANDS_4</th>\n      <td>P29274</td>\n    </tr>\n    <tr>\n      <th>...</th>\n      <td>...</td>\n    </tr>\n    <tr>\n      <th>AR_LIGANDS_12452</th>\n      <td>P29274</td>\n    </tr>\n    <tr>\n      <th>AR_LIGANDS_12453</th>\n      <td>P0DMS8</td>\n    </tr>\n    <tr>\n      <th>AR_LIGANDS_12454</th>\n      <td>P29274</td>\n    </tr>\n    <tr>\n      <th>AR_LIGANDS_12455</th>\n      <td>P29275</td>\n    </tr>\n    <tr>\n      <th>AR_LIGANDS_12456</th>\n      <td>P30542</td>\n    </tr>\n  </tbody>\n</table>\n<p>12457 rows × 1 columns</p>\n</div>"
     },
     "execution_count": 6,
     "metadata": {},
     "output_type": "execute_result"
    }
   ],
   "source": [
    "ds.getSubset(\"accession\")"
   ],
   "metadata": {
    "collapsed": false
   }
  },
  {
   "cell_type": "markdown",
   "source": [
    "## Calculating Protein Descriptors\n",
    "\n",
    "In this section, we will show how to connect the information about sequences with our data set and calculate protein descriptors using multiple sequence alignment. First, let us convert the data set so that it is aware of protein accession keys:"
   ],
   "metadata": {
    "collapsed": false
   }
  },
  {
   "cell_type": "code",
   "execution_count": 7,
   "outputs": [
    {
     "data": {
      "text/plain": "<qsprpred.data.data.QSPRDataset at 0x7f26c92d1f00>"
     },
     "execution_count": 7,
     "metadata": {},
     "output_type": "execute_result"
    }
   ],
   "source": [
    "def sequence_provider(acc_keys):\n",
    "    \"\"\"\n",
    "    A function that provides a mapping from accession key to a protein sequence.\n",
    "\n",
    "    Args:\n",
    "        acc_keys (list): Accession keys of the protein to get a sequences for.\n",
    "\n",
    "    Returns:\n",
    "        (dict) : Mapping of accession keys to protein sequences.\n",
    "        (dict) : Additional information to pass to the MSA provider (can be empty).\n",
    "    \"\"\"\n",
    "    map = dict()\n",
    "    info = dict()\n",
    "    for i, row in ds_seq.iterrows():\n",
    "        map[row['accession']] = row['Sequence']\n",
    "\n",
    "        # can be omitted\n",
    "        info[row['accession']] = {\n",
    "            'Organism': row['Organism'],\n",
    "            'UniProtID': row['UniProtID'],\n",
    "        }\n",
    "\n",
    "    return map, info\n",
    "\n",
    "ds = QSPRDataset(\n",
    "    df=ds.getDF(),\n",
    "    name=ds.name,\n",
    "    proteincol=\"accession\",\n",
    "    proteinseqprovider=sequence_provider,\n",
    "    store_dir=\"./data\",\n",
    "    target_props=ds.targetProperties\n",
    ")\n",
    "ds"
   ],
   "metadata": {
    "collapsed": false
   }
  },
  {
   "cell_type": "markdown",
   "source": [
    "Now the data set knows how to connect accession keys to sequences, and it will automatically create the multiple sequence alignment (MSA) for us when calculating protein descriptors:"
   ],
   "metadata": {
    "collapsed": false
   }
  },
  {
   "cell_type": "code",
   "execution_count": 8,
   "outputs": [
    {
     "data": {
      "text/plain": "  0%|          | 0/4 [00:00<?, ?it/s]",
      "application/vnd.jupyter.widget-view+json": {
       "version_major": 2,
       "version_minor": 0,
       "model_id": "c2aac4c3732d42e799d541d07eac0dee"
      }
     },
     "metadata": {},
     "output_type": "display_data"
    }
   ],
   "source": [
    "from qsprpred.data.utils.descriptorcalculator import ProteinDescriptorCalculator\n",
    "from qsprpred.data.utils.descriptorsets import ProDecDescriptorSet\n",
    "from qsprpred.data.utils.descriptor_utils.msa_calculator import ClustalMSA\n",
    "\n",
    "calc = ProteinDescriptorCalculator(\n",
    "    descsets=[ProDecDescriptorSet(sets=[\"Zscale Hellberg\"])],\n",
    "    msa_provider=ClustalMSA(out_dir=ds.storeDir)\n",
    ")\n",
    "ds.addProteinDescriptors(calc)"
   ],
   "metadata": {
    "collapsed": false
   }
  },
  {
   "cell_type": "markdown",
   "source": [
    "And here is our descriptor matrix:"
   ],
   "metadata": {
    "collapsed": false
   }
  },
  {
   "cell_type": "code",
   "execution_count": 9,
   "outputs": [
    {
     "data": {
      "text/plain": "                  Descriptor_PCM_ProDec_Zscale_1  \\\nQSPRID                                             \nAR_LIGANDS_0                                0.00   \nAR_LIGANDS_1                                0.00   \nAR_LIGANDS_2                                0.00   \nAR_LIGANDS_3                               -2.49   \nAR_LIGANDS_4                                0.00   \n...                                          ...   \nAR_LIGANDS_12452                            0.00   \nAR_LIGANDS_12453                           -2.49   \nAR_LIGANDS_12454                            0.00   \nAR_LIGANDS_12455                            0.00   \nAR_LIGANDS_12456                            0.00   \n\n                  Descriptor_PCM_ProDec_Zscale_2  \\\nQSPRID                                             \nAR_LIGANDS_0                                0.00   \nAR_LIGANDS_1                                0.00   \nAR_LIGANDS_2                                0.00   \nAR_LIGANDS_3                               -0.27   \nAR_LIGANDS_4                                0.00   \n...                                          ...   \nAR_LIGANDS_12452                            0.00   \nAR_LIGANDS_12453                           -0.27   \nAR_LIGANDS_12454                            0.00   \nAR_LIGANDS_12455                            0.00   \nAR_LIGANDS_12456                            0.00   \n\n                  Descriptor_PCM_ProDec_Zscale_3  \\\nQSPRID                                             \nAR_LIGANDS_0                                0.00   \nAR_LIGANDS_1                                0.00   \nAR_LIGANDS_2                                0.00   \nAR_LIGANDS_3                               -0.41   \nAR_LIGANDS_4                                0.00   \n...                                          ...   \nAR_LIGANDS_12452                            0.00   \nAR_LIGANDS_12453                           -0.41   \nAR_LIGANDS_12454                            0.00   \nAR_LIGANDS_12455                            0.00   \nAR_LIGANDS_12456                            0.00   \n\n                  Descriptor_PCM_ProDec_Zscale_4  \\\nQSPRID                                             \nAR_LIGANDS_0                                0.00   \nAR_LIGANDS_1                                0.00   \nAR_LIGANDS_2                                0.00   \nAR_LIGANDS_3                               -1.22   \nAR_LIGANDS_4                                0.00   \n...                                          ...   \nAR_LIGANDS_12452                            0.00   \nAR_LIGANDS_12453                           -1.22   \nAR_LIGANDS_12454                            0.00   \nAR_LIGANDS_12455                            0.00   \nAR_LIGANDS_12456                            0.00   \n\n                  Descriptor_PCM_ProDec_Zscale_5  \\\nQSPRID                                             \nAR_LIGANDS_0                                0.00   \nAR_LIGANDS_1                                0.00   \nAR_LIGANDS_2                                0.00   \nAR_LIGANDS_3                                0.88   \nAR_LIGANDS_4                                0.00   \n...                                          ...   \nAR_LIGANDS_12452                            0.00   \nAR_LIGANDS_12453                            0.88   \nAR_LIGANDS_12454                            0.00   \nAR_LIGANDS_12455                            0.00   \nAR_LIGANDS_12456                            0.00   \n\n                  Descriptor_PCM_ProDec_Zscale_6  \\\nQSPRID                                             \nAR_LIGANDS_0                                0.00   \nAR_LIGANDS_1                                0.00   \nAR_LIGANDS_2                                0.00   \nAR_LIGANDS_3                                2.23   \nAR_LIGANDS_4                                0.00   \n...                                          ...   \nAR_LIGANDS_12452                            0.00   \nAR_LIGANDS_12453                            2.23   \nAR_LIGANDS_12454                            0.00   \nAR_LIGANDS_12455                            0.00   \nAR_LIGANDS_12456                            0.00   \n\n                  Descriptor_PCM_ProDec_Zscale_7  \\\nQSPRID                                             \nAR_LIGANDS_0                                0.00   \nAR_LIGANDS_1                                0.00   \nAR_LIGANDS_2                                0.00   \nAR_LIGANDS_3                                3.22   \nAR_LIGANDS_4                                0.00   \n...                                          ...   \nAR_LIGANDS_12452                            0.00   \nAR_LIGANDS_12453                            3.22   \nAR_LIGANDS_12454                            0.00   \nAR_LIGANDS_12455                            0.00   \nAR_LIGANDS_12456                            0.00   \n\n                  Descriptor_PCM_ProDec_Zscale_8  \\\nQSPRID                                             \nAR_LIGANDS_0                                0.00   \nAR_LIGANDS_1                                0.00   \nAR_LIGANDS_2                                0.00   \nAR_LIGANDS_3                                1.45   \nAR_LIGANDS_4                                0.00   \n...                                          ...   \nAR_LIGANDS_12452                            0.00   \nAR_LIGANDS_12453                            1.45   \nAR_LIGANDS_12454                            0.00   \nAR_LIGANDS_12455                            0.00   \nAR_LIGANDS_12456                            0.00   \n\n                  Descriptor_PCM_ProDec_Zscale_9  \\\nQSPRID                                             \nAR_LIGANDS_0                                0.00   \nAR_LIGANDS_1                                0.00   \nAR_LIGANDS_2                                0.00   \nAR_LIGANDS_3                                0.84   \nAR_LIGANDS_4                                0.00   \n...                                          ...   \nAR_LIGANDS_12452                            0.00   \nAR_LIGANDS_12453                            0.84   \nAR_LIGANDS_12454                            0.00   \nAR_LIGANDS_12455                            0.00   \nAR_LIGANDS_12456                            0.00   \n\n                  Descriptor_PCM_ProDec_Zscale_10  ...  \\\nQSPRID                                             ...   \nAR_LIGANDS_0                                 0.00  ...   \nAR_LIGANDS_1                                -2.49  ...   \nAR_LIGANDS_2                                 0.00  ...   \nAR_LIGANDS_3                                 3.22  ...   \nAR_LIGANDS_4                                 0.00  ...   \n...                                           ...  ...   \nAR_LIGANDS_12452                             0.00  ...   \nAR_LIGANDS_12453                             3.22  ...   \nAR_LIGANDS_12454                             0.00  ...   \nAR_LIGANDS_12455                             0.00  ...   \nAR_LIGANDS_12456                            -2.49  ...   \n\n                  Descriptor_PCM_ProDec_Zscale_1269  \\\nQSPRID                                                \nAR_LIGANDS_0                                   0.09   \nAR_LIGANDS_1                                   0.00   \nAR_LIGANDS_2                                   0.09   \nAR_LIGANDS_3                                   0.00   \nAR_LIGANDS_4                                   0.09   \n...                                             ...   \nAR_LIGANDS_12452                               0.09   \nAR_LIGANDS_12453                               0.00   \nAR_LIGANDS_12454                               0.09   \nAR_LIGANDS_12455                               0.00   \nAR_LIGANDS_12456                               0.00   \n\n                  Descriptor_PCM_ProDec_Zscale_1270  \\\nQSPRID                                                \nAR_LIGANDS_0                                   2.23   \nAR_LIGANDS_1                                   0.00   \nAR_LIGANDS_2                                   2.23   \nAR_LIGANDS_3                                   0.00   \nAR_LIGANDS_4                                   2.23   \n...                                             ...   \nAR_LIGANDS_12452                               2.23   \nAR_LIGANDS_12453                               0.00   \nAR_LIGANDS_12454                               2.23   \nAR_LIGANDS_12455                               0.00   \nAR_LIGANDS_12456                               0.00   \n\n                  Descriptor_PCM_ProDec_Zscale_1271  \\\nQSPRID                                                \nAR_LIGANDS_0                                  -5.36   \nAR_LIGANDS_1                                   0.00   \nAR_LIGANDS_2                                  -5.36   \nAR_LIGANDS_3                                   0.00   \nAR_LIGANDS_4                                  -5.36   \n...                                             ...   \nAR_LIGANDS_12452                              -5.36   \nAR_LIGANDS_12453                               0.00   \nAR_LIGANDS_12454                              -5.36   \nAR_LIGANDS_12455                               0.00   \nAR_LIGANDS_12456                               0.00   \n\n                  Descriptor_PCM_ProDec_Zscale_1272  \\\nQSPRID                                                \nAR_LIGANDS_0                                    0.3   \nAR_LIGANDS_1                                    0.0   \nAR_LIGANDS_2                                    0.3   \nAR_LIGANDS_3                                    0.0   \nAR_LIGANDS_4                                    0.3   \n...                                             ...   \nAR_LIGANDS_12452                                0.3   \nAR_LIGANDS_12453                                0.0   \nAR_LIGANDS_12454                                0.3   \nAR_LIGANDS_12455                                0.0   \nAR_LIGANDS_12456                                0.0   \n\n                  Descriptor_PCM_ProDec_Zscale_1273  \\\nQSPRID                                                \nAR_LIGANDS_0                                  -2.69   \nAR_LIGANDS_1                                   0.00   \nAR_LIGANDS_2                                  -2.69   \nAR_LIGANDS_3                                   0.00   \nAR_LIGANDS_4                                  -2.69   \n...                                             ...   \nAR_LIGANDS_12452                              -2.69   \nAR_LIGANDS_12453                               0.00   \nAR_LIGANDS_12454                              -2.69   \nAR_LIGANDS_12455                               0.00   \nAR_LIGANDS_12456                               0.00   \n\n                  Descriptor_PCM_ProDec_Zscale_1274  \\\nQSPRID                                                \nAR_LIGANDS_0                                  -2.53   \nAR_LIGANDS_1                                   0.00   \nAR_LIGANDS_2                                  -2.53   \nAR_LIGANDS_3                                   0.00   \nAR_LIGANDS_4                                  -2.53   \n...                                             ...   \nAR_LIGANDS_12452                              -2.53   \nAR_LIGANDS_12453                               0.00   \nAR_LIGANDS_12454                              -2.53   \nAR_LIGANDS_12455                               0.00   \nAR_LIGANDS_12456                               0.00   \n\n                  Descriptor_PCM_ProDec_Zscale_1275  \\\nQSPRID                                                \nAR_LIGANDS_0                                  -1.29   \nAR_LIGANDS_1                                   0.00   \nAR_LIGANDS_2                                  -1.29   \nAR_LIGANDS_3                                   0.00   \nAR_LIGANDS_4                                  -1.29   \n...                                             ...   \nAR_LIGANDS_12452                              -1.29   \nAR_LIGANDS_12453                               0.00   \nAR_LIGANDS_12454                              -1.29   \nAR_LIGANDS_12455                               0.00   \nAR_LIGANDS_12456                               0.00   \n\n                  Descriptor_PCM_ProDec_Zscale_1276  \\\nQSPRID                                                \nAR_LIGANDS_0                                   1.96   \nAR_LIGANDS_1                                   0.00   \nAR_LIGANDS_2                                   1.96   \nAR_LIGANDS_3                                   0.00   \nAR_LIGANDS_4                                   1.96   \n...                                             ...   \nAR_LIGANDS_12452                               1.96   \nAR_LIGANDS_12453                               0.00   \nAR_LIGANDS_12454                               1.96   \nAR_LIGANDS_12455                               0.00   \nAR_LIGANDS_12456                               0.00   \n\n                  Descriptor_PCM_ProDec_Zscale_1277  \\\nQSPRID                                                \nAR_LIGANDS_0                                  -1.63   \nAR_LIGANDS_1                                   0.00   \nAR_LIGANDS_2                                  -1.63   \nAR_LIGANDS_3                                   0.00   \nAR_LIGANDS_4                                  -1.63   \n...                                             ...   \nAR_LIGANDS_12452                              -1.63   \nAR_LIGANDS_12453                               0.00   \nAR_LIGANDS_12454                              -1.63   \nAR_LIGANDS_12455                               0.00   \nAR_LIGANDS_12456                               0.00   \n\n                  Descriptor_PCM_ProDec_Zscale_1278  \nQSPRID                                               \nAR_LIGANDS_0                                   0.57  \nAR_LIGANDS_1                                   0.00  \nAR_LIGANDS_2                                   0.57  \nAR_LIGANDS_3                                   0.00  \nAR_LIGANDS_4                                   0.57  \n...                                             ...  \nAR_LIGANDS_12452                               0.57  \nAR_LIGANDS_12453                               0.00  \nAR_LIGANDS_12454                               0.57  \nAR_LIGANDS_12455                               0.00  \nAR_LIGANDS_12456                               0.00  \n\n[12457 rows x 1278 columns]",
      "text/html": "<div>\n<style scoped>\n    .dataframe tbody tr th:only-of-type {\n        vertical-align: middle;\n    }\n\n    .dataframe tbody tr th {\n        vertical-align: top;\n    }\n\n    .dataframe thead th {\n        text-align: right;\n    }\n</style>\n<table border=\"1\" class=\"dataframe\">\n  <thead>\n    <tr style=\"text-align: right;\">\n      <th></th>\n      <th>Descriptor_PCM_ProDec_Zscale_1</th>\n      <th>Descriptor_PCM_ProDec_Zscale_2</th>\n      <th>Descriptor_PCM_ProDec_Zscale_3</th>\n      <th>Descriptor_PCM_ProDec_Zscale_4</th>\n      <th>Descriptor_PCM_ProDec_Zscale_5</th>\n      <th>Descriptor_PCM_ProDec_Zscale_6</th>\n      <th>Descriptor_PCM_ProDec_Zscale_7</th>\n      <th>Descriptor_PCM_ProDec_Zscale_8</th>\n      <th>Descriptor_PCM_ProDec_Zscale_9</th>\n      <th>Descriptor_PCM_ProDec_Zscale_10</th>\n      <th>...</th>\n      <th>Descriptor_PCM_ProDec_Zscale_1269</th>\n      <th>Descriptor_PCM_ProDec_Zscale_1270</th>\n      <th>Descriptor_PCM_ProDec_Zscale_1271</th>\n      <th>Descriptor_PCM_ProDec_Zscale_1272</th>\n      <th>Descriptor_PCM_ProDec_Zscale_1273</th>\n      <th>Descriptor_PCM_ProDec_Zscale_1274</th>\n      <th>Descriptor_PCM_ProDec_Zscale_1275</th>\n      <th>Descriptor_PCM_ProDec_Zscale_1276</th>\n      <th>Descriptor_PCM_ProDec_Zscale_1277</th>\n      <th>Descriptor_PCM_ProDec_Zscale_1278</th>\n    </tr>\n    <tr>\n      <th>QSPRID</th>\n      <th></th>\n      <th></th>\n      <th></th>\n      <th></th>\n      <th></th>\n      <th></th>\n      <th></th>\n      <th></th>\n      <th></th>\n      <th></th>\n      <th></th>\n      <th></th>\n      <th></th>\n      <th></th>\n      <th></th>\n      <th></th>\n      <th></th>\n      <th></th>\n      <th></th>\n      <th></th>\n      <th></th>\n    </tr>\n  </thead>\n  <tbody>\n    <tr>\n      <th>AR_LIGANDS_0</th>\n      <td>0.00</td>\n      <td>0.00</td>\n      <td>0.00</td>\n      <td>0.00</td>\n      <td>0.00</td>\n      <td>0.00</td>\n      <td>0.00</td>\n      <td>0.00</td>\n      <td>0.00</td>\n      <td>0.00</td>\n      <td>...</td>\n      <td>0.09</td>\n      <td>2.23</td>\n      <td>-5.36</td>\n      <td>0.3</td>\n      <td>-2.69</td>\n      <td>-2.53</td>\n      <td>-1.29</td>\n      <td>1.96</td>\n      <td>-1.63</td>\n      <td>0.57</td>\n    </tr>\n    <tr>\n      <th>AR_LIGANDS_1</th>\n      <td>0.00</td>\n      <td>0.00</td>\n      <td>0.00</td>\n      <td>0.00</td>\n      <td>0.00</td>\n      <td>0.00</td>\n      <td>0.00</td>\n      <td>0.00</td>\n      <td>0.00</td>\n      <td>-2.49</td>\n      <td>...</td>\n      <td>0.00</td>\n      <td>0.00</td>\n      <td>0.00</td>\n      <td>0.0</td>\n      <td>0.00</td>\n      <td>0.00</td>\n      <td>0.00</td>\n      <td>0.00</td>\n      <td>0.00</td>\n      <td>0.00</td>\n    </tr>\n    <tr>\n      <th>AR_LIGANDS_2</th>\n      <td>0.00</td>\n      <td>0.00</td>\n      <td>0.00</td>\n      <td>0.00</td>\n      <td>0.00</td>\n      <td>0.00</td>\n      <td>0.00</td>\n      <td>0.00</td>\n      <td>0.00</td>\n      <td>0.00</td>\n      <td>...</td>\n      <td>0.09</td>\n      <td>2.23</td>\n      <td>-5.36</td>\n      <td>0.3</td>\n      <td>-2.69</td>\n      <td>-2.53</td>\n      <td>-1.29</td>\n      <td>1.96</td>\n      <td>-1.63</td>\n      <td>0.57</td>\n    </tr>\n    <tr>\n      <th>AR_LIGANDS_3</th>\n      <td>-2.49</td>\n      <td>-0.27</td>\n      <td>-0.41</td>\n      <td>-1.22</td>\n      <td>0.88</td>\n      <td>2.23</td>\n      <td>3.22</td>\n      <td>1.45</td>\n      <td>0.84</td>\n      <td>3.22</td>\n      <td>...</td>\n      <td>0.00</td>\n      <td>0.00</td>\n      <td>0.00</td>\n      <td>0.0</td>\n      <td>0.00</td>\n      <td>0.00</td>\n      <td>0.00</td>\n      <td>0.00</td>\n      <td>0.00</td>\n      <td>0.00</td>\n    </tr>\n    <tr>\n      <th>AR_LIGANDS_4</th>\n      <td>0.00</td>\n      <td>0.00</td>\n      <td>0.00</td>\n      <td>0.00</td>\n      <td>0.00</td>\n      <td>0.00</td>\n      <td>0.00</td>\n      <td>0.00</td>\n      <td>0.00</td>\n      <td>0.00</td>\n      <td>...</td>\n      <td>0.09</td>\n      <td>2.23</td>\n      <td>-5.36</td>\n      <td>0.3</td>\n      <td>-2.69</td>\n      <td>-2.53</td>\n      <td>-1.29</td>\n      <td>1.96</td>\n      <td>-1.63</td>\n      <td>0.57</td>\n    </tr>\n    <tr>\n      <th>...</th>\n      <td>...</td>\n      <td>...</td>\n      <td>...</td>\n      <td>...</td>\n      <td>...</td>\n      <td>...</td>\n      <td>...</td>\n      <td>...</td>\n      <td>...</td>\n      <td>...</td>\n      <td>...</td>\n      <td>...</td>\n      <td>...</td>\n      <td>...</td>\n      <td>...</td>\n      <td>...</td>\n      <td>...</td>\n      <td>...</td>\n      <td>...</td>\n      <td>...</td>\n      <td>...</td>\n    </tr>\n    <tr>\n      <th>AR_LIGANDS_12452</th>\n      <td>0.00</td>\n      <td>0.00</td>\n      <td>0.00</td>\n      <td>0.00</td>\n      <td>0.00</td>\n      <td>0.00</td>\n      <td>0.00</td>\n      <td>0.00</td>\n      <td>0.00</td>\n      <td>0.00</td>\n      <td>...</td>\n      <td>0.09</td>\n      <td>2.23</td>\n      <td>-5.36</td>\n      <td>0.3</td>\n      <td>-2.69</td>\n      <td>-2.53</td>\n      <td>-1.29</td>\n      <td>1.96</td>\n      <td>-1.63</td>\n      <td>0.57</td>\n    </tr>\n    <tr>\n      <th>AR_LIGANDS_12453</th>\n      <td>-2.49</td>\n      <td>-0.27</td>\n      <td>-0.41</td>\n      <td>-1.22</td>\n      <td>0.88</td>\n      <td>2.23</td>\n      <td>3.22</td>\n      <td>1.45</td>\n      <td>0.84</td>\n      <td>3.22</td>\n      <td>...</td>\n      <td>0.00</td>\n      <td>0.00</td>\n      <td>0.00</td>\n      <td>0.0</td>\n      <td>0.00</td>\n      <td>0.00</td>\n      <td>0.00</td>\n      <td>0.00</td>\n      <td>0.00</td>\n      <td>0.00</td>\n    </tr>\n    <tr>\n      <th>AR_LIGANDS_12454</th>\n      <td>0.00</td>\n      <td>0.00</td>\n      <td>0.00</td>\n      <td>0.00</td>\n      <td>0.00</td>\n      <td>0.00</td>\n      <td>0.00</td>\n      <td>0.00</td>\n      <td>0.00</td>\n      <td>0.00</td>\n      <td>...</td>\n      <td>0.09</td>\n      <td>2.23</td>\n      <td>-5.36</td>\n      <td>0.3</td>\n      <td>-2.69</td>\n      <td>-2.53</td>\n      <td>-1.29</td>\n      <td>1.96</td>\n      <td>-1.63</td>\n      <td>0.57</td>\n    </tr>\n    <tr>\n      <th>AR_LIGANDS_12455</th>\n      <td>0.00</td>\n      <td>0.00</td>\n      <td>0.00</td>\n      <td>0.00</td>\n      <td>0.00</td>\n      <td>0.00</td>\n      <td>0.00</td>\n      <td>0.00</td>\n      <td>0.00</td>\n      <td>0.00</td>\n      <td>...</td>\n      <td>0.00</td>\n      <td>0.00</td>\n      <td>0.00</td>\n      <td>0.0</td>\n      <td>0.00</td>\n      <td>0.00</td>\n      <td>0.00</td>\n      <td>0.00</td>\n      <td>0.00</td>\n      <td>0.00</td>\n    </tr>\n    <tr>\n      <th>AR_LIGANDS_12456</th>\n      <td>0.00</td>\n      <td>0.00</td>\n      <td>0.00</td>\n      <td>0.00</td>\n      <td>0.00</td>\n      <td>0.00</td>\n      <td>0.00</td>\n      <td>0.00</td>\n      <td>0.00</td>\n      <td>-2.49</td>\n      <td>...</td>\n      <td>0.00</td>\n      <td>0.00</td>\n      <td>0.00</td>\n      <td>0.0</td>\n      <td>0.00</td>\n      <td>0.00</td>\n      <td>0.00</td>\n      <td>0.00</td>\n      <td>0.00</td>\n      <td>0.00</td>\n    </tr>\n  </tbody>\n</table>\n<p>12457 rows × 1278 columns</p>\n</div>"
     },
     "execution_count": 9,
     "metadata": {},
     "output_type": "execute_result"
    }
   ],
   "source": [
    "ds.getDescriptors()"
   ],
   "metadata": {
    "collapsed": false
   }
  },
  {
   "cell_type": "markdown",
   "source": [
    "We can of course combine this with molecular descriptors as well:"
   ],
   "metadata": {
    "collapsed": false
   }
  },
  {
   "cell_type": "code",
   "execution_count": 10,
   "outputs": [
    {
     "data": {
      "text/plain": "Parallel apply in progress for AR_LIGANDS.:   0%|          | 0/21 [00:00<?, ?it/s]",
      "application/vnd.jupyter.widget-view+json": {
       "version_major": 2,
       "version_minor": 0,
       "model_id": "dedbb49cc20d4df692141fc87e781b85"
      }
     },
     "metadata": {},
     "output_type": "display_data"
    },
    {
     "data": {
      "text/plain": "                  Descriptor_PCM_ProDec_Zscale_1  \\\nQSPRID                                             \nAR_LIGANDS_0                                0.00   \nAR_LIGANDS_1                                0.00   \nAR_LIGANDS_2                                0.00   \nAR_LIGANDS_3                               -2.49   \nAR_LIGANDS_4                                0.00   \n...                                          ...   \nAR_LIGANDS_12452                            0.00   \nAR_LIGANDS_12453                           -2.49   \nAR_LIGANDS_12454                            0.00   \nAR_LIGANDS_12455                            0.00   \nAR_LIGANDS_12456                            0.00   \n\n                  Descriptor_PCM_ProDec_Zscale_2  \\\nQSPRID                                             \nAR_LIGANDS_0                                0.00   \nAR_LIGANDS_1                                0.00   \nAR_LIGANDS_2                                0.00   \nAR_LIGANDS_3                               -0.27   \nAR_LIGANDS_4                                0.00   \n...                                          ...   \nAR_LIGANDS_12452                            0.00   \nAR_LIGANDS_12453                           -0.27   \nAR_LIGANDS_12454                            0.00   \nAR_LIGANDS_12455                            0.00   \nAR_LIGANDS_12456                            0.00   \n\n                  Descriptor_PCM_ProDec_Zscale_3  \\\nQSPRID                                             \nAR_LIGANDS_0                                0.00   \nAR_LIGANDS_1                                0.00   \nAR_LIGANDS_2                                0.00   \nAR_LIGANDS_3                               -0.41   \nAR_LIGANDS_4                                0.00   \n...                                          ...   \nAR_LIGANDS_12452                            0.00   \nAR_LIGANDS_12453                           -0.41   \nAR_LIGANDS_12454                            0.00   \nAR_LIGANDS_12455                            0.00   \nAR_LIGANDS_12456                            0.00   \n\n                  Descriptor_PCM_ProDec_Zscale_4  \\\nQSPRID                                             \nAR_LIGANDS_0                                0.00   \nAR_LIGANDS_1                                0.00   \nAR_LIGANDS_2                                0.00   \nAR_LIGANDS_3                               -1.22   \nAR_LIGANDS_4                                0.00   \n...                                          ...   \nAR_LIGANDS_12452                            0.00   \nAR_LIGANDS_12453                           -1.22   \nAR_LIGANDS_12454                            0.00   \nAR_LIGANDS_12455                            0.00   \nAR_LIGANDS_12456                            0.00   \n\n                  Descriptor_PCM_ProDec_Zscale_5  \\\nQSPRID                                             \nAR_LIGANDS_0                                0.00   \nAR_LIGANDS_1                                0.00   \nAR_LIGANDS_2                                0.00   \nAR_LIGANDS_3                                0.88   \nAR_LIGANDS_4                                0.00   \n...                                          ...   \nAR_LIGANDS_12452                            0.00   \nAR_LIGANDS_12453                            0.88   \nAR_LIGANDS_12454                            0.00   \nAR_LIGANDS_12455                            0.00   \nAR_LIGANDS_12456                            0.00   \n\n                  Descriptor_PCM_ProDec_Zscale_6  \\\nQSPRID                                             \nAR_LIGANDS_0                                0.00   \nAR_LIGANDS_1                                0.00   \nAR_LIGANDS_2                                0.00   \nAR_LIGANDS_3                                2.23   \nAR_LIGANDS_4                                0.00   \n...                                          ...   \nAR_LIGANDS_12452                            0.00   \nAR_LIGANDS_12453                            2.23   \nAR_LIGANDS_12454                            0.00   \nAR_LIGANDS_12455                            0.00   \nAR_LIGANDS_12456                            0.00   \n\n                  Descriptor_PCM_ProDec_Zscale_7  \\\nQSPRID                                             \nAR_LIGANDS_0                                0.00   \nAR_LIGANDS_1                                0.00   \nAR_LIGANDS_2                                0.00   \nAR_LIGANDS_3                                3.22   \nAR_LIGANDS_4                                0.00   \n...                                          ...   \nAR_LIGANDS_12452                            0.00   \nAR_LIGANDS_12453                            3.22   \nAR_LIGANDS_12454                            0.00   \nAR_LIGANDS_12455                            0.00   \nAR_LIGANDS_12456                            0.00   \n\n                  Descriptor_PCM_ProDec_Zscale_8  \\\nQSPRID                                             \nAR_LIGANDS_0                                0.00   \nAR_LIGANDS_1                                0.00   \nAR_LIGANDS_2                                0.00   \nAR_LIGANDS_3                                1.45   \nAR_LIGANDS_4                                0.00   \n...                                          ...   \nAR_LIGANDS_12452                            0.00   \nAR_LIGANDS_12453                            1.45   \nAR_LIGANDS_12454                            0.00   \nAR_LIGANDS_12455                            0.00   \nAR_LIGANDS_12456                            0.00   \n\n                  Descriptor_PCM_ProDec_Zscale_9  \\\nQSPRID                                             \nAR_LIGANDS_0                                0.00   \nAR_LIGANDS_1                                0.00   \nAR_LIGANDS_2                                0.00   \nAR_LIGANDS_3                                0.84   \nAR_LIGANDS_4                                0.00   \n...                                          ...   \nAR_LIGANDS_12452                            0.00   \nAR_LIGANDS_12453                            0.84   \nAR_LIGANDS_12454                            0.00   \nAR_LIGANDS_12455                            0.00   \nAR_LIGANDS_12456                            0.00   \n\n                  Descriptor_PCM_ProDec_Zscale_10  ...  \\\nQSPRID                                             ...   \nAR_LIGANDS_0                                 0.00  ...   \nAR_LIGANDS_1                                -2.49  ...   \nAR_LIGANDS_2                                 0.00  ...   \nAR_LIGANDS_3                                 3.22  ...   \nAR_LIGANDS_4                                 0.00  ...   \n...                                           ...  ...   \nAR_LIGANDS_12452                             0.00  ...   \nAR_LIGANDS_12453                             3.22  ...   \nAR_LIGANDS_12454                             0.00  ...   \nAR_LIGANDS_12455                             0.00  ...   \nAR_LIGANDS_12456                            -2.49  ...   \n\n                  Descriptor_RDkit_fr_sulfide  Descriptor_RDkit_fr_sulfonamd  \\\nQSPRID                                                                         \nAR_LIGANDS_0                              0.0                            0.0   \nAR_LIGANDS_1                              0.0                            0.0   \nAR_LIGANDS_2                              0.0                            0.0   \nAR_LIGANDS_3                              0.0                            0.0   \nAR_LIGANDS_4                              0.0                            0.0   \n...                                       ...                            ...   \nAR_LIGANDS_12452                          0.0                            0.0   \nAR_LIGANDS_12453                          0.0                            0.0   \nAR_LIGANDS_12454                          0.0                            0.0   \nAR_LIGANDS_12455                          0.0                            0.0   \nAR_LIGANDS_12456                          0.0                            0.0   \n\n                  Descriptor_RDkit_fr_sulfone  \\\nQSPRID                                          \nAR_LIGANDS_0                              0.0   \nAR_LIGANDS_1                              0.0   \nAR_LIGANDS_2                              0.0   \nAR_LIGANDS_3                              0.0   \nAR_LIGANDS_4                              0.0   \n...                                       ...   \nAR_LIGANDS_12452                          0.0   \nAR_LIGANDS_12453                          0.0   \nAR_LIGANDS_12454                          0.0   \nAR_LIGANDS_12455                          0.0   \nAR_LIGANDS_12456                          0.0   \n\n                  Descriptor_RDkit_fr_term_acetylene  \\\nQSPRID                                                 \nAR_LIGANDS_0                                     0.0   \nAR_LIGANDS_1                                     0.0   \nAR_LIGANDS_2                                     0.0   \nAR_LIGANDS_3                                     0.0   \nAR_LIGANDS_4                                     0.0   \n...                                              ...   \nAR_LIGANDS_12452                                 0.0   \nAR_LIGANDS_12453                                 0.0   \nAR_LIGANDS_12454                                 0.0   \nAR_LIGANDS_12455                                 0.0   \nAR_LIGANDS_12456                                 0.0   \n\n                  Descriptor_RDkit_fr_tetrazole  Descriptor_RDkit_fr_thiazole  \\\nQSPRID                                                                          \nAR_LIGANDS_0                                0.0                           0.0   \nAR_LIGANDS_1                                0.0                           0.0   \nAR_LIGANDS_2                                0.0                           0.0   \nAR_LIGANDS_3                                0.0                           0.0   \nAR_LIGANDS_4                                0.0                           0.0   \n...                                         ...                           ...   \nAR_LIGANDS_12452                            0.0                           0.0   \nAR_LIGANDS_12453                            0.0                           0.0   \nAR_LIGANDS_12454                            0.0                           0.0   \nAR_LIGANDS_12455                            0.0                           0.0   \nAR_LIGANDS_12456                            0.0                           0.0   \n\n                  Descriptor_RDkit_fr_thiocyan  Descriptor_RDkit_fr_thiophene  \\\nQSPRID                                                                          \nAR_LIGANDS_0                               0.0                            0.0   \nAR_LIGANDS_1                               0.0                            0.0   \nAR_LIGANDS_2                               0.0                            1.0   \nAR_LIGANDS_3                               0.0                            0.0   \nAR_LIGANDS_4                               0.0                            0.0   \n...                                        ...                            ...   \nAR_LIGANDS_12452                           0.0                            0.0   \nAR_LIGANDS_12453                           0.0                            0.0   \nAR_LIGANDS_12454                           0.0                            0.0   \nAR_LIGANDS_12455                           0.0                            0.0   \nAR_LIGANDS_12456                           0.0                            0.0   \n\n                  Descriptor_RDkit_fr_unbrch_alkane  Descriptor_RDkit_fr_urea  \nQSPRID                                                                         \nAR_LIGANDS_0                                    0.0                       0.0  \nAR_LIGANDS_1                                    0.0                       0.0  \nAR_LIGANDS_2                                    0.0                       0.0  \nAR_LIGANDS_3                                    0.0                       0.0  \nAR_LIGANDS_4                                    0.0                       0.0  \n...                                             ...                       ...  \nAR_LIGANDS_12452                                0.0                       0.0  \nAR_LIGANDS_12453                                0.0                       0.0  \nAR_LIGANDS_12454                                0.0                       0.0  \nAR_LIGANDS_12455                                0.0                       0.0  \nAR_LIGANDS_12456                                0.0                       0.0  \n\n[12457 rows x 1486 columns]",
      "text/html": "<div>\n<style scoped>\n    .dataframe tbody tr th:only-of-type {\n        vertical-align: middle;\n    }\n\n    .dataframe tbody tr th {\n        vertical-align: top;\n    }\n\n    .dataframe thead th {\n        text-align: right;\n    }\n</style>\n<table border=\"1\" class=\"dataframe\">\n  <thead>\n    <tr style=\"text-align: right;\">\n      <th></th>\n      <th>Descriptor_PCM_ProDec_Zscale_1</th>\n      <th>Descriptor_PCM_ProDec_Zscale_2</th>\n      <th>Descriptor_PCM_ProDec_Zscale_3</th>\n      <th>Descriptor_PCM_ProDec_Zscale_4</th>\n      <th>Descriptor_PCM_ProDec_Zscale_5</th>\n      <th>Descriptor_PCM_ProDec_Zscale_6</th>\n      <th>Descriptor_PCM_ProDec_Zscale_7</th>\n      <th>Descriptor_PCM_ProDec_Zscale_8</th>\n      <th>Descriptor_PCM_ProDec_Zscale_9</th>\n      <th>Descriptor_PCM_ProDec_Zscale_10</th>\n      <th>...</th>\n      <th>Descriptor_RDkit_fr_sulfide</th>\n      <th>Descriptor_RDkit_fr_sulfonamd</th>\n      <th>Descriptor_RDkit_fr_sulfone</th>\n      <th>Descriptor_RDkit_fr_term_acetylene</th>\n      <th>Descriptor_RDkit_fr_tetrazole</th>\n      <th>Descriptor_RDkit_fr_thiazole</th>\n      <th>Descriptor_RDkit_fr_thiocyan</th>\n      <th>Descriptor_RDkit_fr_thiophene</th>\n      <th>Descriptor_RDkit_fr_unbrch_alkane</th>\n      <th>Descriptor_RDkit_fr_urea</th>\n    </tr>\n    <tr>\n      <th>QSPRID</th>\n      <th></th>\n      <th></th>\n      <th></th>\n      <th></th>\n      <th></th>\n      <th></th>\n      <th></th>\n      <th></th>\n      <th></th>\n      <th></th>\n      <th></th>\n      <th></th>\n      <th></th>\n      <th></th>\n      <th></th>\n      <th></th>\n      <th></th>\n      <th></th>\n      <th></th>\n      <th></th>\n      <th></th>\n    </tr>\n  </thead>\n  <tbody>\n    <tr>\n      <th>AR_LIGANDS_0</th>\n      <td>0.00</td>\n      <td>0.00</td>\n      <td>0.00</td>\n      <td>0.00</td>\n      <td>0.00</td>\n      <td>0.00</td>\n      <td>0.00</td>\n      <td>0.00</td>\n      <td>0.00</td>\n      <td>0.00</td>\n      <td>...</td>\n      <td>0.0</td>\n      <td>0.0</td>\n      <td>0.0</td>\n      <td>0.0</td>\n      <td>0.0</td>\n      <td>0.0</td>\n      <td>0.0</td>\n      <td>0.0</td>\n      <td>0.0</td>\n      <td>0.0</td>\n    </tr>\n    <tr>\n      <th>AR_LIGANDS_1</th>\n      <td>0.00</td>\n      <td>0.00</td>\n      <td>0.00</td>\n      <td>0.00</td>\n      <td>0.00</td>\n      <td>0.00</td>\n      <td>0.00</td>\n      <td>0.00</td>\n      <td>0.00</td>\n      <td>-2.49</td>\n      <td>...</td>\n      <td>0.0</td>\n      <td>0.0</td>\n      <td>0.0</td>\n      <td>0.0</td>\n      <td>0.0</td>\n      <td>0.0</td>\n      <td>0.0</td>\n      <td>0.0</td>\n      <td>0.0</td>\n      <td>0.0</td>\n    </tr>\n    <tr>\n      <th>AR_LIGANDS_2</th>\n      <td>0.00</td>\n      <td>0.00</td>\n      <td>0.00</td>\n      <td>0.00</td>\n      <td>0.00</td>\n      <td>0.00</td>\n      <td>0.00</td>\n      <td>0.00</td>\n      <td>0.00</td>\n      <td>0.00</td>\n      <td>...</td>\n      <td>0.0</td>\n      <td>0.0</td>\n      <td>0.0</td>\n      <td>0.0</td>\n      <td>0.0</td>\n      <td>0.0</td>\n      <td>0.0</td>\n      <td>1.0</td>\n      <td>0.0</td>\n      <td>0.0</td>\n    </tr>\n    <tr>\n      <th>AR_LIGANDS_3</th>\n      <td>-2.49</td>\n      <td>-0.27</td>\n      <td>-0.41</td>\n      <td>-1.22</td>\n      <td>0.88</td>\n      <td>2.23</td>\n      <td>3.22</td>\n      <td>1.45</td>\n      <td>0.84</td>\n      <td>3.22</td>\n      <td>...</td>\n      <td>0.0</td>\n      <td>0.0</td>\n      <td>0.0</td>\n      <td>0.0</td>\n      <td>0.0</td>\n      <td>0.0</td>\n      <td>0.0</td>\n      <td>0.0</td>\n      <td>0.0</td>\n      <td>0.0</td>\n    </tr>\n    <tr>\n      <th>AR_LIGANDS_4</th>\n      <td>0.00</td>\n      <td>0.00</td>\n      <td>0.00</td>\n      <td>0.00</td>\n      <td>0.00</td>\n      <td>0.00</td>\n      <td>0.00</td>\n      <td>0.00</td>\n      <td>0.00</td>\n      <td>0.00</td>\n      <td>...</td>\n      <td>0.0</td>\n      <td>0.0</td>\n      <td>0.0</td>\n      <td>0.0</td>\n      <td>0.0</td>\n      <td>0.0</td>\n      <td>0.0</td>\n      <td>0.0</td>\n      <td>0.0</td>\n      <td>0.0</td>\n    </tr>\n    <tr>\n      <th>...</th>\n      <td>...</td>\n      <td>...</td>\n      <td>...</td>\n      <td>...</td>\n      <td>...</td>\n      <td>...</td>\n      <td>...</td>\n      <td>...</td>\n      <td>...</td>\n      <td>...</td>\n      <td>...</td>\n      <td>...</td>\n      <td>...</td>\n      <td>...</td>\n      <td>...</td>\n      <td>...</td>\n      <td>...</td>\n      <td>...</td>\n      <td>...</td>\n      <td>...</td>\n      <td>...</td>\n    </tr>\n    <tr>\n      <th>AR_LIGANDS_12452</th>\n      <td>0.00</td>\n      <td>0.00</td>\n      <td>0.00</td>\n      <td>0.00</td>\n      <td>0.00</td>\n      <td>0.00</td>\n      <td>0.00</td>\n      <td>0.00</td>\n      <td>0.00</td>\n      <td>0.00</td>\n      <td>...</td>\n      <td>0.0</td>\n      <td>0.0</td>\n      <td>0.0</td>\n      <td>0.0</td>\n      <td>0.0</td>\n      <td>0.0</td>\n      <td>0.0</td>\n      <td>0.0</td>\n      <td>0.0</td>\n      <td>0.0</td>\n    </tr>\n    <tr>\n      <th>AR_LIGANDS_12453</th>\n      <td>-2.49</td>\n      <td>-0.27</td>\n      <td>-0.41</td>\n      <td>-1.22</td>\n      <td>0.88</td>\n      <td>2.23</td>\n      <td>3.22</td>\n      <td>1.45</td>\n      <td>0.84</td>\n      <td>3.22</td>\n      <td>...</td>\n      <td>0.0</td>\n      <td>0.0</td>\n      <td>0.0</td>\n      <td>0.0</td>\n      <td>0.0</td>\n      <td>0.0</td>\n      <td>0.0</td>\n      <td>0.0</td>\n      <td>0.0</td>\n      <td>0.0</td>\n    </tr>\n    <tr>\n      <th>AR_LIGANDS_12454</th>\n      <td>0.00</td>\n      <td>0.00</td>\n      <td>0.00</td>\n      <td>0.00</td>\n      <td>0.00</td>\n      <td>0.00</td>\n      <td>0.00</td>\n      <td>0.00</td>\n      <td>0.00</td>\n      <td>0.00</td>\n      <td>...</td>\n      <td>0.0</td>\n      <td>0.0</td>\n      <td>0.0</td>\n      <td>0.0</td>\n      <td>0.0</td>\n      <td>0.0</td>\n      <td>0.0</td>\n      <td>0.0</td>\n      <td>0.0</td>\n      <td>0.0</td>\n    </tr>\n    <tr>\n      <th>AR_LIGANDS_12455</th>\n      <td>0.00</td>\n      <td>0.00</td>\n      <td>0.00</td>\n      <td>0.00</td>\n      <td>0.00</td>\n      <td>0.00</td>\n      <td>0.00</td>\n      <td>0.00</td>\n      <td>0.00</td>\n      <td>0.00</td>\n      <td>...</td>\n      <td>0.0</td>\n      <td>0.0</td>\n      <td>0.0</td>\n      <td>0.0</td>\n      <td>0.0</td>\n      <td>0.0</td>\n      <td>0.0</td>\n      <td>0.0</td>\n      <td>0.0</td>\n      <td>0.0</td>\n    </tr>\n    <tr>\n      <th>AR_LIGANDS_12456</th>\n      <td>0.00</td>\n      <td>0.00</td>\n      <td>0.00</td>\n      <td>0.00</td>\n      <td>0.00</td>\n      <td>0.00</td>\n      <td>0.00</td>\n      <td>0.00</td>\n      <td>0.00</td>\n      <td>-2.49</td>\n      <td>...</td>\n      <td>0.0</td>\n      <td>0.0</td>\n      <td>0.0</td>\n      <td>0.0</td>\n      <td>0.0</td>\n      <td>0.0</td>\n      <td>0.0</td>\n      <td>0.0</td>\n      <td>0.0</td>\n      <td>0.0</td>\n    </tr>\n  </tbody>\n</table>\n<p>12457 rows × 1486 columns</p>\n</div>"
     },
     "execution_count": 10,
     "metadata": {},
     "output_type": "execute_result"
    }
   ],
   "source": [
    "from qsprpred.data.utils.descriptorsets import rdkit_descs\n",
    "from qsprpred.data.utils.descriptorcalculator import MoleculeDescriptorsCalculator\n",
    "\n",
    "ds.nJobs = 12 # speeding things up a little\n",
    "calc = MoleculeDescriptorsCalculator(descsets=[rdkit_descs()])\n",
    "ds.addDescriptors(calc)\n",
    "ds.getDescriptors()"
   ],
   "metadata": {
    "collapsed": false
   }
  },
  {
   "cell_type": "markdown",
   "source": [
    "## Adding Precalculated Descriptors\n",
    "\n",
    "It is also possible to add custom precalculated descriptors. We just need to use the appropriate method and calculator. Let's consider a hypothetical example of adding the `Year` column as a descriptor:"
   ],
   "metadata": {
    "collapsed": false
   }
  },
  {
   "cell_type": "code",
   "execution_count": 11,
   "outputs": [
    {
     "data": {
      "text/plain": "                  Descriptor_PCM_ProDec_Zscale_1  \\\nQSPRID                                             \nAR_LIGANDS_0                                0.00   \nAR_LIGANDS_1                                0.00   \nAR_LIGANDS_2                                0.00   \nAR_LIGANDS_3                               -2.49   \nAR_LIGANDS_4                                0.00   \n...                                          ...   \nAR_LIGANDS_12452                            0.00   \nAR_LIGANDS_12453                           -2.49   \nAR_LIGANDS_12454                            0.00   \nAR_LIGANDS_12455                            0.00   \nAR_LIGANDS_12456                            0.00   \n\n                  Descriptor_PCM_ProDec_Zscale_2  \\\nQSPRID                                             \nAR_LIGANDS_0                                0.00   \nAR_LIGANDS_1                                0.00   \nAR_LIGANDS_2                                0.00   \nAR_LIGANDS_3                               -0.27   \nAR_LIGANDS_4                                0.00   \n...                                          ...   \nAR_LIGANDS_12452                            0.00   \nAR_LIGANDS_12453                           -0.27   \nAR_LIGANDS_12454                            0.00   \nAR_LIGANDS_12455                            0.00   \nAR_LIGANDS_12456                            0.00   \n\n                  Descriptor_PCM_ProDec_Zscale_3  \\\nQSPRID                                             \nAR_LIGANDS_0                                0.00   \nAR_LIGANDS_1                                0.00   \nAR_LIGANDS_2                                0.00   \nAR_LIGANDS_3                               -0.41   \nAR_LIGANDS_4                                0.00   \n...                                          ...   \nAR_LIGANDS_12452                            0.00   \nAR_LIGANDS_12453                           -0.41   \nAR_LIGANDS_12454                            0.00   \nAR_LIGANDS_12455                            0.00   \nAR_LIGANDS_12456                            0.00   \n\n                  Descriptor_PCM_ProDec_Zscale_4  \\\nQSPRID                                             \nAR_LIGANDS_0                                0.00   \nAR_LIGANDS_1                                0.00   \nAR_LIGANDS_2                                0.00   \nAR_LIGANDS_3                               -1.22   \nAR_LIGANDS_4                                0.00   \n...                                          ...   \nAR_LIGANDS_12452                            0.00   \nAR_LIGANDS_12453                           -1.22   \nAR_LIGANDS_12454                            0.00   \nAR_LIGANDS_12455                            0.00   \nAR_LIGANDS_12456                            0.00   \n\n                  Descriptor_PCM_ProDec_Zscale_5  \\\nQSPRID                                             \nAR_LIGANDS_0                                0.00   \nAR_LIGANDS_1                                0.00   \nAR_LIGANDS_2                                0.00   \nAR_LIGANDS_3                                0.88   \nAR_LIGANDS_4                                0.00   \n...                                          ...   \nAR_LIGANDS_12452                            0.00   \nAR_LIGANDS_12453                            0.88   \nAR_LIGANDS_12454                            0.00   \nAR_LIGANDS_12455                            0.00   \nAR_LIGANDS_12456                            0.00   \n\n                  Descriptor_PCM_ProDec_Zscale_6  \\\nQSPRID                                             \nAR_LIGANDS_0                                0.00   \nAR_LIGANDS_1                                0.00   \nAR_LIGANDS_2                                0.00   \nAR_LIGANDS_3                                2.23   \nAR_LIGANDS_4                                0.00   \n...                                          ...   \nAR_LIGANDS_12452                            0.00   \nAR_LIGANDS_12453                            2.23   \nAR_LIGANDS_12454                            0.00   \nAR_LIGANDS_12455                            0.00   \nAR_LIGANDS_12456                            0.00   \n\n                  Descriptor_PCM_ProDec_Zscale_7  \\\nQSPRID                                             \nAR_LIGANDS_0                                0.00   \nAR_LIGANDS_1                                0.00   \nAR_LIGANDS_2                                0.00   \nAR_LIGANDS_3                                3.22   \nAR_LIGANDS_4                                0.00   \n...                                          ...   \nAR_LIGANDS_12452                            0.00   \nAR_LIGANDS_12453                            3.22   \nAR_LIGANDS_12454                            0.00   \nAR_LIGANDS_12455                            0.00   \nAR_LIGANDS_12456                            0.00   \n\n                  Descriptor_PCM_ProDec_Zscale_8  \\\nQSPRID                                             \nAR_LIGANDS_0                                0.00   \nAR_LIGANDS_1                                0.00   \nAR_LIGANDS_2                                0.00   \nAR_LIGANDS_3                                1.45   \nAR_LIGANDS_4                                0.00   \n...                                          ...   \nAR_LIGANDS_12452                            0.00   \nAR_LIGANDS_12453                            1.45   \nAR_LIGANDS_12454                            0.00   \nAR_LIGANDS_12455                            0.00   \nAR_LIGANDS_12456                            0.00   \n\n                  Descriptor_PCM_ProDec_Zscale_9  \\\nQSPRID                                             \nAR_LIGANDS_0                                0.00   \nAR_LIGANDS_1                                0.00   \nAR_LIGANDS_2                                0.00   \nAR_LIGANDS_3                                0.84   \nAR_LIGANDS_4                                0.00   \n...                                          ...   \nAR_LIGANDS_12452                            0.00   \nAR_LIGANDS_12453                            0.84   \nAR_LIGANDS_12454                            0.00   \nAR_LIGANDS_12455                            0.00   \nAR_LIGANDS_12456                            0.00   \n\n                  Descriptor_PCM_ProDec_Zscale_10  ...  \\\nQSPRID                                             ...   \nAR_LIGANDS_0                                 0.00  ...   \nAR_LIGANDS_1                                -2.49  ...   \nAR_LIGANDS_2                                 0.00  ...   \nAR_LIGANDS_3                                 3.22  ...   \nAR_LIGANDS_4                                 0.00  ...   \n...                                           ...  ...   \nAR_LIGANDS_12452                             0.00  ...   \nAR_LIGANDS_12453                             3.22  ...   \nAR_LIGANDS_12454                             0.00  ...   \nAR_LIGANDS_12455                             0.00  ...   \nAR_LIGANDS_12456                            -2.49  ...   \n\n                  Descriptor_RDkit_fr_sulfonamd  Descriptor_RDkit_fr_sulfone  \\\nQSPRID                                                                         \nAR_LIGANDS_0                                0.0                          0.0   \nAR_LIGANDS_1                                0.0                          0.0   \nAR_LIGANDS_2                                0.0                          0.0   \nAR_LIGANDS_3                                0.0                          0.0   \nAR_LIGANDS_4                                0.0                          0.0   \n...                                         ...                          ...   \nAR_LIGANDS_12452                            0.0                          0.0   \nAR_LIGANDS_12453                            0.0                          0.0   \nAR_LIGANDS_12454                            0.0                          0.0   \nAR_LIGANDS_12455                            0.0                          0.0   \nAR_LIGANDS_12456                            0.0                          0.0   \n\n                  Descriptor_RDkit_fr_term_acetylene  \\\nQSPRID                                                 \nAR_LIGANDS_0                                     0.0   \nAR_LIGANDS_1                                     0.0   \nAR_LIGANDS_2                                     0.0   \nAR_LIGANDS_3                                     0.0   \nAR_LIGANDS_4                                     0.0   \n...                                              ...   \nAR_LIGANDS_12452                                 0.0   \nAR_LIGANDS_12453                                 0.0   \nAR_LIGANDS_12454                                 0.0   \nAR_LIGANDS_12455                                 0.0   \nAR_LIGANDS_12456                                 0.0   \n\n                  Descriptor_RDkit_fr_tetrazole  Descriptor_RDkit_fr_thiazole  \\\nQSPRID                                                                          \nAR_LIGANDS_0                                0.0                           0.0   \nAR_LIGANDS_1                                0.0                           0.0   \nAR_LIGANDS_2                                0.0                           0.0   \nAR_LIGANDS_3                                0.0                           0.0   \nAR_LIGANDS_4                                0.0                           0.0   \n...                                         ...                           ...   \nAR_LIGANDS_12452                            0.0                           0.0   \nAR_LIGANDS_12453                            0.0                           0.0   \nAR_LIGANDS_12454                            0.0                           0.0   \nAR_LIGANDS_12455                            0.0                           0.0   \nAR_LIGANDS_12456                            0.0                           0.0   \n\n                  Descriptor_RDkit_fr_thiocyan  Descriptor_RDkit_fr_thiophene  \\\nQSPRID                                                                          \nAR_LIGANDS_0                               0.0                            0.0   \nAR_LIGANDS_1                               0.0                            0.0   \nAR_LIGANDS_2                               0.0                            1.0   \nAR_LIGANDS_3                               0.0                            0.0   \nAR_LIGANDS_4                               0.0                            0.0   \n...                                        ...                            ...   \nAR_LIGANDS_12452                           0.0                            0.0   \nAR_LIGANDS_12453                           0.0                            0.0   \nAR_LIGANDS_12454                           0.0                            0.0   \nAR_LIGANDS_12455                           0.0                            0.0   \nAR_LIGANDS_12456                           0.0                            0.0   \n\n                  Descriptor_RDkit_fr_unbrch_alkane  Descriptor_RDkit_fr_urea  \\\nQSPRID                                                                          \nAR_LIGANDS_0                                    0.0                       0.0   \nAR_LIGANDS_1                                    0.0                       0.0   \nAR_LIGANDS_2                                    0.0                       0.0   \nAR_LIGANDS_3                                    0.0                       0.0   \nAR_LIGANDS_4                                    0.0                       0.0   \n...                                             ...                       ...   \nAR_LIGANDS_12452                                0.0                       0.0   \nAR_LIGANDS_12453                                0.0                       0.0   \nAR_LIGANDS_12454                                0.0                       0.0   \nAR_LIGANDS_12455                                0.0                       0.0   \nAR_LIGANDS_12456                                0.0                       0.0   \n\n                  Descriptor_Custom_DataFrame_Year  \nQSPRID                                              \nAR_LIGANDS_0                                2008.0  \nAR_LIGANDS_1                                2008.0  \nAR_LIGANDS_2                                2010.0  \nAR_LIGANDS_3                                2009.0  \nAR_LIGANDS_4                                2009.0  \n...                                            ...  \nAR_LIGANDS_12452                            2013.0  \nAR_LIGANDS_12453                            2014.0  \nAR_LIGANDS_12454                            2014.0  \nAR_LIGANDS_12455                            2014.0  \nAR_LIGANDS_12456                            2014.0  \n\n[12457 rows x 1487 columns]",
      "text/html": "<div>\n<style scoped>\n    .dataframe tbody tr th:only-of-type {\n        vertical-align: middle;\n    }\n\n    .dataframe tbody tr th {\n        vertical-align: top;\n    }\n\n    .dataframe thead th {\n        text-align: right;\n    }\n</style>\n<table border=\"1\" class=\"dataframe\">\n  <thead>\n    <tr style=\"text-align: right;\">\n      <th></th>\n      <th>Descriptor_PCM_ProDec_Zscale_1</th>\n      <th>Descriptor_PCM_ProDec_Zscale_2</th>\n      <th>Descriptor_PCM_ProDec_Zscale_3</th>\n      <th>Descriptor_PCM_ProDec_Zscale_4</th>\n      <th>Descriptor_PCM_ProDec_Zscale_5</th>\n      <th>Descriptor_PCM_ProDec_Zscale_6</th>\n      <th>Descriptor_PCM_ProDec_Zscale_7</th>\n      <th>Descriptor_PCM_ProDec_Zscale_8</th>\n      <th>Descriptor_PCM_ProDec_Zscale_9</th>\n      <th>Descriptor_PCM_ProDec_Zscale_10</th>\n      <th>...</th>\n      <th>Descriptor_RDkit_fr_sulfonamd</th>\n      <th>Descriptor_RDkit_fr_sulfone</th>\n      <th>Descriptor_RDkit_fr_term_acetylene</th>\n      <th>Descriptor_RDkit_fr_tetrazole</th>\n      <th>Descriptor_RDkit_fr_thiazole</th>\n      <th>Descriptor_RDkit_fr_thiocyan</th>\n      <th>Descriptor_RDkit_fr_thiophene</th>\n      <th>Descriptor_RDkit_fr_unbrch_alkane</th>\n      <th>Descriptor_RDkit_fr_urea</th>\n      <th>Descriptor_Custom_DataFrame_Year</th>\n    </tr>\n    <tr>\n      <th>QSPRID</th>\n      <th></th>\n      <th></th>\n      <th></th>\n      <th></th>\n      <th></th>\n      <th></th>\n      <th></th>\n      <th></th>\n      <th></th>\n      <th></th>\n      <th></th>\n      <th></th>\n      <th></th>\n      <th></th>\n      <th></th>\n      <th></th>\n      <th></th>\n      <th></th>\n      <th></th>\n      <th></th>\n      <th></th>\n    </tr>\n  </thead>\n  <tbody>\n    <tr>\n      <th>AR_LIGANDS_0</th>\n      <td>0.00</td>\n      <td>0.00</td>\n      <td>0.00</td>\n      <td>0.00</td>\n      <td>0.00</td>\n      <td>0.00</td>\n      <td>0.00</td>\n      <td>0.00</td>\n      <td>0.00</td>\n      <td>0.00</td>\n      <td>...</td>\n      <td>0.0</td>\n      <td>0.0</td>\n      <td>0.0</td>\n      <td>0.0</td>\n      <td>0.0</td>\n      <td>0.0</td>\n      <td>0.0</td>\n      <td>0.0</td>\n      <td>0.0</td>\n      <td>2008.0</td>\n    </tr>\n    <tr>\n      <th>AR_LIGANDS_1</th>\n      <td>0.00</td>\n      <td>0.00</td>\n      <td>0.00</td>\n      <td>0.00</td>\n      <td>0.00</td>\n      <td>0.00</td>\n      <td>0.00</td>\n      <td>0.00</td>\n      <td>0.00</td>\n      <td>-2.49</td>\n      <td>...</td>\n      <td>0.0</td>\n      <td>0.0</td>\n      <td>0.0</td>\n      <td>0.0</td>\n      <td>0.0</td>\n      <td>0.0</td>\n      <td>0.0</td>\n      <td>0.0</td>\n      <td>0.0</td>\n      <td>2008.0</td>\n    </tr>\n    <tr>\n      <th>AR_LIGANDS_2</th>\n      <td>0.00</td>\n      <td>0.00</td>\n      <td>0.00</td>\n      <td>0.00</td>\n      <td>0.00</td>\n      <td>0.00</td>\n      <td>0.00</td>\n      <td>0.00</td>\n      <td>0.00</td>\n      <td>0.00</td>\n      <td>...</td>\n      <td>0.0</td>\n      <td>0.0</td>\n      <td>0.0</td>\n      <td>0.0</td>\n      <td>0.0</td>\n      <td>0.0</td>\n      <td>1.0</td>\n      <td>0.0</td>\n      <td>0.0</td>\n      <td>2010.0</td>\n    </tr>\n    <tr>\n      <th>AR_LIGANDS_3</th>\n      <td>-2.49</td>\n      <td>-0.27</td>\n      <td>-0.41</td>\n      <td>-1.22</td>\n      <td>0.88</td>\n      <td>2.23</td>\n      <td>3.22</td>\n      <td>1.45</td>\n      <td>0.84</td>\n      <td>3.22</td>\n      <td>...</td>\n      <td>0.0</td>\n      <td>0.0</td>\n      <td>0.0</td>\n      <td>0.0</td>\n      <td>0.0</td>\n      <td>0.0</td>\n      <td>0.0</td>\n      <td>0.0</td>\n      <td>0.0</td>\n      <td>2009.0</td>\n    </tr>\n    <tr>\n      <th>AR_LIGANDS_4</th>\n      <td>0.00</td>\n      <td>0.00</td>\n      <td>0.00</td>\n      <td>0.00</td>\n      <td>0.00</td>\n      <td>0.00</td>\n      <td>0.00</td>\n      <td>0.00</td>\n      <td>0.00</td>\n      <td>0.00</td>\n      <td>...</td>\n      <td>0.0</td>\n      <td>0.0</td>\n      <td>0.0</td>\n      <td>0.0</td>\n      <td>0.0</td>\n      <td>0.0</td>\n      <td>0.0</td>\n      <td>0.0</td>\n      <td>0.0</td>\n      <td>2009.0</td>\n    </tr>\n    <tr>\n      <th>...</th>\n      <td>...</td>\n      <td>...</td>\n      <td>...</td>\n      <td>...</td>\n      <td>...</td>\n      <td>...</td>\n      <td>...</td>\n      <td>...</td>\n      <td>...</td>\n      <td>...</td>\n      <td>...</td>\n      <td>...</td>\n      <td>...</td>\n      <td>...</td>\n      <td>...</td>\n      <td>...</td>\n      <td>...</td>\n      <td>...</td>\n      <td>...</td>\n      <td>...</td>\n      <td>...</td>\n    </tr>\n    <tr>\n      <th>AR_LIGANDS_12452</th>\n      <td>0.00</td>\n      <td>0.00</td>\n      <td>0.00</td>\n      <td>0.00</td>\n      <td>0.00</td>\n      <td>0.00</td>\n      <td>0.00</td>\n      <td>0.00</td>\n      <td>0.00</td>\n      <td>0.00</td>\n      <td>...</td>\n      <td>0.0</td>\n      <td>0.0</td>\n      <td>0.0</td>\n      <td>0.0</td>\n      <td>0.0</td>\n      <td>0.0</td>\n      <td>0.0</td>\n      <td>0.0</td>\n      <td>0.0</td>\n      <td>2013.0</td>\n    </tr>\n    <tr>\n      <th>AR_LIGANDS_12453</th>\n      <td>-2.49</td>\n      <td>-0.27</td>\n      <td>-0.41</td>\n      <td>-1.22</td>\n      <td>0.88</td>\n      <td>2.23</td>\n      <td>3.22</td>\n      <td>1.45</td>\n      <td>0.84</td>\n      <td>3.22</td>\n      <td>...</td>\n      <td>0.0</td>\n      <td>0.0</td>\n      <td>0.0</td>\n      <td>0.0</td>\n      <td>0.0</td>\n      <td>0.0</td>\n      <td>0.0</td>\n      <td>0.0</td>\n      <td>0.0</td>\n      <td>2014.0</td>\n    </tr>\n    <tr>\n      <th>AR_LIGANDS_12454</th>\n      <td>0.00</td>\n      <td>0.00</td>\n      <td>0.00</td>\n      <td>0.00</td>\n      <td>0.00</td>\n      <td>0.00</td>\n      <td>0.00</td>\n      <td>0.00</td>\n      <td>0.00</td>\n      <td>0.00</td>\n      <td>...</td>\n      <td>0.0</td>\n      <td>0.0</td>\n      <td>0.0</td>\n      <td>0.0</td>\n      <td>0.0</td>\n      <td>0.0</td>\n      <td>0.0</td>\n      <td>0.0</td>\n      <td>0.0</td>\n      <td>2014.0</td>\n    </tr>\n    <tr>\n      <th>AR_LIGANDS_12455</th>\n      <td>0.00</td>\n      <td>0.00</td>\n      <td>0.00</td>\n      <td>0.00</td>\n      <td>0.00</td>\n      <td>0.00</td>\n      <td>0.00</td>\n      <td>0.00</td>\n      <td>0.00</td>\n      <td>0.00</td>\n      <td>...</td>\n      <td>0.0</td>\n      <td>0.0</td>\n      <td>0.0</td>\n      <td>0.0</td>\n      <td>0.0</td>\n      <td>0.0</td>\n      <td>0.0</td>\n      <td>0.0</td>\n      <td>0.0</td>\n      <td>2014.0</td>\n    </tr>\n    <tr>\n      <th>AR_LIGANDS_12456</th>\n      <td>0.00</td>\n      <td>0.00</td>\n      <td>0.00</td>\n      <td>0.00</td>\n      <td>0.00</td>\n      <td>0.00</td>\n      <td>0.00</td>\n      <td>0.00</td>\n      <td>0.00</td>\n      <td>-2.49</td>\n      <td>...</td>\n      <td>0.0</td>\n      <td>0.0</td>\n      <td>0.0</td>\n      <td>0.0</td>\n      <td>0.0</td>\n      <td>0.0</td>\n      <td>0.0</td>\n      <td>0.0</td>\n      <td>0.0</td>\n      <td>2014.0</td>\n    </tr>\n  </tbody>\n</table>\n<p>12457 rows × 1487 columns</p>\n</div>"
     },
     "execution_count": 11,
     "metadata": {},
     "output_type": "execute_result"
    }
   ],
   "source": [
    "from qsprpred.data.utils.descriptorcalculator import CustomDescriptorsCalculator\n",
    "from qsprpred.data.utils.descriptorsets import DataFrameDescriptorSet\n",
    "\n",
    "calc = CustomDescriptorsCalculator(descsets=[\n",
    "    DataFrameDescriptorSet(ds.getDF()[[\"Year\"]])\n",
    "])\n",
    "ds.addCustomDescriptors(calc)\n",
    "ds.getDescriptors()"
   ],
   "metadata": {
    "collapsed": false
   }
  },
  {
   "cell_type": "markdown",
   "source": [
    "The only condition on the data frame passed to the `DataFrameDescriptorSet` is that it has the same index as the underlying data frame wrapped in the `MoleculeTable` or `QSPRDataset` we want to add the descriptors to.\n",
    "\n",
    "**WARNING:** Adding custom descriptors is tricky when you want to use the trained models for prediction. The model will not know how to calculate these descriptors for unknown compounds. So the use of this functionality should be limited to data set preparation or model evaluation on known sets only."
   ],
   "metadata": {
    "collapsed": false
   }
  },
  {
   "cell_type": "code",
   "execution_count": null,
   "outputs": [],
   "source": [],
   "metadata": {
    "collapsed": false
   }
  }
 ],
 "metadata": {
  "kernelspec": {
   "display_name": "Python 3",
   "language": "python",
   "name": "python3"
  },
  "language_info": {
   "codemirror_mode": {
    "name": "ipython",
    "version": 2
   },
   "file_extension": ".py",
   "mimetype": "text/x-python",
   "name": "python",
   "nbconvert_exporter": "python",
   "pygments_lexer": "ipython2",
   "version": "2.7.6"
  }
 },
 "nbformat": 4,
 "nbformat_minor": 0
}
