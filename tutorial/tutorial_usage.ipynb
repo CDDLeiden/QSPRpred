{
 "cells": [
  {
   "cell_type": "markdown",
   "metadata": {
    "collapsed": false
   },
   "source": [
    "# Get Prediction for Molecules with Pretrained QSAR Model\n",
    "To predict the bioactivity of a molecule for a protein target (in this case the GABA(A) receptor subunit alpha that we trained in the previous tutorial) you need to input the molecules as a list of SMILES strings to the deserialized model. In this tutorial we are going to predict the bioactivity of rotenone (SMILES: 'CC(=C)C1CC2=C(O1)C=CC3=C2OC4COC5=CC(=C(C=C5C4C3=O)OC)OC') and flumazenil, a known antagonist (SMILES: 'CCOC(=O)C1=C2CN(C(=O)C3=C(N2C=N1)C=CC(=C3)F)C')."
   ]
  },
  {
   "cell_type": "code",
   "execution_count": 1,
   "metadata": {},
   "outputs": [
    {
     "data": {
      "text/plain": [
       "<qsprpred.models.models.QSPRsklearn at 0x23cc1b3eb00>"
      ]
     },
     "execution_count": 1,
     "metadata": {},
     "output_type": "execute_result"
    }
   ],
   "source": [
    "from qsprpred.models.interfaces import QSPRModel\n",
    "\n",
    "# give path to saved metadata of the model and load it\n",
    "metadata_path = './qspr/models/PLS_REG/PLS_REG_meta.json'\n",
    "predictor = QSPRModel.fromFile(metadata_path)\n",
    "predictor"
   ]
  },
  {
   "cell_type": "markdown",
   "metadata": {
    "collapsed": false
   },
   "source": [
    "The `predictMols` method takes a list of SMILES strings as input and returns a list of predicted bioactivities. The `predictMols` method also makes sure the correct descriptors and preprocessing steps are done for the molecules:"
   ]
  },
  {
   "cell_type": "code",
   "execution_count": 2,
   "metadata": {
    "collapsed": false
   },
   "outputs": [
    {
     "name": "stderr",
     "output_type": "stream",
     "text": [
      "Missing values filled with nan\n",
      "c:\\Users\\helle\\anaconda3\\envs\\qsprpred\\lib\\site-packages\\sklearn\\base.py:413: UserWarning: X has feature names, but StandardScaler was fitted without feature names\n",
      "  warnings.warn(\n"
     ]
    },
    {
     "data": {
      "text/plain": [
       "array([[7.26458602],\n",
       "       [7.87888041]])"
      ]
     },
     "execution_count": 2,
     "metadata": {},
     "output_type": "execute_result"
    }
   ],
   "source": [
    "# predict the mulecules\n",
    "predictor.predictMols([\n",
    "    'CC(=C)C1CC2=C(O1)C=CC3=C2OC4COC5=CC(=C(C=C5C4C3=O)OC)OC', # rotenone\n",
    "    'CCOC(=O)C1=C2CN(C(=O)C3=C(N2C=N1)C=CC(=C3)F)C' # flumazenil\n",
    "])"
   ]
  },
  {
   "cell_type": "markdown",
   "metadata": {
    "collapsed": false
   },
   "source": [
    "Note that it is also possible to load the model with a name and path to the base directory of the model:"
   ]
  },
  {
   "cell_type": "code",
   "execution_count": 4,
   "metadata": {
    "collapsed": false
   },
   "outputs": [
    {
     "name": "stderr",
     "output_type": "stream",
     "text": [
      "Missing values filled with nan\n",
      "c:\\Users\\helle\\anaconda3\\envs\\qsprpred\\lib\\site-packages\\sklearn\\base.py:413: UserWarning: X has feature names, but StandardScaler was fitted without feature names\n",
      "  warnings.warn(\n"
     ]
    },
    {
     "data": {
      "text/plain": [
       "array([[7.26458602],\n",
       "       [7.87888041]])"
      ]
     },
     "execution_count": 4,
     "metadata": {},
     "output_type": "execute_result"
    }
   ],
   "source": [
    "# load model with name and path to base directory\n",
    "from qsprpred.models.sklearn import QSPRsklearn\n",
    "\n",
    "predictor = QSPRsklearn(name='PLS_REG', base_dir='qspr/models')\n",
    "predictor.predictMols([\n",
    "    'CC(=C)C1CC2=C(O1)C=CC3=C2OC4COC5=CC(=C(C=C5C4C3=O)OC)OC', # rotenone\n",
    "    'CCOC(=O)C1=C2CN(C(=O)C3=C(N2C=N1)C=CC(=C3)F)C' # flumazenil\n",
    "])"
   ]
  }
 ],
 "metadata": {
  "kernelspec": {
   "display_name": "qspr",
   "language": "python",
   "name": "python3"
  },
  "language_info": {
   "codemirror_mode": {
    "name": "ipython",
    "version": 3
   },
   "file_extension": ".py",
   "mimetype": "text/x-python",
   "name": "python",
   "nbconvert_exporter": "python",
   "pygments_lexer": "ipython3",
   "version": "3.10.10"
  },
  "vscode": {
   "interpreter": {
    "hash": "eb304cfc50cf47add265a24de432bf9165bd65c807f1caa6895b51873f6e21ac"
   }
  }
 },
 "nbformat": 4,
 "nbformat_minor": 4
}
